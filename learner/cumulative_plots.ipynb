{
 "cells": [
  {
   "cell_type": "code",
   "execution_count": 1,
   "metadata": {},
   "outputs": [],
   "source": [
    "from util.visualise import *"
   ]
  },
  {
   "cell_type": "code",
   "execution_count": 2,
   "metadata": {},
   "outputs": [],
   "source": [
    "pd.options.display.float_format = '{:,.2f}'.format"
   ]
  },
  {
   "cell_type": "code",
   "execution_count": 3,
   "metadata": {},
   "outputs": [
    {
     "data": {
      "text/plain": [
       "'/home/dillon/papers/24-aaai-goose/paper/plots'"
      ]
     },
     "execution_count": 3,
     "metadata": {},
     "output_type": "execute_result"
    }
   ],
   "source": [
    "PAPER_DIR = str(Path.home())+\"/papers/24-aaai-goose/paper\"\n",
    "\n",
    "PLOT_DIR = f\"{PAPER_DIR}/plots\"\n",
    "PLOT_DIR"
   ]
  },
  {
   "cell_type": "code",
   "execution_count": 4,
   "metadata": {},
   "outputs": [],
   "source": [
    "L=4\n",
    "aggr=\"max\"\n",
    "\n",
    "CONFIGS = [\"blind\", \"hff\", \"shgn\", \"sdg-el dd\", \"fdg-el dd\", \"ldg-el dd\", \"sdg-el di\", \"fdg-el di\", \"ldg-el di\"]\n",
    "LINE_STYLES = [CONFIG_TO_LINE_STYLE[config] for config in CONFIGS]\n",
    "COLOURS = [CONFIG_TO_COLOUR[config] for config in CONFIGS]"
   ]
  },
  {
   "attachments": {},
   "cell_type": "markdown",
   "metadata": {},
   "source": [
    "### Cumulative plots"
   ]
  },
  {
   "cell_type": "code",
   "execution_count": 10,
   "metadata": {},
   "outputs": [],
   "source": [
    "df = collect_test_stats_planner_and_graphs(CONFIGS, L, aggr, normalise=True)"
   ]
  },
  {
   "cell_type": "code",
   "execution_count": 11,
   "metadata": {},
   "outputs": [],
   "source": [
    "def plot_cum(df, x, x_label, save_file):\n",
    "    ax = sns.ecdfplot(data=df, x=x, hue=\"config\", hue_order=CONFIGS, stat=\"count\", weights=\"solved\")\n",
    "    for lines, line_style, line_col, legend_handle in zip(ax.lines[::-1], LINE_STYLES, COLOURS, ax.legend_.legendHandles):\n",
    "        lines.set_linestyle(line_style)\n",
    "        lines.set_color(line_col)\n",
    "        legend_handle.set_linestyle(line_style)\n",
    "        legend_handle.set_color(line_col)\n",
    "    plt.xscale(\"log\")\n",
    "    plt.xlabel(x_label)\n",
    "    plt.ylabel('')\n",
    "    if x==\"time\":\n",
    "        plt.xlim(left=1)\n",
    "    plt.tight_layout()\n",
    "    # plt.show()\n",
    "    plt.savefig(f\"{PLOT_DIR}/{save_file.replace('.pdf','')}.pdf\")\n",
    "    plt.clf()"
   ]
  },
  {
   "cell_type": "code",
   "execution_count": 12,
   "metadata": {},
   "outputs": [
    {
     "data": {
      "text/plain": [
       "<Figure size 432x288 with 0 Axes>"
      ]
     },
     "metadata": {},
     "output_type": "display_data"
    }
   ],
   "source": [
    "x = \"time\"\n",
    "x_label = \"time (s)\"\n",
    "\n",
    "for x, x_label in [(\"time\", \"time (s)\"), (\"expanded\", \"expanded nodes\"), (\"cost\", \"plan cost\")]:\n",
    "    plot_cum(df, x, x_label, f\"cumulative-{x}-all\")\n",
    "    for domain in GOOSE_DOMAINS:\n",
    "        df_domain = df.loc[df['domain'] == domain]\n",
    "        plot_cum(df_domain, x, x_label, f\"cumulative-{x}-{domain}\")"
   ]
  },
  {
   "cell_type": "code",
   "execution_count": null,
   "metadata": {},
   "outputs": [],
   "source": []
  }
 ],
 "metadata": {
  "kernelspec": {
   "display_name": "Python 3",
   "language": "python",
   "name": "python3"
  },
  "language_info": {
   "codemirror_mode": {
    "name": "ipython",
    "version": 3
   },
   "file_extension": ".py",
   "mimetype": "text/x-python",
   "name": "python",
   "nbconvert_exporter": "python",
   "pygments_lexer": "ipython3",
   "version": "3.8.10"
  },
  "orig_nbformat": 4
 },
 "nbformat": 4,
 "nbformat_minor": 2
}

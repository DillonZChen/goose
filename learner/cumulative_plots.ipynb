{
 "cells": [
  {
   "cell_type": "code",
   "execution_count": 1,
   "metadata": {},
   "outputs": [],
   "source": [
    "from util.visualise import *"
   ]
  },
  {
   "cell_type": "code",
   "execution_count": 2,
   "metadata": {},
   "outputs": [],
   "source": [
    "pd.options.display.float_format = '{:,.2f}'.format"
   ]
  },
  {
   "cell_type": "code",
   "execution_count": 3,
   "metadata": {},
   "outputs": [
    {
     "data": {
      "text/plain": [
       "'/home/dillon/papers/24-aaai-goose/paper/plots'"
      ]
     },
     "execution_count": 3,
     "metadata": {},
     "output_type": "execute_result"
    }
   ],
   "source": [
    "PAPER_DIR = str(Path.home())+\"/papers/24-aaai-goose/paper\"\n",
    "\n",
    "PLOT_DIR = f\"{PAPER_DIR}/plots\"\n",
    "PLOT_DIR"
   ]
  },
  {
   "cell_type": "code",
   "execution_count": 4,
   "metadata": {},
   "outputs": [],
   "source": [
    "L=4\n",
    "aggr=\"max\"\n",
    "\n",
    "CONFIGS = [\"blind\", \"hff\", \"shgn\", \"sdg-el dd\", \"fdg-el dd\", \"ldg-el dd\", \"sdg-el di\", \"fdg-el di\", \"ldg-el di\"]\n",
    "LINE_STYLES = [CONFIG_TO_LINE_STYLE[config] for config in CONFIGS]\n",
    "COLOURS = [CONFIG_TO_COLOUR[config] for config in CONFIGS]"
   ]
  },
  {
   "cell_type": "code",
   "execution_count": 5,
   "metadata": {},
   "outputs": [],
   "source": [
    "df = collect_test_stats_planner_and_graphs(CONFIGS, L, aggr, normalise=False)"
   ]
  },
  {
   "cell_type": "code",
   "execution_count": 6,
   "metadata": {},
   "outputs": [],
   "source": [
    "# convert back to map then to latex\n",
    "solved = []\n",
    "df_solved = df.drop(columns=[\"expanded\", \"cost\", \"time\"])\n",
    "for domain in GOOSE_DOMAINS:\n",
    "  df_domain_coverage = (df_solved.loc[df['domain'] == domain]).drop(columns=[\"domain\"])\n",
    "  df_domain_coverage = df_domain_coverage.groupby(['config'])['solved'].sum()\n",
    "  df_list = df_domain_coverage.to_numpy()\n",
    "\n",
    "  tmp = {}\n",
    "  for i, config in enumerate(sorted(CONFIGS)):\n",
    "    tmp[config] = df_list[i]\n",
    "  solved_domain = []\n",
    "  for config in CONFIGS:\n",
    "    solved_domain.append(tmp[config])\n",
    "  solved.append(solved_domain)"
   ]
  },
  {
   "cell_type": "code",
   "execution_count": 7,
   "metadata": {},
   "outputs": [
    {
     "data": {
      "text/plain": [
       "[[0, 19, 0, 10, 11, 29, 14, 14, 16],\n",
       " [0, 90, 0, 33, 33, 78, 15, 6, 12],\n",
       " [1, 18, 0, 5, 9, 18, 4, 5, 9],\n",
       " [0, 36, 0, 10, 10, 1, 3, 3, 0],\n",
       " [74, 90, 0, 52, 56, 30, 48, 42, 37],\n",
       " [0, 0, 0, 0, 0, 55, 0, 0, 10],\n",
       " [0, 6, 0, 52, 35, 36, 44, 24, 38],\n",
       " [3, 26, 0, 78, 23, 3, 37, 14, 0]]"
      ]
     },
     "execution_count": 7,
     "metadata": {},
     "output_type": "execute_result"
    }
   ],
   "source": [
    "solved"
   ]
  },
  {
   "cell_type": "code",
   "execution_count": 14,
   "metadata": {},
   "outputs": [],
   "source": [
    "ret  = r\"\\begin{tabular}{\"\n",
    "for _ in range( len(CONFIGS)+1):\n",
    "    ret += \"c \"\n",
    "ret += r\"} \\toprule\" + '\\n'\n",
    "\n",
    "ret += r\"& \\multicolumn{3}{c}{baseline} & \\multicolumn{3}{c}{domain-dep.} & \\multicolumn{3}{c}{domain-ind.} \\\\ \\midrule\" + '\\n'\n",
    "\n",
    "ret += \"& \"\n",
    "for config in CONFIGS:\n",
    "    ret += '\\\\header{' + CONFIG_TO_TEX[config] + '} & '\n",
    "ret = ret[0:len(ret) - 2]\n",
    "ret += r\"\\\\ \\midrule\" + '\\n'\n",
    "\n",
    "\n",
    "\n",
    "for i, domain in enumerate(GOOSE_DOMAINS):\n",
    "    ret += domain + f\" ({len(os.listdir(f'../benchmarks/goose/{domain}/test'))}) & \"\n",
    "    ordered = sorted(solved[i], reverse=True)\n",
    "    for count in solved[i]:\n",
    "        if count == 0:\n",
    "            LIME = ZERO\n",
    "        elif count==ordered[0]:\n",
    "            LIME = FIRST\n",
    "        elif count==ordered[1]:\n",
    "            LIME = SECOND\n",
    "        elif count==ordered[2]:\n",
    "            LIME = THIRD\n",
    "        else:\n",
    "            LIME = CELL\n",
    "        ret += f\"{LIME}{{{count}}}\" + \" & \"\n",
    "    ret = ret[0:len(ret) - 2]\n",
    "    ret += r\"\\\\\" + '\\n'\n",
    "\n",
    "\n",
    "ret += r\"\\bottomrule\\end{tabular}\"\n",
    "\n",
    "f = open(f\"{PAPER_DIR}/tables/coverage.tex\", 'w')\n",
    "f.write(ret)\n",
    "f.close()"
   ]
  },
  {
   "cell_type": "code",
   "execution_count": 9,
   "metadata": {},
   "outputs": [
    {
     "data": {
      "text/html": [
       "<div>\n",
       "<style scoped>\n",
       "    .dataframe tbody tr th:only-of-type {\n",
       "        vertical-align: middle;\n",
       "    }\n",
       "\n",
       "    .dataframe tbody tr th {\n",
       "        vertical-align: top;\n",
       "    }\n",
       "\n",
       "    .dataframe thead th {\n",
       "        text-align: right;\n",
       "    }\n",
       "</style>\n",
       "<table border=\"1\" class=\"dataframe\">\n",
       "  <thead>\n",
       "    <tr style=\"text-align: right;\">\n",
       "      <th></th>\n",
       "      <th>config</th>\n",
       "      <th>solved</th>\n",
       "      <th>expanded</th>\n",
       "      <th>time</th>\n",
       "      <th>cost</th>\n",
       "      <th>domain</th>\n",
       "    </tr>\n",
       "  </thead>\n",
       "  <tbody>\n",
       "    <tr>\n",
       "      <th>0</th>\n",
       "      <td>blind</td>\n",
       "      <td>0</td>\n",
       "      <td>-1</td>\n",
       "      <td>-1.00</td>\n",
       "      <td>-1</td>\n",
       "      <td>blocks</td>\n",
       "    </tr>\n",
       "    <tr>\n",
       "      <th>1</th>\n",
       "      <td>hff</td>\n",
       "      <td>0</td>\n",
       "      <td>-1</td>\n",
       "      <td>-1.00</td>\n",
       "      <td>-1</td>\n",
       "      <td>blocks</td>\n",
       "    </tr>\n",
       "    <tr>\n",
       "      <th>2</th>\n",
       "      <td>shgn</td>\n",
       "      <td>0</td>\n",
       "      <td>-1</td>\n",
       "      <td>-1.00</td>\n",
       "      <td>-1</td>\n",
       "      <td>blocks</td>\n",
       "    </tr>\n",
       "    <tr>\n",
       "      <th>3</th>\n",
       "      <td>ldg-el dd</td>\n",
       "      <td>1</td>\n",
       "      <td>1211</td>\n",
       "      <td>44.82</td>\n",
       "      <td>138</td>\n",
       "      <td>blocks</td>\n",
       "    </tr>\n",
       "    <tr>\n",
       "      <th>4</th>\n",
       "      <td>ldg-el di</td>\n",
       "      <td>0</td>\n",
       "      <td>-1</td>\n",
       "      <td>-1.00</td>\n",
       "      <td>-1</td>\n",
       "      <td>blocks</td>\n",
       "    </tr>\n",
       "    <tr>\n",
       "      <th>...</th>\n",
       "      <td>...</td>\n",
       "      <td>...</td>\n",
       "      <td>...</td>\n",
       "      <td>...</td>\n",
       "      <td>...</td>\n",
       "      <td>...</td>\n",
       "    </tr>\n",
       "    <tr>\n",
       "      <th>3657</th>\n",
       "      <td>sdg-el dd</td>\n",
       "      <td>1</td>\n",
       "      <td>598</td>\n",
       "      <td>3.26</td>\n",
       "      <td>265</td>\n",
       "      <td>visitsome</td>\n",
       "    </tr>\n",
       "    <tr>\n",
       "      <th>3658</th>\n",
       "      <td>fdg-el dd</td>\n",
       "      <td>1</td>\n",
       "      <td>26779</td>\n",
       "      <td>106.07</td>\n",
       "      <td>1117</td>\n",
       "      <td>visitsome</td>\n",
       "    </tr>\n",
       "    <tr>\n",
       "      <th>3659</th>\n",
       "      <td>ldg-el dd</td>\n",
       "      <td>0</td>\n",
       "      <td>-1</td>\n",
       "      <td>-1.00</td>\n",
       "      <td>-1</td>\n",
       "      <td>visitsome</td>\n",
       "    </tr>\n",
       "    <tr>\n",
       "      <th>3660</th>\n",
       "      <td>sdg-el di</td>\n",
       "      <td>1</td>\n",
       "      <td>1078</td>\n",
       "      <td>5.13</td>\n",
       "      <td>281</td>\n",
       "      <td>visitsome</td>\n",
       "    </tr>\n",
       "    <tr>\n",
       "      <th>3661</th>\n",
       "      <td>fdg-el di</td>\n",
       "      <td>1</td>\n",
       "      <td>92791</td>\n",
       "      <td>381.86</td>\n",
       "      <td>759</td>\n",
       "      <td>visitsome</td>\n",
       "    </tr>\n",
       "  </tbody>\n",
       "</table>\n",
       "<p>3662 rows × 6 columns</p>\n",
       "</div>"
      ],
      "text/plain": [
       "         config  solved  expanded   time  cost     domain\n",
       "0         blind       0        -1  -1.00    -1     blocks\n",
       "1           hff       0        -1  -1.00    -1     blocks\n",
       "2          shgn       0        -1  -1.00    -1     blocks\n",
       "3     ldg-el dd       1      1211  44.82   138     blocks\n",
       "4     ldg-el di       0        -1  -1.00    -1     blocks\n",
       "...         ...     ...       ...    ...   ...        ...\n",
       "3657  sdg-el dd       1       598   3.26   265  visitsome\n",
       "3658  fdg-el dd       1     26779 106.07  1117  visitsome\n",
       "3659  ldg-el dd       0        -1  -1.00    -1  visitsome\n",
       "3660  sdg-el di       1      1078   5.13   281  visitsome\n",
       "3661  fdg-el di       1     92791 381.86   759  visitsome\n",
       "\n",
       "[3662 rows x 6 columns]"
      ]
     },
     "execution_count": 9,
     "metadata": {},
     "output_type": "execute_result"
    }
   ],
   "source": [
    "df"
   ]
  },
  {
   "attachments": {},
   "cell_type": "markdown",
   "metadata": {},
   "source": [
    "### Cumulative plots"
   ]
  },
  {
   "cell_type": "code",
   "execution_count": 10,
   "metadata": {},
   "outputs": [],
   "source": [
    "df = collect_test_stats_planner_and_graphs(CONFIGS, L, aggr, normalise=True)"
   ]
  },
  {
   "cell_type": "code",
   "execution_count": 11,
   "metadata": {},
   "outputs": [],
   "source": [
    "def plot_cum(df, x, x_label, save_file):\n",
    "    ax = sns.ecdfplot(data=df, x=x, hue=\"config\", hue_order=CONFIGS, stat=\"count\", weights=\"solved\")\n",
    "    for lines, line_style, line_col, legend_handle in zip(ax.lines[::-1], LINE_STYLES, COLOURS, ax.legend_.legendHandles):\n",
    "        lines.set_linestyle(line_style)\n",
    "        lines.set_color(line_col)\n",
    "        legend_handle.set_linestyle(line_style)\n",
    "        legend_handle.set_color(line_col)\n",
    "    plt.xscale(\"log\")\n",
    "    plt.xlabel(x_label)\n",
    "    plt.ylabel('')\n",
    "    if x==\"time\":\n",
    "        plt.xlim(left=1)\n",
    "    plt.tight_layout()\n",
    "    # plt.show()\n",
    "    plt.savefig(f\"{PLOT_DIR}/{save_file.replace('.pdf','')}.pdf\")\n",
    "    plt.clf()"
   ]
  },
  {
   "cell_type": "code",
   "execution_count": 12,
   "metadata": {},
   "outputs": [
    {
     "data": {
      "text/plain": [
       "<Figure size 432x288 with 0 Axes>"
      ]
     },
     "metadata": {},
     "output_type": "display_data"
    }
   ],
   "source": [
    "x = \"time\"\n",
    "x_label = \"time (s)\"\n",
    "\n",
    "for x, x_label in [(\"time\", \"time (s)\"), (\"expanded\", \"expanded nodes\"), (\"cost\", \"plan cost\")]:\n",
    "    plot_cum(df, x, x_label, f\"cumulative-{x}-all\")\n",
    "    for domain in GOOSE_DOMAINS:\n",
    "        df_domain = df.loc[df['domain'] == domain]\n",
    "        plot_cum(df_domain, x, x_label, f\"cumulative-{x}-{domain}\")"
   ]
  },
  {
   "cell_type": "code",
   "execution_count": null,
   "metadata": {},
   "outputs": [],
   "source": []
  }
 ],
 "metadata": {
  "kernelspec": {
   "display_name": "Python 3",
   "language": "python",
   "name": "python3"
  },
  "language_info": {
   "codemirror_mode": {
    "name": "ipython",
    "version": 3
   },
   "file_extension": ".py",
   "mimetype": "text/x-python",
   "name": "python",
   "nbconvert_exporter": "python",
   "pygments_lexer": "ipython3",
   "version": "3.8.10"
  },
  "orig_nbformat": 4
 },
 "nbformat": 4,
 "nbformat_minor": 2
}

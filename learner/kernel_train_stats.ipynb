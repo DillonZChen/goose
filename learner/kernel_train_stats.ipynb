{
 "cells": [
  {
   "cell_type": "code",
   "execution_count": 1,
   "metadata": {},
   "outputs": [],
   "source": [
    "import matplotlib.pyplot as plt\n",
    "import os\n",
    "import pandas as pd\n",
    "import numpy as np\n",
    "import itertools\n",
    "from util.save_load import load_kernel_model\n",
    "from dataset.graphs_kernel import get_graph_data\n",
    "from kernels.wrapper import MODELS, KernelModelWrapper\n",
    "from dataset.ipc2023_learning_domain_info import IPC2023_LEARNING_DOMAINS, get_number_of_ipc2023_training_data\n",
    "from itertools import product\n",
    "from IPython.display import display, HTML"
   ]
  },
  {
   "cell_type": "code",
   "execution_count": 36,
   "metadata": {},
   "outputs": [],
   "source": [
    "_LOG_DIR = \"logs/train_kernel\"\n",
    "\n",
    "ITERATIONS = [1, 2, 3, 4, 5]\n",
    "\n",
    "PRUNE_COEFS = [0, 1, 2, 3, 4, 5]\n",
    "\n",
    "N_TRAINING_DATA = get_number_of_ipc2023_training_data()"
   ]
  },
  {
   "cell_type": "markdown",
   "metadata": {},
   "source": [
    "### Train metrics"
   ]
  },
  {
   "cell_type": "code",
   "execution_count": 59,
   "metadata": {},
   "outputs": [],
   "source": [
    "def get_data(domain):\n",
    "  d = {\n",
    "    \"config\": [],\n",
    "    \"mse\": [],\n",
    "    \"f1\": [],\n",
    "    \"nonzero_weights\": [],\n",
    "  }\n",
    "\n",
    "  CONFIGS = list(product(MODELS, ITERATIONS, PRUNE_COEFS))\n",
    "  for config in CONFIGS:\n",
    "    model, iterations, prune = config\n",
    "    log_file = \"_\".join([model, \"llg\", \"ipc2023-learning-\"+domain, \"wl\", str(iterations), str(prune*iterations)])+\".log\"\n",
    "    log_file = _LOG_DIR + \"/\" + log_file\n",
    "    \n",
    "    if not os.path.exists(log_file):\n",
    "      continue\n",
    "\n",
    "    stats = {\n",
    "      \"config\": \"_\".join([model, \"wl\", str(iterations), str(prune*iterations)])\n",
    "    }\n",
    "\n",
    "    lines = list(open(log_file, 'r').readlines())\n",
    "    for line in lines:\n",
    "      toks = line.split()\n",
    "      if \"train_mse\" in line:\n",
    "        stats[\"mse\"] = float(toks[-1])\n",
    "      elif \"train_f1_macro\" in line:\n",
    "        stats[\"f1\"] = float(toks[-1])\n",
    "      elif \"zero_weights\" in line:\n",
    "        weights = int(toks[1].split('/')[1])\n",
    "        zeros = int(toks[1].split('/')[0])\n",
    "        stats[\"nonzero_weights\"] = weights - zeros\n",
    "    \n",
    "    if \"nonzero_weights\" not in stats:\n",
    "      stats[\"nonzero_weights\"] = \"na\"\n",
    "\n",
    "    if len(stats) != len(d):\n",
    "      continue\n",
    "\n",
    "    for key in stats:\n",
    "      d[key].append(stats[key])\n",
    "\n",
    "  return d\n",
    "\n",
    "def get_df(domain):\n",
    "  d = get_data(domain)\n",
    "  return pd.DataFrame(d)"
   ]
  },
  {
   "cell_type": "code",
   "execution_count": 60,
   "metadata": {},
   "outputs": [
    {
     "name": "stdout",
     "output_type": "stream",
     "text": [
      "blocksworld 4954\n"
     ]
    },
    {
     "data": {
      "text/html": [
       "<div>\n",
       "<style scoped>\n",
       "    .dataframe tbody tr th:only-of-type {\n",
       "        vertical-align: middle;\n",
       "    }\n",
       "\n",
       "    .dataframe tbody tr th {\n",
       "        vertical-align: top;\n",
       "    }\n",
       "\n",
       "    .dataframe thead th {\n",
       "        text-align: right;\n",
       "    }\n",
       "</style>\n",
       "<table border=\"1\" class=\"dataframe\">\n",
       "  <thead>\n",
       "    <tr style=\"text-align: right;\">\n",
       "      <th></th>\n",
       "      <th>config</th>\n",
       "      <th>mse</th>\n",
       "      <th>f1</th>\n",
       "      <th>nonzero_weights</th>\n",
       "    </tr>\n",
       "  </thead>\n",
       "  <tbody>\n",
       "    <tr>\n",
       "      <th>0</th>\n",
       "      <td>linear-svr_wl_1_0</td>\n",
       "      <td>0.32</td>\n",
       "      <td>0.45</td>\n",
       "      <td>6150</td>\n",
       "    </tr>\n",
       "    <tr>\n",
       "      <th>1</th>\n",
       "      <td>linear-svr_wl_1_1</td>\n",
       "      <td>0.62</td>\n",
       "      <td>0.42</td>\n",
       "      <td>5268</td>\n",
       "    </tr>\n",
       "    <tr>\n",
       "      <th>2</th>\n",
       "      <td>linear-svr_wl_1_2</td>\n",
       "      <td>0.65</td>\n",
       "      <td>0.45</td>\n",
       "      <td>1887</td>\n",
       "    </tr>\n",
       "    <tr>\n",
       "      <th>3</th>\n",
       "      <td>linear-svr_wl_1_3</td>\n",
       "      <td>0.58</td>\n",
       "      <td>0.42</td>\n",
       "      <td>1644</td>\n",
       "    </tr>\n",
       "    <tr>\n",
       "      <th>4</th>\n",
       "      <td>linear-svr_wl_1_4</td>\n",
       "      <td>0.68</td>\n",
       "      <td>0.36</td>\n",
       "      <td>584</td>\n",
       "    </tr>\n",
       "    <tr>\n",
       "      <th>5</th>\n",
       "      <td>linear-svr_wl_1_5</td>\n",
       "      <td>0.60</td>\n",
       "      <td>0.37</td>\n",
       "      <td>543</td>\n",
       "    </tr>\n",
       "    <tr>\n",
       "      <th>6</th>\n",
       "      <td>linear-svr_wl_3_0</td>\n",
       "      <td>0.06</td>\n",
       "      <td>0.99</td>\n",
       "      <td>419878</td>\n",
       "    </tr>\n",
       "    <tr>\n",
       "      <th>7</th>\n",
       "      <td>linear-svr_wl_3_3</td>\n",
       "      <td>0.06</td>\n",
       "      <td>0.99</td>\n",
       "      <td>78437</td>\n",
       "    </tr>\n",
       "    <tr>\n",
       "      <th>8</th>\n",
       "      <td>linear-svr_wl_3_6</td>\n",
       "      <td>0.07</td>\n",
       "      <td>0.98</td>\n",
       "      <td>40158</td>\n",
       "    </tr>\n",
       "    <tr>\n",
       "      <th>9</th>\n",
       "      <td>linear-svr_wl_3_9</td>\n",
       "      <td>0.10</td>\n",
       "      <td>0.97</td>\n",
       "      <td>27476</td>\n",
       "    </tr>\n",
       "    <tr>\n",
       "      <th>10</th>\n",
       "      <td>linear-svr_wl_3_12</td>\n",
       "      <td>0.18</td>\n",
       "      <td>0.94</td>\n",
       "      <td>18014</td>\n",
       "    </tr>\n",
       "    <tr>\n",
       "      <th>11</th>\n",
       "      <td>linear-svr_wl_3_15</td>\n",
       "      <td>0.24</td>\n",
       "      <td>0.89</td>\n",
       "      <td>12613</td>\n",
       "    </tr>\n",
       "    <tr>\n",
       "      <th>12</th>\n",
       "      <td>linear-svr_wl_5_5</td>\n",
       "      <td>0.05</td>\n",
       "      <td>0.99</td>\n",
       "      <td>96921</td>\n",
       "    </tr>\n",
       "    <tr>\n",
       "      <th>13</th>\n",
       "      <td>linear-svr_wl_5_10</td>\n",
       "      <td>0.13</td>\n",
       "      <td>0.97</td>\n",
       "      <td>43068</td>\n",
       "    </tr>\n",
       "    <tr>\n",
       "      <th>14</th>\n",
       "      <td>linear-svr_wl_5_15</td>\n",
       "      <td>0.19</td>\n",
       "      <td>0.91</td>\n",
       "      <td>19874</td>\n",
       "    </tr>\n",
       "    <tr>\n",
       "      <th>15</th>\n",
       "      <td>linear-svr_wl_5_20</td>\n",
       "      <td>0.29</td>\n",
       "      <td>0.78</td>\n",
       "      <td>10712</td>\n",
       "    </tr>\n",
       "    <tr>\n",
       "      <th>16</th>\n",
       "      <td>linear-svr_wl_5_25</td>\n",
       "      <td>0.50</td>\n",
       "      <td>0.50</td>\n",
       "      <td>7736</td>\n",
       "    </tr>\n",
       "  </tbody>\n",
       "</table>\n",
       "</div>"
      ],
      "text/plain": [
       "                config   mse    f1  nonzero_weights\n",
       "0    linear-svr_wl_1_0  0.32  0.45             6150\n",
       "1    linear-svr_wl_1_1  0.62  0.42             5268\n",
       "2    linear-svr_wl_1_2  0.65  0.45             1887\n",
       "3    linear-svr_wl_1_3  0.58  0.42             1644\n",
       "4    linear-svr_wl_1_4  0.68  0.36              584\n",
       "5    linear-svr_wl_1_5  0.60  0.37              543\n",
       "6    linear-svr_wl_3_0  0.06  0.99           419878\n",
       "7    linear-svr_wl_3_3  0.06  0.99            78437\n",
       "8    linear-svr_wl_3_6  0.07  0.98            40158\n",
       "9    linear-svr_wl_3_9  0.10  0.97            27476\n",
       "10  linear-svr_wl_3_12  0.18  0.94            18014\n",
       "11  linear-svr_wl_3_15  0.24  0.89            12613\n",
       "12   linear-svr_wl_5_5  0.05  0.99            96921\n",
       "13  linear-svr_wl_5_10  0.13  0.97            43068\n",
       "14  linear-svr_wl_5_15  0.19  0.91            19874\n",
       "15  linear-svr_wl_5_20  0.29  0.78            10712\n",
       "16  linear-svr_wl_5_25  0.50  0.50             7736"
      ]
     },
     "metadata": {},
     "output_type": "display_data"
    },
    {
     "name": "stdout",
     "output_type": "stream",
     "text": [
      "childsnack 2148\n"
     ]
    },
    {
     "data": {
      "text/html": [
       "<div>\n",
       "<style scoped>\n",
       "    .dataframe tbody tr th:only-of-type {\n",
       "        vertical-align: middle;\n",
       "    }\n",
       "\n",
       "    .dataframe tbody tr th {\n",
       "        vertical-align: top;\n",
       "    }\n",
       "\n",
       "    .dataframe thead th {\n",
       "        text-align: right;\n",
       "    }\n",
       "</style>\n",
       "<table border=\"1\" class=\"dataframe\">\n",
       "  <thead>\n",
       "    <tr style=\"text-align: right;\">\n",
       "      <th></th>\n",
       "      <th>config</th>\n",
       "      <th>mse</th>\n",
       "      <th>f1</th>\n",
       "      <th>nonzero_weights</th>\n",
       "    </tr>\n",
       "  </thead>\n",
       "  <tbody>\n",
       "  </tbody>\n",
       "</table>\n",
       "</div>"
      ],
      "text/plain": [
       "Empty DataFrame\n",
       "Columns: [config, mse, f1, nonzero_weights]\n",
       "Index: []"
      ]
     },
     "metadata": {},
     "output_type": "display_data"
    },
    {
     "name": "stdout",
     "output_type": "stream",
     "text": [
      "ferry 3662\n"
     ]
    },
    {
     "data": {
      "text/html": [
       "<div>\n",
       "<style scoped>\n",
       "    .dataframe tbody tr th:only-of-type {\n",
       "        vertical-align: middle;\n",
       "    }\n",
       "\n",
       "    .dataframe tbody tr th {\n",
       "        vertical-align: top;\n",
       "    }\n",
       "\n",
       "    .dataframe thead th {\n",
       "        text-align: right;\n",
       "    }\n",
       "</style>\n",
       "<table border=\"1\" class=\"dataframe\">\n",
       "  <thead>\n",
       "    <tr style=\"text-align: right;\">\n",
       "      <th></th>\n",
       "      <th>config</th>\n",
       "      <th>mse</th>\n",
       "      <th>f1</th>\n",
       "      <th>nonzero_weights</th>\n",
       "    </tr>\n",
       "  </thead>\n",
       "  <tbody>\n",
       "  </tbody>\n",
       "</table>\n",
       "</div>"
      ],
      "text/plain": [
       "Empty DataFrame\n",
       "Columns: [config, mse, f1, nonzero_weights]\n",
       "Index: []"
      ]
     },
     "metadata": {},
     "output_type": "display_data"
    },
    {
     "name": "stdout",
     "output_type": "stream",
     "text": [
      "floortile 8351\n"
     ]
    },
    {
     "data": {
      "text/html": [
       "<div>\n",
       "<style scoped>\n",
       "    .dataframe tbody tr th:only-of-type {\n",
       "        vertical-align: middle;\n",
       "    }\n",
       "\n",
       "    .dataframe tbody tr th {\n",
       "        vertical-align: top;\n",
       "    }\n",
       "\n",
       "    .dataframe thead th {\n",
       "        text-align: right;\n",
       "    }\n",
       "</style>\n",
       "<table border=\"1\" class=\"dataframe\">\n",
       "  <thead>\n",
       "    <tr style=\"text-align: right;\">\n",
       "      <th></th>\n",
       "      <th>config</th>\n",
       "      <th>mse</th>\n",
       "      <th>f1</th>\n",
       "      <th>nonzero_weights</th>\n",
       "    </tr>\n",
       "  </thead>\n",
       "  <tbody>\n",
       "  </tbody>\n",
       "</table>\n",
       "</div>"
      ],
      "text/plain": [
       "Empty DataFrame\n",
       "Columns: [config, mse, f1, nonzero_weights]\n",
       "Index: []"
      ]
     },
     "metadata": {},
     "output_type": "display_data"
    },
    {
     "name": "stdout",
     "output_type": "stream",
     "text": [
      "miconic 1630\n"
     ]
    },
    {
     "data": {
      "text/html": [
       "<div>\n",
       "<style scoped>\n",
       "    .dataframe tbody tr th:only-of-type {\n",
       "        vertical-align: middle;\n",
       "    }\n",
       "\n",
       "    .dataframe tbody tr th {\n",
       "        vertical-align: top;\n",
       "    }\n",
       "\n",
       "    .dataframe thead th {\n",
       "        text-align: right;\n",
       "    }\n",
       "</style>\n",
       "<table border=\"1\" class=\"dataframe\">\n",
       "  <thead>\n",
       "    <tr style=\"text-align: right;\">\n",
       "      <th></th>\n",
       "      <th>config</th>\n",
       "      <th>mse</th>\n",
       "      <th>f1</th>\n",
       "      <th>nonzero_weights</th>\n",
       "    </tr>\n",
       "  </thead>\n",
       "  <tbody>\n",
       "  </tbody>\n",
       "</table>\n",
       "</div>"
      ],
      "text/plain": [
       "Empty DataFrame\n",
       "Columns: [config, mse, f1, nonzero_weights]\n",
       "Index: []"
      ]
     },
     "metadata": {},
     "output_type": "display_data"
    },
    {
     "name": "stdout",
     "output_type": "stream",
     "text": [
      "rovers 4623\n"
     ]
    },
    {
     "data": {
      "text/html": [
       "<div>\n",
       "<style scoped>\n",
       "    .dataframe tbody tr th:only-of-type {\n",
       "        vertical-align: middle;\n",
       "    }\n",
       "\n",
       "    .dataframe tbody tr th {\n",
       "        vertical-align: top;\n",
       "    }\n",
       "\n",
       "    .dataframe thead th {\n",
       "        text-align: right;\n",
       "    }\n",
       "</style>\n",
       "<table border=\"1\" class=\"dataframe\">\n",
       "  <thead>\n",
       "    <tr style=\"text-align: right;\">\n",
       "      <th></th>\n",
       "      <th>config</th>\n",
       "      <th>mse</th>\n",
       "      <th>f1</th>\n",
       "      <th>nonzero_weights</th>\n",
       "    </tr>\n",
       "  </thead>\n",
       "  <tbody>\n",
       "  </tbody>\n",
       "</table>\n",
       "</div>"
      ],
      "text/plain": [
       "Empty DataFrame\n",
       "Columns: [config, mse, f1, nonzero_weights]\n",
       "Index: []"
      ]
     },
     "metadata": {},
     "output_type": "display_data"
    },
    {
     "name": "stdout",
     "output_type": "stream",
     "text": [
      "satellite 26919\n"
     ]
    },
    {
     "data": {
      "text/html": [
       "<div>\n",
       "<style scoped>\n",
       "    .dataframe tbody tr th:only-of-type {\n",
       "        vertical-align: middle;\n",
       "    }\n",
       "\n",
       "    .dataframe tbody tr th {\n",
       "        vertical-align: top;\n",
       "    }\n",
       "\n",
       "    .dataframe thead th {\n",
       "        text-align: right;\n",
       "    }\n",
       "</style>\n",
       "<table border=\"1\" class=\"dataframe\">\n",
       "  <thead>\n",
       "    <tr style=\"text-align: right;\">\n",
       "      <th></th>\n",
       "      <th>config</th>\n",
       "      <th>mse</th>\n",
       "      <th>f1</th>\n",
       "      <th>nonzero_weights</th>\n",
       "    </tr>\n",
       "  </thead>\n",
       "  <tbody>\n",
       "  </tbody>\n",
       "</table>\n",
       "</div>"
      ],
      "text/plain": [
       "Empty DataFrame\n",
       "Columns: [config, mse, f1, nonzero_weights]\n",
       "Index: []"
      ]
     },
     "metadata": {},
     "output_type": "display_data"
    },
    {
     "name": "stdout",
     "output_type": "stream",
     "text": [
      "sokoban 2422\n"
     ]
    },
    {
     "data": {
      "text/html": [
       "<div>\n",
       "<style scoped>\n",
       "    .dataframe tbody tr th:only-of-type {\n",
       "        vertical-align: middle;\n",
       "    }\n",
       "\n",
       "    .dataframe tbody tr th {\n",
       "        vertical-align: top;\n",
       "    }\n",
       "\n",
       "    .dataframe thead th {\n",
       "        text-align: right;\n",
       "    }\n",
       "</style>\n",
       "<table border=\"1\" class=\"dataframe\">\n",
       "  <thead>\n",
       "    <tr style=\"text-align: right;\">\n",
       "      <th></th>\n",
       "      <th>config</th>\n",
       "      <th>mse</th>\n",
       "      <th>f1</th>\n",
       "      <th>nonzero_weights</th>\n",
       "    </tr>\n",
       "  </thead>\n",
       "  <tbody>\n",
       "  </tbody>\n",
       "</table>\n",
       "</div>"
      ],
      "text/plain": [
       "Empty DataFrame\n",
       "Columns: [config, mse, f1, nonzero_weights]\n",
       "Index: []"
      ]
     },
     "metadata": {},
     "output_type": "display_data"
    },
    {
     "name": "stdout",
     "output_type": "stream",
     "text": [
      "spanner 1416\n"
     ]
    },
    {
     "data": {
      "text/html": [
       "<div>\n",
       "<style scoped>\n",
       "    .dataframe tbody tr th:only-of-type {\n",
       "        vertical-align: middle;\n",
       "    }\n",
       "\n",
       "    .dataframe tbody tr th {\n",
       "        vertical-align: top;\n",
       "    }\n",
       "\n",
       "    .dataframe thead th {\n",
       "        text-align: right;\n",
       "    }\n",
       "</style>\n",
       "<table border=\"1\" class=\"dataframe\">\n",
       "  <thead>\n",
       "    <tr style=\"text-align: right;\">\n",
       "      <th></th>\n",
       "      <th>config</th>\n",
       "      <th>mse</th>\n",
       "      <th>f1</th>\n",
       "      <th>nonzero_weights</th>\n",
       "    </tr>\n",
       "  </thead>\n",
       "  <tbody>\n",
       "  </tbody>\n",
       "</table>\n",
       "</div>"
      ],
      "text/plain": [
       "Empty DataFrame\n",
       "Columns: [config, mse, f1, nonzero_weights]\n",
       "Index: []"
      ]
     },
     "metadata": {},
     "output_type": "display_data"
    },
    {
     "name": "stdout",
     "output_type": "stream",
     "text": [
      "transport 4316\n"
     ]
    },
    {
     "data": {
      "text/html": [
       "<div>\n",
       "<style scoped>\n",
       "    .dataframe tbody tr th:only-of-type {\n",
       "        vertical-align: middle;\n",
       "    }\n",
       "\n",
       "    .dataframe tbody tr th {\n",
       "        vertical-align: top;\n",
       "    }\n",
       "\n",
       "    .dataframe thead th {\n",
       "        text-align: right;\n",
       "    }\n",
       "</style>\n",
       "<table border=\"1\" class=\"dataframe\">\n",
       "  <thead>\n",
       "    <tr style=\"text-align: right;\">\n",
       "      <th></th>\n",
       "      <th>config</th>\n",
       "      <th>mse</th>\n",
       "      <th>f1</th>\n",
       "      <th>nonzero_weights</th>\n",
       "    </tr>\n",
       "  </thead>\n",
       "  <tbody>\n",
       "  </tbody>\n",
       "</table>\n",
       "</div>"
      ],
      "text/plain": [
       "Empty DataFrame\n",
       "Columns: [config, mse, f1, nonzero_weights]\n",
       "Index: []"
      ]
     },
     "metadata": {},
     "output_type": "display_data"
    }
   ],
   "source": [
    "for domain in IPC2023_LEARNING_DOMAINS:\n",
    "  print(domain, N_TRAINING_DATA[domain])\n",
    "  df = get_df(domain)\n",
    "  display(df)"
   ]
  },
  {
   "cell_type": "markdown",
   "metadata": {},
   "source": [
    "### WL metrics"
   ]
  },
  {
   "cell_type": "code",
   "execution_count": 37,
   "metadata": {},
   "outputs": [],
   "source": [
    "def get_models(domain):\n",
    "  d = {}\n",
    "\n",
    "  for iterations, prune in itertools.product(ITERATIONS, PRUNE_COEFS):\n",
    "    model = \"linear-svr\"\n",
    "    log_file = \"_\".join([model, \"llg\", \"ipc2023-learning-\"+domain, \"wl\", str(iterations), str(prune*iterations)])+\".log\"\n",
    "    log_file = _LOG_DIR + \"/\" + log_file\n",
    "    \n",
    "    if not os.path.exists(log_file):\n",
    "      continue\n",
    "      \n",
    "    print(domain, iterations, prune)\n",
    "    \n",
    "    model_file = None\n",
    "    for line in list(open(log_file, 'r').readlines()):\n",
    "      toks = line.split()\n",
    "      if \"Model parameter file:\" in line and len(toks)>3:\n",
    "        model_file = line.split()[-1]\n",
    "        break\n",
    "    \n",
    "    if model_file is None:\n",
    "      continue\n",
    "    model : KernelModelWrapper = load_kernel_model(model_file)[0]\n",
    "    d[(iterations, prune)] = model\n",
    "\n",
    "  return d"
   ]
  },
  {
   "cell_type": "code",
   "execution_count": 38,
   "metadata": {},
   "outputs": [
    {
     "name": "stdout",
     "output_type": "stream",
     "text": [
      "blocksworld 4954\n",
      "blocksworld 1 0\n"
     ]
    },
    {
     "name": "stderr",
     "output_type": "stream",
     "text": [
      "/home/dillon/.conda/envs/torch/lib/python3.10/site-packages/sklearn/base.py:288: UserWarning: Trying to unpickle estimator LinearSVR from version 1.3.0 when using version 1.2.0. This might lead to breaking code or invalid results. Use at your own risk. For more info please refer to:\n",
      "https://scikit-learn.org/stable/model_persistence.html#security-maintainability-limitations\n",
      "  warnings.warn(\n"
     ]
    },
    {
     "name": "stdout",
     "output_type": "stream",
     "text": [
      "blocksworld 1 1\n",
      "blocksworld 1 2\n",
      "blocksworld 1 3\n",
      "blocksworld 1 4\n",
      "blocksworld 1 5\n",
      "blocksworld 3 0\n",
      "blocksworld 3 1\n",
      "blocksworld 3 2\n",
      "blocksworld 3 3\n",
      "blocksworld 3 4\n",
      "blocksworld 3 5\n",
      "blocksworld 5 0\n",
      "blocksworld 5 1\n",
      "blocksworld 5 2\n",
      "blocksworld 5 3\n",
      "blocksworld 5 4\n",
      "blocksworld 5 5\n",
      "childsnack 2148\n",
      "ferry 3662\n",
      "floortile 8351\n",
      "miconic 1630\n",
      "rovers 4623\n",
      "satellite 26919\n",
      "sokoban 2422\n",
      "spanner 1416\n",
      "transport 4316\n"
     ]
    }
   ],
   "source": [
    "# load all models\n",
    "model_domain = {}\n",
    "for domain in IPC2023_LEARNING_DOMAINS:\n",
    "  print(domain, N_TRAINING_DATA[domain])\n",
    "  models = get_models(domain)\n",
    "  model_domain[domain] = models"
   ]
  },
  {
   "cell_type": "code",
   "execution_count": 8,
   "metadata": {},
   "outputs": [],
   "source": []
  },
  {
   "cell_type": "code",
   "execution_count": 28,
   "metadata": {},
   "outputs": [
    {
     "data": {
      "text/plain": [
       "<Figure size 640x480 with 0 Axes>"
      ]
     },
     "metadata": {},
     "output_type": "display_data"
    }
   ],
   "source": [
    "domain = \"blocksworld\"\n",
    "os.makedirs(\"plots\", exist_ok=True)\n",
    "for iterations, prune in itertools.product(ITERATIONS, PRUNE_COEFS):\n",
    "  try:\n",
    "    prune = iterations * prune\n",
    "    m = model_domain[domain][(iterations, prune)]\n",
    "    h = m.get_hash()\n",
    "    n_colours = len(m.get_hash())\n",
    "    hist = np.zeros(n_colours)\n",
    "    for col, cnt in m._kernel._train_histogram.items():\n",
    "      key = str(col)\n",
    "      for symbol in [\")\", \"(\", \" \"]:\n",
    "        key = key.replace(symbol, \"\")\n",
    "      if key not in h:\n",
    "        continue\n",
    "      c = h[key]\n",
    "      hist[c] += cnt\n",
    "    hist = sorted(hist, reverse=True)\n",
    "    bins = np.arange(len(hist)+1)\n",
    "    plt.hist(bins[:-1], bins, weights=hist, log=True)\n",
    "    plt.savefig(f\"plots/wl_count_{domain}_{iterations}_{prune}_{n_colours}.png\")\n",
    "    plt.clf()\n",
    "  except:\n",
    "    pass"
   ]
  },
  {
   "cell_type": "code",
   "execution_count": 48,
   "metadata": {},
   "outputs": [],
   "source": [
    "domain=\"blocksworld\"\n",
    "iterations=1\n",
    "prune=0\n",
    "m = model_domain[domain][(iterations, prune)]\n",
    "h1 = m.get_hash()"
   ]
  },
  {
   "cell_type": "code",
   "execution_count": 49,
   "metadata": {},
   "outputs": [],
   "source": [
    "domain=\"blocksworld\"\n",
    "iterations=5\n",
    "prune=5\n",
    "m = model_domain[domain][(iterations, prune)]\n",
    "h2 = m.get_hash()"
   ]
  },
  {
   "cell_type": "code",
   "execution_count": 53,
   "metadata": {},
   "outputs": [
    {
     "name": "stdout",
     "output_type": "stream",
     "text": [
      "200 6219 7743\n"
     ]
    }
   ],
   "source": [
    "common_colours = set(h1.keys()).intersection(set(h2.keys()))\n",
    "print(len(common_colours), len(h1), len(h2))"
   ]
  },
  {
   "cell_type": "code",
   "execution_count": 41,
   "metadata": {},
   "outputs": [
    {
     "data": {
      "text/plain": [
       "{(1, 0): <kernels.wrapper.KernelModelWrapper at 0x7fa3ab09c730>,\n",
       " (1, 1): <kernels.wrapper.KernelModelWrapper at 0x7fa3ab09c3d0>,\n",
       " (1, 2): <kernels.wrapper.KernelModelWrapper at 0x7fa3e44b9f60>,\n",
       " (1, 3): <kernels.wrapper.KernelModelWrapper at 0x7fa3ab09f0d0>,\n",
       " (1, 4): <kernels.wrapper.KernelModelWrapper at 0x7fa3a46109d0>,\n",
       " (1, 5): <kernels.wrapper.KernelModelWrapper at 0x7fa3a4611e70>,\n",
       " (3, 0): <kernels.wrapper.KernelModelWrapper at 0x7fa3a47ecd30>,\n",
       " (3, 1): <kernels.wrapper.KernelModelWrapper at 0x7fa3a46133d0>,\n",
       " (3, 2): <kernels.wrapper.KernelModelWrapper at 0x7fa3a47ee410>,\n",
       " (3, 3): <kernels.wrapper.KernelModelWrapper at 0x7fa3a47eee00>,\n",
       " (3, 4): <kernels.wrapper.KernelModelWrapper at 0x7fa3a47ec6a0>,\n",
       " (3, 5): <kernels.wrapper.KernelModelWrapper at 0x7fa3a47ec9d0>,\n",
       " (5, 1): <kernels.wrapper.KernelModelWrapper at 0x7fa3a47ec0d0>,\n",
       " (5, 2): <kernels.wrapper.KernelModelWrapper at 0x7fa3a47ec100>,\n",
       " (5, 3): <kernels.wrapper.KernelModelWrapper at 0x7fa3beeee5c0>,\n",
       " (5, 4): <kernels.wrapper.KernelModelWrapper at 0x7fa3a47eef20>,\n",
       " (5, 5): <kernels.wrapper.KernelModelWrapper at 0x7fa3ab0e5360>}"
      ]
     },
     "execution_count": 41,
     "metadata": {},
     "output_type": "execute_result"
    }
   ],
   "source": [
    "model_domain[domain]"
   ]
  },
  {
   "cell_type": "code",
   "execution_count": 7,
   "metadata": {},
   "outputs": [
    {
     "name": "stdout",
     "output_type": "stream",
     "text": [
      "llg created!\n",
      "time taken: 0.1975s\n",
      "num nodes: 58\n",
      "num edges: 100\n",
      "graph density: 0.060496067755595885\n",
      "123\n"
     ]
    }
   ],
   "source": [
    "from util.save_load import load_kernel_model_and_setup\n",
    "m = load_kernel_model_and_setup(\"trained_models_kernel/linear-svr_llg_ipc2023-learning-blocksworld_wl_1_0\", \"../benchmarks/ipc2023-learning-benchmarks/blocksworld/domain.pddl\", \"../benchmarks/ipc2023-learning-benchmarks/blocksworld/training/easy/p01.pddl\")\n",
    "m._kernel._train_histogram"
   ]
  },
  {
   "cell_type": "code",
   "execution_count": null,
   "metadata": {},
   "outputs": [],
   "source": []
  }
 ],
 "metadata": {
  "kernelspec": {
   "display_name": "torch",
   "language": "python",
   "name": "python3"
  },
  "language_info": {
   "codemirror_mode": {
    "name": "ipython",
    "version": 3
   },
   "file_extension": ".py",
   "mimetype": "text/x-python",
   "name": "python",
   "nbconvert_exporter": "python",
   "pygments_lexer": "ipython3",
   "version": "3.10.12"
  },
  "orig_nbformat": 4
 },
 "nbformat": 4,
 "nbformat_minor": 2
}

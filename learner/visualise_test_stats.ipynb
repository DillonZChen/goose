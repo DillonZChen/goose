{
 "cells": [
  {
   "cell_type": "code",
   "execution_count": 1,
   "metadata": {},
   "outputs": [],
   "source": [
    "from util.visualise import *"
   ]
  },
  {
   "cell_type": "code",
   "execution_count": 2,
   "metadata": {},
   "outputs": [],
   "source": [
    "pd.options.display.float_format = '{:,.2f}'.format"
   ]
  },
  {
   "cell_type": "code",
   "execution_count": 3,
   "metadata": {},
   "outputs": [],
   "source": [
    "Ls = [4,8,12,16]\n",
    "aggrs = [\"mean\", \"max\"]\n",
    "graphs = [\"fdg-el\", \"sdg-el\", \"ldg-el\"]"
   ]
  },
  {
   "cell_type": "code",
   "execution_count": 12,
   "metadata": {},
   "outputs": [],
   "source": [
    "def limer(train_type, H, p, normalise, combine, get_max):\n",
    "  if combine:\n",
    "    df = collect_param_test_stats(train_type, Ls, aggrs, H, p, graphs, normalise)\n",
    "    if get_max: \n",
    "      df = get_max_of_parameters(df)\n",
    "    display(df)\n",
    "  else:\n",
    "    for domain in sorted(GOOSE_DOMAINS):\n",
    "      print(domain)\n",
    "      df = collect_param_test_stats(train_type, Ls, aggrs, H, p, graphs, normalise, domain)\n",
    "      if get_max: \n",
    "        df = get_max_of_parameters(df)\n",
    "      display(df)\n",
    "  return"
   ]
  },
  {
   "cell_type": "code",
   "execution_count": 14,
   "metadata": {},
   "outputs": [
    {
     "name": "stdout",
     "output_type": "stream",
     "text": [
      "blocks\n"
     ]
    },
    {
     "data": {
      "text/plain": [
       "fdg-el    8\n",
       "sdg-el    9\n",
       "ldg-el    5\n",
       "dtype: int64"
      ]
     },
     "metadata": {},
     "output_type": "display_data"
    },
    {
     "name": "stdout",
     "output_type": "stream",
     "text": [
      "ferry\n"
     ]
    },
    {
     "data": {
      "text/plain": [
       "fdg-el    22\n",
       "sdg-el    28\n",
       "ldg-el    10\n",
       "dtype: int64"
      ]
     },
     "metadata": {},
     "output_type": "display_data"
    },
    {
     "name": "stdout",
     "output_type": "stream",
     "text": [
      "gripper\n"
     ]
    },
    {
     "data": {
      "text/plain": [
       "fdg-el    3\n",
       "sdg-el    5\n",
       "ldg-el    0\n",
       "dtype: int64"
      ]
     },
     "metadata": {},
     "output_type": "display_data"
    },
    {
     "name": "stdout",
     "output_type": "stream",
     "text": [
      "n-puzzle\n"
     ]
    },
    {
     "data": {
      "text/plain": [
       "fdg-el    3\n",
       "sdg-el    5\n",
       "ldg-el    0\n",
       "dtype: int64"
      ]
     },
     "metadata": {},
     "output_type": "display_data"
    },
    {
     "name": "stdout",
     "output_type": "stream",
     "text": [
      "sokoban\n"
     ]
    },
    {
     "data": {
      "text/plain": [
       "fdg-el    9\n",
       "sdg-el    9\n",
       "ldg-el    9\n",
       "dtype: int64"
      ]
     },
     "metadata": {},
     "output_type": "display_data"
    },
    {
     "name": "stdout",
     "output_type": "stream",
     "text": [
      "spanner\n"
     ]
    },
    {
     "data": {
      "text/plain": [
       "fdg-el    0\n",
       "sdg-el    0\n",
       "ldg-el    0\n",
       "dtype: int64"
      ]
     },
     "metadata": {},
     "output_type": "display_data"
    },
    {
     "name": "stdout",
     "output_type": "stream",
     "text": [
      "visitall\n"
     ]
    },
    {
     "data": {
      "text/plain": [
       "fdg-el    41\n",
       "sdg-el    16\n",
       "ldg-el     6\n",
       "dtype: int64"
      ]
     },
     "metadata": {},
     "output_type": "display_data"
    },
    {
     "name": "stdout",
     "output_type": "stream",
     "text": [
      "visitsome\n"
     ]
    },
    {
     "data": {
      "text/plain": [
       "fdg-el    65\n",
       "sdg-el    73\n",
       "ldg-el     2\n",
       "dtype: int64"
      ]
     },
     "metadata": {},
     "output_type": "display_data"
    }
   ],
   "source": [
    "train_type = \"dd\"\n",
    "H = 64\n",
    "p = 10\n",
    "\n",
    "# train_type = \"di\"\n",
    "# H = 64\n",
    "# p = 20\n",
    "\n",
    "normalise = 0\n",
    "combine   = 0\n",
    "get_max   = 1\n",
    "\n",
    "limer(train_type, H, p, normalise, combine, get_max)"
   ]
  },
  {
   "cell_type": "code",
   "execution_count": null,
   "metadata": {},
   "outputs": [],
   "source": []
  }
 ],
 "metadata": {
  "kernelspec": {
   "display_name": "Python 3",
   "language": "python",
   "name": "python3"
  },
  "language_info": {
   "codemirror_mode": {
    "name": "ipython",
    "version": 3
   },
   "file_extension": ".py",
   "mimetype": "text/x-python",
   "name": "python",
   "nbconvert_exporter": "python",
   "pygments_lexer": "ipython3",
   "version": "3.8.10"
  },
  "orig_nbformat": 4
 },
 "nbformat": 4,
 "nbformat_minor": 2
}

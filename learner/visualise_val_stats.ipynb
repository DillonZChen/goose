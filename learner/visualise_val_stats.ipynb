{
 "cells": [
  {
   "cell_type": "code",
   "execution_count": 1,
   "metadata": {},
   "outputs": [],
   "source": [
    "import numpy as np\n",
    "import plotly.express as px\n",
    "import matplotlib.pyplot as plt\n",
    "import pandas as pd\n",
    "\n",
    "from IPython.display import display, HTML\n",
    "from representation import REPRESENTATIONS\n",
    "from dataset import GOOSE_DOMAINS"
   ]
  },
  {
   "cell_type": "code",
   "execution_count": 3,
   "metadata": {},
   "outputs": [],
   "source": [
    "# hyperparameters\n",
    "train_type = \"dd\"\n",
    "L = 8\n",
    "H = 64\n",
    "p = 10"
   ]
  },
  {
   "cell_type": "code",
   "execution_count": 14,
   "metadata": {},
   "outputs": [],
   "source": [
    "# collect stats from logs/select\n",
    "d = {\n",
    "  \"graph\": [],\n",
    "  \"domain\": [],\n",
    "  \"solved\": [],\n",
    "  \"median_expansions\": [],\n",
    "  \"median_runtime\": [],\n",
    "  \"avg_loss\": [],\n",
    "  \"train_time\": [],\n",
    "}\n",
    "log_dir = \"logs/select\"\n",
    "for rep in REPRESENTATIONS:\n",
    "  for domain in GOOSE_DOMAINS:\n",
    "    d[\"graph\"].append(rep)\n",
    "    d[\"domain\"].append(domain)\n",
    "    f = f'{log_dir}/{train_type}_{rep}_{domain}_L{L}_H{H}_p{p}_r0.log'\n",
    "    for line in open(f, 'r').readlines():\n",
    "      toks = line.replace(\":\",\"\").split()\n",
    "      for key in d:\n",
    "        if key==toks[0]:\n",
    "          val = int(float(toks[1])) if key in key in {\"solved\", \"median_expansions\"} else float(toks[1])\n",
    "          d[key].append(val)\n",
    "          break\n",
    "df = pd.DataFrame(d)\n",
    "for domain in GOOSE_DOMAINS:\n",
    "  df_domain = df[df.domain==domain]\n",
    "  display(df_domain)"
   ]
  },
  {
   "cell_type": "code",
   "execution_count": null,
   "metadata": {},
   "outputs": [],
   "source": []
  }
 ],
 "metadata": {
  "kernelspec": {
   "display_name": "base",
   "language": "python",
   "name": "python3"
  },
  "language_info": {
   "codemirror_mode": {
    "name": "ipython",
    "version": 3
   },
   "file_extension": ".py",
   "mimetype": "text/x-python",
   "name": "python",
   "nbconvert_exporter": "python",
   "pygments_lexer": "ipython3",
   "version": "3.10.11"
  },
  "orig_nbformat": 4
 },
 "nbformat": 4,
 "nbformat_minor": 2
}

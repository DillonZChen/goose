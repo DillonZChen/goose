{
 "cells": [
  {
   "cell_type": "code",
   "execution_count": 19,
   "metadata": {},
   "outputs": [],
   "source": [
    "from util.visualise import *"
   ]
  },
  {
   "cell_type": "code",
   "execution_count": 20,
   "metadata": {},
   "outputs": [],
   "source": [
    "pd.options.display.float_format = '{:,.2f}'.format"
   ]
  },
  {
   "cell_type": "code",
   "execution_count": 21,
   "metadata": {},
   "outputs": [
    {
     "data": {
      "text/plain": [
       "'/home/dillon/papers/24-aaai-goose/paper/plots'"
      ]
     },
     "execution_count": 21,
     "metadata": {},
     "output_type": "execute_result"
    }
   ],
   "source": [
    "PAPER_DIR = str(Path.home())+\"/papers/24-aaai-goose/paper\"\n",
    "\n",
    "PLOT_DIR = f\"{PAPER_DIR}/plots\"\n",
    "PLOT_DIR"
   ]
  },
  {
   "cell_type": "code",
   "execution_count": 22,
   "metadata": {},
   "outputs": [],
   "source": [
    "L=4\n",
    "aggr=\"max\"\n",
    "\n",
    "CONFIGS = [\"blind\", \"hff\", \"hff-pwl\", \"shgn\", \n",
    "           \"ddg-el dd\", \n",
    "           \"ddg-el di\", \n",
    "           \"sdg-el dd\", \"fdg-el dd\", \"ldg-el dd\", \"sdg-el di\", \"fdg-el di\", \"ldg-el di\"]\n",
    "LINE_STYLES = [CONFIG_TO_LINE_STYLE[config] for config in CONFIGS]\n",
    "COLOURS = [CONFIG_TO_COLOUR[config] for config in CONFIGS]"
   ]
  },
  {
   "cell_type": "code",
   "execution_count": 23,
   "metadata": {},
   "outputs": [],
   "source": [
    "df = collect_test_stats_planner_and_graphs(CONFIGS, L, aggr, normalise=False)"
   ]
  },
  {
   "cell_type": "code",
   "execution_count": 24,
   "metadata": {},
   "outputs": [],
   "source": [
    "# convert back to map then to latex\n",
    "solved = []\n",
    "df_solved = df.drop(columns=[\"expanded\", \"cost\", \"time\"])\n",
    "for domain in GOOSE_DOMAINS:\n",
    "  df_domain_coverage = (df_solved.loc[df['domain'] == domain]).drop(columns=[\"domain\"])\n",
    "  df_domain_coverage = df_domain_coverage.groupby(['config'])['solved'].sum()\n",
    "  df_list = df_domain_coverage.to_numpy()\n",
    "\n",
    "  tmp = {}\n",
    "  for i, config in enumerate(sorted(CONFIGS)):\n",
    "    tmp[config] = df_list[i]\n",
    "  solved_domain = []\n",
    "  for config in CONFIGS:\n",
    "    solved_domain.append(tmp[config])\n",
    "  solved.append(solved_domain)"
   ]
  },
  {
   "cell_type": "code",
   "execution_count": 25,
   "metadata": {},
   "outputs": [
    {
     "data": {
      "text/plain": [
       "[[0, 19, 10, 0, 15, 0, 10, 11, 29, 14, 14, 0],\n",
       " [0, 90, 37, 0, 4, 0, 33, 33, 78, 15, 6, 0],\n",
       " [1, 18, 14, 0, 3, 6, 5, 9, 18, 4, 5, 9],\n",
       " [0, 36, 11, 0, 4, 0, 10, 10, 1, 3, 3, 0],\n",
       " [74, 90, 46, 0, 12, 0, 52, 56, 34, 48, 42, 0],\n",
       " [0, 0, 0, 0, 0, 0, 0, 0, 55, 0, 0, 10],\n",
       " [0, 6, 8, 0, 41, 15, 52, 35, 39, 44, 24, 37],\n",
       " [3, 26, 0, 0, 73, 0, 78, 23, 3, 37, 14, 0]]"
      ]
     },
     "execution_count": 25,
     "metadata": {},
     "output_type": "execute_result"
    }
   ],
   "source": [
    "solved"
   ]
  },
  {
   "cell_type": "code",
   "execution_count": 26,
   "metadata": {},
   "outputs": [],
   "source": [
    "ret  = r\"\\begin{tabularx}{\\columnwidth}{p{\\domainwidth} \"\n",
    "for _ in range( len(CONFIGS)):\n",
    "    ret += \"p{\\coveragewidth} \"\n",
    "ret += r\"} \\toprule\" + '\\n'\n",
    "\n",
    "BASELINES = len(CONFIGS) - 6\n",
    "ret += r\"& \\multicolumn{\" + str(BASELINES) + r\"}{c}{baseline} & \\multicolumn{3}{c}{domain-dep.} & \\multicolumn{3}{c}{domain-ind.} \\\\\" \n",
    "ret += f\"\\cmidrule(lr){{2-{2+BASELINES-1}}} \\cmidrule(lr){{{2+BASELINES}-{2+BASELINES+2}}} \\cmidrule(lr){{{2+BASELINES+3}-{2+BASELINES+5}}} \" + '\\n'\n",
    "\n",
    "ret += \"& \"\n",
    "for config in CONFIGS:\n",
    "    ret += '\\\\header{' + CONFIG_TO_TEX[config] + '} & '\n",
    "ret = ret[0:len(ret) - 2]\n",
    "ret += r\"\\\\ \\midrule\" + '\\n'\n",
    "\n",
    "\n",
    "\n",
    "for i, domain in enumerate(GOOSE_DOMAINS):\n",
    "    ret += domain + f\" ({len(os.listdir(f'../benchmarks/goose/{domain}/test'))}) & \"\n",
    "    ordered = sorted(solved[i], reverse=True)\n",
    "    for count in solved[i]:\n",
    "        if count == 0:\n",
    "            LIME = ZERO\n",
    "        elif count==ordered[0]:\n",
    "            LIME = FIRST\n",
    "        elif count==ordered[1]:\n",
    "            LIME = SECOND\n",
    "        elif count==ordered[2]:\n",
    "            LIME = THIRD\n",
    "        else:\n",
    "            LIME = CELL\n",
    "        ret += f\"{LIME}{{{count}}}\" + \" & \"\n",
    "    ret = ret[0:len(ret) - 2]\n",
    "    ret += r\"\\\\\" + '\\n'\n",
    "\n",
    "\n",
    "ret += r\"\\bottomrule\\end{tabularx}\"\n",
    "\n",
    "f = open(f\"{PAPER_DIR}/tables/coverage.tex\", 'w')\n",
    "f.write(ret)\n",
    "f.close()"
   ]
  },
  {
   "cell_type": "code",
   "execution_count": 27,
   "metadata": {},
   "outputs": [
    {
     "data": {
      "text/html": [
       "<div>\n",
       "<style scoped>\n",
       "    .dataframe tbody tr th:only-of-type {\n",
       "        vertical-align: middle;\n",
       "    }\n",
       "\n",
       "    .dataframe tbody tr th {\n",
       "        vertical-align: top;\n",
       "    }\n",
       "\n",
       "    .dataframe thead th {\n",
       "        text-align: right;\n",
       "    }\n",
       "</style>\n",
       "<table border=\"1\" class=\"dataframe\">\n",
       "  <thead>\n",
       "    <tr style=\"text-align: right;\">\n",
       "      <th></th>\n",
       "      <th>config</th>\n",
       "      <th>solved</th>\n",
       "      <th>expanded</th>\n",
       "      <th>time</th>\n",
       "      <th>cost</th>\n",
       "      <th>domain</th>\n",
       "    </tr>\n",
       "  </thead>\n",
       "  <tbody>\n",
       "    <tr>\n",
       "      <th>0</th>\n",
       "      <td>blind</td>\n",
       "      <td>0</td>\n",
       "      <td>-1</td>\n",
       "      <td>-1.00</td>\n",
       "      <td>-1</td>\n",
       "      <td>blocks</td>\n",
       "    </tr>\n",
       "    <tr>\n",
       "      <th>1</th>\n",
       "      <td>hff</td>\n",
       "      <td>0</td>\n",
       "      <td>-1</td>\n",
       "      <td>-1.00</td>\n",
       "      <td>-1</td>\n",
       "      <td>blocks</td>\n",
       "    </tr>\n",
       "    <tr>\n",
       "      <th>2</th>\n",
       "      <td>hff-pwl</td>\n",
       "      <td>0</td>\n",
       "      <td>-1</td>\n",
       "      <td>-1.00</td>\n",
       "      <td>-1</td>\n",
       "      <td>blocks</td>\n",
       "    </tr>\n",
       "    <tr>\n",
       "      <th>3</th>\n",
       "      <td>shgn</td>\n",
       "      <td>0</td>\n",
       "      <td>-1</td>\n",
       "      <td>-1.00</td>\n",
       "      <td>-1</td>\n",
       "      <td>blocks</td>\n",
       "    </tr>\n",
       "    <tr>\n",
       "      <th>4</th>\n",
       "      <td>ddg-el dd</td>\n",
       "      <td>0</td>\n",
       "      <td>-1</td>\n",
       "      <td>-1.00</td>\n",
       "      <td>-1</td>\n",
       "      <td>blocks</td>\n",
       "    </tr>\n",
       "    <tr>\n",
       "      <th>...</th>\n",
       "      <td>...</td>\n",
       "      <td>...</td>\n",
       "      <td>...</td>\n",
       "      <td>...</td>\n",
       "      <td>...</td>\n",
       "      <td>...</td>\n",
       "    </tr>\n",
       "    <tr>\n",
       "      <th>7291</th>\n",
       "      <td>fdg-el dd</td>\n",
       "      <td>1</td>\n",
       "      <td>26779</td>\n",
       "      <td>106.07</td>\n",
       "      <td>1117</td>\n",
       "      <td>visitsome</td>\n",
       "    </tr>\n",
       "    <tr>\n",
       "      <th>7292</th>\n",
       "      <td>ldg-el dd</td>\n",
       "      <td>0</td>\n",
       "      <td>-1</td>\n",
       "      <td>-1.00</td>\n",
       "      <td>-1</td>\n",
       "      <td>visitsome</td>\n",
       "    </tr>\n",
       "    <tr>\n",
       "      <th>7293</th>\n",
       "      <td>sdg-el di</td>\n",
       "      <td>1</td>\n",
       "      <td>1078</td>\n",
       "      <td>5.13</td>\n",
       "      <td>281</td>\n",
       "      <td>visitsome</td>\n",
       "    </tr>\n",
       "    <tr>\n",
       "      <th>7294</th>\n",
       "      <td>fdg-el di</td>\n",
       "      <td>1</td>\n",
       "      <td>92791</td>\n",
       "      <td>381.86</td>\n",
       "      <td>759</td>\n",
       "      <td>visitsome</td>\n",
       "    </tr>\n",
       "    <tr>\n",
       "      <th>7295</th>\n",
       "      <td>ldg-el di</td>\n",
       "      <td>0</td>\n",
       "      <td>-1</td>\n",
       "      <td>-1.00</td>\n",
       "      <td>-1</td>\n",
       "      <td>visitsome</td>\n",
       "    </tr>\n",
       "  </tbody>\n",
       "</table>\n",
       "<p>7296 rows × 6 columns</p>\n",
       "</div>"
      ],
      "text/plain": [
       "         config  solved  expanded   time  cost     domain\n",
       "0         blind       0        -1  -1.00    -1     blocks\n",
       "1           hff       0        -1  -1.00    -1     blocks\n",
       "2       hff-pwl       0        -1  -1.00    -1     blocks\n",
       "3          shgn       0        -1  -1.00    -1     blocks\n",
       "4     ddg-el dd       0        -1  -1.00    -1     blocks\n",
       "...         ...     ...       ...    ...   ...        ...\n",
       "7291  fdg-el dd       1     26779 106.07  1117  visitsome\n",
       "7292  ldg-el dd       0        -1  -1.00    -1  visitsome\n",
       "7293  sdg-el di       1      1078   5.13   281  visitsome\n",
       "7294  fdg-el di       1     92791 381.86   759  visitsome\n",
       "7295  ldg-el di       0        -1  -1.00    -1  visitsome\n",
       "\n",
       "[7296 rows x 6 columns]"
      ]
     },
     "execution_count": 27,
     "metadata": {},
     "output_type": "execute_result"
    }
   ],
   "source": [
    "df"
   ]
  },
  {
   "cell_type": "code",
   "execution_count": null,
   "metadata": {},
   "outputs": [],
   "source": []
  }
 ],
 "metadata": {
  "kernelspec": {
   "display_name": "Python 3",
   "language": "python",
   "name": "python3"
  },
  "language_info": {
   "codemirror_mode": {
    "name": "ipython",
    "version": 3
   },
   "file_extension": ".py",
   "mimetype": "text/x-python",
   "name": "python",
   "nbconvert_exporter": "python",
   "pygments_lexer": "ipython3",
   "version": "3.11.4"
  },
  "orig_nbformat": 4
 },
 "nbformat": 4,
 "nbformat_minor": 2
}

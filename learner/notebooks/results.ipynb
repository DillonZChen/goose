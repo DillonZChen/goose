{
 "cells": [
  {
   "cell_type": "code",
   "execution_count": 37,
   "metadata": {},
   "outputs": [],
   "source": [
    "import os\n",
    "import pandas as pd\n",
    "import numpy as np\n",
    "import matplotlib.pyplot as plt\n",
    "import plotly.express as px\n",
    "from itertools import product\n",
    "from util.scrape_log import scrape_search_log\n",
    "from dataset.goose_domain_info import GOOSE_DOMAINS as DOMAINS\n",
    "from dataset.goose_domain_info import get_domain_instance_pddl_for_domain"
   ]
  },
  {
   "cell_type": "code",
   "execution_count": 9,
   "metadata": {},
   "outputs": [],
   "source": [
    "_LOG_DIR = \"aaai24_logs/test\""
   ]
  },
  {
   "cell_type": "code",
   "execution_count": 10,
   "metadata": {},
   "outputs": [
    {
     "name": "stdout",
     "output_type": "stream",
     "text": [
      "aaai24_logs/\n",
      "aaai24_logs/test/\n",
      "aaai24_logs/test/n50-s1_dd_llg_visitsome_L4_H64_mean_p10.log\n",
      "aaai24_logs/test/n20-s2_dd_slg_visitsome_L4_H64_max_p10.log\n",
      "aaai24_logs/test/n15-s4_dd_llg_visitsome_L4_H64_mean_p10.log\n",
      "aaai24_logs/test/p-n10-b3-w3-s2_dd_llg_sokoban_L4_H64_mean_p10.log\n",
      "aaai24_logs/test/p-n8-b2-w5-s1_dd_llg_sokoban_L4_H64_max_p10.log\n",
      "aaai24_logs/test/blocks20-task01_dd_dlg_blocks_L4_H64_max_p10.log\n",
      "aaai24_logs/test/p-l50-c50-s3_dd_llg_ferry_L4_H64_mean_p10.log\n",
      "aaai24_logs/test/p-l70-c70-s5_dd_llg_ferry_L4_H64_mean_p10.log\n",
      "aaai24_logs/test/n65-s4_dd_llg_visitall_L4_H64_max_p10.log\n",
      "aaai24_logs/test/p-s30-n30-l20-seed4_dd_llg_spanner_L4_H64_max_p10.log\n",
      "aaai24_logs/test/p-s20-n20-l13-seed2_dd_slg_spanner_L4_H64_max_p10.log\n",
      "aaai24_logs/test/n40-s2_dd_llg_visitsome_L4_H64_max_p10.log\n",
      "aaai24_logs/test/p-n8-b3-w3-s0_dd_llg_sokoban_L4_H64_max_p10.log\n",
      "aaai24_logs/test/p-s70-n70-l46-seed3_dd_llg_spanner_L4_H64_max_p10.log\n",
      "aaai24_logs/test/p-s60-n60-l40-seed5_dd_llg_spanner_L4_H64_max_p10.log\n",
      "aaai24_logs/test/blocks15-task02_dd_slg_blocks_L4_H64_max_p10.log\n",
      "aaai24_logs/test/p-l50-c50-s5_dd_slg_ferry_L4_H64_max_p10.log\n",
      "aaai24_logs/test/n65-s2_dd_dlg_visitall_L4_H64_max_p10.log\n",
      "aaai24_logs/test/n85-s1_dd_slg_visitsome_L4_H64_max_p10.log\n",
      "aaai24_logs/test/p-l20-c20-s4_dd_slg_ferry_L4_H64_max_p10.log\n",
      "aaai24_logs/test/blocks45-task05_dd_llg_blocks_L4_H64_max_p10.log\n",
      "aaai24_logs/test/p-n11-b3-w3-s1_dd_dlg_sokoban_L4_H64_max_p10.log\n",
      "aaai24_logs/test/p-n9-b3-w4-s2_dd_slg_sokoban_L4_H64_max_p10.log\n",
      "aaai24_logs/test/p-l75-c75-s4_dd_llg_ferry_L4_H64_max_p10.log\n",
      "aaai24_logs/test/blocks65-task01_dd_llg_blocks_L4_H64_mean_p10.log\n",
      "aaai24_logs/test/n35-s4_dd_dlg_visitsome_L4_H64_max_p10.log\n",
      "aaai24_logs/test/n15-s2_dd_dlg_visitsome_L4_H64_max_p10.log\n",
      "aaai24_logs/test/n45-s0_dd_llg_visitall_L4_H64_mean_p10.log\n",
      "aaai24_logs/test/n-puzzle-5x5-s0_dd_slg_n-puzzle_L4_H64_max_p10.log\n",
      "aaai24_logs/test/blocks80-task02_dd_llg_blocks_L4_H64_mean_p10.log\n",
      "aaai24_logs/test/n60-s1_dd_dlg_visitall_L4_H64_max_p10.log\n",
      "aaai24_logs/test/p-n11-b2-w5-s0_dd_dlg_sokoban_L4_H64_max_p10.log\n",
      "aaai24_logs/test/n-puzzle-5x5-s9_dd_llg_n-puzzle_L4_H64_mean_p10.log\n",
      "aaai24_logs/test/n60-s0_dd_llg_visitsome_L4_H64_mean_p10.log\n",
      "aaai24_logs/test/p-s15-n15-l10-seed1_dd_llg_spanner_L4_H64_max_p10.log\n",
      "aaai24_logs/test/p-n12-b3-w4-s2_dd_llg_sokoban_L4_H64_max_p10.log\n",
      "aaai24_logs/test/n30-s3_dd_slg_visitsome_L4_H64_max_p10.log\n",
      "aaai24_logs/test/gripper-n30_dd_dlg_gripper_L4_H64_mean_p10.log\n",
      "aaai24_logs/test/p-n10-b3-w5-s1_dd_llg_sokoban_L4_H64_max_p10.log\n",
      "aaai24_logs/test/p-n12-b3-w5-s0_dd_llg_sokoban_L4_H64_mean_p10.log\n",
      "aaai24_logs/test/n80-s0_dd_llg_visitsome_L4_H64_mean_p10.log\n",
      "aaai24_logs/test/p-n10-b2-w3-s0_dd_llg_sokoban_L4_H64_max_p10.log\n",
      "aaai24_logs/test/p-l15-c15-s5_dd_llg_ferry_L4_H64_max_p10.log\n",
      "aaai24_logs/test/n50-s0_dd_dlg_visitall_L4_H64_max_p10.log\n",
      "aaai24_logs/test/blocks35-task05_dd_llg_blocks_L4_H64_mean_p10.log\n",
      "aaai24_logs/test/p-s25-n25-l16-seed1_dd_llg_spanner_L4_H64_mean_p10.log\n",
      "aaai24_logs/test/p-l40-c40-s5_dd_slg_ferry_L4_H64_max_p10.log\n",
      "aaai24_logs/test/p-l30-c30-s4_dd_slg_ferry_L4_H64_max_p10.log\n",
      "aaai24_logs/test/n95-s0_dd_slg_visitsome_L4_H64_max_p10.log\n",
      "aaai24_logs/test/p-s25-n25-l16-seed4_dd_llg_spanner_L4_H64_max_p10.log\n",
      "aaai24_logs/test/n-puzzle-6x6-s0_dd_dlg_n-puzzle_L4_H64_max_p10.log\n",
      "aaai24_logs/test/p-s65-n65-l43-seed2_dd_llg_spanner_L4_H64_max_p10.log\n",
      "aaai24_logs/test/p-l65-c65-s4_dd_llg_ferry_L4_H64_max_p10.log\n",
      "aaai24_logs/test/p-n11-b2-w4-s2_dd_slg_sokoban_L4_H64_max_p10.log\n",
      "aaai24_logs/test/p-n9-b2-w3-s1_dd_dlg_sokoban_L4_H64_max_p10.log\n",
      "aaai24_logs/test/p-l15-c15-s4_dd_dlg_ferry_L4_H64_max_p10.log\n",
      "aaai24_logs/test/n55-s3_dd_dlg_visitall_L4_H64_max_p10.log\n",
      "aaai24_logs/test/n55-s1_dd_llg_visitall_L4_H64_mean_p10.log\n",
      "aaai24_logs/test/p-s80-n80-l53-seed3_dd_llg_spanner_L4_H64_max_p10.log\n",
      "aaai24_logs/test/p-n9-b3-w5-s0_dd_dlg_sokoban_L4_H64_max_p10.log\n",
      "aaai24_logs/test/p-s40-n40-l26-seed4_dd_llg_spanner_L4_H64_max_p10.log\n",
      "aaai24_logs/test/n30-s3_dd_llg_visitsome_L4_H64_mean_p10.log\n",
      "aaai24_logs/test/p-s35-n35-l23-seed3_dd_llg_spanner_L4_H64_max_p10.log\n",
      "aaai24_logs/test/p-n10-b2-w4-s0_dd_llg_sokoban_L4_H64_mean_p10.log\n",
      "aaai24_logs/test/p-s20-n20-l13-seed1_dd_slg_spanner_L4_H64_max_p10.log\n",
      "aaai24_logs/test/n35-s0_dd_llg_visitsome_L4_H64_mean_p10.log\n",
      "aaai24_logs/test/n30-s2_dd_dlg_visitall_L4_H64_max_p10.log\n",
      "aaai24_logs/test/p-n9-b3-w4-s1_dd_llg_sokoban_L4_H64_mean_p10.log\n",
      "aaai24_logs/test/n90-s3_dd_dlg_visitsome_L4_H64_max_p10.log\n",
      "aaai24_logs/test/p-l25-c25-s5_dd_llg_ferry_L4_H64_max_p10.log\n",
      "aaai24_logs/test/p-n8-b2-w5-s2_dd_llg_sokoban_L4_H64_max_p10.log\n",
      "aaai24_logs/test/n25-s4_dd_slg_visitall_L4_H64_max_p10.log\n",
      "aaai24_logs/test/n30-s4_dd_llg_visitall_L4_H64_max_p10.log\n",
      "aaai24_logs/test/p-s30-n30-l20-seed3_dd_llg_spanner_L4_H64_mean_p10.log\n",
      "aaai24_logs/test/p-s60-n60-l40-seed3_dd_llg_spanner_L4_H64_mean_p10.log\n",
      "aaai24_logs/test/p-l55-c55-s4_dd_llg_ferry_L4_H64_max_p10.log\n",
      "aaai24_logs/test/p-s15-n15-l10-seed2_dd_llg_spanner_L4_H64_max_p10.log\n",
      "aaai24_logs/test/n100-s1_dd_dlg_visitsome_L4_H64_max_p10.log\n",
      "aaai24_logs/test/p-n12-b3-w4-s1_dd_llg_sokoban_L4_H64_max_p10.log\n",
      "aaai24_logs/test/blocks80-task01_dd_llg_blocks_L4_H64_mean_p10.log\n",
      "aaai24_logs/test/n35-s1_dd_dlg_visitall_L4_H64_max_p10.log\n",
      "aaai24_logs/test/n35-s0_dd_dlg_visitsome_L4_H64_max_p10.log\n",
      "aaai24_logs/test/gripper-n40_dd_llg_gripper_L4_H64_mean_p10.log\n",
      "aaai24_logs/test/n65-s2_dd_llg_visitall_L4_H64_mean_p10.log\n",
      "aaai24_logs/test/n40-s4_dd_llg_visitsome_L4_H64_mean_p10.log\n",
      "aaai24_logs/test/n45-s4_dd_llg_visitall_L4_H64_mean_p10.log\n",
      "aaai24_logs/test/p-l25-c25-s4_dd_dlg_ferry_L4_H64_max_p10.log\n",
      "aaai24_logs/test/n85-s3_dd_llg_visitsome_L4_H64_mean_p10.log\n",
      "aaai24_logs/test/blocks65-task02_dd_llg_blocks_L4_H64_mean_p10.log\n",
      "aaai24_logs/test/p-n11-b3-w3-s2_dd_dlg_sokoban_L4_H64_max_p10.log\n",
      "aaai24_logs/test/p-n9-b3-w4-s1_dd_slg_sokoban_L4_H64_max_p10.log\n",
      "aaai24_logs/test/p-n8-b3-w5-s2_dd_llg_sokoban_L4_H64_mean_p10.log\n",
      "aaai24_logs/test/n-puzzle-5x5-s9_dd_llg_n-puzzle_L4_H64_max_p10.log\n",
      "aaai24_logs/test/gripper-n70_dd_dlg_gripper_L4_H64_mean_p10.log\n",
      "aaai24_logs/test/p-l45-c45-s5_dd_dlg_ferry_L4_H64_max_p10.log\n",
      "aaai24_logs/test/n65-s3_dd_llg_visitsome_L4_H64_mean_p10.log\n",
      "aaai24_logs/test/p-l20-c20-s3_dd_llg_ferry_L4_H64_mean_p10.log\n",
      "aaai24_logs/test/p-n10-b3-w5-s2_dd_llg_sokoban_L4_H64_max_p10.log\n",
      "aaai24_logs/test/n80-s2_dd_dlg_visitsome_L4_H64_max_p10.log\n",
      "aaai24_logs/test/p-l35-c35-s5_dd_llg_ferry_L4_H64_max_p10.log\n",
      "aaai24_logs/test/n95-s4_dd_slg_visitsome_L4_H64_max_p10.log\n",
      "aaai24_logs/test/n-puzzle-7x7-s2_dd_slg_n-puzzle_L4_H64_max_p10.log\n",
      "aaai24_logs/test/blocks50-task03_dd_llg_blocks_L4_H64_max_p10.log\n",
      "aaai24_logs/test/p-l45-c45-s4_dd_llg_ferry_L4_H64_max_p10.log\n",
      "aaai24_logs/test/blocks50-task03_dd_llg_blocks_L4_H64_mean_p10.log\n",
      "aaai24_logs/test/blocks15-task04_dd_dlg_blocks_L4_H64_max_p10.log\n",
      "aaai24_logs/test/n25-s1_dd_dlg_visitsome_L4_H64_max_p10.log\n",
      "aaai24_logs/test/n55-s2_dd_llg_visitsome_L4_H64_mean_p10.log\n",
      "aaai24_logs/test/p-l35-c35-s4_dd_dlg_ferry_L4_H64_max_p10.log\n",
      "aaai24_logs/test/p-s65-n65-l43-seed1_dd_llg_spanner_L4_H64_max_p10.log\n",
      "aaai24_logs/test/p-n11-b2-w4-s1_dd_slg_sokoban_L4_H64_max_p10.log\n",
      "aaai24_logs/test/p-n9-b2-w3-s2_dd_dlg_sokoban_L4_H64_max_p10.log\n",
      "aaai24_logs/test/p-l35-c35-s5_dd_dlg_ferry_L4_H64_max_p10.log\n",
      "aaai24_logs/test/blocks40-task04_dd_llg_blocks_L4_H64_max_p10.log\n",
      "aaai24_logs/test/p-n12-b2-w5-s1_dd_slg_sokoban_L4_H64_max_p10.log\n",
      "aaai24_logs/test/p-n9-b3-w3-s0_dd_llg_sokoban_L4_H64_max_p10.log\n",
      "aaai24_logs/test/n40-s0_dd_slg_visitsome_L4_H64_max_p10.log\n",
      "aaai24_logs/test/p-n12-b3-w3-s0_dd_slg_sokoban_L4_H64_max_p10.log\n",
      "aaai24_logs/test/blocks80-task04_dd_llg_blocks_L4_H64_mean_p10.log\n",
      "aaai24_logs/test/p-n9-b2-w5-s1_dd_llg_sokoban_L4_H64_max_p10.log\n",
      "aaai24_logs/test/n65-s3_dd_llg_visitall_L4_H64_max_p10.log\n",
      "aaai24_logs/test/n20-s0_dd_llg_visitsome_L4_H64_max_p10.log\n",
      "aaai24_logs/test/p-l45-c45-s5_dd_llg_ferry_L4_H64_max_p10.log\n",
      "aaai24_logs/test/p-s30-n30-l20-seed2_dd_llg_spanner_L4_H64_max_p10.log\n",
      "aaai24_logs/test/p-n11-b3-w3-s1_dd_llg_sokoban_L4_H64_mean_p10.log\n",
      "aaai24_logs/test/n-puzzle-5x5-s7_dd_slg_n-puzzle_L4_H64_max_p10.log\n",
      "aaai24_logs/test/p-l35-c35-s4_dd_llg_ferry_L4_H64_max_p10.log\n",
      "aaai24_logs/test/p-l60-c60-s4_dd_slg_ferry_L4_H64_max_p10.log\n",
      "aaai24_logs/test/p-n8-b2-w3-s0_dd_llg_sokoban_L4_H64_mean_p10.log\n",
      "aaai24_logs/test/p-n10-b2-w5-s0_dd_dlg_sokoban_L4_H64_max_p10.log\n",
      "aaai24_logs/test/p-s70-n70-l46-seed5_dd_llg_spanner_L4_H64_max_p10.log\n",
      "aaai24_logs/test/p-s60-n60-l40-seed3_dd_llg_spanner_L4_H64_max_p10.log\n",
      "aaai24_logs/test/n60-s0_dd_llg_visitall_L4_H64_max_p10.log\n",
      "aaai24_logs/test/gripper-n80_dd_llg_gripper_L4_H64_mean_p10.log\n",
      "aaai24_logs/test/p-n10-b3-w3-s1_dd_dlg_sokoban_L4_H64_max_p10.log\n",
      "aaai24_logs/test/n75-s0_dd_dlg_visitsome_L4_H64_max_p10.log\n",
      "aaai24_logs/test/p-n8-b3-w4-s2_dd_slg_sokoban_L4_H64_max_p10.log\n",
      "aaai24_logs/test/p-l45-c45-s4_dd_dlg_ferry_L4_H64_max_p10.log\n",
      "aaai24_logs/test/n25-s2_dd_llg_visitall_L4_H64_mean_p10.log\n",
      "aaai24_logs/test/p-s20-n20-l13-seed4_dd_slg_spanner_L4_H64_max_p10.log\n",
      "aaai24_logs/test/n-puzzle-5x5-s1_dd_llg_n-puzzle_L4_H64_mean_p10.log\n",
      "aaai24_logs/test/blocks20-task01_dd_llg_blocks_L4_H64_max_p10.log\n",
      "aaai24_logs/test/p-n11-b2-w3-s0_dd_llg_sokoban_L4_H64_max_p10.log\n",
      "aaai24_logs/test/p-s65-n65-l43-seed4_dd_llg_spanner_L4_H64_max_p10.log\n",
      "aaai24_logs/test/p-l25-c25-s5_dd_dlg_ferry_L4_H64_max_p10.log\n",
      "aaai24_logs/test/p-l55-c55-s3_dd_llg_ferry_L4_H64_mean_p10.log\n",
      "aaai24_logs/test/p-s25-n25-l16-seed2_dd_llg_spanner_L4_H64_max_p10.log\n",
      "aaai24_logs/test/n50-s1_dd_slg_visitsome_L4_H64_max_p10.log\n",
      "aaai24_logs/test/p-l75-c75-s5_dd_llg_ferry_L4_H64_mean_p10.log\n",
      "aaai24_logs/test/p-s80-n80-l53-seed5_dd_llg_spanner_L4_H64_max_p10.log\n",
      "aaai24_logs/test/p-s40-n40-l26-seed2_dd_llg_spanner_L4_H64_max_p10.log\n",
      "aaai24_logs/test/n45-s1_dd_slg_visitall_L4_H64_max_p10.log\n",
      "aaai24_logs/test/p-n11-b3-w5-s1_dd_llg_sokoban_L4_H64_max_p10.log\n",
      "aaai24_logs/test/p-s35-n35-l23-seed5_dd_llg_spanner_L4_H64_max_p10.log\n",
      "aaai24_logs/test/p-l55-c55-s5_dd_llg_ferry_L4_H64_max_p10.log\n",
      "aaai24_logs/test/n50-s1_dd_llg_visitall_L4_H64_max_p10.log\n",
      "aaai24_logs/test/n30-s1_dd_llg_visitsome_L4_H64_max_p10.log\n",
      "aaai24_logs/test/p-n12-b3-w4-s0_dd_llg_sokoban_L4_H64_mean_p10.log\n",
      "aaai24_logs/test/p-l25-c25-s4_dd_llg_ferry_L4_H64_max_p10.log\n",
      "aaai24_logs/test/p-n8-b3-w5-s0_dd_dlg_sokoban_L4_H64_max_p10.log\n",
      "aaai24_logs/test/n55-s4_dd_dlg_visitall_L4_H64_max_p10.log\n",
      "aaai24_logs/test/n-puzzle-6x6-s7_dd_dlg_n-puzzle_L4_H64_max_p10.log\n",
      "aaai24_logs/test/n40-s2_dd_slg_visitall_L4_H64_max_p10.log\n",
      "aaai24_logs/test/n35-s3_dd_llg_visitall_L4_H64_mean_p10.log\n",
      "aaai24_logs/test/n65-s1_dd_dlg_visitsome_L4_H64_max_p10.log\n",
      "aaai24_logs/test/n55-s2_dd_llg_visitall_L4_H64_max_p10.log\n",
      "aaai24_logs/test/p-n10-b2-w4-s2_dd_slg_sokoban_L4_H64_max_p10.log\n",
      "aaai24_logs/test/p-n8-b2-w3-s1_dd_dlg_sokoban_L4_H64_max_p10.log\n",
      "aaai24_logs/test/blocks35-task03_dd_llg_blocks_L4_H64_mean_p10.log\n",
      "aaai24_logs/test/p-l15-c15-s5_dd_dlg_ferry_L4_H64_max_p10.log\n",
      "aaai24_logs/test/p-s15-n15-l10-seed4_dd_llg_spanner_L4_H64_max_p10.log\n",
      "aaai24_logs/test/p-l25-c25-s3_dd_llg_ferry_L4_H64_mean_p10.log\n",
      "aaai24_logs/test/p-n9-b2-w5-s2_dd_llg_sokoban_L4_H64_max_p10.log\n",
      "aaai24_logs/test/p-s30-n30-l20-seed4_dd_llg_spanner_L4_H64_mean_p10.log\n",
      "aaai24_logs/test/n30-s3_dd_llg_visitall_L4_H64_max_p10.log\n",
      "aaai24_logs/test/n60-s2_dd_slg_visitsome_L4_H64_max_p10.log\n",
      "aaai24_logs/test/n25-s3_dd_slg_visitall_L4_H64_max_p10.log\n",
      "aaai24_logs/test/n40-s4_dd_slg_visitsome_L4_H64_max_p10.log\n",
      "aaai24_logs/test/p-n12-b2-w5-s2_dd_slg_sokoban_L4_H64_max_p10.log\n",
      "aaai24_logs/test/p-n10-b2-w5-s0_dd_llg_sokoban_L4_H64_mean_p10.log\n",
      "aaai24_logs/test/p-l30-c30-s5_dd_slg_ferry_L4_H64_max_p10.log\n",
      "aaai24_logs/test/blocks65-task04_dd_llg_blocks_L4_H64_mean_p10.log\n",
      "aaai24_logs/test/p-l90-c90-s5_dd_llg_ferry_L4_H64_mean_p10.log\n",
      "aaai24_logs/test/p-n9-b3-w5-s1_dd_llg_sokoban_L4_H64_mean_p10.log\n",
      "aaai24_logs/test/n20-s4_dd_llg_visitsome_L4_H64_max_p10.log\n",
      "aaai24_logs/test/p-s65-n65-l43-seed1_dd_llg_spanner_L4_H64_mean_p10.log\n",
      "aaai24_logs/test/p-l65-c65-s5_dd_llg_ferry_L4_H64_max_p10.log\n",
      "aaai24_logs/test/n-puzzle-6x6-s8_dd_slg_n-puzzle_L4_H64_max_p10.log\n",
      "aaai24_logs/test/p-l15-c15-s4_dd_llg_ferry_L4_H64_max_p10.log\n",
      "aaai24_logs/test/p-s35-n35-l23-seed1_dd_llg_spanner_L4_H64_mean_p10.log\n",
      "aaai24_logs/test/n35-s0_dd_llg_visitall_L4_H64_max_p10.log\n",
      "aaai24_logs/test/n20-s0_dd_slg_visitall_L4_H64_max_p10.log\n",
      "aaai24_logs/test/p-n8-b3-w4-s2_dd_llg_sokoban_L4_H64_mean_p10.log\n",
      "aaai24_logs/test/p-l40-c40-s4_dd_slg_ferry_L4_H64_max_p10.log\n",
      "aaai24_logs/test/p-n10-b3-w3-s2_dd_dlg_sokoban_L4_H64_max_p10.log\n",
      "aaai24_logs/test/p-n8-b3-w4-s1_dd_slg_sokoban_L4_H64_max_p10.log\n",
      "aaai24_logs/test/gripper-n100_dd_llg_gripper_L4_H64_mean_p10.log\n",
      "aaai24_logs/test/blocks15-task04_dd_llg_blocks_L4_H64_max_p10.log\n",
      "aaai24_logs/test/p-s30-n30-l20-seed1_dd_llg_spanner_L4_H64_max_p10.log\n",
      "aaai24_logs/test/n-puzzle-5x5-s5_dd_llg_n-puzzle_L4_H64_mean_p10.log\n",
      "aaai24_logs/test/n75-s4_dd_dlg_visitsome_L4_H64_max_p10.log\n",
      "aaai24_logs/test/p-s60-n60-l40-seed4_dd_llg_spanner_L4_H64_mean_p10.log\n",
      "aaai24_logs/test/n55-s2_dd_dlg_visitsome_L4_H64_max_p10.log\n",
      "aaai24_logs/test/p-n11-b3-w5-s2_dd_llg_sokoban_L4_H64_max_p10.log\n",
      "aaai24_logs/test/p-n12-b2-w4-s0_dd_dlg_sokoban_L4_H64_max_p10.log\n",
      "aaai24_logs/test/blocks50-task05_dd_llg_blocks_L4_H64_mean_p10.log\n",
      "aaai24_logs/test/p-s40-n40-l26-seed1_dd_llg_spanner_L4_H64_max_p10.log\n",
      "aaai24_logs/test/n70-s3_dd_slg_visitsome_L4_H64_max_p10.log\n",
      "aaai24_logs/test/blocks55-task02_dd_llg_blocks_L4_H64_max_p10.log\n",
      "aaai24_logs/test/n-puzzle-5x5-s8_dd_dlg_n-puzzle_L4_H64_max_p10.log\n",
      "aaai24_logs/test/p-l20-c20-s5_dd_slg_ferry_L4_H64_max_p10.log\n",
      "aaai24_logs/test/p-n12-b2-w3-s2_dd_llg_sokoban_L4_H64_mean_p10.log\n",
      "aaai24_logs/test/p-l75-c75-s5_dd_llg_ferry_L4_H64_max_p10.log\n",
      "aaai24_logs/test/p-s25-n25-l16-seed1_dd_llg_spanner_L4_H64_max_p10.log\n",
      "aaai24_logs/test/n15-s2_dd_slg_visitall_L4_H64_max_p10.log\n",
      "aaai24_logs/test/p-n10-b2-w4-s1_dd_slg_sokoban_L4_H64_max_p10.log\n",
      "aaai24_logs/test/p-n8-b2-w3-s2_dd_dlg_sokoban_L4_H64_max_p10.log\n",
      "aaai24_logs/test/p-l50-c50-s4_dd_slg_ferry_L4_H64_max_p10.log\n",
      "aaai24_logs/test/n-puzzle-7x7-s5_dd_slg_n-puzzle_L4_H64_max_p10.log\n",
      "aaai24_logs/test/n15-s1_dd_llg_visitall_L4_H64_mean_p10.log\n",
      "aaai24_logs/test/n45-s3_dd_dlg_visitsome_L4_H64_max_p10.log\n",
      "aaai24_logs/test/blocks25-task04_dd_dlg_blocks_L4_H64_max_p10.log\n",
      "aaai24_logs/test/p-n9-b2-w4-s0_dd_llg_sokoban_L4_H64_mean_p10.log\n",
      "aaai24_logs/test/p-l85-c85-s5_dd_llg_ferry_L4_H64_max_p10.log\n",
      "aaai24_logs/test/n65-s2_dd_llg_visitsome_L4_H64_mean_p10.log\n",
      "aaai24_logs/test/n50-s3_dd_dlg_visitsome_L4_H64_max_p10.log\n",
      "aaai24_logs/test/blocks20-task05_dd_llg_blocks_L4_H64_mean_p10.log\n",
      "aaai24_logs/test/p-n10-b3-w4-s1_dd_llg_sokoban_L4_H64_mean_p10.log\n",
      "aaai24_logs/test/p-s20-n20-l13-seed3_dd_dlg_spanner_L4_H64_max_p10.log\n",
      "aaai24_logs/test/gripper-n50_dd_llg_gripper_L4_H64_max_p10.log\n",
      "aaai24_logs/test/p-n10-b3-w4-s2_dd_llg_sokoban_L4_H64_max_p10.log\n",
      "aaai24_logs/test/p-n11-b3-w3-s0_dd_slg_sokoban_L4_H64_max_p10.log\n",
      "aaai24_logs/test/n15-s4_dd_dlg_visitall_L4_H64_max_p10.log\n",
      "aaai24_logs/test/n90-s4_dd_llg_visitsome_L4_H64_mean_p10.log\n",
      "aaai24_logs/test/p-n11-b2-w5-s1_dd_slg_sokoban_L4_H64_max_p10.log\n",
      "aaai24_logs/test/n55-s3_dd_llg_visitsome_L4_H64_mean_p10.log\n",
      "aaai24_logs/test/n-puzzle-7x7-s3_dd_dlg_n-puzzle_L4_H64_max_p10.log\n",
      "aaai24_logs/test/p-n11-b3-w5-s2_dd_llg_sokoban_L4_H64_mean_p10.log\n",
      "aaai24_logs/test/n65-s3_dd_slg_visitsome_L4_H64_max_p10.log\n",
      "aaai24_logs/test/n15-s2_dd_llg_visitall_L4_H64_max_p10.log\n",
      "aaai24_logs/test/n35-s1_dd_llg_visitsome_L4_H64_mean_p10.log\n",
      "aaai24_logs/test/p-l95-c95-s5_dd_llg_ferry_L4_H64_max_p10.log\n",
      "aaai24_logs/test/n70-s4_dd_llg_visitsome_L4_H64_mean_p10.log\n",
      "aaai24_logs/test/p-s55-n55-l36-seed2_dd_llg_spanner_L4_H64_mean_p10.log\n",
      "aaai24_logs/test/p-s40-n40-l26-seed5_dd_llg_spanner_L4_H64_mean_p10.log\n",
      "aaai24_logs/test/n40-s2_dd_dlg_visitsome_L4_H64_max_p10.log\n",
      "aaai24_logs/test/n60-s4_dd_dlg_visitsome_L4_H64_max_p10.log\n",
      "aaai24_logs/test/n25-s3_dd_llg_visitall_L4_H64_max_p10.log\n",
      "aaai24_logs/test/blocks15-task04_dd_llg_blocks_L4_H64_mean_p10.log\n",
      "aaai24_logs/test/p-n8-b2-w4-s2_dd_llg_sokoban_L4_H64_max_p10.log\n",
      "aaai24_logs/test/n30-s3_dd_slg_visitall_L4_H64_max_p10.log\n",
      "aaai24_logs/test/blocks20-task05_dd_llg_blocks_L4_H64_max_p10.log\n",
      "aaai24_logs/test/p-s50-n50-l33-seed4_dd_llg_spanner_L4_H64_max_p10.log\n",
      "aaai24_logs/test/p-n9-b2-w3-s0_dd_slg_sokoban_L4_H64_max_p10.log\n",
      "aaai24_logs/test/p-n12-b3-w5-s1_dd_llg_sokoban_L4_H64_max_p10.log\n",
      "aaai24_logs/test/n15-s2_dd_llg_visitsome_L4_H64_max_p10.log\n",
      "aaai24_logs/test/p-l45-c45-s4_dd_llg_ferry_L4_H64_mean_p10.log\n",
      "aaai24_logs/test/n35-s4_dd_llg_visitsome_L4_H64_max_p10.log\n",
      "aaai24_logs/test/p-l75-c75-s1_dd_llg_ferry_L4_H64_mean_p10.log\n",
      "aaai24_logs/test/p-l65-c65-s2_dd_llg_ferry_L4_H64_mean_p10.log\n",
      "aaai24_logs/test/p-n9-b3-w5-s1_dd_slg_sokoban_L4_H64_max_p10.log\n",
      "aaai24_logs/test/p-n12-b2-w3-s0_dd_llg_sokoban_L4_H64_max_p10.log\n",
      "aaai24_logs/test/n20-s0_dd_llg_visitall_L4_H64_max_p10.log\n",
      "aaai24_logs/test/blocks70-task01_dd_llg_blocks_L4_H64_mean_p10.log\n",
      "aaai24_logs/test/n85-s2_dd_llg_visitsome_L4_H64_mean_p10.log\n",
      "aaai24_logs/test/n55-s4_dd_slg_visitsome_L4_H64_max_p10.log\n",
      "aaai24_logs/test/n35-s0_dd_slg_visitall_L4_H64_max_p10.log\n",
      "aaai24_logs/test/n75-s2_dd_slg_visitsome_L4_H64_max_p10.log\n",
      "aaai24_logs/test/p-n9-b3-w3-s2_dd_llg_sokoban_L4_H64_mean_p10.log\n",
      "aaai24_logs/test/n80-s1_dd_llg_visitsome_L4_H64_mean_p10.log\n",
      "aaai24_logs/test/n50-s1_dd_slg_visitall_L4_H64_max_p10.log\n",
      "aaai24_logs/test/p-n10-b3-w4-s1_dd_llg_sokoban_L4_H64_max_p10.log\n",
      "aaai24_logs/test/n70-s1_dd_dlg_visitsome_L4_H64_max_p10.log\n",
      "aaai24_logs/test/n20-s3_dd_llg_visitall_L4_H64_mean_p10.log\n",
      "aaai24_logs/test/n45-s1_dd_llg_visitall_L4_H64_max_p10.log\n",
      "aaai24_logs/test/gripper-n15_dd_slg_gripper_L4_H64_max_p10.log\n",
      "aaai24_logs/test/n55-s2_dd_slg_visitall_L4_H64_max_p10.log\n",
      "aaai24_logs/test/p-n11-b2-w5-s2_dd_slg_sokoban_L4_H64_max_p10.log\n",
      "aaai24_logs/test/p-l35-c35-s4_dd_llg_ferry_L4_H64_mean_p10.log\n",
      "aaai24_logs/test/p-l15-c15-s2_dd_llg_ferry_L4_H64_mean_p10.log\n",
      "aaai24_logs/test/blocks35-task03_dd_llg_blocks_L4_H64_max_p10.log\n",
      "aaai24_logs/test/n25-s1_dd_llg_visitsome_L4_H64_max_p10.log\n",
      "aaai24_logs/test/n40-s2_dd_llg_visitall_L4_H64_max_p10.log\n",
      "aaai24_logs/test/n30-s2_dd_llg_visitsome_L4_H64_mean_p10.log\n",
      "aaai24_logs/test/p-l90-c90-s1_dd_llg_ferry_L4_H64_mean_p10.log\n",
      "aaai24_logs/test/blocks45-task03_dd_llg_blocks_L4_H64_mean_p10.log\n",
      "aaai24_logs/test/p-n9-b3-w4-s0_dd_dlg_sokoban_L4_H64_max_p10.log\n",
      "aaai24_logs/test/p-l80-c80-s2_dd_llg_ferry_L4_H64_mean_p10.log\n",
      "aaai24_logs/test/n45-s1_dd_slg_visitsome_L4_H64_max_p10.log\n",
      "aaai24_logs/test/n-puzzle-6x6-s1_dd_slg_n-puzzle_L4_H64_max_p10.log\n",
      "aaai24_logs/test/n40-s4_dd_dlg_visitall_L4_H64_max_p10.log\n",
      "aaai24_logs/test/gripper-n25_dd_llg_gripper_L4_H64_max_p10.log\n",
      "aaai24_logs/test/p-s15-n15-l10-seed2_dd_llg_spanner_L4_H64_mean_p10.log\n",
      "aaai24_logs/test/p-n12-b2-w5-s1_dd_llg_sokoban_L4_H64_mean_p10.log\n",
      "aaai24_logs/test/n30-s2_dd_llg_visitall_L4_H64_mean_p10.log\n",
      "aaai24_logs/test/n50-s0_dd_llg_visitsome_L4_H64_mean_p10.log\n",
      "aaai24_logs/test/blocks30-task02_dd_dlg_blocks_L4_H64_max_p10.log\n",
      "aaai24_logs/test/n60-s0_dd_dlg_visitsome_L4_H64_max_p10.log\n",
      "aaai24_logs/test/n65-s3_dd_slg_visitall_L4_H64_max_p10.log\n",
      "aaai24_logs/test/p-n8-b2-w4-s1_dd_llg_sokoban_L4_H64_max_p10.log\n",
      "aaai24_logs/test/gripper-n75_dd_dlg_gripper_L4_H64_max_p10.log\n",
      "aaai24_logs/test/blocks70-task02_dd_llg_blocks_L4_H64_mean_p10.log\n",
      "aaai24_logs/test/p-n9-b3-w5-s2_dd_slg_sokoban_L4_H64_max_p10.log\n",
      "aaai24_logs/test/n-puzzle-5x5-s1_dd_dlg_n-puzzle_L4_H64_max_p10.log\n",
      "aaai24_logs/test/n60-s0_dd_slg_visitall_L4_H64_max_p10.log\n",
      "aaai24_logs/test/p-s50-n50-l33-seed4_dd_llg_spanner_L4_H64_mean_p10.log\n",
      "aaai24_logs/test/blocks25-task02_dd_slg_blocks_L4_H64_max_p10.log\n",
      "aaai24_logs/test/n35-s0_dd_llg_visitsome_L4_H64_max_p10.log\n",
      "aaai24_logs/test/p-n11-b2-w4-s0_dd_dlg_sokoban_L4_H64_max_p10.log\n",
      "aaai24_logs/test/n25-s4_dd_llg_visitsome_L4_H64_mean_p10.log\n",
      "aaai24_logs/test/n60-s1_dd_llg_visitsome_L4_H64_mean_p10.log\n",
      "aaai24_logs/test/p-n12-b3-w5-s2_dd_llg_sokoban_L4_H64_max_p10.log\n",
      "aaai24_logs/test/n55-s0_dd_slg_visitsome_L4_H64_max_p10.log\n",
      "aaai24_logs/test/n-puzzle-5x5-s7_dd_llg_n-puzzle_L4_H64_max_p10.log\n",
      "aaai24_logs/test/blocks45-task01_dd_llg_blocks_L4_H64_max_p10.log\n",
      "aaai24_logs/test/n30-s1_dd_dlg_visitsome_L4_H64_max_p10.log\n",
      "aaai24_logs/test/n60-s3_dd_llg_visitall_L4_H64_mean_p10.log\n",
      "aaai24_logs/test/gripper-n20_dd_llg_gripper_L4_H64_max_p10.log\n",
      "aaai24_logs/test/n80-s0_dd_dlg_visitall_L4_H64_max_p10.log\n",
      "aaai24_logs/test/p-n11-b3-w4-s2_dd_llg_sokoban_L4_H64_max_p10.log\n",
      "aaai24_logs/test/p-n12-b2-w5-s0_dd_dlg_sokoban_L4_H64_max_p10.log\n",
      "aaai24_logs/test/p-n9-b2-w5-s0_dd_llg_sokoban_L4_H64_mean_p10.log\n",
      "aaai24_logs/test/n80-s4_dd_slg_visitsome_L4_H64_max_p10.log\n",
      "aaai24_logs/test/p-n12-b3-w3-s1_dd_dlg_sokoban_L4_H64_max_p10.log\n",
      "aaai24_logs/test/p-n10-b3-w5-s1_dd_llg_sokoban_L4_H64_mean_p10.log\n",
      "aaai24_logs/test/n-puzzle-5x5-s9_dd_slg_n-puzzle_L4_H64_max_p10.log\n",
      "aaai24_logs/test/gripper-n15_dd_dlg_gripper_L4_H64_mean_p10.log\n",
      "aaai24_logs/test/blocks20-task05_dd_dlg_blocks_L4_H64_max_p10.log\n",
      "aaai24_logs/test/p-l40-c40-s4_dd_llg_ferry_L4_H64_mean_p10.log\n",
      "aaai24_logs/test/n95-s2_dd_dlg_visitsome_L4_H64_max_p10.log\n",
      "aaai24_logs/test/n-puzzle-7x7-s4_dd_dlg_n-puzzle_L4_H64_max_p10.log\n",
      "aaai24_logs/test/blocks20-task03_dd_llg_blocks_L4_H64_mean_p10.log\n",
      "aaai24_logs/test/p-l70-c70-s1_dd_llg_ferry_L4_H64_mean_p10.log\n",
      "aaai24_logs/test/p-n10-b2-w5-s1_dd_slg_sokoban_L4_H64_max_p10.log\n",
      "aaai24_logs/test/p-l60-c60-s2_dd_llg_ferry_L4_H64_mean_p10.log\n",
      "aaai24_logs/test/p-n11-b3-w4-s2_dd_llg_sokoban_L4_H64_mean_p10.log\n",
      "aaai24_logs/test/p-s20-n20-l13-seed5_dd_dlg_spanner_L4_H64_max_p10.log\n",
      "aaai24_logs/test/p-n10-b3-w3-s0_dd_slg_sokoban_L4_H64_max_p10.log\n",
      "aaai24_logs/test/n15-s3_dd_dlg_visitall_L4_H64_max_p10.log\n",
      "aaai24_logs/test/blocks25-task04_dd_llg_blocks_L4_H64_max_p10.log\n",
      "aaai24_logs/test/n30-s4_dd_slg_visitall_L4_H64_max_p10.log\n",
      "aaai24_logs/test/n50-s4_dd_llg_visitall_L4_H64_mean_p10.log\n",
      "aaai24_logs/test/n20-s0_dd_dlg_visitsome_L4_H64_max_p10.log\n",
      "aaai24_logs/test/p-n9-b2-w4-s2_dd_llg_sokoban_L4_H64_max_p10.log\n",
      "aaai24_logs/test/p-s50-n50-l33-seed2_dd_llg_spanner_L4_H64_max_p10.log\n",
      "aaai24_logs/test/n25-s4_dd_llg_visitall_L4_H64_max_p10.log\n",
      "aaai24_logs/test/n-puzzle-6x6-s9_dd_dlg_n-puzzle_L4_H64_max_p10.log\n",
      "aaai24_logs/test/p-s40-n40-l26-seed2_dd_llg_spanner_L4_H64_mean_p10.log\n",
      "aaai24_logs/test/gripper-n25_dd_llg_gripper_L4_H64_mean_p10.log\n",
      "aaai24_logs/test/p-s55-n55-l36-seed5_dd_llg_spanner_L4_H64_mean_p10.log\n",
      "aaai24_logs/test/n25-s2_dd_dlg_visitall_L4_H64_max_p10.log\n",
      "aaai24_logs/test/p-n12-b2-w4-s2_dd_slg_sokoban_L4_H64_max_p10.log\n",
      "aaai24_logs/test/p-n8-b3-w5-s1_dd_slg_sokoban_L4_H64_max_p10.log\n",
      "aaai24_logs/test/gripper-n70_dd_dlg_gripper_L4_H64_max_p10.log\n",
      "aaai24_logs/test/n85-s3_dd_dlg_visitsome_L4_H64_max_p10.log\n",
      "aaai24_logs/test/blocks15-task02_dd_llg_blocks_L4_H64_mean_p10.log\n",
      "aaai24_logs/test/n15-s0_dd_slg_visitsome_L4_H64_max_p10.log\n",
      "aaai24_logs/test/p-n8-b2-w3-s0_dd_slg_sokoban_L4_H64_max_p10.log\n",
      "aaai24_logs/test/n20-s1_dd_dlg_visitall_L4_H64_max_p10.log\n",
      "aaai24_logs/test/n40-s1_dd_llg_visitall_L4_H64_mean_p10.log\n",
      "aaai24_logs/test/n45-s0_dd_dlg_visitall_L4_H64_max_p10.log\n",
      "aaai24_logs/test/blocks30-task02_dd_llg_blocks_L4_H64_max_p10.log\n",
      "aaai24_logs/test/p-n12-b3-w3-s2_dd_dlg_sokoban_L4_H64_max_p10.log\n",
      "aaai24_logs/test/n80-s0_dd_slg_visitsome_L4_H64_max_p10.log\n",
      "aaai24_logs/test/p-n11-b3-w4-s1_dd_llg_sokoban_L4_H64_max_p10.log\n",
      "aaai24_logs/test/blocks45-task05_dd_llg_blocks_L4_H64_mean_p10.log\n",
      "aaai24_logs/test/gripper-n55_dd_dlg_gripper_L4_H64_mean_p10.log\n",
      "aaai24_logs/test/n-puzzle-6x6-s6_dd_slg_n-puzzle_L4_H64_max_p10.log\n",
      "aaai24_logs/test/p-s15-n15-l10-seed5_dd_llg_spanner_L4_H64_mean_p10.log\n",
      "aaai24_logs/test/p-n8-b3-w3-s1_dd_llg_sokoban_L4_H64_mean_p10.log\n",
      "aaai24_logs/test/p-n8-b3-w4-s0_dd_dlg_sokoban_L4_H64_max_p10.log\n",
      "aaai24_logs/test/gripper-n55_dd_llg_gripper_L4_H64_max_p10.log\n",
      "aaai24_logs/test/n40-s3_dd_dlg_visitall_L4_H64_max_p10.log\n",
      "aaai24_logs/test/p-n11-b2-w3-s0_dd_llg_sokoban_L4_H64_mean_p10.log\n",
      "aaai24_logs/test/p-n10-b2-w5-s2_dd_slg_sokoban_L4_H64_max_p10.log\n",
      "aaai24_logs/test/n25-s3_dd_slg_visitsome_L4_H64_max_p10.log\n",
      "aaai24_logs/test/p-l95-c95-s4_dd_llg_ferry_L4_H64_max_p10.log\n",
      "aaai24_logs/test/n50-s0_dd_llg_visitall_L4_H64_mean_p10.log\n",
      "aaai24_logs/test/n20-s4_dd_dlg_visitsome_L4_H64_max_p10.log\n",
      "aaai24_logs/test/p-n12-b2-w4-s1_dd_slg_sokoban_L4_H64_max_p10.log\n",
      "aaai24_logs/test/n70-s2_dd_dlg_visitall_L4_H64_max_p10.log\n",
      "aaai24_logs/test/blocks70-task04_dd_llg_blocks_L4_H64_mean_p10.log\n",
      "aaai24_logs/test/blocks20-task03_dd_slg_blocks_L4_H64_max_p10.log\n",
      "aaai24_logs/test/p-n12-b2-w4-s1_dd_llg_sokoban_L4_H64_mean_p10.log\n",
      "aaai24_logs/test/gripper-n65_dd_llg_gripper_L4_H64_mean_p10.log\n",
      "aaai24_logs/test/n90-s1_dd_slg_visitsome_L4_H64_max_p10.log\n",
      "aaai24_logs/test/p-n9-b2-w4-s1_dd_llg_sokoban_L4_H64_max_p10.log\n",
      "aaai24_logs/test/p-s50-n50-l33-seed1_dd_llg_spanner_L4_H64_max_p10.log\n",
      "aaai24_logs/test/p-n10-b2-w4-s0_dd_dlg_sokoban_L4_H64_max_p10.log\n",
      "aaai24_logs/test/n-puzzle-5x5-s0_dd_llg_n-puzzle_L4_H64_max_p10.log\n",
      "aaai24_logs/test/blocks15-task01_dd_llg_blocks_L4_H64_mean_p10.log\n",
      "aaai24_logs/test/n75-s1_dd_dlg_visitall_L4_H64_max_p10.log\n",
      "aaai24_logs/test/p-l30-c30-s4_dd_llg_ferry_L4_H64_mean_p10.log\n",
      "aaai24_logs/test/n100-s3_dd_slg_visitsome_L4_H64_max_p10.log\n",
      "aaai24_logs/test/blocks35-task03_dd_dlg_blocks_L4_H64_max_p10.log\n",
      "aaai24_logs/test/n15-s4_dd_slg_visitsome_L4_H64_max_p10.log\n",
      "aaai24_logs/test/p-s50-n50-l33-seed3_dd_llg_spanner_L4_H64_mean_p10.log\n",
      "aaai24_logs/test/p-n8-b3-w5-s2_dd_slg_sokoban_L4_H64_max_p10.log\n",
      "aaai24_logs/test/n-puzzle-5x5-s6_dd_dlg_n-puzzle_L4_H64_max_p10.log\n",
      "aaai24_logs/test/p-l85-c85-s4_dd_llg_ferry_L4_H64_max_p10.log\n",
      "aaai24_logs/test/n35-s2_dd_slg_visitsome_L4_H64_max_p10.log\n",
      "aaai24_logs/test/p-l85-c85-s2_dd_llg_ferry_L4_H64_mean_p10.log\n",
      "aaai24_logs/test/n15-s3_dd_llg_visitsome_L4_H64_max_p10.log\n",
      "aaai24_logs/test/p-l20-c20-s2_dd_slg_ferry_L4_H64_max_p10.log\n",
      "aaai24_logs/test/p-n11-b2-w3-s0_dd_slg_sokoban_L4_H64_max_p10.log\n",
      "aaai24_logs/test/p-l75-c75-s2_dd_llg_ferry_L4_H64_max_p10.log\n",
      "aaai24_logs/test/blocks15-task01_dd_llg_blocks_L4_H64_max_p10.log\n",
      "aaai24_logs/test/n75-s3_dd_slg_visitsome_L4_H64_max_p10.log\n",
      "aaai24_logs/test/n55-s1_dd_llg_visitall_L4_H64_max_p10.log\n",
      "aaai24_logs/test/n40-s1_dd_slg_visitall_L4_H64_max_p10.log\n",
      "aaai24_logs/test/n-puzzle-6x6-s4_dd_dlg_n-puzzle_L4_H64_max_p10.log\n",
      "aaai24_logs/test/p-n11-b3-w5-s1_dd_slg_sokoban_L4_H64_max_p10.log\n",
      "aaai24_logs/test/n40-s3_dd_dlg_visitsome_L4_H64_max_p10.log\n",
      "aaai24_logs/test/n50-s4_dd_dlg_visitall_L4_H64_max_p10.log\n",
      "aaai24_logs/test/p-l35-c35-s5_dd_llg_ferry_L4_H64_mean_p10.log\n",
      "aaai24_logs/test/p-l15-c15-s3_dd_llg_ferry_L4_H64_mean_p10.log\n",
      "aaai24_logs/test/p-s25-n25-l16-seed5_dd_llg_spanner_L4_H64_mean_p10.log\n",
      "aaai24_logs/test/blocks35-task02_dd_llg_blocks_L4_H64_max_p10.log\n",
      "aaai24_logs/test/blocks25-task03_dd_llg_blocks_L4_H64_mean_p10.log\n",
      "aaai24_logs/test/p-n10-b2-w4-s2_dd_llg_sokoban_L4_H64_max_p10.log\n",
      "aaai24_logs/test/p-l80-c80-s3_dd_llg_ferry_L4_H64_mean_p10.log\n",
      "aaai24_logs/test/n50-s2_dd_llg_visitall_L4_H64_max_p10.log\n",
      "aaai24_logs/test/n45-s2_dd_slg_visitall_L4_H64_max_p10.log\n",
      "aaai24_logs/test/p-l50-c50-s3_dd_slg_ferry_L4_H64_max_p10.log\n",
      "aaai24_logs/test/p-l30-c30-s2_dd_slg_ferry_L4_H64_max_p10.log\n",
      "aaai24_logs/test/p-s45-n45-l30-seed4_dd_llg_spanner_L4_H64_mean_p10.log\n",
      "aaai24_logs/test/n25-s4_dd_llg_visitsome_L4_H64_max_p10.log\n",
      "aaai24_logs/test/n-puzzle-5x5-s4_dd_slg_n-puzzle_L4_H64_max_p10.log\n",
      "aaai24_logs/test/p-n11-b3-w3-s2_dd_llg_sokoban_L4_H64_mean_p10.log\n",
      "aaai24_logs/test/p-n9-b3-w3-s0_dd_slg_sokoban_L4_H64_max_p10.log\n",
      "aaai24_logs/test/p-l65-c65-s2_dd_llg_ferry_L4_H64_max_p10.log\n",
      "aaai24_logs/test/blocks30-task03_dd_dlg_blocks_L4_H64_max_p10.log\n",
      "aaai24_logs/test/p-n12-b2-w5-s1_dd_llg_sokoban_L4_H64_max_p10.log\n",
      "aaai24_logs/test/p-l15-c15-s2_dd_dlg_ferry_L4_H64_max_p10.log\n",
      "aaai24_logs/test/n45-s4_dd_slg_visitsome_L4_H64_max_p10.log\n",
      "aaai24_logs/test/n65-s2_dd_slg_visitsome_L4_H64_max_p10.log\n",
      "aaai24_logs/test/p-n9-b2-w5-s1_dd_slg_sokoban_L4_H64_max_p10.log\n",
      "aaai24_logs/test/n60-s3_dd_llg_visitall_L4_H64_max_p10.log\n",
      "aaai24_logs/test/p-n12-b3-w3-s0_dd_llg_sokoban_L4_H64_max_p10.log\n",
      "aaai24_logs/test/n50-s2_dd_dlg_visitsome_L4_H64_max_p10.log\n",
      "aaai24_logs/test/n70-s4_dd_dlg_visitsome_L4_H64_max_p10.log\n",
      "aaai24_logs/test/blocks25-task03_dd_slg_blocks_L4_H64_max_p10.log\n",
      "aaai24_logs/test/p-s20-n20-l13-seed4_dd_llg_spanner_L4_H64_max_p10.log\n",
      "aaai24_logs/test/p-n8-b3-w4-s2_dd_llg_sokoban_L4_H64_max_p10.log\n",
      "aaai24_logs/test/p-l15-c15-s3_dd_llg_ferry_L4_H64_max_p10.log\n",
      "aaai24_logs/test/n65-s0_dd_llg_visitall_L4_H64_max_p10.log\n",
      "aaai24_logs/test/p-l40-c40-s3_dd_slg_ferry_L4_H64_max_p10.log\n",
      "aaai24_logs/test/blocks25-task05_dd_dlg_blocks_L4_H64_max_p10.log\n",
      "aaai24_logs/test/p-s20-n20-l13-seed3_dd_llg_spanner_L4_H64_mean_p10.log\n",
      "aaai24_logs/test/n35-s1_dd_llg_visitsome_L4_H64_max_p10.log\n",
      "aaai24_logs/test/p-l55-c55-s2_dd_llg_ferry_L4_H64_max_p10.log\n",
      "aaai24_logs/test/p-n11-b3-w5-s2_dd_slg_sokoban_L4_H64_max_p10.log\n",
      "aaai24_logs/test/blocks40-task05_dd_llg_blocks_L4_H64_mean_p10.log\n",
      "aaai24_logs/test/n15-s1_dd_slg_visitall_L4_H64_max_p10.log\n",
      "aaai24_logs/test/n55-s1_dd_slg_visitsome_L4_H64_max_p10.log\n",
      "aaai24_logs/test/p-l25-c25-s2_dd_dlg_ferry_L4_H64_max_p10.log\n",
      "aaai24_logs/test/n-puzzle-7x7-s6_dd_slg_n-puzzle_L4_H64_max_p10.log\n",
      "aaai24_logs/test/p-n9-b2-w4-s0_dd_dlg_sokoban_L4_H64_max_p10.log\n",
      "aaai24_logs/test/p-n10-b2-w4-s1_dd_llg_sokoban_L4_H64_max_p10.log\n",
      "aaai24_logs/test/n60-s1_dd_dlg_visitsome_L4_H64_max_p10.log\n",
      "aaai24_logs/test/blocks40-task01_dd_llg_blocks_L4_H64_max_p10.log\n",
      "aaai24_logs/test/n30-s3_dd_llg_visitall_L4_H64_mean_p10.log\n",
      "aaai24_logs/test/p-l25-c25-s3_dd_llg_ferry_L4_H64_max_p10.log\n",
      "aaai24_logs/test/p-n12-b2-w3-s1_dd_llg_sokoban_L4_H64_mean_p10.log\n",
      "aaai24_logs/test/p-n8-b3-w4-s1_dd_llg_sokoban_L4_H64_mean_p10.log\n",
      "aaai24_logs/test/n20-s3_dd_slg_visitall_L4_H64_max_p10.log\n",
      "aaai24_logs/test/n25-s0_dd_llg_visitsome_L4_H64_max_p10.log\n",
      "aaai24_logs/test/p-s15-n15-l10-seed4_dd_slg_spanner_L4_H64_max_p10.log\n",
      "aaai24_logs/test/p-s35-n35-l23-seed2_dd_llg_spanner_L4_H64_mean_p10.log\n",
      "aaai24_logs/test/p-l45-c45-s2_dd_llg_ferry_L4_H64_max_p10.log\n",
      "aaai24_logs/test/n35-s3_dd_llg_visitall_L4_H64_max_p10.log\n",
      "aaai24_logs/test/p-n9-b2-w5-s2_dd_slg_sokoban_L4_H64_max_p10.log\n",
      "aaai24_logs/test/p-n11-b2-w4-s0_dd_llg_sokoban_L4_H64_mean_p10.log\n",
      "aaai24_logs/test/n45-s0_dd_slg_visitsome_L4_H64_max_p10.log\n",
      "aaai24_logs/test/p-l35-c35-s2_dd_dlg_ferry_L4_H64_max_p10.log\n",
      "aaai24_logs/test/p-n11-b3-w4-s0_dd_dlg_sokoban_L4_H64_max_p10.log\n",
      "aaai24_logs/test/p-n12-b2-w5-s2_dd_llg_sokoban_L4_H64_max_p10.log\n",
      "aaai24_logs/test/blocks75-task04_dd_llg_blocks_L4_H64_mean_p10.log\n",
      "aaai24_logs/test/blocks20-task04_dd_llg_blocks_L4_H64_max_p10.log\n",
      "aaai24_logs/test/n25-s0_dd_slg_visitall_L4_H64_max_p10.log\n",
      "aaai24_logs/test/n20-s2_dd_llg_visitall_L4_H64_mean_p10.log\n",
      "aaai24_logs/test/p-n8-b3-w4-s1_dd_llg_sokoban_L4_H64_max_p10.log\n",
      "aaai24_logs/test/n70-s0_dd_dlg_visitsome_L4_H64_max_p10.log\n",
      "aaai24_logs/test/p-l45-c45-s5_dd_llg_ferry_L4_H64_mean_p10.log\n",
      "aaai24_logs/test/p-l45-c45-s3_dd_dlg_ferry_L4_H64_max_p10.log\n",
      "aaai24_logs/test/n30-s0_dd_llg_visitall_L4_H64_max_p10.log\n",
      "aaai24_logs/test/p-l65-c65-s3_dd_llg_ferry_L4_H64_mean_p10.log\n",
      "aaai24_logs/test/p-s65-n65-l43-seed2_dd_llg_spanner_L4_H64_mean_p10.log\n",
      "aaai24_logs/test/gripper-n85_dd_llg_gripper_L4_H64_max_p10.log\n",
      "aaai24_logs/test/p-l35-c35-s3_dd_llg_ferry_L4_H64_max_p10.log\n",
      "aaai24_logs/test/p-n9-b3-w5-s2_dd_llg_sokoban_L4_H64_mean_p10.log\n",
      "aaai24_logs/test/p-l60-c60-s3_dd_slg_ferry_L4_H64_max_p10.log\n",
      "aaai24_logs/test/n-puzzle-6x6-s3_dd_dlg_n-puzzle_L4_H64_max_p10.log\n",
      "aaai24_logs/test/p-l35-c35-s2_dd_llg_ferry_L4_H64_max_p10.log\n",
      "aaai24_logs/test/p-l60-c60-s2_dd_slg_ferry_L4_H64_max_p10.log\n",
      "aaai24_logs/test/blocks30-task03_dd_llg_blocks_L4_H64_max_p10.log\n",
      "aaai24_logs/test/n85-s2_dd_dlg_visitsome_L4_H64_max_p10.log\n",
      "aaai24_logs/test/p-n10-b3-w5-s1_dd_slg_sokoban_L4_H64_max_p10.log\n",
      "aaai24_logs/test/n35-s2_dd_llg_visitsome_L4_H64_mean_p10.log\n",
      "aaai24_logs/test/n15-s1_dd_slg_visitsome_L4_H64_max_p10.log\n",
      "aaai24_logs/test/p-l45-c45-s2_dd_dlg_ferry_L4_H64_max_p10.log\n",
      "aaai24_logs/test/p-n10-b2-w3-s0_dd_slg_sokoban_L4_H64_max_p10.log\n",
      "aaai24_logs/test/blocks25-task05_dd_llg_blocks_L4_H64_mean_p10.log\n",
      "aaai24_logs/test/n55-s0_dd_dlg_visitall_L4_H64_max_p10.log\n",
      "aaai24_logs/test/n85-s1_dd_llg_visitsome_L4_H64_mean_p10.log\n",
      "aaai24_logs/test/p-l35-c35-s3_dd_dlg_ferry_L4_H64_max_p10.log\n",
      "aaai24_logs/test/p-n11-b2-w4-s2_dd_llg_sokoban_L4_H64_max_p10.log\n",
      "aaai24_logs/test/p-n12-b3-w5-s0_dd_dlg_sokoban_L4_H64_max_p10.log\n",
      "aaai24_logs/test/n20-s1_dd_dlg_visitsome_L4_H64_max_p10.log\n",
      "aaai24_logs/test/p-n12-b2-w3-s1_dd_dlg_sokoban_L4_H64_max_p10.log\n",
      "aaai24_logs/test/p-s25-n25-l16-seed2_dd_llg_spanner_L4_H64_mean_p10.log\n",
      "aaai24_logs/test/p-l45-c45-s3_dd_llg_ferry_L4_H64_max_p10.log\n",
      "aaai24_logs/test/n50-s3_dd_dlg_visitall_L4_H64_max_p10.log\n",
      "aaai24_logs/test/gripper-n35_dd_llg_gripper_L4_H64_mean_p10.log\n",
      "aaai24_logs/test/n90-s4_dd_slg_visitsome_L4_H64_max_p10.log\n",
      "aaai24_logs/test/p-l25-c25-s2_dd_llg_ferry_L4_H64_max_p10.log\n",
      "aaai24_logs/test/n60-s4_dd_llg_visitall_L4_H64_max_p10.log\n",
      "aaai24_logs/test/p-n8-b2-w5-s1_dd_slg_sokoban_L4_H64_max_p10.log\n",
      "aaai24_logs/test/gripper-n80_dd_llg_gripper_L4_H64_max_p10.log\n",
      "aaai24_logs/test/blocks20-task02_dd_slg_blocks_L4_H64_max_p10.log\n",
      "aaai24_logs/test/n95-s3_dd_dlg_visitsome_L4_H64_max_p10.log\n",
      "aaai24_logs/test/blocks15-task01_dd_dlg_blocks_L4_H64_max_p10.log\n",
      "aaai24_logs/test/n20-s4_dd_llg_visitsome_L4_H64_mean_p10.log\n",
      "aaai24_logs/test/n60-s2_dd_dlg_visitall_L4_H64_max_p10.log\n",
      "aaai24_logs/test/n65-s1_dd_llg_visitsome_L4_H64_mean_p10.log\n",
      "aaai24_logs/test/n-puzzle-5x5-s3_dd_slg_n-puzzle_L4_H64_max_p10.log\n",
      "aaai24_logs/test/p-s20-n20-l13-seed2_dd_llg_spanner_L4_H64_max_p10.log\n",
      "aaai24_logs/test/p-l55-c55-s2_dd_dlg_ferry_L4_H64_max_p10.log\n",
      "aaai24_logs/test/p-n8-b3-w3-s0_dd_slg_sokoban_L4_H64_max_p10.log\n",
      "aaai24_logs/test/p-s45-n45-l30-seed3_dd_llg_spanner_L4_H64_mean_p10.log\n",
      "aaai24_logs/test/blocks75-task01_dd_llg_blocks_L4_H64_mean_p10.log\n",
      "aaai24_logs/test/p-n9-b3-w4-s2_dd_llg_sokoban_L4_H64_max_p10.log\n",
      "aaai24_logs/test/p-n9-b2-w3-s0_dd_llg_sokoban_L4_H64_mean_p10.log\n",
      "aaai24_logs/test/p-l25-c25-s3_dd_dlg_ferry_L4_H64_max_p10.log\n",
      "aaai24_logs/test/p-l30-c30-s5_dd_llg_ferry_L4_H64_mean_p10.log\n",
      "aaai24_logs/test/n40-s4_dd_llg_visitall_L4_H64_mean_p10.log\n",
      "aaai24_logs/test/blocks35-task02_dd_dlg_blocks_L4_H64_max_p10.log\n",
      "aaai24_logs/test/p-n10-b3-w3-s1_dd_llg_sokoban_L4_H64_mean_p10.log\n",
      "aaai24_logs/test/n55-s0_dd_llg_visitsome_L4_H64_mean_p10.log\n",
      "aaai24_logs/test/n60-s2_dd_llg_visitall_L4_H64_mean_p10.log\n",
      "aaai24_logs/test/n30-s0_dd_dlg_visitsome_L4_H64_max_p10.log\n",
      "aaai24_logs/test/n65-s1_dd_dlg_visitall_L4_H64_max_p10.log\n",
      "aaai24_logs/test/p-s15-n15-l10-seed1_dd_slg_spanner_L4_H64_max_p10.log\n",
      "aaai24_logs/test/p-n12-b3-w4-s2_dd_slg_sokoban_L4_H64_max_p10.log\n",
      "aaai24_logs/test/p-l55-c55-s3_dd_llg_ferry_L4_H64_max_p10.log\n",
      "aaai24_logs/test/p-l85-c85-s3_dd_llg_ferry_L4_H64_mean_p10.log\n",
      "aaai24_logs/test/p-l15-c15-s2_dd_llg_ferry_L4_H64_max_p10.log\n",
      "aaai24_logs/test/n-puzzle-7x7-s1_dd_slg_n-puzzle_L4_H64_max_p10.log\n",
      "aaai24_logs/test/n100-s2_dd_slg_visitsome_L4_H64_max_p10.log\n",
      "aaai24_logs/test/p-l95-c95-s1_dd_llg_ferry_L4_H64_max_p10.log\n",
      "aaai24_logs/test/p-l40-c40-s2_dd_slg_ferry_L4_H64_max_p10.log\n",
      "aaai24_logs/test/p-n8-b2-w4-s0_dd_dlg_sokoban_L4_H64_max_p10.log\n",
      "aaai24_logs/test/n50-s3_dd_llg_visitsome_L4_H64_mean_p10.log\n",
      "aaai24_logs/test/p-n10-b3-w5-s2_dd_slg_sokoban_L4_H64_max_p10.log\n",
      "aaai24_logs/test/n35-s3_dd_slg_visitsome_L4_H64_max_p10.log\n",
      "aaai24_logs/test/p-s20-n20-l13-seed4_dd_llg_spanner_L4_H64_mean_p10.log\n",
      "aaai24_logs/test/p-l15-c15-s3_dd_dlg_ferry_L4_H64_max_p10.log\n",
      "aaai24_logs/test/p-l40-c40-s5_dd_llg_ferry_L4_H64_mean_p10.log\n",
      "aaai24_logs/test/blocks20-task04_dd_dlg_blocks_L4_H64_max_p10.log\n",
      "aaai24_logs/test/blocks40-task03_dd_llg_blocks_L4_H64_mean_p10.log\n",
      "aaai24_logs/test/p-l60-c60-s3_dd_llg_ferry_L4_H64_mean_p10.log\n",
      "aaai24_logs/test/n60-s2_dd_llg_visitsome_L4_H64_mean_p10.log\n",
      "aaai24_logs/test/p-n12-b2-w3-s2_dd_dlg_sokoban_L4_H64_max_p10.log\n",
      "aaai24_logs/test/n50-s1_dd_llg_visitall_L4_H64_mean_p10.log\n",
      "aaai24_logs/test/p-l30-c30-s3_dd_slg_ferry_L4_H64_max_p10.log\n",
      "aaai24_logs/test/p-n11-b2-w4-s1_dd_llg_sokoban_L4_H64_max_p10.log\n",
      "aaai24_logs/test/n90-s0_dd_slg_visitsome_L4_H64_max_p10.log\n",
      "aaai24_logs/test/p-l65-c65-s3_dd_llg_ferry_L4_H64_max_p10.log\n",
      "aaai24_logs/test/gripper-n75_dd_llg_gripper_L4_H64_mean_p10.log\n",
      "aaai24_logs/test/n35-s2_dd_dlg_visitall_L4_H64_max_p10.log\n",
      "aaai24_logs/test/blocks25-task05_dd_llg_blocks_L4_H64_max_p10.log\n",
      "aaai24_logs/test/p-l85-c85-s1_dd_llg_ferry_L4_H64_max_p10.log\n",
      "aaai24_logs/test/gripper-n45_dd_dlg_gripper_L4_H64_mean_p10.log\n",
      "aaai24_logs/test/p-n10-b3-w4-s0_dd_dlg_sokoban_L4_H64_max_p10.log\n",
      "aaai24_logs/test/p-s20-n20-l13-seed1_dd_llg_spanner_L4_H64_max_p10.log\n",
      "aaai24_logs/test/p-l50-c50-s2_dd_slg_ferry_L4_H64_max_p10.log\n",
      "aaai24_logs/test/p-n8-b3-w5-s1_dd_llg_sokoban_L4_H64_mean_p10.log\n",
      "aaai24_logs/test/n80-s2_dd_llg_visitsome_L4_H64_mean_p10.log\n",
      "aaai24_logs/test/n35-s4_dd_llg_visitall_L4_H64_max_p10.log\n",
      "aaai24_logs/test/p-s35-n35-l23-seed5_dd_llg_spanner_L4_H64_mean_p10.log\n",
      "aaai24_logs/test/p-n11-b2-w5-s0_dd_llg_sokoban_L4_H64_mean_p10.log\n",
      "aaai24_logs/test/n20-s4_dd_slg_visitall_L4_H64_max_p10.log\n",
      "aaai24_logs/test/p-n8-b2-w5-s2_dd_slg_sokoban_L4_H64_max_p10.log\n",
      "aaai24_logs/test/n25-s2_dd_slg_visitsome_L4_H64_max_p10.log\n",
      "aaai24_logs/test/p-s15-n15-l10-seed2_dd_slg_spanner_L4_H64_max_p10.log\n",
      "aaai24_logs/test/p-n12-b3-w4-s1_dd_slg_sokoban_L4_H64_max_p10.log\n",
      "aaai24_logs/test/p-n9-b3-w4-s2_dd_llg_sokoban_L4_H64_mean_p10.log\n",
      "aaai24_logs/test/n30-s1_dd_dlg_visitall_L4_H64_max_p10.log\n",
      "aaai24_logs/test/n30-s1_dd_llg_visitsome_L4_H64_mean_p10.log\n",
      "aaai24_logs/test/blocks40-task01_dd_dlg_blocks_L4_H64_max_p10.log\n",
      "aaai24_logs/test/n75-s4_dd_llg_visitsome_L4_H64_mean_p10.log\n",
      "aaai24_logs/test/n40-s0_dd_llg_visitall_L4_H64_mean_p10.log\n",
      "aaai24_logs/test/p-s65-n65-l43-seed5_dd_llg_spanner_L4_H64_mean_p10.log\n",
      "aaai24_logs/test/n30-s4_dd_dlg_visitsome_L4_H64_max_p10.log\n",
      "aaai24_logs/test/p-l20-c20-s3_dd_slg_ferry_L4_H64_max_p10.log\n",
      "aaai24_logs/test/blocks75-task02_dd_llg_blocks_L4_H64_mean_p10.log\n",
      "aaai24_logs/test/p-n9-b3-w4-s1_dd_llg_sokoban_L4_H64_max_p10.log\n",
      "aaai24_logs/test/p-l75-c75-s3_dd_llg_ferry_L4_H64_max_p10.log\n",
      "aaai24_logs/test/n80-s1_dd_slg_visitsome_L4_H64_max_p10.log\n",
      "aaai24_logs/test/n20-s4_dd_llg_visitall_L4_H64_max_p10.log\n",
      "aaai24_logs/test/p-n9-b2-w4-s2_dd_slg_sokoban_L4_H64_max_p10.log\n",
      "aaai24_logs/test/p-n11-b2-w3-s1_dd_dlg_sokoban_L4_H64_max_p10.log\n",
      "aaai24_logs/test/n95-s1_dd_slg_visitsome_L4_H64_max_p10.log\n",
      "aaai24_logs/test/gripper-n40_dd_dlg_gripper_L4_H64_max_p10.log\n",
      "aaai24_logs/test/n35-s4_dd_slg_visitall_L4_H64_max_p10.log\n",
      "aaai24_logs/test/p-s75-n75-l50-seed5_dd_llg_spanner_L4_H64_max_p10.log\n",
      "aaai24_logs/test/p-l20-c20-s1_dd_slg_ferry_L4_H64_max_p10.log\n",
      "aaai24_logs/test/p-n11-b3-w5-s0_dd_dlg_sokoban_L4_H64_max_p10.log\n",
      "aaai24_logs/test/p-n12-b2-w4-s2_dd_llg_sokoban_L4_H64_max_p10.log\n",
      "aaai24_logs/test/n20-s2_dd_dlg_visitall_L4_H64_max_p10.log\n",
      "aaai24_logs/test/n25-s4_dd_dlg_visitsome_L4_H64_max_p10.log\n",
      "aaai24_logs/test/p-l75-c75-s1_dd_llg_ferry_L4_H64_max_p10.log\n",
      "aaai24_logs/test/n55-s0_dd_llg_visitall_L4_H64_mean_p10.log\n",
      "aaai24_logs/test/p-l85-c85-s3_dd_llg_ferry_L4_H64_max_p10.log\n",
      "aaai24_logs/test/n30-s2_dd_slg_visitsome_L4_H64_max_p10.log\n",
      "aaai24_logs/test/p-n8-b3-w5-s1_dd_llg_sokoban_L4_H64_max_p10.log\n",
      "aaai24_logs/test/gripper-n20_dd_dlg_gripper_L4_H64_mean_p10.log\n",
      "aaai24_logs/test/n25-s1_dd_dlg_visitall_L4_H64_max_p10.log\n",
      "aaai24_logs/test/p-s40-n40-l26-seed1_dd_llg_spanner_L4_H64_mean_p10.log\n",
      "aaai24_logs/test/p-n12-b3-w3-s0_dd_llg_sokoban_L4_H64_mean_p10.log\n",
      "aaai24_logs/test/p-n8-b2-w3-s0_dd_llg_sokoban_L4_H64_max_p10.log\n",
      "aaai24_logs/test/p-l15-c15-s1_dd_dlg_ferry_L4_H64_max_p10.log\n",
      "aaai24_logs/test/n100-s4_dd_dlg_visitsome_L4_H64_max_p10.log\n",
      "aaai24_logs/test/p-n11-b3-w4-s1_dd_llg_sokoban_L4_H64_mean_p10.log\n",
      "aaai24_logs/test/p-n9-b3-w3-s1_dd_dlg_sokoban_L4_H64_max_p10.log\n",
      "aaai24_logs/test/p-n11-b3-w4-s2_dd_slg_sokoban_L4_H64_max_p10.log\n",
      "aaai24_logs/test/p-l20-c20-s2_dd_llg_ferry_L4_H64_mean_p10.log\n",
      "aaai24_logs/test/p-l30-c30-s1_dd_llg_ferry_L4_H64_mean_p10.log\n",
      "aaai24_logs/test/n85-s0_dd_slg_visitsome_L4_H64_max_p10.log\n",
      "aaai24_logs/test/gripper-n20_dd_slg_gripper_L4_H64_max_p10.log\n",
      "aaai24_logs/test/p-n8-b2-w4-s0_dd_llg_sokoban_L4_H64_mean_p10.log\n",
      "aaai24_logs/test/p-l30-c30-s1_dd_slg_ferry_L4_H64_max_p10.log\n",
      "aaai24_logs/test/p-n9-b2-w5-s0_dd_dlg_sokoban_L4_H64_max_p10.log\n",
      "aaai24_logs/test/n-puzzle-5x5-s8_dd_llg_n-puzzle_L4_H64_mean_p10.log\n",
      "aaai24_logs/test/n15-s0_dd_dlg_visitall_L4_H64_max_p10.log\n",
      "aaai24_logs/test/n45-s1_dd_llg_visitall_L4_H64_mean_p10.log\n",
      "aaai24_logs/test/n15-s3_dd_dlg_visitsome_L4_H64_max_p10.log\n",
      "aaai24_logs/test/p-l65-c65-s1_dd_llg_ferry_L4_H64_max_p10.log\n",
      "aaai24_logs/test/p-l95-c95-s3_dd_llg_ferry_L4_H64_max_p10.log\n",
      "aaai24_logs/test/blocks30-task03_dd_llg_blocks_L4_H64_mean_p10.log\n",
      "aaai24_logs/test/blocks50-task02_dd_llg_blocks_L4_H64_max_p10.log\n",
      "aaai24_logs/test/n20-s3_dd_slg_visitsome_L4_H64_max_p10.log\n",
      "aaai24_logs/test/p-n10-b2-w5-s1_dd_llg_sokoban_L4_H64_max_p10.log\n",
      "aaai24_logs/test/p-s45-n45-l30-seed2_dd_llg_spanner_L4_H64_max_p10.log\n",
      "aaai24_logs/test/p-s55-n55-l36-seed4_dd_llg_spanner_L4_H64_max_p10.log\n",
      "aaai24_logs/test/blocks15-task05_dd_dlg_blocks_L4_H64_max_p10.log\n",
      "aaai24_logs/test/p-n10-b3-w5-s2_dd_llg_sokoban_L4_H64_mean_p10.log\n",
      "aaai24_logs/test/p-n10-b3-w3-s0_dd_llg_sokoban_L4_H64_max_p10.log\n",
      "aaai24_logs/test/n40-s3_dd_llg_visitsome_L4_H64_max_p10.log\n",
      "aaai24_logs/test/p-l50-c50-s2_dd_llg_ferry_L4_H64_mean_p10.log\n",
      "aaai24_logs/test/p-l40-c40-s1_dd_llg_ferry_L4_H64_mean_p10.log\n",
      "aaai24_logs/test/p-n12-b2-w4-s1_dd_llg_sokoban_L4_H64_max_p10.log\n",
      "aaai24_logs/test/blocks60-task04_dd_llg_blocks_L4_H64_mean_p10.log\n",
      "aaai24_logs/test/n75-s2_dd_dlg_visitall_L4_H64_max_p10.log\n",
      "aaai24_logs/test/p-l70-c70-s4_dd_llg_ferry_L4_H64_mean_p10.log\n",
      "aaai24_logs/test/p-l25-c25-s1_dd_dlg_ferry_L4_H64_max_p10.log\n",
      "aaai24_logs/test/n-puzzle-5x5-s3_dd_llg_n-puzzle_L4_H64_max_p10.log\n",
      "aaai24_logs/test/p-n9-b2-w4-s1_dd_slg_sokoban_L4_H64_max_p10.log\n",
      "aaai24_logs/test/p-n11-b2-w3-s2_dd_dlg_sokoban_L4_H64_max_p10.log\n",
      "aaai24_logs/test/p-l55-c55-s1_dd_llg_ferry_L4_H64_max_p10.log\n",
      "aaai24_logs/test/n25-s0_dd_dlg_visitsome_L4_H64_max_p10.log\n",
      "aaai24_logs/test/n-puzzle-5x5-s5_dd_dlg_n-puzzle_L4_H64_max_p10.log\n",
      "aaai24_logs/test/n55-s4_dd_llg_visitall_L4_H64_mean_p10.log\n",
      "aaai24_logs/test/blocks15-task03_dd_slg_blocks_L4_H64_max_p10.log\n",
      "aaai24_logs/test/n60-s4_dd_slg_visitall_L4_H64_max_p10.log\n",
      "aaai24_logs/test/blocks45-task04_dd_llg_blocks_L4_H64_max_p10.log\n",
      "aaai24_logs/test/n70-s1_dd_dlg_visitall_L4_H64_max_p10.log\n",
      "aaai24_logs/test/gripper-n60_dd_dlg_gripper_L4_H64_mean_p10.log\n",
      "aaai24_logs/test/gripper-n35_dd_dlg_gripper_L4_H64_max_p10.log\n",
      "aaai24_logs/test/n80-s3_dd_dlg_visitsome_L4_H64_max_p10.log\n",
      "aaai24_logs/test/p-n12-b2-w4-s2_dd_llg_sokoban_L4_H64_mean_p10.log\n",
      "aaai24_logs/test/p-n8-b3-w5-s2_dd_llg_sokoban_L4_H64_max_p10.log\n",
      "aaai24_logs/test/n100-s0_dd_dlg_visitsome_L4_H64_max_p10.log\n",
      "aaai24_logs/test/p-s15-n15-l10-seed5_dd_dlg_spanner_L4_H64_max_p10.log\n",
      "aaai24_logs/test/p-l35-c35-s1_dd_dlg_ferry_L4_H64_max_p10.log\n",
      "aaai24_logs/test/n85-s4_dd_slg_visitsome_L4_H64_max_p10.log\n",
      "aaai24_logs/test/p-n8-b3-w3-s2_dd_llg_sokoban_L4_H64_mean_p10.log\n",
      "aaai24_logs/test/n40-s0_dd_dlg_visitall_L4_H64_max_p10.log\n",
      "aaai24_logs/test/gripper-n65_dd_llg_gripper_L4_H64_max_p10.log\n",
      "aaai24_logs/test/n-puzzle-6x6-s5_dd_slg_n-puzzle_L4_H64_max_p10.log\n",
      "aaai24_logs/test/blocks55-task05_dd_llg_blocks_L4_H64_mean_p10.log\n",
      "aaai24_logs/test/p-n9-b3-w3-s2_dd_dlg_sokoban_L4_H64_max_p10.log\n",
      "aaai24_logs/test/p-n11-b3-w4-s1_dd_slg_sokoban_L4_H64_max_p10.log\n",
      "aaai24_logs/test/n65-s3_dd_llg_visitall_L4_H64_mean_p10.log\n",
      "aaai24_logs/test/gripper-n50_dd_llg_gripper_L4_H64_mean_p10.log\n",
      "aaai24_logs/test/p-l45-c45-s1_dd_llg_ferry_L4_H64_max_p10.log\n",
      "aaai24_logs/test/n35-s1_dd_dlg_visitsome_L4_H64_max_p10.log\n",
      "aaai24_logs/test/blocks25-task01_dd_llg_blocks_L4_H64_max_p10.log\n",
      "aaai24_logs/test/p-s45-n45-l30-seed1_dd_llg_spanner_L4_H64_max_p10.log\n",
      "aaai24_logs/test/n45-s3_dd_dlg_visitall_L4_H64_max_p10.log\n",
      "aaai24_logs/test/p-n10-b2-w5-s2_dd_llg_sokoban_L4_H64_max_p10.log\n",
      "aaai24_logs/test/n90-s2_dd_dlg_visitsome_L4_H64_max_p10.log\n",
      "aaai24_logs/test/p-l25-c25-s2_dd_llg_ferry_L4_H64_mean_p10.log\n",
      "aaai24_logs/test/p-l35-c35-s1_dd_llg_ferry_L4_H64_mean_p10.log\n",
      "aaai24_logs/test/p-n10-b3-w5-s0_dd_dlg_sokoban_L4_H64_max_p10.log\n",
      "aaai24_logs/test/p-l45-c45-s1_dd_dlg_ferry_L4_H64_max_p10.log\n",
      "aaai24_logs/test/n35-s3_dd_slg_visitall_L4_H64_max_p10.log\n",
      "aaai24_logs/test/gripper-n30_dd_dlg_gripper_L4_H64_max_p10.log\n",
      "aaai24_logs/test/n65-s0_dd_dlg_visitsome_L4_H64_max_p10.log\n",
      "aaai24_logs/test/p-n8-b2-w4-s2_dd_slg_sokoban_L4_H64_max_p10.log\n",
      "aaai24_logs/test/p-n10-b2-w3-s1_dd_dlg_sokoban_L4_H64_max_p10.log\n",
      "aaai24_logs/test/n35-s2_dd_llg_visitall_L4_H64_mean_p10.log\n",
      "aaai24_logs/test/n15-s4_dd_llg_visitall_L4_H64_mean_p10.log\n",
      "aaai24_logs/test/p-l90-c90-s4_dd_llg_ferry_L4_H64_mean_p10.log\n",
      "aaai24_logs/test/n45-s4_dd_llg_visitsome_L4_H64_mean_p10.log\n",
      "aaai24_logs/test/p-l35-c35-s1_dd_llg_ferry_L4_H64_max_p10.log\n",
      "aaai24_logs/test/p-l60-c60-s1_dd_slg_ferry_L4_H64_max_p10.log\n",
      "aaai24_logs/test/n80-s3_dd_llg_visitsome_L4_H64_mean_p10.log\n",
      "aaai24_logs/test/n20-s3_dd_llg_visitall_L4_H64_max_p10.log\n",
      "aaai24_logs/test/n50-s0_dd_slg_visitsome_L4_H64_max_p10.log\n",
      "aaai24_logs/test/n30-s0_dd_llg_visitsome_L4_H64_mean_p10.log\n",
      "aaai24_logs/test/p-s55-n55-l36-seed1_dd_llg_spanner_L4_H64_mean_p10.log\n",
      "aaai24_logs/test/p-n12-b3-w5-s1_dd_slg_sokoban_L4_H64_max_p10.log\n",
      "aaai24_logs/test/p-n9-b2-w3-s0_dd_llg_sokoban_L4_H64_max_p10.log\n",
      "aaai24_logs/test/n30-s0_dd_llg_visitsome_L4_H64_max_p10.log\n",
      "aaai24_logs/test/blocks15-task05_dd_llg_blocks_L4_H64_max_p10.log\n",
      "aaai24_logs/test/n30-s0_dd_slg_visitall_L4_H64_max_p10.log\n",
      "aaai24_logs/test/blocks60-task01_dd_llg_blocks_L4_H64_mean_p10.log\n",
      "aaai24_logs/test/p-n12-b2-w3-s0_dd_slg_sokoban_L4_H64_max_p10.log\n",
      "aaai24_logs/test/p-s75-n75-l50-seed3_dd_llg_spanner_L4_H64_max_p10.log\n",
      "aaai24_logs/test/p-n9-b3-w5-s1_dd_llg_sokoban_L4_H64_max_p10.log\n",
      "aaai24_logs/test/n25-s0_dd_llg_visitall_L4_H64_max_p10.log\n",
      "aaai24_logs/test/blocks30-task05_dd_llg_blocks_L4_H64_mean_p10.log\n",
      "aaai24_logs/test/p-n8-b2-w5-s0_dd_dlg_sokoban_L4_H64_max_p10.log\n",
      "aaai24_logs/test/blocks55-task03_dd_llg_blocks_L4_H64_max_p10.log\n",
      "aaai24_logs/test/p-l55-c55-s1_dd_dlg_ferry_L4_H64_max_p10.log\n",
      "aaai24_logs/test/n-puzzle-5x5-s0_dd_llg_n-puzzle_L4_H64_mean_p10.log\n",
      "aaai24_logs/test/n15-s1_dd_llg_visitall_L4_H64_max_p10.log\n",
      "aaai24_logs/test/n25-s3_dd_llg_visitall_L4_H64_mean_p10.log\n",
      "aaai24_logs/test/p-n11-b3-w5-s1_dd_llg_sokoban_L4_H64_mean_p10.log\n",
      "aaai24_logs/test/n75-s1_dd_dlg_visitsome_L4_H64_max_p10.log\n",
      "aaai24_logs/test/p-l25-c25-s1_dd_llg_ferry_L4_H64_max_p10.log\n",
      "aaai24_logs/test/n50-s2_dd_llg_visitsome_L4_H64_mean_p10.log\n",
      "aaai24_logs/test/p-n8-b3-w3-s1_dd_dlg_sokoban_L4_H64_max_p10.log\n",
      "aaai24_logs/test/n-puzzle-7x7-s0_dd_dlg_n-puzzle_L4_H64_max_p10.log\n",
      "aaai24_logs/test/p-n10-b3-w4-s2_dd_slg_sokoban_L4_H64_max_p10.log\n",
      "aaai24_logs/test/p-s45-n45-l30-seed4_dd_llg_spanner_L4_H64_max_p10.log\n",
      "aaai24_logs/test/p-s55-n55-l36-seed2_dd_llg_spanner_L4_H64_max_p10.log\n",
      "aaai24_logs/test/p-n8-b2-w5-s0_dd_llg_sokoban_L4_H64_mean_p10.log\n",
      "aaai24_logs/test/gripper-n90_dd_llg_gripper_L4_H64_mean_p10.log\n",
      "aaai24_logs/test/p-n10-b3-w4-s2_dd_llg_sokoban_L4_H64_mean_p10.log\n",
      "aaai24_logs/test/n40-s1_dd_slg_visitsome_L4_H64_max_p10.log\n",
      "aaai24_logs/test/p-n11-b3-w3-s0_dd_llg_sokoban_L4_H64_max_p10.log\n",
      "aaai24_logs/test/n60-s3_dd_llg_visitsome_L4_H64_mean_p10.log\n",
      "aaai24_logs/test/n20-s1_dd_llg_visitsome_L4_H64_max_p10.log\n",
      "aaai24_logs/test/gripper-n60_dd_llg_gripper_L4_H64_max_p10.log\n",
      "aaai24_logs/test/p-n11-b2-w5-s1_dd_llg_sokoban_L4_H64_max_p10.log\n",
      "aaai24_logs/test/blocks30-task01_dd_slg_blocks_L4_H64_max_p10.log\n",
      "aaai24_logs/test/n60-s3_dd_slg_visitall_L4_H64_max_p10.log\n",
      "aaai24_logs/test/p-n8-b2-w4-s1_dd_slg_sokoban_L4_H64_max_p10.log\n",
      "aaai24_logs/test/p-n10-b2-w3-s2_dd_dlg_sokoban_L4_H64_max_p10.log\n",
      "aaai24_logs/test/n-puzzle-5x5-s2_dd_dlg_n-puzzle_L4_H64_max_p10.log\n",
      "aaai24_logs/test/blocks40-task05_dd_llg_blocks_L4_H64_max_p10.log\n",
      "aaai24_logs/test/gripper-n100_dd_llg_gripper_L4_H64_max_p10.log\n",
      "aaai24_logs/test/n-puzzle-5x5-s4_dd_llg_n-puzzle_L4_H64_max_p10.log\n",
      "aaai24_logs/test/n65-s4_dd_dlg_visitsome_L4_H64_max_p10.log\n",
      "aaai24_logs/test/p-l15-c15-s1_dd_llg_ferry_L4_H64_max_p10.log\n",
      "aaai24_logs/test/n45-s2_dd_dlg_visitsome_L4_H64_max_p10.log\n",
      "aaai24_logs/test/n15-s0_dd_llg_visitall_L4_H64_mean_p10.log\n",
      "aaai24_logs/test/p-l95-c95-s2_dd_llg_ferry_L4_H64_max_p10.log\n",
      "aaai24_logs/test/p-l40-c40-s1_dd_slg_ferry_L4_H64_max_p10.log\n",
      "aaai24_logs/test/n65-s0_dd_llg_visitsome_L4_H64_mean_p10.log\n",
      "aaai24_logs/test/n70-s2_dd_slg_visitsome_L4_H64_max_p10.log\n",
      "aaai24_logs/test/n65-s0_dd_slg_visitall_L4_H64_max_p10.log\n",
      "aaai24_logs/test/n55-s1_dd_llg_visitsome_L4_H64_mean_p10.log\n",
      "aaai24_logs/test/blocks25-task01_dd_dlg_blocks_L4_H64_max_p10.log\n",
      "aaai24_logs/test/n50-s4_dd_slg_visitsome_L4_H64_max_p10.log\n",
      "aaai24_logs/test/blocks60-task02_dd_llg_blocks_L4_H64_mean_p10.log\n",
      "aaai24_logs/test/p-n12-b2-w5-s2_dd_llg_sokoban_L4_H64_mean_p10.log\n",
      "aaai24_logs/test/p-n9-b3-w5-s2_dd_llg_sokoban_L4_H64_max_p10.log\n",
      "aaai24_logs/test/gripper-n45_dd_dlg_gripper_L4_H64_max_p10.log\n",
      "aaai24_logs/test/n30-s4_dd_llg_visitsome_L4_H64_max_p10.log\n",
      "aaai24_logs/test/p-n12-b3-w5-s2_dd_slg_sokoban_L4_H64_max_p10.log\n",
      "aaai24_logs/test/p-n8-b3-w3-s2_dd_dlg_sokoban_L4_H64_max_p10.log\n",
      "aaai24_logs/test/n40-s1_dd_llg_visitall_L4_H64_max_p10.log\n",
      "aaai24_logs/test/p-n10-b3-w4-s1_dd_slg_sokoban_L4_H64_max_p10.log\n",
      "aaai24_logs/test/p-l55-c55-s2_dd_llg_ferry_L4_H64_mean_p10.log\n",
      "aaai24_logs/test/p-l45-c45-s1_dd_llg_ferry_L4_H64_mean_p10.log\n",
      "aaai24_logs/test/p-l75-c75-s4_dd_llg_ferry_L4_H64_mean_p10.log\n",
      "aaai24_logs/test/p-s55-n55-l36-seed1_dd_llg_spanner_L4_H64_max_p10.log\n",
      "aaai24_logs/test/n55-s1_dd_slg_visitall_L4_H64_max_p10.log\n",
      "aaai24_logs/test/n-puzzle-5x5-s4_dd_llg_n-puzzle_L4_H64_mean_p10.log\n",
      "aaai24_logs/test/gripper-n15_dd_llg_gripper_L4_H64_max_p10.log\n",
      "aaai24_logs/test/p-s15-n15-l10-seed1_dd_llg_spanner_L4_H64_mean_p10.log\n",
      "aaai24_logs/test/p-l85-c85-s2_dd_llg_ferry_L4_H64_max_p10.log\n",
      "aaai24_logs/test/n55-s3_dd_dlg_visitsome_L4_H64_max_p10.log\n",
      "aaai24_logs/test/n-puzzle-6x6-s2_dd_slg_n-puzzle_L4_H64_max_p10.log\n",
      "aaai24_logs/test/n35-s3_dd_llg_visitsome_L4_H64_mean_p10.log\n",
      "aaai24_logs/test/p-l50-c50-s1_dd_slg_ferry_L4_H64_max_p10.log\n",
      "aaai24_logs/test/n45-s2_dd_llg_visitall_L4_H64_max_p10.log\n",
      "aaai24_logs/test/n60-s3_dd_slg_visitsome_L4_H64_max_p10.log\n",
      "aaai24_logs/test/p-n10-b2-w3-s0_dd_llg_sokoban_L4_H64_mean_p10.log\n",
      "aaai24_logs/test/p-n11-b2-w5-s2_dd_llg_sokoban_L4_H64_max_p10.log\n",
      "aaai24_logs/test/p-n12-b3-w4-s0_dd_dlg_sokoban_L4_H64_max_p10.log\n",
      "aaai24_logs/test/p-s15-n15-l10-seed3_dd_dlg_spanner_L4_H64_max_p10.log\n",
      "aaai24_logs/test/n50-s2_dd_slg_visitall_L4_H64_max_p10.log\n",
      "aaai24_logs/test/n85-s0_dd_llg_visitsome_L4_H64_mean_p10.log\n",
      "aaai24_logs/test/p-n9-b3-w3-s1_dd_llg_sokoban_L4_H64_mean_p10.log\n",
      "aaai24_logs/test/gripper-n25_dd_slg_gripper_L4_H64_max_p10.log\n",
      "aaai24_logs/test/n45-s4_dd_dlg_visitall_L4_H64_max_p10.log\n",
      "aaai24_logs/test/blocks55-task03_dd_llg_blocks_L4_H64_mean_p10.log\n",
      "aaai24_logs/test/n65-s4_dd_slg_visitsome_L4_H64_max_p10.log\n",
      "aaai24_logs/test/gripper-n15_dd_dlg_gripper_L4_H64_max_p10.log\n",
      "aaai24_logs/test/n45-s2_dd_slg_visitsome_L4_H64_max_p10.log\n",
      "aaai24_logs/test/n70-s3_dd_dlg_visitall_L4_H64_max_p10.log\n",
      "aaai24_logs/test/blocks30-task01_dd_llg_blocks_L4_H64_max_p10.log\n",
      "aaai24_logs/test/n25-s2_dd_llg_visitsome_L4_H64_max_p10.log\n",
      "aaai24_logs/test/p-n8-b3-w3-s2_dd_llg_sokoban_L4_H64_max_p10.log\n",
      "aaai24_logs/test/p-n12-b2-w4-s0_dd_llg_sokoban_L4_H64_mean_p10.log\n",
      "aaai24_logs/test/p-s70-n70-l46-seed1_dd_llg_spanner_L4_H64_max_p10.log\n",
      "aaai24_logs/test/n-puzzle-5x5-s1_dd_llg_n-puzzle_L4_H64_max_p10.log\n",
      "aaai24_logs/test/p-n9-b3-w4-s0_dd_slg_sokoban_L4_H64_max_p10.log\n",
      "aaai24_logs/test/n75-s0_dd_dlg_visitall_L4_H64_max_p10.log\n",
      "aaai24_logs/test/p-l90-c90-s5_dd_llg_ferry_L4_H64_max_p10.log\n",
      "aaai24_logs/test/blocks65-task03_dd_llg_blocks_L4_H64_mean_p10.log\n",
      "aaai24_logs/test/n70-s2_dd_dlg_visitsome_L4_H64_max_p10.log\n",
      "aaai24_logs/test/n20-s0_dd_llg_visitall_L4_H64_mean_p10.log\n",
      "aaai24_logs/test/p-s50-n50-l33-seed2_dd_llg_spanner_L4_H64_mean_p10.log\n",
      "aaai24_logs/test/n-puzzle-5x5-s7_dd_dlg_n-puzzle_L4_H64_max_p10.log\n",
      "aaai24_logs/test/n50-s4_dd_dlg_visitsome_L4_H64_max_p10.log\n",
      "aaai24_logs/test/p-s15-n15-l10-seed3_dd_llg_spanner_L4_H64_max_p10.log\n",
      "aaai24_logs/test/p-n12-b3-w4-s0_dd_llg_sokoban_L4_H64_max_p10.log\n",
      "aaai24_logs/test/p-n11-b2-w5-s2_dd_dlg_sokoban_L4_H64_max_p10.log\n",
      "aaai24_logs/test/n45-s1_dd_dlg_visitall_L4_H64_max_p10.log\n",
      "aaai24_logs/test/n55-s3_dd_slg_visitsome_L4_H64_max_p10.log\n",
      "aaai24_logs/test/blocks50-task04_dd_llg_blocks_L4_H64_max_p10.log\n",
      "aaai24_logs/test/p-n10-b2-w3-s2_dd_llg_sokoban_L4_H64_max_p10.log\n",
      "aaai24_logs/test/n35-s3_dd_llg_visitsome_L4_H64_max_p10.log\n",
      "aaai24_logs/test/blocks15-task03_dd_dlg_blocks_L4_H64_max_p10.log\n",
      "aaai24_logs/test/n-puzzle-6x6-s7_dd_slg_n-puzzle_L4_H64_max_p10.log\n",
      "aaai24_logs/test/p-n8-b3-w3-s0_dd_llg_sokoban_L4_H64_mean_p10.log\n",
      "aaai24_logs/test/n40-s2_dd_dlg_visitall_L4_H64_max_p10.log\n",
      "aaai24_logs/test/gripper-n45_dd_llg_gripper_L4_H64_max_p10.log\n",
      "aaai24_logs/test/p-s15-n15-l10-seed4_dd_llg_spanner_L4_H64_mean_p10.log\n",
      "aaai24_logs/test/p-l80-c80-s5_dd_llg_ferry_L4_H64_max_p10.log\n",
      "aaai24_logs/test/p-n11-b2-w4-s0_dd_slg_sokoban_L4_H64_max_p10.log\n",
      "aaai24_logs/test/p-l20-c20-s4_dd_llg_ferry_L4_H64_mean_p10.log\n",
      "aaai24_logs/test/p-n11-b2-w3-s1_dd_llg_sokoban_L4_H64_mean_p10.log\n",
      "aaai24_logs/test/n30-s1_dd_llg_visitall_L4_H64_mean_p10.log\n",
      "aaai24_logs/test/n40-s4_dd_llg_visitall_L4_H64_max_p10.log\n",
      "aaai24_logs/test/n60-s3_dd_dlg_visitsome_L4_H64_max_p10.log\n",
      "aaai24_logs/test/blocks50-task02_dd_llg_blocks_L4_H64_mean_p10.log\n",
      "aaai24_logs/test/p-n9-b3-w5-s2_dd_dlg_sokoban_L4_H64_max_p10.log\n",
      "aaai24_logs/test/p-l85-c85-s1_dd_llg_ferry_L4_H64_mean_p10.log\n",
      "aaai24_logs/test/p-s80-n80-l53-seed1_dd_llg_spanner_L4_H64_max_p10.log\n",
      "aaai24_logs/test/n55-s4_dd_slg_visitall_L4_H64_max_p10.log\n",
      "aaai24_logs/test/p-s35-n35-l23-seed1_dd_llg_spanner_L4_H64_max_p10.log\n",
      "aaai24_logs/test/blocks45-task02_dd_llg_blocks_L4_H64_max_p10.log\n",
      "aaai24_logs/test/n65-s0_dd_slg_visitsome_L4_H64_max_p10.log\n",
      "aaai24_logs/test/p-n8-b3-w3-s1_dd_llg_sokoban_L4_H64_max_p10.log\n",
      "aaai24_logs/test/p-s20-n20-l13-seed3_dd_slg_spanner_L4_H64_max_p10.log\n",
      "aaai24_logs/test/p-s70-n70-l46-seed2_dd_llg_spanner_L4_H64_max_p10.log\n",
      "aaai24_logs/test/p-s60-n60-l40-seed4_dd_llg_spanner_L4_H64_max_p10.log\n",
      "aaai24_logs/test/n-puzzle-6x6-s8_dd_dlg_n-puzzle_L4_H64_max_p10.log\n",
      "aaai24_logs/test/p-n12-b3-w3-s2_dd_llg_sokoban_L4_H64_mean_p10.log\n",
      "aaai24_logs/test/p-n8-b2-w5-s0_dd_llg_sokoban_L4_H64_max_p10.log\n",
      "aaai24_logs/test/p-s40-n40-l26-seed3_dd_llg_spanner_L4_H64_mean_p10.log\n",
      "aaai24_logs/test/n25-s3_dd_dlg_visitall_L4_H64_max_p10.log\n",
      "aaai24_logs/test/p-s55-n55-l36-seed4_dd_llg_spanner_L4_H64_mean_p10.log\n",
      "aaai24_logs/test/p-s30-n30-l20-seed5_dd_llg_spanner_L4_H64_max_p10.log\n",
      "aaai24_logs/test/p-l70-c70-s2_dd_llg_ferry_L4_H64_mean_p10.log\n",
      "aaai24_logs/test/p-l60-c60-s1_dd_llg_ferry_L4_H64_mean_p10.log\n",
      "aaai24_logs/test/gripper-n60_dd_dlg_gripper_L4_H64_max_p10.log\n",
      "aaai24_logs/test/p-l50-c50-s4_dd_llg_ferry_L4_H64_mean_p10.log\n",
      "aaai24_logs/test/p-n11-b2-w5-s1_dd_dlg_sokoban_L4_H64_max_p10.log\n",
      "aaai24_logs/test/blocks80-task03_dd_llg_blocks_L4_H64_mean_p10.log\n",
      "aaai24_logs/test/n20-s4_dd_llg_visitall_L4_H64_mean_p10.log\n",
      "aaai24_logs/test/n50-s0_dd_dlg_visitsome_L4_H64_max_p10.log\n",
      "aaai24_logs/test/n20-s0_dd_dlg_visitall_L4_H64_max_p10.log\n",
      "aaai24_logs/test/blocks15-task05_dd_slg_blocks_L4_H64_max_p10.log\n",
      "aaai24_logs/test/p-n11-b3-w3-s0_dd_dlg_sokoban_L4_H64_max_p10.log\n",
      "aaai24_logs/test/blocks35-task04_dd_llg_blocks_L4_H64_mean_p10.log\n",
      "aaai24_logs/test/n75-s1_dd_slg_visitsome_L4_H64_max_p10.log\n",
      "aaai24_logs/test/gripper-n30_dd_llg_gripper_L4_H64_max_p10.log\n",
      "aaai24_logs/test/n80-s1_dd_dlg_visitall_L4_H64_max_p10.log\n",
      "aaai24_logs/test/p-n10-b2-w3-s1_dd_llg_sokoban_L4_H64_max_p10.log\n",
      "aaai24_logs/test/p-n10-b3-w5-s0_dd_llg_sokoban_L4_H64_max_p10.log\n",
      "aaai24_logs/test/p-n9-b2-w5-s1_dd_llg_sokoban_L4_H64_mean_p10.log\n",
      "aaai24_logs/test/n15-s1_dd_llg_visitsome_L4_H64_max_p10.log\n",
      "aaai24_logs/test/p-n10-b3-w5-s0_dd_llg_sokoban_L4_H64_mean_p10.log\n",
      "aaai24_logs/test/n-puzzle-5x5-s8_dd_slg_n-puzzle_L4_H64_max_p10.log\n",
      "aaai24_logs/test/n15-s4_dd_llg_visitall_L4_H64_max_p10.log\n",
      "aaai24_logs/test/p-n8-b2-w4-s2_dd_llg_sokoban_L4_H64_mean_p10.log\n",
      "aaai24_logs/test/n-puzzle-7x7-s5_dd_dlg_n-puzzle_L4_H64_max_p10.log\n",
      "aaai24_logs/test/p-s35-n35-l23-seed2_dd_llg_spanner_L4_H64_max_p10.log\n",
      "aaai24_logs/test/blocks50-task01_dd_llg_blocks_L4_H64_mean_p10.log\n",
      "aaai24_logs/test/p-s40-n40-l26-seed5_dd_llg_spanner_L4_H64_max_p10.log\n",
      "aaai24_logs/test/p-n9-b3-w5-s1_dd_dlg_sokoban_L4_H64_max_p10.log\n",
      "aaai24_logs/test/p-s80-n80-l53-seed2_dd_llg_spanner_L4_H64_max_p10.log\n",
      "aaai24_logs/test/gripper-n95_dd_llg_gripper_L4_H64_mean_p10.log\n",
      "aaai24_logs/test/p-s25-n25-l16-seed5_dd_llg_spanner_L4_H64_max_p10.log\n",
      "aaai24_logs/test/n15-s2_dd_dlg_visitall_L4_H64_max_p10.log\n",
      "aaai24_logs/test/n40-s1_dd_dlg_visitsome_L4_H64_max_p10.log\n",
      "aaai24_logs/test/p-n9-b2-w3-s0_dd_dlg_sokoban_L4_H64_max_p10.log\n",
      "aaai24_logs/test/p-s65-n65-l43-seed3_dd_llg_spanner_L4_H64_max_p10.log\n",
      "aaai24_logs/test/p-n12-b2-w5-s0_dd_llg_sokoban_L4_H64_mean_p10.log\n",
      "aaai24_logs/test/blocks65-task05_dd_llg_blocks_L4_H64_mean_p10.log\n",
      "aaai24_logs/test/p-n9-b3-w3-s2_dd_llg_sokoban_L4_H64_max_p10.log\n",
      "aaai24_logs/test/n90-s0_dd_llg_visitsome_L4_H64_mean_p10.log\n",
      "aaai24_logs/test/n25-s0_dd_slg_visitsome_L4_H64_max_p10.log\n",
      "aaai24_logs/test/n65-s2_dd_slg_visitall_L4_H64_max_p10.log\n",
      "aaai24_logs/test/p-n12-b3-w3-s2_dd_slg_sokoban_L4_H64_max_p10.log\n",
      "aaai24_logs/test/n70-s4_dd_dlg_visitall_L4_H64_max_p10.log\n",
      "aaai24_logs/test/p-s15-n15-l10-seed5_dd_llg_spanner_L4_H64_max_p10.log\n",
      "aaai24_logs/test/blocks15-task03_dd_llg_blocks_L4_H64_max_p10.log\n",
      "aaai24_logs/test/gripper-n65_dd_dlg_gripper_L4_H64_max_p10.log\n",
      "aaai24_logs/test/gripper-n65_dd_dlg_gripper_L4_H64_mean_p10.log\n",
      "aaai24_logs/test/p-l15-c15-s1_dd_llg_ferry_L4_H64_mean_p10.log\n",
      "aaai24_logs/test/p-l25-c25-s4_dd_llg_ferry_L4_H64_mean_p10.log\n",
      "aaai24_logs/test/n-puzzle-5x5-s0_dd_dlg_n-puzzle_L4_H64_max_p10.log\n",
      "aaai24_logs/test/n80-s3_dd_slg_visitsome_L4_H64_max_p10.log\n",
      "aaai24_logs/test/n60-s1_dd_slg_visitall_L4_H64_max_p10.log\n",
      "aaai24_logs/test/p-s50-n50-l33-seed5_dd_llg_spanner_L4_H64_mean_p10.log\n",
      "aaai24_logs/test/p-n10-b2-w5-s2_dd_dlg_sokoban_L4_H64_max_p10.log\n",
      "aaai24_logs/test/p-l90-c90-s2_dd_llg_ferry_L4_H64_mean_p10.log\n",
      "aaai24_logs/test/p-s60-n60-l40-seed1_dd_llg_spanner_L4_H64_max_p10.log\n",
      "aaai24_logs/test/p-l80-c80-s1_dd_llg_ferry_L4_H64_mean_p10.log\n",
      "aaai24_logs/test/n20-s3_dd_llg_visitsome_L4_H64_mean_p10.log\n",
      "aaai24_logs/test/n60-s4_dd_llg_visitall_L4_H64_mean_p10.log\n",
      "aaai24_logs/test/p-n8-b3-w4-s0_dd_slg_sokoban_L4_H64_max_p10.log\n",
      "aaai24_logs/test/n40-s2_dd_llg_visitall_L4_H64_mean_p10.log\n",
      "aaai24_logs/test/n-puzzle-5x5-s6_dd_llg_n-puzzle_L4_H64_max_p10.log\n",
      "aaai24_logs/test/p-n11-b2-w3-s2_dd_llg_sokoban_L4_H64_max_p10.log\n",
      "aaai24_logs/test/n50-s0_dd_slg_visitall_L4_H64_max_p10.log\n",
      "aaai24_logs/test/p-n10-b2-w3-s2_dd_llg_sokoban_L4_H64_mean_p10.log\n",
      "aaai24_logs/test/blocks30-task01_dd_dlg_blocks_L4_H64_max_p10.log\n",
      "aaai24_logs/test/n35-s1_dd_slg_visitsome_L4_H64_max_p10.log\n",
      "aaai24_logs/test/n40-s1_dd_llg_visitsome_L4_H64_mean_p10.log\n",
      "aaai24_logs/test/n45-s0_dd_llg_visitall_L4_H64_max_p10.log\n",
      "aaai24_logs/test/blocks50-task04_dd_llg_blocks_L4_H64_mean_p10.log\n",
      "aaai24_logs/test/n100-s0_dd_slg_visitsome_L4_H64_max_p10.log\n",
      "aaai24_logs/test/p-n12-b2-w4-s1_dd_dlg_sokoban_L4_H64_max_p10.log\n",
      "aaai24_logs/test/n85-s4_dd_dlg_visitsome_L4_H64_max_p10.log\n",
      "aaai24_logs/test/n55-s3_dd_slg_visitall_L4_H64_max_p10.log\n",
      "aaai24_logs/test/gripper-n55_dd_llg_gripper_L4_H64_mean_p10.log\n",
      "aaai24_logs/test/p-n8-b3-w5-s2_dd_dlg_sokoban_L4_H64_max_p10.log\n",
      "aaai24_logs/test/n90-s2_dd_slg_visitsome_L4_H64_max_p10.log\n",
      "aaai24_logs/test/blocks25-task01_dd_slg_blocks_L4_H64_max_p10.log\n",
      "aaai24_logs/test/n40-s3_dd_llg_visitall_L4_H64_max_p10.log\n",
      "aaai24_logs/test/n70-s0_dd_llg_visitsome_L4_H64_mean_p10.log\n",
      "aaai24_logs/test/n-puzzle-6x6-s0_dd_slg_n-puzzle_L4_H64_max_p10.log\n",
      "aaai24_logs/test/p-s15-n15-l10-seed3_dd_llg_spanner_L4_H64_mean_p10.log\n",
      "aaai24_logs/test/gripper-n35_dd_llg_gripper_L4_H64_max_p10.log\n",
      "aaai24_logs/test/blocks35-task01_dd_llg_blocks_L4_H64_mean_p10.log\n",
      "aaai24_logs/test/p-n10-b2-w4-s0_dd_slg_sokoban_L4_H64_max_p10.log\n",
      "aaai24_logs/test/n50-s3_dd_llg_visitall_L4_H64_mean_p10.log\n",
      "aaai24_logs/test/n75-s3_dd_llg_visitsome_L4_H64_mean_p10.log\n",
      "aaai24_logs/test/p-n9-b2-w5-s0_dd_llg_sokoban_L4_H64_max_p10.log\n",
      "aaai24_logs/test/p-n12-b3-w3-s1_dd_slg_sokoban_L4_H64_max_p10.log\n",
      "aaai24_logs/test/p-s55-n55-l36-seed3_dd_llg_spanner_L4_H64_mean_p10.log\n",
      "aaai24_logs/test/n25-s4_dd_dlg_visitall_L4_H64_max_p10.log\n",
      "aaai24_logs/test/p-s40-n40-l26-seed4_dd_llg_spanner_L4_H64_mean_p10.log\n",
      "aaai24_logs/test/n25-s4_dd_slg_visitsome_L4_H64_max_p10.log\n",
      "aaai24_logs/test/p-n9-b3-w3-s1_dd_llg_sokoban_L4_H64_max_p10.log\n",
      "aaai24_logs/test/n25-s2_dd_llg_visitall_L4_H64_max_p10.log\n",
      "aaai24_logs/test/p-n12-b2-w5-s0_dd_slg_sokoban_L4_H64_max_p10.log\n",
      "aaai24_logs/test/n95-s1_dd_dlg_visitsome_L4_H64_max_p10.log\n",
      "aaai24_logs/test/p-l80-c80-s4_dd_llg_ferry_L4_H64_max_p10.log\n",
      "aaai24_logs/test/n30-s2_dd_slg_visitall_L4_H64_max_p10.log\n",
      "aaai24_logs/test/gripper-n25_dd_dlg_gripper_L4_H64_mean_p10.log\n",
      "aaai24_logs/test/blocks40-task03_dd_llg_blocks_L4_H64_max_p10.log\n",
      "aaai24_logs/test/p-s70-n70-l46-seed4_dd_llg_spanner_L4_H64_max_p10.log\n",
      "aaai24_logs/test/p-s60-n60-l40-seed2_dd_llg_spanner_L4_H64_max_p10.log\n",
      "aaai24_logs/test/p-s20-n20-l13-seed5_dd_slg_spanner_L4_H64_max_p10.log\n",
      "aaai24_logs/test/p-l100-c100-s1_dd_llg_ferry_L4_H64_max_p10.log\n",
      "aaai24_logs/test/p-n10-b3-w3-s0_dd_dlg_sokoban_L4_H64_max_p10.log\n",
      "aaai24_logs/test/n20-s1_dd_llg_visitall_L4_H64_max_p10.log\n",
      "aaai24_logs/test/p-s30-n30-l20-seed3_dd_llg_spanner_L4_H64_max_p10.log\n",
      "aaai24_logs/test/n30-s2_dd_dlg_visitsome_L4_H64_max_p10.log\n",
      "aaai24_logs/test/n60-s0_dd_llg_visitall_L4_H64_mean_p10.log\n",
      "aaai24_logs/test/p-n10-b2-w5-s1_dd_dlg_sokoban_L4_H64_max_p10.log\n",
      "aaai24_logs/test/n45-s2_dd_llg_visitsome_L4_H64_mean_p10.log\n",
      "aaai24_logs/test/n35-s1_dd_slg_visitall_L4_H64_max_p10.log\n",
      "aaai24_logs/test/p-n12-b2-w4-s2_dd_dlg_sokoban_L4_H64_max_p10.log\n",
      "aaai24_logs/test/n25-s0_dd_llg_visitsome_L4_H64_mean_p10.log\n",
      "aaai24_logs/test/p-s35-n35-l23-seed4_dd_llg_spanner_L4_H64_max_p10.log\n",
      "aaai24_logs/test/p-n11-b3-w5-s0_dd_llg_sokoban_L4_H64_max_p10.log\n",
      "aaai24_logs/test/p-n9-b2-w4-s1_dd_llg_sokoban_L4_H64_mean_p10.log\n",
      "aaai24_logs/test/p-s40-n40-l26-seed3_dd_llg_spanner_L4_H64_max_p10.log\n",
      "aaai24_logs/test/p-s80-n80-l53-seed4_dd_llg_spanner_L4_H64_max_p10.log\n",
      "aaai24_logs/test/p-n10-b3-w4-s0_dd_llg_sokoban_L4_H64_mean_p10.log\n",
      "aaai24_logs/test/n15-s3_dd_slg_visitsome_L4_H64_max_p10.log\n",
      "aaai24_logs/test/n100-s4_dd_slg_visitsome_L4_H64_max_p10.log\n",
      "aaai24_logs/test/p-s65-n65-l43-seed5_dd_llg_spanner_L4_H64_max_p10.log\n",
      "aaai24_logs/test/p-n11-b2-w3-s1_dd_llg_sokoban_L4_H64_max_p10.log\n",
      "aaai24_logs/test/n85-s0_dd_dlg_visitsome_L4_H64_max_p10.log\n",
      "aaai24_logs/test/gripper-n40_dd_llg_gripper_L4_H64_max_p10.log\n",
      "aaai24_logs/test/p-l90-c90-s4_dd_llg_ferry_L4_H64_max_p10.log\n",
      "aaai24_logs/test/p-s25-n25-l16-seed3_dd_llg_spanner_L4_H64_max_p10.log\n",
      "aaai24_logs/test/p-l75-c75-s2_dd_llg_ferry_L4_H64_mean_p10.log\n",
      "aaai24_logs/test/blocks35-task02_dd_llg_blocks_L4_H64_mean_p10.log\n",
      "aaai24_logs/test/p-n8-b2-w3-s0_dd_dlg_sokoban_L4_H64_max_p10.log\n",
      "aaai24_logs/test/gripper-n15_dd_llg_gripper_L4_H64_mean_p10.log\n",
      "aaai24_logs/test/p-l65-c65-s1_dd_llg_ferry_L4_H64_mean_p10.log\n",
      "aaai24_logs/test/p-l55-c55-s4_dd_llg_ferry_L4_H64_mean_p10.log\n",
      "aaai24_logs/test/p-n8-b2-w5-s2_dd_llg_sokoban_L4_H64_mean_p10.log\n",
      "aaai24_logs/test/n-puzzle-7x7-s2_dd_dlg_n-puzzle_L4_H64_max_p10.log\n",
      "aaai24_logs/test/n20-s3_dd_dlg_visitsome_L4_H64_max_p10.log\n",
      "aaai24_logs/test/n15-s1_dd_llg_visitsome_L4_H64_mean_p10.log\n",
      "aaai24_logs/test/p-n8-b3-w5-s1_dd_dlg_sokoban_L4_H64_max_p10.log\n",
      "aaai24_logs/test/n50-s4_dd_llg_visitsome_L4_H64_mean_p10.log\n",
      "aaai24_logs/test/n15-s3_dd_llg_visitall_L4_H64_max_p10.log\n",
      "aaai24_logs/test/p-l15-c15-s5_dd_llg_ferry_L4_H64_mean_p10.log\n",
      "aaai24_logs/test/p-l60-c60-s4_dd_llg_ferry_L4_H64_max_p10.log\n",
      "aaai24_logs/test/p-l35-c35-s3_dd_llg_ferry_L4_H64_mean_p10.log\n",
      "aaai24_logs/test/blocks35-task04_dd_llg_blocks_L4_H64_max_p10.log\n",
      "aaai24_logs/test/n35-s3_dd_dlg_visitsome_L4_H64_max_p10.log\n",
      "aaai24_logs/test/p-l35-c35-s4_dd_slg_ferry_L4_H64_max_p10.log\n",
      "aaai24_logs/test/gripper-n70_dd_llg_gripper_L4_H64_mean_p10.log\n",
      "aaai24_logs/test/n-puzzle-5x5-s9_dd_dlg_n-puzzle_L4_H64_max_p10.log\n",
      "aaai24_logs/test/n65-s1_dd_llg_visitall_L4_H64_mean_p10.log\n",
      "aaai24_logs/test/p-l80-c80-s5_dd_llg_ferry_L4_H64_mean_p10.log\n",
      "aaai24_logs/test/n100-s2_dd_dlg_visitsome_L4_H64_max_p10.log\n",
      "aaai24_logs/test/p-s20-n20-l13-seed1_dd_dlg_spanner_L4_H64_max_p10.log\n",
      "aaai24_logs/test/p-n10-b3-w4-s0_dd_llg_sokoban_L4_H64_max_p10.log\n",
      "aaai24_logs/test/p-n11-b3-w3-s2_dd_slg_sokoban_L4_H64_max_p10.log\n",
      "aaai24_logs/test/p-n9-b3-w4-s1_dd_dlg_sokoban_L4_H64_max_p10.log\n",
      "aaai24_logs/test/blocks45-task02_dd_llg_blocks_L4_H64_mean_p10.log\n",
      "aaai24_logs/test/n15-s3_dd_slg_visitall_L4_H64_max_p10.log\n",
      "aaai24_logs/test/n90-s0_dd_dlg_visitsome_L4_H64_max_p10.log\n",
      "aaai24_logs/test/p-s20-n20-l13-seed1_dd_llg_spanner_L4_H64_mean_p10.log\n",
      "aaai24_logs/test/p-l45-c45-s5_dd_slg_ferry_L4_H64_max_p10.log\n",
      "aaai24_logs/test/n-puzzle-7x7-s4_dd_slg_n-puzzle_L4_H64_max_p10.log\n",
      "aaai24_logs/test/p-l70-c70-s4_dd_llg_ferry_L4_H64_max_p10.log\n",
      "aaai24_logs/test/p-s30-n30-l20-seed5_dd_llg_spanner_L4_H64_mean_p10.log\n",
      "aaai24_logs/test/n30-s2_dd_llg_visitall_L4_H64_max_p10.log\n",
      "aaai24_logs/test/blocks25-task05_dd_slg_blocks_L4_H64_max_p10.log\n",
      "aaai24_logs/test/n25-s2_dd_slg_visitall_L4_H64_max_p10.log\n",
      "aaai24_logs/test/p-l25-c25-s4_dd_slg_ferry_L4_H64_max_p10.log\n",
      "aaai24_logs/test/n25-s2_dd_dlg_visitsome_L4_H64_max_p10.log\n",
      "aaai24_logs/test/blocks55-task01_dd_llg_blocks_L4_H64_max_p10.log\n",
      "aaai24_logs/test/p-l100-c100-s3_dd_llg_ferry_L4_H64_max_p10.log\n",
      "aaai24_logs/test/n30-s4_dd_dlg_visitall_L4_H64_max_p10.log\n",
      "aaai24_logs/test/p-n10-b2-w5-s1_dd_llg_sokoban_L4_H64_mean_p10.log\n",
      "aaai24_logs/test/p-n9-b3-w5-s0_dd_llg_sokoban_L4_H64_mean_p10.log\n",
      "aaai24_logs/test/p-n8-b2-w4-s0_dd_llg_sokoban_L4_H64_max_p10.log\n",
      "aaai24_logs/test/n-puzzle-6x6-s9_dd_slg_n-puzzle_L4_H64_max_p10.log\n",
      "aaai24_logs/test/p-n11-b2-w4-s2_dd_llg_sokoban_L4_H64_mean_p10.log\n",
      "aaai24_logs/test/n35-s1_dd_llg_visitall_L4_H64_max_p10.log\n",
      "aaai24_logs/test/p-n11-b2-w4-s1_dd_dlg_sokoban_L4_H64_max_p10.log\n",
      "aaai24_logs/test/p-n9-b2-w3-s2_dd_slg_sokoban_L4_H64_max_p10.log\n",
      "aaai24_logs/test/n20-s1_dd_slg_visitall_L4_H64_max_p10.log\n",
      "aaai24_logs/test/blocks30-task05_dd_dlg_blocks_L4_H64_max_p10.log\n",
      "aaai24_logs/test/n80-s1_dd_dlg_visitsome_L4_H64_max_p10.log\n",
      "aaai24_logs/test/p-n12-b2-w3-s2_dd_llg_sokoban_L4_H64_max_p10.log\n",
      "aaai24_logs/test/p-l55-c55-s5_dd_slg_ferry_L4_H64_max_p10.log\n",
      "aaai24_logs/test/blocks70-task03_dd_llg_blocks_L4_H64_mean_p10.log\n",
      "aaai24_logs/test/gripper-n40_dd_dlg_gripper_L4_H64_mean_p10.log\n",
      "aaai24_logs/test/n30-s4_dd_slg_visitsome_L4_H64_max_p10.log\n",
      "aaai24_logs/test/p-s60-n60-l40-seed5_dd_llg_spanner_L4_H64_mean_p10.log\n",
      "aaai24_logs/test/blocks30-task03_dd_slg_blocks_L4_H64_max_p10.log\n",
      "aaai24_logs/test/p-l40-c40-s4_dd_llg_ferry_L4_H64_max_p10.log\n",
      "aaai24_logs/test/n15-s1_dd_dlg_visitsome_L4_H64_max_p10.log\n",
      "aaai24_logs/test/p-l15-c15-s4_dd_slg_ferry_L4_H64_max_p10.log\n",
      "aaai24_logs/test/n45-s3_dd_llg_visitall_L4_H64_mean_p10.log\n",
      "aaai24_logs/test/p-s20-n20-l13-seed2_dd_dlg_spanner_L4_H64_max_p10.log\n",
      "aaai24_logs/test/gripper-n30_dd_llg_gripper_L4_H64_mean_p10.log\n",
      "aaai24_logs/test/n45-s0_dd_slg_visitall_L4_H64_max_p10.log\n",
      "aaai24_logs/test/n50-s0_dd_llg_visitall_L4_H64_max_p10.log\n",
      "aaai24_logs/test/p-l30-c30-s4_dd_dlg_ferry_L4_H64_max_p10.log\n",
      "aaai24_logs/test/blocks20-task04_dd_llg_blocks_L4_H64_mean_p10.log\n",
      "aaai24_logs/test/n85-s2_dd_slg_visitsome_L4_H64_max_p10.log\n",
      "aaai24_logs/test/p-n12-b3-w4-s1_dd_llg_sokoban_L4_H64_mean_p10.log\n",
      "aaai24_logs/test/p-n11-b2-w5-s0_dd_slg_sokoban_L4_H64_max_p10.log\n",
      "aaai24_logs/test/p-l40-c40-s5_dd_dlg_ferry_L4_H64_max_p10.log\n",
      "aaai24_logs/test/blocks25-task03_dd_dlg_blocks_L4_H64_max_p10.log\n",
      "aaai24_logs/test/n40-s1_dd_llg_visitsome_L4_H64_max_p10.log\n",
      "aaai24_logs/test/n90-s4_dd_dlg_visitsome_L4_H64_max_p10.log\n",
      "aaai24_logs/test/n-puzzle-6x6-s6_dd_dlg_n-puzzle_L4_H64_max_p10.log\n",
      "aaai24_logs/test/p-n11-b3-w3-s1_dd_slg_sokoban_L4_H64_max_p10.log\n",
      "aaai24_logs/test/p-n9-b3-w4-s2_dd_dlg_sokoban_L4_H64_max_p10.log\n",
      "aaai24_logs/test/blocks45-task01_dd_llg_blocks_L4_H64_mean_p10.log\n",
      "aaai24_logs/test/n40-s3_dd_slg_visitall_L4_H64_max_p10.log\n",
      "aaai24_logs/test/p-l30-c30-s5_dd_llg_ferry_L4_H64_max_p10.log\n",
      "aaai24_logs/test/n55-s3_dd_llg_visitall_L4_H64_max_p10.log\n",
      "aaai24_logs/test/n20-s1_dd_slg_visitsome_L4_H64_max_p10.log\n",
      "aaai24_logs/test/n65-s4_dd_dlg_visitall_L4_H64_max_p10.log\n",
      "aaai24_logs/test/blocks20-task02_dd_llg_blocks_L4_H64_max_p10.log\n",
      "aaai24_logs/test/p-l50-c50-s4_dd_llg_ferry_L4_H64_max_p10.log\n",
      "aaai24_logs/test/n55-s2_dd_llg_visitall_L4_H64_mean_p10.log\n",
      "aaai24_logs/test/p-l65-c65-s5_dd_llg_ferry_L4_H64_mean_p10.log\n",
      "aaai24_logs/test/p-l45-c45-s3_dd_llg_ferry_L4_H64_mean_p10.log\n",
      "aaai24_logs/test/blocks15-task05_dd_llg_blocks_L4_H64_mean_p10.log\n",
      "aaai24_logs/test/n65-s2_dd_llg_visitall_L4_H64_max_p10.log\n",
      "aaai24_logs/test/p-l20-c20-s4_dd_dlg_ferry_L4_H64_max_p10.log\n",
      "aaai24_logs/test/n95-s3_dd_slg_visitsome_L4_H64_max_p10.log\n",
      "aaai24_logs/test/p-n11-b3-w3-s0_dd_llg_sokoban_L4_H64_mean_p10.log\n",
      "aaai24_logs/test/n-puzzle-5x5-s6_dd_slg_n-puzzle_L4_H64_max_p10.log\n",
      "aaai24_logs/test/p-n12-b2-w3-s1_dd_llg_sokoban_L4_H64_max_p10.log\n",
      "aaai24_logs/test/p-n9-b3-w5-s0_dd_slg_sokoban_L4_H64_max_p10.log\n",
      "aaai24_logs/test/p-l50-c50-s5_dd_dlg_ferry_L4_H64_max_p10.log\n",
      "aaai24_logs/test/p-n8-b2-w3-s1_dd_llg_sokoban_L4_H64_mean_p10.log\n",
      "aaai24_logs/test/p-n12-b3-w5-s0_dd_llg_sokoban_L4_H64_max_p10.log\n",
      "aaai24_logs/test/p-n11-b2-w4-s2_dd_dlg_sokoban_L4_H64_max_p10.log\n",
      "aaai24_logs/test/p-n9-b2-w3-s1_dd_slg_sokoban_L4_H64_max_p10.log\n",
      "aaai24_logs/test/p-s50-n50-l33-seed5_dd_llg_spanner_L4_H64_max_p10.log\n",
      "aaai24_logs/test/n60-s1_dd_llg_visitall_L4_H64_max_p10.log\n",
      "aaai24_logs/test/p-l20-c20-s5_dd_llg_ferry_L4_H64_max_p10.log\n",
      "aaai24_logs/test/n30-s0_dd_slg_visitsome_L4_H64_max_p10.log\n",
      "aaai24_logs/test/n55-s1_dd_dlg_visitsome_L4_H64_max_p10.log\n",
      "aaai24_logs/test/n-puzzle-5x5-s8_dd_llg_n-puzzle_L4_H64_max_p10.log\n",
      "aaai24_logs/test/n-puzzle-5x5-s6_dd_llg_n-puzzle_L4_H64_mean_p10.log\n",
      "aaai24_logs/test/p-l20-c20-s4_dd_llg_ferry_L4_H64_max_p10.log\n",
      "aaai24_logs/test/blocks45-task04_dd_llg_blocks_L4_H64_mean_p10.log\n",
      "aaai24_logs/test/n60-s4_dd_llg_visitsome_L4_H64_mean_p10.log\n",
      "aaai24_logs/test/p-n12-b2-w5-s2_dd_dlg_sokoban_L4_H64_max_p10.log\n",
      "aaai24_logs/test/n25-s1_dd_llg_visitsome_L4_H64_mean_p10.log\n",
      "aaai24_logs/test/p-n11-b3-w4-s0_dd_llg_sokoban_L4_H64_max_p10.log\n",
      "aaai24_logs/test/p-l50-c50-s4_dd_dlg_ferry_L4_H64_max_p10.log\n",
      "aaai24_logs/test/blocks20-task01_dd_llg_blocks_L4_H64_mean_p10.log\n",
      "aaai24_logs/test/blocks30-task05_dd_llg_blocks_L4_H64_max_p10.log\n",
      "aaai24_logs/test/n-puzzle-7x7-s3_dd_slg_n-puzzle_L4_H64_max_p10.log\n",
      "aaai24_logs/test/p-l20-c20-s5_dd_dlg_ferry_L4_H64_max_p10.log\n",
      "aaai24_logs/test/p-n10-b3-w3-s2_dd_slg_sokoban_L4_H64_max_p10.log\n",
      "aaai24_logs/test/p-n8-b3-w4-s1_dd_dlg_sokoban_L4_H64_max_p10.log\n",
      "aaai24_logs/test/n15-s0_dd_llg_visitsome_L4_H64_mean_p10.log\n",
      "aaai24_logs/test/n60-s1_dd_slg_visitsome_L4_H64_max_p10.log\n",
      "aaai24_logs/test/p-l50-c50-s5_dd_llg_ferry_L4_H64_max_p10.log\n",
      "aaai24_logs/test/n15-s4_dd_slg_visitall_L4_H64_max_p10.log\n",
      "aaai24_logs/test/n15-s2_dd_llg_visitall_L4_H64_mean_p10.log\n",
      "aaai24_logs/test/n45-s0_dd_dlg_visitsome_L4_H64_max_p10.log\n",
      "aaai24_logs/test/n35-s4_dd_llg_visitall_L4_H64_mean_p10.log\n",
      "aaai24_logs/test/p-n10-b2-w4-s1_dd_llg_sokoban_L4_H64_mean_p10.log\n",
      "aaai24_logs/test/blocks35-task04_dd_dlg_blocks_L4_H64_max_p10.log\n",
      "aaai24_logs/test/p-n9-b2-w4-s0_dd_llg_sokoban_L4_H64_max_p10.log\n",
      "aaai24_logs/test/p-l30-c30-s4_dd_llg_ferry_L4_H64_max_p10.log\n",
      "aaai24_logs/test/n75-s2_dd_llg_visitsome_L4_H64_mean_p10.log\n",
      "aaai24_logs/test/n30-s3_dd_dlg_visitall_L4_H64_max_p10.log\n",
      "aaai24_logs/test/p-l30-c30-s3_dd_llg_ferry_L4_H64_mean_p10.log\n",
      "aaai24_logs/test/p-n9-b3-w4-s0_dd_llg_sokoban_L4_H64_mean_p10.log\n",
      "aaai24_logs/test/p-l40-c40-s4_dd_dlg_ferry_L4_H64_max_p10.log\n",
      "aaai24_logs/test/p-l85-c85-s5_dd_llg_ferry_L4_H64_mean_p10.log\n",
      "aaai24_logs/test/p-s30-n30-l20-seed2_dd_llg_spanner_L4_H64_mean_p10.log\n",
      "aaai24_logs/test/blocks70-task05_dd_llg_blocks_L4_H64_mean_p10.log\n",
      "aaai24_logs/test/p-n12-b2-w4-s0_dd_slg_sokoban_L4_H64_max_p10.log\n",
      "aaai24_logs/test/p-s60-n60-l40-seed2_dd_llg_spanner_L4_H64_mean_p10.log\n",
      "aaai24_logs/test/p-l30-c30-s5_dd_dlg_ferry_L4_H64_max_p10.log\n",
      "aaai24_logs/test/blocks20-task04_dd_slg_blocks_L4_H64_max_p10.log\n",
      "aaai24_logs/test/n35-s0_dd_dlg_visitall_L4_H64_max_p10.log\n",
      "aaai24_logs/test/n45-s3_dd_llg_visitsome_L4_H64_mean_p10.log\n",
      "aaai24_logs/test/p-n10-b2-w4-s1_dd_dlg_sokoban_L4_H64_max_p10.log\n",
      "aaai24_logs/test/p-n8-b2-w3-s2_dd_slg_sokoban_L4_H64_max_p10.log\n",
      "aaai24_logs/test/p-n11-b2-w5-s2_dd_llg_sokoban_L4_H64_mean_p10.log\n",
      "aaai24_logs/test/n70-s0_dd_slg_visitsome_L4_H64_max_p10.log\n",
      "aaai24_logs/test/p-l40-c40-s5_dd_llg_ferry_L4_H64_max_p10.log\n",
      "aaai24_logs/test/p-l15-c15-s5_dd_slg_ferry_L4_H64_max_p10.log\n",
      "aaai24_logs/test/n80-s4_dd_llg_visitsome_L4_H64_mean_p10.log\n",
      "aaai24_logs/test/p-l60-c60-s5_dd_llg_ferry_L4_H64_mean_p10.log\n",
      "aaai24_logs/test/p-l55-c55-s4_dd_slg_ferry_L4_H64_max_p10.log\n",
      "aaai24_logs/test/n75-s3_dd_dlg_visitsome_L4_H64_max_p10.log\n",
      "aaai24_logs/test/p-l40-c40-s3_dd_llg_ferry_L4_H64_mean_p10.log\n",
      "aaai24_logs/test/n25-s1_dd_llg_visitall_L4_H64_mean_p10.log\n",
      "aaai24_logs/test/n40-s0_dd_llg_visitsome_L4_H64_mean_p10.log\n",
      "aaai24_logs/test/blocks20-task02_dd_dlg_blocks_L4_H64_max_p10.log\n",
      "aaai24_logs/test/n-puzzle-5x5-s2_dd_llg_n-puzzle_L4_H64_mean_p10.log\n",
      "aaai24_logs/test/p-n12-b3-w5-s1_dd_llg_sokoban_L4_H64_mean_p10.log\n",
      "aaai24_logs/test/p-n12-b3-w3-s0_dd_dlg_sokoban_L4_H64_max_p10.log\n",
      "aaai24_logs/test/n50-s1_dd_dlg_visitall_L4_H64_max_p10.log\n",
      "aaai24_logs/test/p-n12-b2-w5-s1_dd_dlg_sokoban_L4_H64_max_p10.log\n",
      "aaai24_logs/test/blocks15-task01_dd_slg_blocks_L4_H64_max_p10.log\n",
      "aaai24_logs/test/p-n10-b3-w3-s1_dd_slg_sokoban_L4_H64_max_p10.log\n",
      "aaai24_logs/test/p-n8-b3-w4-s2_dd_dlg_sokoban_L4_H64_max_p10.log\n",
      "aaai24_logs/test/n20-s3_dd_llg_visitsome_L4_H64_max_p10.log\n",
      "aaai24_logs/test/p-s20-n20-l13-seed4_dd_dlg_spanner_L4_H64_max_p10.log\n",
      "aaai24_logs/test/n55-s4_dd_llg_visitall_L4_H64_max_p10.log\n",
      "aaai24_logs/test/n-puzzle-6x6-s1_dd_dlg_n-puzzle_L4_H64_max_p10.log\n",
      "aaai24_logs/test/n40-s4_dd_slg_visitall_L4_H64_max_p10.log\n",
      "aaai24_logs/test/p-l70-c70-s5_dd_llg_ferry_L4_H64_max_p10.log\n",
      "aaai24_logs/test/n55-s2_dd_dlg_visitall_L4_H64_max_p10.log\n",
      "aaai24_logs/test/n40-s3_dd_slg_visitsome_L4_H64_max_p10.log\n",
      "aaai24_logs/test/p-n10-b2-w5-s0_dd_slg_sokoban_L4_H64_max_p10.log\n",
      "aaai24_logs/test/blocks20-task02_dd_llg_blocks_L4_H64_mean_p10.log\n",
      "aaai24_logs/test/n70-s1_dd_llg_visitsome_L4_H64_mean_p10.log\n",
      "aaai24_logs/test/n35-s4_dd_llg_visitsome_L4_H64_mean_p10.log\n",
      "aaai24_logs/test/p-l25-c25-s5_dd_slg_ferry_L4_H64_max_p10.log\n",
      "aaai24_logs/test/p-l100-c100-s2_dd_llg_ferry_L4_H64_max_p10.log\n",
      "aaai24_logs/test/p-l45-c45-s4_dd_slg_ferry_L4_H64_max_p10.log\n",
      "aaai24_logs/test/n45-s4_dd_dlg_visitsome_L4_H64_max_p10.log\n",
      "aaai24_logs/test/n35-s0_dd_llg_visitall_L4_H64_mean_p10.log\n",
      "aaai24_logs/test/n65-s2_dd_dlg_visitsome_L4_H64_max_p10.log\n",
      "aaai24_logs/test/p-n9-b2-w3-s2_dd_llg_sokoban_L4_H64_mean_p10.log\n",
      "aaai24_logs/test/n90-s1_dd_llg_visitsome_L4_H64_mean_p10.log\n",
      "aaai24_logs/test/p-s50-n50-l33-seed3_dd_llg_spanner_L4_H64_max_p10.log\n",
      "aaai24_logs/test/n65-s3_dd_dlg_visitall_L4_H64_max_p10.log\n",
      "aaai24_logs/test/p-n10-b2-w4-s2_dd_dlg_sokoban_L4_H64_max_p10.log\n",
      "aaai24_logs/test/p-n8-b2-w3-s1_dd_slg_sokoban_L4_H64_max_p10.log\n",
      "aaai24_logs/test/blocks25-task03_dd_llg_blocks_L4_H64_max_p10.log\n",
      "aaai24_logs/test/blocks15-task03_dd_llg_blocks_L4_H64_mean_p10.log\n",
      "aaai24_logs/test/n30-s2_dd_llg_visitsome_L4_H64_max_p10.log\n",
      "aaai24_logs/test/p-s45-n45-l30-seed1_dd_llg_spanner_L4_H64_mean_p10.log\n",
      "aaai24_logs/test/p-l60-c60-s5_dd_llg_ferry_L4_H64_max_p10.log\n",
      "aaai24_logs/test/n50-s2_dd_slg_visitsome_L4_H64_max_p10.log\n",
      "aaai24_logs/test/n70-s4_dd_slg_visitsome_L4_H64_max_p10.log\n",
      "aaai24_logs/test/p-n8-b3-w5-s0_dd_slg_sokoban_L4_H64_max_p10.log\n",
      "aaai24_logs/test/n-puzzle-5x5-s1_dd_slg_n-puzzle_L4_H64_max_p10.log\n",
      "aaai24_logs/test/n20-s2_dd_llg_visitsome_L4_H64_mean_p10.log\n",
      "aaai24_logs/test/p-l35-c35-s5_dd_slg_ferry_L4_H64_max_p10.log\n",
      "aaai24_logs/test/n60-s0_dd_dlg_visitall_L4_H64_max_p10.log\n",
      "aaai24_logs/test/n40-s0_dd_llg_visitall_L4_H64_max_p10.log\n",
      "aaai24_logs/test/blocks30-task02_dd_slg_blocks_L4_H64_max_p10.log\n",
      "aaai24_logs/test/n80-s0_dd_dlg_visitsome_L4_H64_max_p10.log\n",
      "aaai24_logs/test/p-n9-b2-w4-s1_dd_dlg_sokoban_L4_H64_max_p10.log\n",
      "aaai24_logs/test/p-n11-b2-w3-s2_dd_slg_sokoban_L4_H64_max_p10.log\n",
      "aaai24_logs/test/p-l90-c90-s3_dd_llg_ferry_L4_H64_max_p10.log\n",
      "aaai24_logs/test/n55-s0_dd_slg_visitall_L4_H64_max_p10.log\n",
      "aaai24_logs/test/gripper-n50_dd_dlg_gripper_L4_H64_mean_p10.log\n",
      "aaai24_logs/test/n-puzzle-6x6-s3_dd_slg_n-puzzle_L4_H64_max_p10.log\n",
      "aaai24_logs/test/n75-s1_dd_llg_visitsome_L4_H64_mean_p10.log\n",
      "aaai24_logs/test/n30-s4_dd_llg_visitsome_L4_H64_mean_p10.log\n",
      "aaai24_logs/test/blocks40-task04_dd_llg_blocks_L4_H64_mean_p10.log\n",
      "aaai24_logs/test/n45-s3_dd_llg_visitall_L4_H64_max_p10.log\n",
      "aaai24_logs/test/n25-s3_dd_dlg_visitsome_L4_H64_max_p10.log\n",
      "aaai24_logs/test/p-n10-b2-w3-s1_dd_llg_sokoban_L4_H64_mean_p10.log\n",
      "aaai24_logs/test/blocks25-task02_dd_dlg_blocks_L4_H64_max_p10.log\n",
      "aaai24_logs/test/n45-s0_dd_llg_visitsome_L4_H64_mean_p10.log\n",
      "aaai24_logs/test/n50-s3_dd_slg_visitall_L4_H64_max_p10.log\n",
      "aaai24_logs/test/p-n9-b3-w3-s0_dd_llg_sokoban_L4_H64_mean_p10.log\n",
      "aaai24_logs/test/gripper-n35_dd_slg_gripper_L4_H64_max_p10.log\n",
      "aaai24_logs/test/blocks25-task01_dd_llg_blocks_L4_H64_mean_p10.log\n",
      "aaai24_logs/test/p-l60-c60-s1_dd_llg_ferry_L4_H64_max_p10.log\n",
      "aaai24_logs/test/p-n10-b2-w4-s0_dd_llg_sokoban_L4_H64_max_p10.log\n",
      "aaai24_logs/test/p-l35-c35-s1_dd_slg_ferry_L4_H64_max_p10.log\n",
      "aaai24_logs/test/n40-s4_dd_llg_visitsome_L4_H64_max_p10.log\n",
      "aaai24_logs/test/n60-s2_dd_slg_visitall_L4_H64_max_p10.log\n",
      "aaai24_logs/test/n-puzzle-5x5-s3_dd_dlg_n-puzzle_L4_H64_max_p10.log\n",
      "aaai24_logs/test/n90-s1_dd_dlg_visitsome_L4_H64_max_p10.log\n",
      "aaai24_logs/test/blocks20-task03_dd_llg_blocks_L4_H64_max_p10.log\n",
      "aaai24_logs/test/p-l80-c80-s3_dd_llg_ferry_L4_H64_max_p10.log\n",
      "aaai24_logs/test/blocks75-task05_dd_llg_blocks_L4_H64_mean_p10.log\n",
      "aaai24_logs/test/p-l65-c65-s4_dd_llg_ferry_L4_H64_mean_p10.log\n",
      "aaai24_logs/test/p-l55-c55-s1_dd_llg_ferry_L4_H64_mean_p10.log\n",
      "aaai24_logs/test/p-n9-b3-w3-s2_dd_slg_sokoban_L4_H64_max_p10.log\n",
      "aaai24_logs/test/p-n11-b3-w4-s1_dd_dlg_sokoban_L4_H64_max_p10.log\n",
      "aaai24_logs/test/p-l45-c45-s2_dd_llg_ferry_L4_H64_mean_p10.log\n",
      "aaai24_logs/test/n-puzzle-5x5-s5_dd_llg_n-puzzle_L4_H64_max_p10.log\n",
      "aaai24_logs/test/n20-s4_dd_slg_visitsome_L4_H64_max_p10.log\n",
      "aaai24_logs/test/n75-s4_dd_dlg_visitall_L4_H64_max_p10.log\n",
      "aaai24_logs/test/p-n12-b3-w3-s2_dd_llg_sokoban_L4_H64_max_p10.log\n",
      "aaai24_logs/test/n25-s2_dd_llg_visitsome_L4_H64_mean_p10.log\n",
      "aaai24_logs/test/p-s15-n15-l10-seed5_dd_slg_spanner_L4_H64_max_p10.log\n",
      "aaai24_logs/test/n15-s4_dd_dlg_visitsome_L4_H64_max_p10.log\n",
      "aaai24_logs/test/n65-s1_dd_slg_visitall_L4_H64_max_p10.log\n",
      "aaai24_logs/test/n65-s0_dd_llg_visitall_L4_H64_mean_p10.log\n",
      "aaai24_logs/test/n15-s3_dd_llg_visitsome_L4_H64_mean_p10.log\n",
      "aaai24_logs/test/gripper-n60_dd_llg_gripper_L4_H64_mean_p10.log\n",
      "aaai24_logs/test/n35-s2_dd_dlg_visitsome_L4_H64_max_p10.log\n",
      "aaai24_logs/test/n95-s1_dd_llg_visitsome_L4_H64_mean_p10.log\n",
      "aaai24_logs/test/gripper-n55_dd_dlg_gripper_L4_H64_max_p10.log\n",
      "aaai24_logs/test/p-l70-c70-s1_dd_llg_ferry_L4_H64_max_p10.log\n",
      "aaai24_logs/test/p-n8-b3-w4-s0_dd_llg_sokoban_L4_H64_max_p10.log\n",
      "aaai24_logs/test/n100-s3_dd_dlg_visitsome_L4_H64_max_p10.log\n",
      "aaai24_logs/test/p-l25-c25-s1_dd_slg_ferry_L4_H64_max_p10.log\n",
      "aaai24_logs/test/p-l15-c15-s4_dd_llg_ferry_L4_H64_mean_p10.log\n",
      "aaai24_logs/test/p-l25-c25-s1_dd_llg_ferry_L4_H64_mean_p10.log\n",
      "aaai24_logs/test/p-l35-c35-s2_dd_llg_ferry_L4_H64_mean_p10.log\n",
      "aaai24_logs/test/n80-s4_dd_dlg_visitsome_L4_H64_max_p10.log\n",
      "aaai24_logs/test/blocks35-task05_dd_llg_blocks_L4_H64_max_p10.log\n",
      "aaai24_logs/test/p-n11-b3-w5-s0_dd_slg_sokoban_L4_H64_max_p10.log\n",
      "aaai24_logs/test/gripper-n40_dd_slg_gripper_L4_H64_max_p10.log\n",
      "aaai24_logs/test/n15-s0_dd_llg_visitall_L4_H64_max_p10.log\n",
      "aaai24_logs/test/p-n11-b3-w5-s0_dd_llg_sokoban_L4_H64_mean_p10.log\n",
      "aaai24_logs/test/p-l80-c80-s4_dd_llg_ferry_L4_H64_mean_p10.log\n",
      "aaai24_logs/test/n30-s1_dd_slg_visitsome_L4_H64_max_p10.log\n",
      "aaai24_logs/test/n-puzzle-7x7-s1_dd_dlg_n-puzzle_L4_H64_max_p10.log\n",
      "aaai24_logs/test/p-n8-b2-w5-s1_dd_llg_sokoban_L4_H64_mean_p10.log\n",
      "aaai24_logs/test/p-n9-b2-w4-s2_dd_dlg_sokoban_L4_H64_max_p10.log\n",
      "aaai24_logs/test/p-n11-b2-w3-s1_dd_slg_sokoban_L4_H64_max_p10.log\n",
      "aaai24_logs/test/n90-s2_dd_llg_visitsome_L4_H64_mean_p10.log\n",
      "aaai24_logs/test/n55-s3_dd_llg_visitall_L4_H64_mean_p10.log\n",
      "aaai24_logs/test/blocks25-task02_dd_llg_blocks_L4_H64_mean_p10.log\n",
      "aaai24_logs/test/p-l30-c30-s1_dd_dlg_ferry_L4_H64_max_p10.log\n",
      "aaai24_logs/test/p-n9-b2-w4-s2_dd_llg_sokoban_L4_H64_mean_p10.log\n",
      "aaai24_logs/test/n65-s4_dd_llg_visitsome_L4_H64_mean_p10.log\n",
      "aaai24_logs/test/n20-s1_dd_llg_visitsome_L4_H64_mean_p10.log\n",
      "aaai24_logs/test/gripper-n70_dd_llg_gripper_L4_H64_max_p10.log\n",
      "aaai24_logs/test/n95-s2_dd_slg_visitsome_L4_H64_max_p10.log\n",
      "aaai24_logs/test/p-l40-c40-s1_dd_llg_ferry_L4_H64_max_p10.log\n",
      "aaai24_logs/test/p-l15-c15-s1_dd_slg_ferry_L4_H64_max_p10.log\n",
      "aaai24_logs/test/n40-s0_dd_llg_visitsome_L4_H64_max_p10.log\n",
      "aaai24_logs/test/blocks25-task04_dd_slg_blocks_L4_H64_max_p10.log\n",
      "aaai24_logs/test/n20-s4_dd_dlg_visitall_L4_H64_max_p10.log\n",
      "aaai24_logs/test/p-n12-b3-w3-s1_dd_llg_sokoban_L4_H64_max_p10.log\n",
      "aaai24_logs/test/p-n9-b2-w5-s0_dd_slg_sokoban_L4_H64_max_p10.log\n",
      "aaai24_logs/test/gripper-n20_dd_dlg_gripper_L4_H64_max_p10.log\n",
      "aaai24_logs/test/n35-s2_dd_slg_visitall_L4_H64_max_p10.log\n",
      "aaai24_logs/test/n40-s3_dd_llg_visitsome_L4_H64_mean_p10.log\n",
      "aaai24_logs/test/n20-s0_dd_slg_visitsome_L4_H64_max_p10.log\n",
      "aaai24_logs/test/p-n12-b2-w5-s0_dd_llg_sokoban_L4_H64_max_p10.log\n",
      "aaai24_logs/test/p-n9-b3-w3-s1_dd_slg_sokoban_L4_H64_max_p10.log\n",
      "aaai24_logs/test/p-n11-b3-w4-s2_dd_dlg_sokoban_L4_H64_max_p10.log\n",
      "aaai24_logs/test/n20-s2_dd_llg_visitall_L4_H64_max_p10.log\n",
      "aaai24_logs/test/n85-s4_dd_llg_visitsome_L4_H64_mean_p10.log\n",
      "aaai24_logs/test/n45-s2_dd_llg_visitall_L4_H64_mean_p10.log\n",
      "aaai24_logs/test/n15-s0_dd_dlg_visitsome_L4_H64_max_p10.log\n",
      "aaai24_logs/test/gripper-n20_dd_llg_gripper_L4_H64_mean_p10.log\n",
      "aaai24_logs/test/n65-s4_dd_llg_visitall_L4_H64_mean_p10.log\n",
      "aaai24_logs/test/p-s20-n20-l13-seed5_dd_llg_spanner_L4_H64_max_p10.log\n",
      "aaai24_logs/test/blocks30-task04_dd_dlg_blocks_L4_H64_max_p10.log\n",
      "aaai24_logs/test/p-l20-c20-s1_dd_dlg_ferry_L4_H64_max_p10.log\n",
      "aaai24_logs/test/n70-s2_dd_llg_visitsome_L4_H64_mean_p10.log\n",
      "aaai24_logs/test/n30-s1_dd_slg_visitall_L4_H64_max_p10.log\n",
      "aaai24_logs/test/p-l50-c50-s1_dd_llg_ferry_L4_H64_max_p10.log\n",
      "aaai24_logs/test/n85-s3_dd_slg_visitsome_L4_H64_max_p10.log\n",
      "aaai24_logs/test/n25-s1_dd_llg_visitall_L4_H64_max_p10.log\n",
      "aaai24_logs/test/p-n11-b2-w3-s2_dd_llg_sokoban_L4_H64_mean_p10.log\n",
      "aaai24_logs/test/p-l60-c60-s4_dd_llg_ferry_L4_H64_mean_p10.log\n",
      "aaai24_logs/test/p-l50-c50-s1_dd_llg_ferry_L4_H64_mean_p10.log\n",
      "aaai24_logs/test/blocks20-task03_dd_dlg_blocks_L4_H64_max_p10.log\n",
      "aaai24_logs/test/p-l40-c40-s2_dd_llg_ferry_L4_H64_mean_p10.log\n",
      "aaai24_logs/test/gripper-n75_dd_llg_gripper_L4_H64_max_p10.log\n",
      "aaai24_logs/test/n40-s1_dd_dlg_visitall_L4_H64_max_p10.log\n",
      "aaai24_logs/test/n-puzzle-6x6-s4_dd_slg_n-puzzle_L4_H64_max_p10.log\n",
      "aaai24_logs/test/p-n8-b2-w4-s1_dd_dlg_sokoban_L4_H64_max_p10.log\n",
      "aaai24_logs/test/p-n10-b2-w3-s2_dd_slg_sokoban_L4_H64_max_p10.log\n",
      "aaai24_logs/test/n70-s1_dd_slg_visitsome_L4_H64_max_p10.log\n",
      "aaai24_logs/test/p-n12-b3-w5-s2_dd_dlg_sokoban_L4_H64_max_p10.log\n",
      "aaai24_logs/test/p-n11-b2-w4-s0_dd_llg_sokoban_L4_H64_max_p10.log\n",
      "aaai24_logs/test/p-l50-c50-s1_dd_dlg_ferry_L4_H64_max_p10.log\n",
      "aaai24_logs/test/n45-s1_dd_dlg_visitsome_L4_H64_max_p10.log\n",
      "aaai24_logs/test/n15-s3_dd_llg_visitall_L4_H64_mean_p10.log\n",
      "aaai24_logs/test/n45-s2_dd_dlg_visitall_L4_H64_max_p10.log\n",
      "aaai24_logs/test/gripper-n45_dd_slg_gripper_L4_H64_max_p10.log\n",
      "aaai24_logs/test/n50-s4_dd_slg_visitall_L4_H64_max_p10.log\n",
      "aaai24_logs/test/blocks40-task02_dd_llg_blocks_L4_H64_mean_p10.log\n",
      "aaai24_logs/test/p-l20-c20-s1_dd_llg_ferry_L4_H64_max_p10.log\n",
      "aaai24_logs/test/n45-s4_dd_llg_visitall_L4_H64_max_p10.log\n",
      "aaai24_logs/test/n75-s3_dd_dlg_visitall_L4_H64_max_p10.log\n",
      "aaai24_logs/test/n-puzzle-5x5-s2_dd_llg_n-puzzle_L4_H64_max_p10.log\n",
      "aaai24_logs/test/n-puzzle-5x5-s4_dd_dlg_n-puzzle_L4_H64_max_p10.log\n",
      "aaai24_logs/test/p-s50-n50-l33-seed1_dd_llg_spanner_L4_H64_mean_p10.log\n",
      "aaai24_logs/test/p-n8-b3-w3-s2_dd_slg_sokoban_L4_H64_max_p10.log\n",
      "aaai24_logs/test/p-n10-b3-w4-s1_dd_dlg_sokoban_L4_H64_max_p10.log\n",
      "aaai24_logs/test/n60-s0_dd_slg_visitsome_L4_H64_max_p10.log\n",
      "aaai24_logs/test/p-n9-b3-w4-s0_dd_llg_sokoban_L4_H64_max_p10.log\n",
      "aaai24_logs/test/blocks75-task03_dd_llg_blocks_L4_H64_mean_p10.log\n",
      "aaai24_logs/test/blocks25-task02_dd_llg_blocks_L4_H64_max_p10.log\n",
      "aaai24_logs/test/p-l40-c40-s1_dd_dlg_ferry_L4_H64_max_p10.log\n",
      "aaai24_logs/test/n70-s0_dd_dlg_visitall_L4_H64_max_p10.log\n",
      "aaai24_logs/test/n55-s0_dd_dlg_visitsome_L4_H64_max_p10.log\n",
      "aaai24_logs/test/gripper-n25_dd_dlg_gripper_L4_H64_max_p10.log\n",
      "aaai24_logs/test/n-puzzle-5x5-s7_dd_llg_n-puzzle_L4_H64_mean_p10.log\n",
      "aaai24_logs/test/n25-s4_dd_llg_visitall_L4_H64_mean_p10.log\n",
      "aaai24_logs/test/p-s15-n15-l10-seed3_dd_slg_spanner_L4_H64_max_p10.log\n",
      "aaai24_logs/test/p-n12-b3-w4-s0_dd_slg_sokoban_L4_H64_max_p10.log\n",
      "aaai24_logs/test/p-l30-c30-s1_dd_llg_ferry_L4_H64_max_p10.log\n",
      "aaai24_logs/test/p-n11-b3-w4-s0_dd_llg_sokoban_L4_H64_mean_p10.log\n",
      "aaai24_logs/test/p-n8-b2-w4-s1_dd_llg_sokoban_L4_H64_mean_p10.log\n",
      "aaai24_logs/test/n30-s3_dd_llg_visitsome_L4_H64_max_p10.log\n",
      "aaai24_logs/test/p-n8-b2-w4-s2_dd_dlg_sokoban_L4_H64_max_p10.log\n",
      "aaai24_logs/test/gripper-n30_dd_slg_gripper_L4_H64_max_p10.log\n",
      "aaai24_logs/test/blocks25-task04_dd_llg_blocks_L4_H64_mean_p10.log\n",
      "aaai24_logs/test/p-n10-b2-w3-s1_dd_slg_sokoban_L4_H64_max_p10.log\n",
      "aaai24_logs/test/p-n10-b3-w5-s0_dd_slg_sokoban_L4_H64_max_p10.log\n",
      "aaai24_logs/test/n50-s3_dd_slg_visitsome_L4_H64_max_p10.log\n",
      "aaai24_logs/test/n15-s1_dd_dlg_visitall_L4_H64_max_p10.log\n",
      "aaai24_logs/test/blocks40-task01_dd_llg_blocks_L4_H64_mean_p10.log\n",
      "aaai24_logs/test/p-n12-b2-w3-s0_dd_dlg_sokoban_L4_H64_max_p10.log\n",
      "aaai24_logs/test/n80-s2_dd_dlg_visitall_L4_H64_max_p10.log\n",
      "aaai24_logs/test/blocks30-task04_dd_llg_blocks_L4_H64_max_p10.log\n",
      "aaai24_logs/test/n65-s3_dd_dlg_visitsome_L4_H64_max_p10.log\n",
      "aaai24_logs/test/n35-s1_dd_llg_visitall_L4_H64_mean_p10.log\n",
      "aaai24_logs/test/p-n12-b3-w5-s1_dd_dlg_sokoban_L4_H64_max_p10.log\n",
      "aaai24_logs/test/p-l55-c55-s1_dd_slg_ferry_L4_H64_max_p10.log\n",
      "aaai24_logs/test/p-l80-c80-s2_dd_llg_ferry_L4_H64_max_p10.log\n",
      "aaai24_logs/test/p-n9-b2-w5-s2_dd_llg_sokoban_L4_H64_mean_p10.log\n",
      "aaai24_logs/test/blocks35-task05_dd_dlg_blocks_L4_H64_max_p10.log\n",
      "aaai24_logs/test/p-n8-b3-w3-s1_dd_slg_sokoban_L4_H64_max_p10.log\n",
      "aaai24_logs/test/p-n10-b3-w4-s2_dd_dlg_sokoban_L4_H64_max_p10.log\n",
      "aaai24_logs/test/p-l20-c20-s1_dd_llg_ferry_L4_H64_mean_p10.log\n",
      "aaai24_logs/test/gripper-n50_dd_dlg_gripper_L4_H64_max_p10.log\n",
      "aaai24_logs/test/n20-s2_dd_llg_visitsome_L4_H64_max_p10.log\n",
      "aaai24_logs/test/p-l30-c30-s2_dd_llg_ferry_L4_H64_mean_p10.log\n",
      "aaai24_logs/test/p-s20-n20-l13-seed3_dd_llg_spanner_L4_H64_max_p10.log\n",
      "aaai24_logs/test/n20-s3_dd_dlg_visitall_L4_H64_max_p10.log\n",
      "aaai24_logs/test/n40-s2_dd_slg_visitsome_L4_H64_max_p10.log\n",
      "aaai24_logs/test/p-l85-c85-s4_dd_llg_ferry_L4_H64_mean_p10.log\n",
      "aaai24_logs/test/n60-s4_dd_slg_visitsome_L4_H64_max_p10.log\n",
      "aaai24_logs/test/p-n8-b2-w5-s0_dd_slg_sokoban_L4_H64_max_p10.log\n",
      "aaai24_logs/test/blocks20-task05_dd_slg_blocks_L4_H64_max_p10.log\n",
      "aaai24_logs/test/n55-s4_dd_dlg_visitsome_L4_H64_max_p10.log\n",
      "aaai24_logs/test/n-puzzle-5x5-s3_dd_llg_n-puzzle_L4_H64_mean_p10.log\n",
      "aaai24_logs/test/n25-s0_dd_llg_visitall_L4_H64_mean_p10.log\n",
      "aaai24_logs/test/blocks50-task01_dd_llg_blocks_L4_H64_max_p10.log\n",
      "aaai24_logs/test/n75-s2_dd_dlg_visitsome_L4_H64_max_p10.log\n",
      "aaai24_logs/test/p-l45-c45-s1_dd_slg_ferry_L4_H64_max_p10.log\n",
      "aaai24_logs/test/n25-s0_dd_dlg_visitall_L4_H64_max_p10.log\n",
      "aaai24_logs/test/p-l90-c90-s2_dd_llg_ferry_L4_H64_max_p10.log\n",
      "aaai24_logs/test/p-n12-b3-w3-s1_dd_llg_sokoban_L4_H64_mean_p10.log\n",
      "aaai24_logs/test/n35-s3_dd_dlg_visitall_L4_H64_max_p10.log\n",
      "aaai24_logs/test/blocks45-task03_dd_llg_blocks_L4_H64_max_p10.log\n",
      "aaai24_logs/test/p-n9-b2-w4-s0_dd_slg_sokoban_L4_H64_max_p10.log\n",
      "aaai24_logs/test/p-s60-n60-l40-seed1_dd_llg_spanner_L4_H64_mean_p10.log\n",
      "aaai24_logs/test/p-l45-c45-s3_dd_slg_ferry_L4_H64_max_p10.log\n",
      "aaai24_logs/test/p-n8-b3-w5-s0_dd_llg_sokoban_L4_H64_mean_p10.log\n",
      "aaai24_logs/test/blocks60-task05_dd_llg_blocks_L4_H64_mean_p10.log\n",
      "aaai24_logs/test/p-n12-b2-w4-s0_dd_llg_sokoban_L4_H64_max_p10.log\n",
      "aaai24_logs/test/p-s35-n35-l23-seed4_dd_llg_spanner_L4_H64_mean_p10.log\n",
      "aaai24_logs/test/p-n11-b3-w5-s2_dd_dlg_sokoban_L4_H64_max_p10.log\n",
      "aaai24_logs/test/p-n11-b2-w5-s1_dd_llg_sokoban_L4_H64_mean_p10.log\n",
      "aaai24_logs/test/n60-s2_dd_dlg_visitsome_L4_H64_max_p10.log\n",
      "aaai24_logs/test/n30-s0_dd_llg_visitall_L4_H64_mean_p10.log\n",
      "aaai24_logs/test/n40-s4_dd_dlg_visitsome_L4_H64_max_p10.log\n",
      "aaai24_logs/test/n40-s2_dd_llg_visitsome_L4_H64_mean_p10.log\n",
      "aaai24_logs/test/n70-s3_dd_llg_visitsome_L4_H64_mean_p10.log\n",
      "aaai24_logs/test/p-l70-c70-s3_dd_llg_ferry_L4_H64_mean_p10.log\n",
      "aaai24_logs/test/n30-s0_dd_dlg_visitall_L4_H64_max_p10.log\n",
      "aaai24_logs/test/p-l60-c60-s2_dd_llg_ferry_L4_H64_max_p10.log\n",
      "aaai24_logs/test/p-l50-c50-s5_dd_llg_ferry_L4_H64_mean_p10.log\n",
      "aaai24_logs/test/p-n10-b2-w4-s2_dd_llg_sokoban_L4_H64_mean_p10.log\n",
      "aaai24_logs/test/n75-s4_dd_slg_visitsome_L4_H64_max_p10.log\n",
      "aaai24_logs/test/p-s65-n65-l43-seed4_dd_llg_spanner_L4_H64_mean_p10.log\n",
      "aaai24_logs/test/n55-s2_dd_slg_visitsome_L4_H64_max_p10.log\n",
      "aaai24_logs/test/p-l35-c35-s2_dd_slg_ferry_L4_H64_max_p10.log\n",
      "aaai24_logs/test/p-s30-n30-l20-seed1_dd_llg_spanner_L4_H64_mean_p10.log\n",
      "aaai24_logs/test/n35-s2_dd_llg_visitsome_L4_H64_max_p10.log\n",
      "aaai24_logs/test/blocks15-task04_dd_slg_blocks_L4_H64_max_p10.log\n",
      "aaai24_logs/test/p-n8-b2-w3-s2_dd_llg_sokoban_L4_H64_max_p10.log\n",
      "aaai24_logs/test/n15-s4_dd_llg_visitsome_L4_H64_max_p10.log\n",
      "aaai24_logs/test/p-n11-b3-w4-s0_dd_slg_sokoban_L4_H64_max_p10.log\n",
      "aaai24_logs/test/blocks55-task04_dd_llg_blocks_L4_H64_mean_p10.log\n",
      "aaai24_logs/test/n-puzzle-7x7-s0_dd_slg_n-puzzle_L4_H64_max_p10.log\n",
      "aaai24_logs/test/p-n9-b2-w5-s2_dd_dlg_sokoban_L4_H64_max_p10.log\n",
      "aaai24_logs/test/n90-s3_dd_llg_visitsome_L4_H64_mean_p10.log\n",
      "aaai24_logs/test/p-l55-c55-s3_dd_slg_ferry_L4_H64_max_p10.log\n",
      "aaai24_logs/test/p-s15-n15-l10-seed4_dd_dlg_spanner_L4_H64_max_p10.log\n",
      "aaai24_logs/test/n20-s1_dd_llg_visitall_L4_H64_mean_p10.log\n",
      "aaai24_logs/test/n70-s3_dd_dlg_visitsome_L4_H64_max_p10.log\n",
      "aaai24_logs/test/p-s20-n20-l13-seed5_dd_llg_spanner_L4_H64_mean_p10.log\n",
      "aaai24_logs/test/n55-s4_dd_llg_visitsome_L4_H64_mean_p10.log\n",
      "aaai24_logs/test/p-l70-c70-s2_dd_llg_ferry_L4_H64_max_p10.log\n",
      "aaai24_logs/test/n20-s0_dd_llg_visitsome_L4_H64_mean_p10.log\n",
      "aaai24_logs/test/blocks30-task01_dd_llg_blocks_L4_H64_mean_p10.log\n",
      "aaai24_logs/test/n45-s3_dd_slg_visitsome_L4_H64_max_p10.log\n",
      "aaai24_logs/test/p-l100-c100-s5_dd_llg_ferry_L4_H64_max_p10.log\n",
      "aaai24_logs/test/p-l25-c25-s2_dd_slg_ferry_L4_H64_max_p10.log\n",
      "aaai24_logs/test/p-n10-b3-w3-s2_dd_llg_sokoban_L4_H64_max_p10.log\n",
      "aaai24_logs/test/n25-s3_dd_llg_visitsome_L4_H64_max_p10.log\n",
      "aaai24_logs/test/p-n11-b3-w5-s1_dd_dlg_sokoban_L4_H64_max_p10.log\n",
      "aaai24_logs/test/gripper-n85_dd_llg_gripper_L4_H64_mean_p10.log\n",
      "aaai24_logs/test/p-l40-c40-s3_dd_dlg_ferry_L4_H64_max_p10.log\n",
      "aaai24_logs/test/p-s75-n75-l50-seed4_dd_llg_spanner_L4_H64_max_p10.log\n",
      "aaai24_logs/test/gripper-n90_dd_llg_gripper_L4_H64_max_p10.log\n",
      "aaai24_logs/test/n60-s3_dd_dlg_visitall_L4_H64_max_p10.log\n",
      "aaai24_logs/test/p-n11-b2-w3-s0_dd_dlg_sokoban_L4_H64_max_p10.log\n",
      "aaai24_logs/test/n25-s3_dd_llg_visitsome_L4_H64_mean_p10.log\n",
      "aaai24_logs/test/n-puzzle-5x5-s2_dd_slg_n-puzzle_L4_H64_max_p10.log\n",
      "aaai24_logs/test/n30-s4_dd_llg_visitall_L4_H64_mean_p10.log\n",
      "aaai24_logs/test/p-l30-c30-s3_dd_llg_ferry_L4_H64_max_p10.log\n",
      "aaai24_logs/test/n40-s0_dd_dlg_visitsome_L4_H64_max_p10.log\n",
      "aaai24_logs/test/p-s45-n45-l30-seed2_dd_llg_spanner_L4_H64_mean_p10.log\n",
      "aaai24_logs/test/p-n9-b2-w3-s1_dd_llg_sokoban_L4_H64_mean_p10.log\n",
      "aaai24_logs/test/n95-s0_dd_llg_visitsome_L4_H64_mean_p10.log\n",
      "aaai24_logs/test/p-l40-c40-s2_dd_llg_ferry_L4_H64_max_p10.log\n",
      "aaai24_logs/test/p-n8-b2-w3-s1_dd_llg_sokoban_L4_H64_max_p10.log\n",
      "aaai24_logs/test/p-l15-c15-s2_dd_slg_ferry_L4_H64_max_p10.log\n",
      "aaai24_logs/test/n75-s0_dd_slg_visitsome_L4_H64_max_p10.log\n",
      "aaai24_logs/test/n15-s2_dd_llg_visitsome_L4_H64_mean_p10.log\n",
      "aaai24_logs/test/p-n10-b3-w3-s0_dd_llg_sokoban_L4_H64_mean_p10.log\n",
      "aaai24_logs/test/n65-s0_dd_dlg_visitall_L4_H64_max_p10.log\n",
      "aaai24_logs/test/p-l30-c30-s2_dd_dlg_ferry_L4_H64_max_p10.log\n",
      "aaai24_logs/test/p-n8-b3-w5-s0_dd_llg_sokoban_L4_H64_max_p10.log\n",
      "aaai24_logs/test/n15-s0_dd_llg_visitsome_L4_H64_max_p10.log\n",
      "aaai24_logs/test/p-n9-b2-w5-s1_dd_dlg_sokoban_L4_H64_max_p10.log\n",
      "aaai24_logs/test/n-puzzle-6x6-s2_dd_dlg_n-puzzle_L4_H64_max_p10.log\n",
      "aaai24_logs/test/p-l50-c50-s3_dd_dlg_ferry_L4_H64_max_p10.log\n",
      "aaai24_logs/test/blocks20-task01_dd_slg_blocks_L4_H64_max_p10.log\n",
      "aaai24_logs/test/blocks50-task05_dd_llg_blocks_L4_H64_max_p10.log\n",
      "aaai24_logs/test/p-n9-b3-w3-s0_dd_dlg_sokoban_L4_H64_max_p10.log\n",
      "aaai24_logs/test/blocks15-task02_dd_dlg_blocks_L4_H64_max_p10.log\n",
      "aaai24_logs/test/n75-s0_dd_llg_visitsome_L4_H64_mean_p10.log\n",
      "aaai24_logs/test/p-l20-c20-s3_dd_llg_ferry_L4_H64_max_p10.log\n",
      "aaai24_logs/test/n55-s1_dd_dlg_visitall_L4_H64_max_p10.log\n",
      "aaai24_logs/test/n50-s1_dd_dlg_visitsome_L4_H64_max_p10.log\n",
      "aaai24_logs/test/p-l50-c50-s2_dd_llg_ferry_L4_H64_max_p10.log\n",
      "aaai24_logs/test/p-n12-b3-w5-s2_dd_llg_sokoban_L4_H64_mean_p10.log\n",
      "aaai24_logs/test/n45-s4_dd_slg_visitall_L4_H64_max_p10.log\n",
      "aaai24_logs/test/p-s45-n45-l30-seed3_dd_llg_spanner_L4_H64_max_p10.log\n",
      "aaai24_logs/test/p-s55-n55-l36-seed5_dd_llg_spanner_L4_H64_max_p10.log\n",
      "aaai24_logs/test/blocks35-task01_dd_dlg_blocks_L4_H64_max_p10.log\n",
      "aaai24_logs/test/n45-s1_dd_llg_visitsome_L4_H64_mean_p10.log\n",
      "aaai24_logs/test/n65-s1_dd_slg_visitsome_L4_H64_max_p10.log\n",
      "aaai24_logs/test/n50-s4_dd_llg_visitall_L4_H64_max_p10.log\n",
      "aaai24_logs/test/p-n10-b3-w3-s1_dd_llg_sokoban_L4_H64_max_p10.log\n",
      "aaai24_logs/test/p-l20-c20-s5_dd_llg_ferry_L4_H64_mean_p10.log\n",
      "aaai24_logs/test/p-s25-n25-l16-seed3_dd_llg_spanner_L4_H64_mean_p10.log\n",
      "aaai24_logs/test/p-l20-c20-s2_dd_dlg_ferry_L4_H64_max_p10.log\n",
      "aaai24_logs/test/p-n10-b2-w5-s0_dd_llg_sokoban_L4_H64_max_p10.log\n",
      "aaai24_logs/test/n50-s2_dd_dlg_visitall_L4_H64_max_p10.log\n",
      "aaai24_logs/test/blocks30-task02_dd_llg_blocks_L4_H64_mean_p10.log\n",
      "aaai24_logs/test/n90-s3_dd_slg_visitsome_L4_H64_max_p10.log\n",
      "aaai24_logs/test/gripper-n45_dd_llg_gripper_L4_H64_mean_p10.log\n",
      "aaai24_logs/test/n20-s2_dd_slg_visitall_L4_H64_max_p10.log\n",
      "aaai24_logs/test/p-n8-b3-w4-s0_dd_llg_sokoban_L4_H64_mean_p10.log\n",
      "aaai24_logs/test/p-n10-b3-w5-s2_dd_dlg_sokoban_L4_H64_max_p10.log\n",
      "aaai24_logs/test/p-l20-c20-s3_dd_dlg_ferry_L4_H64_max_p10.log\n",
      "aaai24_logs/test/n35-s2_dd_llg_visitall_L4_H64_max_p10.log\n",
      "aaai24_logs/test/p-s35-n35-l23-seed3_dd_llg_spanner_L4_H64_mean_p10.log\n",
      "aaai24_logs/test/p-n11-b2-w4-s1_dd_llg_sokoban_L4_H64_mean_p10.log\n",
      "aaai24_logs/test/p-n8-b2-w4-s0_dd_slg_sokoban_L4_H64_max_p10.log\n",
      "aaai24_logs/test/p-l50-c50-s3_dd_llg_ferry_L4_H64_max_p10.log\n",
      "aaai24_logs/test/n50-s2_dd_llg_visitall_L4_H64_mean_p10.log\n",
      "aaai24_logs/test/n35-s4_dd_dlg_visitall_L4_H64_max_p10.log\n",
      "aaai24_logs/test/n35-s0_dd_slg_visitsome_L4_H64_max_p10.log\n",
      "aaai24_logs/test/blocks40-task02_dd_llg_blocks_L4_H64_max_p10.log\n",
      "aaai24_logs/test/n25-s1_dd_slg_visitall_L4_H64_max_p10.log\n",
      "aaai24_logs/test/n30-s1_dd_llg_visitall_L4_H64_max_p10.log\n",
      "aaai24_logs/test/p-l20-c20-s2_dd_llg_ferry_L4_H64_max_p10.log\n",
      "aaai24_logs/test/p-n9-b2-w3-s2_dd_llg_sokoban_L4_H64_max_p10.log\n",
      "aaai24_logs/test/p-s65-n65-l43-seed3_dd_llg_spanner_L4_H64_mean_p10.log\n",
      "aaai24_logs/test/gripper-n95_dd_llg_gripper_L4_H64_max_p10.log\n",
      "aaai24_logs/test/p-l50-c50-s2_dd_dlg_ferry_L4_H64_max_p10.log\n",
      "aaai24_logs/test/n100-s1_dd_slg_visitsome_L4_H64_max_p10.log\n",
      "aaai24_logs/test/p-n12-b2-w3-s2_dd_slg_sokoban_L4_H64_max_p10.log\n",
      "aaai24_logs/test/blocks60-task03_dd_llg_blocks_L4_H64_mean_p10.log\n",
      "aaai24_logs/test/p-s75-n75-l50-seed1_dd_llg_spanner_L4_H64_max_p10.log\n",
      "aaai24_logs/test/p-n10-b2-w5-s2_dd_llg_sokoban_L4_H64_mean_p10.log\n",
      "aaai24_logs/test/p-n8-b2-w5-s2_dd_dlg_sokoban_L4_H64_max_p10.log\n",
      "aaai24_logs/test/p-s20-n20-l13-seed2_dd_llg_spanner_L4_H64_mean_p10.log\n",
      "aaai24_logs/test/n80-s2_dd_slg_visitsome_L4_H64_max_p10.log\n",
      "aaai24_logs/test/p-l30-c30-s3_dd_dlg_ferry_L4_H64_max_p10.log\n",
      "aaai24_logs/test/n15-s0_dd_slg_visitall_L4_H64_max_p10.log\n",
      "aaai24_logs/test/p-n10-b3-w4-s0_dd_slg_sokoban_L4_H64_max_p10.log\n",
      "aaai24_logs/test/n40-s3_dd_llg_visitall_L4_H64_mean_p10.log\n",
      "aaai24_logs/test/p-l40-c40-s3_dd_llg_ferry_L4_H64_max_p10.log\n",
      "aaai24_logs/test/p-l15-c15-s3_dd_slg_ferry_L4_H64_max_p10.log\n",
      "aaai24_logs/test/n-puzzle-7x7-s7_dd_slg_n-puzzle_L4_H64_max_p10.log\n",
      "aaai24_logs/test/n25-s1_dd_slg_visitsome_L4_H64_max_p10.log\n",
      "aaai24_logs/test/p-l75-c75-s3_dd_llg_ferry_L4_H64_mean_p10.log\n",
      "aaai24_logs/test/p-n11-b3-w3-s2_dd_llg_sokoban_L4_H64_max_p10.log\n",
      "aaai24_logs/test/p-l30-c30-s2_dd_llg_ferry_L4_H64_max_p10.log\n",
      "aaai24_logs/test/blocks55-task02_dd_llg_blocks_L4_H64_mean_p10.log\n",
      "aaai24_logs/test/p-l55-c55-s5_dd_llg_ferry_L4_H64_mean_p10.log\n",
      "aaai24_logs/test/n95-s4_dd_dlg_visitsome_L4_H64_max_p10.log\n",
      "aaai24_logs/test/p-n12-b2-w3-s0_dd_llg_sokoban_L4_H64_mean_p10.log\n",
      "aaai24_logs/test/p-l40-c40-s2_dd_dlg_ferry_L4_H64_max_p10.log\n",
      "aaai24_logs/test/p-n12-b3-w4-s1_dd_dlg_sokoban_L4_H64_max_p10.log\n",
      "aaai24_logs/test/p-s15-n15-l10-seed2_dd_dlg_spanner_L4_H64_max_p10.log\n",
      "aaai24_logs/test/p-s45-n45-l30-seed5_dd_llg_spanner_L4_H64_mean_p10.log\n",
      "aaai24_logs/test/p-n8-b2-w3-s2_dd_llg_sokoban_L4_H64_mean_p10.log\n",
      "aaai24_logs/test/p-n10-b2-w3-s0_dd_dlg_sokoban_L4_H64_max_p10.log\n",
      "aaai24_logs/test/n-puzzle-5x5-s5_dd_slg_n-puzzle_L4_H64_max_p10.log\n",
      "aaai24_logs/test/n60-s4_dd_dlg_visitall_L4_H64_max_p10.log\n",
      "aaai24_logs/test/p-l70-c70-s3_dd_llg_ferry_L4_H64_max_p10.log\n",
      "aaai24_logs/test/n20-s2_dd_dlg_visitsome_L4_H64_max_p10.log\n",
      "aaai24_logs/test/p-n10-b3-w5-s1_dd_dlg_sokoban_L4_H64_max_p10.log\n",
      "aaai24_logs/test/blocks15-task02_dd_llg_blocks_L4_H64_max_p10.log\n",
      "aaai24_logs/test/n60-s2_dd_llg_visitall_L4_H64_max_p10.log\n",
      "aaai24_logs/test/p-l100-c100-s4_dd_llg_ferry_L4_H64_max_p10.log\n",
      "aaai24_logs/test/p-l25-c25-s3_dd_slg_ferry_L4_H64_max_p10.log\n",
      "aaai24_logs/test/p-l55-c55-s2_dd_slg_ferry_L4_H64_max_p10.log\n",
      "aaai24_logs/test/n35-s4_dd_slg_visitsome_L4_H64_max_p10.log\n",
      "aaai24_logs/test/n15-s2_dd_slg_visitsome_L4_H64_max_p10.log\n",
      "aaai24_logs/test/p-l25-c25-s5_dd_llg_ferry_L4_H64_mean_p10.log\n",
      "aaai24_logs/test/p-l80-c80-s1_dd_llg_ferry_L4_H64_max_p10.log\n",
      "aaai24_logs/test/blocks35-task01_dd_llg_blocks_L4_H64_max_p10.log\n",
      "aaai24_logs/test/p-n9-b3-w5-s0_dd_llg_sokoban_L4_H64_max_p10.log\n",
      "aaai24_logs/test/p-n12-b2-w3-s1_dd_slg_sokoban_L4_H64_max_p10.log\n",
      "aaai24_logs/test/p-s75-n75-l50-seed2_dd_llg_spanner_L4_H64_max_p10.log\n",
      "aaai24_logs/test/n85-s1_dd_dlg_visitsome_L4_H64_max_p10.log\n",
      "aaai24_logs/test/p-l90-c90-s3_dd_llg_ferry_L4_H64_mean_p10.log\n",
      "aaai24_logs/test/p-n9-b2-w3-s1_dd_llg_sokoban_L4_H64_max_p10.log\n",
      "aaai24_logs/test/p-n12-b3-w5-s0_dd_slg_sokoban_L4_H64_max_p10.log\n",
      "aaai24_logs/test/n65-s1_dd_llg_visitall_L4_H64_max_p10.log\n",
      "aaai24_logs/test/p-n8-b3-w3-s0_dd_dlg_sokoban_L4_H64_max_p10.log\n",
      "aaai24_logs/test/p-s45-n45-l30-seed5_dd_llg_spanner_L4_H64_max_p10.log\n",
      "aaai24_logs/test/p-s55-n55-l36-seed3_dd_llg_spanner_L4_H64_max_p10.log\n",
      "aaai24_logs/test/n60-s1_dd_llg_visitall_L4_H64_mean_p10.log\n",
      "aaai24_logs/test/n30-s3_dd_dlg_visitsome_L4_H64_max_p10.log\n",
      "aaai24_logs/test/p-l60-c60-s3_dd_llg_ferry_L4_H64_max_p10.log\n",
      "aaai24_logs/test/n55-s0_dd_llg_visitall_L4_H64_max_p10.log\n",
      "aaai24_logs/test/p-n8-b2-w5-s1_dd_dlg_sokoban_L4_H64_max_p10.log\n",
      "aaai24_logs/test/blocks30-task04_dd_llg_blocks_L4_H64_mean_p10.log\n",
      "aaai24_logs/test/n40-s0_dd_slg_visitall_L4_H64_max_p10.log\n",
      "aaai24_logs/test/n-puzzle-6x6-s5_dd_dlg_n-puzzle_L4_H64_max_p10.log\n",
      "aaai24_logs/test/p-l35-c35-s3_dd_slg_ferry_L4_H64_max_p10.log\n",
      "aaai24_logs/test/p-l45-c45-s2_dd_slg_ferry_L4_H64_max_p10.log\n",
      "aaai24_logs/test/p-n12-b3-w4-s2_dd_dlg_sokoban_L4_H64_max_p10.log\n",
      "aaai24_logs/test/p-s25-n25-l16-seed4_dd_llg_spanner_L4_H64_mean_p10.log\n",
      "aaai24_logs/test/p-s15-n15-l10-seed1_dd_dlg_spanner_L4_H64_max_p10.log\n",
      "aaai24_logs/test/p-l90-c90-s1_dd_llg_ferry_L4_H64_max_p10.log\n",
      "aaai24_logs/test/p-n11-b2-w5-s0_dd_llg_sokoban_L4_H64_max_p10.log\n",
      "aaai24_logs/test/p-n12-b3-w4-s2_dd_llg_sokoban_L4_H64_mean_p10.log\n",
      "aaai24_logs/test/n95-s0_dd_dlg_visitsome_L4_H64_max_p10.log\n",
      "aaai24_logs/test/n50-s3_dd_llg_visitall_L4_H64_max_p10.log\n",
      "aaai24_logs/test/gripper-n35_dd_dlg_gripper_L4_H64_mean_p10.log\n",
      "aaai24_logs/test/blocks55-task01_dd_llg_blocks_L4_H64_mean_p10.log\n",
      "aaai24_logs/test/n45-s3_dd_slg_visitall_L4_H64_max_p10.log\n",
      "aaai24_logs/test/p-n11-b3-w3-s1_dd_llg_sokoban_L4_H64_max_p10.log\n",
      "aaai24_logs/val/\n",
      "aaai24_logs/val/n11-s0_dd_slg_visitsome_L4_H64_max_p10_v4.log\n",
      "aaai24_logs/val/n-puzzle-5x5-s21_dd_dlg_n-puzzle_L4_H64_max_p10_v2.log\n",
      "aaai24_logs/val/p-n8-b2-w3-s11_dd_llg_sokoban_L4_H64_max_p10_v2.log\n",
      "aaai24_logs/val/blocks11-task03_dd_dlg_blocks_L4_H64_max_p10_v4.log\n",
      "aaai24_logs/val/n-puzzle-5x5-s22_dd_llg_n-puzzle_L4_H64_mean_p10_v4.log\n",
      "aaai24_logs/val/n11-s2_dd_llg_visitsome_L4_H64_max_p10_v4.log\n",
      "aaai24_logs/val/n11-s1_dd_dlg_visitall_L4_H64_max_p10_v1.log\n",
      "aaai24_logs/val/blocks11-task03_dd_dlg_blocks_L4_H64_max_p10_v3.log\n",
      "aaai24_logs/val/n-puzzle-5x5-s22_dd_llg_n-puzzle_L4_H64_mean_p10_v3.log\n",
      "aaai24_logs/val/p-l11-c11-s1_dd_slg_ferry_L4_H64_max_p10_v2.log\n",
      "aaai24_logs/val/n11-s2_dd_llg_visitsome_L4_H64_max_p10_v3.log\n",
      "aaai24_logs/val/p-s11-n11-l7-seed2_dd_llg_spanner_L4_H64_max_p10_v1.log\n",
      "aaai24_logs/val/p-n8-b2-w3-s12_dd_llg_sokoban_L4_H64_mean_p10_v2.log\n",
      "aaai24_logs/val/n-puzzle-5x5-s21_dd_llg_n-puzzle_L4_H64_mean_p10_v1.log\n",
      "aaai24_logs/val/p-s11-n11-l7-seed2_dd_llg_spanner_L4_H64_mean_p10_v2.log\n",
      "aaai24_logs/val/n11-s1_dd_llg_visitsome_L4_H64_max_p10_v1.log\n",
      "aaai24_logs/val/n11-s0_dd_slg_visitsome_L4_H64_max_p10_v3.log\n",
      "aaai24_logs/val/n11-s2_dd_llg_visitsome_L4_H64_mean_p10_v2.log\n",
      "aaai24_logs/val/p-l11-c11-s2_dd_slg_ferry_L4_H64_max_p10_v4.log\n",
      "aaai24_logs/val/n11-s2_dd_llg_visitall_L4_H64_max_p10_v0.log\n",
      "aaai24_logs/val/n11-s1_dd_dlg_visitsome_L4_H64_max_p10_v3.log\n",
      "aaai24_logs/val/blocks11-task01_dd_llg_blocks_L4_H64_max_p10_v0.log\n",
      "aaai24_logs/val/p-n8-b2-w3-s12_dd_slg_sokoban_L4_H64_max_p10_v0.log\n",
      "aaai24_logs/val/gripper-n11_dd_dlg_gripper_L4_H64_max_p10_v0.log\n",
      "aaai24_logs/val/p-s11-n11-l7-seed1_dd_slg_spanner_L4_H64_max_p10_v4.log\n",
      "aaai24_logs/val/n-puzzle-5x5-s22_dd_llg_n-puzzle_L4_H64_max_p10_v3.log\n",
      "aaai24_logs/val/p-l11-c11-s3_dd_slg_ferry_L4_H64_max_p10_v1.log\n",
      "aaai24_logs/val/p-s11-n11-l7-seed3_dd_slg_spanner_L4_H64_max_p10_v2.log\n",
      "aaai24_logs/val/p-l11-c11-s2_dd_llg_ferry_L4_H64_mean_p10_v0.log\n",
      "aaai24_logs/val/n11-s2_dd_dlg_visitsome_L4_H64_max_p10_v1.log\n",
      "aaai24_logs/val/gripper-n11_dd_llg_gripper_L4_H64_mean_p10_v4.log\n",
      "aaai24_logs/val/n-puzzle-5x5-s20_dd_slg_n-puzzle_L4_H64_max_p10_v4.log\n",
      "aaai24_logs/val/n11-s0_dd_slg_visitall_L4_H64_max_p10_v0.log\n",
      "aaai24_logs/val/p-n8-b2-w3-s10_dd_slg_sokoban_L4_H64_max_p10_v1.log\n",
      "aaai24_logs/val/gripper-n11_dd_llg_gripper_L4_H64_mean_p10_v3.log\n",
      "aaai24_logs/val/n-puzzle-5x5-s20_dd_slg_n-puzzle_L4_H64_max_p10_v3.log\n",
      "aaai24_logs/val/p-l11-c11-s2_dd_slg_ferry_L4_H64_max_p10_v3.log\n",
      "aaai24_logs/val/n11-s1_dd_dlg_visitsome_L4_H64_max_p10_v4.log\n",
      "aaai24_logs/val/p-s11-n11-l7-seed1_dd_slg_spanner_L4_H64_max_p10_v3.log\n",
      "aaai24_logs/val/n-puzzle-5x5-s22_dd_llg_n-puzzle_L4_H64_max_p10_v4.log\n",
      "aaai24_logs/val/n11-s0_dd_llg_visitall_L4_H64_mean_p10_v0.log\n",
      "aaai24_logs/val/blocks11-task01_dd_llg_blocks_L4_H64_mean_p10_v0.log\n",
      "aaai24_logs/val/n11-s0_dd_dlg_visitall_L4_H64_max_p10_v1.log\n",
      "aaai24_logs/val/gripper-n11_dd_llg_gripper_L4_H64_max_p10_v4.log\n",
      "aaai24_logs/val/n-puzzle-5x5-s20_dd_dlg_n-puzzle_L4_H64_max_p10_v2.log\n",
      "aaai24_logs/val/blocks11-task03_dd_llg_blocks_L4_H64_mean_p10_v1.log\n",
      "aaai24_logs/val/gripper-n11_dd_llg_gripper_L4_H64_max_p10_v3.log\n",
      "aaai24_logs/val/p-s11-n11-l7-seed3_dd_llg_spanner_L4_H64_mean_p10_v2.log\n",
      "aaai24_logs/val/n11-s1_dd_llg_visitsome_L4_H64_mean_p10_v0.log\n",
      "aaai24_logs/val/blocks11-task03_dd_slg_blocks_L4_H64_max_p10_v0.log\n",
      "aaai24_logs/val/p-l11-c11-s1_dd_llg_ferry_L4_H64_mean_p10_v2.log\n",
      "aaai24_logs/val/p-s11-n11-l7-seed2_dd_dlg_spanner_L4_H64_max_p10_v2.log\n",
      "aaai24_logs/val/n-puzzle-5x5-s21_dd_slg_n-puzzle_L4_H64_max_p10_v4.log\n",
      "aaai24_logs/val/blocks11-task02_dd_llg_blocks_L4_H64_max_p10_v2.log\n",
      "aaai24_logs/val/n-puzzle-5x5-s21_dd_slg_n-puzzle_L4_H64_max_p10_v3.log\n",
      "aaai24_logs/val/n11-s1_dd_slg_visitall_L4_H64_max_p10_v0.log\n",
      "aaai24_logs/val/p-n8-b2-w3-s11_dd_dlg_sokoban_L4_H64_max_p10_v1.log\n",
      "aaai24_logs/val/n11-s2_dd_llg_visitall_L4_H64_mean_p10_v4.log\n",
      "aaai24_logs/val/blocks11-task03_dd_llg_blocks_L4_H64_max_p10_v3.log\n",
      "aaai24_logs/val/p-n8-b2-w3-s11_dd_slg_sokoban_L4_H64_max_p10_v1.log\n",
      "aaai24_logs/val/p-l11-c11-s3_dd_dlg_ferry_L4_H64_max_p10_v3.log\n",
      "aaai24_logs/val/blocks11-task02_dd_slg_blocks_L4_H64_max_p10_v1.log\n",
      "aaai24_logs/val/p-n8-b2-w3-s10_dd_llg_sokoban_L4_H64_mean_p10_v2.log\n",
      "aaai24_logs/val/p-l11-c11-s3_dd_dlg_ferry_L4_H64_max_p10_v4.log\n",
      "aaai24_logs/val/n11-s1_dd_llg_visitall_L4_H64_mean_p10_v1.log\n",
      "aaai24_logs/val/p-s11-n11-l7-seed2_dd_slg_spanner_L4_H64_max_p10_v2.log\n",
      "aaai24_logs/val/n11-s2_dd_llg_visitall_L4_H64_mean_p10_v3.log\n",
      "aaai24_logs/val/p-l11-c11-s2_dd_dlg_ferry_L4_H64_max_p10_v1.log\n",
      "aaai24_logs/val/blocks11-task03_dd_llg_blocks_L4_H64_max_p10_v4.log\n",
      "aaai24_logs/val/n-puzzle-5x5-s22_dd_slg_n-puzzle_L4_H64_max_p10_v4.log\n",
      "aaai24_logs/val/n11-s0_dd_llg_visitsome_L4_H64_mean_p10_v1.log\n",
      "aaai24_logs/val/p-s11-n11-l7-seed3_dd_llg_spanner_L4_H64_max_p10_v1.log\n",
      "aaai24_logs/val/n11-s0_dd_llg_visitall_L4_H64_max_p10_v0.log\n",
      "aaai24_logs/val/n-puzzle-5x5-s20_dd_llg_n-puzzle_L4_H64_max_p10_v3.log\n",
      "aaai24_logs/val/p-n8-b2-w3-s12_dd_llg_sokoban_L4_H64_max_p10_v3.log\n",
      "aaai24_logs/val/p-s11-n11-l7-seed1_dd_llg_spanner_L4_H64_max_p10_v0.log\n",
      "aaai24_logs/val/n-puzzle-5x5-s20_dd_llg_n-puzzle_L4_H64_max_p10_v4.log\n",
      "aaai24_logs/val/p-n8-b2-w3-s12_dd_llg_sokoban_L4_H64_max_p10_v4.log\n",
      "aaai24_logs/val/blocks11-task01_dd_dlg_blocks_L4_H64_max_p10_v0.log\n",
      "aaai24_logs/val/p-l11-c11-s1_dd_dlg_ferry_L4_H64_max_p10_v0.log\n",
      "aaai24_logs/val/n11-s2_dd_slg_visitall_L4_H64_max_p10_v0.log\n",
      "aaai24_logs/val/p-n8-b2-w3-s10_dd_llg_sokoban_L4_H64_max_p10_v2.log\n",
      "aaai24_logs/val/n-puzzle-5x5-s22_dd_slg_n-puzzle_L4_H64_max_p10_v3.log\n",
      "aaai24_logs/val/blocks11-task01_dd_slg_blocks_L4_H64_max_p10_v3.log\n",
      "aaai24_logs/val/p-l11-c11-s3_dd_llg_ferry_L4_H64_mean_p10_v1.log\n",
      "aaai24_logs/val/n11-s2_dd_dlg_visitall_L4_H64_max_p10_v1.log\n",
      "aaai24_logs/val/p-s11-n11-l7-seed1_dd_dlg_spanner_L4_H64_max_p10_v3.log\n",
      "aaai24_logs/val/n11-s2_dd_slg_visitsome_L4_H64_max_p10_v0.log\n",
      "aaai24_logs/val/n-puzzle-5x5-s22_dd_dlg_n-puzzle_L4_H64_max_p10_v2.log\n",
      "aaai24_logs/val/n11-s1_dd_slg_visitsome_L4_H64_max_p10_v2.log\n",
      "aaai24_logs/val/n11-s0_dd_llg_visitsome_L4_H64_max_p10_v0.log\n",
      "aaai24_logs/val/p-n8-b2-w3-s10_dd_dlg_sokoban_L4_H64_max_p10_v1.log\n",
      "aaai24_logs/val/p-l11-c11-s2_dd_llg_ferry_L4_H64_max_p10_v3.log\n",
      "aaai24_logs/val/n-puzzle-5x5-s20_dd_llg_n-puzzle_L4_H64_mean_p10_v0.log\n",
      "aaai24_logs/val/p-s11-n11-l7-seed1_dd_llg_spanner_L4_H64_mean_p10_v2.log\n",
      "aaai24_logs/val/gripper-n11_dd_dlg_gripper_L4_H64_mean_p10_v2.log\n",
      "aaai24_logs/val/p-s11-n11-l7-seed3_dd_dlg_spanner_L4_H64_max_p10_v2.log\n",
      "aaai24_logs/val/p-l11-c11-s2_dd_llg_ferry_L4_H64_max_p10_v4.log\n",
      "aaai24_logs/val/p-n8-b2-w3-s11_dd_llg_sokoban_L4_H64_mean_p10_v2.log\n",
      "aaai24_logs/val/blocks11-task01_dd_slg_blocks_L4_H64_max_p10_v4.log\n",
      "aaai24_logs/val/p-s11-n11-l7-seed1_dd_dlg_spanner_L4_H64_max_p10_v4.log\n",
      "aaai24_logs/val/gripper-n11_dd_slg_gripper_L4_H64_max_p10_v0.log\n",
      "aaai24_logs/val/p-n8-b2-w3-s12_dd_dlg_sokoban_L4_H64_max_p10_v0.log\n",
      "aaai24_logs/val/p-l11-c11-s3_dd_llg_ferry_L4_H64_max_p10_v1.log\n",
      "aaai24_logs/val/blocks11-task02_dd_llg_blocks_L4_H64_mean_p10_v1.log\n",
      "aaai24_logs/val/p-l11-c11-s1_dd_llg_ferry_L4_H64_max_p10_v2.log\n",
      "aaai24_logs/val/n-puzzle-5x5-s21_dd_llg_n-puzzle_L4_H64_max_p10_v3.log\n",
      "aaai24_logs/val/n11-s1_dd_llg_visitall_L4_H64_max_p10_v0.log\n",
      "aaai24_logs/val/n-puzzle-5x5-s21_dd_llg_n-puzzle_L4_H64_max_p10_v4.log\n",
      "aaai24_logs/val/n11-s0_dd_dlg_visitsome_L4_H64_max_p10_v2.log\n",
      "aaai24_logs/val/blocks11-task02_dd_dlg_blocks_L4_H64_max_p10_v2.log\n",
      "aaai24_logs/val/n-puzzle-5x5-s21_dd_slg_n-puzzle_L4_H64_max_p10_v2.log\n",
      "aaai24_logs/val/blocks11-task02_dd_llg_blocks_L4_H64_max_p10_v4.log\n",
      "aaai24_logs/val/n11-s1_dd_slg_visitall_L4_H64_max_p10_v1.log\n",
      "aaai24_logs/val/p-n8-b2-w3-s11_dd_dlg_sokoban_L4_H64_max_p10_v0.log\n",
      "aaai24_logs/val/p-l11-c11-s1_dd_llg_ferry_L4_H64_mean_p10_v4.log\n",
      "aaai24_logs/val/p-s11-n11-l7-seed2_dd_dlg_spanner_L4_H64_max_p10_v4.log\n",
      "aaai24_logs/val/p-l11-c11-s1_dd_llg_ferry_L4_H64_mean_p10_v3.log\n",
      "aaai24_logs/val/blocks11-task03_dd_slg_blocks_L4_H64_max_p10_v1.log\n",
      "aaai24_logs/val/p-s11-n11-l7-seed2_dd_dlg_spanner_L4_H64_max_p10_v3.log\n",
      "aaai24_logs/val/blocks11-task02_dd_llg_blocks_L4_H64_max_p10_v3.log\n",
      "aaai24_logs/val/blocks11-task03_dd_llg_blocks_L4_H64_mean_p10_v0.log\n",
      "aaai24_logs/val/gripper-n11_dd_llg_gripper_L4_H64_max_p10_v2.log\n",
      "aaai24_logs/val/n-puzzle-5x5-s20_dd_dlg_n-puzzle_L4_H64_max_p10_v4.log\n",
      "aaai24_logs/val/p-s11-n11-l7-seed3_dd_llg_spanner_L4_H64_mean_p10_v3.log\n",
      "aaai24_logs/val/n11-s1_dd_llg_visitsome_L4_H64_mean_p10_v1.log\n",
      "aaai24_logs/val/p-s11-n11-l7-seed3_dd_llg_spanner_L4_H64_mean_p10_v4.log\n",
      "aaai24_logs/val/n11-s0_dd_llg_visitall_L4_H64_mean_p10_v1.log\n",
      "aaai24_logs/val/blocks11-task01_dd_llg_blocks_L4_H64_mean_p10_v1.log\n",
      "aaai24_logs/val/n11-s0_dd_dlg_visitall_L4_H64_max_p10_v0.log\n",
      "aaai24_logs/val/n-puzzle-5x5-s20_dd_dlg_n-puzzle_L4_H64_max_p10_v3.log\n",
      "aaai24_logs/val/n11-s0_dd_slg_visitall_L4_H64_max_p10_v1.log\n",
      "aaai24_logs/val/p-s11-n11-l7-seed3_dd_slg_spanner_L4_H64_max_p10_v4.log\n",
      "aaai24_logs/val/p-n8-b2-w3-s10_dd_slg_sokoban_L4_H64_max_p10_v0.log\n",
      "aaai24_logs/val/gripper-n11_dd_llg_gripper_L4_H64_mean_p10_v2.log\n",
      "aaai24_logs/val/n-puzzle-5x5-s20_dd_slg_n-puzzle_L4_H64_max_p10_v2.log\n",
      "aaai24_logs/val/p-l11-c11-s2_dd_slg_ferry_L4_H64_max_p10_v2.log\n",
      "aaai24_logs/val/n11-s2_dd_llg_visitsome_L4_H64_mean_p10_v4.log\n",
      "aaai24_logs/val/p-s11-n11-l7-seed1_dd_slg_spanner_L4_H64_max_p10_v2.log\n",
      "aaai24_logs/val/n11-s2_dd_llg_visitsome_L4_H64_mean_p10_v3.log\n",
      "aaai24_logs/val/n11-s1_dd_dlg_visitsome_L4_H64_max_p10_v2.log\n",
      "aaai24_logs/val/n11-s2_dd_llg_visitall_L4_H64_max_p10_v1.log\n",
      "aaai24_logs/val/p-n8-b2-w3-s12_dd_slg_sokoban_L4_H64_max_p10_v1.log\n",
      "aaai24_logs/val/blocks11-task01_dd_llg_blocks_L4_H64_max_p10_v1.log\n",
      "aaai24_logs/val/gripper-n11_dd_dlg_gripper_L4_H64_max_p10_v1.log\n",
      "aaai24_logs/val/n-puzzle-5x5-s22_dd_llg_n-puzzle_L4_H64_max_p10_v2.log\n",
      "aaai24_logs/val/p-l11-c11-s3_dd_slg_ferry_L4_H64_max_p10_v0.log\n",
      "aaai24_logs/val/p-l11-c11-s2_dd_llg_ferry_L4_H64_mean_p10_v1.log\n",
      "aaai24_logs/val/p-s11-n11-l7-seed3_dd_slg_spanner_L4_H64_max_p10_v3.log\n",
      "aaai24_logs/val/n11-s2_dd_dlg_visitsome_L4_H64_max_p10_v0.log\n",
      "aaai24_logs/val/p-n8-b2-w3-s11_dd_llg_sokoban_L4_H64_max_p10_v4.log\n",
      "aaai24_logs/val/n-puzzle-5x5-s21_dd_dlg_n-puzzle_L4_H64_max_p10_v4.log\n",
      "aaai24_logs/val/blocks11-task03_dd_dlg_blocks_L4_H64_max_p10_v2.log\n",
      "aaai24_logs/val/n-puzzle-5x5-s22_dd_llg_n-puzzle_L4_H64_mean_p10_v2.log\n",
      "aaai24_logs/val/p-l11-c11-s1_dd_slg_ferry_L4_H64_max_p10_v3.log\n",
      "aaai24_logs/val/n11-s2_dd_llg_visitsome_L4_H64_max_p10_v2.log\n",
      "aaai24_logs/val/p-s11-n11-l7-seed2_dd_llg_spanner_L4_H64_max_p10_v0.log\n",
      "aaai24_logs/val/n-puzzle-5x5-s21_dd_llg_n-puzzle_L4_H64_mean_p10_v0.log\n",
      "aaai24_logs/val/p-n8-b2-w3-s12_dd_llg_sokoban_L4_H64_mean_p10_v3.log\n",
      "aaai24_logs/val/p-s11-n11-l7-seed2_dd_llg_spanner_L4_H64_mean_p10_v3.log\n",
      "aaai24_logs/val/n11-s0_dd_slg_visitsome_L4_H64_max_p10_v2.log\n",
      "aaai24_logs/val/n11-s1_dd_llg_visitsome_L4_H64_max_p10_v0.log\n",
      "aaai24_logs/val/p-n8-b2-w3-s12_dd_llg_sokoban_L4_H64_mean_p10_v4.log\n",
      "aaai24_logs/val/p-s11-n11-l7-seed2_dd_llg_spanner_L4_H64_mean_p10_v4.log\n",
      "aaai24_logs/val/n-puzzle-5x5-s21_dd_dlg_n-puzzle_L4_H64_max_p10_v3.log\n",
      "aaai24_logs/val/p-n8-b2-w3-s11_dd_llg_sokoban_L4_H64_max_p10_v3.log\n",
      "aaai24_logs/val/p-l11-c11-s1_dd_slg_ferry_L4_H64_max_p10_v4.log\n",
      "aaai24_logs/val/n11-s1_dd_dlg_visitall_L4_H64_max_p10_v0.log\n",
      "aaai24_logs/val/n11-s0_dd_dlg_visitsome_L4_H64_max_p10_v3.log\n",
      "aaai24_logs/val/blocks11-task02_dd_dlg_blocks_L4_H64_max_p10_v3.log\n",
      "aaai24_logs/val/p-l11-c11-s1_dd_llg_ferry_L4_H64_max_p10_v4.log\n",
      "aaai24_logs/val/blocks11-task02_dd_llg_blocks_L4_H64_mean_p10_v0.log\n",
      "aaai24_logs/val/blocks11-task02_dd_dlg_blocks_L4_H64_max_p10_v4.log\n",
      "aaai24_logs/val/p-l11-c11-s1_dd_llg_ferry_L4_H64_max_p10_v3.log\n",
      "aaai24_logs/val/n-puzzle-5x5-s21_dd_llg_n-puzzle_L4_H64_max_p10_v2.log\n",
      "aaai24_logs/val/n11-s1_dd_llg_visitall_L4_H64_max_p10_v1.log\n",
      "aaai24_logs/val/n11-s0_dd_dlg_visitsome_L4_H64_max_p10_v4.log\n",
      "aaai24_logs/val/n11-s1_dd_slg_visitsome_L4_H64_max_p10_v4.log\n",
      "aaai24_logs/val/p-s11-n11-l7-seed1_dd_llg_spanner_L4_H64_mean_p10_v3.log\n",
      "aaai24_logs/val/p-s11-n11-l7-seed3_dd_dlg_spanner_L4_H64_max_p10_v3.log\n",
      "aaai24_logs/val/gripper-n11_dd_dlg_gripper_L4_H64_mean_p10_v3.log\n",
      "aaai24_logs/val/p-n8-b2-w3-s11_dd_llg_sokoban_L4_H64_mean_p10_v3.log\n",
      "aaai24_logs/val/gripper-n11_dd_slg_gripper_L4_H64_max_p10_v1.log\n",
      "aaai24_logs/val/p-n8-b2-w3-s12_dd_dlg_sokoban_L4_H64_max_p10_v1.log\n",
      "aaai24_logs/val/n-puzzle-5x5-s22_dd_dlg_n-puzzle_L4_H64_max_p10_v4.log\n",
      "aaai24_logs/val/p-l11-c11-s3_dd_llg_ferry_L4_H64_max_p10_v0.log\n",
      "aaai24_logs/val/p-l11-c11-s3_dd_llg_ferry_L4_H64_mean_p10_v0.log\n",
      "aaai24_logs/val/n11-s2_dd_dlg_visitall_L4_H64_max_p10_v0.log\n",
      "aaai24_logs/val/blocks11-task01_dd_slg_blocks_L4_H64_max_p10_v2.log\n",
      "aaai24_logs/val/n11-s2_dd_slg_visitsome_L4_H64_max_p10_v1.log\n",
      "aaai24_logs/val/p-s11-n11-l7-seed1_dd_dlg_spanner_L4_H64_max_p10_v2.log\n",
      "aaai24_logs/val/n-puzzle-5x5-s22_dd_dlg_n-puzzle_L4_H64_max_p10_v3.log\n",
      "aaai24_logs/val/n11-s0_dd_llg_visitsome_L4_H64_max_p10_v1.log\n",
      "aaai24_logs/val/n11-s1_dd_slg_visitsome_L4_H64_max_p10_v3.log\n",
      "aaai24_logs/val/p-s11-n11-l7-seed1_dd_llg_spanner_L4_H64_mean_p10_v4.log\n",
      "aaai24_logs/val/p-n8-b2-w3-s10_dd_dlg_sokoban_L4_H64_max_p10_v0.log\n",
      "aaai24_logs/val/p-s11-n11-l7-seed3_dd_dlg_spanner_L4_H64_max_p10_v4.log\n",
      "aaai24_logs/val/gripper-n11_dd_dlg_gripper_L4_H64_mean_p10_v4.log\n",
      "aaai24_logs/val/p-n8-b2-w3-s11_dd_llg_sokoban_L4_H64_mean_p10_v4.log\n",
      "aaai24_logs/val/n-puzzle-5x5-s20_dd_llg_n-puzzle_L4_H64_mean_p10_v1.log\n",
      "aaai24_logs/val/p-l11-c11-s2_dd_llg_ferry_L4_H64_max_p10_v2.log\n",
      "aaai24_logs/val/p-s11-n11-l7-seed1_dd_llg_spanner_L4_H64_max_p10_v1.log\n",
      "aaai24_logs/val/blocks11-task01_dd_dlg_blocks_L4_H64_max_p10_v1.log\n",
      "aaai24_logs/val/p-l11-c11-s1_dd_dlg_ferry_L4_H64_max_p10_v1.log\n",
      "aaai24_logs/val/n11-s2_dd_slg_visitall_L4_H64_max_p10_v1.log\n",
      "aaai24_logs/val/p-n8-b2-w3-s10_dd_llg_sokoban_L4_H64_max_p10_v3.log\n",
      "aaai24_logs/val/n-puzzle-5x5-s22_dd_slg_n-puzzle_L4_H64_max_p10_v2.log\n",
      "aaai24_logs/val/p-n8-b2-w3-s10_dd_llg_sokoban_L4_H64_max_p10_v4.log\n",
      "aaai24_logs/val/p-s11-n11-l7-seed3_dd_llg_spanner_L4_H64_max_p10_v0.log\n",
      "aaai24_logs/val/n11-s0_dd_llg_visitsome_L4_H64_mean_p10_v0.log\n",
      "aaai24_logs/val/n11-s0_dd_llg_visitall_L4_H64_max_p10_v1.log\n",
      "aaai24_logs/val/n-puzzle-5x5-s20_dd_llg_n-puzzle_L4_H64_max_p10_v2.log\n",
      "aaai24_logs/val/p-n8-b2-w3-s12_dd_llg_sokoban_L4_H64_max_p10_v2.log\n",
      "aaai24_logs/val/p-n8-b2-w3-s10_dd_llg_sokoban_L4_H64_mean_p10_v3.log\n",
      "aaai24_logs/val/n11-s1_dd_llg_visitall_L4_H64_mean_p10_v0.log\n",
      "aaai24_logs/val/p-s11-n11-l7-seed2_dd_slg_spanner_L4_H64_max_p10_v3.log\n",
      "aaai24_logs/val/p-l11-c11-s2_dd_dlg_ferry_L4_H64_max_p10_v0.log\n",
      "aaai24_logs/val/n11-s2_dd_llg_visitall_L4_H64_mean_p10_v2.log\n",
      "aaai24_logs/val/p-s11-n11-l7-seed2_dd_slg_spanner_L4_H64_max_p10_v4.log\n",
      "aaai24_logs/val/blocks11-task03_dd_llg_blocks_L4_H64_max_p10_v2.log\n",
      "aaai24_logs/val/p-n8-b2-w3-s11_dd_slg_sokoban_L4_H64_max_p10_v0.log\n",
      "aaai24_logs/val/p-n8-b2-w3-s10_dd_llg_sokoban_L4_H64_mean_p10_v4.log\n",
      "aaai24_logs/val/p-l11-c11-s3_dd_dlg_ferry_L4_H64_max_p10_v2.log\n",
      "aaai24_logs/val/blocks11-task02_dd_slg_blocks_L4_H64_max_p10_v0.log\n",
      "aaai24_logs/val/blocks11-task02_dd_llg_blocks_L4_H64_mean_p10_v3.log\n",
      "aaai24_logs/val/p-l11-c11-s1_dd_llg_ferry_L4_H64_max_p10_v0.log\n",
      "aaai24_logs/val/n-puzzle-5x5-s21_dd_llg_n-puzzle_L4_H64_max_p10_v1.log\n",
      "aaai24_logs/val/n11-s1_dd_llg_visitall_L4_H64_max_p10_v2.log\n",
      "aaai24_logs/val/n11-s0_dd_dlg_visitsome_L4_H64_max_p10_v0.log\n",
      "aaai24_logs/val/blocks11-task02_dd_dlg_blocks_L4_H64_max_p10_v0.log\n",
      "aaai24_logs/val/blocks11-task02_dd_llg_blocks_L4_H64_mean_p10_v4.log\n",
      "aaai24_logs/val/blocks11-task01_dd_slg_blocks_L4_H64_max_p10_v1.log\n",
      "aaai24_logs/val/n11-s2_dd_dlg_visitall_L4_H64_max_p10_v3.log\n",
      "aaai24_logs/val/p-l11-c11-s3_dd_llg_ferry_L4_H64_mean_p10_v3.log\n",
      "aaai24_logs/val/p-s11-n11-l7-seed1_dd_dlg_spanner_L4_H64_max_p10_v1.log\n",
      "aaai24_logs/val/n11-s2_dd_slg_visitsome_L4_H64_max_p10_v2.log\n",
      "aaai24_logs/val/p-l11-c11-s3_dd_llg_ferry_L4_H64_max_p10_v4.log\n",
      "aaai24_logs/val/n-puzzle-5x5-s22_dd_dlg_n-puzzle_L4_H64_max_p10_v0.log\n",
      "aaai24_logs/val/n11-s0_dd_llg_visitsome_L4_H64_max_p10_v2.log\n",
      "aaai24_logs/val/n11-s1_dd_slg_visitsome_L4_H64_max_p10_v0.log\n",
      "aaai24_logs/val/p-n8-b2-w3-s10_dd_dlg_sokoban_L4_H64_max_p10_v3.log\n",
      "aaai24_logs/val/p-l11-c11-s2_dd_llg_ferry_L4_H64_max_p10_v1.log\n",
      "aaai24_logs/val/n-puzzle-5x5-s20_dd_llg_n-puzzle_L4_H64_mean_p10_v2.log\n",
      "aaai24_logs/val/p-s11-n11-l7-seed1_dd_llg_spanner_L4_H64_mean_p10_v0.log\n",
      "aaai24_logs/val/p-n8-b2-w3-s10_dd_dlg_sokoban_L4_H64_max_p10_v4.log\n",
      "aaai24_logs/val/gripper-n11_dd_dlg_gripper_L4_H64_mean_p10_v0.log\n",
      "aaai24_logs/val/p-s11-n11-l7-seed3_dd_dlg_spanner_L4_H64_max_p10_v0.log\n",
      "aaai24_logs/val/p-n8-b2-w3-s11_dd_llg_sokoban_L4_H64_mean_p10_v0.log\n",
      "aaai24_logs/val/p-l11-c11-s3_dd_llg_ferry_L4_H64_mean_p10_v4.log\n",
      "aaai24_logs/val/n11-s2_dd_dlg_visitall_L4_H64_max_p10_v4.log\n",
      "aaai24_logs/val/gripper-n11_dd_slg_gripper_L4_H64_max_p10_v2.log\n",
      "aaai24_logs/val/p-n8-b2-w3-s12_dd_dlg_sokoban_L4_H64_max_p10_v2.log\n",
      "aaai24_logs/val/p-l11-c11-s3_dd_llg_ferry_L4_H64_max_p10_v3.log\n",
      "aaai24_logs/val/n11-s0_dd_llg_visitsome_L4_H64_mean_p10_v3.log\n",
      "aaai24_logs/val/p-s11-n11-l7-seed3_dd_llg_spanner_L4_H64_max_p10_v3.log\n",
      "aaai24_logs/val/n11-s0_dd_llg_visitall_L4_H64_max_p10_v2.log\n",
      "aaai24_logs/val/p-n8-b2-w3-s12_dd_llg_sokoban_L4_H64_max_p10_v1.log\n",
      "aaai24_logs/val/n-puzzle-5x5-s20_dd_llg_n-puzzle_L4_H64_max_p10_v1.log\n",
      "aaai24_logs/val/p-s11-n11-l7-seed1_dd_llg_spanner_L4_H64_max_p10_v2.log\n",
      "aaai24_logs/val/blocks11-task01_dd_dlg_blocks_L4_H64_max_p10_v2.log\n",
      "aaai24_logs/val/p-l11-c11-s1_dd_dlg_ferry_L4_H64_max_p10_v2.log\n",
      "aaai24_logs/val/p-n8-b2-w3-s10_dd_llg_sokoban_L4_H64_max_p10_v0.log\n",
      "aaai24_logs/val/n11-s2_dd_slg_visitall_L4_H64_max_p10_v2.log\n",
      "aaai24_logs/val/n-puzzle-5x5-s22_dd_slg_n-puzzle_L4_H64_max_p10_v1.log\n",
      "aaai24_logs/val/n11-s0_dd_llg_visitsome_L4_H64_mean_p10_v4.log\n",
      "aaai24_logs/val/p-s11-n11-l7-seed3_dd_llg_spanner_L4_H64_max_p10_v4.log\n",
      "aaai24_logs/val/p-l11-c11-s2_dd_dlg_ferry_L4_H64_max_p10_v4.log\n",
      "aaai24_logs/val/p-n8-b2-w3-s11_dd_slg_sokoban_L4_H64_max_p10_v3.log\n",
      "aaai24_logs/val/blocks11-task03_dd_llg_blocks_L4_H64_max_p10_v1.log\n",
      "aaai24_logs/val/p-l11-c11-s3_dd_dlg_ferry_L4_H64_max_p10_v1.log\n",
      "aaai24_logs/val/n11-s1_dd_llg_visitall_L4_H64_mean_p10_v4.log\n",
      "aaai24_logs/val/blocks11-task02_dd_slg_blocks_L4_H64_max_p10_v3.log\n",
      "aaai24_logs/val/p-n8-b2-w3-s10_dd_llg_sokoban_L4_H64_mean_p10_v0.log\n",
      "aaai24_logs/val/n11-s1_dd_llg_visitall_L4_H64_mean_p10_v3.log\n",
      "aaai24_logs/val/blocks11-task02_dd_slg_blocks_L4_H64_max_p10_v4.log\n",
      "aaai24_logs/val/p-s11-n11-l7-seed2_dd_slg_spanner_L4_H64_max_p10_v0.log\n",
      "aaai24_logs/val/p-l11-c11-s2_dd_dlg_ferry_L4_H64_max_p10_v3.log\n",
      "aaai24_logs/val/n11-s2_dd_llg_visitall_L4_H64_mean_p10_v1.log\n",
      "aaai24_logs/val/p-n8-b2-w3-s11_dd_slg_sokoban_L4_H64_max_p10_v4.log\n",
      "aaai24_logs/val/p-n8-b2-w3-s11_dd_dlg_sokoban_L4_H64_max_p10_v4.log\n",
      "aaai24_logs/val/blocks11-task03_dd_slg_blocks_L4_H64_max_p10_v2.log\n",
      "aaai24_logs/val/p-l11-c11-s1_dd_llg_ferry_L4_H64_mean_p10_v0.log\n",
      "aaai24_logs/val/p-s11-n11-l7-seed2_dd_dlg_spanner_L4_H64_max_p10_v0.log\n",
      "aaai24_logs/val/blocks11-task02_dd_llg_blocks_L4_H64_max_p10_v0.log\n",
      "aaai24_logs/val/n-puzzle-5x5-s21_dd_slg_n-puzzle_L4_H64_max_p10_v1.log\n",
      "aaai24_logs/val/n11-s1_dd_slg_visitall_L4_H64_max_p10_v2.log\n",
      "aaai24_logs/val/p-n8-b2-w3-s11_dd_dlg_sokoban_L4_H64_max_p10_v3.log\n",
      "aaai24_logs/val/n11-s0_dd_llg_visitall_L4_H64_mean_p10_v2.log\n",
      "aaai24_logs/val/blocks11-task01_dd_llg_blocks_L4_H64_mean_p10_v2.log\n",
      "aaai24_logs/val/blocks11-task03_dd_llg_blocks_L4_H64_mean_p10_v4.log\n",
      "aaai24_logs/val/n11-s0_dd_dlg_visitall_L4_H64_max_p10_v3.log\n",
      "aaai24_logs/val/n-puzzle-5x5-s20_dd_dlg_n-puzzle_L4_H64_max_p10_v0.log\n",
      "aaai24_logs/val/blocks11-task03_dd_llg_blocks_L4_H64_mean_p10_v3.log\n",
      "aaai24_logs/val/n11-s0_dd_dlg_visitall_L4_H64_max_p10_v4.log\n",
      "aaai24_logs/val/gripper-n11_dd_llg_gripper_L4_H64_max_p10_v1.log\n",
      "aaai24_logs/val/p-s11-n11-l7-seed3_dd_llg_spanner_L4_H64_mean_p10_v0.log\n",
      "aaai24_logs/val/n11-s1_dd_llg_visitsome_L4_H64_mean_p10_v2.log\n",
      "aaai24_logs/val/n11-s2_dd_llg_visitall_L4_H64_max_p10_v2.log\n",
      "aaai24_logs/val/n11-s1_dd_dlg_visitsome_L4_H64_max_p10_v1.log\n",
      "aaai24_logs/val/n11-s2_dd_llg_visitsome_L4_H64_mean_p10_v0.log\n",
      "aaai24_logs/val/blocks11-task01_dd_llg_blocks_L4_H64_max_p10_v2.log\n",
      "aaai24_logs/val/p-n8-b2-w3-s12_dd_slg_sokoban_L4_H64_max_p10_v2.log\n",
      "aaai24_logs/val/gripper-n11_dd_dlg_gripper_L4_H64_max_p10_v2.log\n",
      "aaai24_logs/val/n-puzzle-5x5-s22_dd_llg_n-puzzle_L4_H64_max_p10_v1.log\n",
      "aaai24_logs/val/p-l11-c11-s3_dd_slg_ferry_L4_H64_max_p10_v3.log\n",
      "aaai24_logs/val/n11-s2_dd_dlg_visitsome_L4_H64_max_p10_v3.log\n",
      "aaai24_logs/val/p-s11-n11-l7-seed3_dd_slg_spanner_L4_H64_max_p10_v0.log\n",
      "aaai24_logs/val/p-l11-c11-s2_dd_llg_ferry_L4_H64_mean_p10_v2.log\n",
      "aaai24_logs/val/p-n8-b2-w3-s10_dd_slg_sokoban_L4_H64_max_p10_v4.log\n",
      "aaai24_logs/val/p-l11-c11-s3_dd_slg_ferry_L4_H64_max_p10_v4.log\n",
      "aaai24_logs/val/n11-s0_dd_slg_visitall_L4_H64_max_p10_v2.log\n",
      "aaai24_logs/val/n11-s2_dd_dlg_visitsome_L4_H64_max_p10_v4.log\n",
      "aaai24_logs/val/gripper-n11_dd_llg_gripper_L4_H64_mean_p10_v1.log\n",
      "aaai24_logs/val/p-n8-b2-w3-s10_dd_slg_sokoban_L4_H64_max_p10_v3.log\n",
      "aaai24_logs/val/n-puzzle-5x5-s20_dd_slg_n-puzzle_L4_H64_max_p10_v1.log\n",
      "aaai24_logs/val/p-l11-c11-s2_dd_slg_ferry_L4_H64_max_p10_v1.log\n",
      "aaai24_logs/val/p-s11-n11-l7-seed1_dd_slg_spanner_L4_H64_max_p10_v1.log\n",
      "aaai24_logs/val/n-puzzle-5x5-s21_dd_llg_n-puzzle_L4_H64_mean_p10_v4.log\n",
      "aaai24_logs/val/n11-s1_dd_llg_visitsome_L4_H64_max_p10_v4.log\n",
      "aaai24_logs/val/p-n8-b2-w3-s11_dd_llg_sokoban_L4_H64_max_p10_v0.log\n",
      "aaai24_logs/val/n-puzzle-5x5-s21_dd_dlg_n-puzzle_L4_H64_max_p10_v0.log\n",
      "aaai24_logs/val/n11-s1_dd_dlg_visitall_L4_H64_max_p10_v3.log\n",
      "aaai24_logs/val/p-s11-n11-l7-seed2_dd_llg_spanner_L4_H64_max_p10_v4.log\n",
      "aaai24_logs/val/blocks11-task03_dd_dlg_blocks_L4_H64_max_p10_v1.log\n",
      "aaai24_logs/val/p-l11-c11-s1_dd_slg_ferry_L4_H64_max_p10_v0.log\n",
      "aaai24_logs/val/n-puzzle-5x5-s22_dd_llg_n-puzzle_L4_H64_mean_p10_v1.log\n",
      "aaai24_logs/val/n11-s2_dd_llg_visitsome_L4_H64_max_p10_v1.log\n",
      "aaai24_logs/val/n11-s1_dd_dlg_visitall_L4_H64_max_p10_v4.log\n",
      "aaai24_logs/val/p-s11-n11-l7-seed2_dd_llg_spanner_L4_H64_max_p10_v3.log\n",
      "aaai24_logs/val/p-n8-b2-w3-s12_dd_llg_sokoban_L4_H64_mean_p10_v0.log\n",
      "aaai24_logs/val/n-puzzle-5x5-s21_dd_llg_n-puzzle_L4_H64_mean_p10_v3.log\n",
      "aaai24_logs/val/p-s11-n11-l7-seed2_dd_llg_spanner_L4_H64_mean_p10_v0.log\n",
      "aaai24_logs/val/n11-s0_dd_slg_visitsome_L4_H64_max_p10_v1.log\n",
      "aaai24_logs/val/n11-s1_dd_llg_visitsome_L4_H64_max_p10_v3.log\n",
      "aaai24_logs/val/p-n8-b2-w3-s10_dd_llg_sokoban_L4_H64_mean_p10_v1.log\n",
      "aaai24_logs/val/n11-s1_dd_llg_visitall_L4_H64_mean_p10_v2.log\n",
      "aaai24_logs/val/p-s11-n11-l7-seed2_dd_slg_spanner_L4_H64_max_p10_v1.log\n",
      "aaai24_logs/val/n11-s2_dd_llg_visitall_L4_H64_mean_p10_v0.log\n",
      "aaai24_logs/val/p-l11-c11-s2_dd_dlg_ferry_L4_H64_max_p10_v2.log\n",
      "aaai24_logs/val/p-n8-b2-w3-s11_dd_slg_sokoban_L4_H64_max_p10_v2.log\n",
      "aaai24_logs/val/blocks11-task03_dd_llg_blocks_L4_H64_max_p10_v0.log\n",
      "aaai24_logs/val/p-l11-c11-s3_dd_dlg_ferry_L4_H64_max_p10_v0.log\n",
      "aaai24_logs/val/blocks11-task02_dd_slg_blocks_L4_H64_max_p10_v2.log\n",
      "aaai24_logs/val/p-s11-n11-l7-seed1_dd_llg_spanner_L4_H64_max_p10_v3.log\n",
      "aaai24_logs/val/n11-s0_dd_llg_visitall_L4_H64_max_p10_v4.log\n",
      "aaai24_logs/val/blocks11-task01_dd_dlg_blocks_L4_H64_max_p10_v3.log\n",
      "aaai24_logs/val/p-l11-c11-s1_dd_dlg_ferry_L4_H64_max_p10_v3.log\n",
      "aaai24_logs/val/p-n8-b2-w3-s10_dd_llg_sokoban_L4_H64_max_p10_v1.log\n",
      "aaai24_logs/val/n11-s2_dd_slg_visitall_L4_H64_max_p10_v3.log\n",
      "aaai24_logs/val/n-puzzle-5x5-s22_dd_slg_n-puzzle_L4_H64_max_p10_v0.log\n",
      "aaai24_logs/val/n11-s2_dd_slg_visitall_L4_H64_max_p10_v4.log\n",
      "aaai24_logs/val/p-s11-n11-l7-seed3_dd_llg_spanner_L4_H64_max_p10_v2.log\n",
      "aaai24_logs/val/n11-s0_dd_llg_visitsome_L4_H64_mean_p10_v2.log\n",
      "aaai24_logs/val/p-s11-n11-l7-seed1_dd_llg_spanner_L4_H64_max_p10_v4.log\n",
      "aaai24_logs/val/n11-s0_dd_llg_visitall_L4_H64_max_p10_v3.log\n",
      "aaai24_logs/val/blocks11-task01_dd_dlg_blocks_L4_H64_max_p10_v4.log\n",
      "aaai24_logs/val/p-n8-b2-w3-s12_dd_llg_sokoban_L4_H64_max_p10_v0.log\n",
      "aaai24_logs/val/n-puzzle-5x5-s20_dd_llg_n-puzzle_L4_H64_max_p10_v0.log\n",
      "aaai24_logs/val/p-l11-c11-s1_dd_dlg_ferry_L4_H64_max_p10_v4.log\n",
      "aaai24_logs/val/n11-s0_dd_llg_visitsome_L4_H64_max_p10_v4.log\n",
      "aaai24_logs/val/p-s11-n11-l7-seed1_dd_llg_spanner_L4_H64_mean_p10_v1.log\n",
      "aaai24_logs/val/p-s11-n11-l7-seed3_dd_dlg_spanner_L4_H64_max_p10_v1.log\n",
      "aaai24_logs/val/gripper-n11_dd_dlg_gripper_L4_H64_mean_p10_v1.log\n",
      "aaai24_logs/val/p-n8-b2-w3-s11_dd_llg_sokoban_L4_H64_mean_p10_v1.log\n",
      "aaai24_logs/val/n-puzzle-5x5-s20_dd_llg_n-puzzle_L4_H64_mean_p10_v4.log\n",
      "aaai24_logs/val/gripper-n11_dd_slg_gripper_L4_H64_max_p10_v3.log\n",
      "aaai24_logs/val/n11-s2_dd_slg_visitsome_L4_H64_max_p10_v4.log\n",
      "aaai24_logs/val/p-n8-b2-w3-s12_dd_dlg_sokoban_L4_H64_max_p10_v3.log\n",
      "aaai24_logs/val/p-l11-c11-s3_dd_llg_ferry_L4_H64_max_p10_v2.log\n",
      "aaai24_logs/val/n11-s2_dd_dlg_visitall_L4_H64_max_p10_v2.log\n",
      "aaai24_logs/val/p-l11-c11-s3_dd_llg_ferry_L4_H64_mean_p10_v2.log\n",
      "aaai24_logs/val/blocks11-task01_dd_slg_blocks_L4_H64_max_p10_v0.log\n",
      "aaai24_logs/val/n11-s2_dd_slg_visitsome_L4_H64_max_p10_v3.log\n",
      "aaai24_logs/val/gripper-n11_dd_slg_gripper_L4_H64_max_p10_v4.log\n",
      "aaai24_logs/val/p-s11-n11-l7-seed1_dd_dlg_spanner_L4_H64_max_p10_v0.log\n",
      "aaai24_logs/val/p-n8-b2-w3-s12_dd_dlg_sokoban_L4_H64_max_p10_v4.log\n",
      "aaai24_logs/val/n-puzzle-5x5-s22_dd_dlg_n-puzzle_L4_H64_max_p10_v1.log\n",
      "aaai24_logs/val/n11-s1_dd_slg_visitsome_L4_H64_max_p10_v1.log\n",
      "aaai24_logs/val/n11-s0_dd_llg_visitsome_L4_H64_max_p10_v3.log\n",
      "aaai24_logs/val/p-n8-b2-w3-s10_dd_dlg_sokoban_L4_H64_max_p10_v2.log\n",
      "aaai24_logs/val/n-puzzle-5x5-s20_dd_llg_n-puzzle_L4_H64_mean_p10_v3.log\n",
      "aaai24_logs/val/p-l11-c11-s2_dd_llg_ferry_L4_H64_max_p10_v0.log\n",
      "aaai24_logs/val/n11-s1_dd_llg_visitall_L4_H64_max_p10_v4.log\n",
      "aaai24_logs/val/n11-s0_dd_dlg_visitsome_L4_H64_max_p10_v1.log\n",
      "aaai24_logs/val/blocks11-task02_dd_dlg_blocks_L4_H64_max_p10_v1.log\n",
      "aaai24_logs/val/p-s11-n11-l7-seed2_dd_dlg_spanner_L4_H64_mean_p10_v0.log\n",
      "aaai24_logs/val/blocks11-task02_dd_llg_blocks_L4_H64_mean_p10_v2.log\n",
      "aaai24_logs/val/p-l11-c11-s1_dd_llg_ferry_L4_H64_max_p10_v1.log\n",
      "aaai24_logs/val/n-puzzle-5x5-s21_dd_llg_n-puzzle_L4_H64_max_p10_v0.log\n",
      "aaai24_logs/val/n11-s1_dd_llg_visitall_L4_H64_max_p10_v3.log\n",
      "aaai24_logs/val/blocks11-task03_dd_dlg_blocks_L4_H64_max_p10_v0.log\n",
      "aaai24_logs/val/p-l11-c11-s1_dd_slg_ferry_L4_H64_max_p10_v1.log\n",
      "aaai24_logs/val/n-puzzle-5x5-s22_dd_llg_n-puzzle_L4_H64_mean_p10_v0.log\n",
      "aaai24_logs/val/n11-s2_dd_llg_visitsome_L4_H64_max_p10_v0.log\n",
      "aaai24_logs/val/p-s11-n11-l7-seed2_dd_llg_spanner_L4_H64_max_p10_v2.log\n",
      "aaai24_logs/val/n-puzzle-5x5-s21_dd_llg_n-puzzle_L4_H64_mean_p10_v2.log\n",
      "aaai24_logs/val/p-n8-b2-w3-s12_dd_llg_sokoban_L4_H64_mean_p10_v1.log\n",
      "aaai24_logs/val/p-s11-n11-l7-seed2_dd_llg_spanner_L4_H64_mean_p10_v1.log\n",
      "aaai24_logs/val/n11-s1_dd_llg_visitsome_L4_H64_max_p10_v2.log\n",
      "aaai24_logs/val/n11-s0_dd_slg_visitsome_L4_H64_max_p10_v0.log\n",
      "aaai24_logs/val/p-n8-b2-w3-s11_dd_llg_sokoban_L4_H64_max_p10_v1.log\n",
      "aaai24_logs/val/n-puzzle-5x5-s21_dd_dlg_n-puzzle_L4_H64_max_p10_v1.log\n",
      "aaai24_logs/val/n11-s1_dd_dlg_visitall_L4_H64_max_p10_v2.log\n",
      "aaai24_logs/val/n11-s0_dd_slg_visitall_L4_H64_max_p10_v3.log\n",
      "aaai24_logs/val/p-l11-c11-s2_dd_llg_ferry_L4_H64_mean_p10_v4.log\n",
      "aaai24_logs/val/gripper-n11_dd_llg_gripper_L4_H64_mean_p10_v0.log\n",
      "aaai24_logs/val/p-n8-b2-w3-s10_dd_slg_sokoban_L4_H64_max_p10_v2.log\n",
      "aaai24_logs/val/n-puzzle-5x5-s20_dd_slg_n-puzzle_L4_H64_max_p10_v0.log\n",
      "aaai24_logs/val/n11-s2_dd_llg_visitall_L4_H64_max_p10_v4.log\n",
      "aaai24_logs/val/p-l11-c11-s2_dd_slg_ferry_L4_H64_max_p10_v0.log\n",
      "aaai24_logs/val/p-n8-b2-w3-s12_dd_slg_sokoban_L4_H64_max_p10_v4.log\n",
      "aaai24_logs/val/blocks11-task01_dd_llg_blocks_L4_H64_max_p10_v4.log\n",
      "aaai24_logs/val/p-s11-n11-l7-seed1_dd_slg_spanner_L4_H64_max_p10_v0.log\n",
      "aaai24_logs/val/gripper-n11_dd_dlg_gripper_L4_H64_max_p10_v4.log\n",
      "aaai24_logs/val/n11-s1_dd_dlg_visitsome_L4_H64_max_p10_v0.log\n",
      "aaai24_logs/val/n11-s2_dd_llg_visitall_L4_H64_max_p10_v3.log\n",
      "aaai24_logs/val/n11-s2_dd_llg_visitsome_L4_H64_mean_p10_v1.log\n",
      "aaai24_logs/val/p-n8-b2-w3-s12_dd_slg_sokoban_L4_H64_max_p10_v3.log\n",
      "aaai24_logs/val/blocks11-task01_dd_llg_blocks_L4_H64_max_p10_v3.log\n",
      "aaai24_logs/val/gripper-n11_dd_dlg_gripper_L4_H64_max_p10_v3.log\n",
      "aaai24_logs/val/n-puzzle-5x5-s22_dd_llg_n-puzzle_L4_H64_max_p10_v0.log\n",
      "aaai24_logs/val/p-l11-c11-s3_dd_slg_ferry_L4_H64_max_p10_v2.log\n",
      "aaai24_logs/val/n11-s0_dd_slg_visitall_L4_H64_max_p10_v4.log\n",
      "aaai24_logs/val/n11-s2_dd_dlg_visitsome_L4_H64_max_p10_v2.log\n",
      "aaai24_logs/val/p-l11-c11-s2_dd_llg_ferry_L4_H64_mean_p10_v3.log\n",
      "aaai24_logs/val/p-s11-n11-l7-seed3_dd_slg_spanner_L4_H64_max_p10_v1.log\n",
      "aaai24_logs/val/blocks11-task03_dd_llg_blocks_L4_H64_mean_p10_v2.log\n",
      "aaai24_logs/val/gripper-n11_dd_llg_gripper_L4_H64_max_p10_v0.log\n",
      "aaai24_logs/val/p-s11-n11-l7-seed3_dd_llg_spanner_L4_H64_mean_p10_v1.log\n",
      "aaai24_logs/val/n11-s0_dd_llg_visitall_L4_H64_mean_p10_v4.log\n",
      "aaai24_logs/val/n11-s1_dd_llg_visitsome_L4_H64_mean_p10_v3.log\n",
      "aaai24_logs/val/blocks11-task01_dd_llg_blocks_L4_H64_mean_p10_v4.log\n",
      "aaai24_logs/val/n11-s0_dd_llg_visitall_L4_H64_mean_p10_v3.log\n",
      "aaai24_logs/val/blocks11-task01_dd_llg_blocks_L4_H64_mean_p10_v3.log\n",
      "aaai24_logs/val/n11-s1_dd_llg_visitsome_L4_H64_mean_p10_v4.log\n",
      "aaai24_logs/val/n11-s0_dd_dlg_visitall_L4_H64_max_p10_v2.log\n",
      "aaai24_logs/val/n-puzzle-5x5-s20_dd_dlg_n-puzzle_L4_H64_max_p10_v1.log\n",
      "aaai24_logs/val/n-puzzle-5x5-s21_dd_slg_n-puzzle_L4_H64_max_p10_v0.log\n",
      "aaai24_logs/val/n11-s1_dd_slg_visitall_L4_H64_max_p10_v3.log\n",
      "aaai24_logs/val/p-n8-b2-w3-s11_dd_dlg_sokoban_L4_H64_max_p10_v2.log\n",
      "aaai24_logs/val/blocks11-task03_dd_slg_blocks_L4_H64_max_p10_v4.log\n",
      "aaai24_logs/val/p-l11-c11-s1_dd_llg_ferry_L4_H64_mean_p10_v1.log\n",
      "aaai24_logs/val/blocks11-task03_dd_slg_blocks_L4_H64_max_p10_v3.log\n",
      "aaai24_logs/val/p-s11-n11-l7-seed2_dd_dlg_spanner_L4_H64_max_p10_v1.log\n",
      "aaai24_logs/val/n11-s1_dd_slg_visitall_L4_H64_max_p10_v4.log\n",
      "aaai24_logs/val/blocks11-task02_dd_llg_blocks_L4_H64_max_p10_v1.log\n",
      "aaai24_logs/train/\n",
      "aaai24_logs/train/dd_llg_sokoban_L4_H64_mean_p10_v2.log\n",
      "aaai24_logs/train/dd_llg_blocks_L4_H64_max_p10_v2.log\n",
      "aaai24_logs/train/dd_llg_ferry_L4_H64_mean_p10_v2.log\n",
      "aaai24_logs/train/dd_llg_n-puzzle_L4_H64_max_p10_v0.log\n",
      "aaai24_logs/train/dd_llg_ferry_L4_H64_max_p10_v3.log\n",
      "aaai24_logs/train/dd_slg_visitall_L4_H64_max_p10_v3.log\n",
      "aaai24_logs/train/dd_llg_ferry_L4_H64_max_p10_v4.log\n",
      "aaai24_logs/train/dd_slg_visitall_L4_H64_max_p10_v4.log\n",
      "aaai24_logs/train/dd_llg_blocks_L4_H64_mean_p10_v1.log\n",
      "aaai24_logs/train/dd_llg_gripper_L4_H64_mean_p10_v0.log\n",
      "aaai24_logs/train/dd_slg_sokoban_L4_H64_max_p10_v1.log\n",
      "aaai24_logs/train/dd_llg_visitsome_L4_H64_max_p10_v0.log\n",
      "aaai24_logs/train/dd_slg_spanner_L4_H64_max_p10_v3.log\n",
      "aaai24_logs/train/dd_slg_spanner_L4_H64_max_p10_v4.log\n",
      "aaai24_logs/train/dd_dlg_visitall_L4_H64_max_p10_v2.log\n",
      "aaai24_logs/train/dd_dlg_spanner_L4_H64_mean_p10_v2.log\n",
      "aaai24_logs/train/dd_slg_gripper_L4_H64_max_p10_v1.log\n",
      "aaai24_logs/train/dd_llg_n-puzzle_L4_H64_mean_p10_v4.log\n",
      "aaai24_logs/train/dd_llg_n-puzzle_L4_H64_mean_p10_v3.log\n",
      "aaai24_logs/train/dd_dlg_ferry_L4_H64_max_p10_v1.log\n",
      "aaai24_logs/train/dd_dlg_visitsome_L4_H64_max_p10_v2.log\n",
      "aaai24_logs/train/dd_slg_n-puzzle_L4_H64_max_p10_v0.log\n",
      "aaai24_logs/train/dd_slg_visitsome_L4_H64_max_p10_v4.log\n",
      "aaai24_logs/train/dd_slg_visitsome_L4_H64_max_p10_v3.log\n",
      "aaai24_logs/train/dd_dlg_blocks_L4_H64_max_p10_v2.log\n",
      "aaai24_logs/train/dd_dlg_gripper_L4_H64_max_p10_v1.log\n",
      "aaai24_logs/train/dd_llg_spanner_L4_H64_mean_p10_v4.log\n",
      "aaai24_logs/train/dd_llg_visitall_L4_H64_max_p10_v4.log\n",
      "aaai24_logs/train/dd_dlg_spanner_L4_H64_max_p10_v4.log\n",
      "aaai24_logs/train/dd_llg_visitsome_L4_H64_mean_p10_v1.log\n",
      "aaai24_logs/train/dd_llg_visitall_L4_H64_max_p10_v3.log\n",
      "aaai24_logs/train/dd_dlg_spanner_L4_H64_max_p10_v3.log\n",
      "aaai24_logs/train/dd_llg_spanner_L4_H64_mean_p10_v3.log\n",
      "aaai24_logs/train/dd_dlg_sokoban_L4_H64_max_p10_v1.log\n",
      "aaai24_logs/train/dd_slg_ferry_L4_H64_max_p10_v4.log\n",
      "aaai24_logs/train/dd_llg_spanner_L4_H64_max_p10_v0.log\n",
      "aaai24_logs/train/dd_llg_visitall_L4_H64_mean_p10_v0.log\n",
      "aaai24_logs/train/dd_llg_sokoban_L4_H64_max_p10_v2.log\n",
      "aaai24_logs/train/dd_llg_gripper_L4_H64_max_p10_v2.log\n",
      "aaai24_logs/train/dd_slg_ferry_L4_H64_max_p10_v3.log\n",
      "aaai24_logs/train/dd_dlg_gripper_L4_H64_mean_p10_v1.log\n",
      "aaai24_logs/train/dd_slg_blocks_L4_H64_max_p10_v1.log\n",
      "aaai24_logs/train/dd_dlg_n-puzzle_L4_H64_max_p10_v1.log\n",
      "aaai24_logs/train/dd_llg_n-puzzle_L4_H64_mean_p10_v2.log\n",
      "aaai24_logs/train/dd_dlg_ferry_L4_H64_max_p10_v0.log\n",
      "aaai24_logs/train/dd_dlg_visitsome_L4_H64_max_p10_v3.log\n",
      "aaai24_logs/train/dd_dlg_visitsome_L4_H64_max_p10_v4.log\n",
      "aaai24_logs/train/dd_dlg_visitall_L4_H64_max_p10_v3.log\n",
      "aaai24_logs/train/dd_dlg_spanner_L4_H64_mean_p10_v3.log\n",
      "aaai24_logs/train/dd_slg_gripper_L4_H64_max_p10_v0.log\n",
      "aaai24_logs/train/dd_slg_sokoban_L4_H64_max_p10_v0.log\n",
      "aaai24_logs/train/dd_llg_visitsome_L4_H64_max_p10_v1.log\n",
      "aaai24_logs/train/dd_dlg_spanner_L4_H64_mean_p10_v4.log\n",
      "aaai24_logs/train/dd_slg_spanner_L4_H64_max_p10_v2.log\n",
      "aaai24_logs/train/dd_dlg_visitall_L4_H64_max_p10_v4.log\n",
      "aaai24_logs/train/dd_llg_blocks_L4_H64_mean_p10_v0.log\n",
      "aaai24_logs/train/dd_llg_gripper_L4_H64_mean_p10_v1.log\n",
      "aaai24_logs/train/dd_slg_visitall_L4_H64_max_p10_v2.log\n",
      "aaai24_logs/train/dd_llg_ferry_L4_H64_max_p10_v2.log\n",
      "aaai24_logs/train/dd_llg_ferry_L4_H64_mean_p10_v3.log\n",
      "aaai24_logs/train/dd_llg_blocks_L4_H64_max_p10_v4.log\n",
      "aaai24_logs/train/dd_llg_sokoban_L4_H64_mean_p10_v4.log\n",
      "aaai24_logs/train/dd_llg_n-puzzle_L4_H64_max_p10_v1.log\n",
      "aaai24_logs/train/dd_llg_sokoban_L4_H64_mean_p10_v3.log\n",
      "aaai24_logs/train/dd_llg_ferry_L4_H64_mean_p10_v4.log\n",
      "aaai24_logs/train/dd_llg_blocks_L4_H64_max_p10_v3.log\n",
      "aaai24_logs/train/dd_dlg_n-puzzle_L4_H64_max_p10_v0.log\n",
      "aaai24_logs/train/dd_slg_blocks_L4_H64_max_p10_v0.log\n",
      "aaai24_logs/train/dd_llg_gripper_L4_H64_max_p10_v3.log\n",
      "aaai24_logs/train/dd_llg_sokoban_L4_H64_max_p10_v4.log\n",
      "aaai24_logs/train/dd_slg_ferry_L4_H64_max_p10_v2.log\n",
      "aaai24_logs/train/dd_dlg_gripper_L4_H64_mean_p10_v0.log\n",
      "aaai24_logs/train/dd_llg_spanner_L4_H64_max_p10_v1.log\n",
      "aaai24_logs/train/dd_llg_visitall_L4_H64_mean_p10_v1.log\n",
      "aaai24_logs/train/dd_llg_gripper_L4_H64_max_p10_v4.log\n",
      "aaai24_logs/train/dd_llg_sokoban_L4_H64_max_p10_v3.log\n",
      "aaai24_logs/train/dd_llg_visitall_L4_H64_max_p10_v2.log\n",
      "aaai24_logs/train/dd_dlg_spanner_L4_H64_max_p10_v2.log\n",
      "aaai24_logs/train/dd_llg_spanner_L4_H64_mean_p10_v2.log\n",
      "aaai24_logs/train/dd_dlg_sokoban_L4_H64_max_p10_v0.log\n",
      "aaai24_logs/train/dd_dlg_gripper_L4_H64_max_p10_v0.log\n",
      "aaai24_logs/train/dd_llg_visitsome_L4_H64_mean_p10_v0.log\n",
      "aaai24_logs/train/dd_slg_visitsome_L4_H64_max_p10_v2.log\n",
      "aaai24_logs/train/dd_dlg_blocks_L4_H64_max_p10_v3.log\n",
      "aaai24_logs/train/dd_dlg_blocks_L4_H64_max_p10_v4.log\n",
      "aaai24_logs/train/dd_slg_n-puzzle_L4_H64_max_p10_v1.log\n",
      "aaai24_logs/train/dd_dlg_n-puzzle_L4_H64_max_p10_v4.log\n",
      "aaai24_logs/train/dd_slg_blocks_L4_H64_max_p10_v3.log\n",
      "aaai24_logs/train/dd_slg_blocks_L4_H64_max_p10_v4.log\n",
      "aaai24_logs/train/dd_dlg_n-puzzle_L4_H64_max_p10_v3.log\n",
      "aaai24_logs/train/dd_llg_spanner_L4_H64_max_p10_v2.log\n",
      "aaai24_logs/train/dd_dlg_gripper_L4_H64_mean_p10_v4.log\n",
      "aaai24_logs/train/dd_llg_visitall_L4_H64_mean_p10_v2.log\n",
      "aaai24_logs/train/dd_llg_sokoban_L4_H64_max_p10_v0.log\n",
      "aaai24_logs/train/dd_llg_gripper_L4_H64_max_p10_v0.log\n",
      "aaai24_logs/train/dd_dlg_gripper_L4_H64_mean_p10_v3.log\n",
      "aaai24_logs/train/dd_slg_ferry_L4_H64_max_p10_v1.log\n",
      "aaai24_logs/train/dd_dlg_gripper_L4_H64_max_p10_v3.log\n",
      "aaai24_logs/train/dd_dlg_sokoban_L4_H64_max_p10_v4.log\n",
      "aaai24_logs/train/dd_llg_visitsome_L4_H64_mean_p10_v3.log\n",
      "aaai24_logs/train/dd_llg_visitall_L4_H64_max_p10_v1.log\n",
      "aaai24_logs/train/dd_llg_visitsome_L4_H64_mean_p10_v4.log\n",
      "aaai24_logs/train/dd_dlg_spanner_L4_H64_max_p10_v1.log\n",
      "aaai24_logs/train/dd_dlg_gripper_L4_H64_max_p10_v4.log\n",
      "aaai24_logs/train/dd_llg_spanner_L4_H64_mean_p10_v1.log\n",
      "aaai24_logs/train/dd_dlg_sokoban_L4_H64_max_p10_v3.log\n",
      "aaai24_logs/train/dd_slg_n-puzzle_L4_H64_max_p10_v2.log\n",
      "aaai24_logs/train/dd_slg_visitsome_L4_H64_max_p10_v1.log\n",
      "aaai24_logs/train/dd_dlg_blocks_L4_H64_max_p10_v0.log\n",
      "aaai24_logs/train/dd_dlg_ferry_L4_H64_max_p10_v4.log\n",
      "aaai24_logs/train/dd_llg_n-puzzle_L4_H64_mean_p10_v1.log\n",
      "aaai24_logs/train/dd_dlg_ferry_L4_H64_max_p10_v3.log\n",
      "aaai24_logs/train/dd_dlg_visitsome_L4_H64_max_p10_v0.log\n",
      "aaai24_logs/train/dd_llg_visitsome_L4_H64_max_p10_v2.log\n",
      "aaai24_logs/train/dd_slg_sokoban_L4_H64_max_p10_v3.log\n",
      "aaai24_logs/train/dd_slg_gripper_L4_H64_max_p10_v4.log\n",
      "aaai24_logs/train/dd_slg_spanner_L4_H64_max_p10_v1.log\n",
      "aaai24_logs/train/dd_dlg_visitall_L4_H64_max_p10_v0.log\n",
      "aaai24_logs/train/dd_slg_sokoban_L4_H64_max_p10_v4.log\n",
      "aaai24_logs/train/dd_dlg_spanner_L4_H64_mean_p10_v0.log\n",
      "aaai24_logs/train/dd_slg_gripper_L4_H64_max_p10_v3.log\n",
      "aaai24_logs/train/dd_llg_ferry_L4_H64_max_p10_v1.log\n",
      "aaai24_logs/train/dd_slg_visitall_L4_H64_max_p10_v1.log\n",
      "aaai24_logs/train/dd_llg_blocks_L4_H64_mean_p10_v4.log\n",
      "aaai24_logs/train/dd_llg_blocks_L4_H64_mean_p10_v3.log\n",
      "aaai24_logs/train/di_llg_L4_H64_max_p20_v1.log\n",
      "aaai24_logs/train/dd_llg_gripper_L4_H64_mean_p10_v2.log\n",
      "aaai24_logs/train/dd_llg_sokoban_L4_H64_mean_p10_v0.log\n",
      "aaai24_logs/train/dd_llg_blocks_L4_H64_max_p10_v0.log\n",
      "aaai24_logs/train/dd_llg_ferry_L4_H64_mean_p10_v0.log\n",
      "aaai24_logs/train/dd_llg_n-puzzle_L4_H64_max_p10_v2.log\n",
      "aaai24_logs/train/dd_slg_visitsome_L4_H64_max_p10_v0.log\n",
      "aaai24_logs/train/dd_dlg_blocks_L4_H64_max_p10_v1.log\n",
      "aaai24_logs/train/dd_slg_n-puzzle_L4_H64_max_p10_v4.log\n",
      "aaai24_logs/train/dd_slg_n-puzzle_L4_H64_max_p10_v3.log\n",
      "aaai24_logs/train/dd_llg_visitall_L4_H64_max_p10_v0.log\n",
      "aaai24_logs/train/dd_dlg_spanner_L4_H64_max_p10_v0.log\n",
      "aaai24_logs/train/dd_llg_spanner_L4_H64_mean_p10_v0.log\n",
      "aaai24_logs/train/dd_dlg_sokoban_L4_H64_max_p10_v2.log\n",
      "aaai24_logs/train/dd_dlg_gripper_L4_H64_max_p10_v2.log\n",
      "aaai24_logs/train/dd_llg_visitsome_L4_H64_mean_p10_v2.log\n",
      "aaai24_logs/train/dd_llg_gripper_L4_H64_max_p10_v1.log\n",
      "aaai24_logs/train/dd_llg_visitall_L4_H64_mean_p10_v4.log\n",
      "aaai24_logs/train/dd_dlg_gripper_L4_H64_mean_p10_v2.log\n",
      "aaai24_logs/train/dd_llg_spanner_L4_H64_max_p10_v4.log\n",
      "aaai24_logs/train/dd_slg_ferry_L4_H64_max_p10_v0.log\n",
      "aaai24_logs/train/dd_llg_spanner_L4_H64_max_p10_v3.log\n",
      "aaai24_logs/train/dd_llg_visitall_L4_H64_mean_p10_v3.log\n",
      "aaai24_logs/train/di_dlg_L4_H64_max_p20_v0.log\n",
      "aaai24_logs/train/dd_llg_sokoban_L4_H64_max_p10_v1.log\n",
      "aaai24_logs/train/di_slg_L4_H64_max_p20_v0.log\n",
      "aaai24_logs/train/dd_dlg_n-puzzle_L4_H64_max_p10_v2.log\n",
      "aaai24_logs/train/dd_slg_blocks_L4_H64_max_p10_v2.log\n",
      "aaai24_logs/train/dd_llg_ferry_L4_H64_mean_p10_v1.log\n",
      "aaai24_logs/train/dd_llg_n-puzzle_L4_H64_max_p10_v3.log\n",
      "aaai24_logs/train/dd_llg_sokoban_L4_H64_mean_p10_v1.log\n",
      "aaai24_logs/train/dd_llg_n-puzzle_L4_H64_max_p10_v4.log\n",
      "aaai24_logs/train/dd_llg_blocks_L4_H64_max_p10_v1.log\n",
      "aaai24_logs/train/dd_llg_blocks_L4_H64_mean_p10_v2.log\n",
      "aaai24_logs/train/di_llg_L4_H64_max_p20_v0.log\n",
      "aaai24_logs/train/dd_llg_gripper_L4_H64_mean_p10_v3.log\n",
      "aaai24_logs/train/dd_llg_gripper_L4_H64_mean_p10_v4.log\n",
      "aaai24_logs/train/dd_slg_visitall_L4_H64_max_p10_v0.log\n",
      "aaai24_logs/train/dd_llg_ferry_L4_H64_max_p10_v0.log\n",
      "aaai24_logs/train/dd_dlg_visitall_L4_H64_max_p10_v1.log\n",
      "aaai24_logs/train/dd_llg_visitsome_L4_H64_max_p10_v4.log\n",
      "aaai24_logs/train/dd_dlg_spanner_L4_H64_mean_p10_v1.log\n",
      "aaai24_logs/train/dd_slg_gripper_L4_H64_max_p10_v2.log\n",
      "aaai24_logs/train/dd_llg_visitsome_L4_H64_max_p10_v3.log\n",
      "aaai24_logs/train/dd_slg_sokoban_L4_H64_max_p10_v2.log\n",
      "aaai24_logs/train/dd_slg_spanner_L4_H64_max_p10_v0.log\n",
      "aaai24_logs/train/dd_llg_n-puzzle_L4_H64_mean_p10_v0.log\n",
      "aaai24_logs/train/dd_dlg_ferry_L4_H64_max_p10_v2.log\n",
      "aaai24_logs/train/dd_dlg_visitsome_L4_H64_max_p10_v1.log\n",
      "aaai24_logs/select/\n",
      "aaai24_logs/select/dd_llg_spanner_L4_H64_max_p10.log\n",
      "aaai24_logs/select/dd_llg_n-puzzle_L4_H64_mean_p10.log\n",
      "aaai24_logs/select/dd_slg_visitsome_L4_H64_max_p10.log\n",
      "aaai24_logs/select/dd_llg_spanner_L4_H64_mean_p10.log\n",
      "aaai24_logs/select/dd_dlg_gripper_L4_H64_mean_p10.log\n",
      "aaai24_logs/select/dd_dlg_sokoban_L4_H64_max_p10.log\n",
      "aaai24_logs/select/dd_dlg_ferry_L4_H64_max_p10.log\n",
      "aaai24_logs/select/dd_dlg_visitall_L4_H64_max_p10.log\n",
      "aaai24_logs/select/dd_slg_blocks_L4_H64_max_p10.log\n",
      "aaai24_logs/select/dd_llg_ferry_L4_H64_max_p10.log\n",
      "aaai24_logs/select/dd_llg_visitall_L4_H64_mean_p10.log\n",
      "aaai24_logs/select/dd_slg_spanner_L4_H64_max_p10.log\n",
      "aaai24_logs/select/dd_dlg_n-puzzle_L4_H64_max_p10.log\n",
      "aaai24_logs/select/dd_dlg_gripper_L4_H64_max_p10.log\n",
      "aaai24_logs/select/dd_llg_gripper_L4_H64_max_p10.log\n",
      "aaai24_logs/select/dd_slg_sokoban_L4_H64_max_p10.log\n",
      "aaai24_logs/select/dd_llg_blocks_L4_H64_max_p10.log\n",
      "aaai24_logs/select/dd_llg_gripper_L4_H64_mean_p10.log\n",
      "aaai24_logs/select/dd_dlg_blocks_L4_H64_max_p10.log\n",
      "aaai24_logs/select/dd_llg_visitsome_L4_H64_mean_p10.log\n",
      "aaai24_logs/select/dd_llg_n-puzzle_L4_H64_max_p10.log\n",
      "aaai24_logs/select/dd_llg_sokoban_L4_H64_mean_p10.log\n",
      "aaai24_logs/select/dd_llg_blocks_L4_H64_mean_p10.log\n",
      "aaai24_logs/select/dd_llg_visitsome_L4_H64_max_p10.log\n",
      "aaai24_logs/select/dd_llg_ferry_L4_H64_mean_p10.log\n",
      "aaai24_logs/select/dd_slg_gripper_L4_H64_max_p10.log\n",
      "aaai24_logs/select/dd_llg_sokoban_L4_H64_max_p10.log\n",
      "aaai24_logs/select/dd_slg_visitall_L4_H64_max_p10.log\n",
      "aaai24_logs/select/dd_llg_visitall_L4_H64_max_p10.log\n",
      "aaai24_logs/select/dd_slg_ferry_L4_H64_max_p10.log\n",
      "aaai24_logs/select/dd_dlg_visitsome_L4_H64_max_p10.log\n",
      "aaai24_logs/select/dd_dlg_spanner_L4_H64_max_p10.log\n",
      "aaai24_logs/select/dd_slg_n-puzzle_L4_H64_max_p10.log\n",
      "aaai24_logs/slurm/\n",
      "aaai24_logs/slurm/cluster1_di_tvt_dlg.log\n",
      "aaai24_logs/slurm/cluster1_dd_tvt_llg_spanner.log\n",
      "aaai24_logs/slurm/cluster1_dd_tvt_llg_visitall.log\n",
      "aaai24_logs/slurm/cluster1_dd_tvt_llg_visitsome.log\n",
      "aaai24_logs/slurm/cluster1_dd_tvt_dlg.log\n",
      "aaai24_logs/slurm/cluster1_dd_tvt_llg_sokoban.log\n",
      "aaai24_logs/slurm/cluster1_di_tvt_slg.log\n",
      "aaai24_logs/slurm/cluster1_dd_tvt_llg_ferry.log\n",
      "aaai24_logs/slurm/cluster1_dd_tvt_llg_gripper.log\n",
      "aaai24_logs/slurm/cluster1_di_tvt_llg.log\n",
      "aaai24_logs/slurm/cluster1_dd_tvt_llg_blocks.log\n",
      "aaai24_logs/slurm/cluster1_dd_tvt_llg_n-puzzle.log\n",
      "aaai24_logs/\n",
      "aaai24_logs/test/\n",
      "aaai24_logs/test/n50-s1_dd_llg_visitsome_L4_H64_mean_p10.log\n",
      "aaai24_logs/test/n20-s2_dd_slg_visitsome_L4_H64_max_p10.log\n",
      "aaai24_logs/test/n15-s4_dd_llg_visitsome_L4_H64_mean_p10.log\n",
      "aaai24_logs/test/p-n10-b3-w3-s2_dd_llg_sokoban_L4_H64_mean_p10.log\n",
      "aaai24_logs/test/p-n8-b2-w5-s1_dd_llg_sokoban_L4_H64_max_p10.log\n",
      "aaai24_logs/test/blocks20-task01_dd_dlg_blocks_L4_H64_max_p10.log\n",
      "aaai24_logs/test/p-l50-c50-s3_dd_llg_ferry_L4_H64_mean_p10.log\n",
      "aaai24_logs/test/p-l70-c70-s5_dd_llg_ferry_L4_H64_mean_p10.log\n",
      "aaai24_logs/test/n65-s4_dd_llg_visitall_L4_H64_max_p10.log\n",
      "aaai24_logs/test/p-s30-n30-l20-seed4_dd_llg_spanner_L4_H64_max_p10.log\n",
      "aaai24_logs/test/p-s20-n20-l13-seed2_dd_slg_spanner_L4_H64_max_p10.log\n",
      "aaai24_logs/test/n40-s2_dd_llg_visitsome_L4_H64_max_p10.log\n",
      "aaai24_logs/test/p-n8-b3-w3-s0_dd_llg_sokoban_L4_H64_max_p10.log\n",
      "aaai24_logs/test/p-s70-n70-l46-seed3_dd_llg_spanner_L4_H64_max_p10.log\n",
      "aaai24_logs/test/p-s60-n60-l40-seed5_dd_llg_spanner_L4_H64_max_p10.log\n",
      "aaai24_logs/test/blocks15-task02_dd_slg_blocks_L4_H64_max_p10.log\n",
      "aaai24_logs/test/p-l50-c50-s5_dd_slg_ferry_L4_H64_max_p10.log\n",
      "aaai24_logs/test/n65-s2_dd_dlg_visitall_L4_H64_max_p10.log\n",
      "aaai24_logs/test/n85-s1_dd_slg_visitsome_L4_H64_max_p10.log\n",
      "aaai24_logs/test/p-l20-c20-s4_dd_slg_ferry_L4_H64_max_p10.log\n",
      "aaai24_logs/test/blocks45-task05_dd_llg_blocks_L4_H64_max_p10.log\n",
      "aaai24_logs/test/p-n11-b3-w3-s1_dd_dlg_sokoban_L4_H64_max_p10.log\n",
      "aaai24_logs/test/p-n9-b3-w4-s2_dd_slg_sokoban_L4_H64_max_p10.log\n",
      "aaai24_logs/test/p-l75-c75-s4_dd_llg_ferry_L4_H64_max_p10.log\n",
      "aaai24_logs/test/blocks65-task01_dd_llg_blocks_L4_H64_mean_p10.log\n",
      "aaai24_logs/test/n35-s4_dd_dlg_visitsome_L4_H64_max_p10.log\n",
      "aaai24_logs/test/n15-s2_dd_dlg_visitsome_L4_H64_max_p10.log\n",
      "aaai24_logs/test/n45-s0_dd_llg_visitall_L4_H64_mean_p10.log\n",
      "aaai24_logs/test/n-puzzle-5x5-s0_dd_slg_n-puzzle_L4_H64_max_p10.log\n",
      "aaai24_logs/test/blocks80-task02_dd_llg_blocks_L4_H64_mean_p10.log\n",
      "aaai24_logs/test/n60-s1_dd_dlg_visitall_L4_H64_max_p10.log\n",
      "aaai24_logs/test/p-n11-b2-w5-s0_dd_dlg_sokoban_L4_H64_max_p10.log\n",
      "aaai24_logs/test/n-puzzle-5x5-s9_dd_llg_n-puzzle_L4_H64_mean_p10.log\n",
      "aaai24_logs/test/n60-s0_dd_llg_visitsome_L4_H64_mean_p10.log\n",
      "aaai24_logs/test/p-s15-n15-l10-seed1_dd_llg_spanner_L4_H64_max_p10.log\n",
      "aaai24_logs/test/p-n12-b3-w4-s2_dd_llg_sokoban_L4_H64_max_p10.log\n",
      "aaai24_logs/test/n30-s3_dd_slg_visitsome_L4_H64_max_p10.log\n",
      "aaai24_logs/test/gripper-n30_dd_dlg_gripper_L4_H64_mean_p10.log\n",
      "aaai24_logs/test/p-n10-b3-w5-s1_dd_llg_sokoban_L4_H64_max_p10.log\n",
      "aaai24_logs/test/p-n12-b3-w5-s0_dd_llg_sokoban_L4_H64_mean_p10.log\n",
      "aaai24_logs/test/n80-s0_dd_llg_visitsome_L4_H64_mean_p10.log\n",
      "aaai24_logs/test/p-n10-b2-w3-s0_dd_llg_sokoban_L4_H64_max_p10.log\n",
      "aaai24_logs/test/p-l15-c15-s5_dd_llg_ferry_L4_H64_max_p10.log\n",
      "aaai24_logs/test/n50-s0_dd_dlg_visitall_L4_H64_max_p10.log\n",
      "aaai24_logs/test/blocks35-task05_dd_llg_blocks_L4_H64_mean_p10.log\n",
      "aaai24_logs/test/p-s25-n25-l16-seed1_dd_llg_spanner_L4_H64_mean_p10.log\n",
      "aaai24_logs/test/p-l40-c40-s5_dd_slg_ferry_L4_H64_max_p10.log\n",
      "aaai24_logs/test/p-l30-c30-s4_dd_slg_ferry_L4_H64_max_p10.log\n",
      "aaai24_logs/test/n95-s0_dd_slg_visitsome_L4_H64_max_p10.log\n",
      "aaai24_logs/test/p-s25-n25-l16-seed4_dd_llg_spanner_L4_H64_max_p10.log\n",
      "aaai24_logs/test/n-puzzle-6x6-s0_dd_dlg_n-puzzle_L4_H64_max_p10.log\n",
      "aaai24_logs/test/p-s65-n65-l43-seed2_dd_llg_spanner_L4_H64_max_p10.log\n",
      "aaai24_logs/test/p-l65-c65-s4_dd_llg_ferry_L4_H64_max_p10.log\n",
      "aaai24_logs/test/p-n11-b2-w4-s2_dd_slg_sokoban_L4_H64_max_p10.log\n",
      "aaai24_logs/test/p-n9-b2-w3-s1_dd_dlg_sokoban_L4_H64_max_p10.log\n",
      "aaai24_logs/test/p-l15-c15-s4_dd_dlg_ferry_L4_H64_max_p10.log\n",
      "aaai24_logs/test/n55-s3_dd_dlg_visitall_L4_H64_max_p10.log\n",
      "aaai24_logs/test/n55-s1_dd_llg_visitall_L4_H64_mean_p10.log\n",
      "aaai24_logs/test/p-s80-n80-l53-seed3_dd_llg_spanner_L4_H64_max_p10.log\n",
      "aaai24_logs/test/p-n9-b3-w5-s0_dd_dlg_sokoban_L4_H64_max_p10.log\n",
      "aaai24_logs/test/p-s40-n40-l26-seed4_dd_llg_spanner_L4_H64_max_p10.log\n",
      "aaai24_logs/test/n30-s3_dd_llg_visitsome_L4_H64_mean_p10.log\n",
      "aaai24_logs/test/p-s35-n35-l23-seed3_dd_llg_spanner_L4_H64_max_p10.log\n",
      "aaai24_logs/test/p-n10-b2-w4-s0_dd_llg_sokoban_L4_H64_mean_p10.log\n",
      "aaai24_logs/test/p-s20-n20-l13-seed1_dd_slg_spanner_L4_H64_max_p10.log\n",
      "aaai24_logs/test/n35-s0_dd_llg_visitsome_L4_H64_mean_p10.log\n",
      "aaai24_logs/test/n30-s2_dd_dlg_visitall_L4_H64_max_p10.log\n",
      "aaai24_logs/test/p-n9-b3-w4-s1_dd_llg_sokoban_L4_H64_mean_p10.log\n",
      "aaai24_logs/test/n90-s3_dd_dlg_visitsome_L4_H64_max_p10.log\n",
      "aaai24_logs/test/p-l25-c25-s5_dd_llg_ferry_L4_H64_max_p10.log\n",
      "aaai24_logs/test/p-n8-b2-w5-s2_dd_llg_sokoban_L4_H64_max_p10.log\n",
      "aaai24_logs/test/n25-s4_dd_slg_visitall_L4_H64_max_p10.log\n",
      "aaai24_logs/test/n30-s4_dd_llg_visitall_L4_H64_max_p10.log\n",
      "aaai24_logs/test/p-s30-n30-l20-seed3_dd_llg_spanner_L4_H64_mean_p10.log\n",
      "aaai24_logs/test/p-s60-n60-l40-seed3_dd_llg_spanner_L4_H64_mean_p10.log\n",
      "aaai24_logs/test/p-l55-c55-s4_dd_llg_ferry_L4_H64_max_p10.log\n",
      "aaai24_logs/test/p-s15-n15-l10-seed2_dd_llg_spanner_L4_H64_max_p10.log\n",
      "aaai24_logs/test/n100-s1_dd_dlg_visitsome_L4_H64_max_p10.log\n",
      "aaai24_logs/test/p-n12-b3-w4-s1_dd_llg_sokoban_L4_H64_max_p10.log\n",
      "aaai24_logs/test/blocks80-task01_dd_llg_blocks_L4_H64_mean_p10.log\n",
      "aaai24_logs/test/n35-s1_dd_dlg_visitall_L4_H64_max_p10.log\n",
      "aaai24_logs/test/n35-s0_dd_dlg_visitsome_L4_H64_max_p10.log\n",
      "aaai24_logs/test/gripper-n40_dd_llg_gripper_L4_H64_mean_p10.log\n",
      "aaai24_logs/test/n65-s2_dd_llg_visitall_L4_H64_mean_p10.log\n",
      "aaai24_logs/test/n40-s4_dd_llg_visitsome_L4_H64_mean_p10.log\n",
      "aaai24_logs/test/n45-s4_dd_llg_visitall_L4_H64_mean_p10.log\n",
      "aaai24_logs/test/p-l25-c25-s4_dd_dlg_ferry_L4_H64_max_p10.log\n",
      "aaai24_logs/test/n85-s3_dd_llg_visitsome_L4_H64_mean_p10.log\n",
      "aaai24_logs/test/blocks65-task02_dd_llg_blocks_L4_H64_mean_p10.log\n",
      "aaai24_logs/test/p-n11-b3-w3-s2_dd_dlg_sokoban_L4_H64_max_p10.log\n",
      "aaai24_logs/test/p-n9-b3-w4-s1_dd_slg_sokoban_L4_H64_max_p10.log\n",
      "aaai24_logs/test/p-n8-b3-w5-s2_dd_llg_sokoban_L4_H64_mean_p10.log\n",
      "aaai24_logs/test/n-puzzle-5x5-s9_dd_llg_n-puzzle_L4_H64_max_p10.log\n",
      "aaai24_logs/test/gripper-n70_dd_dlg_gripper_L4_H64_mean_p10.log\n",
      "aaai24_logs/test/p-l45-c45-s5_dd_dlg_ferry_L4_H64_max_p10.log\n",
      "aaai24_logs/test/n65-s3_dd_llg_visitsome_L4_H64_mean_p10.log\n",
      "aaai24_logs/test/p-l20-c20-s3_dd_llg_ferry_L4_H64_mean_p10.log\n",
      "aaai24_logs/test/p-n10-b3-w5-s2_dd_llg_sokoban_L4_H64_max_p10.log\n",
      "aaai24_logs/test/n80-s2_dd_dlg_visitsome_L4_H64_max_p10.log\n",
      "aaai24_logs/test/p-l35-c35-s5_dd_llg_ferry_L4_H64_max_p10.log\n",
      "aaai24_logs/test/n95-s4_dd_slg_visitsome_L4_H64_max_p10.log\n",
      "aaai24_logs/test/n-puzzle-7x7-s2_dd_slg_n-puzzle_L4_H64_max_p10.log\n",
      "aaai24_logs/test/blocks50-task03_dd_llg_blocks_L4_H64_max_p10.log\n",
      "aaai24_logs/test/p-l45-c45-s4_dd_llg_ferry_L4_H64_max_p10.log\n",
      "aaai24_logs/test/blocks50-task03_dd_llg_blocks_L4_H64_mean_p10.log\n",
      "aaai24_logs/test/blocks15-task04_dd_dlg_blocks_L4_H64_max_p10.log\n",
      "aaai24_logs/test/n25-s1_dd_dlg_visitsome_L4_H64_max_p10.log\n",
      "aaai24_logs/test/n55-s2_dd_llg_visitsome_L4_H64_mean_p10.log\n",
      "aaai24_logs/test/p-l35-c35-s4_dd_dlg_ferry_L4_H64_max_p10.log\n",
      "aaai24_logs/test/p-s65-n65-l43-seed1_dd_llg_spanner_L4_H64_max_p10.log\n",
      "aaai24_logs/test/p-n11-b2-w4-s1_dd_slg_sokoban_L4_H64_max_p10.log\n",
      "aaai24_logs/test/p-n9-b2-w3-s2_dd_dlg_sokoban_L4_H64_max_p10.log\n",
      "aaai24_logs/test/p-l35-c35-s5_dd_dlg_ferry_L4_H64_max_p10.log\n",
      "aaai24_logs/test/blocks40-task04_dd_llg_blocks_L4_H64_max_p10.log\n",
      "aaai24_logs/test/p-n12-b2-w5-s1_dd_slg_sokoban_L4_H64_max_p10.log\n",
      "aaai24_logs/test/p-n9-b3-w3-s0_dd_llg_sokoban_L4_H64_max_p10.log\n",
      "aaai24_logs/test/n40-s0_dd_slg_visitsome_L4_H64_max_p10.log\n",
      "aaai24_logs/test/p-n12-b3-w3-s0_dd_slg_sokoban_L4_H64_max_p10.log\n",
      "aaai24_logs/test/blocks80-task04_dd_llg_blocks_L4_H64_mean_p10.log\n",
      "aaai24_logs/test/p-n9-b2-w5-s1_dd_llg_sokoban_L4_H64_max_p10.log\n",
      "aaai24_logs/test/n65-s3_dd_llg_visitall_L4_H64_max_p10.log\n",
      "aaai24_logs/test/n20-s0_dd_llg_visitsome_L4_H64_max_p10.log\n",
      "aaai24_logs/test/p-l45-c45-s5_dd_llg_ferry_L4_H64_max_p10.log\n",
      "aaai24_logs/test/p-s30-n30-l20-seed2_dd_llg_spanner_L4_H64_max_p10.log\n",
      "aaai24_logs/test/p-n11-b3-w3-s1_dd_llg_sokoban_L4_H64_mean_p10.log\n",
      "aaai24_logs/test/n-puzzle-5x5-s7_dd_slg_n-puzzle_L4_H64_max_p10.log\n",
      "aaai24_logs/test/p-l35-c35-s4_dd_llg_ferry_L4_H64_max_p10.log\n",
      "aaai24_logs/test/p-l60-c60-s4_dd_slg_ferry_L4_H64_max_p10.log\n",
      "aaai24_logs/test/p-n8-b2-w3-s0_dd_llg_sokoban_L4_H64_mean_p10.log\n",
      "aaai24_logs/test/p-n10-b2-w5-s0_dd_dlg_sokoban_L4_H64_max_p10.log\n",
      "aaai24_logs/test/p-s70-n70-l46-seed5_dd_llg_spanner_L4_H64_max_p10.log\n",
      "aaai24_logs/test/p-s60-n60-l40-seed3_dd_llg_spanner_L4_H64_max_p10.log\n",
      "aaai24_logs/test/n60-s0_dd_llg_visitall_L4_H64_max_p10.log\n",
      "aaai24_logs/test/gripper-n80_dd_llg_gripper_L4_H64_mean_p10.log\n",
      "aaai24_logs/test/p-n10-b3-w3-s1_dd_dlg_sokoban_L4_H64_max_p10.log\n",
      "aaai24_logs/test/n75-s0_dd_dlg_visitsome_L4_H64_max_p10.log\n",
      "aaai24_logs/test/p-n8-b3-w4-s2_dd_slg_sokoban_L4_H64_max_p10.log\n",
      "aaai24_logs/test/p-l45-c45-s4_dd_dlg_ferry_L4_H64_max_p10.log\n",
      "aaai24_logs/test/n25-s2_dd_llg_visitall_L4_H64_mean_p10.log\n",
      "aaai24_logs/test/p-s20-n20-l13-seed4_dd_slg_spanner_L4_H64_max_p10.log\n",
      "aaai24_logs/test/n-puzzle-5x5-s1_dd_llg_n-puzzle_L4_H64_mean_p10.log\n",
      "aaai24_logs/test/blocks20-task01_dd_llg_blocks_L4_H64_max_p10.log\n",
      "aaai24_logs/test/p-n11-b2-w3-s0_dd_llg_sokoban_L4_H64_max_p10.log\n",
      "aaai24_logs/test/p-s65-n65-l43-seed4_dd_llg_spanner_L4_H64_max_p10.log\n",
      "aaai24_logs/test/p-l25-c25-s5_dd_dlg_ferry_L4_H64_max_p10.log\n",
      "aaai24_logs/test/p-l55-c55-s3_dd_llg_ferry_L4_H64_mean_p10.log\n",
      "aaai24_logs/test/p-s25-n25-l16-seed2_dd_llg_spanner_L4_H64_max_p10.log\n",
      "aaai24_logs/test/n50-s1_dd_slg_visitsome_L4_H64_max_p10.log\n",
      "aaai24_logs/test/p-l75-c75-s5_dd_llg_ferry_L4_H64_mean_p10.log\n",
      "aaai24_logs/test/p-s80-n80-l53-seed5_dd_llg_spanner_L4_H64_max_p10.log\n",
      "aaai24_logs/test/p-s40-n40-l26-seed2_dd_llg_spanner_L4_H64_max_p10.log\n",
      "aaai24_logs/test/n45-s1_dd_slg_visitall_L4_H64_max_p10.log\n",
      "aaai24_logs/test/p-n11-b3-w5-s1_dd_llg_sokoban_L4_H64_max_p10.log\n",
      "aaai24_logs/test/p-s35-n35-l23-seed5_dd_llg_spanner_L4_H64_max_p10.log\n",
      "aaai24_logs/test/p-l55-c55-s5_dd_llg_ferry_L4_H64_max_p10.log\n",
      "aaai24_logs/test/n50-s1_dd_llg_visitall_L4_H64_max_p10.log\n",
      "aaai24_logs/test/n30-s1_dd_llg_visitsome_L4_H64_max_p10.log\n",
      "aaai24_logs/test/p-n12-b3-w4-s0_dd_llg_sokoban_L4_H64_mean_p10.log\n",
      "aaai24_logs/test/p-l25-c25-s4_dd_llg_ferry_L4_H64_max_p10.log\n",
      "aaai24_logs/test/p-n8-b3-w5-s0_dd_dlg_sokoban_L4_H64_max_p10.log\n",
      "aaai24_logs/test/n55-s4_dd_dlg_visitall_L4_H64_max_p10.log\n",
      "aaai24_logs/test/n-puzzle-6x6-s7_dd_dlg_n-puzzle_L4_H64_max_p10.log\n",
      "aaai24_logs/test/n40-s2_dd_slg_visitall_L4_H64_max_p10.log\n",
      "aaai24_logs/test/n35-s3_dd_llg_visitall_L4_H64_mean_p10.log\n",
      "aaai24_logs/test/n65-s1_dd_dlg_visitsome_L4_H64_max_p10.log\n",
      "aaai24_logs/test/n55-s2_dd_llg_visitall_L4_H64_max_p10.log\n",
      "aaai24_logs/test/p-n10-b2-w4-s2_dd_slg_sokoban_L4_H64_max_p10.log\n",
      "aaai24_logs/test/p-n8-b2-w3-s1_dd_dlg_sokoban_L4_H64_max_p10.log\n",
      "aaai24_logs/test/blocks35-task03_dd_llg_blocks_L4_H64_mean_p10.log\n",
      "aaai24_logs/test/p-l15-c15-s5_dd_dlg_ferry_L4_H64_max_p10.log\n",
      "aaai24_logs/test/p-s15-n15-l10-seed4_dd_llg_spanner_L4_H64_max_p10.log\n",
      "aaai24_logs/test/p-l25-c25-s3_dd_llg_ferry_L4_H64_mean_p10.log\n",
      "aaai24_logs/test/p-n9-b2-w5-s2_dd_llg_sokoban_L4_H64_max_p10.log\n",
      "aaai24_logs/test/p-s30-n30-l20-seed4_dd_llg_spanner_L4_H64_mean_p10.log\n",
      "aaai24_logs/test/n30-s3_dd_llg_visitall_L4_H64_max_p10.log\n",
      "aaai24_logs/test/n60-s2_dd_slg_visitsome_L4_H64_max_p10.log\n",
      "aaai24_logs/test/n25-s3_dd_slg_visitall_L4_H64_max_p10.log\n",
      "aaai24_logs/test/n40-s4_dd_slg_visitsome_L4_H64_max_p10.log\n",
      "aaai24_logs/test/p-n12-b2-w5-s2_dd_slg_sokoban_L4_H64_max_p10.log\n",
      "aaai24_logs/test/p-n10-b2-w5-s0_dd_llg_sokoban_L4_H64_mean_p10.log\n",
      "aaai24_logs/test/p-l30-c30-s5_dd_slg_ferry_L4_H64_max_p10.log\n",
      "aaai24_logs/test/blocks65-task04_dd_llg_blocks_L4_H64_mean_p10.log\n",
      "aaai24_logs/test/p-l90-c90-s5_dd_llg_ferry_L4_H64_mean_p10.log\n",
      "aaai24_logs/test/p-n9-b3-w5-s1_dd_llg_sokoban_L4_H64_mean_p10.log\n",
      "aaai24_logs/test/n20-s4_dd_llg_visitsome_L4_H64_max_p10.log\n",
      "aaai24_logs/test/p-s65-n65-l43-seed1_dd_llg_spanner_L4_H64_mean_p10.log\n",
      "aaai24_logs/test/p-l65-c65-s5_dd_llg_ferry_L4_H64_max_p10.log\n",
      "aaai24_logs/test/n-puzzle-6x6-s8_dd_slg_n-puzzle_L4_H64_max_p10.log\n",
      "aaai24_logs/test/p-l15-c15-s4_dd_llg_ferry_L4_H64_max_p10.log\n",
      "aaai24_logs/test/p-s35-n35-l23-seed1_dd_llg_spanner_L4_H64_mean_p10.log\n",
      "aaai24_logs/test/n35-s0_dd_llg_visitall_L4_H64_max_p10.log\n",
      "aaai24_logs/test/n20-s0_dd_slg_visitall_L4_H64_max_p10.log\n",
      "aaai24_logs/test/p-n8-b3-w4-s2_dd_llg_sokoban_L4_H64_mean_p10.log\n",
      "aaai24_logs/test/p-l40-c40-s4_dd_slg_ferry_L4_H64_max_p10.log\n",
      "aaai24_logs/test/p-n10-b3-w3-s2_dd_dlg_sokoban_L4_H64_max_p10.log\n",
      "aaai24_logs/test/p-n8-b3-w4-s1_dd_slg_sokoban_L4_H64_max_p10.log\n",
      "aaai24_logs/test/gripper-n100_dd_llg_gripper_L4_H64_mean_p10.log\n",
      "aaai24_logs/test/blocks15-task04_dd_llg_blocks_L4_H64_max_p10.log\n",
      "aaai24_logs/test/p-s30-n30-l20-seed1_dd_llg_spanner_L4_H64_max_p10.log\n",
      "aaai24_logs/test/n-puzzle-5x5-s5_dd_llg_n-puzzle_L4_H64_mean_p10.log\n",
      "aaai24_logs/test/n75-s4_dd_dlg_visitsome_L4_H64_max_p10.log\n",
      "aaai24_logs/test/p-s60-n60-l40-seed4_dd_llg_spanner_L4_H64_mean_p10.log\n",
      "aaai24_logs/test/n55-s2_dd_dlg_visitsome_L4_H64_max_p10.log\n",
      "aaai24_logs/test/p-n11-b3-w5-s2_dd_llg_sokoban_L4_H64_max_p10.log\n",
      "aaai24_logs/test/p-n12-b2-w4-s0_dd_dlg_sokoban_L4_H64_max_p10.log\n",
      "aaai24_logs/test/blocks50-task05_dd_llg_blocks_L4_H64_mean_p10.log\n",
      "aaai24_logs/test/p-s40-n40-l26-seed1_dd_llg_spanner_L4_H64_max_p10.log\n",
      "aaai24_logs/test/n70-s3_dd_slg_visitsome_L4_H64_max_p10.log\n",
      "aaai24_logs/test/blocks55-task02_dd_llg_blocks_L4_H64_max_p10.log\n",
      "aaai24_logs/test/n-puzzle-5x5-s8_dd_dlg_n-puzzle_L4_H64_max_p10.log\n",
      "aaai24_logs/test/p-l20-c20-s5_dd_slg_ferry_L4_H64_max_p10.log\n",
      "aaai24_logs/test/p-n12-b2-w3-s2_dd_llg_sokoban_L4_H64_mean_p10.log\n",
      "aaai24_logs/test/p-l75-c75-s5_dd_llg_ferry_L4_H64_max_p10.log\n",
      "aaai24_logs/test/p-s25-n25-l16-seed1_dd_llg_spanner_L4_H64_max_p10.log\n",
      "aaai24_logs/test/n15-s2_dd_slg_visitall_L4_H64_max_p10.log\n",
      "aaai24_logs/test/p-n10-b2-w4-s1_dd_slg_sokoban_L4_H64_max_p10.log\n",
      "aaai24_logs/test/p-n8-b2-w3-s2_dd_dlg_sokoban_L4_H64_max_p10.log\n",
      "aaai24_logs/test/p-l50-c50-s4_dd_slg_ferry_L4_H64_max_p10.log\n",
      "aaai24_logs/test/n-puzzle-7x7-s5_dd_slg_n-puzzle_L4_H64_max_p10.log\n",
      "aaai24_logs/test/n15-s1_dd_llg_visitall_L4_H64_mean_p10.log\n",
      "aaai24_logs/test/n45-s3_dd_dlg_visitsome_L4_H64_max_p10.log\n",
      "aaai24_logs/test/blocks25-task04_dd_dlg_blocks_L4_H64_max_p10.log\n",
      "aaai24_logs/test/p-n9-b2-w4-s0_dd_llg_sokoban_L4_H64_mean_p10.log\n",
      "aaai24_logs/test/p-l85-c85-s5_dd_llg_ferry_L4_H64_max_p10.log\n",
      "aaai24_logs/test/n65-s2_dd_llg_visitsome_L4_H64_mean_p10.log\n",
      "aaai24_logs/test/n50-s3_dd_dlg_visitsome_L4_H64_max_p10.log\n",
      "aaai24_logs/test/blocks20-task05_dd_llg_blocks_L4_H64_mean_p10.log\n",
      "aaai24_logs/test/p-n10-b3-w4-s1_dd_llg_sokoban_L4_H64_mean_p10.log\n",
      "aaai24_logs/test/p-s20-n20-l13-seed3_dd_dlg_spanner_L4_H64_max_p10.log\n",
      "aaai24_logs/test/gripper-n50_dd_llg_gripper_L4_H64_max_p10.log\n",
      "aaai24_logs/test/p-n10-b3-w4-s2_dd_llg_sokoban_L4_H64_max_p10.log\n",
      "aaai24_logs/test/p-n11-b3-w3-s0_dd_slg_sokoban_L4_H64_max_p10.log\n",
      "aaai24_logs/test/n15-s4_dd_dlg_visitall_L4_H64_max_p10.log\n",
      "aaai24_logs/test/n90-s4_dd_llg_visitsome_L4_H64_mean_p10.log\n",
      "aaai24_logs/test/p-n11-b2-w5-s1_dd_slg_sokoban_L4_H64_max_p10.log\n",
      "aaai24_logs/test/n55-s3_dd_llg_visitsome_L4_H64_mean_p10.log\n",
      "aaai24_logs/test/n-puzzle-7x7-s3_dd_dlg_n-puzzle_L4_H64_max_p10.log\n",
      "aaai24_logs/test/p-n11-b3-w5-s2_dd_llg_sokoban_L4_H64_mean_p10.log\n",
      "aaai24_logs/test/n65-s3_dd_slg_visitsome_L4_H64_max_p10.log\n",
      "aaai24_logs/test/n15-s2_dd_llg_visitall_L4_H64_max_p10.log\n",
      "aaai24_logs/test/n35-s1_dd_llg_visitsome_L4_H64_mean_p10.log\n",
      "aaai24_logs/test/p-l95-c95-s5_dd_llg_ferry_L4_H64_max_p10.log\n",
      "aaai24_logs/test/n70-s4_dd_llg_visitsome_L4_H64_mean_p10.log\n",
      "aaai24_logs/test/p-s55-n55-l36-seed2_dd_llg_spanner_L4_H64_mean_p10.log\n",
      "aaai24_logs/test/p-s40-n40-l26-seed5_dd_llg_spanner_L4_H64_mean_p10.log\n",
      "aaai24_logs/test/n40-s2_dd_dlg_visitsome_L4_H64_max_p10.log\n",
      "aaai24_logs/test/n60-s4_dd_dlg_visitsome_L4_H64_max_p10.log\n",
      "aaai24_logs/test/n25-s3_dd_llg_visitall_L4_H64_max_p10.log\n",
      "aaai24_logs/test/blocks15-task04_dd_llg_blocks_L4_H64_mean_p10.log\n",
      "aaai24_logs/test/p-n8-b2-w4-s2_dd_llg_sokoban_L4_H64_max_p10.log\n",
      "aaai24_logs/test/n30-s3_dd_slg_visitall_L4_H64_max_p10.log\n",
      "aaai24_logs/test/blocks20-task05_dd_llg_blocks_L4_H64_max_p10.log\n",
      "aaai24_logs/test/p-s50-n50-l33-seed4_dd_llg_spanner_L4_H64_max_p10.log\n",
      "aaai24_logs/test/p-n9-b2-w3-s0_dd_slg_sokoban_L4_H64_max_p10.log\n",
      "aaai24_logs/test/p-n12-b3-w5-s1_dd_llg_sokoban_L4_H64_max_p10.log\n",
      "aaai24_logs/test/n15-s2_dd_llg_visitsome_L4_H64_max_p10.log\n",
      "aaai24_logs/test/p-l45-c45-s4_dd_llg_ferry_L4_H64_mean_p10.log\n",
      "aaai24_logs/test/n35-s4_dd_llg_visitsome_L4_H64_max_p10.log\n",
      "aaai24_logs/test/p-l75-c75-s1_dd_llg_ferry_L4_H64_mean_p10.log\n",
      "aaai24_logs/test/p-l65-c65-s2_dd_llg_ferry_L4_H64_mean_p10.log\n",
      "aaai24_logs/test/p-n9-b3-w5-s1_dd_slg_sokoban_L4_H64_max_p10.log\n",
      "aaai24_logs/test/p-n12-b2-w3-s0_dd_llg_sokoban_L4_H64_max_p10.log\n",
      "aaai24_logs/test/n20-s0_dd_llg_visitall_L4_H64_max_p10.log\n",
      "aaai24_logs/test/blocks70-task01_dd_llg_blocks_L4_H64_mean_p10.log\n",
      "aaai24_logs/test/n85-s2_dd_llg_visitsome_L4_H64_mean_p10.log\n",
      "aaai24_logs/test/n55-s4_dd_slg_visitsome_L4_H64_max_p10.log\n",
      "aaai24_logs/test/n35-s0_dd_slg_visitall_L4_H64_max_p10.log\n",
      "aaai24_logs/test/n75-s2_dd_slg_visitsome_L4_H64_max_p10.log\n",
      "aaai24_logs/test/p-n9-b3-w3-s2_dd_llg_sokoban_L4_H64_mean_p10.log\n",
      "aaai24_logs/test/n80-s1_dd_llg_visitsome_L4_H64_mean_p10.log\n",
      "aaai24_logs/test/n50-s1_dd_slg_visitall_L4_H64_max_p10.log\n",
      "aaai24_logs/test/p-n10-b3-w4-s1_dd_llg_sokoban_L4_H64_max_p10.log\n",
      "aaai24_logs/test/n70-s1_dd_dlg_visitsome_L4_H64_max_p10.log\n",
      "aaai24_logs/test/n20-s3_dd_llg_visitall_L4_H64_mean_p10.log\n",
      "aaai24_logs/test/n45-s1_dd_llg_visitall_L4_H64_max_p10.log\n",
      "aaai24_logs/test/gripper-n15_dd_slg_gripper_L4_H64_max_p10.log\n",
      "aaai24_logs/test/n55-s2_dd_slg_visitall_L4_H64_max_p10.log\n",
      "aaai24_logs/test/p-n11-b2-w5-s2_dd_slg_sokoban_L4_H64_max_p10.log\n",
      "aaai24_logs/test/p-l35-c35-s4_dd_llg_ferry_L4_H64_mean_p10.log\n",
      "aaai24_logs/test/p-l15-c15-s2_dd_llg_ferry_L4_H64_mean_p10.log\n",
      "aaai24_logs/test/blocks35-task03_dd_llg_blocks_L4_H64_max_p10.log\n",
      "aaai24_logs/test/n25-s1_dd_llg_visitsome_L4_H64_max_p10.log\n",
      "aaai24_logs/test/n40-s2_dd_llg_visitall_L4_H64_max_p10.log\n",
      "aaai24_logs/test/n30-s2_dd_llg_visitsome_L4_H64_mean_p10.log\n",
      "aaai24_logs/test/p-l90-c90-s1_dd_llg_ferry_L4_H64_mean_p10.log\n",
      "aaai24_logs/test/blocks45-task03_dd_llg_blocks_L4_H64_mean_p10.log\n",
      "aaai24_logs/test/p-n9-b3-w4-s0_dd_dlg_sokoban_L4_H64_max_p10.log\n",
      "aaai24_logs/test/p-l80-c80-s2_dd_llg_ferry_L4_H64_mean_p10.log\n",
      "aaai24_logs/test/n45-s1_dd_slg_visitsome_L4_H64_max_p10.log\n",
      "aaai24_logs/test/n-puzzle-6x6-s1_dd_slg_n-puzzle_L4_H64_max_p10.log\n",
      "aaai24_logs/test/n40-s4_dd_dlg_visitall_L4_H64_max_p10.log\n",
      "aaai24_logs/test/gripper-n25_dd_llg_gripper_L4_H64_max_p10.log\n",
      "aaai24_logs/test/p-s15-n15-l10-seed2_dd_llg_spanner_L4_H64_mean_p10.log\n",
      "aaai24_logs/test/p-n12-b2-w5-s1_dd_llg_sokoban_L4_H64_mean_p10.log\n",
      "aaai24_logs/test/n30-s2_dd_llg_visitall_L4_H64_mean_p10.log\n",
      "aaai24_logs/test/n50-s0_dd_llg_visitsome_L4_H64_mean_p10.log\n",
      "aaai24_logs/test/blocks30-task02_dd_dlg_blocks_L4_H64_max_p10.log\n",
      "aaai24_logs/test/n60-s0_dd_dlg_visitsome_L4_H64_max_p10.log\n",
      "aaai24_logs/test/n65-s3_dd_slg_visitall_L4_H64_max_p10.log\n",
      "aaai24_logs/test/p-n8-b2-w4-s1_dd_llg_sokoban_L4_H64_max_p10.log\n",
      "aaai24_logs/test/gripper-n75_dd_dlg_gripper_L4_H64_max_p10.log\n",
      "aaai24_logs/test/blocks70-task02_dd_llg_blocks_L4_H64_mean_p10.log\n",
      "aaai24_logs/test/p-n9-b3-w5-s2_dd_slg_sokoban_L4_H64_max_p10.log\n",
      "aaai24_logs/test/n-puzzle-5x5-s1_dd_dlg_n-puzzle_L4_H64_max_p10.log\n",
      "aaai24_logs/test/n60-s0_dd_slg_visitall_L4_H64_max_p10.log\n",
      "aaai24_logs/test/p-s50-n50-l33-seed4_dd_llg_spanner_L4_H64_mean_p10.log\n",
      "aaai24_logs/test/blocks25-task02_dd_slg_blocks_L4_H64_max_p10.log\n",
      "aaai24_logs/test/n35-s0_dd_llg_visitsome_L4_H64_max_p10.log\n",
      "aaai24_logs/test/p-n11-b2-w4-s0_dd_dlg_sokoban_L4_H64_max_p10.log\n",
      "aaai24_logs/test/n25-s4_dd_llg_visitsome_L4_H64_mean_p10.log\n",
      "aaai24_logs/test/n60-s1_dd_llg_visitsome_L4_H64_mean_p10.log\n",
      "aaai24_logs/test/p-n12-b3-w5-s2_dd_llg_sokoban_L4_H64_max_p10.log\n",
      "aaai24_logs/test/n55-s0_dd_slg_visitsome_L4_H64_max_p10.log\n",
      "aaai24_logs/test/n-puzzle-5x5-s7_dd_llg_n-puzzle_L4_H64_max_p10.log\n",
      "aaai24_logs/test/blocks45-task01_dd_llg_blocks_L4_H64_max_p10.log\n",
      "aaai24_logs/test/n30-s1_dd_dlg_visitsome_L4_H64_max_p10.log\n",
      "aaai24_logs/test/n60-s3_dd_llg_visitall_L4_H64_mean_p10.log\n",
      "aaai24_logs/test/gripper-n20_dd_llg_gripper_L4_H64_max_p10.log\n",
      "aaai24_logs/test/n80-s0_dd_dlg_visitall_L4_H64_max_p10.log\n",
      "aaai24_logs/test/p-n11-b3-w4-s2_dd_llg_sokoban_L4_H64_max_p10.log\n",
      "aaai24_logs/test/p-n12-b2-w5-s0_dd_dlg_sokoban_L4_H64_max_p10.log\n",
      "aaai24_logs/test/p-n9-b2-w5-s0_dd_llg_sokoban_L4_H64_mean_p10.log\n",
      "aaai24_logs/test/n80-s4_dd_slg_visitsome_L4_H64_max_p10.log\n",
      "aaai24_logs/test/p-n12-b3-w3-s1_dd_dlg_sokoban_L4_H64_max_p10.log\n",
      "aaai24_logs/test/p-n10-b3-w5-s1_dd_llg_sokoban_L4_H64_mean_p10.log\n",
      "aaai24_logs/test/n-puzzle-5x5-s9_dd_slg_n-puzzle_L4_H64_max_p10.log\n",
      "aaai24_logs/test/gripper-n15_dd_dlg_gripper_L4_H64_mean_p10.log\n",
      "aaai24_logs/test/blocks20-task05_dd_dlg_blocks_L4_H64_max_p10.log\n",
      "aaai24_logs/test/p-l40-c40-s4_dd_llg_ferry_L4_H64_mean_p10.log\n",
      "aaai24_logs/test/n95-s2_dd_dlg_visitsome_L4_H64_max_p10.log\n",
      "aaai24_logs/test/n-puzzle-7x7-s4_dd_dlg_n-puzzle_L4_H64_max_p10.log\n",
      "aaai24_logs/test/blocks20-task03_dd_llg_blocks_L4_H64_mean_p10.log\n",
      "aaai24_logs/test/p-l70-c70-s1_dd_llg_ferry_L4_H64_mean_p10.log\n",
      "aaai24_logs/test/p-n10-b2-w5-s1_dd_slg_sokoban_L4_H64_max_p10.log\n",
      "aaai24_logs/test/p-l60-c60-s2_dd_llg_ferry_L4_H64_mean_p10.log\n",
      "aaai24_logs/test/p-n11-b3-w4-s2_dd_llg_sokoban_L4_H64_mean_p10.log\n",
      "aaai24_logs/test/p-s20-n20-l13-seed5_dd_dlg_spanner_L4_H64_max_p10.log\n",
      "aaai24_logs/test/p-n10-b3-w3-s0_dd_slg_sokoban_L4_H64_max_p10.log\n",
      "aaai24_logs/test/n15-s3_dd_dlg_visitall_L4_H64_max_p10.log\n",
      "aaai24_logs/test/blocks25-task04_dd_llg_blocks_L4_H64_max_p10.log\n",
      "aaai24_logs/test/n30-s4_dd_slg_visitall_L4_H64_max_p10.log\n",
      "aaai24_logs/test/n50-s4_dd_llg_visitall_L4_H64_mean_p10.log\n",
      "aaai24_logs/test/n20-s0_dd_dlg_visitsome_L4_H64_max_p10.log\n",
      "aaai24_logs/test/p-n9-b2-w4-s2_dd_llg_sokoban_L4_H64_max_p10.log\n",
      "aaai24_logs/test/p-s50-n50-l33-seed2_dd_llg_spanner_L4_H64_max_p10.log\n",
      "aaai24_logs/test/n25-s4_dd_llg_visitall_L4_H64_max_p10.log\n",
      "aaai24_logs/test/n-puzzle-6x6-s9_dd_dlg_n-puzzle_L4_H64_max_p10.log\n",
      "aaai24_logs/test/p-s40-n40-l26-seed2_dd_llg_spanner_L4_H64_mean_p10.log\n",
      "aaai24_logs/test/gripper-n25_dd_llg_gripper_L4_H64_mean_p10.log\n",
      "aaai24_logs/test/p-s55-n55-l36-seed5_dd_llg_spanner_L4_H64_mean_p10.log\n",
      "aaai24_logs/test/n25-s2_dd_dlg_visitall_L4_H64_max_p10.log\n",
      "aaai24_logs/test/p-n12-b2-w4-s2_dd_slg_sokoban_L4_H64_max_p10.log\n",
      "aaai24_logs/test/p-n8-b3-w5-s1_dd_slg_sokoban_L4_H64_max_p10.log\n",
      "aaai24_logs/test/gripper-n70_dd_dlg_gripper_L4_H64_max_p10.log\n",
      "aaai24_logs/test/n85-s3_dd_dlg_visitsome_L4_H64_max_p10.log\n",
      "aaai24_logs/test/blocks15-task02_dd_llg_blocks_L4_H64_mean_p10.log\n",
      "aaai24_logs/test/n15-s0_dd_slg_visitsome_L4_H64_max_p10.log\n",
      "aaai24_logs/test/p-n8-b2-w3-s0_dd_slg_sokoban_L4_H64_max_p10.log\n",
      "aaai24_logs/test/n20-s1_dd_dlg_visitall_L4_H64_max_p10.log\n",
      "aaai24_logs/test/n40-s1_dd_llg_visitall_L4_H64_mean_p10.log\n",
      "aaai24_logs/test/n45-s0_dd_dlg_visitall_L4_H64_max_p10.log\n",
      "aaai24_logs/test/blocks30-task02_dd_llg_blocks_L4_H64_max_p10.log\n",
      "aaai24_logs/test/p-n12-b3-w3-s2_dd_dlg_sokoban_L4_H64_max_p10.log\n",
      "aaai24_logs/test/n80-s0_dd_slg_visitsome_L4_H64_max_p10.log\n",
      "aaai24_logs/test/p-n11-b3-w4-s1_dd_llg_sokoban_L4_H64_max_p10.log\n",
      "aaai24_logs/test/blocks45-task05_dd_llg_blocks_L4_H64_mean_p10.log\n",
      "aaai24_logs/test/gripper-n55_dd_dlg_gripper_L4_H64_mean_p10.log\n",
      "aaai24_logs/test/n-puzzle-6x6-s6_dd_slg_n-puzzle_L4_H64_max_p10.log\n",
      "aaai24_logs/test/p-s15-n15-l10-seed5_dd_llg_spanner_L4_H64_mean_p10.log\n",
      "aaai24_logs/test/p-n8-b3-w3-s1_dd_llg_sokoban_L4_H64_mean_p10.log\n",
      "aaai24_logs/test/p-n8-b3-w4-s0_dd_dlg_sokoban_L4_H64_max_p10.log\n",
      "aaai24_logs/test/gripper-n55_dd_llg_gripper_L4_H64_max_p10.log\n",
      "aaai24_logs/test/n40-s3_dd_dlg_visitall_L4_H64_max_p10.log\n",
      "aaai24_logs/test/p-n11-b2-w3-s0_dd_llg_sokoban_L4_H64_mean_p10.log\n",
      "aaai24_logs/test/p-n10-b2-w5-s2_dd_slg_sokoban_L4_H64_max_p10.log\n",
      "aaai24_logs/test/n25-s3_dd_slg_visitsome_L4_H64_max_p10.log\n",
      "aaai24_logs/test/p-l95-c95-s4_dd_llg_ferry_L4_H64_max_p10.log\n",
      "aaai24_logs/test/n50-s0_dd_llg_visitall_L4_H64_mean_p10.log\n",
      "aaai24_logs/test/n20-s4_dd_dlg_visitsome_L4_H64_max_p10.log\n",
      "aaai24_logs/test/p-n12-b2-w4-s1_dd_slg_sokoban_L4_H64_max_p10.log\n",
      "aaai24_logs/test/n70-s2_dd_dlg_visitall_L4_H64_max_p10.log\n",
      "aaai24_logs/test/blocks70-task04_dd_llg_blocks_L4_H64_mean_p10.log\n",
      "aaai24_logs/test/blocks20-task03_dd_slg_blocks_L4_H64_max_p10.log\n",
      "aaai24_logs/test/p-n12-b2-w4-s1_dd_llg_sokoban_L4_H64_mean_p10.log\n",
      "aaai24_logs/test/gripper-n65_dd_llg_gripper_L4_H64_mean_p10.log\n",
      "aaai24_logs/test/n90-s1_dd_slg_visitsome_L4_H64_max_p10.log\n",
      "aaai24_logs/test/p-n9-b2-w4-s1_dd_llg_sokoban_L4_H64_max_p10.log\n",
      "aaai24_logs/test/p-s50-n50-l33-seed1_dd_llg_spanner_L4_H64_max_p10.log\n",
      "aaai24_logs/test/p-n10-b2-w4-s0_dd_dlg_sokoban_L4_H64_max_p10.log\n",
      "aaai24_logs/test/n-puzzle-5x5-s0_dd_llg_n-puzzle_L4_H64_max_p10.log\n",
      "aaai24_logs/test/blocks15-task01_dd_llg_blocks_L4_H64_mean_p10.log\n",
      "aaai24_logs/test/n75-s1_dd_dlg_visitall_L4_H64_max_p10.log\n",
      "aaai24_logs/test/p-l30-c30-s4_dd_llg_ferry_L4_H64_mean_p10.log\n",
      "aaai24_logs/test/n100-s3_dd_slg_visitsome_L4_H64_max_p10.log\n",
      "aaai24_logs/test/blocks35-task03_dd_dlg_blocks_L4_H64_max_p10.log\n",
      "aaai24_logs/test/n15-s4_dd_slg_visitsome_L4_H64_max_p10.log\n",
      "aaai24_logs/test/p-s50-n50-l33-seed3_dd_llg_spanner_L4_H64_mean_p10.log\n",
      "aaai24_logs/test/p-n8-b3-w5-s2_dd_slg_sokoban_L4_H64_max_p10.log\n",
      "aaai24_logs/test/n-puzzle-5x5-s6_dd_dlg_n-puzzle_L4_H64_max_p10.log\n",
      "aaai24_logs/test/p-l85-c85-s4_dd_llg_ferry_L4_H64_max_p10.log\n",
      "aaai24_logs/test/n35-s2_dd_slg_visitsome_L4_H64_max_p10.log\n",
      "aaai24_logs/test/p-l85-c85-s2_dd_llg_ferry_L4_H64_mean_p10.log\n",
      "aaai24_logs/test/n15-s3_dd_llg_visitsome_L4_H64_max_p10.log\n",
      "aaai24_logs/test/p-l20-c20-s2_dd_slg_ferry_L4_H64_max_p10.log\n",
      "aaai24_logs/test/p-n11-b2-w3-s0_dd_slg_sokoban_L4_H64_max_p10.log\n",
      "aaai24_logs/test/p-l75-c75-s2_dd_llg_ferry_L4_H64_max_p10.log\n",
      "aaai24_logs/test/blocks15-task01_dd_llg_blocks_L4_H64_max_p10.log\n",
      "aaai24_logs/test/n75-s3_dd_slg_visitsome_L4_H64_max_p10.log\n",
      "aaai24_logs/test/n55-s1_dd_llg_visitall_L4_H64_max_p10.log\n",
      "aaai24_logs/test/n40-s1_dd_slg_visitall_L4_H64_max_p10.log\n",
      "aaai24_logs/test/n-puzzle-6x6-s4_dd_dlg_n-puzzle_L4_H64_max_p10.log\n",
      "aaai24_logs/test/p-n11-b3-w5-s1_dd_slg_sokoban_L4_H64_max_p10.log\n",
      "aaai24_logs/test/n40-s3_dd_dlg_visitsome_L4_H64_max_p10.log\n",
      "aaai24_logs/test/n50-s4_dd_dlg_visitall_L4_H64_max_p10.log\n",
      "aaai24_logs/test/p-l35-c35-s5_dd_llg_ferry_L4_H64_mean_p10.log\n",
      "aaai24_logs/test/p-l15-c15-s3_dd_llg_ferry_L4_H64_mean_p10.log\n",
      "aaai24_logs/test/p-s25-n25-l16-seed5_dd_llg_spanner_L4_H64_mean_p10.log\n",
      "aaai24_logs/test/blocks35-task02_dd_llg_blocks_L4_H64_max_p10.log\n",
      "aaai24_logs/test/blocks25-task03_dd_llg_blocks_L4_H64_mean_p10.log\n",
      "aaai24_logs/test/p-n10-b2-w4-s2_dd_llg_sokoban_L4_H64_max_p10.log\n",
      "aaai24_logs/test/p-l80-c80-s3_dd_llg_ferry_L4_H64_mean_p10.log\n",
      "aaai24_logs/test/n50-s2_dd_llg_visitall_L4_H64_max_p10.log\n",
      "aaai24_logs/test/n45-s2_dd_slg_visitall_L4_H64_max_p10.log\n",
      "aaai24_logs/test/p-l50-c50-s3_dd_slg_ferry_L4_H64_max_p10.log\n",
      "aaai24_logs/test/p-l30-c30-s2_dd_slg_ferry_L4_H64_max_p10.log\n",
      "aaai24_logs/test/p-s45-n45-l30-seed4_dd_llg_spanner_L4_H64_mean_p10.log\n",
      "aaai24_logs/test/n25-s4_dd_llg_visitsome_L4_H64_max_p10.log\n",
      "aaai24_logs/test/n-puzzle-5x5-s4_dd_slg_n-puzzle_L4_H64_max_p10.log\n",
      "aaai24_logs/test/p-n11-b3-w3-s2_dd_llg_sokoban_L4_H64_mean_p10.log\n",
      "aaai24_logs/test/p-n9-b3-w3-s0_dd_slg_sokoban_L4_H64_max_p10.log\n",
      "aaai24_logs/test/p-l65-c65-s2_dd_llg_ferry_L4_H64_max_p10.log\n",
      "aaai24_logs/test/blocks30-task03_dd_dlg_blocks_L4_H64_max_p10.log\n",
      "aaai24_logs/test/p-n12-b2-w5-s1_dd_llg_sokoban_L4_H64_max_p10.log\n",
      "aaai24_logs/test/p-l15-c15-s2_dd_dlg_ferry_L4_H64_max_p10.log\n",
      "aaai24_logs/test/n45-s4_dd_slg_visitsome_L4_H64_max_p10.log\n",
      "aaai24_logs/test/n65-s2_dd_slg_visitsome_L4_H64_max_p10.log\n",
      "aaai24_logs/test/p-n9-b2-w5-s1_dd_slg_sokoban_L4_H64_max_p10.log\n",
      "aaai24_logs/test/n60-s3_dd_llg_visitall_L4_H64_max_p10.log\n",
      "aaai24_logs/test/p-n12-b3-w3-s0_dd_llg_sokoban_L4_H64_max_p10.log\n",
      "aaai24_logs/test/n50-s2_dd_dlg_visitsome_L4_H64_max_p10.log\n",
      "aaai24_logs/test/n70-s4_dd_dlg_visitsome_L4_H64_max_p10.log\n",
      "aaai24_logs/test/blocks25-task03_dd_slg_blocks_L4_H64_max_p10.log\n",
      "aaai24_logs/test/p-s20-n20-l13-seed4_dd_llg_spanner_L4_H64_max_p10.log\n",
      "aaai24_logs/test/p-n8-b3-w4-s2_dd_llg_sokoban_L4_H64_max_p10.log\n",
      "aaai24_logs/test/p-l15-c15-s3_dd_llg_ferry_L4_H64_max_p10.log\n",
      "aaai24_logs/test/n65-s0_dd_llg_visitall_L4_H64_max_p10.log\n",
      "aaai24_logs/test/p-l40-c40-s3_dd_slg_ferry_L4_H64_max_p10.log\n",
      "aaai24_logs/test/blocks25-task05_dd_dlg_blocks_L4_H64_max_p10.log\n",
      "aaai24_logs/test/p-s20-n20-l13-seed3_dd_llg_spanner_L4_H64_mean_p10.log\n",
      "aaai24_logs/test/n35-s1_dd_llg_visitsome_L4_H64_max_p10.log\n",
      "aaai24_logs/test/p-l55-c55-s2_dd_llg_ferry_L4_H64_max_p10.log\n",
      "aaai24_logs/test/p-n11-b3-w5-s2_dd_slg_sokoban_L4_H64_max_p10.log\n",
      "aaai24_logs/test/blocks40-task05_dd_llg_blocks_L4_H64_mean_p10.log\n",
      "aaai24_logs/test/n15-s1_dd_slg_visitall_L4_H64_max_p10.log\n",
      "aaai24_logs/test/n55-s1_dd_slg_visitsome_L4_H64_max_p10.log\n",
      "aaai24_logs/test/p-l25-c25-s2_dd_dlg_ferry_L4_H64_max_p10.log\n",
      "aaai24_logs/test/n-puzzle-7x7-s6_dd_slg_n-puzzle_L4_H64_max_p10.log\n",
      "aaai24_logs/test/p-n9-b2-w4-s0_dd_dlg_sokoban_L4_H64_max_p10.log\n",
      "aaai24_logs/test/p-n10-b2-w4-s1_dd_llg_sokoban_L4_H64_max_p10.log\n",
      "aaai24_logs/test/n60-s1_dd_dlg_visitsome_L4_H64_max_p10.log\n",
      "aaai24_logs/test/blocks40-task01_dd_llg_blocks_L4_H64_max_p10.log\n",
      "aaai24_logs/test/n30-s3_dd_llg_visitall_L4_H64_mean_p10.log\n",
      "aaai24_logs/test/p-l25-c25-s3_dd_llg_ferry_L4_H64_max_p10.log\n",
      "aaai24_logs/test/p-n12-b2-w3-s1_dd_llg_sokoban_L4_H64_mean_p10.log\n",
      "aaai24_logs/test/p-n8-b3-w4-s1_dd_llg_sokoban_L4_H64_mean_p10.log\n",
      "aaai24_logs/test/n20-s3_dd_slg_visitall_L4_H64_max_p10.log\n",
      "aaai24_logs/test/n25-s0_dd_llg_visitsome_L4_H64_max_p10.log\n",
      "aaai24_logs/test/p-s15-n15-l10-seed4_dd_slg_spanner_L4_H64_max_p10.log\n",
      "aaai24_logs/test/p-s35-n35-l23-seed2_dd_llg_spanner_L4_H64_mean_p10.log\n",
      "aaai24_logs/test/p-l45-c45-s2_dd_llg_ferry_L4_H64_max_p10.log\n",
      "aaai24_logs/test/n35-s3_dd_llg_visitall_L4_H64_max_p10.log\n",
      "aaai24_logs/test/p-n9-b2-w5-s2_dd_slg_sokoban_L4_H64_max_p10.log\n",
      "aaai24_logs/test/p-n11-b2-w4-s0_dd_llg_sokoban_L4_H64_mean_p10.log\n",
      "aaai24_logs/test/n45-s0_dd_slg_visitsome_L4_H64_max_p10.log\n",
      "aaai24_logs/test/p-l35-c35-s2_dd_dlg_ferry_L4_H64_max_p10.log\n",
      "aaai24_logs/test/p-n11-b3-w4-s0_dd_dlg_sokoban_L4_H64_max_p10.log\n",
      "aaai24_logs/test/p-n12-b2-w5-s2_dd_llg_sokoban_L4_H64_max_p10.log\n",
      "aaai24_logs/test/blocks75-task04_dd_llg_blocks_L4_H64_mean_p10.log\n",
      "aaai24_logs/test/blocks20-task04_dd_llg_blocks_L4_H64_max_p10.log\n",
      "aaai24_logs/test/n25-s0_dd_slg_visitall_L4_H64_max_p10.log\n",
      "aaai24_logs/test/n20-s2_dd_llg_visitall_L4_H64_mean_p10.log\n",
      "aaai24_logs/test/p-n8-b3-w4-s1_dd_llg_sokoban_L4_H64_max_p10.log\n",
      "aaai24_logs/test/n70-s0_dd_dlg_visitsome_L4_H64_max_p10.log\n",
      "aaai24_logs/test/p-l45-c45-s5_dd_llg_ferry_L4_H64_mean_p10.log\n",
      "aaai24_logs/test/p-l45-c45-s3_dd_dlg_ferry_L4_H64_max_p10.log\n",
      "aaai24_logs/test/n30-s0_dd_llg_visitall_L4_H64_max_p10.log\n",
      "aaai24_logs/test/p-l65-c65-s3_dd_llg_ferry_L4_H64_mean_p10.log\n",
      "aaai24_logs/test/p-s65-n65-l43-seed2_dd_llg_spanner_L4_H64_mean_p10.log\n",
      "aaai24_logs/test/gripper-n85_dd_llg_gripper_L4_H64_max_p10.log\n",
      "aaai24_logs/test/p-l35-c35-s3_dd_llg_ferry_L4_H64_max_p10.log\n",
      "aaai24_logs/test/p-n9-b3-w5-s2_dd_llg_sokoban_L4_H64_mean_p10.log\n",
      "aaai24_logs/test/p-l60-c60-s3_dd_slg_ferry_L4_H64_max_p10.log\n",
      "aaai24_logs/test/n-puzzle-6x6-s3_dd_dlg_n-puzzle_L4_H64_max_p10.log\n",
      "aaai24_logs/test/p-l35-c35-s2_dd_llg_ferry_L4_H64_max_p10.log\n",
      "aaai24_logs/test/p-l60-c60-s2_dd_slg_ferry_L4_H64_max_p10.log\n",
      "aaai24_logs/test/blocks30-task03_dd_llg_blocks_L4_H64_max_p10.log\n",
      "aaai24_logs/test/n85-s2_dd_dlg_visitsome_L4_H64_max_p10.log\n",
      "aaai24_logs/test/p-n10-b3-w5-s1_dd_slg_sokoban_L4_H64_max_p10.log\n",
      "aaai24_logs/test/n35-s2_dd_llg_visitsome_L4_H64_mean_p10.log\n",
      "aaai24_logs/test/n15-s1_dd_slg_visitsome_L4_H64_max_p10.log\n",
      "aaai24_logs/test/p-l45-c45-s2_dd_dlg_ferry_L4_H64_max_p10.log\n",
      "aaai24_logs/test/p-n10-b2-w3-s0_dd_slg_sokoban_L4_H64_max_p10.log\n",
      "aaai24_logs/test/blocks25-task05_dd_llg_blocks_L4_H64_mean_p10.log\n",
      "aaai24_logs/test/n55-s0_dd_dlg_visitall_L4_H64_max_p10.log\n",
      "aaai24_logs/test/n85-s1_dd_llg_visitsome_L4_H64_mean_p10.log\n",
      "aaai24_logs/test/p-l35-c35-s3_dd_dlg_ferry_L4_H64_max_p10.log\n",
      "aaai24_logs/test/p-n11-b2-w4-s2_dd_llg_sokoban_L4_H64_max_p10.log\n",
      "aaai24_logs/test/p-n12-b3-w5-s0_dd_dlg_sokoban_L4_H64_max_p10.log\n",
      "aaai24_logs/test/n20-s1_dd_dlg_visitsome_L4_H64_max_p10.log\n",
      "aaai24_logs/test/p-n12-b2-w3-s1_dd_dlg_sokoban_L4_H64_max_p10.log\n",
      "aaai24_logs/test/p-s25-n25-l16-seed2_dd_llg_spanner_L4_H64_mean_p10.log\n",
      "aaai24_logs/test/p-l45-c45-s3_dd_llg_ferry_L4_H64_max_p10.log\n",
      "aaai24_logs/test/n50-s3_dd_dlg_visitall_L4_H64_max_p10.log\n",
      "aaai24_logs/test/gripper-n35_dd_llg_gripper_L4_H64_mean_p10.log\n",
      "aaai24_logs/test/n90-s4_dd_slg_visitsome_L4_H64_max_p10.log\n",
      "aaai24_logs/test/p-l25-c25-s2_dd_llg_ferry_L4_H64_max_p10.log\n",
      "aaai24_logs/test/n60-s4_dd_llg_visitall_L4_H64_max_p10.log\n",
      "aaai24_logs/test/p-n8-b2-w5-s1_dd_slg_sokoban_L4_H64_max_p10.log\n",
      "aaai24_logs/test/gripper-n80_dd_llg_gripper_L4_H64_max_p10.log\n",
      "aaai24_logs/test/blocks20-task02_dd_slg_blocks_L4_H64_max_p10.log\n",
      "aaai24_logs/test/n95-s3_dd_dlg_visitsome_L4_H64_max_p10.log\n",
      "aaai24_logs/test/blocks15-task01_dd_dlg_blocks_L4_H64_max_p10.log\n",
      "aaai24_logs/test/n20-s4_dd_llg_visitsome_L4_H64_mean_p10.log\n",
      "aaai24_logs/test/n60-s2_dd_dlg_visitall_L4_H64_max_p10.log\n",
      "aaai24_logs/test/n65-s1_dd_llg_visitsome_L4_H64_mean_p10.log\n",
      "aaai24_logs/test/n-puzzle-5x5-s3_dd_slg_n-puzzle_L4_H64_max_p10.log\n",
      "aaai24_logs/test/p-s20-n20-l13-seed2_dd_llg_spanner_L4_H64_max_p10.log\n",
      "aaai24_logs/test/p-l55-c55-s2_dd_dlg_ferry_L4_H64_max_p10.log\n",
      "aaai24_logs/test/p-n8-b3-w3-s0_dd_slg_sokoban_L4_H64_max_p10.log\n",
      "aaai24_logs/test/p-s45-n45-l30-seed3_dd_llg_spanner_L4_H64_mean_p10.log\n",
      "aaai24_logs/test/blocks75-task01_dd_llg_blocks_L4_H64_mean_p10.log\n",
      "aaai24_logs/test/p-n9-b3-w4-s2_dd_llg_sokoban_L4_H64_max_p10.log\n",
      "aaai24_logs/test/p-n9-b2-w3-s0_dd_llg_sokoban_L4_H64_mean_p10.log\n",
      "aaai24_logs/test/p-l25-c25-s3_dd_dlg_ferry_L4_H64_max_p10.log\n",
      "aaai24_logs/test/p-l30-c30-s5_dd_llg_ferry_L4_H64_mean_p10.log\n",
      "aaai24_logs/test/n40-s4_dd_llg_visitall_L4_H64_mean_p10.log\n",
      "aaai24_logs/test/blocks35-task02_dd_dlg_blocks_L4_H64_max_p10.log\n",
      "aaai24_logs/test/p-n10-b3-w3-s1_dd_llg_sokoban_L4_H64_mean_p10.log\n",
      "aaai24_logs/test/n55-s0_dd_llg_visitsome_L4_H64_mean_p10.log\n",
      "aaai24_logs/test/n60-s2_dd_llg_visitall_L4_H64_mean_p10.log\n",
      "aaai24_logs/test/n30-s0_dd_dlg_visitsome_L4_H64_max_p10.log\n",
      "aaai24_logs/test/n65-s1_dd_dlg_visitall_L4_H64_max_p10.log\n",
      "aaai24_logs/test/p-s15-n15-l10-seed1_dd_slg_spanner_L4_H64_max_p10.log\n",
      "aaai24_logs/test/p-n12-b3-w4-s2_dd_slg_sokoban_L4_H64_max_p10.log\n",
      "aaai24_logs/test/p-l55-c55-s3_dd_llg_ferry_L4_H64_max_p10.log\n",
      "aaai24_logs/test/p-l85-c85-s3_dd_llg_ferry_L4_H64_mean_p10.log\n",
      "aaai24_logs/test/p-l15-c15-s2_dd_llg_ferry_L4_H64_max_p10.log\n",
      "aaai24_logs/test/n-puzzle-7x7-s1_dd_slg_n-puzzle_L4_H64_max_p10.log\n",
      "aaai24_logs/test/n100-s2_dd_slg_visitsome_L4_H64_max_p10.log\n",
      "aaai24_logs/test/p-l95-c95-s1_dd_llg_ferry_L4_H64_max_p10.log\n",
      "aaai24_logs/test/p-l40-c40-s2_dd_slg_ferry_L4_H64_max_p10.log\n",
      "aaai24_logs/test/p-n8-b2-w4-s0_dd_dlg_sokoban_L4_H64_max_p10.log\n",
      "aaai24_logs/test/n50-s3_dd_llg_visitsome_L4_H64_mean_p10.log\n",
      "aaai24_logs/test/p-n10-b3-w5-s2_dd_slg_sokoban_L4_H64_max_p10.log\n",
      "aaai24_logs/test/n35-s3_dd_slg_visitsome_L4_H64_max_p10.log\n",
      "aaai24_logs/test/p-s20-n20-l13-seed4_dd_llg_spanner_L4_H64_mean_p10.log\n",
      "aaai24_logs/test/p-l15-c15-s3_dd_dlg_ferry_L4_H64_max_p10.log\n",
      "aaai24_logs/test/p-l40-c40-s5_dd_llg_ferry_L4_H64_mean_p10.log\n",
      "aaai24_logs/test/blocks20-task04_dd_dlg_blocks_L4_H64_max_p10.log\n",
      "aaai24_logs/test/blocks40-task03_dd_llg_blocks_L4_H64_mean_p10.log\n",
      "aaai24_logs/test/p-l60-c60-s3_dd_llg_ferry_L4_H64_mean_p10.log\n",
      "aaai24_logs/test/n60-s2_dd_llg_visitsome_L4_H64_mean_p10.log\n",
      "aaai24_logs/test/p-n12-b2-w3-s2_dd_dlg_sokoban_L4_H64_max_p10.log\n",
      "aaai24_logs/test/n50-s1_dd_llg_visitall_L4_H64_mean_p10.log\n",
      "aaai24_logs/test/p-l30-c30-s3_dd_slg_ferry_L4_H64_max_p10.log\n",
      "aaai24_logs/test/p-n11-b2-w4-s1_dd_llg_sokoban_L4_H64_max_p10.log\n",
      "aaai24_logs/test/n90-s0_dd_slg_visitsome_L4_H64_max_p10.log\n",
      "aaai24_logs/test/p-l65-c65-s3_dd_llg_ferry_L4_H64_max_p10.log\n",
      "aaai24_logs/test/gripper-n75_dd_llg_gripper_L4_H64_mean_p10.log\n",
      "aaai24_logs/test/n35-s2_dd_dlg_visitall_L4_H64_max_p10.log\n",
      "aaai24_logs/test/blocks25-task05_dd_llg_blocks_L4_H64_max_p10.log\n",
      "aaai24_logs/test/p-l85-c85-s1_dd_llg_ferry_L4_H64_max_p10.log\n",
      "aaai24_logs/test/gripper-n45_dd_dlg_gripper_L4_H64_mean_p10.log\n",
      "aaai24_logs/test/p-n10-b3-w4-s0_dd_dlg_sokoban_L4_H64_max_p10.log\n",
      "aaai24_logs/test/p-s20-n20-l13-seed1_dd_llg_spanner_L4_H64_max_p10.log\n",
      "aaai24_logs/test/p-l50-c50-s2_dd_slg_ferry_L4_H64_max_p10.log\n",
      "aaai24_logs/test/p-n8-b3-w5-s1_dd_llg_sokoban_L4_H64_mean_p10.log\n",
      "aaai24_logs/test/n80-s2_dd_llg_visitsome_L4_H64_mean_p10.log\n",
      "aaai24_logs/test/n35-s4_dd_llg_visitall_L4_H64_max_p10.log\n",
      "aaai24_logs/test/p-s35-n35-l23-seed5_dd_llg_spanner_L4_H64_mean_p10.log\n",
      "aaai24_logs/test/p-n11-b2-w5-s0_dd_llg_sokoban_L4_H64_mean_p10.log\n",
      "aaai24_logs/test/n20-s4_dd_slg_visitall_L4_H64_max_p10.log\n",
      "aaai24_logs/test/p-n8-b2-w5-s2_dd_slg_sokoban_L4_H64_max_p10.log\n",
      "aaai24_logs/test/n25-s2_dd_slg_visitsome_L4_H64_max_p10.log\n",
      "aaai24_logs/test/p-s15-n15-l10-seed2_dd_slg_spanner_L4_H64_max_p10.log\n",
      "aaai24_logs/test/p-n12-b3-w4-s1_dd_slg_sokoban_L4_H64_max_p10.log\n",
      "aaai24_logs/test/p-n9-b3-w4-s2_dd_llg_sokoban_L4_H64_mean_p10.log\n",
      "aaai24_logs/test/n30-s1_dd_dlg_visitall_L4_H64_max_p10.log\n",
      "aaai24_logs/test/n30-s1_dd_llg_visitsome_L4_H64_mean_p10.log\n",
      "aaai24_logs/test/blocks40-task01_dd_dlg_blocks_L4_H64_max_p10.log\n",
      "aaai24_logs/test/n75-s4_dd_llg_visitsome_L4_H64_mean_p10.log\n",
      "aaai24_logs/test/n40-s0_dd_llg_visitall_L4_H64_mean_p10.log\n",
      "aaai24_logs/test/p-s65-n65-l43-seed5_dd_llg_spanner_L4_H64_mean_p10.log\n",
      "aaai24_logs/test/n30-s4_dd_dlg_visitsome_L4_H64_max_p10.log\n",
      "aaai24_logs/test/p-l20-c20-s3_dd_slg_ferry_L4_H64_max_p10.log\n",
      "aaai24_logs/test/blocks75-task02_dd_llg_blocks_L4_H64_mean_p10.log\n",
      "aaai24_logs/test/p-n9-b3-w4-s1_dd_llg_sokoban_L4_H64_max_p10.log\n",
      "aaai24_logs/test/p-l75-c75-s3_dd_llg_ferry_L4_H64_max_p10.log\n",
      "aaai24_logs/test/n80-s1_dd_slg_visitsome_L4_H64_max_p10.log\n",
      "aaai24_logs/test/n20-s4_dd_llg_visitall_L4_H64_max_p10.log\n",
      "aaai24_logs/test/p-n9-b2-w4-s2_dd_slg_sokoban_L4_H64_max_p10.log\n",
      "aaai24_logs/test/p-n11-b2-w3-s1_dd_dlg_sokoban_L4_H64_max_p10.log\n",
      "aaai24_logs/test/n95-s1_dd_slg_visitsome_L4_H64_max_p10.log\n",
      "aaai24_logs/test/gripper-n40_dd_dlg_gripper_L4_H64_max_p10.log\n",
      "aaai24_logs/test/n35-s4_dd_slg_visitall_L4_H64_max_p10.log\n",
      "aaai24_logs/test/p-s75-n75-l50-seed5_dd_llg_spanner_L4_H64_max_p10.log\n",
      "aaai24_logs/test/p-l20-c20-s1_dd_slg_ferry_L4_H64_max_p10.log\n",
      "aaai24_logs/test/p-n11-b3-w5-s0_dd_dlg_sokoban_L4_H64_max_p10.log\n",
      "aaai24_logs/test/p-n12-b2-w4-s2_dd_llg_sokoban_L4_H64_max_p10.log\n",
      "aaai24_logs/test/n20-s2_dd_dlg_visitall_L4_H64_max_p10.log\n",
      "aaai24_logs/test/n25-s4_dd_dlg_visitsome_L4_H64_max_p10.log\n",
      "aaai24_logs/test/p-l75-c75-s1_dd_llg_ferry_L4_H64_max_p10.log\n",
      "aaai24_logs/test/n55-s0_dd_llg_visitall_L4_H64_mean_p10.log\n",
      "aaai24_logs/test/p-l85-c85-s3_dd_llg_ferry_L4_H64_max_p10.log\n",
      "aaai24_logs/test/n30-s2_dd_slg_visitsome_L4_H64_max_p10.log\n",
      "aaai24_logs/test/p-n8-b3-w5-s1_dd_llg_sokoban_L4_H64_max_p10.log\n",
      "aaai24_logs/test/gripper-n20_dd_dlg_gripper_L4_H64_mean_p10.log\n",
      "aaai24_logs/test/n25-s1_dd_dlg_visitall_L4_H64_max_p10.log\n",
      "aaai24_logs/test/p-s40-n40-l26-seed1_dd_llg_spanner_L4_H64_mean_p10.log\n",
      "aaai24_logs/test/p-n12-b3-w3-s0_dd_llg_sokoban_L4_H64_mean_p10.log\n",
      "aaai24_logs/test/p-n8-b2-w3-s0_dd_llg_sokoban_L4_H64_max_p10.log\n",
      "aaai24_logs/test/p-l15-c15-s1_dd_dlg_ferry_L4_H64_max_p10.log\n",
      "aaai24_logs/test/n100-s4_dd_dlg_visitsome_L4_H64_max_p10.log\n",
      "aaai24_logs/test/p-n11-b3-w4-s1_dd_llg_sokoban_L4_H64_mean_p10.log\n",
      "aaai24_logs/test/p-n9-b3-w3-s1_dd_dlg_sokoban_L4_H64_max_p10.log\n",
      "aaai24_logs/test/p-n11-b3-w4-s2_dd_slg_sokoban_L4_H64_max_p10.log\n",
      "aaai24_logs/test/p-l20-c20-s2_dd_llg_ferry_L4_H64_mean_p10.log\n",
      "aaai24_logs/test/p-l30-c30-s1_dd_llg_ferry_L4_H64_mean_p10.log\n",
      "aaai24_logs/test/n85-s0_dd_slg_visitsome_L4_H64_max_p10.log\n",
      "aaai24_logs/test/gripper-n20_dd_slg_gripper_L4_H64_max_p10.log\n",
      "aaai24_logs/test/p-n8-b2-w4-s0_dd_llg_sokoban_L4_H64_mean_p10.log\n",
      "aaai24_logs/test/p-l30-c30-s1_dd_slg_ferry_L4_H64_max_p10.log\n",
      "aaai24_logs/test/p-n9-b2-w5-s0_dd_dlg_sokoban_L4_H64_max_p10.log\n",
      "aaai24_logs/test/n-puzzle-5x5-s8_dd_llg_n-puzzle_L4_H64_mean_p10.log\n",
      "aaai24_logs/test/n15-s0_dd_dlg_visitall_L4_H64_max_p10.log\n",
      "aaai24_logs/test/n45-s1_dd_llg_visitall_L4_H64_mean_p10.log\n",
      "aaai24_logs/test/n15-s3_dd_dlg_visitsome_L4_H64_max_p10.log\n",
      "aaai24_logs/test/p-l65-c65-s1_dd_llg_ferry_L4_H64_max_p10.log\n",
      "aaai24_logs/test/p-l95-c95-s3_dd_llg_ferry_L4_H64_max_p10.log\n",
      "aaai24_logs/test/blocks30-task03_dd_llg_blocks_L4_H64_mean_p10.log\n",
      "aaai24_logs/test/blocks50-task02_dd_llg_blocks_L4_H64_max_p10.log\n",
      "aaai24_logs/test/n20-s3_dd_slg_visitsome_L4_H64_max_p10.log\n",
      "aaai24_logs/test/p-n10-b2-w5-s1_dd_llg_sokoban_L4_H64_max_p10.log\n",
      "aaai24_logs/test/p-s45-n45-l30-seed2_dd_llg_spanner_L4_H64_max_p10.log\n",
      "aaai24_logs/test/p-s55-n55-l36-seed4_dd_llg_spanner_L4_H64_max_p10.log\n",
      "aaai24_logs/test/blocks15-task05_dd_dlg_blocks_L4_H64_max_p10.log\n",
      "aaai24_logs/test/p-n10-b3-w5-s2_dd_llg_sokoban_L4_H64_mean_p10.log\n",
      "aaai24_logs/test/p-n10-b3-w3-s0_dd_llg_sokoban_L4_H64_max_p10.log\n",
      "aaai24_logs/test/n40-s3_dd_llg_visitsome_L4_H64_max_p10.log\n",
      "aaai24_logs/test/p-l50-c50-s2_dd_llg_ferry_L4_H64_mean_p10.log\n",
      "aaai24_logs/test/p-l40-c40-s1_dd_llg_ferry_L4_H64_mean_p10.log\n",
      "aaai24_logs/test/p-n12-b2-w4-s1_dd_llg_sokoban_L4_H64_max_p10.log\n",
      "aaai24_logs/test/blocks60-task04_dd_llg_blocks_L4_H64_mean_p10.log\n",
      "aaai24_logs/test/n75-s2_dd_dlg_visitall_L4_H64_max_p10.log\n",
      "aaai24_logs/test/p-l70-c70-s4_dd_llg_ferry_L4_H64_mean_p10.log\n",
      "aaai24_logs/test/p-l25-c25-s1_dd_dlg_ferry_L4_H64_max_p10.log\n",
      "aaai24_logs/test/n-puzzle-5x5-s3_dd_llg_n-puzzle_L4_H64_max_p10.log\n",
      "aaai24_logs/test/p-n9-b2-w4-s1_dd_slg_sokoban_L4_H64_max_p10.log\n",
      "aaai24_logs/test/p-n11-b2-w3-s2_dd_dlg_sokoban_L4_H64_max_p10.log\n",
      "aaai24_logs/test/p-l55-c55-s1_dd_llg_ferry_L4_H64_max_p10.log\n",
      "aaai24_logs/test/n25-s0_dd_dlg_visitsome_L4_H64_max_p10.log\n",
      "aaai24_logs/test/n-puzzle-5x5-s5_dd_dlg_n-puzzle_L4_H64_max_p10.log\n",
      "aaai24_logs/test/n55-s4_dd_llg_visitall_L4_H64_mean_p10.log\n",
      "aaai24_logs/test/blocks15-task03_dd_slg_blocks_L4_H64_max_p10.log\n",
      "aaai24_logs/test/n60-s4_dd_slg_visitall_L4_H64_max_p10.log\n",
      "aaai24_logs/test/blocks45-task04_dd_llg_blocks_L4_H64_max_p10.log\n",
      "aaai24_logs/test/n70-s1_dd_dlg_visitall_L4_H64_max_p10.log\n",
      "aaai24_logs/test/gripper-n60_dd_dlg_gripper_L4_H64_mean_p10.log\n",
      "aaai24_logs/test/gripper-n35_dd_dlg_gripper_L4_H64_max_p10.log\n",
      "aaai24_logs/test/n80-s3_dd_dlg_visitsome_L4_H64_max_p10.log\n",
      "aaai24_logs/test/p-n12-b2-w4-s2_dd_llg_sokoban_L4_H64_mean_p10.log\n",
      "aaai24_logs/test/p-n8-b3-w5-s2_dd_llg_sokoban_L4_H64_max_p10.log\n",
      "aaai24_logs/test/n100-s0_dd_dlg_visitsome_L4_H64_max_p10.log\n",
      "aaai24_logs/test/p-s15-n15-l10-seed5_dd_dlg_spanner_L4_H64_max_p10.log\n",
      "aaai24_logs/test/p-l35-c35-s1_dd_dlg_ferry_L4_H64_max_p10.log\n",
      "aaai24_logs/test/n85-s4_dd_slg_visitsome_L4_H64_max_p10.log\n",
      "aaai24_logs/test/p-n8-b3-w3-s2_dd_llg_sokoban_L4_H64_mean_p10.log\n",
      "aaai24_logs/test/n40-s0_dd_dlg_visitall_L4_H64_max_p10.log\n",
      "aaai24_logs/test/gripper-n65_dd_llg_gripper_L4_H64_max_p10.log\n",
      "aaai24_logs/test/n-puzzle-6x6-s5_dd_slg_n-puzzle_L4_H64_max_p10.log\n",
      "aaai24_logs/test/blocks55-task05_dd_llg_blocks_L4_H64_mean_p10.log\n",
      "aaai24_logs/test/p-n9-b3-w3-s2_dd_dlg_sokoban_L4_H64_max_p10.log\n",
      "aaai24_logs/test/p-n11-b3-w4-s1_dd_slg_sokoban_L4_H64_max_p10.log\n",
      "aaai24_logs/test/n65-s3_dd_llg_visitall_L4_H64_mean_p10.log\n",
      "aaai24_logs/test/gripper-n50_dd_llg_gripper_L4_H64_mean_p10.log\n",
      "aaai24_logs/test/p-l45-c45-s1_dd_llg_ferry_L4_H64_max_p10.log\n",
      "aaai24_logs/test/n35-s1_dd_dlg_visitsome_L4_H64_max_p10.log\n",
      "aaai24_logs/test/blocks25-task01_dd_llg_blocks_L4_H64_max_p10.log\n",
      "aaai24_logs/test/p-s45-n45-l30-seed1_dd_llg_spanner_L4_H64_max_p10.log\n",
      "aaai24_logs/test/n45-s3_dd_dlg_visitall_L4_H64_max_p10.log\n",
      "aaai24_logs/test/p-n10-b2-w5-s2_dd_llg_sokoban_L4_H64_max_p10.log\n",
      "aaai24_logs/test/n90-s2_dd_dlg_visitsome_L4_H64_max_p10.log\n",
      "aaai24_logs/test/p-l25-c25-s2_dd_llg_ferry_L4_H64_mean_p10.log\n",
      "aaai24_logs/test/p-l35-c35-s1_dd_llg_ferry_L4_H64_mean_p10.log\n",
      "aaai24_logs/test/p-n10-b3-w5-s0_dd_dlg_sokoban_L4_H64_max_p10.log\n",
      "aaai24_logs/test/p-l45-c45-s1_dd_dlg_ferry_L4_H64_max_p10.log\n",
      "aaai24_logs/test/n35-s3_dd_slg_visitall_L4_H64_max_p10.log\n",
      "aaai24_logs/test/gripper-n30_dd_dlg_gripper_L4_H64_max_p10.log\n",
      "aaai24_logs/test/n65-s0_dd_dlg_visitsome_L4_H64_max_p10.log\n",
      "aaai24_logs/test/p-n8-b2-w4-s2_dd_slg_sokoban_L4_H64_max_p10.log\n",
      "aaai24_logs/test/p-n10-b2-w3-s1_dd_dlg_sokoban_L4_H64_max_p10.log\n",
      "aaai24_logs/test/n35-s2_dd_llg_visitall_L4_H64_mean_p10.log\n",
      "aaai24_logs/test/n15-s4_dd_llg_visitall_L4_H64_mean_p10.log\n",
      "aaai24_logs/test/p-l90-c90-s4_dd_llg_ferry_L4_H64_mean_p10.log\n",
      "aaai24_logs/test/n45-s4_dd_llg_visitsome_L4_H64_mean_p10.log\n",
      "aaai24_logs/test/p-l35-c35-s1_dd_llg_ferry_L4_H64_max_p10.log\n",
      "aaai24_logs/test/p-l60-c60-s1_dd_slg_ferry_L4_H64_max_p10.log\n",
      "aaai24_logs/test/n80-s3_dd_llg_visitsome_L4_H64_mean_p10.log\n",
      "aaai24_logs/test/n20-s3_dd_llg_visitall_L4_H64_max_p10.log\n",
      "aaai24_logs/test/n50-s0_dd_slg_visitsome_L4_H64_max_p10.log\n",
      "aaai24_logs/test/n30-s0_dd_llg_visitsome_L4_H64_mean_p10.log\n",
      "aaai24_logs/test/p-s55-n55-l36-seed1_dd_llg_spanner_L4_H64_mean_p10.log\n",
      "aaai24_logs/test/p-n12-b3-w5-s1_dd_slg_sokoban_L4_H64_max_p10.log\n",
      "aaai24_logs/test/p-n9-b2-w3-s0_dd_llg_sokoban_L4_H64_max_p10.log\n",
      "aaai24_logs/test/n30-s0_dd_llg_visitsome_L4_H64_max_p10.log\n",
      "aaai24_logs/test/blocks15-task05_dd_llg_blocks_L4_H64_max_p10.log\n",
      "aaai24_logs/test/n30-s0_dd_slg_visitall_L4_H64_max_p10.log\n",
      "aaai24_logs/test/blocks60-task01_dd_llg_blocks_L4_H64_mean_p10.log\n",
      "aaai24_logs/test/p-n12-b2-w3-s0_dd_slg_sokoban_L4_H64_max_p10.log\n",
      "aaai24_logs/test/p-s75-n75-l50-seed3_dd_llg_spanner_L4_H64_max_p10.log\n",
      "aaai24_logs/test/p-n9-b3-w5-s1_dd_llg_sokoban_L4_H64_max_p10.log\n",
      "aaai24_logs/test/n25-s0_dd_llg_visitall_L4_H64_max_p10.log\n",
      "aaai24_logs/test/blocks30-task05_dd_llg_blocks_L4_H64_mean_p10.log\n",
      "aaai24_logs/test/p-n8-b2-w5-s0_dd_dlg_sokoban_L4_H64_max_p10.log\n",
      "aaai24_logs/test/blocks55-task03_dd_llg_blocks_L4_H64_max_p10.log\n",
      "aaai24_logs/test/p-l55-c55-s1_dd_dlg_ferry_L4_H64_max_p10.log\n",
      "aaai24_logs/test/n-puzzle-5x5-s0_dd_llg_n-puzzle_L4_H64_mean_p10.log\n",
      "aaai24_logs/test/n15-s1_dd_llg_visitall_L4_H64_max_p10.log\n",
      "aaai24_logs/test/n25-s3_dd_llg_visitall_L4_H64_mean_p10.log\n",
      "aaai24_logs/test/p-n11-b3-w5-s1_dd_llg_sokoban_L4_H64_mean_p10.log\n",
      "aaai24_logs/test/n75-s1_dd_dlg_visitsome_L4_H64_max_p10.log\n",
      "aaai24_logs/test/p-l25-c25-s1_dd_llg_ferry_L4_H64_max_p10.log\n",
      "aaai24_logs/test/n50-s2_dd_llg_visitsome_L4_H64_mean_p10.log\n",
      "aaai24_logs/test/p-n8-b3-w3-s1_dd_dlg_sokoban_L4_H64_max_p10.log\n",
      "aaai24_logs/test/n-puzzle-7x7-s0_dd_dlg_n-puzzle_L4_H64_max_p10.log\n",
      "aaai24_logs/test/p-n10-b3-w4-s2_dd_slg_sokoban_L4_H64_max_p10.log\n",
      "aaai24_logs/test/p-s45-n45-l30-seed4_dd_llg_spanner_L4_H64_max_p10.log\n",
      "aaai24_logs/test/p-s55-n55-l36-seed2_dd_llg_spanner_L4_H64_max_p10.log\n",
      "aaai24_logs/test/p-n8-b2-w5-s0_dd_llg_sokoban_L4_H64_mean_p10.log\n",
      "aaai24_logs/test/gripper-n90_dd_llg_gripper_L4_H64_mean_p10.log\n",
      "aaai24_logs/test/p-n10-b3-w4-s2_dd_llg_sokoban_L4_H64_mean_p10.log\n",
      "aaai24_logs/test/n40-s1_dd_slg_visitsome_L4_H64_max_p10.log\n",
      "aaai24_logs/test/p-n11-b3-w3-s0_dd_llg_sokoban_L4_H64_max_p10.log\n",
      "aaai24_logs/test/n60-s3_dd_llg_visitsome_L4_H64_mean_p10.log\n",
      "aaai24_logs/test/n20-s1_dd_llg_visitsome_L4_H64_max_p10.log\n",
      "aaai24_logs/test/gripper-n60_dd_llg_gripper_L4_H64_max_p10.log\n",
      "aaai24_logs/test/p-n11-b2-w5-s1_dd_llg_sokoban_L4_H64_max_p10.log\n",
      "aaai24_logs/test/blocks30-task01_dd_slg_blocks_L4_H64_max_p10.log\n",
      "aaai24_logs/test/n60-s3_dd_slg_visitall_L4_H64_max_p10.log\n",
      "aaai24_logs/test/p-n8-b2-w4-s1_dd_slg_sokoban_L4_H64_max_p10.log\n",
      "aaai24_logs/test/p-n10-b2-w3-s2_dd_dlg_sokoban_L4_H64_max_p10.log\n",
      "aaai24_logs/test/n-puzzle-5x5-s2_dd_dlg_n-puzzle_L4_H64_max_p10.log\n",
      "aaai24_logs/test/blocks40-task05_dd_llg_blocks_L4_H64_max_p10.log\n",
      "aaai24_logs/test/gripper-n100_dd_llg_gripper_L4_H64_max_p10.log\n",
      "aaai24_logs/test/n-puzzle-5x5-s4_dd_llg_n-puzzle_L4_H64_max_p10.log\n",
      "aaai24_logs/test/n65-s4_dd_dlg_visitsome_L4_H64_max_p10.log\n",
      "aaai24_logs/test/p-l15-c15-s1_dd_llg_ferry_L4_H64_max_p10.log\n",
      "aaai24_logs/test/n45-s2_dd_dlg_visitsome_L4_H64_max_p10.log\n",
      "aaai24_logs/test/n15-s0_dd_llg_visitall_L4_H64_mean_p10.log\n",
      "aaai24_logs/test/p-l95-c95-s2_dd_llg_ferry_L4_H64_max_p10.log\n",
      "aaai24_logs/test/p-l40-c40-s1_dd_slg_ferry_L4_H64_max_p10.log\n",
      "aaai24_logs/test/n65-s0_dd_llg_visitsome_L4_H64_mean_p10.log\n",
      "aaai24_logs/test/n70-s2_dd_slg_visitsome_L4_H64_max_p10.log\n",
      "aaai24_logs/test/n65-s0_dd_slg_visitall_L4_H64_max_p10.log\n",
      "aaai24_logs/test/n55-s1_dd_llg_visitsome_L4_H64_mean_p10.log\n",
      "aaai24_logs/test/blocks25-task01_dd_dlg_blocks_L4_H64_max_p10.log\n",
      "aaai24_logs/test/n50-s4_dd_slg_visitsome_L4_H64_max_p10.log\n",
      "aaai24_logs/test/blocks60-task02_dd_llg_blocks_L4_H64_mean_p10.log\n",
      "aaai24_logs/test/p-n12-b2-w5-s2_dd_llg_sokoban_L4_H64_mean_p10.log\n",
      "aaai24_logs/test/p-n9-b3-w5-s2_dd_llg_sokoban_L4_H64_max_p10.log\n",
      "aaai24_logs/test/gripper-n45_dd_dlg_gripper_L4_H64_max_p10.log\n",
      "aaai24_logs/test/n30-s4_dd_llg_visitsome_L4_H64_max_p10.log\n",
      "aaai24_logs/test/p-n12-b3-w5-s2_dd_slg_sokoban_L4_H64_max_p10.log\n",
      "aaai24_logs/test/p-n8-b3-w3-s2_dd_dlg_sokoban_L4_H64_max_p10.log\n",
      "aaai24_logs/test/n40-s1_dd_llg_visitall_L4_H64_max_p10.log\n",
      "aaai24_logs/test/p-n10-b3-w4-s1_dd_slg_sokoban_L4_H64_max_p10.log\n",
      "aaai24_logs/test/p-l55-c55-s2_dd_llg_ferry_L4_H64_mean_p10.log\n",
      "aaai24_logs/test/p-l45-c45-s1_dd_llg_ferry_L4_H64_mean_p10.log\n",
      "aaai24_logs/test/p-l75-c75-s4_dd_llg_ferry_L4_H64_mean_p10.log\n",
      "aaai24_logs/test/p-s55-n55-l36-seed1_dd_llg_spanner_L4_H64_max_p10.log\n",
      "aaai24_logs/test/n55-s1_dd_slg_visitall_L4_H64_max_p10.log\n",
      "aaai24_logs/test/n-puzzle-5x5-s4_dd_llg_n-puzzle_L4_H64_mean_p10.log\n",
      "aaai24_logs/test/gripper-n15_dd_llg_gripper_L4_H64_max_p10.log\n",
      "aaai24_logs/test/p-s15-n15-l10-seed1_dd_llg_spanner_L4_H64_mean_p10.log\n",
      "aaai24_logs/test/p-l85-c85-s2_dd_llg_ferry_L4_H64_max_p10.log\n",
      "aaai24_logs/test/n55-s3_dd_dlg_visitsome_L4_H64_max_p10.log\n",
      "aaai24_logs/test/n-puzzle-6x6-s2_dd_slg_n-puzzle_L4_H64_max_p10.log\n",
      "aaai24_logs/test/n35-s3_dd_llg_visitsome_L4_H64_mean_p10.log\n",
      "aaai24_logs/test/p-l50-c50-s1_dd_slg_ferry_L4_H64_max_p10.log\n",
      "aaai24_logs/test/n45-s2_dd_llg_visitall_L4_H64_max_p10.log\n",
      "aaai24_logs/test/n60-s3_dd_slg_visitsome_L4_H64_max_p10.log\n",
      "aaai24_logs/test/p-n10-b2-w3-s0_dd_llg_sokoban_L4_H64_mean_p10.log\n",
      "aaai24_logs/test/p-n11-b2-w5-s2_dd_llg_sokoban_L4_H64_max_p10.log\n",
      "aaai24_logs/test/p-n12-b3-w4-s0_dd_dlg_sokoban_L4_H64_max_p10.log\n",
      "aaai24_logs/test/p-s15-n15-l10-seed3_dd_dlg_spanner_L4_H64_max_p10.log\n",
      "aaai24_logs/test/n50-s2_dd_slg_visitall_L4_H64_max_p10.log\n",
      "aaai24_logs/test/n85-s0_dd_llg_visitsome_L4_H64_mean_p10.log\n",
      "aaai24_logs/test/p-n9-b3-w3-s1_dd_llg_sokoban_L4_H64_mean_p10.log\n",
      "aaai24_logs/test/gripper-n25_dd_slg_gripper_L4_H64_max_p10.log\n",
      "aaai24_logs/test/n45-s4_dd_dlg_visitall_L4_H64_max_p10.log\n",
      "aaai24_logs/test/blocks55-task03_dd_llg_blocks_L4_H64_mean_p10.log\n",
      "aaai24_logs/test/n65-s4_dd_slg_visitsome_L4_H64_max_p10.log\n",
      "aaai24_logs/test/gripper-n15_dd_dlg_gripper_L4_H64_max_p10.log\n",
      "aaai24_logs/test/n45-s2_dd_slg_visitsome_L4_H64_max_p10.log\n",
      "aaai24_logs/test/n70-s3_dd_dlg_visitall_L4_H64_max_p10.log\n",
      "aaai24_logs/test/blocks30-task01_dd_llg_blocks_L4_H64_max_p10.log\n",
      "aaai24_logs/test/n25-s2_dd_llg_visitsome_L4_H64_max_p10.log\n",
      "aaai24_logs/test/p-n8-b3-w3-s2_dd_llg_sokoban_L4_H64_max_p10.log\n",
      "aaai24_logs/test/p-n12-b2-w4-s0_dd_llg_sokoban_L4_H64_mean_p10.log\n",
      "aaai24_logs/test/p-s70-n70-l46-seed1_dd_llg_spanner_L4_H64_max_p10.log\n",
      "aaai24_logs/test/n-puzzle-5x5-s1_dd_llg_n-puzzle_L4_H64_max_p10.log\n",
      "aaai24_logs/test/p-n9-b3-w4-s0_dd_slg_sokoban_L4_H64_max_p10.log\n",
      "aaai24_logs/test/n75-s0_dd_dlg_visitall_L4_H64_max_p10.log\n",
      "aaai24_logs/test/p-l90-c90-s5_dd_llg_ferry_L4_H64_max_p10.log\n",
      "aaai24_logs/test/blocks65-task03_dd_llg_blocks_L4_H64_mean_p10.log\n",
      "aaai24_logs/test/n70-s2_dd_dlg_visitsome_L4_H64_max_p10.log\n",
      "aaai24_logs/test/n20-s0_dd_llg_visitall_L4_H64_mean_p10.log\n",
      "aaai24_logs/test/p-s50-n50-l33-seed2_dd_llg_spanner_L4_H64_mean_p10.log\n",
      "aaai24_logs/test/n-puzzle-5x5-s7_dd_dlg_n-puzzle_L4_H64_max_p10.log\n",
      "aaai24_logs/test/n50-s4_dd_dlg_visitsome_L4_H64_max_p10.log\n",
      "aaai24_logs/test/p-s15-n15-l10-seed3_dd_llg_spanner_L4_H64_max_p10.log\n",
      "aaai24_logs/test/p-n12-b3-w4-s0_dd_llg_sokoban_L4_H64_max_p10.log\n",
      "aaai24_logs/test/p-n11-b2-w5-s2_dd_dlg_sokoban_L4_H64_max_p10.log\n",
      "aaai24_logs/test/n45-s1_dd_dlg_visitall_L4_H64_max_p10.log\n",
      "aaai24_logs/test/n55-s3_dd_slg_visitsome_L4_H64_max_p10.log\n",
      "aaai24_logs/test/blocks50-task04_dd_llg_blocks_L4_H64_max_p10.log\n",
      "aaai24_logs/test/p-n10-b2-w3-s2_dd_llg_sokoban_L4_H64_max_p10.log\n",
      "aaai24_logs/test/n35-s3_dd_llg_visitsome_L4_H64_max_p10.log\n",
      "aaai24_logs/test/blocks15-task03_dd_dlg_blocks_L4_H64_max_p10.log\n",
      "aaai24_logs/test/n-puzzle-6x6-s7_dd_slg_n-puzzle_L4_H64_max_p10.log\n",
      "aaai24_logs/test/p-n8-b3-w3-s0_dd_llg_sokoban_L4_H64_mean_p10.log\n",
      "aaai24_logs/test/n40-s2_dd_dlg_visitall_L4_H64_max_p10.log\n",
      "aaai24_logs/test/gripper-n45_dd_llg_gripper_L4_H64_max_p10.log\n",
      "aaai24_logs/test/p-s15-n15-l10-seed4_dd_llg_spanner_L4_H64_mean_p10.log\n",
      "aaai24_logs/test/p-l80-c80-s5_dd_llg_ferry_L4_H64_max_p10.log\n",
      "aaai24_logs/test/p-n11-b2-w4-s0_dd_slg_sokoban_L4_H64_max_p10.log\n",
      "aaai24_logs/test/p-l20-c20-s4_dd_llg_ferry_L4_H64_mean_p10.log\n",
      "aaai24_logs/test/p-n11-b2-w3-s1_dd_llg_sokoban_L4_H64_mean_p10.log\n",
      "aaai24_logs/test/n30-s1_dd_llg_visitall_L4_H64_mean_p10.log\n",
      "aaai24_logs/test/n40-s4_dd_llg_visitall_L4_H64_max_p10.log\n",
      "aaai24_logs/test/n60-s3_dd_dlg_visitsome_L4_H64_max_p10.log\n",
      "aaai24_logs/test/blocks50-task02_dd_llg_blocks_L4_H64_mean_p10.log\n",
      "aaai24_logs/test/p-n9-b3-w5-s2_dd_dlg_sokoban_L4_H64_max_p10.log\n",
      "aaai24_logs/test/p-l85-c85-s1_dd_llg_ferry_L4_H64_mean_p10.log\n",
      "aaai24_logs/test/p-s80-n80-l53-seed1_dd_llg_spanner_L4_H64_max_p10.log\n",
      "aaai24_logs/test/n55-s4_dd_slg_visitall_L4_H64_max_p10.log\n",
      "aaai24_logs/test/p-s35-n35-l23-seed1_dd_llg_spanner_L4_H64_max_p10.log\n",
      "aaai24_logs/test/blocks45-task02_dd_llg_blocks_L4_H64_max_p10.log\n",
      "aaai24_logs/test/n65-s0_dd_slg_visitsome_L4_H64_max_p10.log\n",
      "aaai24_logs/test/p-n8-b3-w3-s1_dd_llg_sokoban_L4_H64_max_p10.log\n",
      "aaai24_logs/test/p-s20-n20-l13-seed3_dd_slg_spanner_L4_H64_max_p10.log\n",
      "aaai24_logs/test/p-s70-n70-l46-seed2_dd_llg_spanner_L4_H64_max_p10.log\n",
      "aaai24_logs/test/p-s60-n60-l40-seed4_dd_llg_spanner_L4_H64_max_p10.log\n",
      "aaai24_logs/test/n-puzzle-6x6-s8_dd_dlg_n-puzzle_L4_H64_max_p10.log\n",
      "aaai24_logs/test/p-n12-b3-w3-s2_dd_llg_sokoban_L4_H64_mean_p10.log\n",
      "aaai24_logs/test/p-n8-b2-w5-s0_dd_llg_sokoban_L4_H64_max_p10.log\n",
      "aaai24_logs/test/p-s40-n40-l26-seed3_dd_llg_spanner_L4_H64_mean_p10.log\n",
      "aaai24_logs/test/n25-s3_dd_dlg_visitall_L4_H64_max_p10.log\n",
      "aaai24_logs/test/p-s55-n55-l36-seed4_dd_llg_spanner_L4_H64_mean_p10.log\n",
      "aaai24_logs/test/p-s30-n30-l20-seed5_dd_llg_spanner_L4_H64_max_p10.log\n",
      "aaai24_logs/test/p-l70-c70-s2_dd_llg_ferry_L4_H64_mean_p10.log\n",
      "aaai24_logs/test/p-l60-c60-s1_dd_llg_ferry_L4_H64_mean_p10.log\n",
      "aaai24_logs/test/gripper-n60_dd_dlg_gripper_L4_H64_max_p10.log\n",
      "aaai24_logs/test/p-l50-c50-s4_dd_llg_ferry_L4_H64_mean_p10.log\n",
      "aaai24_logs/test/p-n11-b2-w5-s1_dd_dlg_sokoban_L4_H64_max_p10.log\n",
      "aaai24_logs/test/blocks80-task03_dd_llg_blocks_L4_H64_mean_p10.log\n",
      "aaai24_logs/test/n20-s4_dd_llg_visitall_L4_H64_mean_p10.log\n",
      "aaai24_logs/test/n50-s0_dd_dlg_visitsome_L4_H64_max_p10.log\n",
      "aaai24_logs/test/n20-s0_dd_dlg_visitall_L4_H64_max_p10.log\n",
      "aaai24_logs/test/blocks15-task05_dd_slg_blocks_L4_H64_max_p10.log\n",
      "aaai24_logs/test/p-n11-b3-w3-s0_dd_dlg_sokoban_L4_H64_max_p10.log\n",
      "aaai24_logs/test/blocks35-task04_dd_llg_blocks_L4_H64_mean_p10.log\n",
      "aaai24_logs/test/n75-s1_dd_slg_visitsome_L4_H64_max_p10.log\n",
      "aaai24_logs/test/gripper-n30_dd_llg_gripper_L4_H64_max_p10.log\n",
      "aaai24_logs/test/n80-s1_dd_dlg_visitall_L4_H64_max_p10.log\n",
      "aaai24_logs/test/p-n10-b2-w3-s1_dd_llg_sokoban_L4_H64_max_p10.log\n",
      "aaai24_logs/test/p-n10-b3-w5-s0_dd_llg_sokoban_L4_H64_max_p10.log\n",
      "aaai24_logs/test/p-n9-b2-w5-s1_dd_llg_sokoban_L4_H64_mean_p10.log\n",
      "aaai24_logs/test/n15-s1_dd_llg_visitsome_L4_H64_max_p10.log\n",
      "aaai24_logs/test/p-n10-b3-w5-s0_dd_llg_sokoban_L4_H64_mean_p10.log\n",
      "aaai24_logs/test/n-puzzle-5x5-s8_dd_slg_n-puzzle_L4_H64_max_p10.log\n",
      "aaai24_logs/test/n15-s4_dd_llg_visitall_L4_H64_max_p10.log\n",
      "aaai24_logs/test/p-n8-b2-w4-s2_dd_llg_sokoban_L4_H64_mean_p10.log\n",
      "aaai24_logs/test/n-puzzle-7x7-s5_dd_dlg_n-puzzle_L4_H64_max_p10.log\n",
      "aaai24_logs/test/p-s35-n35-l23-seed2_dd_llg_spanner_L4_H64_max_p10.log\n",
      "aaai24_logs/test/blocks50-task01_dd_llg_blocks_L4_H64_mean_p10.log\n",
      "aaai24_logs/test/p-s40-n40-l26-seed5_dd_llg_spanner_L4_H64_max_p10.log\n",
      "aaai24_logs/test/p-n9-b3-w5-s1_dd_dlg_sokoban_L4_H64_max_p10.log\n",
      "aaai24_logs/test/p-s80-n80-l53-seed2_dd_llg_spanner_L4_H64_max_p10.log\n",
      "aaai24_logs/test/gripper-n95_dd_llg_gripper_L4_H64_mean_p10.log\n",
      "aaai24_logs/test/p-s25-n25-l16-seed5_dd_llg_spanner_L4_H64_max_p10.log\n",
      "aaai24_logs/test/n15-s2_dd_dlg_visitall_L4_H64_max_p10.log\n",
      "aaai24_logs/test/n40-s1_dd_dlg_visitsome_L4_H64_max_p10.log\n",
      "aaai24_logs/test/p-n9-b2-w3-s0_dd_dlg_sokoban_L4_H64_max_p10.log\n",
      "aaai24_logs/test/p-s65-n65-l43-seed3_dd_llg_spanner_L4_H64_max_p10.log\n",
      "aaai24_logs/test/p-n12-b2-w5-s0_dd_llg_sokoban_L4_H64_mean_p10.log\n",
      "aaai24_logs/test/blocks65-task05_dd_llg_blocks_L4_H64_mean_p10.log\n",
      "aaai24_logs/test/p-n9-b3-w3-s2_dd_llg_sokoban_L4_H64_max_p10.log\n",
      "aaai24_logs/test/n90-s0_dd_llg_visitsome_L4_H64_mean_p10.log\n",
      "aaai24_logs/test/n25-s0_dd_slg_visitsome_L4_H64_max_p10.log\n",
      "aaai24_logs/test/n65-s2_dd_slg_visitall_L4_H64_max_p10.log\n",
      "aaai24_logs/test/p-n12-b3-w3-s2_dd_slg_sokoban_L4_H64_max_p10.log\n",
      "aaai24_logs/test/n70-s4_dd_dlg_visitall_L4_H64_max_p10.log\n",
      "aaai24_logs/test/p-s15-n15-l10-seed5_dd_llg_spanner_L4_H64_max_p10.log\n",
      "aaai24_logs/test/blocks15-task03_dd_llg_blocks_L4_H64_max_p10.log\n",
      "aaai24_logs/test/gripper-n65_dd_dlg_gripper_L4_H64_max_p10.log\n",
      "aaai24_logs/test/gripper-n65_dd_dlg_gripper_L4_H64_mean_p10.log\n",
      "aaai24_logs/test/p-l15-c15-s1_dd_llg_ferry_L4_H64_mean_p10.log\n",
      "aaai24_logs/test/p-l25-c25-s4_dd_llg_ferry_L4_H64_mean_p10.log\n",
      "aaai24_logs/test/n-puzzle-5x5-s0_dd_dlg_n-puzzle_L4_H64_max_p10.log\n",
      "aaai24_logs/test/n80-s3_dd_slg_visitsome_L4_H64_max_p10.log\n",
      "aaai24_logs/test/n60-s1_dd_slg_visitall_L4_H64_max_p10.log\n",
      "aaai24_logs/test/p-s50-n50-l33-seed5_dd_llg_spanner_L4_H64_mean_p10.log\n",
      "aaai24_logs/test/p-n10-b2-w5-s2_dd_dlg_sokoban_L4_H64_max_p10.log\n",
      "aaai24_logs/test/p-l90-c90-s2_dd_llg_ferry_L4_H64_mean_p10.log\n",
      "aaai24_logs/test/p-s60-n60-l40-seed1_dd_llg_spanner_L4_H64_max_p10.log\n",
      "aaai24_logs/test/p-l80-c80-s1_dd_llg_ferry_L4_H64_mean_p10.log\n",
      "aaai24_logs/test/n20-s3_dd_llg_visitsome_L4_H64_mean_p10.log\n",
      "aaai24_logs/test/n60-s4_dd_llg_visitall_L4_H64_mean_p10.log\n",
      "aaai24_logs/test/p-n8-b3-w4-s0_dd_slg_sokoban_L4_H64_max_p10.log\n",
      "aaai24_logs/test/n40-s2_dd_llg_visitall_L4_H64_mean_p10.log\n",
      "aaai24_logs/test/n-puzzle-5x5-s6_dd_llg_n-puzzle_L4_H64_max_p10.log\n",
      "aaai24_logs/test/p-n11-b2-w3-s2_dd_llg_sokoban_L4_H64_max_p10.log\n",
      "aaai24_logs/test/n50-s0_dd_slg_visitall_L4_H64_max_p10.log\n",
      "aaai24_logs/test/p-n10-b2-w3-s2_dd_llg_sokoban_L4_H64_mean_p10.log\n",
      "aaai24_logs/test/blocks30-task01_dd_dlg_blocks_L4_H64_max_p10.log\n",
      "aaai24_logs/test/n35-s1_dd_slg_visitsome_L4_H64_max_p10.log\n",
      "aaai24_logs/test/n40-s1_dd_llg_visitsome_L4_H64_mean_p10.log\n",
      "aaai24_logs/test/n45-s0_dd_llg_visitall_L4_H64_max_p10.log\n",
      "aaai24_logs/test/blocks50-task04_dd_llg_blocks_L4_H64_mean_p10.log\n",
      "aaai24_logs/test/n100-s0_dd_slg_visitsome_L4_H64_max_p10.log\n",
      "aaai24_logs/test/p-n12-b2-w4-s1_dd_dlg_sokoban_L4_H64_max_p10.log\n",
      "aaai24_logs/test/n85-s4_dd_dlg_visitsome_L4_H64_max_p10.log\n",
      "aaai24_logs/test/n55-s3_dd_slg_visitall_L4_H64_max_p10.log\n",
      "aaai24_logs/test/gripper-n55_dd_llg_gripper_L4_H64_mean_p10.log\n",
      "aaai24_logs/test/p-n8-b3-w5-s2_dd_dlg_sokoban_L4_H64_max_p10.log\n",
      "aaai24_logs/test/n90-s2_dd_slg_visitsome_L4_H64_max_p10.log\n",
      "aaai24_logs/test/blocks25-task01_dd_slg_blocks_L4_H64_max_p10.log\n",
      "aaai24_logs/test/n40-s3_dd_llg_visitall_L4_H64_max_p10.log\n",
      "aaai24_logs/test/n70-s0_dd_llg_visitsome_L4_H64_mean_p10.log\n",
      "aaai24_logs/test/n-puzzle-6x6-s0_dd_slg_n-puzzle_L4_H64_max_p10.log\n",
      "aaai24_logs/test/p-s15-n15-l10-seed3_dd_llg_spanner_L4_H64_mean_p10.log\n",
      "aaai24_logs/test/gripper-n35_dd_llg_gripper_L4_H64_max_p10.log\n",
      "aaai24_logs/test/blocks35-task01_dd_llg_blocks_L4_H64_mean_p10.log\n",
      "aaai24_logs/test/p-n10-b2-w4-s0_dd_slg_sokoban_L4_H64_max_p10.log\n",
      "aaai24_logs/test/n50-s3_dd_llg_visitall_L4_H64_mean_p10.log\n",
      "aaai24_logs/test/n75-s3_dd_llg_visitsome_L4_H64_mean_p10.log\n",
      "aaai24_logs/test/p-n9-b2-w5-s0_dd_llg_sokoban_L4_H64_max_p10.log\n",
      "aaai24_logs/test/p-n12-b3-w3-s1_dd_slg_sokoban_L4_H64_max_p10.log\n",
      "aaai24_logs/test/p-s55-n55-l36-seed3_dd_llg_spanner_L4_H64_mean_p10.log\n",
      "aaai24_logs/test/n25-s4_dd_dlg_visitall_L4_H64_max_p10.log\n",
      "aaai24_logs/test/p-s40-n40-l26-seed4_dd_llg_spanner_L4_H64_mean_p10.log\n",
      "aaai24_logs/test/n25-s4_dd_slg_visitsome_L4_H64_max_p10.log\n",
      "aaai24_logs/test/p-n9-b3-w3-s1_dd_llg_sokoban_L4_H64_max_p10.log\n",
      "aaai24_logs/test/n25-s2_dd_llg_visitall_L4_H64_max_p10.log\n",
      "aaai24_logs/test/p-n12-b2-w5-s0_dd_slg_sokoban_L4_H64_max_p10.log\n",
      "aaai24_logs/test/n95-s1_dd_dlg_visitsome_L4_H64_max_p10.log\n",
      "aaai24_logs/test/p-l80-c80-s4_dd_llg_ferry_L4_H64_max_p10.log\n",
      "aaai24_logs/test/n30-s2_dd_slg_visitall_L4_H64_max_p10.log\n",
      "aaai24_logs/test/gripper-n25_dd_dlg_gripper_L4_H64_mean_p10.log\n",
      "aaai24_logs/test/blocks40-task03_dd_llg_blocks_L4_H64_max_p10.log\n",
      "aaai24_logs/test/p-s70-n70-l46-seed4_dd_llg_spanner_L4_H64_max_p10.log\n",
      "aaai24_logs/test/p-s60-n60-l40-seed2_dd_llg_spanner_L4_H64_max_p10.log\n",
      "aaai24_logs/test/p-s20-n20-l13-seed5_dd_slg_spanner_L4_H64_max_p10.log\n",
      "aaai24_logs/test/p-l100-c100-s1_dd_llg_ferry_L4_H64_max_p10.log\n",
      "aaai24_logs/test/p-n10-b3-w3-s0_dd_dlg_sokoban_L4_H64_max_p10.log\n",
      "aaai24_logs/test/n20-s1_dd_llg_visitall_L4_H64_max_p10.log\n",
      "aaai24_logs/test/p-s30-n30-l20-seed3_dd_llg_spanner_L4_H64_max_p10.log\n",
      "aaai24_logs/test/n30-s2_dd_dlg_visitsome_L4_H64_max_p10.log\n",
      "aaai24_logs/test/n60-s0_dd_llg_visitall_L4_H64_mean_p10.log\n",
      "aaai24_logs/test/p-n10-b2-w5-s1_dd_dlg_sokoban_L4_H64_max_p10.log\n",
      "aaai24_logs/test/n45-s2_dd_llg_visitsome_L4_H64_mean_p10.log\n",
      "aaai24_logs/test/n35-s1_dd_slg_visitall_L4_H64_max_p10.log\n",
      "aaai24_logs/test/p-n12-b2-w4-s2_dd_dlg_sokoban_L4_H64_max_p10.log\n",
      "aaai24_logs/test/n25-s0_dd_llg_visitsome_L4_H64_mean_p10.log\n",
      "aaai24_logs/test/p-s35-n35-l23-seed4_dd_llg_spanner_L4_H64_max_p10.log\n",
      "aaai24_logs/test/p-n11-b3-w5-s0_dd_llg_sokoban_L4_H64_max_p10.log\n",
      "aaai24_logs/test/p-n9-b2-w4-s1_dd_llg_sokoban_L4_H64_mean_p10.log\n",
      "aaai24_logs/test/p-s40-n40-l26-seed3_dd_llg_spanner_L4_H64_max_p10.log\n",
      "aaai24_logs/test/p-s80-n80-l53-seed4_dd_llg_spanner_L4_H64_max_p10.log\n",
      "aaai24_logs/test/p-n10-b3-w4-s0_dd_llg_sokoban_L4_H64_mean_p10.log\n",
      "aaai24_logs/test/n15-s3_dd_slg_visitsome_L4_H64_max_p10.log\n",
      "aaai24_logs/test/n100-s4_dd_slg_visitsome_L4_H64_max_p10.log\n",
      "aaai24_logs/test/p-s65-n65-l43-seed5_dd_llg_spanner_L4_H64_max_p10.log\n",
      "aaai24_logs/test/p-n11-b2-w3-s1_dd_llg_sokoban_L4_H64_max_p10.log\n",
      "aaai24_logs/test/n85-s0_dd_dlg_visitsome_L4_H64_max_p10.log\n",
      "aaai24_logs/test/gripper-n40_dd_llg_gripper_L4_H64_max_p10.log\n",
      "aaai24_logs/test/p-l90-c90-s4_dd_llg_ferry_L4_H64_max_p10.log\n",
      "aaai24_logs/test/p-s25-n25-l16-seed3_dd_llg_spanner_L4_H64_max_p10.log\n",
      "aaai24_logs/test/p-l75-c75-s2_dd_llg_ferry_L4_H64_mean_p10.log\n",
      "aaai24_logs/test/blocks35-task02_dd_llg_blocks_L4_H64_mean_p10.log\n",
      "aaai24_logs/test/p-n8-b2-w3-s0_dd_dlg_sokoban_L4_H64_max_p10.log\n",
      "aaai24_logs/test/gripper-n15_dd_llg_gripper_L4_H64_mean_p10.log\n",
      "aaai24_logs/test/p-l65-c65-s1_dd_llg_ferry_L4_H64_mean_p10.log\n",
      "aaai24_logs/test/p-l55-c55-s4_dd_llg_ferry_L4_H64_mean_p10.log\n",
      "aaai24_logs/test/p-n8-b2-w5-s2_dd_llg_sokoban_L4_H64_mean_p10.log\n",
      "aaai24_logs/test/n-puzzle-7x7-s2_dd_dlg_n-puzzle_L4_H64_max_p10.log\n",
      "aaai24_logs/test/n20-s3_dd_dlg_visitsome_L4_H64_max_p10.log\n",
      "aaai24_logs/test/n15-s1_dd_llg_visitsome_L4_H64_mean_p10.log\n",
      "aaai24_logs/test/p-n8-b3-w5-s1_dd_dlg_sokoban_L4_H64_max_p10.log\n",
      "aaai24_logs/test/n50-s4_dd_llg_visitsome_L4_H64_mean_p10.log\n",
      "aaai24_logs/test/n15-s3_dd_llg_visitall_L4_H64_max_p10.log\n",
      "aaai24_logs/test/p-l15-c15-s5_dd_llg_ferry_L4_H64_mean_p10.log\n",
      "aaai24_logs/test/p-l60-c60-s4_dd_llg_ferry_L4_H64_max_p10.log\n",
      "aaai24_logs/test/p-l35-c35-s3_dd_llg_ferry_L4_H64_mean_p10.log\n",
      "aaai24_logs/test/blocks35-task04_dd_llg_blocks_L4_H64_max_p10.log\n",
      "aaai24_logs/test/n35-s3_dd_dlg_visitsome_L4_H64_max_p10.log\n",
      "aaai24_logs/test/p-l35-c35-s4_dd_slg_ferry_L4_H64_max_p10.log\n",
      "aaai24_logs/test/gripper-n70_dd_llg_gripper_L4_H64_mean_p10.log\n",
      "aaai24_logs/test/n-puzzle-5x5-s9_dd_dlg_n-puzzle_L4_H64_max_p10.log\n",
      "aaai24_logs/test/n65-s1_dd_llg_visitall_L4_H64_mean_p10.log\n",
      "aaai24_logs/test/p-l80-c80-s5_dd_llg_ferry_L4_H64_mean_p10.log\n",
      "aaai24_logs/test/n100-s2_dd_dlg_visitsome_L4_H64_max_p10.log\n",
      "aaai24_logs/test/p-s20-n20-l13-seed1_dd_dlg_spanner_L4_H64_max_p10.log\n",
      "aaai24_logs/test/p-n10-b3-w4-s0_dd_llg_sokoban_L4_H64_max_p10.log\n",
      "aaai24_logs/test/p-n11-b3-w3-s2_dd_slg_sokoban_L4_H64_max_p10.log\n",
      "aaai24_logs/test/p-n9-b3-w4-s1_dd_dlg_sokoban_L4_H64_max_p10.log\n",
      "aaai24_logs/test/blocks45-task02_dd_llg_blocks_L4_H64_mean_p10.log\n",
      "aaai24_logs/test/n15-s3_dd_slg_visitall_L4_H64_max_p10.log\n",
      "aaai24_logs/test/n90-s0_dd_dlg_visitsome_L4_H64_max_p10.log\n",
      "aaai24_logs/test/p-s20-n20-l13-seed1_dd_llg_spanner_L4_H64_mean_p10.log\n",
      "aaai24_logs/test/p-l45-c45-s5_dd_slg_ferry_L4_H64_max_p10.log\n",
      "aaai24_logs/test/n-puzzle-7x7-s4_dd_slg_n-puzzle_L4_H64_max_p10.log\n",
      "aaai24_logs/test/p-l70-c70-s4_dd_llg_ferry_L4_H64_max_p10.log\n",
      "aaai24_logs/test/p-s30-n30-l20-seed5_dd_llg_spanner_L4_H64_mean_p10.log\n",
      "aaai24_logs/test/n30-s2_dd_llg_visitall_L4_H64_max_p10.log\n",
      "aaai24_logs/test/blocks25-task05_dd_slg_blocks_L4_H64_max_p10.log\n",
      "aaai24_logs/test/n25-s2_dd_slg_visitall_L4_H64_max_p10.log\n",
      "aaai24_logs/test/p-l25-c25-s4_dd_slg_ferry_L4_H64_max_p10.log\n",
      "aaai24_logs/test/n25-s2_dd_dlg_visitsome_L4_H64_max_p10.log\n",
      "aaai24_logs/test/blocks55-task01_dd_llg_blocks_L4_H64_max_p10.log\n",
      "aaai24_logs/test/p-l100-c100-s3_dd_llg_ferry_L4_H64_max_p10.log\n",
      "aaai24_logs/test/n30-s4_dd_dlg_visitall_L4_H64_max_p10.log\n",
      "aaai24_logs/test/p-n10-b2-w5-s1_dd_llg_sokoban_L4_H64_mean_p10.log\n",
      "aaai24_logs/test/p-n9-b3-w5-s0_dd_llg_sokoban_L4_H64_mean_p10.log\n",
      "aaai24_logs/test/p-n8-b2-w4-s0_dd_llg_sokoban_L4_H64_max_p10.log\n",
      "aaai24_logs/test/n-puzzle-6x6-s9_dd_slg_n-puzzle_L4_H64_max_p10.log\n",
      "aaai24_logs/test/p-n11-b2-w4-s2_dd_llg_sokoban_L4_H64_mean_p10.log\n",
      "aaai24_logs/test/n35-s1_dd_llg_visitall_L4_H64_max_p10.log\n",
      "aaai24_logs/test/p-n11-b2-w4-s1_dd_dlg_sokoban_L4_H64_max_p10.log\n",
      "aaai24_logs/test/p-n9-b2-w3-s2_dd_slg_sokoban_L4_H64_max_p10.log\n",
      "aaai24_logs/test/n20-s1_dd_slg_visitall_L4_H64_max_p10.log\n",
      "aaai24_logs/test/blocks30-task05_dd_dlg_blocks_L4_H64_max_p10.log\n",
      "aaai24_logs/test/n80-s1_dd_dlg_visitsome_L4_H64_max_p10.log\n",
      "aaai24_logs/test/p-n12-b2-w3-s2_dd_llg_sokoban_L4_H64_max_p10.log\n",
      "aaai24_logs/test/p-l55-c55-s5_dd_slg_ferry_L4_H64_max_p10.log\n",
      "aaai24_logs/test/blocks70-task03_dd_llg_blocks_L4_H64_mean_p10.log\n",
      "aaai24_logs/test/gripper-n40_dd_dlg_gripper_L4_H64_mean_p10.log\n",
      "aaai24_logs/test/n30-s4_dd_slg_visitsome_L4_H64_max_p10.log\n",
      "aaai24_logs/test/p-s60-n60-l40-seed5_dd_llg_spanner_L4_H64_mean_p10.log\n",
      "aaai24_logs/test/blocks30-task03_dd_slg_blocks_L4_H64_max_p10.log\n",
      "aaai24_logs/test/p-l40-c40-s4_dd_llg_ferry_L4_H64_max_p10.log\n",
      "aaai24_logs/test/n15-s1_dd_dlg_visitsome_L4_H64_max_p10.log\n",
      "aaai24_logs/test/p-l15-c15-s4_dd_slg_ferry_L4_H64_max_p10.log\n",
      "aaai24_logs/test/n45-s3_dd_llg_visitall_L4_H64_mean_p10.log\n",
      "aaai24_logs/test/p-s20-n20-l13-seed2_dd_dlg_spanner_L4_H64_max_p10.log\n",
      "aaai24_logs/test/gripper-n30_dd_llg_gripper_L4_H64_mean_p10.log\n",
      "aaai24_logs/test/n45-s0_dd_slg_visitall_L4_H64_max_p10.log\n",
      "aaai24_logs/test/n50-s0_dd_llg_visitall_L4_H64_max_p10.log\n",
      "aaai24_logs/test/p-l30-c30-s4_dd_dlg_ferry_L4_H64_max_p10.log\n",
      "aaai24_logs/test/blocks20-task04_dd_llg_blocks_L4_H64_mean_p10.log\n",
      "aaai24_logs/test/n85-s2_dd_slg_visitsome_L4_H64_max_p10.log\n",
      "aaai24_logs/test/p-n12-b3-w4-s1_dd_llg_sokoban_L4_H64_mean_p10.log\n",
      "aaai24_logs/test/p-n11-b2-w5-s0_dd_slg_sokoban_L4_H64_max_p10.log\n",
      "aaai24_logs/test/p-l40-c40-s5_dd_dlg_ferry_L4_H64_max_p10.log\n",
      "aaai24_logs/test/blocks25-task03_dd_dlg_blocks_L4_H64_max_p10.log\n",
      "aaai24_logs/test/n40-s1_dd_llg_visitsome_L4_H64_max_p10.log\n",
      "aaai24_logs/test/n90-s4_dd_dlg_visitsome_L4_H64_max_p10.log\n",
      "aaai24_logs/test/n-puzzle-6x6-s6_dd_dlg_n-puzzle_L4_H64_max_p10.log\n",
      "aaai24_logs/test/p-n11-b3-w3-s1_dd_slg_sokoban_L4_H64_max_p10.log\n",
      "aaai24_logs/test/p-n9-b3-w4-s2_dd_dlg_sokoban_L4_H64_max_p10.log\n",
      "aaai24_logs/test/blocks45-task01_dd_llg_blocks_L4_H64_mean_p10.log\n",
      "aaai24_logs/test/n40-s3_dd_slg_visitall_L4_H64_max_p10.log\n",
      "aaai24_logs/test/p-l30-c30-s5_dd_llg_ferry_L4_H64_max_p10.log\n",
      "aaai24_logs/test/n55-s3_dd_llg_visitall_L4_H64_max_p10.log\n",
      "aaai24_logs/test/n20-s1_dd_slg_visitsome_L4_H64_max_p10.log\n",
      "aaai24_logs/test/n65-s4_dd_dlg_visitall_L4_H64_max_p10.log\n",
      "aaai24_logs/test/blocks20-task02_dd_llg_blocks_L4_H64_max_p10.log\n",
      "aaai24_logs/test/p-l50-c50-s4_dd_llg_ferry_L4_H64_max_p10.log\n",
      "aaai24_logs/test/n55-s2_dd_llg_visitall_L4_H64_mean_p10.log\n",
      "aaai24_logs/test/p-l65-c65-s5_dd_llg_ferry_L4_H64_mean_p10.log\n",
      "aaai24_logs/test/p-l45-c45-s3_dd_llg_ferry_L4_H64_mean_p10.log\n",
      "aaai24_logs/test/blocks15-task05_dd_llg_blocks_L4_H64_mean_p10.log\n",
      "aaai24_logs/test/n65-s2_dd_llg_visitall_L4_H64_max_p10.log\n",
      "aaai24_logs/test/p-l20-c20-s4_dd_dlg_ferry_L4_H64_max_p10.log\n",
      "aaai24_logs/test/n95-s3_dd_slg_visitsome_L4_H64_max_p10.log\n",
      "aaai24_logs/test/p-n11-b3-w3-s0_dd_llg_sokoban_L4_H64_mean_p10.log\n",
      "aaai24_logs/test/n-puzzle-5x5-s6_dd_slg_n-puzzle_L4_H64_max_p10.log\n",
      "aaai24_logs/test/p-n12-b2-w3-s1_dd_llg_sokoban_L4_H64_max_p10.log\n",
      "aaai24_logs/test/p-n9-b3-w5-s0_dd_slg_sokoban_L4_H64_max_p10.log\n",
      "aaai24_logs/test/p-l50-c50-s5_dd_dlg_ferry_L4_H64_max_p10.log\n",
      "aaai24_logs/test/p-n8-b2-w3-s1_dd_llg_sokoban_L4_H64_mean_p10.log\n",
      "aaai24_logs/test/p-n12-b3-w5-s0_dd_llg_sokoban_L4_H64_max_p10.log\n",
      "aaai24_logs/test/p-n11-b2-w4-s2_dd_dlg_sokoban_L4_H64_max_p10.log\n",
      "aaai24_logs/test/p-n9-b2-w3-s1_dd_slg_sokoban_L4_H64_max_p10.log\n",
      "aaai24_logs/test/p-s50-n50-l33-seed5_dd_llg_spanner_L4_H64_max_p10.log\n",
      "aaai24_logs/test/n60-s1_dd_llg_visitall_L4_H64_max_p10.log\n",
      "aaai24_logs/test/p-l20-c20-s5_dd_llg_ferry_L4_H64_max_p10.log\n",
      "aaai24_logs/test/n30-s0_dd_slg_visitsome_L4_H64_max_p10.log\n",
      "aaai24_logs/test/n55-s1_dd_dlg_visitsome_L4_H64_max_p10.log\n",
      "aaai24_logs/test/n-puzzle-5x5-s8_dd_llg_n-puzzle_L4_H64_max_p10.log\n",
      "aaai24_logs/test/n-puzzle-5x5-s6_dd_llg_n-puzzle_L4_H64_mean_p10.log\n",
      "aaai24_logs/test/p-l20-c20-s4_dd_llg_ferry_L4_H64_max_p10.log\n",
      "aaai24_logs/test/blocks45-task04_dd_llg_blocks_L4_H64_mean_p10.log\n",
      "aaai24_logs/test/n60-s4_dd_llg_visitsome_L4_H64_mean_p10.log\n",
      "aaai24_logs/test/p-n12-b2-w5-s2_dd_dlg_sokoban_L4_H64_max_p10.log\n",
      "aaai24_logs/test/n25-s1_dd_llg_visitsome_L4_H64_mean_p10.log\n",
      "aaai24_logs/test/p-n11-b3-w4-s0_dd_llg_sokoban_L4_H64_max_p10.log\n",
      "aaai24_logs/test/p-l50-c50-s4_dd_dlg_ferry_L4_H64_max_p10.log\n",
      "aaai24_logs/test/blocks20-task01_dd_llg_blocks_L4_H64_mean_p10.log\n",
      "aaai24_logs/test/blocks30-task05_dd_llg_blocks_L4_H64_max_p10.log\n",
      "aaai24_logs/test/n-puzzle-7x7-s3_dd_slg_n-puzzle_L4_H64_max_p10.log\n",
      "aaai24_logs/test/p-l20-c20-s5_dd_dlg_ferry_L4_H64_max_p10.log\n",
      "aaai24_logs/test/p-n10-b3-w3-s2_dd_slg_sokoban_L4_H64_max_p10.log\n",
      "aaai24_logs/test/p-n8-b3-w4-s1_dd_dlg_sokoban_L4_H64_max_p10.log\n",
      "aaai24_logs/test/n15-s0_dd_llg_visitsome_L4_H64_mean_p10.log\n",
      "aaai24_logs/test/n60-s1_dd_slg_visitsome_L4_H64_max_p10.log\n",
      "aaai24_logs/test/p-l50-c50-s5_dd_llg_ferry_L4_H64_max_p10.log\n",
      "aaai24_logs/test/n15-s4_dd_slg_visitall_L4_H64_max_p10.log\n",
      "aaai24_logs/test/n15-s2_dd_llg_visitall_L4_H64_mean_p10.log\n",
      "aaai24_logs/test/n45-s0_dd_dlg_visitsome_L4_H64_max_p10.log\n",
      "aaai24_logs/test/n35-s4_dd_llg_visitall_L4_H64_mean_p10.log\n",
      "aaai24_logs/test/p-n10-b2-w4-s1_dd_llg_sokoban_L4_H64_mean_p10.log\n",
      "aaai24_logs/test/blocks35-task04_dd_dlg_blocks_L4_H64_max_p10.log\n",
      "aaai24_logs/test/p-n9-b2-w4-s0_dd_llg_sokoban_L4_H64_max_p10.log\n",
      "aaai24_logs/test/p-l30-c30-s4_dd_llg_ferry_L4_H64_max_p10.log\n",
      "aaai24_logs/test/n75-s2_dd_llg_visitsome_L4_H64_mean_p10.log\n",
      "aaai24_logs/test/n30-s3_dd_dlg_visitall_L4_H64_max_p10.log\n",
      "aaai24_logs/test/p-l30-c30-s3_dd_llg_ferry_L4_H64_mean_p10.log\n",
      "aaai24_logs/test/p-n9-b3-w4-s0_dd_llg_sokoban_L4_H64_mean_p10.log\n",
      "aaai24_logs/test/p-l40-c40-s4_dd_dlg_ferry_L4_H64_max_p10.log\n",
      "aaai24_logs/test/p-l85-c85-s5_dd_llg_ferry_L4_H64_mean_p10.log\n",
      "aaai24_logs/test/p-s30-n30-l20-seed2_dd_llg_spanner_L4_H64_mean_p10.log\n",
      "aaai24_logs/test/blocks70-task05_dd_llg_blocks_L4_H64_mean_p10.log\n",
      "aaai24_logs/test/p-n12-b2-w4-s0_dd_slg_sokoban_L4_H64_max_p10.log\n",
      "aaai24_logs/test/p-s60-n60-l40-seed2_dd_llg_spanner_L4_H64_mean_p10.log\n",
      "aaai24_logs/test/p-l30-c30-s5_dd_dlg_ferry_L4_H64_max_p10.log\n",
      "aaai24_logs/test/blocks20-task04_dd_slg_blocks_L4_H64_max_p10.log\n",
      "aaai24_logs/test/n35-s0_dd_dlg_visitall_L4_H64_max_p10.log\n",
      "aaai24_logs/test/n45-s3_dd_llg_visitsome_L4_H64_mean_p10.log\n",
      "aaai24_logs/test/p-n10-b2-w4-s1_dd_dlg_sokoban_L4_H64_max_p10.log\n",
      "aaai24_logs/test/p-n8-b2-w3-s2_dd_slg_sokoban_L4_H64_max_p10.log\n",
      "aaai24_logs/test/p-n11-b2-w5-s2_dd_llg_sokoban_L4_H64_mean_p10.log\n",
      "aaai24_logs/test/n70-s0_dd_slg_visitsome_L4_H64_max_p10.log\n",
      "aaai24_logs/test/p-l40-c40-s5_dd_llg_ferry_L4_H64_max_p10.log\n",
      "aaai24_logs/test/p-l15-c15-s5_dd_slg_ferry_L4_H64_max_p10.log\n",
      "aaai24_logs/test/n80-s4_dd_llg_visitsome_L4_H64_mean_p10.log\n",
      "aaai24_logs/test/p-l60-c60-s5_dd_llg_ferry_L4_H64_mean_p10.log\n",
      "aaai24_logs/test/p-l55-c55-s4_dd_slg_ferry_L4_H64_max_p10.log\n",
      "aaai24_logs/test/n75-s3_dd_dlg_visitsome_L4_H64_max_p10.log\n",
      "aaai24_logs/test/p-l40-c40-s3_dd_llg_ferry_L4_H64_mean_p10.log\n",
      "aaai24_logs/test/n25-s1_dd_llg_visitall_L4_H64_mean_p10.log\n",
      "aaai24_logs/test/n40-s0_dd_llg_visitsome_L4_H64_mean_p10.log\n",
      "aaai24_logs/test/blocks20-task02_dd_dlg_blocks_L4_H64_max_p10.log\n",
      "aaai24_logs/test/n-puzzle-5x5-s2_dd_llg_n-puzzle_L4_H64_mean_p10.log\n",
      "aaai24_logs/test/p-n12-b3-w5-s1_dd_llg_sokoban_L4_H64_mean_p10.log\n",
      "aaai24_logs/test/p-n12-b3-w3-s0_dd_dlg_sokoban_L4_H64_max_p10.log\n",
      "aaai24_logs/test/n50-s1_dd_dlg_visitall_L4_H64_max_p10.log\n",
      "aaai24_logs/test/p-n12-b2-w5-s1_dd_dlg_sokoban_L4_H64_max_p10.log\n",
      "aaai24_logs/test/blocks15-task01_dd_slg_blocks_L4_H64_max_p10.log\n",
      "aaai24_logs/test/p-n10-b3-w3-s1_dd_slg_sokoban_L4_H64_max_p10.log\n",
      "aaai24_logs/test/p-n8-b3-w4-s2_dd_dlg_sokoban_L4_H64_max_p10.log\n",
      "aaai24_logs/test/n20-s3_dd_llg_visitsome_L4_H64_max_p10.log\n",
      "aaai24_logs/test/p-s20-n20-l13-seed4_dd_dlg_spanner_L4_H64_max_p10.log\n",
      "aaai24_logs/test/n55-s4_dd_llg_visitall_L4_H64_max_p10.log\n",
      "aaai24_logs/test/n-puzzle-6x6-s1_dd_dlg_n-puzzle_L4_H64_max_p10.log\n",
      "aaai24_logs/test/n40-s4_dd_slg_visitall_L4_H64_max_p10.log\n",
      "aaai24_logs/test/p-l70-c70-s5_dd_llg_ferry_L4_H64_max_p10.log\n",
      "aaai24_logs/test/n55-s2_dd_dlg_visitall_L4_H64_max_p10.log\n",
      "aaai24_logs/test/n40-s3_dd_slg_visitsome_L4_H64_max_p10.log\n",
      "aaai24_logs/test/p-n10-b2-w5-s0_dd_slg_sokoban_L4_H64_max_p10.log\n",
      "aaai24_logs/test/blocks20-task02_dd_llg_blocks_L4_H64_mean_p10.log\n",
      "aaai24_logs/test/n70-s1_dd_llg_visitsome_L4_H64_mean_p10.log\n",
      "aaai24_logs/test/n35-s4_dd_llg_visitsome_L4_H64_mean_p10.log\n",
      "aaai24_logs/test/p-l25-c25-s5_dd_slg_ferry_L4_H64_max_p10.log\n",
      "aaai24_logs/test/p-l100-c100-s2_dd_llg_ferry_L4_H64_max_p10.log\n",
      "aaai24_logs/test/p-l45-c45-s4_dd_slg_ferry_L4_H64_max_p10.log\n",
      "aaai24_logs/test/n45-s4_dd_dlg_visitsome_L4_H64_max_p10.log\n",
      "aaai24_logs/test/n35-s0_dd_llg_visitall_L4_H64_mean_p10.log\n",
      "aaai24_logs/test/n65-s2_dd_dlg_visitsome_L4_H64_max_p10.log\n",
      "aaai24_logs/test/p-n9-b2-w3-s2_dd_llg_sokoban_L4_H64_mean_p10.log\n",
      "aaai24_logs/test/n90-s1_dd_llg_visitsome_L4_H64_mean_p10.log\n",
      "aaai24_logs/test/p-s50-n50-l33-seed3_dd_llg_spanner_L4_H64_max_p10.log\n",
      "aaai24_logs/test/n65-s3_dd_dlg_visitall_L4_H64_max_p10.log\n",
      "aaai24_logs/test/p-n10-b2-w4-s2_dd_dlg_sokoban_L4_H64_max_p10.log\n",
      "aaai24_logs/test/p-n8-b2-w3-s1_dd_slg_sokoban_L4_H64_max_p10.log\n",
      "aaai24_logs/test/blocks25-task03_dd_llg_blocks_L4_H64_max_p10.log\n",
      "aaai24_logs/test/blocks15-task03_dd_llg_blocks_L4_H64_mean_p10.log\n",
      "aaai24_logs/test/n30-s2_dd_llg_visitsome_L4_H64_max_p10.log\n",
      "aaai24_logs/test/p-s45-n45-l30-seed1_dd_llg_spanner_L4_H64_mean_p10.log\n",
      "aaai24_logs/test/p-l60-c60-s5_dd_llg_ferry_L4_H64_max_p10.log\n",
      "aaai24_logs/test/n50-s2_dd_slg_visitsome_L4_H64_max_p10.log\n",
      "aaai24_logs/test/n70-s4_dd_slg_visitsome_L4_H64_max_p10.log\n",
      "aaai24_logs/test/p-n8-b3-w5-s0_dd_slg_sokoban_L4_H64_max_p10.log\n",
      "aaai24_logs/test/n-puzzle-5x5-s1_dd_slg_n-puzzle_L4_H64_max_p10.log\n",
      "aaai24_logs/test/n20-s2_dd_llg_visitsome_L4_H64_mean_p10.log\n",
      "aaai24_logs/test/p-l35-c35-s5_dd_slg_ferry_L4_H64_max_p10.log\n",
      "aaai24_logs/test/n60-s0_dd_dlg_visitall_L4_H64_max_p10.log\n",
      "aaai24_logs/test/n40-s0_dd_llg_visitall_L4_H64_max_p10.log\n",
      "aaai24_logs/test/blocks30-task02_dd_slg_blocks_L4_H64_max_p10.log\n",
      "aaai24_logs/test/n80-s0_dd_dlg_visitsome_L4_H64_max_p10.log\n",
      "aaai24_logs/test/p-n9-b2-w4-s1_dd_dlg_sokoban_L4_H64_max_p10.log\n",
      "aaai24_logs/test/p-n11-b2-w3-s2_dd_slg_sokoban_L4_H64_max_p10.log\n",
      "aaai24_logs/test/p-l90-c90-s3_dd_llg_ferry_L4_H64_max_p10.log\n",
      "aaai24_logs/test/n55-s0_dd_slg_visitall_L4_H64_max_p10.log\n",
      "aaai24_logs/test/gripper-n50_dd_dlg_gripper_L4_H64_mean_p10.log\n",
      "aaai24_logs/test/n-puzzle-6x6-s3_dd_slg_n-puzzle_L4_H64_max_p10.log\n",
      "aaai24_logs/test/n75-s1_dd_llg_visitsome_L4_H64_mean_p10.log\n",
      "aaai24_logs/test/n30-s4_dd_llg_visitsome_L4_H64_mean_p10.log\n",
      "aaai24_logs/test/blocks40-task04_dd_llg_blocks_L4_H64_mean_p10.log\n",
      "aaai24_logs/test/n45-s3_dd_llg_visitall_L4_H64_max_p10.log\n",
      "aaai24_logs/test/n25-s3_dd_dlg_visitsome_L4_H64_max_p10.log\n",
      "aaai24_logs/test/p-n10-b2-w3-s1_dd_llg_sokoban_L4_H64_mean_p10.log\n",
      "aaai24_logs/test/blocks25-task02_dd_dlg_blocks_L4_H64_max_p10.log\n",
      "aaai24_logs/test/n45-s0_dd_llg_visitsome_L4_H64_mean_p10.log\n",
      "aaai24_logs/test/n50-s3_dd_slg_visitall_L4_H64_max_p10.log\n",
      "aaai24_logs/test/p-n9-b3-w3-s0_dd_llg_sokoban_L4_H64_mean_p10.log\n",
      "aaai24_logs/test/gripper-n35_dd_slg_gripper_L4_H64_max_p10.log\n",
      "aaai24_logs/test/blocks25-task01_dd_llg_blocks_L4_H64_mean_p10.log\n",
      "aaai24_logs/test/p-l60-c60-s1_dd_llg_ferry_L4_H64_max_p10.log\n",
      "aaai24_logs/test/p-n10-b2-w4-s0_dd_llg_sokoban_L4_H64_max_p10.log\n",
      "aaai24_logs/test/p-l35-c35-s1_dd_slg_ferry_L4_H64_max_p10.log\n",
      "aaai24_logs/test/n40-s4_dd_llg_visitsome_L4_H64_max_p10.log\n",
      "aaai24_logs/test/n60-s2_dd_slg_visitall_L4_H64_max_p10.log\n",
      "aaai24_logs/test/n-puzzle-5x5-s3_dd_dlg_n-puzzle_L4_H64_max_p10.log\n",
      "aaai24_logs/test/n90-s1_dd_dlg_visitsome_L4_H64_max_p10.log\n",
      "aaai24_logs/test/blocks20-task03_dd_llg_blocks_L4_H64_max_p10.log\n",
      "aaai24_logs/test/p-l80-c80-s3_dd_llg_ferry_L4_H64_max_p10.log\n",
      "aaai24_logs/test/blocks75-task05_dd_llg_blocks_L4_H64_mean_p10.log\n",
      "aaai24_logs/test/p-l65-c65-s4_dd_llg_ferry_L4_H64_mean_p10.log\n",
      "aaai24_logs/test/p-l55-c55-s1_dd_llg_ferry_L4_H64_mean_p10.log\n",
      "aaai24_logs/test/p-n9-b3-w3-s2_dd_slg_sokoban_L4_H64_max_p10.log\n",
      "aaai24_logs/test/p-n11-b3-w4-s1_dd_dlg_sokoban_L4_H64_max_p10.log\n",
      "aaai24_logs/test/p-l45-c45-s2_dd_llg_ferry_L4_H64_mean_p10.log\n",
      "aaai24_logs/test/n-puzzle-5x5-s5_dd_llg_n-puzzle_L4_H64_max_p10.log\n",
      "aaai24_logs/test/n20-s4_dd_slg_visitsome_L4_H64_max_p10.log\n",
      "aaai24_logs/test/n75-s4_dd_dlg_visitall_L4_H64_max_p10.log\n",
      "aaai24_logs/test/p-n12-b3-w3-s2_dd_llg_sokoban_L4_H64_max_p10.log\n",
      "aaai24_logs/test/n25-s2_dd_llg_visitsome_L4_H64_mean_p10.log\n",
      "aaai24_logs/test/p-s15-n15-l10-seed5_dd_slg_spanner_L4_H64_max_p10.log\n",
      "aaai24_logs/test/n15-s4_dd_dlg_visitsome_L4_H64_max_p10.log\n",
      "aaai24_logs/test/n65-s1_dd_slg_visitall_L4_H64_max_p10.log\n",
      "aaai24_logs/test/n65-s0_dd_llg_visitall_L4_H64_mean_p10.log\n",
      "aaai24_logs/test/n15-s3_dd_llg_visitsome_L4_H64_mean_p10.log\n",
      "aaai24_logs/test/gripper-n60_dd_llg_gripper_L4_H64_mean_p10.log\n",
      "aaai24_logs/test/n35-s2_dd_dlg_visitsome_L4_H64_max_p10.log\n",
      "aaai24_logs/test/n95-s1_dd_llg_visitsome_L4_H64_mean_p10.log\n",
      "aaai24_logs/test/gripper-n55_dd_dlg_gripper_L4_H64_max_p10.log\n",
      "aaai24_logs/test/p-l70-c70-s1_dd_llg_ferry_L4_H64_max_p10.log\n",
      "aaai24_logs/test/p-n8-b3-w4-s0_dd_llg_sokoban_L4_H64_max_p10.log\n",
      "aaai24_logs/test/n100-s3_dd_dlg_visitsome_L4_H64_max_p10.log\n",
      "aaai24_logs/test/p-l25-c25-s1_dd_slg_ferry_L4_H64_max_p10.log\n",
      "aaai24_logs/test/p-l15-c15-s4_dd_llg_ferry_L4_H64_mean_p10.log\n",
      "aaai24_logs/test/p-l25-c25-s1_dd_llg_ferry_L4_H64_mean_p10.log\n",
      "aaai24_logs/test/p-l35-c35-s2_dd_llg_ferry_L4_H64_mean_p10.log\n",
      "aaai24_logs/test/n80-s4_dd_dlg_visitsome_L4_H64_max_p10.log\n",
      "aaai24_logs/test/blocks35-task05_dd_llg_blocks_L4_H64_max_p10.log\n",
      "aaai24_logs/test/p-n11-b3-w5-s0_dd_slg_sokoban_L4_H64_max_p10.log\n",
      "aaai24_logs/test/gripper-n40_dd_slg_gripper_L4_H64_max_p10.log\n",
      "aaai24_logs/test/n15-s0_dd_llg_visitall_L4_H64_max_p10.log\n",
      "aaai24_logs/test/p-n11-b3-w5-s0_dd_llg_sokoban_L4_H64_mean_p10.log\n",
      "aaai24_logs/test/p-l80-c80-s4_dd_llg_ferry_L4_H64_mean_p10.log\n",
      "aaai24_logs/test/n30-s1_dd_slg_visitsome_L4_H64_max_p10.log\n",
      "aaai24_logs/test/n-puzzle-7x7-s1_dd_dlg_n-puzzle_L4_H64_max_p10.log\n",
      "aaai24_logs/test/p-n8-b2-w5-s1_dd_llg_sokoban_L4_H64_mean_p10.log\n",
      "aaai24_logs/test/p-n9-b2-w4-s2_dd_dlg_sokoban_L4_H64_max_p10.log\n",
      "aaai24_logs/test/p-n11-b2-w3-s1_dd_slg_sokoban_L4_H64_max_p10.log\n",
      "aaai24_logs/test/n90-s2_dd_llg_visitsome_L4_H64_mean_p10.log\n",
      "aaai24_logs/test/n55-s3_dd_llg_visitall_L4_H64_mean_p10.log\n",
      "aaai24_logs/test/blocks25-task02_dd_llg_blocks_L4_H64_mean_p10.log\n",
      "aaai24_logs/test/p-l30-c30-s1_dd_dlg_ferry_L4_H64_max_p10.log\n",
      "aaai24_logs/test/p-n9-b2-w4-s2_dd_llg_sokoban_L4_H64_mean_p10.log\n",
      "aaai24_logs/test/n65-s4_dd_llg_visitsome_L4_H64_mean_p10.log\n",
      "aaai24_logs/test/n20-s1_dd_llg_visitsome_L4_H64_mean_p10.log\n",
      "aaai24_logs/test/gripper-n70_dd_llg_gripper_L4_H64_max_p10.log\n",
      "aaai24_logs/test/n95-s2_dd_slg_visitsome_L4_H64_max_p10.log\n",
      "aaai24_logs/test/p-l40-c40-s1_dd_llg_ferry_L4_H64_max_p10.log\n",
      "aaai24_logs/test/p-l15-c15-s1_dd_slg_ferry_L4_H64_max_p10.log\n",
      "aaai24_logs/test/n40-s0_dd_llg_visitsome_L4_H64_max_p10.log\n",
      "aaai24_logs/test/blocks25-task04_dd_slg_blocks_L4_H64_max_p10.log\n",
      "aaai24_logs/test/n20-s4_dd_dlg_visitall_L4_H64_max_p10.log\n",
      "aaai24_logs/test/p-n12-b3-w3-s1_dd_llg_sokoban_L4_H64_max_p10.log\n",
      "aaai24_logs/test/p-n9-b2-w5-s0_dd_slg_sokoban_L4_H64_max_p10.log\n",
      "aaai24_logs/test/gripper-n20_dd_dlg_gripper_L4_H64_max_p10.log\n",
      "aaai24_logs/test/n35-s2_dd_slg_visitall_L4_H64_max_p10.log\n",
      "aaai24_logs/test/n40-s3_dd_llg_visitsome_L4_H64_mean_p10.log\n",
      "aaai24_logs/test/n20-s0_dd_slg_visitsome_L4_H64_max_p10.log\n",
      "aaai24_logs/test/p-n12-b2-w5-s0_dd_llg_sokoban_L4_H64_max_p10.log\n",
      "aaai24_logs/test/p-n9-b3-w3-s1_dd_slg_sokoban_L4_H64_max_p10.log\n",
      "aaai24_logs/test/p-n11-b3-w4-s2_dd_dlg_sokoban_L4_H64_max_p10.log\n",
      "aaai24_logs/test/n20-s2_dd_llg_visitall_L4_H64_max_p10.log\n",
      "aaai24_logs/test/n85-s4_dd_llg_visitsome_L4_H64_mean_p10.log\n",
      "aaai24_logs/test/n45-s2_dd_llg_visitall_L4_H64_mean_p10.log\n",
      "aaai24_logs/test/n15-s0_dd_dlg_visitsome_L4_H64_max_p10.log\n",
      "aaai24_logs/test/gripper-n20_dd_llg_gripper_L4_H64_mean_p10.log\n",
      "aaai24_logs/test/n65-s4_dd_llg_visitall_L4_H64_mean_p10.log\n",
      "aaai24_logs/test/p-s20-n20-l13-seed5_dd_llg_spanner_L4_H64_max_p10.log\n",
      "aaai24_logs/test/blocks30-task04_dd_dlg_blocks_L4_H64_max_p10.log\n",
      "aaai24_logs/test/p-l20-c20-s1_dd_dlg_ferry_L4_H64_max_p10.log\n",
      "aaai24_logs/test/n70-s2_dd_llg_visitsome_L4_H64_mean_p10.log\n",
      "aaai24_logs/test/n30-s1_dd_slg_visitall_L4_H64_max_p10.log\n",
      "aaai24_logs/test/p-l50-c50-s1_dd_llg_ferry_L4_H64_max_p10.log\n",
      "aaai24_logs/test/n85-s3_dd_slg_visitsome_L4_H64_max_p10.log\n",
      "aaai24_logs/test/n25-s1_dd_llg_visitall_L4_H64_max_p10.log\n",
      "aaai24_logs/test/p-n11-b2-w3-s2_dd_llg_sokoban_L4_H64_mean_p10.log\n",
      "aaai24_logs/test/p-l60-c60-s4_dd_llg_ferry_L4_H64_mean_p10.log\n",
      "aaai24_logs/test/p-l50-c50-s1_dd_llg_ferry_L4_H64_mean_p10.log\n",
      "aaai24_logs/test/blocks20-task03_dd_dlg_blocks_L4_H64_max_p10.log\n",
      "aaai24_logs/test/p-l40-c40-s2_dd_llg_ferry_L4_H64_mean_p10.log\n",
      "aaai24_logs/test/gripper-n75_dd_llg_gripper_L4_H64_max_p10.log\n",
      "aaai24_logs/test/n40-s1_dd_dlg_visitall_L4_H64_max_p10.log\n",
      "aaai24_logs/test/n-puzzle-6x6-s4_dd_slg_n-puzzle_L4_H64_max_p10.log\n",
      "aaai24_logs/test/p-n8-b2-w4-s1_dd_dlg_sokoban_L4_H64_max_p10.log\n",
      "aaai24_logs/test/p-n10-b2-w3-s2_dd_slg_sokoban_L4_H64_max_p10.log\n",
      "aaai24_logs/test/n70-s1_dd_slg_visitsome_L4_H64_max_p10.log\n",
      "aaai24_logs/test/p-n12-b3-w5-s2_dd_dlg_sokoban_L4_H64_max_p10.log\n",
      "aaai24_logs/test/p-n11-b2-w4-s0_dd_llg_sokoban_L4_H64_max_p10.log\n",
      "aaai24_logs/test/p-l50-c50-s1_dd_dlg_ferry_L4_H64_max_p10.log\n",
      "aaai24_logs/test/n45-s1_dd_dlg_visitsome_L4_H64_max_p10.log\n",
      "aaai24_logs/test/n15-s3_dd_llg_visitall_L4_H64_mean_p10.log\n",
      "aaai24_logs/test/n45-s2_dd_dlg_visitall_L4_H64_max_p10.log\n",
      "aaai24_logs/test/gripper-n45_dd_slg_gripper_L4_H64_max_p10.log\n",
      "aaai24_logs/test/n50-s4_dd_slg_visitall_L4_H64_max_p10.log\n",
      "aaai24_logs/test/blocks40-task02_dd_llg_blocks_L4_H64_mean_p10.log\n",
      "aaai24_logs/test/p-l20-c20-s1_dd_llg_ferry_L4_H64_max_p10.log\n",
      "aaai24_logs/test/n45-s4_dd_llg_visitall_L4_H64_max_p10.log\n",
      "aaai24_logs/test/n75-s3_dd_dlg_visitall_L4_H64_max_p10.log\n",
      "aaai24_logs/test/n-puzzle-5x5-s2_dd_llg_n-puzzle_L4_H64_max_p10.log\n",
      "aaai24_logs/test/n-puzzle-5x5-s4_dd_dlg_n-puzzle_L4_H64_max_p10.log\n",
      "aaai24_logs/test/p-s50-n50-l33-seed1_dd_llg_spanner_L4_H64_mean_p10.log\n",
      "aaai24_logs/test/p-n8-b3-w3-s2_dd_slg_sokoban_L4_H64_max_p10.log\n",
      "aaai24_logs/test/p-n10-b3-w4-s1_dd_dlg_sokoban_L4_H64_max_p10.log\n",
      "aaai24_logs/test/n60-s0_dd_slg_visitsome_L4_H64_max_p10.log\n",
      "aaai24_logs/test/p-n9-b3-w4-s0_dd_llg_sokoban_L4_H64_max_p10.log\n",
      "aaai24_logs/test/blocks75-task03_dd_llg_blocks_L4_H64_mean_p10.log\n",
      "aaai24_logs/test/blocks25-task02_dd_llg_blocks_L4_H64_max_p10.log\n",
      "aaai24_logs/test/p-l40-c40-s1_dd_dlg_ferry_L4_H64_max_p10.log\n",
      "aaai24_logs/test/n70-s0_dd_dlg_visitall_L4_H64_max_p10.log\n",
      "aaai24_logs/test/n55-s0_dd_dlg_visitsome_L4_H64_max_p10.log\n",
      "aaai24_logs/test/gripper-n25_dd_dlg_gripper_L4_H64_max_p10.log\n",
      "aaai24_logs/test/n-puzzle-5x5-s7_dd_llg_n-puzzle_L4_H64_mean_p10.log\n",
      "aaai24_logs/test/n25-s4_dd_llg_visitall_L4_H64_mean_p10.log\n",
      "aaai24_logs/test/p-s15-n15-l10-seed3_dd_slg_spanner_L4_H64_max_p10.log\n",
      "aaai24_logs/test/p-n12-b3-w4-s0_dd_slg_sokoban_L4_H64_max_p10.log\n",
      "aaai24_logs/test/p-l30-c30-s1_dd_llg_ferry_L4_H64_max_p10.log\n",
      "aaai24_logs/test/p-n11-b3-w4-s0_dd_llg_sokoban_L4_H64_mean_p10.log\n",
      "aaai24_logs/test/p-n8-b2-w4-s1_dd_llg_sokoban_L4_H64_mean_p10.log\n",
      "aaai24_logs/test/n30-s3_dd_llg_visitsome_L4_H64_max_p10.log\n",
      "aaai24_logs/test/p-n8-b2-w4-s2_dd_dlg_sokoban_L4_H64_max_p10.log\n",
      "aaai24_logs/test/gripper-n30_dd_slg_gripper_L4_H64_max_p10.log\n",
      "aaai24_logs/test/blocks25-task04_dd_llg_blocks_L4_H64_mean_p10.log\n",
      "aaai24_logs/test/p-n10-b2-w3-s1_dd_slg_sokoban_L4_H64_max_p10.log\n",
      "aaai24_logs/test/p-n10-b3-w5-s0_dd_slg_sokoban_L4_H64_max_p10.log\n",
      "aaai24_logs/test/n50-s3_dd_slg_visitsome_L4_H64_max_p10.log\n",
      "aaai24_logs/test/n15-s1_dd_dlg_visitall_L4_H64_max_p10.log\n",
      "aaai24_logs/test/blocks40-task01_dd_llg_blocks_L4_H64_mean_p10.log\n",
      "aaai24_logs/test/p-n12-b2-w3-s0_dd_dlg_sokoban_L4_H64_max_p10.log\n",
      "aaai24_logs/test/n80-s2_dd_dlg_visitall_L4_H64_max_p10.log\n",
      "aaai24_logs/test/blocks30-task04_dd_llg_blocks_L4_H64_max_p10.log\n",
      "aaai24_logs/test/n65-s3_dd_dlg_visitsome_L4_H64_max_p10.log\n",
      "aaai24_logs/test/n35-s1_dd_llg_visitall_L4_H64_mean_p10.log\n",
      "aaai24_logs/test/p-n12-b3-w5-s1_dd_dlg_sokoban_L4_H64_max_p10.log\n",
      "aaai24_logs/test/p-l55-c55-s1_dd_slg_ferry_L4_H64_max_p10.log\n",
      "aaai24_logs/test/p-l80-c80-s2_dd_llg_ferry_L4_H64_max_p10.log\n",
      "aaai24_logs/test/p-n9-b2-w5-s2_dd_llg_sokoban_L4_H64_mean_p10.log\n",
      "aaai24_logs/test/blocks35-task05_dd_dlg_blocks_L4_H64_max_p10.log\n",
      "aaai24_logs/test/p-n8-b3-w3-s1_dd_slg_sokoban_L4_H64_max_p10.log\n",
      "aaai24_logs/test/p-n10-b3-w4-s2_dd_dlg_sokoban_L4_H64_max_p10.log\n",
      "aaai24_logs/test/p-l20-c20-s1_dd_llg_ferry_L4_H64_mean_p10.log\n",
      "aaai24_logs/test/gripper-n50_dd_dlg_gripper_L4_H64_max_p10.log\n",
      "aaai24_logs/test/n20-s2_dd_llg_visitsome_L4_H64_max_p10.log\n",
      "aaai24_logs/test/p-l30-c30-s2_dd_llg_ferry_L4_H64_mean_p10.log\n",
      "aaai24_logs/test/p-s20-n20-l13-seed3_dd_llg_spanner_L4_H64_max_p10.log\n",
      "aaai24_logs/test/n20-s3_dd_dlg_visitall_L4_H64_max_p10.log\n",
      "aaai24_logs/test/n40-s2_dd_slg_visitsome_L4_H64_max_p10.log\n",
      "aaai24_logs/test/p-l85-c85-s4_dd_llg_ferry_L4_H64_mean_p10.log\n",
      "aaai24_logs/test/n60-s4_dd_slg_visitsome_L4_H64_max_p10.log\n",
      "aaai24_logs/test/p-n8-b2-w5-s0_dd_slg_sokoban_L4_H64_max_p10.log\n",
      "aaai24_logs/test/blocks20-task05_dd_slg_blocks_L4_H64_max_p10.log\n",
      "aaai24_logs/test/n55-s4_dd_dlg_visitsome_L4_H64_max_p10.log\n",
      "aaai24_logs/test/n-puzzle-5x5-s3_dd_llg_n-puzzle_L4_H64_mean_p10.log\n",
      "aaai24_logs/test/n25-s0_dd_llg_visitall_L4_H64_mean_p10.log\n",
      "aaai24_logs/test/blocks50-task01_dd_llg_blocks_L4_H64_max_p10.log\n",
      "aaai24_logs/test/n75-s2_dd_dlg_visitsome_L4_H64_max_p10.log\n",
      "aaai24_logs/test/p-l45-c45-s1_dd_slg_ferry_L4_H64_max_p10.log\n",
      "aaai24_logs/test/n25-s0_dd_dlg_visitall_L4_H64_max_p10.log\n",
      "aaai24_logs/test/p-l90-c90-s2_dd_llg_ferry_L4_H64_max_p10.log\n",
      "aaai24_logs/test/p-n12-b3-w3-s1_dd_llg_sokoban_L4_H64_mean_p10.log\n",
      "aaai24_logs/test/n35-s3_dd_dlg_visitall_L4_H64_max_p10.log\n",
      "aaai24_logs/test/blocks45-task03_dd_llg_blocks_L4_H64_max_p10.log\n",
      "aaai24_logs/test/p-n9-b2-w4-s0_dd_slg_sokoban_L4_H64_max_p10.log\n",
      "aaai24_logs/test/p-s60-n60-l40-seed1_dd_llg_spanner_L4_H64_mean_p10.log\n",
      "aaai24_logs/test/p-l45-c45-s3_dd_slg_ferry_L4_H64_max_p10.log\n",
      "aaai24_logs/test/p-n8-b3-w5-s0_dd_llg_sokoban_L4_H64_mean_p10.log\n",
      "aaai24_logs/test/blocks60-task05_dd_llg_blocks_L4_H64_mean_p10.log\n",
      "aaai24_logs/test/p-n12-b2-w4-s0_dd_llg_sokoban_L4_H64_max_p10.log\n",
      "aaai24_logs/test/p-s35-n35-l23-seed4_dd_llg_spanner_L4_H64_mean_p10.log\n",
      "aaai24_logs/test/p-n11-b3-w5-s2_dd_dlg_sokoban_L4_H64_max_p10.log\n",
      "aaai24_logs/test/p-n11-b2-w5-s1_dd_llg_sokoban_L4_H64_mean_p10.log\n",
      "aaai24_logs/test/n60-s2_dd_dlg_visitsome_L4_H64_max_p10.log\n",
      "aaai24_logs/test/n30-s0_dd_llg_visitall_L4_H64_mean_p10.log\n",
      "aaai24_logs/test/n40-s4_dd_dlg_visitsome_L4_H64_max_p10.log\n",
      "aaai24_logs/test/n40-s2_dd_llg_visitsome_L4_H64_mean_p10.log\n",
      "aaai24_logs/test/n70-s3_dd_llg_visitsome_L4_H64_mean_p10.log\n",
      "aaai24_logs/test/p-l70-c70-s3_dd_llg_ferry_L4_H64_mean_p10.log\n",
      "aaai24_logs/test/n30-s0_dd_dlg_visitall_L4_H64_max_p10.log\n",
      "aaai24_logs/test/p-l60-c60-s2_dd_llg_ferry_L4_H64_max_p10.log\n",
      "aaai24_logs/test/p-l50-c50-s5_dd_llg_ferry_L4_H64_mean_p10.log\n",
      "aaai24_logs/test/p-n10-b2-w4-s2_dd_llg_sokoban_L4_H64_mean_p10.log\n",
      "aaai24_logs/test/n75-s4_dd_slg_visitsome_L4_H64_max_p10.log\n",
      "aaai24_logs/test/p-s65-n65-l43-seed4_dd_llg_spanner_L4_H64_mean_p10.log\n",
      "aaai24_logs/test/n55-s2_dd_slg_visitsome_L4_H64_max_p10.log\n",
      "aaai24_logs/test/p-l35-c35-s2_dd_slg_ferry_L4_H64_max_p10.log\n",
      "aaai24_logs/test/p-s30-n30-l20-seed1_dd_llg_spanner_L4_H64_mean_p10.log\n",
      "aaai24_logs/test/n35-s2_dd_llg_visitsome_L4_H64_max_p10.log\n",
      "aaai24_logs/test/blocks15-task04_dd_slg_blocks_L4_H64_max_p10.log\n",
      "aaai24_logs/test/p-n8-b2-w3-s2_dd_llg_sokoban_L4_H64_max_p10.log\n",
      "aaai24_logs/test/n15-s4_dd_llg_visitsome_L4_H64_max_p10.log\n",
      "aaai24_logs/test/p-n11-b3-w4-s0_dd_slg_sokoban_L4_H64_max_p10.log\n",
      "aaai24_logs/test/blocks55-task04_dd_llg_blocks_L4_H64_mean_p10.log\n",
      "aaai24_logs/test/n-puzzle-7x7-s0_dd_slg_n-puzzle_L4_H64_max_p10.log\n",
      "aaai24_logs/test/p-n9-b2-w5-s2_dd_dlg_sokoban_L4_H64_max_p10.log\n",
      "aaai24_logs/test/n90-s3_dd_llg_visitsome_L4_H64_mean_p10.log\n",
      "aaai24_logs/test/p-l55-c55-s3_dd_slg_ferry_L4_H64_max_p10.log\n",
      "aaai24_logs/test/p-s15-n15-l10-seed4_dd_dlg_spanner_L4_H64_max_p10.log\n",
      "aaai24_logs/test/n20-s1_dd_llg_visitall_L4_H64_mean_p10.log\n",
      "aaai24_logs/test/n70-s3_dd_dlg_visitsome_L4_H64_max_p10.log\n",
      "aaai24_logs/test/p-s20-n20-l13-seed5_dd_llg_spanner_L4_H64_mean_p10.log\n",
      "aaai24_logs/test/n55-s4_dd_llg_visitsome_L4_H64_mean_p10.log\n",
      "aaai24_logs/test/p-l70-c70-s2_dd_llg_ferry_L4_H64_max_p10.log\n",
      "aaai24_logs/test/n20-s0_dd_llg_visitsome_L4_H64_mean_p10.log\n",
      "aaai24_logs/test/blocks30-task01_dd_llg_blocks_L4_H64_mean_p10.log\n",
      "aaai24_logs/test/n45-s3_dd_slg_visitsome_L4_H64_max_p10.log\n",
      "aaai24_logs/test/p-l100-c100-s5_dd_llg_ferry_L4_H64_max_p10.log\n",
      "aaai24_logs/test/p-l25-c25-s2_dd_slg_ferry_L4_H64_max_p10.log\n",
      "aaai24_logs/test/p-n10-b3-w3-s2_dd_llg_sokoban_L4_H64_max_p10.log\n",
      "aaai24_logs/test/n25-s3_dd_llg_visitsome_L4_H64_max_p10.log\n",
      "aaai24_logs/test/p-n11-b3-w5-s1_dd_dlg_sokoban_L4_H64_max_p10.log\n",
      "aaai24_logs/test/gripper-n85_dd_llg_gripper_L4_H64_mean_p10.log\n",
      "aaai24_logs/test/p-l40-c40-s3_dd_dlg_ferry_L4_H64_max_p10.log\n",
      "aaai24_logs/test/p-s75-n75-l50-seed4_dd_llg_spanner_L4_H64_max_p10.log\n",
      "aaai24_logs/test/gripper-n90_dd_llg_gripper_L4_H64_max_p10.log\n",
      "aaai24_logs/test/n60-s3_dd_dlg_visitall_L4_H64_max_p10.log\n",
      "aaai24_logs/test/p-n11-b2-w3-s0_dd_dlg_sokoban_L4_H64_max_p10.log\n",
      "aaai24_logs/test/n25-s3_dd_llg_visitsome_L4_H64_mean_p10.log\n",
      "aaai24_logs/test/n-puzzle-5x5-s2_dd_slg_n-puzzle_L4_H64_max_p10.log\n",
      "aaai24_logs/test/n30-s4_dd_llg_visitall_L4_H64_mean_p10.log\n",
      "aaai24_logs/test/p-l30-c30-s3_dd_llg_ferry_L4_H64_max_p10.log\n",
      "aaai24_logs/test/n40-s0_dd_dlg_visitsome_L4_H64_max_p10.log\n",
      "aaai24_logs/test/p-s45-n45-l30-seed2_dd_llg_spanner_L4_H64_mean_p10.log\n",
      "aaai24_logs/test/p-n9-b2-w3-s1_dd_llg_sokoban_L4_H64_mean_p10.log\n",
      "aaai24_logs/test/n95-s0_dd_llg_visitsome_L4_H64_mean_p10.log\n",
      "aaai24_logs/test/p-l40-c40-s2_dd_llg_ferry_L4_H64_max_p10.log\n",
      "aaai24_logs/test/p-n8-b2-w3-s1_dd_llg_sokoban_L4_H64_max_p10.log\n",
      "aaai24_logs/test/p-l15-c15-s2_dd_slg_ferry_L4_H64_max_p10.log\n",
      "aaai24_logs/test/n75-s0_dd_slg_visitsome_L4_H64_max_p10.log\n",
      "aaai24_logs/test/n15-s2_dd_llg_visitsome_L4_H64_mean_p10.log\n",
      "aaai24_logs/test/p-n10-b3-w3-s0_dd_llg_sokoban_L4_H64_mean_p10.log\n",
      "aaai24_logs/test/n65-s0_dd_dlg_visitall_L4_H64_max_p10.log\n",
      "aaai24_logs/test/p-l30-c30-s2_dd_dlg_ferry_L4_H64_max_p10.log\n",
      "aaai24_logs/test/p-n8-b3-w5-s0_dd_llg_sokoban_L4_H64_max_p10.log\n",
      "aaai24_logs/test/n15-s0_dd_llg_visitsome_L4_H64_max_p10.log\n",
      "aaai24_logs/test/p-n9-b2-w5-s1_dd_dlg_sokoban_L4_H64_max_p10.log\n",
      "aaai24_logs/test/n-puzzle-6x6-s2_dd_dlg_n-puzzle_L4_H64_max_p10.log\n",
      "aaai24_logs/test/p-l50-c50-s3_dd_dlg_ferry_L4_H64_max_p10.log\n",
      "aaai24_logs/test/blocks20-task01_dd_slg_blocks_L4_H64_max_p10.log\n",
      "aaai24_logs/test/blocks50-task05_dd_llg_blocks_L4_H64_max_p10.log\n",
      "aaai24_logs/test/p-n9-b3-w3-s0_dd_dlg_sokoban_L4_H64_max_p10.log\n",
      "aaai24_logs/test/blocks15-task02_dd_dlg_blocks_L4_H64_max_p10.log\n",
      "aaai24_logs/test/n75-s0_dd_llg_visitsome_L4_H64_mean_p10.log\n",
      "aaai24_logs/test/p-l20-c20-s3_dd_llg_ferry_L4_H64_max_p10.log\n",
      "aaai24_logs/test/n55-s1_dd_dlg_visitall_L4_H64_max_p10.log\n",
      "aaai24_logs/test/n50-s1_dd_dlg_visitsome_L4_H64_max_p10.log\n",
      "aaai24_logs/test/p-l50-c50-s2_dd_llg_ferry_L4_H64_max_p10.log\n",
      "aaai24_logs/test/p-n12-b3-w5-s2_dd_llg_sokoban_L4_H64_mean_p10.log\n",
      "aaai24_logs/test/n45-s4_dd_slg_visitall_L4_H64_max_p10.log\n",
      "aaai24_logs/test/p-s45-n45-l30-seed3_dd_llg_spanner_L4_H64_max_p10.log\n",
      "aaai24_logs/test/p-s55-n55-l36-seed5_dd_llg_spanner_L4_H64_max_p10.log\n",
      "aaai24_logs/test/blocks35-task01_dd_dlg_blocks_L4_H64_max_p10.log\n",
      "aaai24_logs/test/n45-s1_dd_llg_visitsome_L4_H64_mean_p10.log\n",
      "aaai24_logs/test/n65-s1_dd_slg_visitsome_L4_H64_max_p10.log\n",
      "aaai24_logs/test/n50-s4_dd_llg_visitall_L4_H64_max_p10.log\n",
      "aaai24_logs/test/p-n10-b3-w3-s1_dd_llg_sokoban_L4_H64_max_p10.log\n",
      "aaai24_logs/test/p-l20-c20-s5_dd_llg_ferry_L4_H64_mean_p10.log\n",
      "aaai24_logs/test/p-s25-n25-l16-seed3_dd_llg_spanner_L4_H64_mean_p10.log\n",
      "aaai24_logs/test/p-l20-c20-s2_dd_dlg_ferry_L4_H64_max_p10.log\n",
      "aaai24_logs/test/p-n10-b2-w5-s0_dd_llg_sokoban_L4_H64_max_p10.log\n",
      "aaai24_logs/test/n50-s2_dd_dlg_visitall_L4_H64_max_p10.log\n",
      "aaai24_logs/test/blocks30-task02_dd_llg_blocks_L4_H64_mean_p10.log\n",
      "aaai24_logs/test/n90-s3_dd_slg_visitsome_L4_H64_max_p10.log\n",
      "aaai24_logs/test/gripper-n45_dd_llg_gripper_L4_H64_mean_p10.log\n",
      "aaai24_logs/test/n20-s2_dd_slg_visitall_L4_H64_max_p10.log\n",
      "aaai24_logs/test/p-n8-b3-w4-s0_dd_llg_sokoban_L4_H64_mean_p10.log\n",
      "aaai24_logs/test/p-n10-b3-w5-s2_dd_dlg_sokoban_L4_H64_max_p10.log\n",
      "aaai24_logs/test/p-l20-c20-s3_dd_dlg_ferry_L4_H64_max_p10.log\n",
      "aaai24_logs/test/n35-s2_dd_llg_visitall_L4_H64_max_p10.log\n",
      "aaai24_logs/test/p-s35-n35-l23-seed3_dd_llg_spanner_L4_H64_mean_p10.log\n",
      "aaai24_logs/test/p-n11-b2-w4-s1_dd_llg_sokoban_L4_H64_mean_p10.log\n",
      "aaai24_logs/test/p-n8-b2-w4-s0_dd_slg_sokoban_L4_H64_max_p10.log\n",
      "aaai24_logs/test/p-l50-c50-s3_dd_llg_ferry_L4_H64_max_p10.log\n",
      "aaai24_logs/test/n50-s2_dd_llg_visitall_L4_H64_mean_p10.log\n",
      "aaai24_logs/test/n35-s4_dd_dlg_visitall_L4_H64_max_p10.log\n",
      "aaai24_logs/test/n35-s0_dd_slg_visitsome_L4_H64_max_p10.log\n",
      "aaai24_logs/test/blocks40-task02_dd_llg_blocks_L4_H64_max_p10.log\n",
      "aaai24_logs/test/n25-s1_dd_slg_visitall_L4_H64_max_p10.log\n",
      "aaai24_logs/test/n30-s1_dd_llg_visitall_L4_H64_max_p10.log\n",
      "aaai24_logs/test/p-l20-c20-s2_dd_llg_ferry_L4_H64_max_p10.log\n",
      "aaai24_logs/test/p-n9-b2-w3-s2_dd_llg_sokoban_L4_H64_max_p10.log\n",
      "aaai24_logs/test/p-s65-n65-l43-seed3_dd_llg_spanner_L4_H64_mean_p10.log\n",
      "aaai24_logs/test/gripper-n95_dd_llg_gripper_L4_H64_max_p10.log\n",
      "aaai24_logs/test/p-l50-c50-s2_dd_dlg_ferry_L4_H64_max_p10.log\n",
      "aaai24_logs/test/n100-s1_dd_slg_visitsome_L4_H64_max_p10.log\n",
      "aaai24_logs/test/p-n12-b2-w3-s2_dd_slg_sokoban_L4_H64_max_p10.log\n",
      "aaai24_logs/test/blocks60-task03_dd_llg_blocks_L4_H64_mean_p10.log\n",
      "aaai24_logs/test/p-s75-n75-l50-seed1_dd_llg_spanner_L4_H64_max_p10.log\n",
      "aaai24_logs/test/p-n10-b2-w5-s2_dd_llg_sokoban_L4_H64_mean_p10.log\n",
      "aaai24_logs/test/p-n8-b2-w5-s2_dd_dlg_sokoban_L4_H64_max_p10.log\n",
      "aaai24_logs/test/p-s20-n20-l13-seed2_dd_llg_spanner_L4_H64_mean_p10.log\n",
      "aaai24_logs/test/n80-s2_dd_slg_visitsome_L4_H64_max_p10.log\n",
      "aaai24_logs/test/p-l30-c30-s3_dd_dlg_ferry_L4_H64_max_p10.log\n",
      "aaai24_logs/test/n15-s0_dd_slg_visitall_L4_H64_max_p10.log\n",
      "aaai24_logs/test/p-n10-b3-w4-s0_dd_slg_sokoban_L4_H64_max_p10.log\n",
      "aaai24_logs/test/n40-s3_dd_llg_visitall_L4_H64_mean_p10.log\n",
      "aaai24_logs/test/p-l40-c40-s3_dd_llg_ferry_L4_H64_max_p10.log\n",
      "aaai24_logs/test/p-l15-c15-s3_dd_slg_ferry_L4_H64_max_p10.log\n",
      "aaai24_logs/test/n-puzzle-7x7-s7_dd_slg_n-puzzle_L4_H64_max_p10.log\n",
      "aaai24_logs/test/n25-s1_dd_slg_visitsome_L4_H64_max_p10.log\n",
      "aaai24_logs/test/p-l75-c75-s3_dd_llg_ferry_L4_H64_mean_p10.log\n",
      "aaai24_logs/test/p-n11-b3-w3-s2_dd_llg_sokoban_L4_H64_max_p10.log\n",
      "aaai24_logs/test/p-l30-c30-s2_dd_llg_ferry_L4_H64_max_p10.log\n",
      "aaai24_logs/test/blocks55-task02_dd_llg_blocks_L4_H64_mean_p10.log\n",
      "aaai24_logs/test/p-l55-c55-s5_dd_llg_ferry_L4_H64_mean_p10.log\n",
      "aaai24_logs/test/n95-s4_dd_dlg_visitsome_L4_H64_max_p10.log\n",
      "aaai24_logs/test/p-n12-b2-w3-s0_dd_llg_sokoban_L4_H64_mean_p10.log\n",
      "aaai24_logs/test/p-l40-c40-s2_dd_dlg_ferry_L4_H64_max_p10.log\n",
      "aaai24_logs/test/p-n12-b3-w4-s1_dd_dlg_sokoban_L4_H64_max_p10.log\n",
      "aaai24_logs/test/p-s15-n15-l10-seed2_dd_dlg_spanner_L4_H64_max_p10.log\n",
      "aaai24_logs/test/p-s45-n45-l30-seed5_dd_llg_spanner_L4_H64_mean_p10.log\n",
      "aaai24_logs/test/p-n8-b2-w3-s2_dd_llg_sokoban_L4_H64_mean_p10.log\n",
      "aaai24_logs/test/p-n10-b2-w3-s0_dd_dlg_sokoban_L4_H64_max_p10.log\n",
      "aaai24_logs/test/n-puzzle-5x5-s5_dd_slg_n-puzzle_L4_H64_max_p10.log\n",
      "aaai24_logs/test/n60-s4_dd_dlg_visitall_L4_H64_max_p10.log\n",
      "aaai24_logs/test/p-l70-c70-s3_dd_llg_ferry_L4_H64_max_p10.log\n",
      "aaai24_logs/test/n20-s2_dd_dlg_visitsome_L4_H64_max_p10.log\n",
      "aaai24_logs/test/p-n10-b3-w5-s1_dd_dlg_sokoban_L4_H64_max_p10.log\n",
      "aaai24_logs/test/blocks15-task02_dd_llg_blocks_L4_H64_max_p10.log\n",
      "aaai24_logs/test/n60-s2_dd_llg_visitall_L4_H64_max_p10.log\n",
      "aaai24_logs/test/p-l100-c100-s4_dd_llg_ferry_L4_H64_max_p10.log\n",
      "aaai24_logs/test/p-l25-c25-s3_dd_slg_ferry_L4_H64_max_p10.log\n",
      "aaai24_logs/test/p-l55-c55-s2_dd_slg_ferry_L4_H64_max_p10.log\n",
      "aaai24_logs/test/n35-s4_dd_slg_visitsome_L4_H64_max_p10.log\n",
      "aaai24_logs/test/n15-s2_dd_slg_visitsome_L4_H64_max_p10.log\n",
      "aaai24_logs/test/p-l25-c25-s5_dd_llg_ferry_L4_H64_mean_p10.log\n",
      "aaai24_logs/test/p-l80-c80-s1_dd_llg_ferry_L4_H64_max_p10.log\n",
      "aaai24_logs/test/blocks35-task01_dd_llg_blocks_L4_H64_max_p10.log\n",
      "aaai24_logs/test/p-n9-b3-w5-s0_dd_llg_sokoban_L4_H64_max_p10.log\n",
      "aaai24_logs/test/p-n12-b2-w3-s1_dd_slg_sokoban_L4_H64_max_p10.log\n",
      "aaai24_logs/test/p-s75-n75-l50-seed2_dd_llg_spanner_L4_H64_max_p10.log\n",
      "aaai24_logs/test/n85-s1_dd_dlg_visitsome_L4_H64_max_p10.log\n",
      "aaai24_logs/test/p-l90-c90-s3_dd_llg_ferry_L4_H64_mean_p10.log\n",
      "aaai24_logs/test/p-n9-b2-w3-s1_dd_llg_sokoban_L4_H64_max_p10.log\n",
      "aaai24_logs/test/p-n12-b3-w5-s0_dd_slg_sokoban_L4_H64_max_p10.log\n",
      "aaai24_logs/test/n65-s1_dd_llg_visitall_L4_H64_max_p10.log\n",
      "aaai24_logs/test/p-n8-b3-w3-s0_dd_dlg_sokoban_L4_H64_max_p10.log\n",
      "aaai24_logs/test/p-s45-n45-l30-seed5_dd_llg_spanner_L4_H64_max_p10.log\n",
      "aaai24_logs/test/p-s55-n55-l36-seed3_dd_llg_spanner_L4_H64_max_p10.log\n",
      "aaai24_logs/test/n60-s1_dd_llg_visitall_L4_H64_mean_p10.log\n",
      "aaai24_logs/test/n30-s3_dd_dlg_visitsome_L4_H64_max_p10.log\n",
      "aaai24_logs/test/p-l60-c60-s3_dd_llg_ferry_L4_H64_max_p10.log\n",
      "aaai24_logs/test/n55-s0_dd_llg_visitall_L4_H64_max_p10.log\n",
      "aaai24_logs/test/p-n8-b2-w5-s1_dd_dlg_sokoban_L4_H64_max_p10.log\n",
      "aaai24_logs/test/blocks30-task04_dd_llg_blocks_L4_H64_mean_p10.log\n",
      "aaai24_logs/test/n40-s0_dd_slg_visitall_L4_H64_max_p10.log\n",
      "aaai24_logs/test/n-puzzle-6x6-s5_dd_dlg_n-puzzle_L4_H64_max_p10.log\n",
      "aaai24_logs/test/p-l35-c35-s3_dd_slg_ferry_L4_H64_max_p10.log\n",
      "aaai24_logs/test/p-l45-c45-s2_dd_slg_ferry_L4_H64_max_p10.log\n",
      "aaai24_logs/test/p-n12-b3-w4-s2_dd_dlg_sokoban_L4_H64_max_p10.log\n",
      "aaai24_logs/test/p-s25-n25-l16-seed4_dd_llg_spanner_L4_H64_mean_p10.log\n",
      "aaai24_logs/test/p-s15-n15-l10-seed1_dd_dlg_spanner_L4_H64_max_p10.log\n",
      "aaai24_logs/test/p-l90-c90-s1_dd_llg_ferry_L4_H64_max_p10.log\n",
      "aaai24_logs/test/p-n11-b2-w5-s0_dd_llg_sokoban_L4_H64_max_p10.log\n",
      "aaai24_logs/test/p-n12-b3-w4-s2_dd_llg_sokoban_L4_H64_mean_p10.log\n",
      "aaai24_logs/test/n95-s0_dd_dlg_visitsome_L4_H64_max_p10.log\n",
      "aaai24_logs/test/n50-s3_dd_llg_visitall_L4_H64_max_p10.log\n",
      "aaai24_logs/test/gripper-n35_dd_dlg_gripper_L4_H64_mean_p10.log\n",
      "aaai24_logs/test/blocks55-task01_dd_llg_blocks_L4_H64_mean_p10.log\n",
      "aaai24_logs/test/n45-s3_dd_slg_visitall_L4_H64_max_p10.log\n",
      "aaai24_logs/test/p-n11-b3-w3-s1_dd_llg_sokoban_L4_H64_max_p10.log\n",
      "aaai24_logs/val/\n",
      "aaai24_logs/val/n11-s0_dd_slg_visitsome_L4_H64_max_p10_v4.log\n",
      "aaai24_logs/val/n-puzzle-5x5-s21_dd_dlg_n-puzzle_L4_H64_max_p10_v2.log\n",
      "aaai24_logs/val/p-n8-b2-w3-s11_dd_llg_sokoban_L4_H64_max_p10_v2.log\n",
      "aaai24_logs/val/blocks11-task03_dd_dlg_blocks_L4_H64_max_p10_v4.log\n",
      "aaai24_logs/val/n-puzzle-5x5-s22_dd_llg_n-puzzle_L4_H64_mean_p10_v4.log\n",
      "aaai24_logs/val/n11-s2_dd_llg_visitsome_L4_H64_max_p10_v4.log\n",
      "aaai24_logs/val/n11-s1_dd_dlg_visitall_L4_H64_max_p10_v1.log\n",
      "aaai24_logs/val/blocks11-task03_dd_dlg_blocks_L4_H64_max_p10_v3.log\n",
      "aaai24_logs/val/n-puzzle-5x5-s22_dd_llg_n-puzzle_L4_H64_mean_p10_v3.log\n",
      "aaai24_logs/val/p-l11-c11-s1_dd_slg_ferry_L4_H64_max_p10_v2.log\n",
      "aaai24_logs/val/n11-s2_dd_llg_visitsome_L4_H64_max_p10_v3.log\n",
      "aaai24_logs/val/p-s11-n11-l7-seed2_dd_llg_spanner_L4_H64_max_p10_v1.log\n",
      "aaai24_logs/val/p-n8-b2-w3-s12_dd_llg_sokoban_L4_H64_mean_p10_v2.log\n",
      "aaai24_logs/val/n-puzzle-5x5-s21_dd_llg_n-puzzle_L4_H64_mean_p10_v1.log\n",
      "aaai24_logs/val/p-s11-n11-l7-seed2_dd_llg_spanner_L4_H64_mean_p10_v2.log\n",
      "aaai24_logs/val/n11-s1_dd_llg_visitsome_L4_H64_max_p10_v1.log\n",
      "aaai24_logs/val/n11-s0_dd_slg_visitsome_L4_H64_max_p10_v3.log\n",
      "aaai24_logs/val/n11-s2_dd_llg_visitsome_L4_H64_mean_p10_v2.log\n",
      "aaai24_logs/val/p-l11-c11-s2_dd_slg_ferry_L4_H64_max_p10_v4.log\n",
      "aaai24_logs/val/n11-s2_dd_llg_visitall_L4_H64_max_p10_v0.log\n",
      "aaai24_logs/val/n11-s1_dd_dlg_visitsome_L4_H64_max_p10_v3.log\n",
      "aaai24_logs/val/blocks11-task01_dd_llg_blocks_L4_H64_max_p10_v0.log\n",
      "aaai24_logs/val/p-n8-b2-w3-s12_dd_slg_sokoban_L4_H64_max_p10_v0.log\n",
      "aaai24_logs/val/gripper-n11_dd_dlg_gripper_L4_H64_max_p10_v0.log\n",
      "aaai24_logs/val/p-s11-n11-l7-seed1_dd_slg_spanner_L4_H64_max_p10_v4.log\n",
      "aaai24_logs/val/n-puzzle-5x5-s22_dd_llg_n-puzzle_L4_H64_max_p10_v3.log\n",
      "aaai24_logs/val/p-l11-c11-s3_dd_slg_ferry_L4_H64_max_p10_v1.log\n",
      "aaai24_logs/val/p-s11-n11-l7-seed3_dd_slg_spanner_L4_H64_max_p10_v2.log\n",
      "aaai24_logs/val/p-l11-c11-s2_dd_llg_ferry_L4_H64_mean_p10_v0.log\n",
      "aaai24_logs/val/n11-s2_dd_dlg_visitsome_L4_H64_max_p10_v1.log\n",
      "aaai24_logs/val/gripper-n11_dd_llg_gripper_L4_H64_mean_p10_v4.log\n",
      "aaai24_logs/val/n-puzzle-5x5-s20_dd_slg_n-puzzle_L4_H64_max_p10_v4.log\n",
      "aaai24_logs/val/n11-s0_dd_slg_visitall_L4_H64_max_p10_v0.log\n",
      "aaai24_logs/val/p-n8-b2-w3-s10_dd_slg_sokoban_L4_H64_max_p10_v1.log\n",
      "aaai24_logs/val/gripper-n11_dd_llg_gripper_L4_H64_mean_p10_v3.log\n",
      "aaai24_logs/val/n-puzzle-5x5-s20_dd_slg_n-puzzle_L4_H64_max_p10_v3.log\n",
      "aaai24_logs/val/p-l11-c11-s2_dd_slg_ferry_L4_H64_max_p10_v3.log\n",
      "aaai24_logs/val/n11-s1_dd_dlg_visitsome_L4_H64_max_p10_v4.log\n",
      "aaai24_logs/val/p-s11-n11-l7-seed1_dd_slg_spanner_L4_H64_max_p10_v3.log\n",
      "aaai24_logs/val/n-puzzle-5x5-s22_dd_llg_n-puzzle_L4_H64_max_p10_v4.log\n",
      "aaai24_logs/val/n11-s0_dd_llg_visitall_L4_H64_mean_p10_v0.log\n",
      "aaai24_logs/val/blocks11-task01_dd_llg_blocks_L4_H64_mean_p10_v0.log\n",
      "aaai24_logs/val/n11-s0_dd_dlg_visitall_L4_H64_max_p10_v1.log\n",
      "aaai24_logs/val/gripper-n11_dd_llg_gripper_L4_H64_max_p10_v4.log\n",
      "aaai24_logs/val/n-puzzle-5x5-s20_dd_dlg_n-puzzle_L4_H64_max_p10_v2.log\n",
      "aaai24_logs/val/blocks11-task03_dd_llg_blocks_L4_H64_mean_p10_v1.log\n",
      "aaai24_logs/val/gripper-n11_dd_llg_gripper_L4_H64_max_p10_v3.log\n",
      "aaai24_logs/val/p-s11-n11-l7-seed3_dd_llg_spanner_L4_H64_mean_p10_v2.log\n",
      "aaai24_logs/val/n11-s1_dd_llg_visitsome_L4_H64_mean_p10_v0.log\n",
      "aaai24_logs/val/blocks11-task03_dd_slg_blocks_L4_H64_max_p10_v0.log\n",
      "aaai24_logs/val/p-l11-c11-s1_dd_llg_ferry_L4_H64_mean_p10_v2.log\n",
      "aaai24_logs/val/p-s11-n11-l7-seed2_dd_dlg_spanner_L4_H64_max_p10_v2.log\n",
      "aaai24_logs/val/n-puzzle-5x5-s21_dd_slg_n-puzzle_L4_H64_max_p10_v4.log\n",
      "aaai24_logs/val/blocks11-task02_dd_llg_blocks_L4_H64_max_p10_v2.log\n",
      "aaai24_logs/val/n-puzzle-5x5-s21_dd_slg_n-puzzle_L4_H64_max_p10_v3.log\n",
      "aaai24_logs/val/n11-s1_dd_slg_visitall_L4_H64_max_p10_v0.log\n",
      "aaai24_logs/val/p-n8-b2-w3-s11_dd_dlg_sokoban_L4_H64_max_p10_v1.log\n",
      "aaai24_logs/val/n11-s2_dd_llg_visitall_L4_H64_mean_p10_v4.log\n",
      "aaai24_logs/val/blocks11-task03_dd_llg_blocks_L4_H64_max_p10_v3.log\n",
      "aaai24_logs/val/p-n8-b2-w3-s11_dd_slg_sokoban_L4_H64_max_p10_v1.log\n",
      "aaai24_logs/val/p-l11-c11-s3_dd_dlg_ferry_L4_H64_max_p10_v3.log\n",
      "aaai24_logs/val/blocks11-task02_dd_slg_blocks_L4_H64_max_p10_v1.log\n",
      "aaai24_logs/val/p-n8-b2-w3-s10_dd_llg_sokoban_L4_H64_mean_p10_v2.log\n",
      "aaai24_logs/val/p-l11-c11-s3_dd_dlg_ferry_L4_H64_max_p10_v4.log\n",
      "aaai24_logs/val/n11-s1_dd_llg_visitall_L4_H64_mean_p10_v1.log\n",
      "aaai24_logs/val/p-s11-n11-l7-seed2_dd_slg_spanner_L4_H64_max_p10_v2.log\n",
      "aaai24_logs/val/n11-s2_dd_llg_visitall_L4_H64_mean_p10_v3.log\n",
      "aaai24_logs/val/p-l11-c11-s2_dd_dlg_ferry_L4_H64_max_p10_v1.log\n",
      "aaai24_logs/val/blocks11-task03_dd_llg_blocks_L4_H64_max_p10_v4.log\n",
      "aaai24_logs/val/n-puzzle-5x5-s22_dd_slg_n-puzzle_L4_H64_max_p10_v4.log\n",
      "aaai24_logs/val/n11-s0_dd_llg_visitsome_L4_H64_mean_p10_v1.log\n",
      "aaai24_logs/val/p-s11-n11-l7-seed3_dd_llg_spanner_L4_H64_max_p10_v1.log\n",
      "aaai24_logs/val/n11-s0_dd_llg_visitall_L4_H64_max_p10_v0.log\n",
      "aaai24_logs/val/n-puzzle-5x5-s20_dd_llg_n-puzzle_L4_H64_max_p10_v3.log\n",
      "aaai24_logs/val/p-n8-b2-w3-s12_dd_llg_sokoban_L4_H64_max_p10_v3.log\n",
      "aaai24_logs/val/p-s11-n11-l7-seed1_dd_llg_spanner_L4_H64_max_p10_v0.log\n",
      "aaai24_logs/val/n-puzzle-5x5-s20_dd_llg_n-puzzle_L4_H64_max_p10_v4.log\n",
      "aaai24_logs/val/p-n8-b2-w3-s12_dd_llg_sokoban_L4_H64_max_p10_v4.log\n",
      "aaai24_logs/val/blocks11-task01_dd_dlg_blocks_L4_H64_max_p10_v0.log\n",
      "aaai24_logs/val/p-l11-c11-s1_dd_dlg_ferry_L4_H64_max_p10_v0.log\n",
      "aaai24_logs/val/n11-s2_dd_slg_visitall_L4_H64_max_p10_v0.log\n",
      "aaai24_logs/val/p-n8-b2-w3-s10_dd_llg_sokoban_L4_H64_max_p10_v2.log\n",
      "aaai24_logs/val/n-puzzle-5x5-s22_dd_slg_n-puzzle_L4_H64_max_p10_v3.log\n",
      "aaai24_logs/val/blocks11-task01_dd_slg_blocks_L4_H64_max_p10_v3.log\n",
      "aaai24_logs/val/p-l11-c11-s3_dd_llg_ferry_L4_H64_mean_p10_v1.log\n",
      "aaai24_logs/val/n11-s2_dd_dlg_visitall_L4_H64_max_p10_v1.log\n",
      "aaai24_logs/val/p-s11-n11-l7-seed1_dd_dlg_spanner_L4_H64_max_p10_v3.log\n",
      "aaai24_logs/val/n11-s2_dd_slg_visitsome_L4_H64_max_p10_v0.log\n",
      "aaai24_logs/val/n-puzzle-5x5-s22_dd_dlg_n-puzzle_L4_H64_max_p10_v2.log\n",
      "aaai24_logs/val/n11-s1_dd_slg_visitsome_L4_H64_max_p10_v2.log\n",
      "aaai24_logs/val/n11-s0_dd_llg_visitsome_L4_H64_max_p10_v0.log\n",
      "aaai24_logs/val/p-n8-b2-w3-s10_dd_dlg_sokoban_L4_H64_max_p10_v1.log\n",
      "aaai24_logs/val/p-l11-c11-s2_dd_llg_ferry_L4_H64_max_p10_v3.log\n",
      "aaai24_logs/val/n-puzzle-5x5-s20_dd_llg_n-puzzle_L4_H64_mean_p10_v0.log\n",
      "aaai24_logs/val/p-s11-n11-l7-seed1_dd_llg_spanner_L4_H64_mean_p10_v2.log\n",
      "aaai24_logs/val/gripper-n11_dd_dlg_gripper_L4_H64_mean_p10_v2.log\n",
      "aaai24_logs/val/p-s11-n11-l7-seed3_dd_dlg_spanner_L4_H64_max_p10_v2.log\n",
      "aaai24_logs/val/p-l11-c11-s2_dd_llg_ferry_L4_H64_max_p10_v4.log\n",
      "aaai24_logs/val/p-n8-b2-w3-s11_dd_llg_sokoban_L4_H64_mean_p10_v2.log\n",
      "aaai24_logs/val/blocks11-task01_dd_slg_blocks_L4_H64_max_p10_v4.log\n",
      "aaai24_logs/val/p-s11-n11-l7-seed1_dd_dlg_spanner_L4_H64_max_p10_v4.log\n",
      "aaai24_logs/val/gripper-n11_dd_slg_gripper_L4_H64_max_p10_v0.log\n",
      "aaai24_logs/val/p-n8-b2-w3-s12_dd_dlg_sokoban_L4_H64_max_p10_v0.log\n",
      "aaai24_logs/val/p-l11-c11-s3_dd_llg_ferry_L4_H64_max_p10_v1.log\n",
      "aaai24_logs/val/blocks11-task02_dd_llg_blocks_L4_H64_mean_p10_v1.log\n",
      "aaai24_logs/val/p-l11-c11-s1_dd_llg_ferry_L4_H64_max_p10_v2.log\n",
      "aaai24_logs/val/n-puzzle-5x5-s21_dd_llg_n-puzzle_L4_H64_max_p10_v3.log\n",
      "aaai24_logs/val/n11-s1_dd_llg_visitall_L4_H64_max_p10_v0.log\n",
      "aaai24_logs/val/n-puzzle-5x5-s21_dd_llg_n-puzzle_L4_H64_max_p10_v4.log\n",
      "aaai24_logs/val/n11-s0_dd_dlg_visitsome_L4_H64_max_p10_v2.log\n",
      "aaai24_logs/val/blocks11-task02_dd_dlg_blocks_L4_H64_max_p10_v2.log\n",
      "aaai24_logs/val/n-puzzle-5x5-s21_dd_slg_n-puzzle_L4_H64_max_p10_v2.log\n",
      "aaai24_logs/val/blocks11-task02_dd_llg_blocks_L4_H64_max_p10_v4.log\n",
      "aaai24_logs/val/n11-s1_dd_slg_visitall_L4_H64_max_p10_v1.log\n",
      "aaai24_logs/val/p-n8-b2-w3-s11_dd_dlg_sokoban_L4_H64_max_p10_v0.log\n",
      "aaai24_logs/val/p-l11-c11-s1_dd_llg_ferry_L4_H64_mean_p10_v4.log\n",
      "aaai24_logs/val/p-s11-n11-l7-seed2_dd_dlg_spanner_L4_H64_max_p10_v4.log\n",
      "aaai24_logs/val/p-l11-c11-s1_dd_llg_ferry_L4_H64_mean_p10_v3.log\n",
      "aaai24_logs/val/blocks11-task03_dd_slg_blocks_L4_H64_max_p10_v1.log\n",
      "aaai24_logs/val/p-s11-n11-l7-seed2_dd_dlg_spanner_L4_H64_max_p10_v3.log\n",
      "aaai24_logs/val/blocks11-task02_dd_llg_blocks_L4_H64_max_p10_v3.log\n",
      "aaai24_logs/val/blocks11-task03_dd_llg_blocks_L4_H64_mean_p10_v0.log\n",
      "aaai24_logs/val/gripper-n11_dd_llg_gripper_L4_H64_max_p10_v2.log\n",
      "aaai24_logs/val/n-puzzle-5x5-s20_dd_dlg_n-puzzle_L4_H64_max_p10_v4.log\n",
      "aaai24_logs/val/p-s11-n11-l7-seed3_dd_llg_spanner_L4_H64_mean_p10_v3.log\n",
      "aaai24_logs/val/n11-s1_dd_llg_visitsome_L4_H64_mean_p10_v1.log\n",
      "aaai24_logs/val/p-s11-n11-l7-seed3_dd_llg_spanner_L4_H64_mean_p10_v4.log\n",
      "aaai24_logs/val/n11-s0_dd_llg_visitall_L4_H64_mean_p10_v1.log\n",
      "aaai24_logs/val/blocks11-task01_dd_llg_blocks_L4_H64_mean_p10_v1.log\n",
      "aaai24_logs/val/n11-s0_dd_dlg_visitall_L4_H64_max_p10_v0.log\n",
      "aaai24_logs/val/n-puzzle-5x5-s20_dd_dlg_n-puzzle_L4_H64_max_p10_v3.log\n",
      "aaai24_logs/val/n11-s0_dd_slg_visitall_L4_H64_max_p10_v1.log\n",
      "aaai24_logs/val/p-s11-n11-l7-seed3_dd_slg_spanner_L4_H64_max_p10_v4.log\n",
      "aaai24_logs/val/p-n8-b2-w3-s10_dd_slg_sokoban_L4_H64_max_p10_v0.log\n",
      "aaai24_logs/val/gripper-n11_dd_llg_gripper_L4_H64_mean_p10_v2.log\n",
      "aaai24_logs/val/n-puzzle-5x5-s20_dd_slg_n-puzzle_L4_H64_max_p10_v2.log\n",
      "aaai24_logs/val/p-l11-c11-s2_dd_slg_ferry_L4_H64_max_p10_v2.log\n",
      "aaai24_logs/val/n11-s2_dd_llg_visitsome_L4_H64_mean_p10_v4.log\n",
      "aaai24_logs/val/p-s11-n11-l7-seed1_dd_slg_spanner_L4_H64_max_p10_v2.log\n",
      "aaai24_logs/val/n11-s2_dd_llg_visitsome_L4_H64_mean_p10_v3.log\n",
      "aaai24_logs/val/n11-s1_dd_dlg_visitsome_L4_H64_max_p10_v2.log\n",
      "aaai24_logs/val/n11-s2_dd_llg_visitall_L4_H64_max_p10_v1.log\n",
      "aaai24_logs/val/p-n8-b2-w3-s12_dd_slg_sokoban_L4_H64_max_p10_v1.log\n",
      "aaai24_logs/val/blocks11-task01_dd_llg_blocks_L4_H64_max_p10_v1.log\n",
      "aaai24_logs/val/gripper-n11_dd_dlg_gripper_L4_H64_max_p10_v1.log\n",
      "aaai24_logs/val/n-puzzle-5x5-s22_dd_llg_n-puzzle_L4_H64_max_p10_v2.log\n",
      "aaai24_logs/val/p-l11-c11-s3_dd_slg_ferry_L4_H64_max_p10_v0.log\n",
      "aaai24_logs/val/p-l11-c11-s2_dd_llg_ferry_L4_H64_mean_p10_v1.log\n",
      "aaai24_logs/val/p-s11-n11-l7-seed3_dd_slg_spanner_L4_H64_max_p10_v3.log\n",
      "aaai24_logs/val/n11-s2_dd_dlg_visitsome_L4_H64_max_p10_v0.log\n",
      "aaai24_logs/val/p-n8-b2-w3-s11_dd_llg_sokoban_L4_H64_max_p10_v4.log\n",
      "aaai24_logs/val/n-puzzle-5x5-s21_dd_dlg_n-puzzle_L4_H64_max_p10_v4.log\n",
      "aaai24_logs/val/blocks11-task03_dd_dlg_blocks_L4_H64_max_p10_v2.log\n",
      "aaai24_logs/val/n-puzzle-5x5-s22_dd_llg_n-puzzle_L4_H64_mean_p10_v2.log\n",
      "aaai24_logs/val/p-l11-c11-s1_dd_slg_ferry_L4_H64_max_p10_v3.log\n",
      "aaai24_logs/val/n11-s2_dd_llg_visitsome_L4_H64_max_p10_v2.log\n",
      "aaai24_logs/val/p-s11-n11-l7-seed2_dd_llg_spanner_L4_H64_max_p10_v0.log\n",
      "aaai24_logs/val/n-puzzle-5x5-s21_dd_llg_n-puzzle_L4_H64_mean_p10_v0.log\n",
      "aaai24_logs/val/p-n8-b2-w3-s12_dd_llg_sokoban_L4_H64_mean_p10_v3.log\n",
      "aaai24_logs/val/p-s11-n11-l7-seed2_dd_llg_spanner_L4_H64_mean_p10_v3.log\n",
      "aaai24_logs/val/n11-s0_dd_slg_visitsome_L4_H64_max_p10_v2.log\n",
      "aaai24_logs/val/n11-s1_dd_llg_visitsome_L4_H64_max_p10_v0.log\n",
      "aaai24_logs/val/p-n8-b2-w3-s12_dd_llg_sokoban_L4_H64_mean_p10_v4.log\n",
      "aaai24_logs/val/p-s11-n11-l7-seed2_dd_llg_spanner_L4_H64_mean_p10_v4.log\n",
      "aaai24_logs/val/n-puzzle-5x5-s21_dd_dlg_n-puzzle_L4_H64_max_p10_v3.log\n",
      "aaai24_logs/val/p-n8-b2-w3-s11_dd_llg_sokoban_L4_H64_max_p10_v3.log\n",
      "aaai24_logs/val/p-l11-c11-s1_dd_slg_ferry_L4_H64_max_p10_v4.log\n",
      "aaai24_logs/val/n11-s1_dd_dlg_visitall_L4_H64_max_p10_v0.log\n",
      "aaai24_logs/val/n11-s0_dd_dlg_visitsome_L4_H64_max_p10_v3.log\n",
      "aaai24_logs/val/blocks11-task02_dd_dlg_blocks_L4_H64_max_p10_v3.log\n",
      "aaai24_logs/val/p-l11-c11-s1_dd_llg_ferry_L4_H64_max_p10_v4.log\n",
      "aaai24_logs/val/blocks11-task02_dd_llg_blocks_L4_H64_mean_p10_v0.log\n",
      "aaai24_logs/val/blocks11-task02_dd_dlg_blocks_L4_H64_max_p10_v4.log\n",
      "aaai24_logs/val/p-l11-c11-s1_dd_llg_ferry_L4_H64_max_p10_v3.log\n",
      "aaai24_logs/val/n-puzzle-5x5-s21_dd_llg_n-puzzle_L4_H64_max_p10_v2.log\n",
      "aaai24_logs/val/n11-s1_dd_llg_visitall_L4_H64_max_p10_v1.log\n",
      "aaai24_logs/val/n11-s0_dd_dlg_visitsome_L4_H64_max_p10_v4.log\n",
      "aaai24_logs/val/n11-s1_dd_slg_visitsome_L4_H64_max_p10_v4.log\n",
      "aaai24_logs/val/p-s11-n11-l7-seed1_dd_llg_spanner_L4_H64_mean_p10_v3.log\n",
      "aaai24_logs/val/p-s11-n11-l7-seed3_dd_dlg_spanner_L4_H64_max_p10_v3.log\n",
      "aaai24_logs/val/gripper-n11_dd_dlg_gripper_L4_H64_mean_p10_v3.log\n",
      "aaai24_logs/val/p-n8-b2-w3-s11_dd_llg_sokoban_L4_H64_mean_p10_v3.log\n",
      "aaai24_logs/val/gripper-n11_dd_slg_gripper_L4_H64_max_p10_v1.log\n",
      "aaai24_logs/val/p-n8-b2-w3-s12_dd_dlg_sokoban_L4_H64_max_p10_v1.log\n",
      "aaai24_logs/val/n-puzzle-5x5-s22_dd_dlg_n-puzzle_L4_H64_max_p10_v4.log\n",
      "aaai24_logs/val/p-l11-c11-s3_dd_llg_ferry_L4_H64_max_p10_v0.log\n",
      "aaai24_logs/val/p-l11-c11-s3_dd_llg_ferry_L4_H64_mean_p10_v0.log\n",
      "aaai24_logs/val/n11-s2_dd_dlg_visitall_L4_H64_max_p10_v0.log\n",
      "aaai24_logs/val/blocks11-task01_dd_slg_blocks_L4_H64_max_p10_v2.log\n",
      "aaai24_logs/val/n11-s2_dd_slg_visitsome_L4_H64_max_p10_v1.log\n",
      "aaai24_logs/val/p-s11-n11-l7-seed1_dd_dlg_spanner_L4_H64_max_p10_v2.log\n",
      "aaai24_logs/val/n-puzzle-5x5-s22_dd_dlg_n-puzzle_L4_H64_max_p10_v3.log\n",
      "aaai24_logs/val/n11-s0_dd_llg_visitsome_L4_H64_max_p10_v1.log\n",
      "aaai24_logs/val/n11-s1_dd_slg_visitsome_L4_H64_max_p10_v3.log\n",
      "aaai24_logs/val/p-s11-n11-l7-seed1_dd_llg_spanner_L4_H64_mean_p10_v4.log\n",
      "aaai24_logs/val/p-n8-b2-w3-s10_dd_dlg_sokoban_L4_H64_max_p10_v0.log\n",
      "aaai24_logs/val/p-s11-n11-l7-seed3_dd_dlg_spanner_L4_H64_max_p10_v4.log\n",
      "aaai24_logs/val/gripper-n11_dd_dlg_gripper_L4_H64_mean_p10_v4.log\n",
      "aaai24_logs/val/p-n8-b2-w3-s11_dd_llg_sokoban_L4_H64_mean_p10_v4.log\n",
      "aaai24_logs/val/n-puzzle-5x5-s20_dd_llg_n-puzzle_L4_H64_mean_p10_v1.log\n",
      "aaai24_logs/val/p-l11-c11-s2_dd_llg_ferry_L4_H64_max_p10_v2.log\n",
      "aaai24_logs/val/p-s11-n11-l7-seed1_dd_llg_spanner_L4_H64_max_p10_v1.log\n",
      "aaai24_logs/val/blocks11-task01_dd_dlg_blocks_L4_H64_max_p10_v1.log\n",
      "aaai24_logs/val/p-l11-c11-s1_dd_dlg_ferry_L4_H64_max_p10_v1.log\n",
      "aaai24_logs/val/n11-s2_dd_slg_visitall_L4_H64_max_p10_v1.log\n",
      "aaai24_logs/val/p-n8-b2-w3-s10_dd_llg_sokoban_L4_H64_max_p10_v3.log\n",
      "aaai24_logs/val/n-puzzle-5x5-s22_dd_slg_n-puzzle_L4_H64_max_p10_v2.log\n",
      "aaai24_logs/val/p-n8-b2-w3-s10_dd_llg_sokoban_L4_H64_max_p10_v4.log\n",
      "aaai24_logs/val/p-s11-n11-l7-seed3_dd_llg_spanner_L4_H64_max_p10_v0.log\n",
      "aaai24_logs/val/n11-s0_dd_llg_visitsome_L4_H64_mean_p10_v0.log\n",
      "aaai24_logs/val/n11-s0_dd_llg_visitall_L4_H64_max_p10_v1.log\n",
      "aaai24_logs/val/n-puzzle-5x5-s20_dd_llg_n-puzzle_L4_H64_max_p10_v2.log\n",
      "aaai24_logs/val/p-n8-b2-w3-s12_dd_llg_sokoban_L4_H64_max_p10_v2.log\n",
      "aaai24_logs/val/p-n8-b2-w3-s10_dd_llg_sokoban_L4_H64_mean_p10_v3.log\n",
      "aaai24_logs/val/n11-s1_dd_llg_visitall_L4_H64_mean_p10_v0.log\n",
      "aaai24_logs/val/p-s11-n11-l7-seed2_dd_slg_spanner_L4_H64_max_p10_v3.log\n",
      "aaai24_logs/val/p-l11-c11-s2_dd_dlg_ferry_L4_H64_max_p10_v0.log\n",
      "aaai24_logs/val/n11-s2_dd_llg_visitall_L4_H64_mean_p10_v2.log\n",
      "aaai24_logs/val/p-s11-n11-l7-seed2_dd_slg_spanner_L4_H64_max_p10_v4.log\n",
      "aaai24_logs/val/blocks11-task03_dd_llg_blocks_L4_H64_max_p10_v2.log\n",
      "aaai24_logs/val/p-n8-b2-w3-s11_dd_slg_sokoban_L4_H64_max_p10_v0.log\n",
      "aaai24_logs/val/p-n8-b2-w3-s10_dd_llg_sokoban_L4_H64_mean_p10_v4.log\n",
      "aaai24_logs/val/p-l11-c11-s3_dd_dlg_ferry_L4_H64_max_p10_v2.log\n",
      "aaai24_logs/val/blocks11-task02_dd_slg_blocks_L4_H64_max_p10_v0.log\n",
      "aaai24_logs/val/blocks11-task02_dd_llg_blocks_L4_H64_mean_p10_v3.log\n",
      "aaai24_logs/val/p-l11-c11-s1_dd_llg_ferry_L4_H64_max_p10_v0.log\n",
      "aaai24_logs/val/n-puzzle-5x5-s21_dd_llg_n-puzzle_L4_H64_max_p10_v1.log\n",
      "aaai24_logs/val/n11-s1_dd_llg_visitall_L4_H64_max_p10_v2.log\n",
      "aaai24_logs/val/n11-s0_dd_dlg_visitsome_L4_H64_max_p10_v0.log\n",
      "aaai24_logs/val/blocks11-task02_dd_dlg_blocks_L4_H64_max_p10_v0.log\n",
      "aaai24_logs/val/blocks11-task02_dd_llg_blocks_L4_H64_mean_p10_v4.log\n",
      "aaai24_logs/val/blocks11-task01_dd_slg_blocks_L4_H64_max_p10_v1.log\n",
      "aaai24_logs/val/n11-s2_dd_dlg_visitall_L4_H64_max_p10_v3.log\n",
      "aaai24_logs/val/p-l11-c11-s3_dd_llg_ferry_L4_H64_mean_p10_v3.log\n",
      "aaai24_logs/val/p-s11-n11-l7-seed1_dd_dlg_spanner_L4_H64_max_p10_v1.log\n",
      "aaai24_logs/val/n11-s2_dd_slg_visitsome_L4_H64_max_p10_v2.log\n",
      "aaai24_logs/val/p-l11-c11-s3_dd_llg_ferry_L4_H64_max_p10_v4.log\n",
      "aaai24_logs/val/n-puzzle-5x5-s22_dd_dlg_n-puzzle_L4_H64_max_p10_v0.log\n",
      "aaai24_logs/val/n11-s0_dd_llg_visitsome_L4_H64_max_p10_v2.log\n",
      "aaai24_logs/val/n11-s1_dd_slg_visitsome_L4_H64_max_p10_v0.log\n",
      "aaai24_logs/val/p-n8-b2-w3-s10_dd_dlg_sokoban_L4_H64_max_p10_v3.log\n",
      "aaai24_logs/val/p-l11-c11-s2_dd_llg_ferry_L4_H64_max_p10_v1.log\n",
      "aaai24_logs/val/n-puzzle-5x5-s20_dd_llg_n-puzzle_L4_H64_mean_p10_v2.log\n",
      "aaai24_logs/val/p-s11-n11-l7-seed1_dd_llg_spanner_L4_H64_mean_p10_v0.log\n",
      "aaai24_logs/val/p-n8-b2-w3-s10_dd_dlg_sokoban_L4_H64_max_p10_v4.log\n",
      "aaai24_logs/val/gripper-n11_dd_dlg_gripper_L4_H64_mean_p10_v0.log\n",
      "aaai24_logs/val/p-s11-n11-l7-seed3_dd_dlg_spanner_L4_H64_max_p10_v0.log\n",
      "aaai24_logs/val/p-n8-b2-w3-s11_dd_llg_sokoban_L4_H64_mean_p10_v0.log\n",
      "aaai24_logs/val/p-l11-c11-s3_dd_llg_ferry_L4_H64_mean_p10_v4.log\n",
      "aaai24_logs/val/n11-s2_dd_dlg_visitall_L4_H64_max_p10_v4.log\n",
      "aaai24_logs/val/gripper-n11_dd_slg_gripper_L4_H64_max_p10_v2.log\n",
      "aaai24_logs/val/p-n8-b2-w3-s12_dd_dlg_sokoban_L4_H64_max_p10_v2.log\n",
      "aaai24_logs/val/p-l11-c11-s3_dd_llg_ferry_L4_H64_max_p10_v3.log\n",
      "aaai24_logs/val/n11-s0_dd_llg_visitsome_L4_H64_mean_p10_v3.log\n",
      "aaai24_logs/val/p-s11-n11-l7-seed3_dd_llg_spanner_L4_H64_max_p10_v3.log\n",
      "aaai24_logs/val/n11-s0_dd_llg_visitall_L4_H64_max_p10_v2.log\n",
      "aaai24_logs/val/p-n8-b2-w3-s12_dd_llg_sokoban_L4_H64_max_p10_v1.log\n",
      "aaai24_logs/val/n-puzzle-5x5-s20_dd_llg_n-puzzle_L4_H64_max_p10_v1.log\n",
      "aaai24_logs/val/p-s11-n11-l7-seed1_dd_llg_spanner_L4_H64_max_p10_v2.log\n",
      "aaai24_logs/val/blocks11-task01_dd_dlg_blocks_L4_H64_max_p10_v2.log\n",
      "aaai24_logs/val/p-l11-c11-s1_dd_dlg_ferry_L4_H64_max_p10_v2.log\n",
      "aaai24_logs/val/p-n8-b2-w3-s10_dd_llg_sokoban_L4_H64_max_p10_v0.log\n",
      "aaai24_logs/val/n11-s2_dd_slg_visitall_L4_H64_max_p10_v2.log\n",
      "aaai24_logs/val/n-puzzle-5x5-s22_dd_slg_n-puzzle_L4_H64_max_p10_v1.log\n",
      "aaai24_logs/val/n11-s0_dd_llg_visitsome_L4_H64_mean_p10_v4.log\n",
      "aaai24_logs/val/p-s11-n11-l7-seed3_dd_llg_spanner_L4_H64_max_p10_v4.log\n",
      "aaai24_logs/val/p-l11-c11-s2_dd_dlg_ferry_L4_H64_max_p10_v4.log\n",
      "aaai24_logs/val/p-n8-b2-w3-s11_dd_slg_sokoban_L4_H64_max_p10_v3.log\n",
      "aaai24_logs/val/blocks11-task03_dd_llg_blocks_L4_H64_max_p10_v1.log\n",
      "aaai24_logs/val/p-l11-c11-s3_dd_dlg_ferry_L4_H64_max_p10_v1.log\n",
      "aaai24_logs/val/n11-s1_dd_llg_visitall_L4_H64_mean_p10_v4.log\n",
      "aaai24_logs/val/blocks11-task02_dd_slg_blocks_L4_H64_max_p10_v3.log\n",
      "aaai24_logs/val/p-n8-b2-w3-s10_dd_llg_sokoban_L4_H64_mean_p10_v0.log\n",
      "aaai24_logs/val/n11-s1_dd_llg_visitall_L4_H64_mean_p10_v3.log\n",
      "aaai24_logs/val/blocks11-task02_dd_slg_blocks_L4_H64_max_p10_v4.log\n",
      "aaai24_logs/val/p-s11-n11-l7-seed2_dd_slg_spanner_L4_H64_max_p10_v0.log\n",
      "aaai24_logs/val/p-l11-c11-s2_dd_dlg_ferry_L4_H64_max_p10_v3.log\n",
      "aaai24_logs/val/n11-s2_dd_llg_visitall_L4_H64_mean_p10_v1.log\n",
      "aaai24_logs/val/p-n8-b2-w3-s11_dd_slg_sokoban_L4_H64_max_p10_v4.log\n",
      "aaai24_logs/val/p-n8-b2-w3-s11_dd_dlg_sokoban_L4_H64_max_p10_v4.log\n",
      "aaai24_logs/val/blocks11-task03_dd_slg_blocks_L4_H64_max_p10_v2.log\n",
      "aaai24_logs/val/p-l11-c11-s1_dd_llg_ferry_L4_H64_mean_p10_v0.log\n",
      "aaai24_logs/val/p-s11-n11-l7-seed2_dd_dlg_spanner_L4_H64_max_p10_v0.log\n",
      "aaai24_logs/val/blocks11-task02_dd_llg_blocks_L4_H64_max_p10_v0.log\n",
      "aaai24_logs/val/n-puzzle-5x5-s21_dd_slg_n-puzzle_L4_H64_max_p10_v1.log\n",
      "aaai24_logs/val/n11-s1_dd_slg_visitall_L4_H64_max_p10_v2.log\n",
      "aaai24_logs/val/p-n8-b2-w3-s11_dd_dlg_sokoban_L4_H64_max_p10_v3.log\n",
      "aaai24_logs/val/n11-s0_dd_llg_visitall_L4_H64_mean_p10_v2.log\n",
      "aaai24_logs/val/blocks11-task01_dd_llg_blocks_L4_H64_mean_p10_v2.log\n",
      "aaai24_logs/val/blocks11-task03_dd_llg_blocks_L4_H64_mean_p10_v4.log\n",
      "aaai24_logs/val/n11-s0_dd_dlg_visitall_L4_H64_max_p10_v3.log\n",
      "aaai24_logs/val/n-puzzle-5x5-s20_dd_dlg_n-puzzle_L4_H64_max_p10_v0.log\n",
      "aaai24_logs/val/blocks11-task03_dd_llg_blocks_L4_H64_mean_p10_v3.log\n",
      "aaai24_logs/val/n11-s0_dd_dlg_visitall_L4_H64_max_p10_v4.log\n",
      "aaai24_logs/val/gripper-n11_dd_llg_gripper_L4_H64_max_p10_v1.log\n",
      "aaai24_logs/val/p-s11-n11-l7-seed3_dd_llg_spanner_L4_H64_mean_p10_v0.log\n",
      "aaai24_logs/val/n11-s1_dd_llg_visitsome_L4_H64_mean_p10_v2.log\n",
      "aaai24_logs/val/n11-s2_dd_llg_visitall_L4_H64_max_p10_v2.log\n",
      "aaai24_logs/val/n11-s1_dd_dlg_visitsome_L4_H64_max_p10_v1.log\n",
      "aaai24_logs/val/n11-s2_dd_llg_visitsome_L4_H64_mean_p10_v0.log\n",
      "aaai24_logs/val/blocks11-task01_dd_llg_blocks_L4_H64_max_p10_v2.log\n",
      "aaai24_logs/val/p-n8-b2-w3-s12_dd_slg_sokoban_L4_H64_max_p10_v2.log\n",
      "aaai24_logs/val/gripper-n11_dd_dlg_gripper_L4_H64_max_p10_v2.log\n",
      "aaai24_logs/val/n-puzzle-5x5-s22_dd_llg_n-puzzle_L4_H64_max_p10_v1.log\n",
      "aaai24_logs/val/p-l11-c11-s3_dd_slg_ferry_L4_H64_max_p10_v3.log\n",
      "aaai24_logs/val/n11-s2_dd_dlg_visitsome_L4_H64_max_p10_v3.log\n",
      "aaai24_logs/val/p-s11-n11-l7-seed3_dd_slg_spanner_L4_H64_max_p10_v0.log\n",
      "aaai24_logs/val/p-l11-c11-s2_dd_llg_ferry_L4_H64_mean_p10_v2.log\n",
      "aaai24_logs/val/p-n8-b2-w3-s10_dd_slg_sokoban_L4_H64_max_p10_v4.log\n",
      "aaai24_logs/val/p-l11-c11-s3_dd_slg_ferry_L4_H64_max_p10_v4.log\n",
      "aaai24_logs/val/n11-s0_dd_slg_visitall_L4_H64_max_p10_v2.log\n",
      "aaai24_logs/val/n11-s2_dd_dlg_visitsome_L4_H64_max_p10_v4.log\n",
      "aaai24_logs/val/gripper-n11_dd_llg_gripper_L4_H64_mean_p10_v1.log\n",
      "aaai24_logs/val/p-n8-b2-w3-s10_dd_slg_sokoban_L4_H64_max_p10_v3.log\n",
      "aaai24_logs/val/n-puzzle-5x5-s20_dd_slg_n-puzzle_L4_H64_max_p10_v1.log\n",
      "aaai24_logs/val/p-l11-c11-s2_dd_slg_ferry_L4_H64_max_p10_v1.log\n",
      "aaai24_logs/val/p-s11-n11-l7-seed1_dd_slg_spanner_L4_H64_max_p10_v1.log\n",
      "aaai24_logs/val/n-puzzle-5x5-s21_dd_llg_n-puzzle_L4_H64_mean_p10_v4.log\n",
      "aaai24_logs/val/n11-s1_dd_llg_visitsome_L4_H64_max_p10_v4.log\n",
      "aaai24_logs/val/p-n8-b2-w3-s11_dd_llg_sokoban_L4_H64_max_p10_v0.log\n",
      "aaai24_logs/val/n-puzzle-5x5-s21_dd_dlg_n-puzzle_L4_H64_max_p10_v0.log\n",
      "aaai24_logs/val/n11-s1_dd_dlg_visitall_L4_H64_max_p10_v3.log\n",
      "aaai24_logs/val/p-s11-n11-l7-seed2_dd_llg_spanner_L4_H64_max_p10_v4.log\n",
      "aaai24_logs/val/blocks11-task03_dd_dlg_blocks_L4_H64_max_p10_v1.log\n",
      "aaai24_logs/val/p-l11-c11-s1_dd_slg_ferry_L4_H64_max_p10_v0.log\n",
      "aaai24_logs/val/n-puzzle-5x5-s22_dd_llg_n-puzzle_L4_H64_mean_p10_v1.log\n",
      "aaai24_logs/val/n11-s2_dd_llg_visitsome_L4_H64_max_p10_v1.log\n",
      "aaai24_logs/val/n11-s1_dd_dlg_visitall_L4_H64_max_p10_v4.log\n",
      "aaai24_logs/val/p-s11-n11-l7-seed2_dd_llg_spanner_L4_H64_max_p10_v3.log\n",
      "aaai24_logs/val/p-n8-b2-w3-s12_dd_llg_sokoban_L4_H64_mean_p10_v0.log\n",
      "aaai24_logs/val/n-puzzle-5x5-s21_dd_llg_n-puzzle_L4_H64_mean_p10_v3.log\n",
      "aaai24_logs/val/p-s11-n11-l7-seed2_dd_llg_spanner_L4_H64_mean_p10_v0.log\n",
      "aaai24_logs/val/n11-s0_dd_slg_visitsome_L4_H64_max_p10_v1.log\n",
      "aaai24_logs/val/n11-s1_dd_llg_visitsome_L4_H64_max_p10_v3.log\n",
      "aaai24_logs/val/p-n8-b2-w3-s10_dd_llg_sokoban_L4_H64_mean_p10_v1.log\n",
      "aaai24_logs/val/n11-s1_dd_llg_visitall_L4_H64_mean_p10_v2.log\n",
      "aaai24_logs/val/p-s11-n11-l7-seed2_dd_slg_spanner_L4_H64_max_p10_v1.log\n",
      "aaai24_logs/val/n11-s2_dd_llg_visitall_L4_H64_mean_p10_v0.log\n",
      "aaai24_logs/val/p-l11-c11-s2_dd_dlg_ferry_L4_H64_max_p10_v2.log\n",
      "aaai24_logs/val/p-n8-b2-w3-s11_dd_slg_sokoban_L4_H64_max_p10_v2.log\n",
      "aaai24_logs/val/blocks11-task03_dd_llg_blocks_L4_H64_max_p10_v0.log\n",
      "aaai24_logs/val/p-l11-c11-s3_dd_dlg_ferry_L4_H64_max_p10_v0.log\n",
      "aaai24_logs/val/blocks11-task02_dd_slg_blocks_L4_H64_max_p10_v2.log\n",
      "aaai24_logs/val/p-s11-n11-l7-seed1_dd_llg_spanner_L4_H64_max_p10_v3.log\n",
      "aaai24_logs/val/n11-s0_dd_llg_visitall_L4_H64_max_p10_v4.log\n",
      "aaai24_logs/val/blocks11-task01_dd_dlg_blocks_L4_H64_max_p10_v3.log\n",
      "aaai24_logs/val/p-l11-c11-s1_dd_dlg_ferry_L4_H64_max_p10_v3.log\n",
      "aaai24_logs/val/p-n8-b2-w3-s10_dd_llg_sokoban_L4_H64_max_p10_v1.log\n",
      "aaai24_logs/val/n11-s2_dd_slg_visitall_L4_H64_max_p10_v3.log\n",
      "aaai24_logs/val/n-puzzle-5x5-s22_dd_slg_n-puzzle_L4_H64_max_p10_v0.log\n",
      "aaai24_logs/val/n11-s2_dd_slg_visitall_L4_H64_max_p10_v4.log\n",
      "aaai24_logs/val/p-s11-n11-l7-seed3_dd_llg_spanner_L4_H64_max_p10_v2.log\n",
      "aaai24_logs/val/n11-s0_dd_llg_visitsome_L4_H64_mean_p10_v2.log\n",
      "aaai24_logs/val/p-s11-n11-l7-seed1_dd_llg_spanner_L4_H64_max_p10_v4.log\n",
      "aaai24_logs/val/n11-s0_dd_llg_visitall_L4_H64_max_p10_v3.log\n",
      "aaai24_logs/val/blocks11-task01_dd_dlg_blocks_L4_H64_max_p10_v4.log\n",
      "aaai24_logs/val/p-n8-b2-w3-s12_dd_llg_sokoban_L4_H64_max_p10_v0.log\n",
      "aaai24_logs/val/n-puzzle-5x5-s20_dd_llg_n-puzzle_L4_H64_max_p10_v0.log\n",
      "aaai24_logs/val/p-l11-c11-s1_dd_dlg_ferry_L4_H64_max_p10_v4.log\n",
      "aaai24_logs/val/n11-s0_dd_llg_visitsome_L4_H64_max_p10_v4.log\n",
      "aaai24_logs/val/p-s11-n11-l7-seed1_dd_llg_spanner_L4_H64_mean_p10_v1.log\n",
      "aaai24_logs/val/p-s11-n11-l7-seed3_dd_dlg_spanner_L4_H64_max_p10_v1.log\n",
      "aaai24_logs/val/gripper-n11_dd_dlg_gripper_L4_H64_mean_p10_v1.log\n",
      "aaai24_logs/val/p-n8-b2-w3-s11_dd_llg_sokoban_L4_H64_mean_p10_v1.log\n",
      "aaai24_logs/val/n-puzzle-5x5-s20_dd_llg_n-puzzle_L4_H64_mean_p10_v4.log\n",
      "aaai24_logs/val/gripper-n11_dd_slg_gripper_L4_H64_max_p10_v3.log\n",
      "aaai24_logs/val/n11-s2_dd_slg_visitsome_L4_H64_max_p10_v4.log\n",
      "aaai24_logs/val/p-n8-b2-w3-s12_dd_dlg_sokoban_L4_H64_max_p10_v3.log\n",
      "aaai24_logs/val/p-l11-c11-s3_dd_llg_ferry_L4_H64_max_p10_v2.log\n",
      "aaai24_logs/val/n11-s2_dd_dlg_visitall_L4_H64_max_p10_v2.log\n",
      "aaai24_logs/val/p-l11-c11-s3_dd_llg_ferry_L4_H64_mean_p10_v2.log\n",
      "aaai24_logs/val/blocks11-task01_dd_slg_blocks_L4_H64_max_p10_v0.log\n",
      "aaai24_logs/val/n11-s2_dd_slg_visitsome_L4_H64_max_p10_v3.log\n",
      "aaai24_logs/val/gripper-n11_dd_slg_gripper_L4_H64_max_p10_v4.log\n",
      "aaai24_logs/val/p-s11-n11-l7-seed1_dd_dlg_spanner_L4_H64_max_p10_v0.log\n",
      "aaai24_logs/val/p-n8-b2-w3-s12_dd_dlg_sokoban_L4_H64_max_p10_v4.log\n",
      "aaai24_logs/val/n-puzzle-5x5-s22_dd_dlg_n-puzzle_L4_H64_max_p10_v1.log\n",
      "aaai24_logs/val/n11-s1_dd_slg_visitsome_L4_H64_max_p10_v1.log\n",
      "aaai24_logs/val/n11-s0_dd_llg_visitsome_L4_H64_max_p10_v3.log\n",
      "aaai24_logs/val/p-n8-b2-w3-s10_dd_dlg_sokoban_L4_H64_max_p10_v2.log\n",
      "aaai24_logs/val/n-puzzle-5x5-s20_dd_llg_n-puzzle_L4_H64_mean_p10_v3.log\n",
      "aaai24_logs/val/p-l11-c11-s2_dd_llg_ferry_L4_H64_max_p10_v0.log\n",
      "aaai24_logs/val/n11-s1_dd_llg_visitall_L4_H64_max_p10_v4.log\n",
      "aaai24_logs/val/n11-s0_dd_dlg_visitsome_L4_H64_max_p10_v1.log\n",
      "aaai24_logs/val/blocks11-task02_dd_dlg_blocks_L4_H64_max_p10_v1.log\n",
      "aaai24_logs/val/p-s11-n11-l7-seed2_dd_dlg_spanner_L4_H64_mean_p10_v0.log\n",
      "aaai24_logs/val/blocks11-task02_dd_llg_blocks_L4_H64_mean_p10_v2.log\n",
      "aaai24_logs/val/p-l11-c11-s1_dd_llg_ferry_L4_H64_max_p10_v1.log\n",
      "aaai24_logs/val/n-puzzle-5x5-s21_dd_llg_n-puzzle_L4_H64_max_p10_v0.log\n",
      "aaai24_logs/val/n11-s1_dd_llg_visitall_L4_H64_max_p10_v3.log\n",
      "aaai24_logs/val/blocks11-task03_dd_dlg_blocks_L4_H64_max_p10_v0.log\n",
      "aaai24_logs/val/p-l11-c11-s1_dd_slg_ferry_L4_H64_max_p10_v1.log\n",
      "aaai24_logs/val/n-puzzle-5x5-s22_dd_llg_n-puzzle_L4_H64_mean_p10_v0.log\n",
      "aaai24_logs/val/n11-s2_dd_llg_visitsome_L4_H64_max_p10_v0.log\n",
      "aaai24_logs/val/p-s11-n11-l7-seed2_dd_llg_spanner_L4_H64_max_p10_v2.log\n",
      "aaai24_logs/val/n-puzzle-5x5-s21_dd_llg_n-puzzle_L4_H64_mean_p10_v2.log\n",
      "aaai24_logs/val/p-n8-b2-w3-s12_dd_llg_sokoban_L4_H64_mean_p10_v1.log\n",
      "aaai24_logs/val/p-s11-n11-l7-seed2_dd_llg_spanner_L4_H64_mean_p10_v1.log\n",
      "aaai24_logs/val/n11-s1_dd_llg_visitsome_L4_H64_max_p10_v2.log\n",
      "aaai24_logs/val/n11-s0_dd_slg_visitsome_L4_H64_max_p10_v0.log\n",
      "aaai24_logs/val/p-n8-b2-w3-s11_dd_llg_sokoban_L4_H64_max_p10_v1.log\n",
      "aaai24_logs/val/n-puzzle-5x5-s21_dd_dlg_n-puzzle_L4_H64_max_p10_v1.log\n",
      "aaai24_logs/val/n11-s1_dd_dlg_visitall_L4_H64_max_p10_v2.log\n",
      "aaai24_logs/val/n11-s0_dd_slg_visitall_L4_H64_max_p10_v3.log\n",
      "aaai24_logs/val/p-l11-c11-s2_dd_llg_ferry_L4_H64_mean_p10_v4.log\n",
      "aaai24_logs/val/gripper-n11_dd_llg_gripper_L4_H64_mean_p10_v0.log\n",
      "aaai24_logs/val/p-n8-b2-w3-s10_dd_slg_sokoban_L4_H64_max_p10_v2.log\n",
      "aaai24_logs/val/n-puzzle-5x5-s20_dd_slg_n-puzzle_L4_H64_max_p10_v0.log\n",
      "aaai24_logs/val/n11-s2_dd_llg_visitall_L4_H64_max_p10_v4.log\n",
      "aaai24_logs/val/p-l11-c11-s2_dd_slg_ferry_L4_H64_max_p10_v0.log\n",
      "aaai24_logs/val/p-n8-b2-w3-s12_dd_slg_sokoban_L4_H64_max_p10_v4.log\n",
      "aaai24_logs/val/blocks11-task01_dd_llg_blocks_L4_H64_max_p10_v4.log\n",
      "aaai24_logs/val/p-s11-n11-l7-seed1_dd_slg_spanner_L4_H64_max_p10_v0.log\n",
      "aaai24_logs/val/gripper-n11_dd_dlg_gripper_L4_H64_max_p10_v4.log\n",
      "aaai24_logs/val/n11-s1_dd_dlg_visitsome_L4_H64_max_p10_v0.log\n",
      "aaai24_logs/val/n11-s2_dd_llg_visitall_L4_H64_max_p10_v3.log\n",
      "aaai24_logs/val/n11-s2_dd_llg_visitsome_L4_H64_mean_p10_v1.log\n",
      "aaai24_logs/val/p-n8-b2-w3-s12_dd_slg_sokoban_L4_H64_max_p10_v3.log\n",
      "aaai24_logs/val/blocks11-task01_dd_llg_blocks_L4_H64_max_p10_v3.log\n",
      "aaai24_logs/val/gripper-n11_dd_dlg_gripper_L4_H64_max_p10_v3.log\n",
      "aaai24_logs/val/n-puzzle-5x5-s22_dd_llg_n-puzzle_L4_H64_max_p10_v0.log\n",
      "aaai24_logs/val/p-l11-c11-s3_dd_slg_ferry_L4_H64_max_p10_v2.log\n",
      "aaai24_logs/val/n11-s0_dd_slg_visitall_L4_H64_max_p10_v4.log\n",
      "aaai24_logs/val/n11-s2_dd_dlg_visitsome_L4_H64_max_p10_v2.log\n",
      "aaai24_logs/val/p-l11-c11-s2_dd_llg_ferry_L4_H64_mean_p10_v3.log\n",
      "aaai24_logs/val/p-s11-n11-l7-seed3_dd_slg_spanner_L4_H64_max_p10_v1.log\n",
      "aaai24_logs/val/blocks11-task03_dd_llg_blocks_L4_H64_mean_p10_v2.log\n",
      "aaai24_logs/val/gripper-n11_dd_llg_gripper_L4_H64_max_p10_v0.log\n",
      "aaai24_logs/val/p-s11-n11-l7-seed3_dd_llg_spanner_L4_H64_mean_p10_v1.log\n",
      "aaai24_logs/val/n11-s0_dd_llg_visitall_L4_H64_mean_p10_v4.log\n",
      "aaai24_logs/val/n11-s1_dd_llg_visitsome_L4_H64_mean_p10_v3.log\n",
      "aaai24_logs/val/blocks11-task01_dd_llg_blocks_L4_H64_mean_p10_v4.log\n",
      "aaai24_logs/val/n11-s0_dd_llg_visitall_L4_H64_mean_p10_v3.log\n",
      "aaai24_logs/val/blocks11-task01_dd_llg_blocks_L4_H64_mean_p10_v3.log\n",
      "aaai24_logs/val/n11-s1_dd_llg_visitsome_L4_H64_mean_p10_v4.log\n",
      "aaai24_logs/val/n11-s0_dd_dlg_visitall_L4_H64_max_p10_v2.log\n",
      "aaai24_logs/val/n-puzzle-5x5-s20_dd_dlg_n-puzzle_L4_H64_max_p10_v1.log\n",
      "aaai24_logs/val/n-puzzle-5x5-s21_dd_slg_n-puzzle_L4_H64_max_p10_v0.log\n",
      "aaai24_logs/val/n11-s1_dd_slg_visitall_L4_H64_max_p10_v3.log\n",
      "aaai24_logs/val/p-n8-b2-w3-s11_dd_dlg_sokoban_L4_H64_max_p10_v2.log\n",
      "aaai24_logs/val/blocks11-task03_dd_slg_blocks_L4_H64_max_p10_v4.log\n",
      "aaai24_logs/val/p-l11-c11-s1_dd_llg_ferry_L4_H64_mean_p10_v1.log\n",
      "aaai24_logs/val/blocks11-task03_dd_slg_blocks_L4_H64_max_p10_v3.log\n",
      "aaai24_logs/val/p-s11-n11-l7-seed2_dd_dlg_spanner_L4_H64_max_p10_v1.log\n",
      "aaai24_logs/val/n11-s1_dd_slg_visitall_L4_H64_max_p10_v4.log\n",
      "aaai24_logs/val/blocks11-task02_dd_llg_blocks_L4_H64_max_p10_v1.log\n",
      "aaai24_logs/train/\n",
      "aaai24_logs/train/dd_llg_sokoban_L4_H64_mean_p10_v2.log\n",
      "aaai24_logs/train/dd_llg_blocks_L4_H64_max_p10_v2.log\n",
      "aaai24_logs/train/dd_llg_ferry_L4_H64_mean_p10_v2.log\n",
      "aaai24_logs/train/dd_llg_n-puzzle_L4_H64_max_p10_v0.log\n",
      "aaai24_logs/train/dd_llg_ferry_L4_H64_max_p10_v3.log\n",
      "aaai24_logs/train/dd_slg_visitall_L4_H64_max_p10_v3.log\n",
      "aaai24_logs/train/dd_llg_ferry_L4_H64_max_p10_v4.log\n",
      "aaai24_logs/train/dd_slg_visitall_L4_H64_max_p10_v4.log\n",
      "aaai24_logs/train/dd_llg_blocks_L4_H64_mean_p10_v1.log\n",
      "aaai24_logs/train/dd_llg_gripper_L4_H64_mean_p10_v0.log\n",
      "aaai24_logs/train/dd_slg_sokoban_L4_H64_max_p10_v1.log\n",
      "aaai24_logs/train/dd_llg_visitsome_L4_H64_max_p10_v0.log\n",
      "aaai24_logs/train/dd_slg_spanner_L4_H64_max_p10_v3.log\n",
      "aaai24_logs/train/dd_slg_spanner_L4_H64_max_p10_v4.log\n",
      "aaai24_logs/train/dd_dlg_visitall_L4_H64_max_p10_v2.log\n",
      "aaai24_logs/train/dd_dlg_spanner_L4_H64_mean_p10_v2.log\n",
      "aaai24_logs/train/dd_slg_gripper_L4_H64_max_p10_v1.log\n",
      "aaai24_logs/train/dd_llg_n-puzzle_L4_H64_mean_p10_v4.log\n",
      "aaai24_logs/train/dd_llg_n-puzzle_L4_H64_mean_p10_v3.log\n",
      "aaai24_logs/train/dd_dlg_ferry_L4_H64_max_p10_v1.log\n",
      "aaai24_logs/train/dd_dlg_visitsome_L4_H64_max_p10_v2.log\n",
      "aaai24_logs/train/dd_slg_n-puzzle_L4_H64_max_p10_v0.log\n",
      "aaai24_logs/train/dd_slg_visitsome_L4_H64_max_p10_v4.log\n",
      "aaai24_logs/train/dd_slg_visitsome_L4_H64_max_p10_v3.log\n",
      "aaai24_logs/train/dd_dlg_blocks_L4_H64_max_p10_v2.log\n",
      "aaai24_logs/train/dd_dlg_gripper_L4_H64_max_p10_v1.log\n",
      "aaai24_logs/train/dd_llg_spanner_L4_H64_mean_p10_v4.log\n",
      "aaai24_logs/train/dd_llg_visitall_L4_H64_max_p10_v4.log\n",
      "aaai24_logs/train/dd_dlg_spanner_L4_H64_max_p10_v4.log\n",
      "aaai24_logs/train/dd_llg_visitsome_L4_H64_mean_p10_v1.log\n",
      "aaai24_logs/train/dd_llg_visitall_L4_H64_max_p10_v3.log\n",
      "aaai24_logs/train/dd_dlg_spanner_L4_H64_max_p10_v3.log\n",
      "aaai24_logs/train/dd_llg_spanner_L4_H64_mean_p10_v3.log\n",
      "aaai24_logs/train/dd_dlg_sokoban_L4_H64_max_p10_v1.log\n",
      "aaai24_logs/train/dd_slg_ferry_L4_H64_max_p10_v4.log\n",
      "aaai24_logs/train/dd_llg_spanner_L4_H64_max_p10_v0.log\n",
      "aaai24_logs/train/dd_llg_visitall_L4_H64_mean_p10_v0.log\n",
      "aaai24_logs/train/dd_llg_sokoban_L4_H64_max_p10_v2.log\n",
      "aaai24_logs/train/dd_llg_gripper_L4_H64_max_p10_v2.log\n",
      "aaai24_logs/train/dd_slg_ferry_L4_H64_max_p10_v3.log\n",
      "aaai24_logs/train/dd_dlg_gripper_L4_H64_mean_p10_v1.log\n",
      "aaai24_logs/train/dd_slg_blocks_L4_H64_max_p10_v1.log\n",
      "aaai24_logs/train/dd_dlg_n-puzzle_L4_H64_max_p10_v1.log\n",
      "aaai24_logs/train/dd_llg_n-puzzle_L4_H64_mean_p10_v2.log\n",
      "aaai24_logs/train/dd_dlg_ferry_L4_H64_max_p10_v0.log\n",
      "aaai24_logs/train/dd_dlg_visitsome_L4_H64_max_p10_v3.log\n",
      "aaai24_logs/train/dd_dlg_visitsome_L4_H64_max_p10_v4.log\n",
      "aaai24_logs/train/dd_dlg_visitall_L4_H64_max_p10_v3.log\n",
      "aaai24_logs/train/dd_dlg_spanner_L4_H64_mean_p10_v3.log\n",
      "aaai24_logs/train/dd_slg_gripper_L4_H64_max_p10_v0.log\n",
      "aaai24_logs/train/dd_slg_sokoban_L4_H64_max_p10_v0.log\n",
      "aaai24_logs/train/dd_llg_visitsome_L4_H64_max_p10_v1.log\n",
      "aaai24_logs/train/dd_dlg_spanner_L4_H64_mean_p10_v4.log\n",
      "aaai24_logs/train/dd_slg_spanner_L4_H64_max_p10_v2.log\n",
      "aaai24_logs/train/dd_dlg_visitall_L4_H64_max_p10_v4.log\n",
      "aaai24_logs/train/dd_llg_blocks_L4_H64_mean_p10_v0.log\n",
      "aaai24_logs/train/dd_llg_gripper_L4_H64_mean_p10_v1.log\n",
      "aaai24_logs/train/dd_slg_visitall_L4_H64_max_p10_v2.log\n",
      "aaai24_logs/train/dd_llg_ferry_L4_H64_max_p10_v2.log\n",
      "aaai24_logs/train/dd_llg_ferry_L4_H64_mean_p10_v3.log\n",
      "aaai24_logs/train/dd_llg_blocks_L4_H64_max_p10_v4.log\n",
      "aaai24_logs/train/dd_llg_sokoban_L4_H64_mean_p10_v4.log\n",
      "aaai24_logs/train/dd_llg_n-puzzle_L4_H64_max_p10_v1.log\n",
      "aaai24_logs/train/dd_llg_sokoban_L4_H64_mean_p10_v3.log\n",
      "aaai24_logs/train/dd_llg_ferry_L4_H64_mean_p10_v4.log\n",
      "aaai24_logs/train/dd_llg_blocks_L4_H64_max_p10_v3.log\n",
      "aaai24_logs/train/dd_dlg_n-puzzle_L4_H64_max_p10_v0.log\n",
      "aaai24_logs/train/dd_slg_blocks_L4_H64_max_p10_v0.log\n",
      "aaai24_logs/train/dd_llg_gripper_L4_H64_max_p10_v3.log\n",
      "aaai24_logs/train/dd_llg_sokoban_L4_H64_max_p10_v4.log\n",
      "aaai24_logs/train/dd_slg_ferry_L4_H64_max_p10_v2.log\n",
      "aaai24_logs/train/dd_dlg_gripper_L4_H64_mean_p10_v0.log\n",
      "aaai24_logs/train/dd_llg_spanner_L4_H64_max_p10_v1.log\n",
      "aaai24_logs/train/dd_llg_visitall_L4_H64_mean_p10_v1.log\n",
      "aaai24_logs/train/dd_llg_gripper_L4_H64_max_p10_v4.log\n",
      "aaai24_logs/train/dd_llg_sokoban_L4_H64_max_p10_v3.log\n",
      "aaai24_logs/train/dd_llg_visitall_L4_H64_max_p10_v2.log\n",
      "aaai24_logs/train/dd_dlg_spanner_L4_H64_max_p10_v2.log\n",
      "aaai24_logs/train/dd_llg_spanner_L4_H64_mean_p10_v2.log\n",
      "aaai24_logs/train/dd_dlg_sokoban_L4_H64_max_p10_v0.log\n",
      "aaai24_logs/train/dd_dlg_gripper_L4_H64_max_p10_v0.log\n",
      "aaai24_logs/train/dd_llg_visitsome_L4_H64_mean_p10_v0.log\n",
      "aaai24_logs/train/dd_slg_visitsome_L4_H64_max_p10_v2.log\n",
      "aaai24_logs/train/dd_dlg_blocks_L4_H64_max_p10_v3.log\n",
      "aaai24_logs/train/dd_dlg_blocks_L4_H64_max_p10_v4.log\n",
      "aaai24_logs/train/dd_slg_n-puzzle_L4_H64_max_p10_v1.log\n",
      "aaai24_logs/train/dd_dlg_n-puzzle_L4_H64_max_p10_v4.log\n",
      "aaai24_logs/train/dd_slg_blocks_L4_H64_max_p10_v3.log\n",
      "aaai24_logs/train/dd_slg_blocks_L4_H64_max_p10_v4.log\n",
      "aaai24_logs/train/dd_dlg_n-puzzle_L4_H64_max_p10_v3.log\n",
      "aaai24_logs/train/dd_llg_spanner_L4_H64_max_p10_v2.log\n",
      "aaai24_logs/train/dd_dlg_gripper_L4_H64_mean_p10_v4.log\n",
      "aaai24_logs/train/dd_llg_visitall_L4_H64_mean_p10_v2.log\n",
      "aaai24_logs/train/dd_llg_sokoban_L4_H64_max_p10_v0.log\n",
      "aaai24_logs/train/dd_llg_gripper_L4_H64_max_p10_v0.log\n",
      "aaai24_logs/train/dd_dlg_gripper_L4_H64_mean_p10_v3.log\n",
      "aaai24_logs/train/dd_slg_ferry_L4_H64_max_p10_v1.log\n",
      "aaai24_logs/train/dd_dlg_gripper_L4_H64_max_p10_v3.log\n",
      "aaai24_logs/train/dd_dlg_sokoban_L4_H64_max_p10_v4.log\n",
      "aaai24_logs/train/dd_llg_visitsome_L4_H64_mean_p10_v3.log\n",
      "aaai24_logs/train/dd_llg_visitall_L4_H64_max_p10_v1.log\n",
      "aaai24_logs/train/dd_llg_visitsome_L4_H64_mean_p10_v4.log\n",
      "aaai24_logs/train/dd_dlg_spanner_L4_H64_max_p10_v1.log\n",
      "aaai24_logs/train/dd_dlg_gripper_L4_H64_max_p10_v4.log\n",
      "aaai24_logs/train/dd_llg_spanner_L4_H64_mean_p10_v1.log\n",
      "aaai24_logs/train/dd_dlg_sokoban_L4_H64_max_p10_v3.log\n",
      "aaai24_logs/train/dd_slg_n-puzzle_L4_H64_max_p10_v2.log\n",
      "aaai24_logs/train/dd_slg_visitsome_L4_H64_max_p10_v1.log\n",
      "aaai24_logs/train/dd_dlg_blocks_L4_H64_max_p10_v0.log\n",
      "aaai24_logs/train/dd_dlg_ferry_L4_H64_max_p10_v4.log\n",
      "aaai24_logs/train/dd_llg_n-puzzle_L4_H64_mean_p10_v1.log\n",
      "aaai24_logs/train/dd_dlg_ferry_L4_H64_max_p10_v3.log\n",
      "aaai24_logs/train/dd_dlg_visitsome_L4_H64_max_p10_v0.log\n",
      "aaai24_logs/train/dd_llg_visitsome_L4_H64_max_p10_v2.log\n",
      "aaai24_logs/train/dd_slg_sokoban_L4_H64_max_p10_v3.log\n",
      "aaai24_logs/train/dd_slg_gripper_L4_H64_max_p10_v4.log\n",
      "aaai24_logs/train/dd_slg_spanner_L4_H64_max_p10_v1.log\n",
      "aaai24_logs/train/dd_dlg_visitall_L4_H64_max_p10_v0.log\n",
      "aaai24_logs/train/dd_slg_sokoban_L4_H64_max_p10_v4.log\n",
      "aaai24_logs/train/dd_dlg_spanner_L4_H64_mean_p10_v0.log\n",
      "aaai24_logs/train/dd_slg_gripper_L4_H64_max_p10_v3.log\n",
      "aaai24_logs/train/dd_llg_ferry_L4_H64_max_p10_v1.log\n",
      "aaai24_logs/train/dd_slg_visitall_L4_H64_max_p10_v1.log\n",
      "aaai24_logs/train/dd_llg_blocks_L4_H64_mean_p10_v4.log\n",
      "aaai24_logs/train/dd_llg_blocks_L4_H64_mean_p10_v3.log\n",
      "aaai24_logs/train/di_llg_L4_H64_max_p20_v1.log\n",
      "aaai24_logs/train/dd_llg_gripper_L4_H64_mean_p10_v2.log\n",
      "aaai24_logs/train/dd_llg_sokoban_L4_H64_mean_p10_v0.log\n",
      "aaai24_logs/train/dd_llg_blocks_L4_H64_max_p10_v0.log\n",
      "aaai24_logs/train/dd_llg_ferry_L4_H64_mean_p10_v0.log\n",
      "aaai24_logs/train/dd_llg_n-puzzle_L4_H64_max_p10_v2.log\n",
      "aaai24_logs/train/dd_slg_visitsome_L4_H64_max_p10_v0.log\n",
      "aaai24_logs/train/dd_dlg_blocks_L4_H64_max_p10_v1.log\n",
      "aaai24_logs/train/dd_slg_n-puzzle_L4_H64_max_p10_v4.log\n",
      "aaai24_logs/train/dd_slg_n-puzzle_L4_H64_max_p10_v3.log\n",
      "aaai24_logs/train/dd_llg_visitall_L4_H64_max_p10_v0.log\n",
      "aaai24_logs/train/dd_dlg_spanner_L4_H64_max_p10_v0.log\n",
      "aaai24_logs/train/dd_llg_spanner_L4_H64_mean_p10_v0.log\n",
      "aaai24_logs/train/dd_dlg_sokoban_L4_H64_max_p10_v2.log\n",
      "aaai24_logs/train/dd_dlg_gripper_L4_H64_max_p10_v2.log\n",
      "aaai24_logs/train/dd_llg_visitsome_L4_H64_mean_p10_v2.log\n",
      "aaai24_logs/train/dd_llg_gripper_L4_H64_max_p10_v1.log\n",
      "aaai24_logs/train/dd_llg_visitall_L4_H64_mean_p10_v4.log\n",
      "aaai24_logs/train/dd_dlg_gripper_L4_H64_mean_p10_v2.log\n",
      "aaai24_logs/train/dd_llg_spanner_L4_H64_max_p10_v4.log\n",
      "aaai24_logs/train/dd_slg_ferry_L4_H64_max_p10_v0.log\n",
      "aaai24_logs/train/dd_llg_spanner_L4_H64_max_p10_v3.log\n",
      "aaai24_logs/train/dd_llg_visitall_L4_H64_mean_p10_v3.log\n",
      "aaai24_logs/train/di_dlg_L4_H64_max_p20_v0.log\n",
      "aaai24_logs/train/dd_llg_sokoban_L4_H64_max_p10_v1.log\n",
      "aaai24_logs/train/di_slg_L4_H64_max_p20_v0.log\n",
      "aaai24_logs/train/dd_dlg_n-puzzle_L4_H64_max_p10_v2.log\n",
      "aaai24_logs/train/dd_slg_blocks_L4_H64_max_p10_v2.log\n",
      "aaai24_logs/train/dd_llg_ferry_L4_H64_mean_p10_v1.log\n",
      "aaai24_logs/train/dd_llg_n-puzzle_L4_H64_max_p10_v3.log\n",
      "aaai24_logs/train/dd_llg_sokoban_L4_H64_mean_p10_v1.log\n",
      "aaai24_logs/train/dd_llg_n-puzzle_L4_H64_max_p10_v4.log\n",
      "aaai24_logs/train/dd_llg_blocks_L4_H64_max_p10_v1.log\n",
      "aaai24_logs/train/dd_llg_blocks_L4_H64_mean_p10_v2.log\n",
      "aaai24_logs/train/di_llg_L4_H64_max_p20_v0.log\n",
      "aaai24_logs/train/dd_llg_gripper_L4_H64_mean_p10_v3.log\n",
      "aaai24_logs/train/dd_llg_gripper_L4_H64_mean_p10_v4.log\n",
      "aaai24_logs/train/dd_slg_visitall_L4_H64_max_p10_v0.log\n",
      "aaai24_logs/train/dd_llg_ferry_L4_H64_max_p10_v0.log\n",
      "aaai24_logs/train/dd_dlg_visitall_L4_H64_max_p10_v1.log\n",
      "aaai24_logs/train/dd_llg_visitsome_L4_H64_max_p10_v4.log\n",
      "aaai24_logs/train/dd_dlg_spanner_L4_H64_mean_p10_v1.log\n",
      "aaai24_logs/train/dd_slg_gripper_L4_H64_max_p10_v2.log\n",
      "aaai24_logs/train/dd_llg_visitsome_L4_H64_max_p10_v3.log\n",
      "aaai24_logs/train/dd_slg_sokoban_L4_H64_max_p10_v2.log\n",
      "aaai24_logs/train/dd_slg_spanner_L4_H64_max_p10_v0.log\n",
      "aaai24_logs/train/dd_llg_n-puzzle_L4_H64_mean_p10_v0.log\n",
      "aaai24_logs/train/dd_dlg_ferry_L4_H64_max_p10_v2.log\n",
      "aaai24_logs/train/dd_dlg_visitsome_L4_H64_max_p10_v1.log\n",
      "aaai24_logs/select/\n",
      "aaai24_logs/select/dd_llg_spanner_L4_H64_max_p10.log\n",
      "aaai24_logs/select/dd_llg_n-puzzle_L4_H64_mean_p10.log\n",
      "aaai24_logs/select/dd_slg_visitsome_L4_H64_max_p10.log\n",
      "aaai24_logs/select/dd_llg_spanner_L4_H64_mean_p10.log\n",
      "aaai24_logs/select/dd_dlg_gripper_L4_H64_mean_p10.log\n",
      "aaai24_logs/select/dd_dlg_sokoban_L4_H64_max_p10.log\n",
      "aaai24_logs/select/dd_dlg_ferry_L4_H64_max_p10.log\n",
      "aaai24_logs/select/dd_dlg_visitall_L4_H64_max_p10.log\n",
      "aaai24_logs/select/dd_slg_blocks_L4_H64_max_p10.log\n",
      "aaai24_logs/select/dd_llg_ferry_L4_H64_max_p10.log\n",
      "aaai24_logs/select/dd_llg_visitall_L4_H64_mean_p10.log\n",
      "aaai24_logs/select/dd_slg_spanner_L4_H64_max_p10.log\n",
      "aaai24_logs/select/dd_dlg_n-puzzle_L4_H64_max_p10.log\n",
      "aaai24_logs/select/dd_dlg_gripper_L4_H64_max_p10.log\n",
      "aaai24_logs/select/dd_llg_gripper_L4_H64_max_p10.log\n",
      "aaai24_logs/select/dd_slg_sokoban_L4_H64_max_p10.log\n",
      "aaai24_logs/select/dd_llg_blocks_L4_H64_max_p10.log\n",
      "aaai24_logs/select/dd_llg_gripper_L4_H64_mean_p10.log\n",
      "aaai24_logs/select/dd_dlg_blocks_L4_H64_max_p10.log\n",
      "aaai24_logs/select/dd_llg_visitsome_L4_H64_mean_p10.log\n",
      "aaai24_logs/select/dd_llg_n-puzzle_L4_H64_max_p10.log\n",
      "aaai24_logs/select/dd_llg_sokoban_L4_H64_mean_p10.log\n",
      "aaai24_logs/select/dd_llg_blocks_L4_H64_mean_p10.log\n",
      "aaai24_logs/select/dd_llg_visitsome_L4_H64_max_p10.log\n",
      "aaai24_logs/select/dd_llg_ferry_L4_H64_mean_p10.log\n",
      "aaai24_logs/select/dd_slg_gripper_L4_H64_max_p10.log\n",
      "aaai24_logs/select/dd_llg_sokoban_L4_H64_max_p10.log\n",
      "aaai24_logs/select/dd_slg_visitall_L4_H64_max_p10.log\n",
      "aaai24_logs/select/dd_llg_visitall_L4_H64_max_p10.log\n",
      "aaai24_logs/select/dd_slg_ferry_L4_H64_max_p10.log\n",
      "aaai24_logs/select/dd_dlg_visitsome_L4_H64_max_p10.log\n",
      "aaai24_logs/select/dd_dlg_spanner_L4_H64_max_p10.log\n",
      "aaai24_logs/select/dd_slg_n-puzzle_L4_H64_max_p10.log\n",
      "aaai24_logs/slurm/\n",
      "aaai24_logs/slurm/cluster1_di_tvt_dlg.log\n",
      "aaai24_logs/slurm/cluster1_dd_tvt_llg_spanner.log\n",
      "aaai24_logs/slurm/cluster1_dd_tvt_llg_visitall.log\n",
      "aaai24_logs/slurm/cluster1_dd_tvt_llg_visitsome.log\n",
      "aaai24_logs/slurm/cluster1_dd_tvt_dlg.log\n",
      "aaai24_logs/slurm/cluster1_dd_tvt_llg_sokoban.log\n",
      "aaai24_logs/slurm/cluster1_di_tvt_slg.log\n",
      "aaai24_logs/slurm/cluster1_dd_tvt_llg_ferry.log\n",
      "aaai24_logs/slurm/cluster1_dd_tvt_llg_gripper.log\n",
      "aaai24_logs/slurm/cluster1_di_tvt_llg.log\n",
      "aaai24_logs/slurm/cluster1_dd_tvt_llg_blocks.log\n",
      "aaai24_logs/slurm/cluster1_dd_tvt_llg_n-puzzle.log\n"
     ]
    },
    {
     "data": {
      "text/plain": [
       "0"
      ]
     },
     "execution_count": 10,
     "metadata": {},
     "output_type": "execute_result"
    }
   ],
   "source": [
    "os.system(\"sh collect_cluster1_logs.sh\")"
   ]
  },
  {
   "cell_type": "code",
   "execution_count": 39,
   "metadata": {},
   "outputs": [],
   "source": [
    "# ...goose-aaai24/learner/aaai24_logs/test/blocks15-task01_dd_llg_blocks_L4_H64_max_p10.log\n",
    "MODELS = list(product([\"di\", \"dd\"], [\"dlg\", \"slg\", \"flg\", \"llg\"], [4, 8, 12, 16], [\"mean\", \"max\"]))\n",
    "DOMAINS = sorted(DOMAINS)"
   ]
  },
  {
   "cell_type": "code",
   "execution_count": 40,
   "metadata": {},
   "outputs": [
    {
     "data": {
      "text/html": [
       "<div>\n",
       "<style scoped>\n",
       "    .dataframe tbody tr th:only-of-type {\n",
       "        vertical-align: middle;\n",
       "    }\n",
       "\n",
       "    .dataframe tbody tr th {\n",
       "        vertical-align: top;\n",
       "    }\n",
       "\n",
       "    .dataframe thead th {\n",
       "        text-align: right;\n",
       "    }\n",
       "</style>\n",
       "<table border=\"1\" class=\"dataframe\">\n",
       "  <thead>\n",
       "    <tr style=\"text-align: right;\">\n",
       "      <th></th>\n",
       "      <th>training</th>\n",
       "      <th>graph</th>\n",
       "      <th>layers</th>\n",
       "      <th>aggr</th>\n",
       "      <th>domain</th>\n",
       "      <th>problem</th>\n",
       "      <th>solved</th>\n",
       "      <th>expanded</th>\n",
       "      <th>evaluated</th>\n",
       "      <th>time</th>\n",
       "      <th>cost</th>\n",
       "      <th>first_h</th>\n",
       "    </tr>\n",
       "  </thead>\n",
       "  <tbody>\n",
       "    <tr>\n",
       "      <th>0</th>\n",
       "      <td>di</td>\n",
       "      <td>dlg</td>\n",
       "      <td>4</td>\n",
       "      <td>mean</td>\n",
       "      <td>blocks</td>\n",
       "      <td>0</td>\n",
       "      <td>0</td>\n",
       "      <td>-1</td>\n",
       "      <td>-1</td>\n",
       "      <td>-1.0</td>\n",
       "      <td>-1</td>\n",
       "      <td>-1</td>\n",
       "    </tr>\n",
       "    <tr>\n",
       "      <th>1</th>\n",
       "      <td>di</td>\n",
       "      <td>dlg</td>\n",
       "      <td>4</td>\n",
       "      <td>mean</td>\n",
       "      <td>blocks</td>\n",
       "      <td>1</td>\n",
       "      <td>0</td>\n",
       "      <td>-1</td>\n",
       "      <td>-1</td>\n",
       "      <td>-1.0</td>\n",
       "      <td>-1</td>\n",
       "      <td>-1</td>\n",
       "    </tr>\n",
       "    <tr>\n",
       "      <th>2</th>\n",
       "      <td>di</td>\n",
       "      <td>dlg</td>\n",
       "      <td>4</td>\n",
       "      <td>mean</td>\n",
       "      <td>blocks</td>\n",
       "      <td>2</td>\n",
       "      <td>0</td>\n",
       "      <td>-1</td>\n",
       "      <td>-1</td>\n",
       "      <td>-1.0</td>\n",
       "      <td>-1</td>\n",
       "      <td>-1</td>\n",
       "    </tr>\n",
       "    <tr>\n",
       "      <th>3</th>\n",
       "      <td>di</td>\n",
       "      <td>dlg</td>\n",
       "      <td>4</td>\n",
       "      <td>mean</td>\n",
       "      <td>blocks</td>\n",
       "      <td>3</td>\n",
       "      <td>0</td>\n",
       "      <td>-1</td>\n",
       "      <td>-1</td>\n",
       "      <td>-1.0</td>\n",
       "      <td>-1</td>\n",
       "      <td>-1</td>\n",
       "    </tr>\n",
       "    <tr>\n",
       "      <th>4</th>\n",
       "      <td>di</td>\n",
       "      <td>dlg</td>\n",
       "      <td>4</td>\n",
       "      <td>mean</td>\n",
       "      <td>blocks</td>\n",
       "      <td>4</td>\n",
       "      <td>0</td>\n",
       "      <td>-1</td>\n",
       "      <td>-1</td>\n",
       "      <td>-1.0</td>\n",
       "      <td>-1</td>\n",
       "      <td>-1</td>\n",
       "    </tr>\n",
       "    <tr>\n",
       "      <th>...</th>\n",
       "      <td>...</td>\n",
       "      <td>...</td>\n",
       "      <td>...</td>\n",
       "      <td>...</td>\n",
       "      <td>...</td>\n",
       "      <td>...</td>\n",
       "      <td>...</td>\n",
       "      <td>...</td>\n",
       "      <td>...</td>\n",
       "      <td>...</td>\n",
       "      <td>...</td>\n",
       "      <td>...</td>\n",
       "    </tr>\n",
       "    <tr>\n",
       "      <th>38907</th>\n",
       "      <td>dd</td>\n",
       "      <td>llg</td>\n",
       "      <td>16</td>\n",
       "      <td>max</td>\n",
       "      <td>visitsome</td>\n",
       "      <td>85</td>\n",
       "      <td>0</td>\n",
       "      <td>-1</td>\n",
       "      <td>-1</td>\n",
       "      <td>-1.0</td>\n",
       "      <td>-1</td>\n",
       "      <td>-1</td>\n",
       "    </tr>\n",
       "    <tr>\n",
       "      <th>38908</th>\n",
       "      <td>dd</td>\n",
       "      <td>llg</td>\n",
       "      <td>16</td>\n",
       "      <td>max</td>\n",
       "      <td>visitsome</td>\n",
       "      <td>86</td>\n",
       "      <td>0</td>\n",
       "      <td>-1</td>\n",
       "      <td>-1</td>\n",
       "      <td>-1.0</td>\n",
       "      <td>-1</td>\n",
       "      <td>-1</td>\n",
       "    </tr>\n",
       "    <tr>\n",
       "      <th>38909</th>\n",
       "      <td>dd</td>\n",
       "      <td>llg</td>\n",
       "      <td>16</td>\n",
       "      <td>max</td>\n",
       "      <td>visitsome</td>\n",
       "      <td>87</td>\n",
       "      <td>0</td>\n",
       "      <td>-1</td>\n",
       "      <td>-1</td>\n",
       "      <td>-1.0</td>\n",
       "      <td>-1</td>\n",
       "      <td>-1</td>\n",
       "    </tr>\n",
       "    <tr>\n",
       "      <th>38910</th>\n",
       "      <td>dd</td>\n",
       "      <td>llg</td>\n",
       "      <td>16</td>\n",
       "      <td>max</td>\n",
       "      <td>visitsome</td>\n",
       "      <td>88</td>\n",
       "      <td>0</td>\n",
       "      <td>-1</td>\n",
       "      <td>-1</td>\n",
       "      <td>-1.0</td>\n",
       "      <td>-1</td>\n",
       "      <td>-1</td>\n",
       "    </tr>\n",
       "    <tr>\n",
       "      <th>38911</th>\n",
       "      <td>dd</td>\n",
       "      <td>llg</td>\n",
       "      <td>16</td>\n",
       "      <td>max</td>\n",
       "      <td>visitsome</td>\n",
       "      <td>89</td>\n",
       "      <td>0</td>\n",
       "      <td>-1</td>\n",
       "      <td>-1</td>\n",
       "      <td>-1.0</td>\n",
       "      <td>-1</td>\n",
       "      <td>-1</td>\n",
       "    </tr>\n",
       "  </tbody>\n",
       "</table>\n",
       "<p>38912 rows × 12 columns</p>\n",
       "</div>"
      ],
      "text/plain": [
       "      training graph  layers  aggr     domain  problem  solved  expanded  \\\n",
       "0           di   dlg       4  mean     blocks        0       0        -1   \n",
       "1           di   dlg       4  mean     blocks        1       0        -1   \n",
       "2           di   dlg       4  mean     blocks        2       0        -1   \n",
       "3           di   dlg       4  mean     blocks        3       0        -1   \n",
       "4           di   dlg       4  mean     blocks        4       0        -1   \n",
       "...        ...   ...     ...   ...        ...      ...     ...       ...   \n",
       "38907       dd   llg      16   max  visitsome       85       0        -1   \n",
       "38908       dd   llg      16   max  visitsome       86       0        -1   \n",
       "38909       dd   llg      16   max  visitsome       87       0        -1   \n",
       "38910       dd   llg      16   max  visitsome       88       0        -1   \n",
       "38911       dd   llg      16   max  visitsome       89       0        -1   \n",
       "\n",
       "       evaluated  time  cost  first_h  \n",
       "0             -1  -1.0    -1       -1  \n",
       "1             -1  -1.0    -1       -1  \n",
       "2             -1  -1.0    -1       -1  \n",
       "3             -1  -1.0    -1       -1  \n",
       "4             -1  -1.0    -1       -1  \n",
       "...          ...   ...   ...      ...  \n",
       "38907         -1  -1.0    -1       -1  \n",
       "38908         -1  -1.0    -1       -1  \n",
       "38909         -1  -1.0    -1       -1  \n",
       "38910         -1  -1.0    -1       -1  \n",
       "38911         -1  -1.0    -1       -1  \n",
       "\n",
       "[38912 rows x 12 columns]"
      ]
     },
     "execution_count": 40,
     "metadata": {},
     "output_type": "execute_result"
    }
   ],
   "source": [
    "data = {\n",
    "    \"training\": [],\n",
    "    \"graph\": [],\n",
    "    \"layers\": [],\n",
    "    \"aggr\": [],\n",
    "    \"domain\": [],\n",
    "    \"problem\": [],\n",
    "    \"solved\": [],\n",
    "    \"expanded\": [],\n",
    "    \"evaluated\": [],\n",
    "    \"time\": [],\n",
    "    \"cost\": [],\n",
    "    \"first_h\": [],\n",
    "}\n",
    "\n",
    "for (training, rep, layers, aggr), domain in product(MODELS, DOMAINS):\n",
    "    for i, (_, _, pf) in enumerate(get_domain_instance_pddl_for_domain(domain, \"test\")):\n",
    "        problem_name = os.path.basename(pf).replace(\".pddl\", \"\")\n",
    "        log_file = \"_\".join([problem_name, training, rep, domain, f\"L{layers}\", \"H64\", aggr, \"p10\" if training == \"dd\" else \"p20\"])\n",
    "        log_file = f\"{_LOG_DIR}/{log_file}.log\"\n",
    "        stats = scrape_search_log(log_file)\n",
    "\n",
    "        data[\"training\"].append(training)\n",
    "        data[\"graph\"].append(rep)\n",
    "        data[\"layers\"].append(layers)\n",
    "        data[\"aggr\"].append(aggr)\n",
    "        data[\"domain\"].append(domain)\n",
    "        data[\"problem\"].append(i)\n",
    "\n",
    "        assert len(data) - 6 == len(stats)\n",
    "        for k in stats:\n",
    "            data[k].append(stats[k])\n",
    "\n",
    "WHOLE_DF = pd.DataFrame(data=data)\n",
    "WHOLE_DF"
   ]
  },
  {
   "cell_type": "markdown",
   "metadata": {},
   "source": [
    "### Selected Layer and Aggr params"
   ]
  },
  {
   "cell_type": "code",
   "execution_count": 52,
   "metadata": {},
   "outputs": [],
   "source": [
    "L = 4\n",
    "A = \"max\""
   ]
  },
  {
   "cell_type": "code",
   "execution_count": 53,
   "metadata": {},
   "outputs": [],
   "source": [
    "def get_selected_param_df():\n",
    "    df = WHOLE_DF\n",
    "    df = df[df[\"layers\"] == L]\n",
    "    df = df[df[\"aggr\"] == A]\n",
    "    df[\"model\"] = df.apply(lambda row: f\"{row['training']}_{row['graph']}\", axis=1)\n",
    "    df = df.drop(columns=[\"training\", \"graph\", \"layers\", \"aggr\"])\n",
    "    return df"
   ]
  },
  {
   "cell_type": "markdown",
   "metadata": {},
   "source": [
    "### Coverage for selected Layer and Aggr params"
   ]
  },
  {
   "cell_type": "code",
   "execution_count": 54,
   "metadata": {},
   "outputs": [
    {
     "data": {
      "text/html": [
       "<div>\n",
       "<style scoped>\n",
       "    .dataframe tbody tr th:only-of-type {\n",
       "        vertical-align: middle;\n",
       "    }\n",
       "\n",
       "    .dataframe tbody tr th {\n",
       "        vertical-align: top;\n",
       "    }\n",
       "\n",
       "    .dataframe thead th {\n",
       "        text-align: right;\n",
       "    }\n",
       "</style>\n",
       "<table border=\"1\" class=\"dataframe\">\n",
       "  <thead>\n",
       "    <tr style=\"text-align: right;\">\n",
       "      <th>model</th>\n",
       "      <th>domain</th>\n",
       "      <th>dd_dlg</th>\n",
       "      <th>dd_flg</th>\n",
       "      <th>dd_slg</th>\n",
       "      <th>dd_llg</th>\n",
       "      <th>di_dlg</th>\n",
       "      <th>di_flg</th>\n",
       "      <th>di_slg</th>\n",
       "      <th>di_llg</th>\n",
       "    </tr>\n",
       "  </thead>\n",
       "  <tbody>\n",
       "    <tr>\n",
       "      <th>0</th>\n",
       "      <td>blocks</td>\n",
       "      <td>13</td>\n",
       "      <td>0</td>\n",
       "      <td>7</td>\n",
       "      <td>21</td>\n",
       "      <td>0</td>\n",
       "      <td>0</td>\n",
       "      <td>0</td>\n",
       "      <td>0</td>\n",
       "    </tr>\n",
       "    <tr>\n",
       "      <th>1</th>\n",
       "      <td>ferry</td>\n",
       "      <td>29</td>\n",
       "      <td>0</td>\n",
       "      <td>39</td>\n",
       "      <td>81</td>\n",
       "      <td>0</td>\n",
       "      <td>0</td>\n",
       "      <td>0</td>\n",
       "      <td>0</td>\n",
       "    </tr>\n",
       "    <tr>\n",
       "      <th>2</th>\n",
       "      <td>gripper</td>\n",
       "      <td>11</td>\n",
       "      <td>0</td>\n",
       "      <td>5</td>\n",
       "      <td>18</td>\n",
       "      <td>0</td>\n",
       "      <td>0</td>\n",
       "      <td>0</td>\n",
       "      <td>0</td>\n",
       "    </tr>\n",
       "    <tr>\n",
       "      <th>3</th>\n",
       "      <td>n-puzzle</td>\n",
       "      <td>16</td>\n",
       "      <td>0</td>\n",
       "      <td>17</td>\n",
       "      <td>0</td>\n",
       "      <td>0</td>\n",
       "      <td>0</td>\n",
       "      <td>0</td>\n",
       "      <td>0</td>\n",
       "    </tr>\n",
       "    <tr>\n",
       "      <th>4</th>\n",
       "      <td>sokoban</td>\n",
       "      <td>57</td>\n",
       "      <td>0</td>\n",
       "      <td>49</td>\n",
       "      <td>40</td>\n",
       "      <td>0</td>\n",
       "      <td>0</td>\n",
       "      <td>0</td>\n",
       "      <td>0</td>\n",
       "    </tr>\n",
       "    <tr>\n",
       "      <th>5</th>\n",
       "      <td>spanner</td>\n",
       "      <td>0</td>\n",
       "      <td>0</td>\n",
       "      <td>0</td>\n",
       "      <td>60</td>\n",
       "      <td>0</td>\n",
       "      <td>0</td>\n",
       "      <td>0</td>\n",
       "      <td>0</td>\n",
       "    </tr>\n",
       "    <tr>\n",
       "      <th>6</th>\n",
       "      <td>visitall</td>\n",
       "      <td>51</td>\n",
       "      <td>0</td>\n",
       "      <td>39</td>\n",
       "      <td>44</td>\n",
       "      <td>0</td>\n",
       "      <td>0</td>\n",
       "      <td>0</td>\n",
       "      <td>0</td>\n",
       "    </tr>\n",
       "    <tr>\n",
       "      <th>7</th>\n",
       "      <td>visitsome</td>\n",
       "      <td>86</td>\n",
       "      <td>0</td>\n",
       "      <td>81</td>\n",
       "      <td>20</td>\n",
       "      <td>0</td>\n",
       "      <td>0</td>\n",
       "      <td>0</td>\n",
       "      <td>0</td>\n",
       "    </tr>\n",
       "  </tbody>\n",
       "</table>\n",
       "</div>"
      ],
      "text/plain": [
       "model     domain  dd_dlg  dd_flg  dd_slg  dd_llg  di_dlg  di_flg  di_slg  \\\n",
       "0         blocks      13       0       7      21       0       0       0   \n",
       "1          ferry      29       0      39      81       0       0       0   \n",
       "2        gripper      11       0       5      18       0       0       0   \n",
       "3       n-puzzle      16       0      17       0       0       0       0   \n",
       "4        sokoban      57       0      49      40       0       0       0   \n",
       "5        spanner       0       0       0      60       0       0       0   \n",
       "6       visitall      51       0      39      44       0       0       0   \n",
       "7      visitsome      86       0      81      20       0       0       0   \n",
       "\n",
       "model  di_llg  \n",
       "0           0  \n",
       "1           0  \n",
       "2           0  \n",
       "3           0  \n",
       "4           0  \n",
       "5           0  \n",
       "6           0  \n",
       "7           0  "
      ]
     },
     "execution_count": 54,
     "metadata": {},
     "output_type": "execute_result"
    }
   ],
   "source": [
    "df = get_selected_param_df()\n",
    "df = df.drop(columns=[\"expanded\", \"evaluated\", \"time\", \"cost\", \"first_h\", \"problem\"])\n",
    "df = df.groupby([\"model\", \"domain\"]).agg({\"solved\": \"sum\"}).reset_index()\n",
    "\n",
    "# pivot\n",
    "df = df.pivot_table(index=\"domain\", columns=\"model\", values=\"solved\", aggfunc=\"sum\", fill_value=0)\n",
    "column_order = [\"dd_dlg\", \"dd_flg\", \"dd_slg\", \"dd_llg\", \"di_dlg\", \"di_flg\", \"di_slg\", \"di_llg\"]\n",
    "df = df[column_order]\n",
    "df.reset_index(inplace=True)\n",
    "\n",
    "df"
   ]
  },
  {
   "cell_type": "markdown",
   "metadata": {},
   "source": [
    "### Expanded"
   ]
  },
  {
   "cell_type": "code",
   "execution_count": 61,
   "metadata": {},
   "outputs": [
    {
     "data": {
      "application/vnd.plotly.v1+json": {
       "config": {
        "plotlyServerURL": "https://plot.ly"
       },
       "data": [
        {
         "hovertemplate": "model=dd_dlg<br>problem=%{x}<br>expanded=%{y}<extra></extra>",
         "legendgroup": "dd_dlg",
         "marker": {
          "color": "#636efa",
          "symbol": "circle"
         },
         "mode": "markers",
         "name": "dd_dlg",
         "orientation": "v",
         "showlegend": true,
         "type": "scatter",
         "x": [
          0,
          1,
          2,
          3,
          4,
          5,
          6,
          7,
          8,
          10,
          13,
          14,
          15
         ],
         "xaxis": "x",
         "y": [
          1714,
          528,
          54,
          56,
          56,
          644,
          274,
          6953,
          476,
          21843,
          28840,
          31161,
          1184
         ],
         "yaxis": "y"
        },
        {
         "hovertemplate": "model=dd_slg<br>problem=%{x}<br>expanded=%{y}<extra></extra>",
         "legendgroup": "dd_slg",
         "marker": {
          "color": "#EF553B",
          "symbol": "circle"
         },
         "mode": "markers",
         "name": "dd_slg",
         "orientation": "v",
         "showlegend": true,
         "type": "scatter",
         "x": [
          0,
          1,
          2,
          3,
          4,
          6,
          7
         ],
         "xaxis": "x",
         "y": [
          383,
          499,
          90,
          111,
          5013,
          447,
          8833
         ],
         "yaxis": "y"
        },
        {
         "hovertemplate": "model=dd_llg<br>problem=%{x}<br>expanded=%{y}<extra></extra>",
         "legendgroup": "dd_llg",
         "marker": {
          "color": "#00cc96",
          "symbol": "circle"
         },
         "mode": "markers",
         "name": "dd_llg",
         "orientation": "v",
         "showlegend": true,
         "type": "scatter",
         "x": [
          0,
          1,
          2,
          3,
          4,
          5,
          9,
          10,
          11,
          12,
          14,
          15,
          16,
          19,
          22,
          23,
          24,
          28,
          29,
          30,
          32
         ],
         "xaxis": "x",
         "y": [
          118,
          86,
          58,
          62,
          61,
          1764,
          379,
          7165,
          174,
          11331,
          619,
          869,
          202,
          2251,
          249,
          2757,
          299,
          720,
          323,
          841,
          824
         ],
         "yaxis": "y"
        }
       ],
       "layout": {
        "legend": {
         "title": {
          "text": "model"
         },
         "tracegroupgap": 0
        },
        "template": {
         "data": {
          "bar": [
           {
            "error_x": {
             "color": "#2a3f5f"
            },
            "error_y": {
             "color": "#2a3f5f"
            },
            "marker": {
             "line": {
              "color": "#E5ECF6",
              "width": 0.5
             },
             "pattern": {
              "fillmode": "overlay",
              "size": 10,
              "solidity": 0.2
             }
            },
            "type": "bar"
           }
          ],
          "barpolar": [
           {
            "marker": {
             "line": {
              "color": "#E5ECF6",
              "width": 0.5
             },
             "pattern": {
              "fillmode": "overlay",
              "size": 10,
              "solidity": 0.2
             }
            },
            "type": "barpolar"
           }
          ],
          "carpet": [
           {
            "aaxis": {
             "endlinecolor": "#2a3f5f",
             "gridcolor": "white",
             "linecolor": "white",
             "minorgridcolor": "white",
             "startlinecolor": "#2a3f5f"
            },
            "baxis": {
             "endlinecolor": "#2a3f5f",
             "gridcolor": "white",
             "linecolor": "white",
             "minorgridcolor": "white",
             "startlinecolor": "#2a3f5f"
            },
            "type": "carpet"
           }
          ],
          "choropleth": [
           {
            "colorbar": {
             "outlinewidth": 0,
             "ticks": ""
            },
            "type": "choropleth"
           }
          ],
          "contour": [
           {
            "colorbar": {
             "outlinewidth": 0,
             "ticks": ""
            },
            "colorscale": [
             [
              0,
              "#0d0887"
             ],
             [
              0.1111111111111111,
              "#46039f"
             ],
             [
              0.2222222222222222,
              "#7201a8"
             ],
             [
              0.3333333333333333,
              "#9c179e"
             ],
             [
              0.4444444444444444,
              "#bd3786"
             ],
             [
              0.5555555555555556,
              "#d8576b"
             ],
             [
              0.6666666666666666,
              "#ed7953"
             ],
             [
              0.7777777777777778,
              "#fb9f3a"
             ],
             [
              0.8888888888888888,
              "#fdca26"
             ],
             [
              1,
              "#f0f921"
             ]
            ],
            "type": "contour"
           }
          ],
          "contourcarpet": [
           {
            "colorbar": {
             "outlinewidth": 0,
             "ticks": ""
            },
            "type": "contourcarpet"
           }
          ],
          "heatmap": [
           {
            "colorbar": {
             "outlinewidth": 0,
             "ticks": ""
            },
            "colorscale": [
             [
              0,
              "#0d0887"
             ],
             [
              0.1111111111111111,
              "#46039f"
             ],
             [
              0.2222222222222222,
              "#7201a8"
             ],
             [
              0.3333333333333333,
              "#9c179e"
             ],
             [
              0.4444444444444444,
              "#bd3786"
             ],
             [
              0.5555555555555556,
              "#d8576b"
             ],
             [
              0.6666666666666666,
              "#ed7953"
             ],
             [
              0.7777777777777778,
              "#fb9f3a"
             ],
             [
              0.8888888888888888,
              "#fdca26"
             ],
             [
              1,
              "#f0f921"
             ]
            ],
            "type": "heatmap"
           }
          ],
          "heatmapgl": [
           {
            "colorbar": {
             "outlinewidth": 0,
             "ticks": ""
            },
            "colorscale": [
             [
              0,
              "#0d0887"
             ],
             [
              0.1111111111111111,
              "#46039f"
             ],
             [
              0.2222222222222222,
              "#7201a8"
             ],
             [
              0.3333333333333333,
              "#9c179e"
             ],
             [
              0.4444444444444444,
              "#bd3786"
             ],
             [
              0.5555555555555556,
              "#d8576b"
             ],
             [
              0.6666666666666666,
              "#ed7953"
             ],
             [
              0.7777777777777778,
              "#fb9f3a"
             ],
             [
              0.8888888888888888,
              "#fdca26"
             ],
             [
              1,
              "#f0f921"
             ]
            ],
            "type": "heatmapgl"
           }
          ],
          "histogram": [
           {
            "marker": {
             "pattern": {
              "fillmode": "overlay",
              "size": 10,
              "solidity": 0.2
             }
            },
            "type": "histogram"
           }
          ],
          "histogram2d": [
           {
            "colorbar": {
             "outlinewidth": 0,
             "ticks": ""
            },
            "colorscale": [
             [
              0,
              "#0d0887"
             ],
             [
              0.1111111111111111,
              "#46039f"
             ],
             [
              0.2222222222222222,
              "#7201a8"
             ],
             [
              0.3333333333333333,
              "#9c179e"
             ],
             [
              0.4444444444444444,
              "#bd3786"
             ],
             [
              0.5555555555555556,
              "#d8576b"
             ],
             [
              0.6666666666666666,
              "#ed7953"
             ],
             [
              0.7777777777777778,
              "#fb9f3a"
             ],
             [
              0.8888888888888888,
              "#fdca26"
             ],
             [
              1,
              "#f0f921"
             ]
            ],
            "type": "histogram2d"
           }
          ],
          "histogram2dcontour": [
           {
            "colorbar": {
             "outlinewidth": 0,
             "ticks": ""
            },
            "colorscale": [
             [
              0,
              "#0d0887"
             ],
             [
              0.1111111111111111,
              "#46039f"
             ],
             [
              0.2222222222222222,
              "#7201a8"
             ],
             [
              0.3333333333333333,
              "#9c179e"
             ],
             [
              0.4444444444444444,
              "#bd3786"
             ],
             [
              0.5555555555555556,
              "#d8576b"
             ],
             [
              0.6666666666666666,
              "#ed7953"
             ],
             [
              0.7777777777777778,
              "#fb9f3a"
             ],
             [
              0.8888888888888888,
              "#fdca26"
             ],
             [
              1,
              "#f0f921"
             ]
            ],
            "type": "histogram2dcontour"
           }
          ],
          "mesh3d": [
           {
            "colorbar": {
             "outlinewidth": 0,
             "ticks": ""
            },
            "type": "mesh3d"
           }
          ],
          "parcoords": [
           {
            "line": {
             "colorbar": {
              "outlinewidth": 0,
              "ticks": ""
             }
            },
            "type": "parcoords"
           }
          ],
          "pie": [
           {
            "automargin": true,
            "type": "pie"
           }
          ],
          "scatter": [
           {
            "fillpattern": {
             "fillmode": "overlay",
             "size": 10,
             "solidity": 0.2
            },
            "type": "scatter"
           }
          ],
          "scatter3d": [
           {
            "line": {
             "colorbar": {
              "outlinewidth": 0,
              "ticks": ""
             }
            },
            "marker": {
             "colorbar": {
              "outlinewidth": 0,
              "ticks": ""
             }
            },
            "type": "scatter3d"
           }
          ],
          "scattercarpet": [
           {
            "marker": {
             "colorbar": {
              "outlinewidth": 0,
              "ticks": ""
             }
            },
            "type": "scattercarpet"
           }
          ],
          "scattergeo": [
           {
            "marker": {
             "colorbar": {
              "outlinewidth": 0,
              "ticks": ""
             }
            },
            "type": "scattergeo"
           }
          ],
          "scattergl": [
           {
            "marker": {
             "colorbar": {
              "outlinewidth": 0,
              "ticks": ""
             }
            },
            "type": "scattergl"
           }
          ],
          "scattermapbox": [
           {
            "marker": {
             "colorbar": {
              "outlinewidth": 0,
              "ticks": ""
             }
            },
            "type": "scattermapbox"
           }
          ],
          "scatterpolar": [
           {
            "marker": {
             "colorbar": {
              "outlinewidth": 0,
              "ticks": ""
             }
            },
            "type": "scatterpolar"
           }
          ],
          "scatterpolargl": [
           {
            "marker": {
             "colorbar": {
              "outlinewidth": 0,
              "ticks": ""
             }
            },
            "type": "scatterpolargl"
           }
          ],
          "scatterternary": [
           {
            "marker": {
             "colorbar": {
              "outlinewidth": 0,
              "ticks": ""
             }
            },
            "type": "scatterternary"
           }
          ],
          "surface": [
           {
            "colorbar": {
             "outlinewidth": 0,
             "ticks": ""
            },
            "colorscale": [
             [
              0,
              "#0d0887"
             ],
             [
              0.1111111111111111,
              "#46039f"
             ],
             [
              0.2222222222222222,
              "#7201a8"
             ],
             [
              0.3333333333333333,
              "#9c179e"
             ],
             [
              0.4444444444444444,
              "#bd3786"
             ],
             [
              0.5555555555555556,
              "#d8576b"
             ],
             [
              0.6666666666666666,
              "#ed7953"
             ],
             [
              0.7777777777777778,
              "#fb9f3a"
             ],
             [
              0.8888888888888888,
              "#fdca26"
             ],
             [
              1,
              "#f0f921"
             ]
            ],
            "type": "surface"
           }
          ],
          "table": [
           {
            "cells": {
             "fill": {
              "color": "#EBF0F8"
             },
             "line": {
              "color": "white"
             }
            },
            "header": {
             "fill": {
              "color": "#C8D4E3"
             },
             "line": {
              "color": "white"
             }
            },
            "type": "table"
           }
          ]
         },
         "layout": {
          "annotationdefaults": {
           "arrowcolor": "#2a3f5f",
           "arrowhead": 0,
           "arrowwidth": 1
          },
          "autotypenumbers": "strict",
          "coloraxis": {
           "colorbar": {
            "outlinewidth": 0,
            "ticks": ""
           }
          },
          "colorscale": {
           "diverging": [
            [
             0,
             "#8e0152"
            ],
            [
             0.1,
             "#c51b7d"
            ],
            [
             0.2,
             "#de77ae"
            ],
            [
             0.3,
             "#f1b6da"
            ],
            [
             0.4,
             "#fde0ef"
            ],
            [
             0.5,
             "#f7f7f7"
            ],
            [
             0.6,
             "#e6f5d0"
            ],
            [
             0.7,
             "#b8e186"
            ],
            [
             0.8,
             "#7fbc41"
            ],
            [
             0.9,
             "#4d9221"
            ],
            [
             1,
             "#276419"
            ]
           ],
           "sequential": [
            [
             0,
             "#0d0887"
            ],
            [
             0.1111111111111111,
             "#46039f"
            ],
            [
             0.2222222222222222,
             "#7201a8"
            ],
            [
             0.3333333333333333,
             "#9c179e"
            ],
            [
             0.4444444444444444,
             "#bd3786"
            ],
            [
             0.5555555555555556,
             "#d8576b"
            ],
            [
             0.6666666666666666,
             "#ed7953"
            ],
            [
             0.7777777777777778,
             "#fb9f3a"
            ],
            [
             0.8888888888888888,
             "#fdca26"
            ],
            [
             1,
             "#f0f921"
            ]
           ],
           "sequentialminus": [
            [
             0,
             "#0d0887"
            ],
            [
             0.1111111111111111,
             "#46039f"
            ],
            [
             0.2222222222222222,
             "#7201a8"
            ],
            [
             0.3333333333333333,
             "#9c179e"
            ],
            [
             0.4444444444444444,
             "#bd3786"
            ],
            [
             0.5555555555555556,
             "#d8576b"
            ],
            [
             0.6666666666666666,
             "#ed7953"
            ],
            [
             0.7777777777777778,
             "#fb9f3a"
            ],
            [
             0.8888888888888888,
             "#fdca26"
            ],
            [
             1,
             "#f0f921"
            ]
           ]
          },
          "colorway": [
           "#636efa",
           "#EF553B",
           "#00cc96",
           "#ab63fa",
           "#FFA15A",
           "#19d3f3",
           "#FF6692",
           "#B6E880",
           "#FF97FF",
           "#FECB52"
          ],
          "font": {
           "color": "#2a3f5f"
          },
          "geo": {
           "bgcolor": "white",
           "lakecolor": "white",
           "landcolor": "#E5ECF6",
           "showlakes": true,
           "showland": true,
           "subunitcolor": "white"
          },
          "hoverlabel": {
           "align": "left"
          },
          "hovermode": "closest",
          "mapbox": {
           "style": "light"
          },
          "paper_bgcolor": "white",
          "plot_bgcolor": "#E5ECF6",
          "polar": {
           "angularaxis": {
            "gridcolor": "white",
            "linecolor": "white",
            "ticks": ""
           },
           "bgcolor": "#E5ECF6",
           "radialaxis": {
            "gridcolor": "white",
            "linecolor": "white",
            "ticks": ""
           }
          },
          "scene": {
           "xaxis": {
            "backgroundcolor": "#E5ECF6",
            "gridcolor": "white",
            "gridwidth": 2,
            "linecolor": "white",
            "showbackground": true,
            "ticks": "",
            "zerolinecolor": "white"
           },
           "yaxis": {
            "backgroundcolor": "#E5ECF6",
            "gridcolor": "white",
            "gridwidth": 2,
            "linecolor": "white",
            "showbackground": true,
            "ticks": "",
            "zerolinecolor": "white"
           },
           "zaxis": {
            "backgroundcolor": "#E5ECF6",
            "gridcolor": "white",
            "gridwidth": 2,
            "linecolor": "white",
            "showbackground": true,
            "ticks": "",
            "zerolinecolor": "white"
           }
          },
          "shapedefaults": {
           "line": {
            "color": "#2a3f5f"
           }
          },
          "ternary": {
           "aaxis": {
            "gridcolor": "white",
            "linecolor": "white",
            "ticks": ""
           },
           "baxis": {
            "gridcolor": "white",
            "linecolor": "white",
            "ticks": ""
           },
           "bgcolor": "#E5ECF6",
           "caxis": {
            "gridcolor": "white",
            "linecolor": "white",
            "ticks": ""
           }
          },
          "title": {
           "x": 0.05
          },
          "xaxis": {
           "automargin": true,
           "gridcolor": "white",
           "linecolor": "white",
           "ticks": "",
           "title": {
            "standoff": 15
           },
           "zerolinecolor": "white",
           "zerolinewidth": 2
          },
          "yaxis": {
           "automargin": true,
           "gridcolor": "white",
           "linecolor": "white",
           "ticks": "",
           "title": {
            "standoff": 15
           },
           "zerolinecolor": "white",
           "zerolinewidth": 2
          }
         }
        },
        "title": {
         "text": "blocks"
        },
        "xaxis": {
         "anchor": "y",
         "domain": [
          0,
          1
         ],
         "title": {
          "text": "problem"
         }
        },
        "yaxis": {
         "anchor": "x",
         "domain": [
          0,
          1
         ],
         "title": {
          "text": "expanded"
         },
         "type": "log"
        }
       }
      }
     },
     "metadata": {},
     "output_type": "display_data"
    },
    {
     "data": {
      "application/vnd.plotly.v1+json": {
       "config": {
        "plotlyServerURL": "https://plot.ly"
       },
       "data": [
        {
         "hovertemplate": "model=dd_dlg<br>problem=%{x}<br>expanded=%{y}<extra></extra>",
         "legendgroup": "dd_dlg",
         "marker": {
          "color": "#636efa",
          "symbol": "circle"
         },
         "mode": "markers",
         "name": "dd_dlg",
         "orientation": "v",
         "showlegend": true,
         "type": "scatter",
         "x": [
          0,
          1,
          2,
          3,
          4,
          5,
          6,
          7,
          8,
          9,
          10,
          11,
          12,
          13,
          14,
          15,
          16,
          17,
          18,
          19,
          20,
          21,
          22,
          23,
          24,
          25,
          27,
          28,
          31
         ],
         "xaxis": "x",
         "y": [
          87,
          167,
          130,
          145,
          85,
          301,
          267,
          324,
          359,
          262,
          909,
          739,
          910,
          850,
          815,
          1703,
          2464,
          1568,
          1608,
          1912,
          10926,
          5932,
          6810,
          6913,
          6117,
          17857,
          15131,
          19443,
          50304
         ],
         "yaxis": "y"
        },
        {
         "hovertemplate": "model=dd_slg<br>problem=%{x}<br>expanded=%{y}<extra></extra>",
         "legendgroup": "dd_slg",
         "marker": {
          "color": "#EF553B",
          "symbol": "circle"
         },
         "mode": "markers",
         "name": "dd_slg",
         "orientation": "v",
         "showlegend": true,
         "type": "scatter",
         "x": [
          0,
          1,
          2,
          3,
          4,
          5,
          6,
          7,
          8,
          9,
          10,
          11,
          12,
          13,
          14,
          15,
          16,
          17,
          18,
          19,
          20,
          21,
          22,
          23,
          24,
          25,
          26,
          27,
          28,
          29,
          30,
          31,
          32,
          33,
          34,
          35,
          36,
          37,
          38
         ],
         "xaxis": "x",
         "y": [
          542,
          852,
          446,
          734,
          364,
          2127,
          1205,
          1293,
          1316,
          847,
          1338,
          1827,
          2207,
          2097,
          3030,
          2345,
          2292,
          2830,
          2821,
          1740,
          4220,
          5319,
          4251,
          4925,
          6424,
          4846,
          5881,
          6223,
          6317,
          11011,
          11437,
          12998,
          7875,
          14136,
          12776,
          32989,
          30225,
          22830,
          24185
         ],
         "yaxis": "y"
        },
        {
         "hovertemplate": "model=dd_llg<br>problem=%{x}<br>expanded=%{y}<extra></extra>",
         "legendgroup": "dd_llg",
         "marker": {
          "color": "#00cc96",
          "symbol": "circle"
         },
         "mode": "markers",
         "name": "dd_llg",
         "orientation": "v",
         "showlegend": true,
         "type": "scatter",
         "x": [
          0,
          1,
          2,
          3,
          4,
          5,
          6,
          7,
          8,
          9,
          10,
          11,
          12,
          13,
          14,
          15,
          16,
          17,
          18,
          19,
          20,
          21,
          22,
          23,
          24,
          25,
          26,
          27,
          28,
          29,
          30,
          31,
          32,
          33,
          34,
          35,
          36,
          37,
          38,
          39,
          40,
          41,
          42,
          43,
          44,
          45,
          46,
          47,
          48,
          49,
          50,
          51,
          52,
          53,
          54,
          55,
          56,
          57,
          58,
          59,
          60,
          61,
          62,
          63,
          64,
          65,
          66,
          67,
          68,
          69,
          70,
          71,
          72,
          73,
          74,
          75,
          76,
          77,
          78,
          79,
          83
         ],
         "xaxis": "x",
         "y": [
          94,
          127,
          63,
          118,
          78,
          155,
          128,
          166,
          175,
          128,
          240,
          204,
          255,
          217,
          220,
          358,
          330,
          310,
          332,
          349,
          561,
          488,
          448,
          545,
          420,
          611,
          580,
          586,
          775,
          642,
          711,
          721,
          785,
          860,
          640,
          1221,
          931,
          1069,
          1178,
          951,
          1298,
          1539,
          1171,
          1519,
          1639,
          1748,
          1615,
          1754,
          2382,
          1620,
          2519,
          2856,
          3011,
          2708,
          2387,
          3349,
          3902,
          3574,
          4000,
          5058,
          6348,
          5024,
          6855,
          4841,
          9114,
          10331,
          3228,
          7280,
          6754,
          6440,
          10381,
          7313,
          11785,
          12742,
          16259,
          14738,
          21444,
          22376,
          20965,
          26421,
          26419
         ],
         "yaxis": "y"
        }
       ],
       "layout": {
        "legend": {
         "title": {
          "text": "model"
         },
         "tracegroupgap": 0
        },
        "template": {
         "data": {
          "bar": [
           {
            "error_x": {
             "color": "#2a3f5f"
            },
            "error_y": {
             "color": "#2a3f5f"
            },
            "marker": {
             "line": {
              "color": "#E5ECF6",
              "width": 0.5
             },
             "pattern": {
              "fillmode": "overlay",
              "size": 10,
              "solidity": 0.2
             }
            },
            "type": "bar"
           }
          ],
          "barpolar": [
           {
            "marker": {
             "line": {
              "color": "#E5ECF6",
              "width": 0.5
             },
             "pattern": {
              "fillmode": "overlay",
              "size": 10,
              "solidity": 0.2
             }
            },
            "type": "barpolar"
           }
          ],
          "carpet": [
           {
            "aaxis": {
             "endlinecolor": "#2a3f5f",
             "gridcolor": "white",
             "linecolor": "white",
             "minorgridcolor": "white",
             "startlinecolor": "#2a3f5f"
            },
            "baxis": {
             "endlinecolor": "#2a3f5f",
             "gridcolor": "white",
             "linecolor": "white",
             "minorgridcolor": "white",
             "startlinecolor": "#2a3f5f"
            },
            "type": "carpet"
           }
          ],
          "choropleth": [
           {
            "colorbar": {
             "outlinewidth": 0,
             "ticks": ""
            },
            "type": "choropleth"
           }
          ],
          "contour": [
           {
            "colorbar": {
             "outlinewidth": 0,
             "ticks": ""
            },
            "colorscale": [
             [
              0,
              "#0d0887"
             ],
             [
              0.1111111111111111,
              "#46039f"
             ],
             [
              0.2222222222222222,
              "#7201a8"
             ],
             [
              0.3333333333333333,
              "#9c179e"
             ],
             [
              0.4444444444444444,
              "#bd3786"
             ],
             [
              0.5555555555555556,
              "#d8576b"
             ],
             [
              0.6666666666666666,
              "#ed7953"
             ],
             [
              0.7777777777777778,
              "#fb9f3a"
             ],
             [
              0.8888888888888888,
              "#fdca26"
             ],
             [
              1,
              "#f0f921"
             ]
            ],
            "type": "contour"
           }
          ],
          "contourcarpet": [
           {
            "colorbar": {
             "outlinewidth": 0,
             "ticks": ""
            },
            "type": "contourcarpet"
           }
          ],
          "heatmap": [
           {
            "colorbar": {
             "outlinewidth": 0,
             "ticks": ""
            },
            "colorscale": [
             [
              0,
              "#0d0887"
             ],
             [
              0.1111111111111111,
              "#46039f"
             ],
             [
              0.2222222222222222,
              "#7201a8"
             ],
             [
              0.3333333333333333,
              "#9c179e"
             ],
             [
              0.4444444444444444,
              "#bd3786"
             ],
             [
              0.5555555555555556,
              "#d8576b"
             ],
             [
              0.6666666666666666,
              "#ed7953"
             ],
             [
              0.7777777777777778,
              "#fb9f3a"
             ],
             [
              0.8888888888888888,
              "#fdca26"
             ],
             [
              1,
              "#f0f921"
             ]
            ],
            "type": "heatmap"
           }
          ],
          "heatmapgl": [
           {
            "colorbar": {
             "outlinewidth": 0,
             "ticks": ""
            },
            "colorscale": [
             [
              0,
              "#0d0887"
             ],
             [
              0.1111111111111111,
              "#46039f"
             ],
             [
              0.2222222222222222,
              "#7201a8"
             ],
             [
              0.3333333333333333,
              "#9c179e"
             ],
             [
              0.4444444444444444,
              "#bd3786"
             ],
             [
              0.5555555555555556,
              "#d8576b"
             ],
             [
              0.6666666666666666,
              "#ed7953"
             ],
             [
              0.7777777777777778,
              "#fb9f3a"
             ],
             [
              0.8888888888888888,
              "#fdca26"
             ],
             [
              1,
              "#f0f921"
             ]
            ],
            "type": "heatmapgl"
           }
          ],
          "histogram": [
           {
            "marker": {
             "pattern": {
              "fillmode": "overlay",
              "size": 10,
              "solidity": 0.2
             }
            },
            "type": "histogram"
           }
          ],
          "histogram2d": [
           {
            "colorbar": {
             "outlinewidth": 0,
             "ticks": ""
            },
            "colorscale": [
             [
              0,
              "#0d0887"
             ],
             [
              0.1111111111111111,
              "#46039f"
             ],
             [
              0.2222222222222222,
              "#7201a8"
             ],
             [
              0.3333333333333333,
              "#9c179e"
             ],
             [
              0.4444444444444444,
              "#bd3786"
             ],
             [
              0.5555555555555556,
              "#d8576b"
             ],
             [
              0.6666666666666666,
              "#ed7953"
             ],
             [
              0.7777777777777778,
              "#fb9f3a"
             ],
             [
              0.8888888888888888,
              "#fdca26"
             ],
             [
              1,
              "#f0f921"
             ]
            ],
            "type": "histogram2d"
           }
          ],
          "histogram2dcontour": [
           {
            "colorbar": {
             "outlinewidth": 0,
             "ticks": ""
            },
            "colorscale": [
             [
              0,
              "#0d0887"
             ],
             [
              0.1111111111111111,
              "#46039f"
             ],
             [
              0.2222222222222222,
              "#7201a8"
             ],
             [
              0.3333333333333333,
              "#9c179e"
             ],
             [
              0.4444444444444444,
              "#bd3786"
             ],
             [
              0.5555555555555556,
              "#d8576b"
             ],
             [
              0.6666666666666666,
              "#ed7953"
             ],
             [
              0.7777777777777778,
              "#fb9f3a"
             ],
             [
              0.8888888888888888,
              "#fdca26"
             ],
             [
              1,
              "#f0f921"
             ]
            ],
            "type": "histogram2dcontour"
           }
          ],
          "mesh3d": [
           {
            "colorbar": {
             "outlinewidth": 0,
             "ticks": ""
            },
            "type": "mesh3d"
           }
          ],
          "parcoords": [
           {
            "line": {
             "colorbar": {
              "outlinewidth": 0,
              "ticks": ""
             }
            },
            "type": "parcoords"
           }
          ],
          "pie": [
           {
            "automargin": true,
            "type": "pie"
           }
          ],
          "scatter": [
           {
            "fillpattern": {
             "fillmode": "overlay",
             "size": 10,
             "solidity": 0.2
            },
            "type": "scatter"
           }
          ],
          "scatter3d": [
           {
            "line": {
             "colorbar": {
              "outlinewidth": 0,
              "ticks": ""
             }
            },
            "marker": {
             "colorbar": {
              "outlinewidth": 0,
              "ticks": ""
             }
            },
            "type": "scatter3d"
           }
          ],
          "scattercarpet": [
           {
            "marker": {
             "colorbar": {
              "outlinewidth": 0,
              "ticks": ""
             }
            },
            "type": "scattercarpet"
           }
          ],
          "scattergeo": [
           {
            "marker": {
             "colorbar": {
              "outlinewidth": 0,
              "ticks": ""
             }
            },
            "type": "scattergeo"
           }
          ],
          "scattergl": [
           {
            "marker": {
             "colorbar": {
              "outlinewidth": 0,
              "ticks": ""
             }
            },
            "type": "scattergl"
           }
          ],
          "scattermapbox": [
           {
            "marker": {
             "colorbar": {
              "outlinewidth": 0,
              "ticks": ""
             }
            },
            "type": "scattermapbox"
           }
          ],
          "scatterpolar": [
           {
            "marker": {
             "colorbar": {
              "outlinewidth": 0,
              "ticks": ""
             }
            },
            "type": "scatterpolar"
           }
          ],
          "scatterpolargl": [
           {
            "marker": {
             "colorbar": {
              "outlinewidth": 0,
              "ticks": ""
             }
            },
            "type": "scatterpolargl"
           }
          ],
          "scatterternary": [
           {
            "marker": {
             "colorbar": {
              "outlinewidth": 0,
              "ticks": ""
             }
            },
            "type": "scatterternary"
           }
          ],
          "surface": [
           {
            "colorbar": {
             "outlinewidth": 0,
             "ticks": ""
            },
            "colorscale": [
             [
              0,
              "#0d0887"
             ],
             [
              0.1111111111111111,
              "#46039f"
             ],
             [
              0.2222222222222222,
              "#7201a8"
             ],
             [
              0.3333333333333333,
              "#9c179e"
             ],
             [
              0.4444444444444444,
              "#bd3786"
             ],
             [
              0.5555555555555556,
              "#d8576b"
             ],
             [
              0.6666666666666666,
              "#ed7953"
             ],
             [
              0.7777777777777778,
              "#fb9f3a"
             ],
             [
              0.8888888888888888,
              "#fdca26"
             ],
             [
              1,
              "#f0f921"
             ]
            ],
            "type": "surface"
           }
          ],
          "table": [
           {
            "cells": {
             "fill": {
              "color": "#EBF0F8"
             },
             "line": {
              "color": "white"
             }
            },
            "header": {
             "fill": {
              "color": "#C8D4E3"
             },
             "line": {
              "color": "white"
             }
            },
            "type": "table"
           }
          ]
         },
         "layout": {
          "annotationdefaults": {
           "arrowcolor": "#2a3f5f",
           "arrowhead": 0,
           "arrowwidth": 1
          },
          "autotypenumbers": "strict",
          "coloraxis": {
           "colorbar": {
            "outlinewidth": 0,
            "ticks": ""
           }
          },
          "colorscale": {
           "diverging": [
            [
             0,
             "#8e0152"
            ],
            [
             0.1,
             "#c51b7d"
            ],
            [
             0.2,
             "#de77ae"
            ],
            [
             0.3,
             "#f1b6da"
            ],
            [
             0.4,
             "#fde0ef"
            ],
            [
             0.5,
             "#f7f7f7"
            ],
            [
             0.6,
             "#e6f5d0"
            ],
            [
             0.7,
             "#b8e186"
            ],
            [
             0.8,
             "#7fbc41"
            ],
            [
             0.9,
             "#4d9221"
            ],
            [
             1,
             "#276419"
            ]
           ],
           "sequential": [
            [
             0,
             "#0d0887"
            ],
            [
             0.1111111111111111,
             "#46039f"
            ],
            [
             0.2222222222222222,
             "#7201a8"
            ],
            [
             0.3333333333333333,
             "#9c179e"
            ],
            [
             0.4444444444444444,
             "#bd3786"
            ],
            [
             0.5555555555555556,
             "#d8576b"
            ],
            [
             0.6666666666666666,
             "#ed7953"
            ],
            [
             0.7777777777777778,
             "#fb9f3a"
            ],
            [
             0.8888888888888888,
             "#fdca26"
            ],
            [
             1,
             "#f0f921"
            ]
           ],
           "sequentialminus": [
            [
             0,
             "#0d0887"
            ],
            [
             0.1111111111111111,
             "#46039f"
            ],
            [
             0.2222222222222222,
             "#7201a8"
            ],
            [
             0.3333333333333333,
             "#9c179e"
            ],
            [
             0.4444444444444444,
             "#bd3786"
            ],
            [
             0.5555555555555556,
             "#d8576b"
            ],
            [
             0.6666666666666666,
             "#ed7953"
            ],
            [
             0.7777777777777778,
             "#fb9f3a"
            ],
            [
             0.8888888888888888,
             "#fdca26"
            ],
            [
             1,
             "#f0f921"
            ]
           ]
          },
          "colorway": [
           "#636efa",
           "#EF553B",
           "#00cc96",
           "#ab63fa",
           "#FFA15A",
           "#19d3f3",
           "#FF6692",
           "#B6E880",
           "#FF97FF",
           "#FECB52"
          ],
          "font": {
           "color": "#2a3f5f"
          },
          "geo": {
           "bgcolor": "white",
           "lakecolor": "white",
           "landcolor": "#E5ECF6",
           "showlakes": true,
           "showland": true,
           "subunitcolor": "white"
          },
          "hoverlabel": {
           "align": "left"
          },
          "hovermode": "closest",
          "mapbox": {
           "style": "light"
          },
          "paper_bgcolor": "white",
          "plot_bgcolor": "#E5ECF6",
          "polar": {
           "angularaxis": {
            "gridcolor": "white",
            "linecolor": "white",
            "ticks": ""
           },
           "bgcolor": "#E5ECF6",
           "radialaxis": {
            "gridcolor": "white",
            "linecolor": "white",
            "ticks": ""
           }
          },
          "scene": {
           "xaxis": {
            "backgroundcolor": "#E5ECF6",
            "gridcolor": "white",
            "gridwidth": 2,
            "linecolor": "white",
            "showbackground": true,
            "ticks": "",
            "zerolinecolor": "white"
           },
           "yaxis": {
            "backgroundcolor": "#E5ECF6",
            "gridcolor": "white",
            "gridwidth": 2,
            "linecolor": "white",
            "showbackground": true,
            "ticks": "",
            "zerolinecolor": "white"
           },
           "zaxis": {
            "backgroundcolor": "#E5ECF6",
            "gridcolor": "white",
            "gridwidth": 2,
            "linecolor": "white",
            "showbackground": true,
            "ticks": "",
            "zerolinecolor": "white"
           }
          },
          "shapedefaults": {
           "line": {
            "color": "#2a3f5f"
           }
          },
          "ternary": {
           "aaxis": {
            "gridcolor": "white",
            "linecolor": "white",
            "ticks": ""
           },
           "baxis": {
            "gridcolor": "white",
            "linecolor": "white",
            "ticks": ""
           },
           "bgcolor": "#E5ECF6",
           "caxis": {
            "gridcolor": "white",
            "linecolor": "white",
            "ticks": ""
           }
          },
          "title": {
           "x": 0.05
          },
          "xaxis": {
           "automargin": true,
           "gridcolor": "white",
           "linecolor": "white",
           "ticks": "",
           "title": {
            "standoff": 15
           },
           "zerolinecolor": "white",
           "zerolinewidth": 2
          },
          "yaxis": {
           "automargin": true,
           "gridcolor": "white",
           "linecolor": "white",
           "ticks": "",
           "title": {
            "standoff": 15
           },
           "zerolinecolor": "white",
           "zerolinewidth": 2
          }
         }
        },
        "title": {
         "text": "ferry"
        },
        "xaxis": {
         "anchor": "y",
         "domain": [
          0,
          1
         ],
         "title": {
          "text": "problem"
         }
        },
        "yaxis": {
         "anchor": "x",
         "domain": [
          0,
          1
         ],
         "title": {
          "text": "expanded"
         },
         "type": "log"
        }
       }
      }
     },
     "metadata": {},
     "output_type": "display_data"
    },
    {
     "data": {
      "application/vnd.plotly.v1+json": {
       "config": {
        "plotlyServerURL": "https://plot.ly"
       },
       "data": [
        {
         "hovertemplate": "model=dd_dlg<br>problem=%{x}<br>expanded=%{y}<extra></extra>",
         "legendgroup": "dd_dlg",
         "marker": {
          "color": "#636efa",
          "symbol": "circle"
         },
         "mode": "markers",
         "name": "dd_dlg",
         "orientation": "v",
         "showlegend": true,
         "type": "scatter",
         "x": [
          0,
          1,
          2,
          3,
          4,
          5,
          6,
          7,
          8,
          9,
          10
         ],
         "xaxis": "x",
         "y": [
          65,
          163,
          147,
          881,
          2879,
          3468,
          9434,
          13139,
          22956,
          58286,
          140857
         ],
         "yaxis": "y"
        },
        {
         "hovertemplate": "model=dd_slg<br>problem=%{x}<br>expanded=%{y}<extra></extra>",
         "legendgroup": "dd_slg",
         "marker": {
          "color": "#EF553B",
          "symbol": "circle"
         },
         "mode": "markers",
         "name": "dd_slg",
         "orientation": "v",
         "showlegend": true,
         "type": "scatter",
         "x": [
          0,
          1,
          2,
          3,
          4
         ],
         "xaxis": "x",
         "y": [
          99,
          178,
          486,
          1557,
          13258
         ],
         "yaxis": "y"
        },
        {
         "hovertemplate": "model=dd_llg<br>problem=%{x}<br>expanded=%{y}<extra></extra>",
         "legendgroup": "dd_llg",
         "marker": {
          "color": "#00cc96",
          "symbol": "circle"
         },
         "mode": "markers",
         "name": "dd_llg",
         "orientation": "v",
         "showlegend": true,
         "type": "scatter",
         "x": [
          0,
          1,
          2,
          3,
          4,
          5,
          6,
          7,
          8,
          9,
          10,
          11,
          12,
          13,
          14,
          15,
          16,
          17
         ],
         "xaxis": "x",
         "y": [
          95,
          150,
          252,
          320,
          473,
          728,
          1150,
          1497,
          1975,
          2677,
          3194,
          4088,
          5119,
          5762,
          6902,
          8899,
          10321,
          11656
         ],
         "yaxis": "y"
        }
       ],
       "layout": {
        "legend": {
         "title": {
          "text": "model"
         },
         "tracegroupgap": 0
        },
        "template": {
         "data": {
          "bar": [
           {
            "error_x": {
             "color": "#2a3f5f"
            },
            "error_y": {
             "color": "#2a3f5f"
            },
            "marker": {
             "line": {
              "color": "#E5ECF6",
              "width": 0.5
             },
             "pattern": {
              "fillmode": "overlay",
              "size": 10,
              "solidity": 0.2
             }
            },
            "type": "bar"
           }
          ],
          "barpolar": [
           {
            "marker": {
             "line": {
              "color": "#E5ECF6",
              "width": 0.5
             },
             "pattern": {
              "fillmode": "overlay",
              "size": 10,
              "solidity": 0.2
             }
            },
            "type": "barpolar"
           }
          ],
          "carpet": [
           {
            "aaxis": {
             "endlinecolor": "#2a3f5f",
             "gridcolor": "white",
             "linecolor": "white",
             "minorgridcolor": "white",
             "startlinecolor": "#2a3f5f"
            },
            "baxis": {
             "endlinecolor": "#2a3f5f",
             "gridcolor": "white",
             "linecolor": "white",
             "minorgridcolor": "white",
             "startlinecolor": "#2a3f5f"
            },
            "type": "carpet"
           }
          ],
          "choropleth": [
           {
            "colorbar": {
             "outlinewidth": 0,
             "ticks": ""
            },
            "type": "choropleth"
           }
          ],
          "contour": [
           {
            "colorbar": {
             "outlinewidth": 0,
             "ticks": ""
            },
            "colorscale": [
             [
              0,
              "#0d0887"
             ],
             [
              0.1111111111111111,
              "#46039f"
             ],
             [
              0.2222222222222222,
              "#7201a8"
             ],
             [
              0.3333333333333333,
              "#9c179e"
             ],
             [
              0.4444444444444444,
              "#bd3786"
             ],
             [
              0.5555555555555556,
              "#d8576b"
             ],
             [
              0.6666666666666666,
              "#ed7953"
             ],
             [
              0.7777777777777778,
              "#fb9f3a"
             ],
             [
              0.8888888888888888,
              "#fdca26"
             ],
             [
              1,
              "#f0f921"
             ]
            ],
            "type": "contour"
           }
          ],
          "contourcarpet": [
           {
            "colorbar": {
             "outlinewidth": 0,
             "ticks": ""
            },
            "type": "contourcarpet"
           }
          ],
          "heatmap": [
           {
            "colorbar": {
             "outlinewidth": 0,
             "ticks": ""
            },
            "colorscale": [
             [
              0,
              "#0d0887"
             ],
             [
              0.1111111111111111,
              "#46039f"
             ],
             [
              0.2222222222222222,
              "#7201a8"
             ],
             [
              0.3333333333333333,
              "#9c179e"
             ],
             [
              0.4444444444444444,
              "#bd3786"
             ],
             [
              0.5555555555555556,
              "#d8576b"
             ],
             [
              0.6666666666666666,
              "#ed7953"
             ],
             [
              0.7777777777777778,
              "#fb9f3a"
             ],
             [
              0.8888888888888888,
              "#fdca26"
             ],
             [
              1,
              "#f0f921"
             ]
            ],
            "type": "heatmap"
           }
          ],
          "heatmapgl": [
           {
            "colorbar": {
             "outlinewidth": 0,
             "ticks": ""
            },
            "colorscale": [
             [
              0,
              "#0d0887"
             ],
             [
              0.1111111111111111,
              "#46039f"
             ],
             [
              0.2222222222222222,
              "#7201a8"
             ],
             [
              0.3333333333333333,
              "#9c179e"
             ],
             [
              0.4444444444444444,
              "#bd3786"
             ],
             [
              0.5555555555555556,
              "#d8576b"
             ],
             [
              0.6666666666666666,
              "#ed7953"
             ],
             [
              0.7777777777777778,
              "#fb9f3a"
             ],
             [
              0.8888888888888888,
              "#fdca26"
             ],
             [
              1,
              "#f0f921"
             ]
            ],
            "type": "heatmapgl"
           }
          ],
          "histogram": [
           {
            "marker": {
             "pattern": {
              "fillmode": "overlay",
              "size": 10,
              "solidity": 0.2
             }
            },
            "type": "histogram"
           }
          ],
          "histogram2d": [
           {
            "colorbar": {
             "outlinewidth": 0,
             "ticks": ""
            },
            "colorscale": [
             [
              0,
              "#0d0887"
             ],
             [
              0.1111111111111111,
              "#46039f"
             ],
             [
              0.2222222222222222,
              "#7201a8"
             ],
             [
              0.3333333333333333,
              "#9c179e"
             ],
             [
              0.4444444444444444,
              "#bd3786"
             ],
             [
              0.5555555555555556,
              "#d8576b"
             ],
             [
              0.6666666666666666,
              "#ed7953"
             ],
             [
              0.7777777777777778,
              "#fb9f3a"
             ],
             [
              0.8888888888888888,
              "#fdca26"
             ],
             [
              1,
              "#f0f921"
             ]
            ],
            "type": "histogram2d"
           }
          ],
          "histogram2dcontour": [
           {
            "colorbar": {
             "outlinewidth": 0,
             "ticks": ""
            },
            "colorscale": [
             [
              0,
              "#0d0887"
             ],
             [
              0.1111111111111111,
              "#46039f"
             ],
             [
              0.2222222222222222,
              "#7201a8"
             ],
             [
              0.3333333333333333,
              "#9c179e"
             ],
             [
              0.4444444444444444,
              "#bd3786"
             ],
             [
              0.5555555555555556,
              "#d8576b"
             ],
             [
              0.6666666666666666,
              "#ed7953"
             ],
             [
              0.7777777777777778,
              "#fb9f3a"
             ],
             [
              0.8888888888888888,
              "#fdca26"
             ],
             [
              1,
              "#f0f921"
             ]
            ],
            "type": "histogram2dcontour"
           }
          ],
          "mesh3d": [
           {
            "colorbar": {
             "outlinewidth": 0,
             "ticks": ""
            },
            "type": "mesh3d"
           }
          ],
          "parcoords": [
           {
            "line": {
             "colorbar": {
              "outlinewidth": 0,
              "ticks": ""
             }
            },
            "type": "parcoords"
           }
          ],
          "pie": [
           {
            "automargin": true,
            "type": "pie"
           }
          ],
          "scatter": [
           {
            "fillpattern": {
             "fillmode": "overlay",
             "size": 10,
             "solidity": 0.2
            },
            "type": "scatter"
           }
          ],
          "scatter3d": [
           {
            "line": {
             "colorbar": {
              "outlinewidth": 0,
              "ticks": ""
             }
            },
            "marker": {
             "colorbar": {
              "outlinewidth": 0,
              "ticks": ""
             }
            },
            "type": "scatter3d"
           }
          ],
          "scattercarpet": [
           {
            "marker": {
             "colorbar": {
              "outlinewidth": 0,
              "ticks": ""
             }
            },
            "type": "scattercarpet"
           }
          ],
          "scattergeo": [
           {
            "marker": {
             "colorbar": {
              "outlinewidth": 0,
              "ticks": ""
             }
            },
            "type": "scattergeo"
           }
          ],
          "scattergl": [
           {
            "marker": {
             "colorbar": {
              "outlinewidth": 0,
              "ticks": ""
             }
            },
            "type": "scattergl"
           }
          ],
          "scattermapbox": [
           {
            "marker": {
             "colorbar": {
              "outlinewidth": 0,
              "ticks": ""
             }
            },
            "type": "scattermapbox"
           }
          ],
          "scatterpolar": [
           {
            "marker": {
             "colorbar": {
              "outlinewidth": 0,
              "ticks": ""
             }
            },
            "type": "scatterpolar"
           }
          ],
          "scatterpolargl": [
           {
            "marker": {
             "colorbar": {
              "outlinewidth": 0,
              "ticks": ""
             }
            },
            "type": "scatterpolargl"
           }
          ],
          "scatterternary": [
           {
            "marker": {
             "colorbar": {
              "outlinewidth": 0,
              "ticks": ""
             }
            },
            "type": "scatterternary"
           }
          ],
          "surface": [
           {
            "colorbar": {
             "outlinewidth": 0,
             "ticks": ""
            },
            "colorscale": [
             [
              0,
              "#0d0887"
             ],
             [
              0.1111111111111111,
              "#46039f"
             ],
             [
              0.2222222222222222,
              "#7201a8"
             ],
             [
              0.3333333333333333,
              "#9c179e"
             ],
             [
              0.4444444444444444,
              "#bd3786"
             ],
             [
              0.5555555555555556,
              "#d8576b"
             ],
             [
              0.6666666666666666,
              "#ed7953"
             ],
             [
              0.7777777777777778,
              "#fb9f3a"
             ],
             [
              0.8888888888888888,
              "#fdca26"
             ],
             [
              1,
              "#f0f921"
             ]
            ],
            "type": "surface"
           }
          ],
          "table": [
           {
            "cells": {
             "fill": {
              "color": "#EBF0F8"
             },
             "line": {
              "color": "white"
             }
            },
            "header": {
             "fill": {
              "color": "#C8D4E3"
             },
             "line": {
              "color": "white"
             }
            },
            "type": "table"
           }
          ]
         },
         "layout": {
          "annotationdefaults": {
           "arrowcolor": "#2a3f5f",
           "arrowhead": 0,
           "arrowwidth": 1
          },
          "autotypenumbers": "strict",
          "coloraxis": {
           "colorbar": {
            "outlinewidth": 0,
            "ticks": ""
           }
          },
          "colorscale": {
           "diverging": [
            [
             0,
             "#8e0152"
            ],
            [
             0.1,
             "#c51b7d"
            ],
            [
             0.2,
             "#de77ae"
            ],
            [
             0.3,
             "#f1b6da"
            ],
            [
             0.4,
             "#fde0ef"
            ],
            [
             0.5,
             "#f7f7f7"
            ],
            [
             0.6,
             "#e6f5d0"
            ],
            [
             0.7,
             "#b8e186"
            ],
            [
             0.8,
             "#7fbc41"
            ],
            [
             0.9,
             "#4d9221"
            ],
            [
             1,
             "#276419"
            ]
           ],
           "sequential": [
            [
             0,
             "#0d0887"
            ],
            [
             0.1111111111111111,
             "#46039f"
            ],
            [
             0.2222222222222222,
             "#7201a8"
            ],
            [
             0.3333333333333333,
             "#9c179e"
            ],
            [
             0.4444444444444444,
             "#bd3786"
            ],
            [
             0.5555555555555556,
             "#d8576b"
            ],
            [
             0.6666666666666666,
             "#ed7953"
            ],
            [
             0.7777777777777778,
             "#fb9f3a"
            ],
            [
             0.8888888888888888,
             "#fdca26"
            ],
            [
             1,
             "#f0f921"
            ]
           ],
           "sequentialminus": [
            [
             0,
             "#0d0887"
            ],
            [
             0.1111111111111111,
             "#46039f"
            ],
            [
             0.2222222222222222,
             "#7201a8"
            ],
            [
             0.3333333333333333,
             "#9c179e"
            ],
            [
             0.4444444444444444,
             "#bd3786"
            ],
            [
             0.5555555555555556,
             "#d8576b"
            ],
            [
             0.6666666666666666,
             "#ed7953"
            ],
            [
             0.7777777777777778,
             "#fb9f3a"
            ],
            [
             0.8888888888888888,
             "#fdca26"
            ],
            [
             1,
             "#f0f921"
            ]
           ]
          },
          "colorway": [
           "#636efa",
           "#EF553B",
           "#00cc96",
           "#ab63fa",
           "#FFA15A",
           "#19d3f3",
           "#FF6692",
           "#B6E880",
           "#FF97FF",
           "#FECB52"
          ],
          "font": {
           "color": "#2a3f5f"
          },
          "geo": {
           "bgcolor": "white",
           "lakecolor": "white",
           "landcolor": "#E5ECF6",
           "showlakes": true,
           "showland": true,
           "subunitcolor": "white"
          },
          "hoverlabel": {
           "align": "left"
          },
          "hovermode": "closest",
          "mapbox": {
           "style": "light"
          },
          "paper_bgcolor": "white",
          "plot_bgcolor": "#E5ECF6",
          "polar": {
           "angularaxis": {
            "gridcolor": "white",
            "linecolor": "white",
            "ticks": ""
           },
           "bgcolor": "#E5ECF6",
           "radialaxis": {
            "gridcolor": "white",
            "linecolor": "white",
            "ticks": ""
           }
          },
          "scene": {
           "xaxis": {
            "backgroundcolor": "#E5ECF6",
            "gridcolor": "white",
            "gridwidth": 2,
            "linecolor": "white",
            "showbackground": true,
            "ticks": "",
            "zerolinecolor": "white"
           },
           "yaxis": {
            "backgroundcolor": "#E5ECF6",
            "gridcolor": "white",
            "gridwidth": 2,
            "linecolor": "white",
            "showbackground": true,
            "ticks": "",
            "zerolinecolor": "white"
           },
           "zaxis": {
            "backgroundcolor": "#E5ECF6",
            "gridcolor": "white",
            "gridwidth": 2,
            "linecolor": "white",
            "showbackground": true,
            "ticks": "",
            "zerolinecolor": "white"
           }
          },
          "shapedefaults": {
           "line": {
            "color": "#2a3f5f"
           }
          },
          "ternary": {
           "aaxis": {
            "gridcolor": "white",
            "linecolor": "white",
            "ticks": ""
           },
           "baxis": {
            "gridcolor": "white",
            "linecolor": "white",
            "ticks": ""
           },
           "bgcolor": "#E5ECF6",
           "caxis": {
            "gridcolor": "white",
            "linecolor": "white",
            "ticks": ""
           }
          },
          "title": {
           "x": 0.05
          },
          "xaxis": {
           "automargin": true,
           "gridcolor": "white",
           "linecolor": "white",
           "ticks": "",
           "title": {
            "standoff": 15
           },
           "zerolinecolor": "white",
           "zerolinewidth": 2
          },
          "yaxis": {
           "automargin": true,
           "gridcolor": "white",
           "linecolor": "white",
           "ticks": "",
           "title": {
            "standoff": 15
           },
           "zerolinecolor": "white",
           "zerolinewidth": 2
          }
         }
        },
        "title": {
         "text": "gripper"
        },
        "xaxis": {
         "anchor": "y",
         "domain": [
          0,
          1
         ],
         "title": {
          "text": "problem"
         }
        },
        "yaxis": {
         "anchor": "x",
         "domain": [
          0,
          1
         ],
         "title": {
          "text": "expanded"
         },
         "type": "log"
        }
       }
      }
     },
     "metadata": {},
     "output_type": "display_data"
    },
    {
     "data": {
      "application/vnd.plotly.v1+json": {
       "config": {
        "plotlyServerURL": "https://plot.ly"
       },
       "data": [
        {
         "hovertemplate": "model=dd_dlg<br>problem=%{x}<br>expanded=%{y}<extra></extra>",
         "legendgroup": "dd_dlg",
         "marker": {
          "color": "#636efa",
          "symbol": "circle"
         },
         "mode": "markers",
         "name": "dd_dlg",
         "orientation": "v",
         "showlegend": true,
         "type": "scatter",
         "x": [
          0,
          1,
          2,
          3,
          4,
          5,
          6,
          7,
          8,
          9,
          10,
          11,
          12,
          13,
          14,
          15
         ],
         "xaxis": "x",
         "y": [
          2719,
          2719,
          6261,
          2431,
          2670,
          1187,
          6303,
          15827,
          6068,
          17750,
          163151,
          163250,
          64562,
          21744,
          47719,
          32914
         ],
         "yaxis": "y"
        },
        {
         "hovertemplate": "model=dd_slg<br>problem=%{x}<br>expanded=%{y}<extra></extra>",
         "legendgroup": "dd_slg",
         "marker": {
          "color": "#EF553B",
          "symbol": "circle"
         },
         "mode": "markers",
         "name": "dd_slg",
         "orientation": "v",
         "showlegend": true,
         "type": "scatter",
         "x": [
          0,
          1,
          2,
          3,
          4,
          5,
          6,
          7,
          8,
          9,
          10,
          11,
          12,
          13,
          15,
          16,
          17
         ],
         "xaxis": "x",
         "y": [
          3074,
          3074,
          4655,
          1575,
          8297,
          1470,
          3499,
          6322,
          8479,
          11253,
          93524,
          93503,
          129319,
          21710,
          113829,
          85100,
          48157
         ],
         "yaxis": "y"
        }
       ],
       "layout": {
        "legend": {
         "title": {
          "text": "model"
         },
         "tracegroupgap": 0
        },
        "template": {
         "data": {
          "bar": [
           {
            "error_x": {
             "color": "#2a3f5f"
            },
            "error_y": {
             "color": "#2a3f5f"
            },
            "marker": {
             "line": {
              "color": "#E5ECF6",
              "width": 0.5
             },
             "pattern": {
              "fillmode": "overlay",
              "size": 10,
              "solidity": 0.2
             }
            },
            "type": "bar"
           }
          ],
          "barpolar": [
           {
            "marker": {
             "line": {
              "color": "#E5ECF6",
              "width": 0.5
             },
             "pattern": {
              "fillmode": "overlay",
              "size": 10,
              "solidity": 0.2
             }
            },
            "type": "barpolar"
           }
          ],
          "carpet": [
           {
            "aaxis": {
             "endlinecolor": "#2a3f5f",
             "gridcolor": "white",
             "linecolor": "white",
             "minorgridcolor": "white",
             "startlinecolor": "#2a3f5f"
            },
            "baxis": {
             "endlinecolor": "#2a3f5f",
             "gridcolor": "white",
             "linecolor": "white",
             "minorgridcolor": "white",
             "startlinecolor": "#2a3f5f"
            },
            "type": "carpet"
           }
          ],
          "choropleth": [
           {
            "colorbar": {
             "outlinewidth": 0,
             "ticks": ""
            },
            "type": "choropleth"
           }
          ],
          "contour": [
           {
            "colorbar": {
             "outlinewidth": 0,
             "ticks": ""
            },
            "colorscale": [
             [
              0,
              "#0d0887"
             ],
             [
              0.1111111111111111,
              "#46039f"
             ],
             [
              0.2222222222222222,
              "#7201a8"
             ],
             [
              0.3333333333333333,
              "#9c179e"
             ],
             [
              0.4444444444444444,
              "#bd3786"
             ],
             [
              0.5555555555555556,
              "#d8576b"
             ],
             [
              0.6666666666666666,
              "#ed7953"
             ],
             [
              0.7777777777777778,
              "#fb9f3a"
             ],
             [
              0.8888888888888888,
              "#fdca26"
             ],
             [
              1,
              "#f0f921"
             ]
            ],
            "type": "contour"
           }
          ],
          "contourcarpet": [
           {
            "colorbar": {
             "outlinewidth": 0,
             "ticks": ""
            },
            "type": "contourcarpet"
           }
          ],
          "heatmap": [
           {
            "colorbar": {
             "outlinewidth": 0,
             "ticks": ""
            },
            "colorscale": [
             [
              0,
              "#0d0887"
             ],
             [
              0.1111111111111111,
              "#46039f"
             ],
             [
              0.2222222222222222,
              "#7201a8"
             ],
             [
              0.3333333333333333,
              "#9c179e"
             ],
             [
              0.4444444444444444,
              "#bd3786"
             ],
             [
              0.5555555555555556,
              "#d8576b"
             ],
             [
              0.6666666666666666,
              "#ed7953"
             ],
             [
              0.7777777777777778,
              "#fb9f3a"
             ],
             [
              0.8888888888888888,
              "#fdca26"
             ],
             [
              1,
              "#f0f921"
             ]
            ],
            "type": "heatmap"
           }
          ],
          "heatmapgl": [
           {
            "colorbar": {
             "outlinewidth": 0,
             "ticks": ""
            },
            "colorscale": [
             [
              0,
              "#0d0887"
             ],
             [
              0.1111111111111111,
              "#46039f"
             ],
             [
              0.2222222222222222,
              "#7201a8"
             ],
             [
              0.3333333333333333,
              "#9c179e"
             ],
             [
              0.4444444444444444,
              "#bd3786"
             ],
             [
              0.5555555555555556,
              "#d8576b"
             ],
             [
              0.6666666666666666,
              "#ed7953"
             ],
             [
              0.7777777777777778,
              "#fb9f3a"
             ],
             [
              0.8888888888888888,
              "#fdca26"
             ],
             [
              1,
              "#f0f921"
             ]
            ],
            "type": "heatmapgl"
           }
          ],
          "histogram": [
           {
            "marker": {
             "pattern": {
              "fillmode": "overlay",
              "size": 10,
              "solidity": 0.2
             }
            },
            "type": "histogram"
           }
          ],
          "histogram2d": [
           {
            "colorbar": {
             "outlinewidth": 0,
             "ticks": ""
            },
            "colorscale": [
             [
              0,
              "#0d0887"
             ],
             [
              0.1111111111111111,
              "#46039f"
             ],
             [
              0.2222222222222222,
              "#7201a8"
             ],
             [
              0.3333333333333333,
              "#9c179e"
             ],
             [
              0.4444444444444444,
              "#bd3786"
             ],
             [
              0.5555555555555556,
              "#d8576b"
             ],
             [
              0.6666666666666666,
              "#ed7953"
             ],
             [
              0.7777777777777778,
              "#fb9f3a"
             ],
             [
              0.8888888888888888,
              "#fdca26"
             ],
             [
              1,
              "#f0f921"
             ]
            ],
            "type": "histogram2d"
           }
          ],
          "histogram2dcontour": [
           {
            "colorbar": {
             "outlinewidth": 0,
             "ticks": ""
            },
            "colorscale": [
             [
              0,
              "#0d0887"
             ],
             [
              0.1111111111111111,
              "#46039f"
             ],
             [
              0.2222222222222222,
              "#7201a8"
             ],
             [
              0.3333333333333333,
              "#9c179e"
             ],
             [
              0.4444444444444444,
              "#bd3786"
             ],
             [
              0.5555555555555556,
              "#d8576b"
             ],
             [
              0.6666666666666666,
              "#ed7953"
             ],
             [
              0.7777777777777778,
              "#fb9f3a"
             ],
             [
              0.8888888888888888,
              "#fdca26"
             ],
             [
              1,
              "#f0f921"
             ]
            ],
            "type": "histogram2dcontour"
           }
          ],
          "mesh3d": [
           {
            "colorbar": {
             "outlinewidth": 0,
             "ticks": ""
            },
            "type": "mesh3d"
           }
          ],
          "parcoords": [
           {
            "line": {
             "colorbar": {
              "outlinewidth": 0,
              "ticks": ""
             }
            },
            "type": "parcoords"
           }
          ],
          "pie": [
           {
            "automargin": true,
            "type": "pie"
           }
          ],
          "scatter": [
           {
            "fillpattern": {
             "fillmode": "overlay",
             "size": 10,
             "solidity": 0.2
            },
            "type": "scatter"
           }
          ],
          "scatter3d": [
           {
            "line": {
             "colorbar": {
              "outlinewidth": 0,
              "ticks": ""
             }
            },
            "marker": {
             "colorbar": {
              "outlinewidth": 0,
              "ticks": ""
             }
            },
            "type": "scatter3d"
           }
          ],
          "scattercarpet": [
           {
            "marker": {
             "colorbar": {
              "outlinewidth": 0,
              "ticks": ""
             }
            },
            "type": "scattercarpet"
           }
          ],
          "scattergeo": [
           {
            "marker": {
             "colorbar": {
              "outlinewidth": 0,
              "ticks": ""
             }
            },
            "type": "scattergeo"
           }
          ],
          "scattergl": [
           {
            "marker": {
             "colorbar": {
              "outlinewidth": 0,
              "ticks": ""
             }
            },
            "type": "scattergl"
           }
          ],
          "scattermapbox": [
           {
            "marker": {
             "colorbar": {
              "outlinewidth": 0,
              "ticks": ""
             }
            },
            "type": "scattermapbox"
           }
          ],
          "scatterpolar": [
           {
            "marker": {
             "colorbar": {
              "outlinewidth": 0,
              "ticks": ""
             }
            },
            "type": "scatterpolar"
           }
          ],
          "scatterpolargl": [
           {
            "marker": {
             "colorbar": {
              "outlinewidth": 0,
              "ticks": ""
             }
            },
            "type": "scatterpolargl"
           }
          ],
          "scatterternary": [
           {
            "marker": {
             "colorbar": {
              "outlinewidth": 0,
              "ticks": ""
             }
            },
            "type": "scatterternary"
           }
          ],
          "surface": [
           {
            "colorbar": {
             "outlinewidth": 0,
             "ticks": ""
            },
            "colorscale": [
             [
              0,
              "#0d0887"
             ],
             [
              0.1111111111111111,
              "#46039f"
             ],
             [
              0.2222222222222222,
              "#7201a8"
             ],
             [
              0.3333333333333333,
              "#9c179e"
             ],
             [
              0.4444444444444444,
              "#bd3786"
             ],
             [
              0.5555555555555556,
              "#d8576b"
             ],
             [
              0.6666666666666666,
              "#ed7953"
             ],
             [
              0.7777777777777778,
              "#fb9f3a"
             ],
             [
              0.8888888888888888,
              "#fdca26"
             ],
             [
              1,
              "#f0f921"
             ]
            ],
            "type": "surface"
           }
          ],
          "table": [
           {
            "cells": {
             "fill": {
              "color": "#EBF0F8"
             },
             "line": {
              "color": "white"
             }
            },
            "header": {
             "fill": {
              "color": "#C8D4E3"
             },
             "line": {
              "color": "white"
             }
            },
            "type": "table"
           }
          ]
         },
         "layout": {
          "annotationdefaults": {
           "arrowcolor": "#2a3f5f",
           "arrowhead": 0,
           "arrowwidth": 1
          },
          "autotypenumbers": "strict",
          "coloraxis": {
           "colorbar": {
            "outlinewidth": 0,
            "ticks": ""
           }
          },
          "colorscale": {
           "diverging": [
            [
             0,
             "#8e0152"
            ],
            [
             0.1,
             "#c51b7d"
            ],
            [
             0.2,
             "#de77ae"
            ],
            [
             0.3,
             "#f1b6da"
            ],
            [
             0.4,
             "#fde0ef"
            ],
            [
             0.5,
             "#f7f7f7"
            ],
            [
             0.6,
             "#e6f5d0"
            ],
            [
             0.7,
             "#b8e186"
            ],
            [
             0.8,
             "#7fbc41"
            ],
            [
             0.9,
             "#4d9221"
            ],
            [
             1,
             "#276419"
            ]
           ],
           "sequential": [
            [
             0,
             "#0d0887"
            ],
            [
             0.1111111111111111,
             "#46039f"
            ],
            [
             0.2222222222222222,
             "#7201a8"
            ],
            [
             0.3333333333333333,
             "#9c179e"
            ],
            [
             0.4444444444444444,
             "#bd3786"
            ],
            [
             0.5555555555555556,
             "#d8576b"
            ],
            [
             0.6666666666666666,
             "#ed7953"
            ],
            [
             0.7777777777777778,
             "#fb9f3a"
            ],
            [
             0.8888888888888888,
             "#fdca26"
            ],
            [
             1,
             "#f0f921"
            ]
           ],
           "sequentialminus": [
            [
             0,
             "#0d0887"
            ],
            [
             0.1111111111111111,
             "#46039f"
            ],
            [
             0.2222222222222222,
             "#7201a8"
            ],
            [
             0.3333333333333333,
             "#9c179e"
            ],
            [
             0.4444444444444444,
             "#bd3786"
            ],
            [
             0.5555555555555556,
             "#d8576b"
            ],
            [
             0.6666666666666666,
             "#ed7953"
            ],
            [
             0.7777777777777778,
             "#fb9f3a"
            ],
            [
             0.8888888888888888,
             "#fdca26"
            ],
            [
             1,
             "#f0f921"
            ]
           ]
          },
          "colorway": [
           "#636efa",
           "#EF553B",
           "#00cc96",
           "#ab63fa",
           "#FFA15A",
           "#19d3f3",
           "#FF6692",
           "#B6E880",
           "#FF97FF",
           "#FECB52"
          ],
          "font": {
           "color": "#2a3f5f"
          },
          "geo": {
           "bgcolor": "white",
           "lakecolor": "white",
           "landcolor": "#E5ECF6",
           "showlakes": true,
           "showland": true,
           "subunitcolor": "white"
          },
          "hoverlabel": {
           "align": "left"
          },
          "hovermode": "closest",
          "mapbox": {
           "style": "light"
          },
          "paper_bgcolor": "white",
          "plot_bgcolor": "#E5ECF6",
          "polar": {
           "angularaxis": {
            "gridcolor": "white",
            "linecolor": "white",
            "ticks": ""
           },
           "bgcolor": "#E5ECF6",
           "radialaxis": {
            "gridcolor": "white",
            "linecolor": "white",
            "ticks": ""
           }
          },
          "scene": {
           "xaxis": {
            "backgroundcolor": "#E5ECF6",
            "gridcolor": "white",
            "gridwidth": 2,
            "linecolor": "white",
            "showbackground": true,
            "ticks": "",
            "zerolinecolor": "white"
           },
           "yaxis": {
            "backgroundcolor": "#E5ECF6",
            "gridcolor": "white",
            "gridwidth": 2,
            "linecolor": "white",
            "showbackground": true,
            "ticks": "",
            "zerolinecolor": "white"
           },
           "zaxis": {
            "backgroundcolor": "#E5ECF6",
            "gridcolor": "white",
            "gridwidth": 2,
            "linecolor": "white",
            "showbackground": true,
            "ticks": "",
            "zerolinecolor": "white"
           }
          },
          "shapedefaults": {
           "line": {
            "color": "#2a3f5f"
           }
          },
          "ternary": {
           "aaxis": {
            "gridcolor": "white",
            "linecolor": "white",
            "ticks": ""
           },
           "baxis": {
            "gridcolor": "white",
            "linecolor": "white",
            "ticks": ""
           },
           "bgcolor": "#E5ECF6",
           "caxis": {
            "gridcolor": "white",
            "linecolor": "white",
            "ticks": ""
           }
          },
          "title": {
           "x": 0.05
          },
          "xaxis": {
           "automargin": true,
           "gridcolor": "white",
           "linecolor": "white",
           "ticks": "",
           "title": {
            "standoff": 15
           },
           "zerolinecolor": "white",
           "zerolinewidth": 2
          },
          "yaxis": {
           "automargin": true,
           "gridcolor": "white",
           "linecolor": "white",
           "ticks": "",
           "title": {
            "standoff": 15
           },
           "zerolinecolor": "white",
           "zerolinewidth": 2
          }
         }
        },
        "title": {
         "text": "n-puzzle"
        },
        "xaxis": {
         "anchor": "y",
         "domain": [
          0,
          1
         ],
         "title": {
          "text": "problem"
         }
        },
        "yaxis": {
         "anchor": "x",
         "domain": [
          0,
          1
         ],
         "title": {
          "text": "expanded"
         },
         "type": "log"
        }
       }
      }
     },
     "metadata": {},
     "output_type": "display_data"
    },
    {
     "data": {
      "application/vnd.plotly.v1+json": {
       "config": {
        "plotlyServerURL": "https://plot.ly"
       },
       "data": [
        {
         "hovertemplate": "model=dd_dlg<br>problem=%{x}<br>expanded=%{y}<extra></extra>",
         "legendgroup": "dd_dlg",
         "marker": {
          "color": "#636efa",
          "symbol": "circle"
         },
         "mode": "markers",
         "name": "dd_dlg",
         "orientation": "v",
         "showlegend": true,
         "type": "scatter",
         "x": [
          0,
          1,
          2,
          3,
          4,
          5,
          6,
          7,
          8,
          12,
          13,
          15,
          16,
          18,
          19,
          20,
          21,
          22,
          23,
          24,
          25,
          26,
          29,
          32,
          35,
          36,
          37,
          38,
          39,
          40,
          41,
          42,
          43,
          44,
          45,
          46,
          48,
          49,
          51,
          52,
          54,
          55,
          56,
          57,
          58,
          59,
          60,
          61,
          62,
          63,
          64,
          72,
          73,
          75,
          76,
          78,
          79
         ],
         "xaxis": "x",
         "y": [
          12171,
          12171,
          25787,
          38545,
          38545,
          236,
          38545,
          38545,
          221,
          48839,
          48839,
          48839,
          48839,
          385,
          385,
          43,
          60,
          60,
          43,
          60,
          60,
          42,
          350,
          350,
          350,
          19223,
          19223,
          26269,
          18498,
          18498,
          24892,
          1213,
          1213,
          25199,
          205462,
          205462,
          205462,
          205462,
          16722,
          16722,
          96210,
          96210,
          40482,
          77556,
          77556,
          39056,
          38489,
          38489,
          42950,
          2591,
          2591,
          12594,
          12594,
          66817,
          66817,
          39766,
          39766
         ],
         "yaxis": "y"
        },
        {
         "hovertemplate": "model=dd_slg<br>problem=%{x}<br>expanded=%{y}<extra></extra>",
         "legendgroup": "dd_slg",
         "marker": {
          "color": "#EF553B",
          "symbol": "circle"
         },
         "mode": "markers",
         "name": "dd_slg",
         "orientation": "v",
         "showlegend": true,
         "type": "scatter",
         "x": [
          0,
          1,
          2,
          3,
          4,
          5,
          6,
          7,
          8,
          9,
          10,
          17,
          18,
          19,
          20,
          21,
          22,
          23,
          24,
          25,
          26,
          29,
          32,
          35,
          36,
          37,
          38,
          39,
          40,
          41,
          42,
          43,
          44,
          54,
          55,
          56,
          57,
          58,
          59,
          60,
          61,
          62,
          66,
          67,
          69,
          70,
          72,
          73,
          80
         ],
         "xaxis": "x",
         "y": [
          5917,
          5917,
          50984,
          14632,
          14632,
          8884,
          14632,
          14632,
          911,
          897,
          897,
          160327,
          6658,
          6658,
          168,
          57,
          57,
          168,
          57,
          57,
          36,
          4921,
          4921,
          4921,
          83927,
          83927,
          24036,
          7144,
          7144,
          22676,
          21204,
          21204,
          22134,
          27397,
          27397,
          49916,
          25586,
          25586,
          41189,
          32564,
          32564,
          147712,
          10576,
          10576,
          662,
          662,
          26792,
          26792,
          150758
         ],
         "yaxis": "y"
        },
        {
         "hovertemplate": "model=dd_llg<br>problem=%{x}<br>expanded=%{y}<extra></extra>",
         "legendgroup": "dd_llg",
         "marker": {
          "color": "#00cc96",
          "symbol": "circle"
         },
         "mode": "markers",
         "name": "dd_llg",
         "orientation": "v",
         "showlegend": true,
         "type": "scatter",
         "x": [
          0,
          1,
          2,
          3,
          4,
          5,
          6,
          7,
          8,
          18,
          19,
          20,
          21,
          22,
          23,
          24,
          25,
          26,
          36,
          37,
          38,
          39,
          40,
          41,
          42,
          43,
          44,
          54,
          55,
          56,
          57,
          58,
          59,
          60,
          61,
          62,
          66,
          67,
          78,
          79
         ],
         "xaxis": "x",
         "y": [
          22994,
          22994,
          3094,
          19531,
          19531,
          2910,
          19531,
          19531,
          2660,
          12589,
          12589,
          1582,
          12089,
          12089,
          1582,
          12089,
          12089,
          1516,
          5674,
          5674,
          30204,
          5354,
          5354,
          27302,
          5200,
          5200,
          26809,
          85938,
          85938,
          45110,
          82184,
          82184,
          44306,
          65537,
          65537,
          42520,
          93839,
          93839,
          73120,
          73120
         ],
         "yaxis": "y"
        }
       ],
       "layout": {
        "legend": {
         "title": {
          "text": "model"
         },
         "tracegroupgap": 0
        },
        "template": {
         "data": {
          "bar": [
           {
            "error_x": {
             "color": "#2a3f5f"
            },
            "error_y": {
             "color": "#2a3f5f"
            },
            "marker": {
             "line": {
              "color": "#E5ECF6",
              "width": 0.5
             },
             "pattern": {
              "fillmode": "overlay",
              "size": 10,
              "solidity": 0.2
             }
            },
            "type": "bar"
           }
          ],
          "barpolar": [
           {
            "marker": {
             "line": {
              "color": "#E5ECF6",
              "width": 0.5
             },
             "pattern": {
              "fillmode": "overlay",
              "size": 10,
              "solidity": 0.2
             }
            },
            "type": "barpolar"
           }
          ],
          "carpet": [
           {
            "aaxis": {
             "endlinecolor": "#2a3f5f",
             "gridcolor": "white",
             "linecolor": "white",
             "minorgridcolor": "white",
             "startlinecolor": "#2a3f5f"
            },
            "baxis": {
             "endlinecolor": "#2a3f5f",
             "gridcolor": "white",
             "linecolor": "white",
             "minorgridcolor": "white",
             "startlinecolor": "#2a3f5f"
            },
            "type": "carpet"
           }
          ],
          "choropleth": [
           {
            "colorbar": {
             "outlinewidth": 0,
             "ticks": ""
            },
            "type": "choropleth"
           }
          ],
          "contour": [
           {
            "colorbar": {
             "outlinewidth": 0,
             "ticks": ""
            },
            "colorscale": [
             [
              0,
              "#0d0887"
             ],
             [
              0.1111111111111111,
              "#46039f"
             ],
             [
              0.2222222222222222,
              "#7201a8"
             ],
             [
              0.3333333333333333,
              "#9c179e"
             ],
             [
              0.4444444444444444,
              "#bd3786"
             ],
             [
              0.5555555555555556,
              "#d8576b"
             ],
             [
              0.6666666666666666,
              "#ed7953"
             ],
             [
              0.7777777777777778,
              "#fb9f3a"
             ],
             [
              0.8888888888888888,
              "#fdca26"
             ],
             [
              1,
              "#f0f921"
             ]
            ],
            "type": "contour"
           }
          ],
          "contourcarpet": [
           {
            "colorbar": {
             "outlinewidth": 0,
             "ticks": ""
            },
            "type": "contourcarpet"
           }
          ],
          "heatmap": [
           {
            "colorbar": {
             "outlinewidth": 0,
             "ticks": ""
            },
            "colorscale": [
             [
              0,
              "#0d0887"
             ],
             [
              0.1111111111111111,
              "#46039f"
             ],
             [
              0.2222222222222222,
              "#7201a8"
             ],
             [
              0.3333333333333333,
              "#9c179e"
             ],
             [
              0.4444444444444444,
              "#bd3786"
             ],
             [
              0.5555555555555556,
              "#d8576b"
             ],
             [
              0.6666666666666666,
              "#ed7953"
             ],
             [
              0.7777777777777778,
              "#fb9f3a"
             ],
             [
              0.8888888888888888,
              "#fdca26"
             ],
             [
              1,
              "#f0f921"
             ]
            ],
            "type": "heatmap"
           }
          ],
          "heatmapgl": [
           {
            "colorbar": {
             "outlinewidth": 0,
             "ticks": ""
            },
            "colorscale": [
             [
              0,
              "#0d0887"
             ],
             [
              0.1111111111111111,
              "#46039f"
             ],
             [
              0.2222222222222222,
              "#7201a8"
             ],
             [
              0.3333333333333333,
              "#9c179e"
             ],
             [
              0.4444444444444444,
              "#bd3786"
             ],
             [
              0.5555555555555556,
              "#d8576b"
             ],
             [
              0.6666666666666666,
              "#ed7953"
             ],
             [
              0.7777777777777778,
              "#fb9f3a"
             ],
             [
              0.8888888888888888,
              "#fdca26"
             ],
             [
              1,
              "#f0f921"
             ]
            ],
            "type": "heatmapgl"
           }
          ],
          "histogram": [
           {
            "marker": {
             "pattern": {
              "fillmode": "overlay",
              "size": 10,
              "solidity": 0.2
             }
            },
            "type": "histogram"
           }
          ],
          "histogram2d": [
           {
            "colorbar": {
             "outlinewidth": 0,
             "ticks": ""
            },
            "colorscale": [
             [
              0,
              "#0d0887"
             ],
             [
              0.1111111111111111,
              "#46039f"
             ],
             [
              0.2222222222222222,
              "#7201a8"
             ],
             [
              0.3333333333333333,
              "#9c179e"
             ],
             [
              0.4444444444444444,
              "#bd3786"
             ],
             [
              0.5555555555555556,
              "#d8576b"
             ],
             [
              0.6666666666666666,
              "#ed7953"
             ],
             [
              0.7777777777777778,
              "#fb9f3a"
             ],
             [
              0.8888888888888888,
              "#fdca26"
             ],
             [
              1,
              "#f0f921"
             ]
            ],
            "type": "histogram2d"
           }
          ],
          "histogram2dcontour": [
           {
            "colorbar": {
             "outlinewidth": 0,
             "ticks": ""
            },
            "colorscale": [
             [
              0,
              "#0d0887"
             ],
             [
              0.1111111111111111,
              "#46039f"
             ],
             [
              0.2222222222222222,
              "#7201a8"
             ],
             [
              0.3333333333333333,
              "#9c179e"
             ],
             [
              0.4444444444444444,
              "#bd3786"
             ],
             [
              0.5555555555555556,
              "#d8576b"
             ],
             [
              0.6666666666666666,
              "#ed7953"
             ],
             [
              0.7777777777777778,
              "#fb9f3a"
             ],
             [
              0.8888888888888888,
              "#fdca26"
             ],
             [
              1,
              "#f0f921"
             ]
            ],
            "type": "histogram2dcontour"
           }
          ],
          "mesh3d": [
           {
            "colorbar": {
             "outlinewidth": 0,
             "ticks": ""
            },
            "type": "mesh3d"
           }
          ],
          "parcoords": [
           {
            "line": {
             "colorbar": {
              "outlinewidth": 0,
              "ticks": ""
             }
            },
            "type": "parcoords"
           }
          ],
          "pie": [
           {
            "automargin": true,
            "type": "pie"
           }
          ],
          "scatter": [
           {
            "fillpattern": {
             "fillmode": "overlay",
             "size": 10,
             "solidity": 0.2
            },
            "type": "scatter"
           }
          ],
          "scatter3d": [
           {
            "line": {
             "colorbar": {
              "outlinewidth": 0,
              "ticks": ""
             }
            },
            "marker": {
             "colorbar": {
              "outlinewidth": 0,
              "ticks": ""
             }
            },
            "type": "scatter3d"
           }
          ],
          "scattercarpet": [
           {
            "marker": {
             "colorbar": {
              "outlinewidth": 0,
              "ticks": ""
             }
            },
            "type": "scattercarpet"
           }
          ],
          "scattergeo": [
           {
            "marker": {
             "colorbar": {
              "outlinewidth": 0,
              "ticks": ""
             }
            },
            "type": "scattergeo"
           }
          ],
          "scattergl": [
           {
            "marker": {
             "colorbar": {
              "outlinewidth": 0,
              "ticks": ""
             }
            },
            "type": "scattergl"
           }
          ],
          "scattermapbox": [
           {
            "marker": {
             "colorbar": {
              "outlinewidth": 0,
              "ticks": ""
             }
            },
            "type": "scattermapbox"
           }
          ],
          "scatterpolar": [
           {
            "marker": {
             "colorbar": {
              "outlinewidth": 0,
              "ticks": ""
             }
            },
            "type": "scatterpolar"
           }
          ],
          "scatterpolargl": [
           {
            "marker": {
             "colorbar": {
              "outlinewidth": 0,
              "ticks": ""
             }
            },
            "type": "scatterpolargl"
           }
          ],
          "scatterternary": [
           {
            "marker": {
             "colorbar": {
              "outlinewidth": 0,
              "ticks": ""
             }
            },
            "type": "scatterternary"
           }
          ],
          "surface": [
           {
            "colorbar": {
             "outlinewidth": 0,
             "ticks": ""
            },
            "colorscale": [
             [
              0,
              "#0d0887"
             ],
             [
              0.1111111111111111,
              "#46039f"
             ],
             [
              0.2222222222222222,
              "#7201a8"
             ],
             [
              0.3333333333333333,
              "#9c179e"
             ],
             [
              0.4444444444444444,
              "#bd3786"
             ],
             [
              0.5555555555555556,
              "#d8576b"
             ],
             [
              0.6666666666666666,
              "#ed7953"
             ],
             [
              0.7777777777777778,
              "#fb9f3a"
             ],
             [
              0.8888888888888888,
              "#fdca26"
             ],
             [
              1,
              "#f0f921"
             ]
            ],
            "type": "surface"
           }
          ],
          "table": [
           {
            "cells": {
             "fill": {
              "color": "#EBF0F8"
             },
             "line": {
              "color": "white"
             }
            },
            "header": {
             "fill": {
              "color": "#C8D4E3"
             },
             "line": {
              "color": "white"
             }
            },
            "type": "table"
           }
          ]
         },
         "layout": {
          "annotationdefaults": {
           "arrowcolor": "#2a3f5f",
           "arrowhead": 0,
           "arrowwidth": 1
          },
          "autotypenumbers": "strict",
          "coloraxis": {
           "colorbar": {
            "outlinewidth": 0,
            "ticks": ""
           }
          },
          "colorscale": {
           "diverging": [
            [
             0,
             "#8e0152"
            ],
            [
             0.1,
             "#c51b7d"
            ],
            [
             0.2,
             "#de77ae"
            ],
            [
             0.3,
             "#f1b6da"
            ],
            [
             0.4,
             "#fde0ef"
            ],
            [
             0.5,
             "#f7f7f7"
            ],
            [
             0.6,
             "#e6f5d0"
            ],
            [
             0.7,
             "#b8e186"
            ],
            [
             0.8,
             "#7fbc41"
            ],
            [
             0.9,
             "#4d9221"
            ],
            [
             1,
             "#276419"
            ]
           ],
           "sequential": [
            [
             0,
             "#0d0887"
            ],
            [
             0.1111111111111111,
             "#46039f"
            ],
            [
             0.2222222222222222,
             "#7201a8"
            ],
            [
             0.3333333333333333,
             "#9c179e"
            ],
            [
             0.4444444444444444,
             "#bd3786"
            ],
            [
             0.5555555555555556,
             "#d8576b"
            ],
            [
             0.6666666666666666,
             "#ed7953"
            ],
            [
             0.7777777777777778,
             "#fb9f3a"
            ],
            [
             0.8888888888888888,
             "#fdca26"
            ],
            [
             1,
             "#f0f921"
            ]
           ],
           "sequentialminus": [
            [
             0,
             "#0d0887"
            ],
            [
             0.1111111111111111,
             "#46039f"
            ],
            [
             0.2222222222222222,
             "#7201a8"
            ],
            [
             0.3333333333333333,
             "#9c179e"
            ],
            [
             0.4444444444444444,
             "#bd3786"
            ],
            [
             0.5555555555555556,
             "#d8576b"
            ],
            [
             0.6666666666666666,
             "#ed7953"
            ],
            [
             0.7777777777777778,
             "#fb9f3a"
            ],
            [
             0.8888888888888888,
             "#fdca26"
            ],
            [
             1,
             "#f0f921"
            ]
           ]
          },
          "colorway": [
           "#636efa",
           "#EF553B",
           "#00cc96",
           "#ab63fa",
           "#FFA15A",
           "#19d3f3",
           "#FF6692",
           "#B6E880",
           "#FF97FF",
           "#FECB52"
          ],
          "font": {
           "color": "#2a3f5f"
          },
          "geo": {
           "bgcolor": "white",
           "lakecolor": "white",
           "landcolor": "#E5ECF6",
           "showlakes": true,
           "showland": true,
           "subunitcolor": "white"
          },
          "hoverlabel": {
           "align": "left"
          },
          "hovermode": "closest",
          "mapbox": {
           "style": "light"
          },
          "paper_bgcolor": "white",
          "plot_bgcolor": "#E5ECF6",
          "polar": {
           "angularaxis": {
            "gridcolor": "white",
            "linecolor": "white",
            "ticks": ""
           },
           "bgcolor": "#E5ECF6",
           "radialaxis": {
            "gridcolor": "white",
            "linecolor": "white",
            "ticks": ""
           }
          },
          "scene": {
           "xaxis": {
            "backgroundcolor": "#E5ECF6",
            "gridcolor": "white",
            "gridwidth": 2,
            "linecolor": "white",
            "showbackground": true,
            "ticks": "",
            "zerolinecolor": "white"
           },
           "yaxis": {
            "backgroundcolor": "#E5ECF6",
            "gridcolor": "white",
            "gridwidth": 2,
            "linecolor": "white",
            "showbackground": true,
            "ticks": "",
            "zerolinecolor": "white"
           },
           "zaxis": {
            "backgroundcolor": "#E5ECF6",
            "gridcolor": "white",
            "gridwidth": 2,
            "linecolor": "white",
            "showbackground": true,
            "ticks": "",
            "zerolinecolor": "white"
           }
          },
          "shapedefaults": {
           "line": {
            "color": "#2a3f5f"
           }
          },
          "ternary": {
           "aaxis": {
            "gridcolor": "white",
            "linecolor": "white",
            "ticks": ""
           },
           "baxis": {
            "gridcolor": "white",
            "linecolor": "white",
            "ticks": ""
           },
           "bgcolor": "#E5ECF6",
           "caxis": {
            "gridcolor": "white",
            "linecolor": "white",
            "ticks": ""
           }
          },
          "title": {
           "x": 0.05
          },
          "xaxis": {
           "automargin": true,
           "gridcolor": "white",
           "linecolor": "white",
           "ticks": "",
           "title": {
            "standoff": 15
           },
           "zerolinecolor": "white",
           "zerolinewidth": 2
          },
          "yaxis": {
           "automargin": true,
           "gridcolor": "white",
           "linecolor": "white",
           "ticks": "",
           "title": {
            "standoff": 15
           },
           "zerolinecolor": "white",
           "zerolinewidth": 2
          }
         }
        },
        "title": {
         "text": "sokoban"
        },
        "xaxis": {
         "anchor": "y",
         "domain": [
          0,
          1
         ],
         "title": {
          "text": "problem"
         }
        },
        "yaxis": {
         "anchor": "x",
         "domain": [
          0,
          1
         ],
         "title": {
          "text": "expanded"
         },
         "type": "log"
        }
       }
      }
     },
     "metadata": {},
     "output_type": "display_data"
    },
    {
     "data": {
      "application/vnd.plotly.v1+json": {
       "config": {
        "plotlyServerURL": "https://plot.ly"
       },
       "data": [
        {
         "hovertemplate": "model=dd_llg<br>problem=%{x}<br>expanded=%{y}<extra></extra>",
         "legendgroup": "dd_llg",
         "marker": {
          "color": "#636efa",
          "symbol": "circle"
         },
         "mode": "markers",
         "name": "dd_llg",
         "orientation": "v",
         "showlegend": true,
         "type": "scatter",
         "x": [
          0,
          1,
          2,
          3,
          4,
          5,
          6,
          7,
          8,
          9,
          10,
          11,
          12,
          13,
          14,
          15,
          16,
          17,
          18,
          19,
          20,
          21,
          22,
          23,
          24,
          25,
          26,
          27,
          28,
          29,
          30,
          31,
          32,
          33,
          34,
          35,
          36,
          37,
          38,
          39,
          40,
          41,
          42,
          43,
          44,
          45,
          46,
          47,
          48,
          49,
          50,
          51,
          52,
          53,
          54,
          55,
          56,
          57,
          58,
          59
         ],
         "xaxis": "x",
         "y": [
          42,
          42,
          42,
          42,
          42,
          55,
          55,
          55,
          55,
          55,
          83,
          83,
          83,
          83,
          83,
          82,
          82,
          82,
          82,
          82,
          95,
          95,
          95,
          95,
          95,
          108,
          108,
          108,
          108,
          108,
          122,
          122,
          122,
          122,
          122,
          303,
          303,
          303,
          303,
          303,
          211,
          211,
          211,
          211,
          211,
          167,
          165,
          165,
          165,
          165,
          178,
          178,
          178,
          178,
          179,
          188,
          188,
          189,
          188,
          188
         ],
         "yaxis": "y"
        }
       ],
       "layout": {
        "legend": {
         "title": {
          "text": "model"
         },
         "tracegroupgap": 0
        },
        "template": {
         "data": {
          "bar": [
           {
            "error_x": {
             "color": "#2a3f5f"
            },
            "error_y": {
             "color": "#2a3f5f"
            },
            "marker": {
             "line": {
              "color": "#E5ECF6",
              "width": 0.5
             },
             "pattern": {
              "fillmode": "overlay",
              "size": 10,
              "solidity": 0.2
             }
            },
            "type": "bar"
           }
          ],
          "barpolar": [
           {
            "marker": {
             "line": {
              "color": "#E5ECF6",
              "width": 0.5
             },
             "pattern": {
              "fillmode": "overlay",
              "size": 10,
              "solidity": 0.2
             }
            },
            "type": "barpolar"
           }
          ],
          "carpet": [
           {
            "aaxis": {
             "endlinecolor": "#2a3f5f",
             "gridcolor": "white",
             "linecolor": "white",
             "minorgridcolor": "white",
             "startlinecolor": "#2a3f5f"
            },
            "baxis": {
             "endlinecolor": "#2a3f5f",
             "gridcolor": "white",
             "linecolor": "white",
             "minorgridcolor": "white",
             "startlinecolor": "#2a3f5f"
            },
            "type": "carpet"
           }
          ],
          "choropleth": [
           {
            "colorbar": {
             "outlinewidth": 0,
             "ticks": ""
            },
            "type": "choropleth"
           }
          ],
          "contour": [
           {
            "colorbar": {
             "outlinewidth": 0,
             "ticks": ""
            },
            "colorscale": [
             [
              0,
              "#0d0887"
             ],
             [
              0.1111111111111111,
              "#46039f"
             ],
             [
              0.2222222222222222,
              "#7201a8"
             ],
             [
              0.3333333333333333,
              "#9c179e"
             ],
             [
              0.4444444444444444,
              "#bd3786"
             ],
             [
              0.5555555555555556,
              "#d8576b"
             ],
             [
              0.6666666666666666,
              "#ed7953"
             ],
             [
              0.7777777777777778,
              "#fb9f3a"
             ],
             [
              0.8888888888888888,
              "#fdca26"
             ],
             [
              1,
              "#f0f921"
             ]
            ],
            "type": "contour"
           }
          ],
          "contourcarpet": [
           {
            "colorbar": {
             "outlinewidth": 0,
             "ticks": ""
            },
            "type": "contourcarpet"
           }
          ],
          "heatmap": [
           {
            "colorbar": {
             "outlinewidth": 0,
             "ticks": ""
            },
            "colorscale": [
             [
              0,
              "#0d0887"
             ],
             [
              0.1111111111111111,
              "#46039f"
             ],
             [
              0.2222222222222222,
              "#7201a8"
             ],
             [
              0.3333333333333333,
              "#9c179e"
             ],
             [
              0.4444444444444444,
              "#bd3786"
             ],
             [
              0.5555555555555556,
              "#d8576b"
             ],
             [
              0.6666666666666666,
              "#ed7953"
             ],
             [
              0.7777777777777778,
              "#fb9f3a"
             ],
             [
              0.8888888888888888,
              "#fdca26"
             ],
             [
              1,
              "#f0f921"
             ]
            ],
            "type": "heatmap"
           }
          ],
          "heatmapgl": [
           {
            "colorbar": {
             "outlinewidth": 0,
             "ticks": ""
            },
            "colorscale": [
             [
              0,
              "#0d0887"
             ],
             [
              0.1111111111111111,
              "#46039f"
             ],
             [
              0.2222222222222222,
              "#7201a8"
             ],
             [
              0.3333333333333333,
              "#9c179e"
             ],
             [
              0.4444444444444444,
              "#bd3786"
             ],
             [
              0.5555555555555556,
              "#d8576b"
             ],
             [
              0.6666666666666666,
              "#ed7953"
             ],
             [
              0.7777777777777778,
              "#fb9f3a"
             ],
             [
              0.8888888888888888,
              "#fdca26"
             ],
             [
              1,
              "#f0f921"
             ]
            ],
            "type": "heatmapgl"
           }
          ],
          "histogram": [
           {
            "marker": {
             "pattern": {
              "fillmode": "overlay",
              "size": 10,
              "solidity": 0.2
             }
            },
            "type": "histogram"
           }
          ],
          "histogram2d": [
           {
            "colorbar": {
             "outlinewidth": 0,
             "ticks": ""
            },
            "colorscale": [
             [
              0,
              "#0d0887"
             ],
             [
              0.1111111111111111,
              "#46039f"
             ],
             [
              0.2222222222222222,
              "#7201a8"
             ],
             [
              0.3333333333333333,
              "#9c179e"
             ],
             [
              0.4444444444444444,
              "#bd3786"
             ],
             [
              0.5555555555555556,
              "#d8576b"
             ],
             [
              0.6666666666666666,
              "#ed7953"
             ],
             [
              0.7777777777777778,
              "#fb9f3a"
             ],
             [
              0.8888888888888888,
              "#fdca26"
             ],
             [
              1,
              "#f0f921"
             ]
            ],
            "type": "histogram2d"
           }
          ],
          "histogram2dcontour": [
           {
            "colorbar": {
             "outlinewidth": 0,
             "ticks": ""
            },
            "colorscale": [
             [
              0,
              "#0d0887"
             ],
             [
              0.1111111111111111,
              "#46039f"
             ],
             [
              0.2222222222222222,
              "#7201a8"
             ],
             [
              0.3333333333333333,
              "#9c179e"
             ],
             [
              0.4444444444444444,
              "#bd3786"
             ],
             [
              0.5555555555555556,
              "#d8576b"
             ],
             [
              0.6666666666666666,
              "#ed7953"
             ],
             [
              0.7777777777777778,
              "#fb9f3a"
             ],
             [
              0.8888888888888888,
              "#fdca26"
             ],
             [
              1,
              "#f0f921"
             ]
            ],
            "type": "histogram2dcontour"
           }
          ],
          "mesh3d": [
           {
            "colorbar": {
             "outlinewidth": 0,
             "ticks": ""
            },
            "type": "mesh3d"
           }
          ],
          "parcoords": [
           {
            "line": {
             "colorbar": {
              "outlinewidth": 0,
              "ticks": ""
             }
            },
            "type": "parcoords"
           }
          ],
          "pie": [
           {
            "automargin": true,
            "type": "pie"
           }
          ],
          "scatter": [
           {
            "fillpattern": {
             "fillmode": "overlay",
             "size": 10,
             "solidity": 0.2
            },
            "type": "scatter"
           }
          ],
          "scatter3d": [
           {
            "line": {
             "colorbar": {
              "outlinewidth": 0,
              "ticks": ""
             }
            },
            "marker": {
             "colorbar": {
              "outlinewidth": 0,
              "ticks": ""
             }
            },
            "type": "scatter3d"
           }
          ],
          "scattercarpet": [
           {
            "marker": {
             "colorbar": {
              "outlinewidth": 0,
              "ticks": ""
             }
            },
            "type": "scattercarpet"
           }
          ],
          "scattergeo": [
           {
            "marker": {
             "colorbar": {
              "outlinewidth": 0,
              "ticks": ""
             }
            },
            "type": "scattergeo"
           }
          ],
          "scattergl": [
           {
            "marker": {
             "colorbar": {
              "outlinewidth": 0,
              "ticks": ""
             }
            },
            "type": "scattergl"
           }
          ],
          "scattermapbox": [
           {
            "marker": {
             "colorbar": {
              "outlinewidth": 0,
              "ticks": ""
             }
            },
            "type": "scattermapbox"
           }
          ],
          "scatterpolar": [
           {
            "marker": {
             "colorbar": {
              "outlinewidth": 0,
              "ticks": ""
             }
            },
            "type": "scatterpolar"
           }
          ],
          "scatterpolargl": [
           {
            "marker": {
             "colorbar": {
              "outlinewidth": 0,
              "ticks": ""
             }
            },
            "type": "scatterpolargl"
           }
          ],
          "scatterternary": [
           {
            "marker": {
             "colorbar": {
              "outlinewidth": 0,
              "ticks": ""
             }
            },
            "type": "scatterternary"
           }
          ],
          "surface": [
           {
            "colorbar": {
             "outlinewidth": 0,
             "ticks": ""
            },
            "colorscale": [
             [
              0,
              "#0d0887"
             ],
             [
              0.1111111111111111,
              "#46039f"
             ],
             [
              0.2222222222222222,
              "#7201a8"
             ],
             [
              0.3333333333333333,
              "#9c179e"
             ],
             [
              0.4444444444444444,
              "#bd3786"
             ],
             [
              0.5555555555555556,
              "#d8576b"
             ],
             [
              0.6666666666666666,
              "#ed7953"
             ],
             [
              0.7777777777777778,
              "#fb9f3a"
             ],
             [
              0.8888888888888888,
              "#fdca26"
             ],
             [
              1,
              "#f0f921"
             ]
            ],
            "type": "surface"
           }
          ],
          "table": [
           {
            "cells": {
             "fill": {
              "color": "#EBF0F8"
             },
             "line": {
              "color": "white"
             }
            },
            "header": {
             "fill": {
              "color": "#C8D4E3"
             },
             "line": {
              "color": "white"
             }
            },
            "type": "table"
           }
          ]
         },
         "layout": {
          "annotationdefaults": {
           "arrowcolor": "#2a3f5f",
           "arrowhead": 0,
           "arrowwidth": 1
          },
          "autotypenumbers": "strict",
          "coloraxis": {
           "colorbar": {
            "outlinewidth": 0,
            "ticks": ""
           }
          },
          "colorscale": {
           "diverging": [
            [
             0,
             "#8e0152"
            ],
            [
             0.1,
             "#c51b7d"
            ],
            [
             0.2,
             "#de77ae"
            ],
            [
             0.3,
             "#f1b6da"
            ],
            [
             0.4,
             "#fde0ef"
            ],
            [
             0.5,
             "#f7f7f7"
            ],
            [
             0.6,
             "#e6f5d0"
            ],
            [
             0.7,
             "#b8e186"
            ],
            [
             0.8,
             "#7fbc41"
            ],
            [
             0.9,
             "#4d9221"
            ],
            [
             1,
             "#276419"
            ]
           ],
           "sequential": [
            [
             0,
             "#0d0887"
            ],
            [
             0.1111111111111111,
             "#46039f"
            ],
            [
             0.2222222222222222,
             "#7201a8"
            ],
            [
             0.3333333333333333,
             "#9c179e"
            ],
            [
             0.4444444444444444,
             "#bd3786"
            ],
            [
             0.5555555555555556,
             "#d8576b"
            ],
            [
             0.6666666666666666,
             "#ed7953"
            ],
            [
             0.7777777777777778,
             "#fb9f3a"
            ],
            [
             0.8888888888888888,
             "#fdca26"
            ],
            [
             1,
             "#f0f921"
            ]
           ],
           "sequentialminus": [
            [
             0,
             "#0d0887"
            ],
            [
             0.1111111111111111,
             "#46039f"
            ],
            [
             0.2222222222222222,
             "#7201a8"
            ],
            [
             0.3333333333333333,
             "#9c179e"
            ],
            [
             0.4444444444444444,
             "#bd3786"
            ],
            [
             0.5555555555555556,
             "#d8576b"
            ],
            [
             0.6666666666666666,
             "#ed7953"
            ],
            [
             0.7777777777777778,
             "#fb9f3a"
            ],
            [
             0.8888888888888888,
             "#fdca26"
            ],
            [
             1,
             "#f0f921"
            ]
           ]
          },
          "colorway": [
           "#636efa",
           "#EF553B",
           "#00cc96",
           "#ab63fa",
           "#FFA15A",
           "#19d3f3",
           "#FF6692",
           "#B6E880",
           "#FF97FF",
           "#FECB52"
          ],
          "font": {
           "color": "#2a3f5f"
          },
          "geo": {
           "bgcolor": "white",
           "lakecolor": "white",
           "landcolor": "#E5ECF6",
           "showlakes": true,
           "showland": true,
           "subunitcolor": "white"
          },
          "hoverlabel": {
           "align": "left"
          },
          "hovermode": "closest",
          "mapbox": {
           "style": "light"
          },
          "paper_bgcolor": "white",
          "plot_bgcolor": "#E5ECF6",
          "polar": {
           "angularaxis": {
            "gridcolor": "white",
            "linecolor": "white",
            "ticks": ""
           },
           "bgcolor": "#E5ECF6",
           "radialaxis": {
            "gridcolor": "white",
            "linecolor": "white",
            "ticks": ""
           }
          },
          "scene": {
           "xaxis": {
            "backgroundcolor": "#E5ECF6",
            "gridcolor": "white",
            "gridwidth": 2,
            "linecolor": "white",
            "showbackground": true,
            "ticks": "",
            "zerolinecolor": "white"
           },
           "yaxis": {
            "backgroundcolor": "#E5ECF6",
            "gridcolor": "white",
            "gridwidth": 2,
            "linecolor": "white",
            "showbackground": true,
            "ticks": "",
            "zerolinecolor": "white"
           },
           "zaxis": {
            "backgroundcolor": "#E5ECF6",
            "gridcolor": "white",
            "gridwidth": 2,
            "linecolor": "white",
            "showbackground": true,
            "ticks": "",
            "zerolinecolor": "white"
           }
          },
          "shapedefaults": {
           "line": {
            "color": "#2a3f5f"
           }
          },
          "ternary": {
           "aaxis": {
            "gridcolor": "white",
            "linecolor": "white",
            "ticks": ""
           },
           "baxis": {
            "gridcolor": "white",
            "linecolor": "white",
            "ticks": ""
           },
           "bgcolor": "#E5ECF6",
           "caxis": {
            "gridcolor": "white",
            "linecolor": "white",
            "ticks": ""
           }
          },
          "title": {
           "x": 0.05
          },
          "xaxis": {
           "automargin": true,
           "gridcolor": "white",
           "linecolor": "white",
           "ticks": "",
           "title": {
            "standoff": 15
           },
           "zerolinecolor": "white",
           "zerolinewidth": 2
          },
          "yaxis": {
           "automargin": true,
           "gridcolor": "white",
           "linecolor": "white",
           "ticks": "",
           "title": {
            "standoff": 15
           },
           "zerolinecolor": "white",
           "zerolinewidth": 2
          }
         }
        },
        "title": {
         "text": "spanner"
        },
        "xaxis": {
         "anchor": "y",
         "domain": [
          0,
          1
         ],
         "title": {
          "text": "problem"
         }
        },
        "yaxis": {
         "anchor": "x",
         "domain": [
          0,
          1
         ],
         "title": {
          "text": "expanded"
         },
         "type": "log"
        }
       }
      }
     },
     "metadata": {},
     "output_type": "display_data"
    },
    {
     "data": {
      "application/vnd.plotly.v1+json": {
       "config": {
        "plotlyServerURL": "https://plot.ly"
       },
       "data": [
        {
         "hovertemplate": "model=dd_dlg<br>problem=%{x}<br>expanded=%{y}<extra></extra>",
         "legendgroup": "dd_dlg",
         "marker": {
          "color": "#636efa",
          "symbol": "circle"
         },
         "mode": "markers",
         "name": "dd_dlg",
         "orientation": "v",
         "showlegend": true,
         "type": "scatter",
         "x": [
          0,
          1,
          2,
          3,
          4,
          5,
          6,
          7,
          8,
          9,
          10,
          11,
          12,
          13,
          14,
          15,
          16,
          17,
          18,
          19,
          20,
          21,
          22,
          23,
          24,
          25,
          26,
          27,
          28,
          29,
          30,
          31,
          32,
          33,
          34,
          35,
          36,
          37,
          38,
          39,
          40,
          41,
          42,
          43,
          44,
          45,
          46,
          47,
          48,
          49,
          57
         ],
         "xaxis": "x",
         "y": [
          255,
          255,
          403,
          332,
          269,
          537,
          537,
          563,
          668,
          455,
          1595,
          1595,
          920,
          1430,
          1276,
          1142,
          1142,
          1192,
          2048,
          1440,
          3099,
          3099,
          2518,
          4299,
          1773,
          3809,
          3809,
          4848,
          2956,
          2021,
          4571,
          4570,
          8706,
          5083,
          4324,
          7365,
          7365,
          5919,
          5782,
          8936,
          9064,
          7137,
          6712,
          7054,
          9198,
          8992,
          8992,
          5854,
          6257,
          5081,
          6796
         ],
         "yaxis": "y"
        },
        {
         "hovertemplate": "model=dd_slg<br>problem=%{x}<br>expanded=%{y}<extra></extra>",
         "legendgroup": "dd_slg",
         "marker": {
          "color": "#EF553B",
          "symbol": "circle"
         },
         "mode": "markers",
         "name": "dd_slg",
         "orientation": "v",
         "showlegend": true,
         "type": "scatter",
         "x": [
          0,
          1,
          2,
          3,
          4,
          5,
          6,
          7,
          8,
          9,
          10,
          11,
          12,
          13,
          14,
          15,
          16,
          17,
          18,
          19,
          20,
          21,
          22,
          23,
          24,
          25,
          26,
          27,
          28,
          29,
          30,
          31,
          32,
          33,
          34,
          35,
          37,
          38,
          43
         ],
         "xaxis": "x",
         "y": [
          799,
          799,
          908,
          849,
          1173,
          2683,
          2065,
          1604,
          1791,
          1234,
          3229,
          3229,
          4381,
          4720,
          2491,
          3694,
          3694,
          5660,
          2243,
          3809,
          6448,
          6448,
          3288,
          5345,
          3655,
          13719,
          13716,
          6919,
          8936,
          8711,
          15152,
          11445,
          18179,
          8915,
          13297,
          13218,
          11736,
          15005,
          14772
         ],
         "yaxis": "y"
        },
        {
         "hovertemplate": "model=dd_llg<br>problem=%{x}<br>expanded=%{y}<extra></extra>",
         "legendgroup": "dd_llg",
         "marker": {
          "color": "#00cc96",
          "symbol": "circle"
         },
         "mode": "markers",
         "name": "dd_llg",
         "orientation": "v",
         "showlegend": true,
         "type": "scatter",
         "x": [
          0,
          1,
          2,
          3,
          4,
          5,
          6,
          7,
          8,
          9,
          10,
          11,
          12,
          13,
          14,
          15,
          16,
          17,
          18,
          19,
          20,
          21,
          22,
          23,
          24,
          25,
          26,
          27,
          28,
          29,
          30,
          31,
          32,
          33,
          34,
          35,
          36,
          37,
          38,
          39,
          40,
          41,
          42,
          44
         ],
         "xaxis": "x",
         "y": [
          312,
          312,
          285,
          358,
          435,
          569,
          569,
          546,
          576,
          1384,
          898,
          898,
          896,
          898,
          874,
          1324,
          1324,
          1306,
          1309,
          1420,
          2000,
          2000,
          1766,
          2427,
          1851,
          2473,
          3222,
          3803,
          2470,
          3274,
          3986,
          3085,
          5567,
          5067,
          4772,
          5143,
          6093,
          6097,
          4562,
          4996,
          8736,
          7152,
          7859,
          5090
         ],
         "yaxis": "y"
        }
       ],
       "layout": {
        "legend": {
         "title": {
          "text": "model"
         },
         "tracegroupgap": 0
        },
        "template": {
         "data": {
          "bar": [
           {
            "error_x": {
             "color": "#2a3f5f"
            },
            "error_y": {
             "color": "#2a3f5f"
            },
            "marker": {
             "line": {
              "color": "#E5ECF6",
              "width": 0.5
             },
             "pattern": {
              "fillmode": "overlay",
              "size": 10,
              "solidity": 0.2
             }
            },
            "type": "bar"
           }
          ],
          "barpolar": [
           {
            "marker": {
             "line": {
              "color": "#E5ECF6",
              "width": 0.5
             },
             "pattern": {
              "fillmode": "overlay",
              "size": 10,
              "solidity": 0.2
             }
            },
            "type": "barpolar"
           }
          ],
          "carpet": [
           {
            "aaxis": {
             "endlinecolor": "#2a3f5f",
             "gridcolor": "white",
             "linecolor": "white",
             "minorgridcolor": "white",
             "startlinecolor": "#2a3f5f"
            },
            "baxis": {
             "endlinecolor": "#2a3f5f",
             "gridcolor": "white",
             "linecolor": "white",
             "minorgridcolor": "white",
             "startlinecolor": "#2a3f5f"
            },
            "type": "carpet"
           }
          ],
          "choropleth": [
           {
            "colorbar": {
             "outlinewidth": 0,
             "ticks": ""
            },
            "type": "choropleth"
           }
          ],
          "contour": [
           {
            "colorbar": {
             "outlinewidth": 0,
             "ticks": ""
            },
            "colorscale": [
             [
              0,
              "#0d0887"
             ],
             [
              0.1111111111111111,
              "#46039f"
             ],
             [
              0.2222222222222222,
              "#7201a8"
             ],
             [
              0.3333333333333333,
              "#9c179e"
             ],
             [
              0.4444444444444444,
              "#bd3786"
             ],
             [
              0.5555555555555556,
              "#d8576b"
             ],
             [
              0.6666666666666666,
              "#ed7953"
             ],
             [
              0.7777777777777778,
              "#fb9f3a"
             ],
             [
              0.8888888888888888,
              "#fdca26"
             ],
             [
              1,
              "#f0f921"
             ]
            ],
            "type": "contour"
           }
          ],
          "contourcarpet": [
           {
            "colorbar": {
             "outlinewidth": 0,
             "ticks": ""
            },
            "type": "contourcarpet"
           }
          ],
          "heatmap": [
           {
            "colorbar": {
             "outlinewidth": 0,
             "ticks": ""
            },
            "colorscale": [
             [
              0,
              "#0d0887"
             ],
             [
              0.1111111111111111,
              "#46039f"
             ],
             [
              0.2222222222222222,
              "#7201a8"
             ],
             [
              0.3333333333333333,
              "#9c179e"
             ],
             [
              0.4444444444444444,
              "#bd3786"
             ],
             [
              0.5555555555555556,
              "#d8576b"
             ],
             [
              0.6666666666666666,
              "#ed7953"
             ],
             [
              0.7777777777777778,
              "#fb9f3a"
             ],
             [
              0.8888888888888888,
              "#fdca26"
             ],
             [
              1,
              "#f0f921"
             ]
            ],
            "type": "heatmap"
           }
          ],
          "heatmapgl": [
           {
            "colorbar": {
             "outlinewidth": 0,
             "ticks": ""
            },
            "colorscale": [
             [
              0,
              "#0d0887"
             ],
             [
              0.1111111111111111,
              "#46039f"
             ],
             [
              0.2222222222222222,
              "#7201a8"
             ],
             [
              0.3333333333333333,
              "#9c179e"
             ],
             [
              0.4444444444444444,
              "#bd3786"
             ],
             [
              0.5555555555555556,
              "#d8576b"
             ],
             [
              0.6666666666666666,
              "#ed7953"
             ],
             [
              0.7777777777777778,
              "#fb9f3a"
             ],
             [
              0.8888888888888888,
              "#fdca26"
             ],
             [
              1,
              "#f0f921"
             ]
            ],
            "type": "heatmapgl"
           }
          ],
          "histogram": [
           {
            "marker": {
             "pattern": {
              "fillmode": "overlay",
              "size": 10,
              "solidity": 0.2
             }
            },
            "type": "histogram"
           }
          ],
          "histogram2d": [
           {
            "colorbar": {
             "outlinewidth": 0,
             "ticks": ""
            },
            "colorscale": [
             [
              0,
              "#0d0887"
             ],
             [
              0.1111111111111111,
              "#46039f"
             ],
             [
              0.2222222222222222,
              "#7201a8"
             ],
             [
              0.3333333333333333,
              "#9c179e"
             ],
             [
              0.4444444444444444,
              "#bd3786"
             ],
             [
              0.5555555555555556,
              "#d8576b"
             ],
             [
              0.6666666666666666,
              "#ed7953"
             ],
             [
              0.7777777777777778,
              "#fb9f3a"
             ],
             [
              0.8888888888888888,
              "#fdca26"
             ],
             [
              1,
              "#f0f921"
             ]
            ],
            "type": "histogram2d"
           }
          ],
          "histogram2dcontour": [
           {
            "colorbar": {
             "outlinewidth": 0,
             "ticks": ""
            },
            "colorscale": [
             [
              0,
              "#0d0887"
             ],
             [
              0.1111111111111111,
              "#46039f"
             ],
             [
              0.2222222222222222,
              "#7201a8"
             ],
             [
              0.3333333333333333,
              "#9c179e"
             ],
             [
              0.4444444444444444,
              "#bd3786"
             ],
             [
              0.5555555555555556,
              "#d8576b"
             ],
             [
              0.6666666666666666,
              "#ed7953"
             ],
             [
              0.7777777777777778,
              "#fb9f3a"
             ],
             [
              0.8888888888888888,
              "#fdca26"
             ],
             [
              1,
              "#f0f921"
             ]
            ],
            "type": "histogram2dcontour"
           }
          ],
          "mesh3d": [
           {
            "colorbar": {
             "outlinewidth": 0,
             "ticks": ""
            },
            "type": "mesh3d"
           }
          ],
          "parcoords": [
           {
            "line": {
             "colorbar": {
              "outlinewidth": 0,
              "ticks": ""
             }
            },
            "type": "parcoords"
           }
          ],
          "pie": [
           {
            "automargin": true,
            "type": "pie"
           }
          ],
          "scatter": [
           {
            "fillpattern": {
             "fillmode": "overlay",
             "size": 10,
             "solidity": 0.2
            },
            "type": "scatter"
           }
          ],
          "scatter3d": [
           {
            "line": {
             "colorbar": {
              "outlinewidth": 0,
              "ticks": ""
             }
            },
            "marker": {
             "colorbar": {
              "outlinewidth": 0,
              "ticks": ""
             }
            },
            "type": "scatter3d"
           }
          ],
          "scattercarpet": [
           {
            "marker": {
             "colorbar": {
              "outlinewidth": 0,
              "ticks": ""
             }
            },
            "type": "scattercarpet"
           }
          ],
          "scattergeo": [
           {
            "marker": {
             "colorbar": {
              "outlinewidth": 0,
              "ticks": ""
             }
            },
            "type": "scattergeo"
           }
          ],
          "scattergl": [
           {
            "marker": {
             "colorbar": {
              "outlinewidth": 0,
              "ticks": ""
             }
            },
            "type": "scattergl"
           }
          ],
          "scattermapbox": [
           {
            "marker": {
             "colorbar": {
              "outlinewidth": 0,
              "ticks": ""
             }
            },
            "type": "scattermapbox"
           }
          ],
          "scatterpolar": [
           {
            "marker": {
             "colorbar": {
              "outlinewidth": 0,
              "ticks": ""
             }
            },
            "type": "scatterpolar"
           }
          ],
          "scatterpolargl": [
           {
            "marker": {
             "colorbar": {
              "outlinewidth": 0,
              "ticks": ""
             }
            },
            "type": "scatterpolargl"
           }
          ],
          "scatterternary": [
           {
            "marker": {
             "colorbar": {
              "outlinewidth": 0,
              "ticks": ""
             }
            },
            "type": "scatterternary"
           }
          ],
          "surface": [
           {
            "colorbar": {
             "outlinewidth": 0,
             "ticks": ""
            },
            "colorscale": [
             [
              0,
              "#0d0887"
             ],
             [
              0.1111111111111111,
              "#46039f"
             ],
             [
              0.2222222222222222,
              "#7201a8"
             ],
             [
              0.3333333333333333,
              "#9c179e"
             ],
             [
              0.4444444444444444,
              "#bd3786"
             ],
             [
              0.5555555555555556,
              "#d8576b"
             ],
             [
              0.6666666666666666,
              "#ed7953"
             ],
             [
              0.7777777777777778,
              "#fb9f3a"
             ],
             [
              0.8888888888888888,
              "#fdca26"
             ],
             [
              1,
              "#f0f921"
             ]
            ],
            "type": "surface"
           }
          ],
          "table": [
           {
            "cells": {
             "fill": {
              "color": "#EBF0F8"
             },
             "line": {
              "color": "white"
             }
            },
            "header": {
             "fill": {
              "color": "#C8D4E3"
             },
             "line": {
              "color": "white"
             }
            },
            "type": "table"
           }
          ]
         },
         "layout": {
          "annotationdefaults": {
           "arrowcolor": "#2a3f5f",
           "arrowhead": 0,
           "arrowwidth": 1
          },
          "autotypenumbers": "strict",
          "coloraxis": {
           "colorbar": {
            "outlinewidth": 0,
            "ticks": ""
           }
          },
          "colorscale": {
           "diverging": [
            [
             0,
             "#8e0152"
            ],
            [
             0.1,
             "#c51b7d"
            ],
            [
             0.2,
             "#de77ae"
            ],
            [
             0.3,
             "#f1b6da"
            ],
            [
             0.4,
             "#fde0ef"
            ],
            [
             0.5,
             "#f7f7f7"
            ],
            [
             0.6,
             "#e6f5d0"
            ],
            [
             0.7,
             "#b8e186"
            ],
            [
             0.8,
             "#7fbc41"
            ],
            [
             0.9,
             "#4d9221"
            ],
            [
             1,
             "#276419"
            ]
           ],
           "sequential": [
            [
             0,
             "#0d0887"
            ],
            [
             0.1111111111111111,
             "#46039f"
            ],
            [
             0.2222222222222222,
             "#7201a8"
            ],
            [
             0.3333333333333333,
             "#9c179e"
            ],
            [
             0.4444444444444444,
             "#bd3786"
            ],
            [
             0.5555555555555556,
             "#d8576b"
            ],
            [
             0.6666666666666666,
             "#ed7953"
            ],
            [
             0.7777777777777778,
             "#fb9f3a"
            ],
            [
             0.8888888888888888,
             "#fdca26"
            ],
            [
             1,
             "#f0f921"
            ]
           ],
           "sequentialminus": [
            [
             0,
             "#0d0887"
            ],
            [
             0.1111111111111111,
             "#46039f"
            ],
            [
             0.2222222222222222,
             "#7201a8"
            ],
            [
             0.3333333333333333,
             "#9c179e"
            ],
            [
             0.4444444444444444,
             "#bd3786"
            ],
            [
             0.5555555555555556,
             "#d8576b"
            ],
            [
             0.6666666666666666,
             "#ed7953"
            ],
            [
             0.7777777777777778,
             "#fb9f3a"
            ],
            [
             0.8888888888888888,
             "#fdca26"
            ],
            [
             1,
             "#f0f921"
            ]
           ]
          },
          "colorway": [
           "#636efa",
           "#EF553B",
           "#00cc96",
           "#ab63fa",
           "#FFA15A",
           "#19d3f3",
           "#FF6692",
           "#B6E880",
           "#FF97FF",
           "#FECB52"
          ],
          "font": {
           "color": "#2a3f5f"
          },
          "geo": {
           "bgcolor": "white",
           "lakecolor": "white",
           "landcolor": "#E5ECF6",
           "showlakes": true,
           "showland": true,
           "subunitcolor": "white"
          },
          "hoverlabel": {
           "align": "left"
          },
          "hovermode": "closest",
          "mapbox": {
           "style": "light"
          },
          "paper_bgcolor": "white",
          "plot_bgcolor": "#E5ECF6",
          "polar": {
           "angularaxis": {
            "gridcolor": "white",
            "linecolor": "white",
            "ticks": ""
           },
           "bgcolor": "#E5ECF6",
           "radialaxis": {
            "gridcolor": "white",
            "linecolor": "white",
            "ticks": ""
           }
          },
          "scene": {
           "xaxis": {
            "backgroundcolor": "#E5ECF6",
            "gridcolor": "white",
            "gridwidth": 2,
            "linecolor": "white",
            "showbackground": true,
            "ticks": "",
            "zerolinecolor": "white"
           },
           "yaxis": {
            "backgroundcolor": "#E5ECF6",
            "gridcolor": "white",
            "gridwidth": 2,
            "linecolor": "white",
            "showbackground": true,
            "ticks": "",
            "zerolinecolor": "white"
           },
           "zaxis": {
            "backgroundcolor": "#E5ECF6",
            "gridcolor": "white",
            "gridwidth": 2,
            "linecolor": "white",
            "showbackground": true,
            "ticks": "",
            "zerolinecolor": "white"
           }
          },
          "shapedefaults": {
           "line": {
            "color": "#2a3f5f"
           }
          },
          "ternary": {
           "aaxis": {
            "gridcolor": "white",
            "linecolor": "white",
            "ticks": ""
           },
           "baxis": {
            "gridcolor": "white",
            "linecolor": "white",
            "ticks": ""
           },
           "bgcolor": "#E5ECF6",
           "caxis": {
            "gridcolor": "white",
            "linecolor": "white",
            "ticks": ""
           }
          },
          "title": {
           "x": 0.05
          },
          "xaxis": {
           "automargin": true,
           "gridcolor": "white",
           "linecolor": "white",
           "ticks": "",
           "title": {
            "standoff": 15
           },
           "zerolinecolor": "white",
           "zerolinewidth": 2
          },
          "yaxis": {
           "automargin": true,
           "gridcolor": "white",
           "linecolor": "white",
           "ticks": "",
           "title": {
            "standoff": 15
           },
           "zerolinecolor": "white",
           "zerolinewidth": 2
          }
         }
        },
        "title": {
         "text": "visitall"
        },
        "xaxis": {
         "anchor": "y",
         "domain": [
          0,
          1
         ],
         "title": {
          "text": "problem"
         }
        },
        "yaxis": {
         "anchor": "x",
         "domain": [
          0,
          1
         ],
         "title": {
          "text": "expanded"
         },
         "type": "log"
        }
       }
      }
     },
     "metadata": {},
     "output_type": "display_data"
    },
    {
     "data": {
      "application/vnd.plotly.v1+json": {
       "config": {
        "plotlyServerURL": "https://plot.ly"
       },
       "data": [
        {
         "hovertemplate": "model=dd_dlg<br>problem=%{x}<br>expanded=%{y}<extra></extra>",
         "legendgroup": "dd_dlg",
         "marker": {
          "color": "#636efa",
          "symbol": "circle"
         },
         "mode": "markers",
         "name": "dd_dlg",
         "orientation": "v",
         "showlegend": true,
         "type": "scatter",
         "x": [
          0,
          1,
          2,
          3,
          4,
          5,
          6,
          7,
          8,
          9,
          10,
          11,
          12,
          13,
          14,
          15,
          16,
          17,
          18,
          19,
          20,
          21,
          22,
          23,
          24,
          25,
          26,
          27,
          28,
          29,
          30,
          31,
          32,
          33,
          34,
          35,
          36,
          37,
          38,
          39,
          40,
          41,
          42,
          43,
          44,
          45,
          46,
          47,
          48,
          49,
          50,
          51,
          52,
          53,
          54,
          55,
          56,
          57,
          58,
          59,
          60,
          61,
          62,
          63,
          64,
          65,
          66,
          67,
          68,
          69,
          70,
          71,
          72,
          73,
          74,
          75,
          76,
          77,
          78,
          79,
          82,
          83,
          84,
          85,
          86,
          87
         ],
         "xaxis": "x",
         "y": [
          166,
          166,
          225,
          258,
          240,
          330,
          330,
          393,
          355,
          366,
          894,
          894,
          645,
          1009,
          811,
          916,
          916,
          1108,
          914,
          930,
          1480,
          1480,
          1674,
          1521,
          1081,
          1779,
          1779,
          1923,
          1709,
          2182,
          2032,
          2032,
          2061,
          2221,
          2593,
          4477,
          4479,
          3589,
          3195,
          4265,
          4604,
          4605,
          3645,
          3981,
          4116,
          6462,
          6462,
          8391,
          4777,
          6849,
          11000,
          7501,
          6787,
          8303,
          8474,
          10763,
          9613,
          10127,
          7409,
          8492,
          11621,
          11620,
          11259,
          8261,
          8321,
          12603,
          12603,
          11213,
          12681,
          11756,
          16591,
          11193,
          17896,
          13595,
          16901,
          20381,
          19482,
          17623,
          20659,
          19127,
          16091,
          20504,
          20929,
          13545,
          19227,
          18777
         ],
         "yaxis": "y"
        },
        {
         "hovertemplate": "model=dd_slg<br>problem=%{x}<br>expanded=%{y}<extra></extra>",
         "legendgroup": "dd_slg",
         "marker": {
          "color": "#EF553B",
          "symbol": "circle"
         },
         "mode": "markers",
         "name": "dd_slg",
         "orientation": "v",
         "showlegend": true,
         "type": "scatter",
         "x": [
          0,
          1,
          2,
          3,
          4,
          5,
          6,
          7,
          8,
          9,
          10,
          11,
          12,
          13,
          14,
          15,
          16,
          17,
          18,
          19,
          20,
          21,
          22,
          23,
          24,
          25,
          26,
          27,
          28,
          29,
          30,
          31,
          32,
          33,
          34,
          35,
          36,
          37,
          38,
          39,
          40,
          41,
          42,
          43,
          44,
          45,
          46,
          47,
          48,
          49,
          50,
          51,
          52,
          53,
          54,
          55,
          56,
          57,
          58,
          59,
          60,
          61,
          62,
          63,
          64,
          65,
          66,
          67,
          68,
          69,
          72,
          73,
          74,
          75,
          76,
          77,
          78,
          79,
          81,
          82,
          84
         ],
         "xaxis": "x",
         "y": [
          151,
          151,
          182,
          175,
          240,
          353,
          353,
          253,
          526,
          476,
          597,
          597,
          726,
          1135,
          559,
          1690,
          1690,
          1794,
          744,
          1120,
          1779,
          1779,
          2358,
          1733,
          2592,
          2791,
          2791,
          2585,
          1875,
          2489,
          4255,
          4255,
          3795,
          3567,
          3130,
          5053,
          5053,
          5460,
          4348,
          4102,
          4848,
          4848,
          5515,
          5744,
          6395,
          6220,
          6219,
          5316,
          6914,
          7805,
          8356,
          8351,
          6970,
          10921,
          6368,
          8957,
          8931,
          11776,
          10330,
          11290,
          13185,
          13184,
          14983,
          17635,
          11557,
          18148,
          13579,
          14780,
          16822,
          12865,
          16310,
          15583,
          22259,
          22908,
          20105,
          20026,
          18229,
          25046,
          18171,
          17503,
          20370
         ],
         "yaxis": "y"
        },
        {
         "hovertemplate": "model=dd_llg<br>problem=%{x}<br>expanded=%{y}<extra></extra>",
         "legendgroup": "dd_llg",
         "marker": {
          "color": "#00cc96",
          "symbol": "circle"
         },
         "mode": "markers",
         "name": "dd_llg",
         "orientation": "v",
         "showlegend": true,
         "type": "scatter",
         "x": [
          0,
          1,
          2,
          3,
          4,
          5,
          6,
          7,
          8,
          9,
          10,
          11,
          12,
          13,
          14,
          15,
          16,
          17,
          18,
          19
         ],
         "xaxis": "x",
         "y": [
          391,
          391,
          421,
          333,
          384,
          11024,
          11024,
          4322,
          7303,
          6626,
          25467,
          25467,
          24099,
          17049,
          26718,
          57981,
          57981,
          62426,
          68939,
          67405
         ],
         "yaxis": "y"
        }
       ],
       "layout": {
        "legend": {
         "title": {
          "text": "model"
         },
         "tracegroupgap": 0
        },
        "template": {
         "data": {
          "bar": [
           {
            "error_x": {
             "color": "#2a3f5f"
            },
            "error_y": {
             "color": "#2a3f5f"
            },
            "marker": {
             "line": {
              "color": "#E5ECF6",
              "width": 0.5
             },
             "pattern": {
              "fillmode": "overlay",
              "size": 10,
              "solidity": 0.2
             }
            },
            "type": "bar"
           }
          ],
          "barpolar": [
           {
            "marker": {
             "line": {
              "color": "#E5ECF6",
              "width": 0.5
             },
             "pattern": {
              "fillmode": "overlay",
              "size": 10,
              "solidity": 0.2
             }
            },
            "type": "barpolar"
           }
          ],
          "carpet": [
           {
            "aaxis": {
             "endlinecolor": "#2a3f5f",
             "gridcolor": "white",
             "linecolor": "white",
             "minorgridcolor": "white",
             "startlinecolor": "#2a3f5f"
            },
            "baxis": {
             "endlinecolor": "#2a3f5f",
             "gridcolor": "white",
             "linecolor": "white",
             "minorgridcolor": "white",
             "startlinecolor": "#2a3f5f"
            },
            "type": "carpet"
           }
          ],
          "choropleth": [
           {
            "colorbar": {
             "outlinewidth": 0,
             "ticks": ""
            },
            "type": "choropleth"
           }
          ],
          "contour": [
           {
            "colorbar": {
             "outlinewidth": 0,
             "ticks": ""
            },
            "colorscale": [
             [
              0,
              "#0d0887"
             ],
             [
              0.1111111111111111,
              "#46039f"
             ],
             [
              0.2222222222222222,
              "#7201a8"
             ],
             [
              0.3333333333333333,
              "#9c179e"
             ],
             [
              0.4444444444444444,
              "#bd3786"
             ],
             [
              0.5555555555555556,
              "#d8576b"
             ],
             [
              0.6666666666666666,
              "#ed7953"
             ],
             [
              0.7777777777777778,
              "#fb9f3a"
             ],
             [
              0.8888888888888888,
              "#fdca26"
             ],
             [
              1,
              "#f0f921"
             ]
            ],
            "type": "contour"
           }
          ],
          "contourcarpet": [
           {
            "colorbar": {
             "outlinewidth": 0,
             "ticks": ""
            },
            "type": "contourcarpet"
           }
          ],
          "heatmap": [
           {
            "colorbar": {
             "outlinewidth": 0,
             "ticks": ""
            },
            "colorscale": [
             [
              0,
              "#0d0887"
             ],
             [
              0.1111111111111111,
              "#46039f"
             ],
             [
              0.2222222222222222,
              "#7201a8"
             ],
             [
              0.3333333333333333,
              "#9c179e"
             ],
             [
              0.4444444444444444,
              "#bd3786"
             ],
             [
              0.5555555555555556,
              "#d8576b"
             ],
             [
              0.6666666666666666,
              "#ed7953"
             ],
             [
              0.7777777777777778,
              "#fb9f3a"
             ],
             [
              0.8888888888888888,
              "#fdca26"
             ],
             [
              1,
              "#f0f921"
             ]
            ],
            "type": "heatmap"
           }
          ],
          "heatmapgl": [
           {
            "colorbar": {
             "outlinewidth": 0,
             "ticks": ""
            },
            "colorscale": [
             [
              0,
              "#0d0887"
             ],
             [
              0.1111111111111111,
              "#46039f"
             ],
             [
              0.2222222222222222,
              "#7201a8"
             ],
             [
              0.3333333333333333,
              "#9c179e"
             ],
             [
              0.4444444444444444,
              "#bd3786"
             ],
             [
              0.5555555555555556,
              "#d8576b"
             ],
             [
              0.6666666666666666,
              "#ed7953"
             ],
             [
              0.7777777777777778,
              "#fb9f3a"
             ],
             [
              0.8888888888888888,
              "#fdca26"
             ],
             [
              1,
              "#f0f921"
             ]
            ],
            "type": "heatmapgl"
           }
          ],
          "histogram": [
           {
            "marker": {
             "pattern": {
              "fillmode": "overlay",
              "size": 10,
              "solidity": 0.2
             }
            },
            "type": "histogram"
           }
          ],
          "histogram2d": [
           {
            "colorbar": {
             "outlinewidth": 0,
             "ticks": ""
            },
            "colorscale": [
             [
              0,
              "#0d0887"
             ],
             [
              0.1111111111111111,
              "#46039f"
             ],
             [
              0.2222222222222222,
              "#7201a8"
             ],
             [
              0.3333333333333333,
              "#9c179e"
             ],
             [
              0.4444444444444444,
              "#bd3786"
             ],
             [
              0.5555555555555556,
              "#d8576b"
             ],
             [
              0.6666666666666666,
              "#ed7953"
             ],
             [
              0.7777777777777778,
              "#fb9f3a"
             ],
             [
              0.8888888888888888,
              "#fdca26"
             ],
             [
              1,
              "#f0f921"
             ]
            ],
            "type": "histogram2d"
           }
          ],
          "histogram2dcontour": [
           {
            "colorbar": {
             "outlinewidth": 0,
             "ticks": ""
            },
            "colorscale": [
             [
              0,
              "#0d0887"
             ],
             [
              0.1111111111111111,
              "#46039f"
             ],
             [
              0.2222222222222222,
              "#7201a8"
             ],
             [
              0.3333333333333333,
              "#9c179e"
             ],
             [
              0.4444444444444444,
              "#bd3786"
             ],
             [
              0.5555555555555556,
              "#d8576b"
             ],
             [
              0.6666666666666666,
              "#ed7953"
             ],
             [
              0.7777777777777778,
              "#fb9f3a"
             ],
             [
              0.8888888888888888,
              "#fdca26"
             ],
             [
              1,
              "#f0f921"
             ]
            ],
            "type": "histogram2dcontour"
           }
          ],
          "mesh3d": [
           {
            "colorbar": {
             "outlinewidth": 0,
             "ticks": ""
            },
            "type": "mesh3d"
           }
          ],
          "parcoords": [
           {
            "line": {
             "colorbar": {
              "outlinewidth": 0,
              "ticks": ""
             }
            },
            "type": "parcoords"
           }
          ],
          "pie": [
           {
            "automargin": true,
            "type": "pie"
           }
          ],
          "scatter": [
           {
            "fillpattern": {
             "fillmode": "overlay",
             "size": 10,
             "solidity": 0.2
            },
            "type": "scatter"
           }
          ],
          "scatter3d": [
           {
            "line": {
             "colorbar": {
              "outlinewidth": 0,
              "ticks": ""
             }
            },
            "marker": {
             "colorbar": {
              "outlinewidth": 0,
              "ticks": ""
             }
            },
            "type": "scatter3d"
           }
          ],
          "scattercarpet": [
           {
            "marker": {
             "colorbar": {
              "outlinewidth": 0,
              "ticks": ""
             }
            },
            "type": "scattercarpet"
           }
          ],
          "scattergeo": [
           {
            "marker": {
             "colorbar": {
              "outlinewidth": 0,
              "ticks": ""
             }
            },
            "type": "scattergeo"
           }
          ],
          "scattergl": [
           {
            "marker": {
             "colorbar": {
              "outlinewidth": 0,
              "ticks": ""
             }
            },
            "type": "scattergl"
           }
          ],
          "scattermapbox": [
           {
            "marker": {
             "colorbar": {
              "outlinewidth": 0,
              "ticks": ""
             }
            },
            "type": "scattermapbox"
           }
          ],
          "scatterpolar": [
           {
            "marker": {
             "colorbar": {
              "outlinewidth": 0,
              "ticks": ""
             }
            },
            "type": "scatterpolar"
           }
          ],
          "scatterpolargl": [
           {
            "marker": {
             "colorbar": {
              "outlinewidth": 0,
              "ticks": ""
             }
            },
            "type": "scatterpolargl"
           }
          ],
          "scatterternary": [
           {
            "marker": {
             "colorbar": {
              "outlinewidth": 0,
              "ticks": ""
             }
            },
            "type": "scatterternary"
           }
          ],
          "surface": [
           {
            "colorbar": {
             "outlinewidth": 0,
             "ticks": ""
            },
            "colorscale": [
             [
              0,
              "#0d0887"
             ],
             [
              0.1111111111111111,
              "#46039f"
             ],
             [
              0.2222222222222222,
              "#7201a8"
             ],
             [
              0.3333333333333333,
              "#9c179e"
             ],
             [
              0.4444444444444444,
              "#bd3786"
             ],
             [
              0.5555555555555556,
              "#d8576b"
             ],
             [
              0.6666666666666666,
              "#ed7953"
             ],
             [
              0.7777777777777778,
              "#fb9f3a"
             ],
             [
              0.8888888888888888,
              "#fdca26"
             ],
             [
              1,
              "#f0f921"
             ]
            ],
            "type": "surface"
           }
          ],
          "table": [
           {
            "cells": {
             "fill": {
              "color": "#EBF0F8"
             },
             "line": {
              "color": "white"
             }
            },
            "header": {
             "fill": {
              "color": "#C8D4E3"
             },
             "line": {
              "color": "white"
             }
            },
            "type": "table"
           }
          ]
         },
         "layout": {
          "annotationdefaults": {
           "arrowcolor": "#2a3f5f",
           "arrowhead": 0,
           "arrowwidth": 1
          },
          "autotypenumbers": "strict",
          "coloraxis": {
           "colorbar": {
            "outlinewidth": 0,
            "ticks": ""
           }
          },
          "colorscale": {
           "diverging": [
            [
             0,
             "#8e0152"
            ],
            [
             0.1,
             "#c51b7d"
            ],
            [
             0.2,
             "#de77ae"
            ],
            [
             0.3,
             "#f1b6da"
            ],
            [
             0.4,
             "#fde0ef"
            ],
            [
             0.5,
             "#f7f7f7"
            ],
            [
             0.6,
             "#e6f5d0"
            ],
            [
             0.7,
             "#b8e186"
            ],
            [
             0.8,
             "#7fbc41"
            ],
            [
             0.9,
             "#4d9221"
            ],
            [
             1,
             "#276419"
            ]
           ],
           "sequential": [
            [
             0,
             "#0d0887"
            ],
            [
             0.1111111111111111,
             "#46039f"
            ],
            [
             0.2222222222222222,
             "#7201a8"
            ],
            [
             0.3333333333333333,
             "#9c179e"
            ],
            [
             0.4444444444444444,
             "#bd3786"
            ],
            [
             0.5555555555555556,
             "#d8576b"
            ],
            [
             0.6666666666666666,
             "#ed7953"
            ],
            [
             0.7777777777777778,
             "#fb9f3a"
            ],
            [
             0.8888888888888888,
             "#fdca26"
            ],
            [
             1,
             "#f0f921"
            ]
           ],
           "sequentialminus": [
            [
             0,
             "#0d0887"
            ],
            [
             0.1111111111111111,
             "#46039f"
            ],
            [
             0.2222222222222222,
             "#7201a8"
            ],
            [
             0.3333333333333333,
             "#9c179e"
            ],
            [
             0.4444444444444444,
             "#bd3786"
            ],
            [
             0.5555555555555556,
             "#d8576b"
            ],
            [
             0.6666666666666666,
             "#ed7953"
            ],
            [
             0.7777777777777778,
             "#fb9f3a"
            ],
            [
             0.8888888888888888,
             "#fdca26"
            ],
            [
             1,
             "#f0f921"
            ]
           ]
          },
          "colorway": [
           "#636efa",
           "#EF553B",
           "#00cc96",
           "#ab63fa",
           "#FFA15A",
           "#19d3f3",
           "#FF6692",
           "#B6E880",
           "#FF97FF",
           "#FECB52"
          ],
          "font": {
           "color": "#2a3f5f"
          },
          "geo": {
           "bgcolor": "white",
           "lakecolor": "white",
           "landcolor": "#E5ECF6",
           "showlakes": true,
           "showland": true,
           "subunitcolor": "white"
          },
          "hoverlabel": {
           "align": "left"
          },
          "hovermode": "closest",
          "mapbox": {
           "style": "light"
          },
          "paper_bgcolor": "white",
          "plot_bgcolor": "#E5ECF6",
          "polar": {
           "angularaxis": {
            "gridcolor": "white",
            "linecolor": "white",
            "ticks": ""
           },
           "bgcolor": "#E5ECF6",
           "radialaxis": {
            "gridcolor": "white",
            "linecolor": "white",
            "ticks": ""
           }
          },
          "scene": {
           "xaxis": {
            "backgroundcolor": "#E5ECF6",
            "gridcolor": "white",
            "gridwidth": 2,
            "linecolor": "white",
            "showbackground": true,
            "ticks": "",
            "zerolinecolor": "white"
           },
           "yaxis": {
            "backgroundcolor": "#E5ECF6",
            "gridcolor": "white",
            "gridwidth": 2,
            "linecolor": "white",
            "showbackground": true,
            "ticks": "",
            "zerolinecolor": "white"
           },
           "zaxis": {
            "backgroundcolor": "#E5ECF6",
            "gridcolor": "white",
            "gridwidth": 2,
            "linecolor": "white",
            "showbackground": true,
            "ticks": "",
            "zerolinecolor": "white"
           }
          },
          "shapedefaults": {
           "line": {
            "color": "#2a3f5f"
           }
          },
          "ternary": {
           "aaxis": {
            "gridcolor": "white",
            "linecolor": "white",
            "ticks": ""
           },
           "baxis": {
            "gridcolor": "white",
            "linecolor": "white",
            "ticks": ""
           },
           "bgcolor": "#E5ECF6",
           "caxis": {
            "gridcolor": "white",
            "linecolor": "white",
            "ticks": ""
           }
          },
          "title": {
           "x": 0.05
          },
          "xaxis": {
           "automargin": true,
           "gridcolor": "white",
           "linecolor": "white",
           "ticks": "",
           "title": {
            "standoff": 15
           },
           "zerolinecolor": "white",
           "zerolinewidth": 2
          },
          "yaxis": {
           "automargin": true,
           "gridcolor": "white",
           "linecolor": "white",
           "ticks": "",
           "title": {
            "standoff": 15
           },
           "zerolinecolor": "white",
           "zerolinewidth": 2
          }
         }
        },
        "title": {
         "text": "visitsome"
        },
        "xaxis": {
         "anchor": "y",
         "domain": [
          0,
          1
         ],
         "title": {
          "text": "problem"
         }
        },
        "yaxis": {
         "anchor": "x",
         "domain": [
          0,
          1
         ],
         "title": {
          "text": "expanded"
         },
         "type": "log"
        }
       }
      }
     },
     "metadata": {},
     "output_type": "display_data"
    }
   ],
   "source": [
    "df = get_selected_param_df()\n",
    "df = df[df[\"solved\"] == 1]\n",
    "for domain in DOMAINS:\n",
    "    domain_df = df[df[\"domain\"] == domain]\n",
    "    fig = px.scatter(domain_df, x=\"problem\", y=\"expanded\", color=\"model\", log_y=True, title=domain)\n",
    "    fig.show()"
   ]
  },
  {
   "cell_type": "code",
   "execution_count": null,
   "metadata": {},
   "outputs": [],
   "source": []
  },
  {
   "cell_type": "code",
   "execution_count": null,
   "metadata": {},
   "outputs": [],
   "source": []
  }
 ],
 "metadata": {
  "kernelspec": {
   "display_name": "goose",
   "language": "python",
   "name": "python3"
  },
  "language_info": {
   "codemirror_mode": {
    "name": "ipython",
    "version": 3
   },
   "file_extension": ".py",
   "mimetype": "text/x-python",
   "name": "python",
   "nbconvert_exporter": "python",
   "pygments_lexer": "ipython3",
   "version": "3.11.5"
  }
 },
 "nbformat": 4,
 "nbformat_minor": 2
}

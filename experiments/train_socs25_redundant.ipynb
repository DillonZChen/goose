{
 "cells": [
  {
   "cell_type": "code",
   "execution_count": 1,
   "metadata": {},
   "outputs": [],
   "source": [
    "from data.helper import *"
   ]
  },
  {
   "cell_type": "code",
   "execution_count": 2,
   "metadata": {},
   "outputs": [
    {
     "name": "stderr",
     "output_type": "stream",
     "text": [
      "100%|██████████| 240/240 [00:00<00:00, 3614.82it/s]\n"
     ]
    }
   ],
   "source": [
    "DF = get_train_df()"
   ]
  },
  {
   "cell_type": "code",
   "execution_count": 3,
   "metadata": {},
   "outputs": [],
   "source": [
    "COLUMNS = [\n",
    "    # \"data_pruning\",\n",
    "    # \"facts\",\n",
    "    \"optimiser\",\n",
    "    \"features\",\n",
    "    \"iterations\",\n",
    "    \"feature_pruning\",\n",
    "]\n",
    "\n",
    "def get_df():\n",
    "    df = DF.copy()\n",
    "    df = df[df.facts == \"fd\"]\n",
    "    # df = df[df.features == \"wl\"]\n",
    "    df = df[df.feature_pruning != \"collapse-all\"]\n",
    "    df = df[df.data_pruning == \"equivalent-weighted\"]\n",
    "    # df = df[df.completed]\n",
    "    return df"
   ]
  },
  {
   "cell_type": "code",
   "execution_count": 4,
   "metadata": {},
   "outputs": [],
   "source": [
    "N_DATA_RANK = [7547, 4118, 13259, 27820, 19199, 21020, 65277, 4310, 2499, 14984]\n",
    "N_DATA_COST = [1247, 240, 1286, 2111, 1254, 1420, 1150, 2085, 820, 724]"
   ]
  },
  {
   "cell_type": "code",
   "execution_count": 7,
   "metadata": {},
   "outputs": [
    {
     "data": {
      "application/vnd.plotly.v1+json": {
       "config": {
        "plotlyServerURL": "https://plot.ly"
       },
       "data": [
        {
         "alignmentgroup": "True",
         "hovertemplate": "feature_pruning=none<br>domain=%{x}<br>n_colours=%{y}<extra></extra>",
         "legendgroup": "none",
         "marker": {
          "color": "#636efa",
          "pattern": {
           "shape": ""
          }
         },
         "name": "none",
         "offsetgroup": "none",
         "orientation": "v",
         "showlegend": true,
         "textposition": "auto",
         "type": "bar",
         "x": [
          "Blocksworld",
          "Childsnack",
          "Ferry",
          "Floortile",
          "Miconic",
          "Rovers",
          "Satellite",
          "Sokoban",
          "Spanner",
          "Transport"
         ],
         "xaxis": "x",
         "y": [
          10445,
          255,
          3232,
          7620,
          112,
          23206,
          22159,
          114,
          354,
          3791
         ],
         "yaxis": "y"
        },
        {
         "alignmentgroup": "True",
         "hovertemplate": "feature_pruning=collapse-all-x<br>domain=%{x}<br>n_colours=%{y}<extra></extra>",
         "legendgroup": "collapse-all-x",
         "marker": {
          "color": "#EF553B",
          "pattern": {
           "shape": ""
          }
         },
         "name": "collapse-all-x",
         "offsetgroup": "collapse-all-x",
         "orientation": "v",
         "showlegend": true,
         "textposition": "auto",
         "type": "bar",
         "x": [
          "Blocksworld",
          "Childsnack",
          "Ferry",
          "Floortile",
          "Miconic",
          "Rovers",
          "Satellite",
          "Sokoban",
          "Spanner",
          "Transport"
         ],
         "xaxis": "x",
         "y": [
          2685,
          85,
          1215,
          4385,
          20,
          3794,
          4339,
          22,
          144,
          1821
         ],
         "yaxis": "y"
        },
        {
         "alignmentgroup": "True",
         "hovertemplate": "feature_pruning=collapse-layer-x<br>domain=%{x}<br>n_colours=%{y}<extra></extra>",
         "legendgroup": "collapse-layer-x",
         "marker": {
          "color": "#00cc96",
          "pattern": {
           "shape": ""
          }
         },
         "name": "collapse-layer-x",
         "offsetgroup": "collapse-layer-x",
         "orientation": "v",
         "showlegend": true,
         "textposition": "auto",
         "type": "bar",
         "x": [
          "Blocksworld",
          "Childsnack",
          "Ferry",
          "Floortile",
          "Miconic",
          "Rovers",
          "Satellite",
          "Sokoban",
          "Spanner",
          "Transport"
         ],
         "xaxis": "x",
         "y": [
          41,
          24,
          73,
          258,
          14,
          279,
          213,
          15,
          21,
          60
         ],
         "yaxis": "y"
        },
        {
         "alignmentgroup": "True",
         "hovertemplate": "feature_pruning=collapse-layer-y<br>domain=%{x}<br>n_colours=%{y}<extra></extra>",
         "legendgroup": "collapse-layer-y",
         "marker": {
          "color": "#ab63fa",
          "pattern": {
           "shape": ""
          }
         },
         "name": "collapse-layer-y",
         "offsetgroup": "collapse-layer-y",
         "orientation": "v",
         "showlegend": true,
         "textposition": "auto",
         "type": "bar",
         "x": [
          "Blocksworld",
          "Childsnack",
          "Ferry",
          "Floortile",
          "Miconic",
          "Rovers",
          "Satellite",
          "Sokoban",
          "Spanner",
          "Transport"
         ],
         "xaxis": "x",
         "y": [
          41,
          23,
          73,
          258,
          14,
          279,
          213,
          15,
          20,
          60
         ],
         "yaxis": "y"
        },
        {
         "alignmentgroup": "True",
         "hovertemplate": "feature_pruning=collapse-layer-f<br>domain=%{x}<br>n_colours=%{y}<extra></extra>",
         "legendgroup": "collapse-layer-f",
         "marker": {
          "color": "#FFA15A",
          "pattern": {
           "shape": ""
          }
         },
         "name": "collapse-layer-f",
         "offsetgroup": "collapse-layer-f",
         "orientation": "v",
         "showlegend": true,
         "textposition": "auto",
         "type": "bar",
         "x": [
          "Blocksworld",
          "Childsnack",
          "Ferry",
          "Floortile",
          "Miconic",
          "Rovers",
          "Satellite",
          "Sokoban",
          "Spanner",
          "Transport"
         ],
         "xaxis": "x",
         "y": [
          1318,
          228,
          944,
          1365,
          99,
          1188,
          1513,
          114,
          303,
          1182
         ],
         "yaxis": "y"
        },
        {
         "alignmentgroup": "True",
         "hovertemplate": "feature_pruning=collapse-layer-yf<br>domain=%{x}<br>n_colours=%{y}<extra></extra>",
         "legendgroup": "collapse-layer-yf",
         "marker": {
          "color": "#19d3f3",
          "pattern": {
           "shape": ""
          }
         },
         "name": "collapse-layer-yf",
         "offsetgroup": "collapse-layer-yf",
         "orientation": "v",
         "showlegend": true,
         "textposition": "auto",
         "type": "bar",
         "x": [
          "Blocksworld",
          "Childsnack",
          "Ferry",
          "Floortile",
          "Miconic",
          "Rovers",
          "Satellite",
          "Sokoban",
          "Spanner",
          "Transport"
         ],
         "xaxis": "x",
         "y": [
          40,
          23,
          51,
          79,
          13,
          136,
          124,
          15,
          19,
          45
         ],
         "yaxis": "y"
        }
       ],
       "layout": {
        "barmode": "group",
        "height": 300,
        "legend": {
         "title": {
          "text": "feature_pruning"
         },
         "tracegroupgap": 0
        },
        "margin": {
         "t": 60
        },
        "paper_bgcolor": "white",
        "plot_bgcolor": "white",
        "template": {
         "data": {
          "bar": [
           {
            "error_x": {
             "color": "#2a3f5f"
            },
            "error_y": {
             "color": "#2a3f5f"
            },
            "marker": {
             "line": {
              "color": "#E5ECF6",
              "width": 0.5
             },
             "pattern": {
              "fillmode": "overlay",
              "size": 10,
              "solidity": 0.2
             }
            },
            "type": "bar"
           }
          ],
          "barpolar": [
           {
            "marker": {
             "line": {
              "color": "#E5ECF6",
              "width": 0.5
             },
             "pattern": {
              "fillmode": "overlay",
              "size": 10,
              "solidity": 0.2
             }
            },
            "type": "barpolar"
           }
          ],
          "carpet": [
           {
            "aaxis": {
             "endlinecolor": "#2a3f5f",
             "gridcolor": "white",
             "linecolor": "white",
             "minorgridcolor": "white",
             "startlinecolor": "#2a3f5f"
            },
            "baxis": {
             "endlinecolor": "#2a3f5f",
             "gridcolor": "white",
             "linecolor": "white",
             "minorgridcolor": "white",
             "startlinecolor": "#2a3f5f"
            },
            "type": "carpet"
           }
          ],
          "choropleth": [
           {
            "colorbar": {
             "outlinewidth": 0,
             "ticks": ""
            },
            "type": "choropleth"
           }
          ],
          "contour": [
           {
            "colorbar": {
             "outlinewidth": 0,
             "ticks": ""
            },
            "colorscale": [
             [
              0,
              "#0d0887"
             ],
             [
              0.1111111111111111,
              "#46039f"
             ],
             [
              0.2222222222222222,
              "#7201a8"
             ],
             [
              0.3333333333333333,
              "#9c179e"
             ],
             [
              0.4444444444444444,
              "#bd3786"
             ],
             [
              0.5555555555555556,
              "#d8576b"
             ],
             [
              0.6666666666666666,
              "#ed7953"
             ],
             [
              0.7777777777777778,
              "#fb9f3a"
             ],
             [
              0.8888888888888888,
              "#fdca26"
             ],
             [
              1,
              "#f0f921"
             ]
            ],
            "type": "contour"
           }
          ],
          "contourcarpet": [
           {
            "colorbar": {
             "outlinewidth": 0,
             "ticks": ""
            },
            "type": "contourcarpet"
           }
          ],
          "heatmap": [
           {
            "colorbar": {
             "outlinewidth": 0,
             "ticks": ""
            },
            "colorscale": [
             [
              0,
              "#0d0887"
             ],
             [
              0.1111111111111111,
              "#46039f"
             ],
             [
              0.2222222222222222,
              "#7201a8"
             ],
             [
              0.3333333333333333,
              "#9c179e"
             ],
             [
              0.4444444444444444,
              "#bd3786"
             ],
             [
              0.5555555555555556,
              "#d8576b"
             ],
             [
              0.6666666666666666,
              "#ed7953"
             ],
             [
              0.7777777777777778,
              "#fb9f3a"
             ],
             [
              0.8888888888888888,
              "#fdca26"
             ],
             [
              1,
              "#f0f921"
             ]
            ],
            "type": "heatmap"
           }
          ],
          "heatmapgl": [
           {
            "colorbar": {
             "outlinewidth": 0,
             "ticks": ""
            },
            "colorscale": [
             [
              0,
              "#0d0887"
             ],
             [
              0.1111111111111111,
              "#46039f"
             ],
             [
              0.2222222222222222,
              "#7201a8"
             ],
             [
              0.3333333333333333,
              "#9c179e"
             ],
             [
              0.4444444444444444,
              "#bd3786"
             ],
             [
              0.5555555555555556,
              "#d8576b"
             ],
             [
              0.6666666666666666,
              "#ed7953"
             ],
             [
              0.7777777777777778,
              "#fb9f3a"
             ],
             [
              0.8888888888888888,
              "#fdca26"
             ],
             [
              1,
              "#f0f921"
             ]
            ],
            "type": "heatmapgl"
           }
          ],
          "histogram": [
           {
            "marker": {
             "pattern": {
              "fillmode": "overlay",
              "size": 10,
              "solidity": 0.2
             }
            },
            "type": "histogram"
           }
          ],
          "histogram2d": [
           {
            "colorbar": {
             "outlinewidth": 0,
             "ticks": ""
            },
            "colorscale": [
             [
              0,
              "#0d0887"
             ],
             [
              0.1111111111111111,
              "#46039f"
             ],
             [
              0.2222222222222222,
              "#7201a8"
             ],
             [
              0.3333333333333333,
              "#9c179e"
             ],
             [
              0.4444444444444444,
              "#bd3786"
             ],
             [
              0.5555555555555556,
              "#d8576b"
             ],
             [
              0.6666666666666666,
              "#ed7953"
             ],
             [
              0.7777777777777778,
              "#fb9f3a"
             ],
             [
              0.8888888888888888,
              "#fdca26"
             ],
             [
              1,
              "#f0f921"
             ]
            ],
            "type": "histogram2d"
           }
          ],
          "histogram2dcontour": [
           {
            "colorbar": {
             "outlinewidth": 0,
             "ticks": ""
            },
            "colorscale": [
             [
              0,
              "#0d0887"
             ],
             [
              0.1111111111111111,
              "#46039f"
             ],
             [
              0.2222222222222222,
              "#7201a8"
             ],
             [
              0.3333333333333333,
              "#9c179e"
             ],
             [
              0.4444444444444444,
              "#bd3786"
             ],
             [
              0.5555555555555556,
              "#d8576b"
             ],
             [
              0.6666666666666666,
              "#ed7953"
             ],
             [
              0.7777777777777778,
              "#fb9f3a"
             ],
             [
              0.8888888888888888,
              "#fdca26"
             ],
             [
              1,
              "#f0f921"
             ]
            ],
            "type": "histogram2dcontour"
           }
          ],
          "mesh3d": [
           {
            "colorbar": {
             "outlinewidth": 0,
             "ticks": ""
            },
            "type": "mesh3d"
           }
          ],
          "parcoords": [
           {
            "line": {
             "colorbar": {
              "outlinewidth": 0,
              "ticks": ""
             }
            },
            "type": "parcoords"
           }
          ],
          "pie": [
           {
            "automargin": true,
            "type": "pie"
           }
          ],
          "scatter": [
           {
            "fillpattern": {
             "fillmode": "overlay",
             "size": 10,
             "solidity": 0.2
            },
            "type": "scatter"
           }
          ],
          "scatter3d": [
           {
            "line": {
             "colorbar": {
              "outlinewidth": 0,
              "ticks": ""
             }
            },
            "marker": {
             "colorbar": {
              "outlinewidth": 0,
              "ticks": ""
             }
            },
            "type": "scatter3d"
           }
          ],
          "scattercarpet": [
           {
            "marker": {
             "colorbar": {
              "outlinewidth": 0,
              "ticks": ""
             }
            },
            "type": "scattercarpet"
           }
          ],
          "scattergeo": [
           {
            "marker": {
             "colorbar": {
              "outlinewidth": 0,
              "ticks": ""
             }
            },
            "type": "scattergeo"
           }
          ],
          "scattergl": [
           {
            "marker": {
             "colorbar": {
              "outlinewidth": 0,
              "ticks": ""
             }
            },
            "type": "scattergl"
           }
          ],
          "scattermapbox": [
           {
            "marker": {
             "colorbar": {
              "outlinewidth": 0,
              "ticks": ""
             }
            },
            "type": "scattermapbox"
           }
          ],
          "scatterpolar": [
           {
            "marker": {
             "colorbar": {
              "outlinewidth": 0,
              "ticks": ""
             }
            },
            "type": "scatterpolar"
           }
          ],
          "scatterpolargl": [
           {
            "marker": {
             "colorbar": {
              "outlinewidth": 0,
              "ticks": ""
             }
            },
            "type": "scatterpolargl"
           }
          ],
          "scatterternary": [
           {
            "marker": {
             "colorbar": {
              "outlinewidth": 0,
              "ticks": ""
             }
            },
            "type": "scatterternary"
           }
          ],
          "surface": [
           {
            "colorbar": {
             "outlinewidth": 0,
             "ticks": ""
            },
            "colorscale": [
             [
              0,
              "#0d0887"
             ],
             [
              0.1111111111111111,
              "#46039f"
             ],
             [
              0.2222222222222222,
              "#7201a8"
             ],
             [
              0.3333333333333333,
              "#9c179e"
             ],
             [
              0.4444444444444444,
              "#bd3786"
             ],
             [
              0.5555555555555556,
              "#d8576b"
             ],
             [
              0.6666666666666666,
              "#ed7953"
             ],
             [
              0.7777777777777778,
              "#fb9f3a"
             ],
             [
              0.8888888888888888,
              "#fdca26"
             ],
             [
              1,
              "#f0f921"
             ]
            ],
            "type": "surface"
           }
          ],
          "table": [
           {
            "cells": {
             "fill": {
              "color": "#EBF0F8"
             },
             "line": {
              "color": "white"
             }
            },
            "header": {
             "fill": {
              "color": "#C8D4E3"
             },
             "line": {
              "color": "white"
             }
            },
            "type": "table"
           }
          ]
         },
         "layout": {
          "annotationdefaults": {
           "arrowcolor": "#2a3f5f",
           "arrowhead": 0,
           "arrowwidth": 1
          },
          "autotypenumbers": "strict",
          "coloraxis": {
           "colorbar": {
            "outlinewidth": 0,
            "ticks": ""
           }
          },
          "colorscale": {
           "diverging": [
            [
             0,
             "#8e0152"
            ],
            [
             0.1,
             "#c51b7d"
            ],
            [
             0.2,
             "#de77ae"
            ],
            [
             0.3,
             "#f1b6da"
            ],
            [
             0.4,
             "#fde0ef"
            ],
            [
             0.5,
             "#f7f7f7"
            ],
            [
             0.6,
             "#e6f5d0"
            ],
            [
             0.7,
             "#b8e186"
            ],
            [
             0.8,
             "#7fbc41"
            ],
            [
             0.9,
             "#4d9221"
            ],
            [
             1,
             "#276419"
            ]
           ],
           "sequential": [
            [
             0,
             "#0d0887"
            ],
            [
             0.1111111111111111,
             "#46039f"
            ],
            [
             0.2222222222222222,
             "#7201a8"
            ],
            [
             0.3333333333333333,
             "#9c179e"
            ],
            [
             0.4444444444444444,
             "#bd3786"
            ],
            [
             0.5555555555555556,
             "#d8576b"
            ],
            [
             0.6666666666666666,
             "#ed7953"
            ],
            [
             0.7777777777777778,
             "#fb9f3a"
            ],
            [
             0.8888888888888888,
             "#fdca26"
            ],
            [
             1,
             "#f0f921"
            ]
           ],
           "sequentialminus": [
            [
             0,
             "#0d0887"
            ],
            [
             0.1111111111111111,
             "#46039f"
            ],
            [
             0.2222222222222222,
             "#7201a8"
            ],
            [
             0.3333333333333333,
             "#9c179e"
            ],
            [
             0.4444444444444444,
             "#bd3786"
            ],
            [
             0.5555555555555556,
             "#d8576b"
            ],
            [
             0.6666666666666666,
             "#ed7953"
            ],
            [
             0.7777777777777778,
             "#fb9f3a"
            ],
            [
             0.8888888888888888,
             "#fdca26"
            ],
            [
             1,
             "#f0f921"
            ]
           ]
          },
          "colorway": [
           "#636efa",
           "#EF553B",
           "#00cc96",
           "#ab63fa",
           "#FFA15A",
           "#19d3f3",
           "#FF6692",
           "#B6E880",
           "#FF97FF",
           "#FECB52"
          ],
          "font": {
           "color": "#2a3f5f"
          },
          "geo": {
           "bgcolor": "white",
           "lakecolor": "white",
           "landcolor": "#E5ECF6",
           "showlakes": true,
           "showland": true,
           "subunitcolor": "white"
          },
          "hoverlabel": {
           "align": "left"
          },
          "hovermode": "closest",
          "mapbox": {
           "style": "light"
          },
          "paper_bgcolor": "white",
          "plot_bgcolor": "#E5ECF6",
          "polar": {
           "angularaxis": {
            "gridcolor": "white",
            "linecolor": "white",
            "ticks": ""
           },
           "bgcolor": "#E5ECF6",
           "radialaxis": {
            "gridcolor": "white",
            "linecolor": "white",
            "ticks": ""
           }
          },
          "scene": {
           "xaxis": {
            "backgroundcolor": "#E5ECF6",
            "gridcolor": "white",
            "gridwidth": 2,
            "linecolor": "white",
            "showbackground": true,
            "ticks": "",
            "zerolinecolor": "white"
           },
           "yaxis": {
            "backgroundcolor": "#E5ECF6",
            "gridcolor": "white",
            "gridwidth": 2,
            "linecolor": "white",
            "showbackground": true,
            "ticks": "",
            "zerolinecolor": "white"
           },
           "zaxis": {
            "backgroundcolor": "#E5ECF6",
            "gridcolor": "white",
            "gridwidth": 2,
            "linecolor": "white",
            "showbackground": true,
            "ticks": "",
            "zerolinecolor": "white"
           }
          },
          "shapedefaults": {
           "line": {
            "color": "#2a3f5f"
           }
          },
          "ternary": {
           "aaxis": {
            "gridcolor": "white",
            "linecolor": "white",
            "ticks": ""
           },
           "baxis": {
            "gridcolor": "white",
            "linecolor": "white",
            "ticks": ""
           },
           "bgcolor": "#E5ECF6",
           "caxis": {
            "gridcolor": "white",
            "linecolor": "white",
            "ticks": ""
           }
          },
          "title": {
           "x": 0.05
          },
          "xaxis": {
           "automargin": true,
           "gridcolor": "white",
           "linecolor": "white",
           "ticks": "",
           "title": {
            "standoff": 15
           },
           "zerolinecolor": "white",
           "zerolinewidth": 2
          },
          "yaxis": {
           "automargin": true,
           "gridcolor": "white",
           "linecolor": "white",
           "ticks": "",
           "title": {
            "standoff": 15
           },
           "zerolinecolor": "white",
           "zerolinewidth": 2
          }
         }
        },
        "width": 400,
        "xaxis": {
         "anchor": "y",
         "domain": [
          0,
          1
         ],
         "title": {
          "text": ""
         }
        },
        "yaxis": {
         "anchor": "x",
         "domain": [
          0,
          1
         ],
         "gridcolor": "lightgray",
         "gridwidth": 1,
         "showgrid": true,
         "title": {
          "text": ""
         },
         "type": "log"
        }
       }
      }
     },
     "metadata": {},
     "output_type": "display_data"
    },
    {
     "data": {
      "application/vnd.plotly.v1+json": {
       "config": {
        "plotlyServerURL": "https://plot.ly"
       },
       "data": [
        {
         "alignmentgroup": "True",
         "hovertemplate": "feature_pruning=none<br>domain=%{x}<br>n_colours=%{y}<extra></extra>",
         "legendgroup": "none",
         "marker": {
          "color": "#636efa",
          "pattern": {
           "shape": ""
          }
         },
         "name": "none",
         "offsetgroup": "none",
         "orientation": "v",
         "showlegend": true,
         "textposition": "auto",
         "type": "bar",
         "x": [
          "Blocksworld",
          "Childsnack",
          "Ferry",
          "Floortile",
          "Miconic",
          "Rovers",
          "Satellite",
          "Sokoban",
          "Spanner",
          "Transport"
         ],
         "xaxis": "x",
         "y": [
          10445,
          255,
          3232,
          7620,
          112,
          23206,
          22159,
          114,
          354,
          3791
         ],
         "yaxis": "y"
        },
        {
         "alignmentgroup": "True",
         "hovertemplate": "feature_pruning=collapse-all-x<br>domain=%{x}<br>n_colours=%{y}<extra></extra>",
         "legendgroup": "collapse-all-x",
         "marker": {
          "color": "#EF553B",
          "pattern": {
           "shape": ""
          }
         },
         "name": "collapse-all-x",
         "offsetgroup": "collapse-all-x",
         "orientation": "v",
         "showlegend": true,
         "textposition": "auto",
         "type": "bar",
         "x": [
          "Blocksworld",
          "Childsnack",
          "Ferry",
          "Floortile",
          "Miconic",
          "Rovers",
          "Satellite",
          "Sokoban",
          "Spanner",
          "Transport"
         ],
         "xaxis": "x",
         "y": [
          2685,
          85,
          1215,
          4385,
          20,
          3794,
          4339,
          22,
          144,
          1821
         ],
         "yaxis": "y"
        },
        {
         "alignmentgroup": "True",
         "hovertemplate": "feature_pruning=collapse-layer-x<br>domain=%{x}<br>n_colours=%{y}<extra></extra>",
         "legendgroup": "collapse-layer-x",
         "marker": {
          "color": "#00cc96",
          "pattern": {
           "shape": ""
          }
         },
         "name": "collapse-layer-x",
         "offsetgroup": "collapse-layer-x",
         "orientation": "v",
         "showlegend": true,
         "textposition": "auto",
         "type": "bar",
         "x": [
          "Blocksworld",
          "Childsnack",
          "Ferry",
          "Floortile",
          "Miconic",
          "Rovers",
          "Satellite",
          "Sokoban",
          "Spanner",
          "Transport"
         ],
         "xaxis": "x",
         "y": [
          41,
          24,
          73,
          258,
          14,
          279,
          213,
          15,
          21,
          60
         ],
         "yaxis": "y"
        },
        {
         "alignmentgroup": "True",
         "hovertemplate": "feature_pruning=collapse-layer-y<br>domain=%{x}<br>n_colours=%{y}<extra></extra>",
         "legendgroup": "collapse-layer-y",
         "marker": {
          "color": "#ab63fa",
          "pattern": {
           "shape": ""
          }
         },
         "name": "collapse-layer-y",
         "offsetgroup": "collapse-layer-y",
         "orientation": "v",
         "showlegend": true,
         "textposition": "auto",
         "type": "bar",
         "x": [
          "Blocksworld",
          "Childsnack",
          "Ferry",
          "Floortile",
          "Miconic",
          "Rovers",
          "Satellite",
          "Sokoban",
          "Spanner",
          "Transport"
         ],
         "xaxis": "x",
         "y": [
          41,
          23,
          73,
          258,
          14,
          279,
          213,
          15,
          20,
          60
         ],
         "yaxis": "y"
        },
        {
         "alignmentgroup": "True",
         "hovertemplate": "feature_pruning=collapse-layer-f<br>domain=%{x}<br>n_colours=%{y}<extra></extra>",
         "legendgroup": "collapse-layer-f",
         "marker": {
          "color": "#FFA15A",
          "pattern": {
           "shape": ""
          }
         },
         "name": "collapse-layer-f",
         "offsetgroup": "collapse-layer-f",
         "orientation": "v",
         "showlegend": true,
         "textposition": "auto",
         "type": "bar",
         "x": [
          "Blocksworld",
          "Childsnack",
          "Ferry",
          "Floortile",
          "Miconic",
          "Rovers",
          "Satellite",
          "Sokoban",
          "Spanner",
          "Transport"
         ],
         "xaxis": "x",
         "y": [
          1318,
          228,
          944,
          1365,
          99,
          1188,
          1513,
          114,
          303,
          1182
         ],
         "yaxis": "y"
        },
        {
         "alignmentgroup": "True",
         "hovertemplate": "feature_pruning=collapse-layer-yf<br>domain=%{x}<br>n_colours=%{y}<extra></extra>",
         "legendgroup": "collapse-layer-yf",
         "marker": {
          "color": "#19d3f3",
          "pattern": {
           "shape": ""
          }
         },
         "name": "collapse-layer-yf",
         "offsetgroup": "collapse-layer-yf",
         "orientation": "v",
         "showlegend": true,
         "textposition": "auto",
         "type": "bar",
         "x": [
          "Blocksworld",
          "Childsnack",
          "Ferry",
          "Floortile",
          "Miconic",
          "Rovers",
          "Satellite",
          "Sokoban",
          "Spanner",
          "Transport"
         ],
         "xaxis": "x",
         "y": [
          40,
          23,
          51,
          79,
          13,
          136,
          124,
          15,
          19,
          45
         ],
         "yaxis": "y"
        }
       ],
       "layout": {
        "barmode": "group",
        "font": {
         "size": 20
        },
        "height": 300,
        "legend": {
         "title": {
          "text": "feature_pruning"
         },
         "tracegroupgap": 0
        },
        "margin": {
         "b": 0,
         "l": 0,
         "pad": 0,
         "r": 0,
         "t": 0
        },
        "paper_bgcolor": "white",
        "plot_bgcolor": "white",
        "showlegend": false,
        "template": {
         "data": {
          "bar": [
           {
            "error_x": {
             "color": "#2a3f5f"
            },
            "error_y": {
             "color": "#2a3f5f"
            },
            "marker": {
             "line": {
              "color": "#E5ECF6",
              "width": 0.5
             },
             "pattern": {
              "fillmode": "overlay",
              "size": 10,
              "solidity": 0.2
             }
            },
            "type": "bar"
           }
          ],
          "barpolar": [
           {
            "marker": {
             "line": {
              "color": "#E5ECF6",
              "width": 0.5
             },
             "pattern": {
              "fillmode": "overlay",
              "size": 10,
              "solidity": 0.2
             }
            },
            "type": "barpolar"
           }
          ],
          "carpet": [
           {
            "aaxis": {
             "endlinecolor": "#2a3f5f",
             "gridcolor": "white",
             "linecolor": "white",
             "minorgridcolor": "white",
             "startlinecolor": "#2a3f5f"
            },
            "baxis": {
             "endlinecolor": "#2a3f5f",
             "gridcolor": "white",
             "linecolor": "white",
             "minorgridcolor": "white",
             "startlinecolor": "#2a3f5f"
            },
            "type": "carpet"
           }
          ],
          "choropleth": [
           {
            "colorbar": {
             "outlinewidth": 0,
             "ticks": ""
            },
            "type": "choropleth"
           }
          ],
          "contour": [
           {
            "colorbar": {
             "outlinewidth": 0,
             "ticks": ""
            },
            "colorscale": [
             [
              0,
              "#0d0887"
             ],
             [
              0.1111111111111111,
              "#46039f"
             ],
             [
              0.2222222222222222,
              "#7201a8"
             ],
             [
              0.3333333333333333,
              "#9c179e"
             ],
             [
              0.4444444444444444,
              "#bd3786"
             ],
             [
              0.5555555555555556,
              "#d8576b"
             ],
             [
              0.6666666666666666,
              "#ed7953"
             ],
             [
              0.7777777777777778,
              "#fb9f3a"
             ],
             [
              0.8888888888888888,
              "#fdca26"
             ],
             [
              1,
              "#f0f921"
             ]
            ],
            "type": "contour"
           }
          ],
          "contourcarpet": [
           {
            "colorbar": {
             "outlinewidth": 0,
             "ticks": ""
            },
            "type": "contourcarpet"
           }
          ],
          "heatmap": [
           {
            "colorbar": {
             "outlinewidth": 0,
             "ticks": ""
            },
            "colorscale": [
             [
              0,
              "#0d0887"
             ],
             [
              0.1111111111111111,
              "#46039f"
             ],
             [
              0.2222222222222222,
              "#7201a8"
             ],
             [
              0.3333333333333333,
              "#9c179e"
             ],
             [
              0.4444444444444444,
              "#bd3786"
             ],
             [
              0.5555555555555556,
              "#d8576b"
             ],
             [
              0.6666666666666666,
              "#ed7953"
             ],
             [
              0.7777777777777778,
              "#fb9f3a"
             ],
             [
              0.8888888888888888,
              "#fdca26"
             ],
             [
              1,
              "#f0f921"
             ]
            ],
            "type": "heatmap"
           }
          ],
          "heatmapgl": [
           {
            "colorbar": {
             "outlinewidth": 0,
             "ticks": ""
            },
            "colorscale": [
             [
              0,
              "#0d0887"
             ],
             [
              0.1111111111111111,
              "#46039f"
             ],
             [
              0.2222222222222222,
              "#7201a8"
             ],
             [
              0.3333333333333333,
              "#9c179e"
             ],
             [
              0.4444444444444444,
              "#bd3786"
             ],
             [
              0.5555555555555556,
              "#d8576b"
             ],
             [
              0.6666666666666666,
              "#ed7953"
             ],
             [
              0.7777777777777778,
              "#fb9f3a"
             ],
             [
              0.8888888888888888,
              "#fdca26"
             ],
             [
              1,
              "#f0f921"
             ]
            ],
            "type": "heatmapgl"
           }
          ],
          "histogram": [
           {
            "marker": {
             "pattern": {
              "fillmode": "overlay",
              "size": 10,
              "solidity": 0.2
             }
            },
            "type": "histogram"
           }
          ],
          "histogram2d": [
           {
            "colorbar": {
             "outlinewidth": 0,
             "ticks": ""
            },
            "colorscale": [
             [
              0,
              "#0d0887"
             ],
             [
              0.1111111111111111,
              "#46039f"
             ],
             [
              0.2222222222222222,
              "#7201a8"
             ],
             [
              0.3333333333333333,
              "#9c179e"
             ],
             [
              0.4444444444444444,
              "#bd3786"
             ],
             [
              0.5555555555555556,
              "#d8576b"
             ],
             [
              0.6666666666666666,
              "#ed7953"
             ],
             [
              0.7777777777777778,
              "#fb9f3a"
             ],
             [
              0.8888888888888888,
              "#fdca26"
             ],
             [
              1,
              "#f0f921"
             ]
            ],
            "type": "histogram2d"
           }
          ],
          "histogram2dcontour": [
           {
            "colorbar": {
             "outlinewidth": 0,
             "ticks": ""
            },
            "colorscale": [
             [
              0,
              "#0d0887"
             ],
             [
              0.1111111111111111,
              "#46039f"
             ],
             [
              0.2222222222222222,
              "#7201a8"
             ],
             [
              0.3333333333333333,
              "#9c179e"
             ],
             [
              0.4444444444444444,
              "#bd3786"
             ],
             [
              0.5555555555555556,
              "#d8576b"
             ],
             [
              0.6666666666666666,
              "#ed7953"
             ],
             [
              0.7777777777777778,
              "#fb9f3a"
             ],
             [
              0.8888888888888888,
              "#fdca26"
             ],
             [
              1,
              "#f0f921"
             ]
            ],
            "type": "histogram2dcontour"
           }
          ],
          "mesh3d": [
           {
            "colorbar": {
             "outlinewidth": 0,
             "ticks": ""
            },
            "type": "mesh3d"
           }
          ],
          "parcoords": [
           {
            "line": {
             "colorbar": {
              "outlinewidth": 0,
              "ticks": ""
             }
            },
            "type": "parcoords"
           }
          ],
          "pie": [
           {
            "automargin": true,
            "type": "pie"
           }
          ],
          "scatter": [
           {
            "fillpattern": {
             "fillmode": "overlay",
             "size": 10,
             "solidity": 0.2
            },
            "type": "scatter"
           }
          ],
          "scatter3d": [
           {
            "line": {
             "colorbar": {
              "outlinewidth": 0,
              "ticks": ""
             }
            },
            "marker": {
             "colorbar": {
              "outlinewidth": 0,
              "ticks": ""
             }
            },
            "type": "scatter3d"
           }
          ],
          "scattercarpet": [
           {
            "marker": {
             "colorbar": {
              "outlinewidth": 0,
              "ticks": ""
             }
            },
            "type": "scattercarpet"
           }
          ],
          "scattergeo": [
           {
            "marker": {
             "colorbar": {
              "outlinewidth": 0,
              "ticks": ""
             }
            },
            "type": "scattergeo"
           }
          ],
          "scattergl": [
           {
            "marker": {
             "colorbar": {
              "outlinewidth": 0,
              "ticks": ""
             }
            },
            "type": "scattergl"
           }
          ],
          "scattermapbox": [
           {
            "marker": {
             "colorbar": {
              "outlinewidth": 0,
              "ticks": ""
             }
            },
            "type": "scattermapbox"
           }
          ],
          "scatterpolar": [
           {
            "marker": {
             "colorbar": {
              "outlinewidth": 0,
              "ticks": ""
             }
            },
            "type": "scatterpolar"
           }
          ],
          "scatterpolargl": [
           {
            "marker": {
             "colorbar": {
              "outlinewidth": 0,
              "ticks": ""
             }
            },
            "type": "scatterpolargl"
           }
          ],
          "scatterternary": [
           {
            "marker": {
             "colorbar": {
              "outlinewidth": 0,
              "ticks": ""
             }
            },
            "type": "scatterternary"
           }
          ],
          "surface": [
           {
            "colorbar": {
             "outlinewidth": 0,
             "ticks": ""
            },
            "colorscale": [
             [
              0,
              "#0d0887"
             ],
             [
              0.1111111111111111,
              "#46039f"
             ],
             [
              0.2222222222222222,
              "#7201a8"
             ],
             [
              0.3333333333333333,
              "#9c179e"
             ],
             [
              0.4444444444444444,
              "#bd3786"
             ],
             [
              0.5555555555555556,
              "#d8576b"
             ],
             [
              0.6666666666666666,
              "#ed7953"
             ],
             [
              0.7777777777777778,
              "#fb9f3a"
             ],
             [
              0.8888888888888888,
              "#fdca26"
             ],
             [
              1,
              "#f0f921"
             ]
            ],
            "type": "surface"
           }
          ],
          "table": [
           {
            "cells": {
             "fill": {
              "color": "#EBF0F8"
             },
             "line": {
              "color": "white"
             }
            },
            "header": {
             "fill": {
              "color": "#C8D4E3"
             },
             "line": {
              "color": "white"
             }
            },
            "type": "table"
           }
          ]
         },
         "layout": {
          "annotationdefaults": {
           "arrowcolor": "#2a3f5f",
           "arrowhead": 0,
           "arrowwidth": 1
          },
          "autotypenumbers": "strict",
          "coloraxis": {
           "colorbar": {
            "outlinewidth": 0,
            "ticks": ""
           }
          },
          "colorscale": {
           "diverging": [
            [
             0,
             "#8e0152"
            ],
            [
             0.1,
             "#c51b7d"
            ],
            [
             0.2,
             "#de77ae"
            ],
            [
             0.3,
             "#f1b6da"
            ],
            [
             0.4,
             "#fde0ef"
            ],
            [
             0.5,
             "#f7f7f7"
            ],
            [
             0.6,
             "#e6f5d0"
            ],
            [
             0.7,
             "#b8e186"
            ],
            [
             0.8,
             "#7fbc41"
            ],
            [
             0.9,
             "#4d9221"
            ],
            [
             1,
             "#276419"
            ]
           ],
           "sequential": [
            [
             0,
             "#0d0887"
            ],
            [
             0.1111111111111111,
             "#46039f"
            ],
            [
             0.2222222222222222,
             "#7201a8"
            ],
            [
             0.3333333333333333,
             "#9c179e"
            ],
            [
             0.4444444444444444,
             "#bd3786"
            ],
            [
             0.5555555555555556,
             "#d8576b"
            ],
            [
             0.6666666666666666,
             "#ed7953"
            ],
            [
             0.7777777777777778,
             "#fb9f3a"
            ],
            [
             0.8888888888888888,
             "#fdca26"
            ],
            [
             1,
             "#f0f921"
            ]
           ],
           "sequentialminus": [
            [
             0,
             "#0d0887"
            ],
            [
             0.1111111111111111,
             "#46039f"
            ],
            [
             0.2222222222222222,
             "#7201a8"
            ],
            [
             0.3333333333333333,
             "#9c179e"
            ],
            [
             0.4444444444444444,
             "#bd3786"
            ],
            [
             0.5555555555555556,
             "#d8576b"
            ],
            [
             0.6666666666666666,
             "#ed7953"
            ],
            [
             0.7777777777777778,
             "#fb9f3a"
            ],
            [
             0.8888888888888888,
             "#fdca26"
            ],
            [
             1,
             "#f0f921"
            ]
           ]
          },
          "colorway": [
           "#636efa",
           "#EF553B",
           "#00cc96",
           "#ab63fa",
           "#FFA15A",
           "#19d3f3",
           "#FF6692",
           "#B6E880",
           "#FF97FF",
           "#FECB52"
          ],
          "font": {
           "color": "#2a3f5f"
          },
          "geo": {
           "bgcolor": "white",
           "lakecolor": "white",
           "landcolor": "#E5ECF6",
           "showlakes": true,
           "showland": true,
           "subunitcolor": "white"
          },
          "hoverlabel": {
           "align": "left"
          },
          "hovermode": "closest",
          "mapbox": {
           "style": "light"
          },
          "paper_bgcolor": "white",
          "plot_bgcolor": "#E5ECF6",
          "polar": {
           "angularaxis": {
            "gridcolor": "white",
            "linecolor": "white",
            "ticks": ""
           },
           "bgcolor": "#E5ECF6",
           "radialaxis": {
            "gridcolor": "white",
            "linecolor": "white",
            "ticks": ""
           }
          },
          "scene": {
           "xaxis": {
            "backgroundcolor": "#E5ECF6",
            "gridcolor": "white",
            "gridwidth": 2,
            "linecolor": "white",
            "showbackground": true,
            "ticks": "",
            "zerolinecolor": "white"
           },
           "yaxis": {
            "backgroundcolor": "#E5ECF6",
            "gridcolor": "white",
            "gridwidth": 2,
            "linecolor": "white",
            "showbackground": true,
            "ticks": "",
            "zerolinecolor": "white"
           },
           "zaxis": {
            "backgroundcolor": "#E5ECF6",
            "gridcolor": "white",
            "gridwidth": 2,
            "linecolor": "white",
            "showbackground": true,
            "ticks": "",
            "zerolinecolor": "white"
           }
          },
          "shapedefaults": {
           "line": {
            "color": "#2a3f5f"
           }
          },
          "ternary": {
           "aaxis": {
            "gridcolor": "white",
            "linecolor": "white",
            "ticks": ""
           },
           "baxis": {
            "gridcolor": "white",
            "linecolor": "white",
            "ticks": ""
           },
           "bgcolor": "#E5ECF6",
           "caxis": {
            "gridcolor": "white",
            "linecolor": "white",
            "ticks": ""
           }
          },
          "title": {
           "x": 0.05
          },
          "xaxis": {
           "automargin": true,
           "gridcolor": "white",
           "linecolor": "white",
           "ticks": "",
           "title": {
            "standoff": 15
           },
           "zerolinecolor": "white",
           "zerolinewidth": 2
          },
          "yaxis": {
           "automargin": true,
           "gridcolor": "white",
           "linecolor": "white",
           "ticks": "",
           "title": {
            "standoff": 15
           },
           "zerolinecolor": "white",
           "zerolinewidth": 2
          }
         }
        },
        "width": 400,
        "xaxis": {
         "anchor": "y",
         "domain": [
          0,
          1
         ],
         "ticktext": [
          "Bl",
          "Bl",
          "Bl",
          "Bl",
          "Bl",
          "Bl",
          "Ch",
          "Ch",
          "Ch",
          "Ch",
          "Ch",
          "Ch",
          "Fe",
          "Fe",
          "Fe",
          "Fe",
          "Fe",
          "Fe",
          "Fl",
          "Fl",
          "Fl",
          "Fl",
          "Fl",
          "Fl",
          "Mi",
          "Mi",
          "Mi",
          "Mi",
          "Mi",
          "Mi",
          "Ro",
          "Ro",
          "Ro",
          "Ro",
          "Ro",
          "Ro",
          "Sa",
          "Sa",
          "Sa",
          "Sa",
          "Sa",
          "Sa",
          "So",
          "So",
          "So",
          "So",
          "So",
          "So",
          "Sp",
          "Sp",
          "Sp",
          "Sp",
          "Sp",
          "Sp",
          "Tr",
          "Tr",
          "Tr",
          "Tr",
          "Tr",
          "Tr"
         ],
         "tickvals": [
          "Blocksworld",
          "Blocksworld",
          "Blocksworld",
          "Blocksworld",
          "Blocksworld",
          "Blocksworld",
          "Childsnack",
          "Childsnack",
          "Childsnack",
          "Childsnack",
          "Childsnack",
          "Childsnack",
          "Ferry",
          "Ferry",
          "Ferry",
          "Ferry",
          "Ferry",
          "Ferry",
          "Floortile",
          "Floortile",
          "Floortile",
          "Floortile",
          "Floortile",
          "Floortile",
          "Miconic",
          "Miconic",
          "Miconic",
          "Miconic",
          "Miconic",
          "Miconic",
          "Rovers",
          "Rovers",
          "Rovers",
          "Rovers",
          "Rovers",
          "Rovers",
          "Satellite",
          "Satellite",
          "Satellite",
          "Satellite",
          "Satellite",
          "Satellite",
          "Sokoban",
          "Sokoban",
          "Sokoban",
          "Sokoban",
          "Sokoban",
          "Sokoban",
          "Spanner",
          "Spanner",
          "Spanner",
          "Spanner",
          "Spanner",
          "Spanner",
          "Transport",
          "Transport",
          "Transport",
          "Transport",
          "Transport",
          "Transport"
         ],
         "title": {
          "text": ""
         }
        },
        "yaxis": {
         "anchor": "x",
         "domain": [
          0,
          1
         ],
         "gridcolor": "lightgray",
         "gridwidth": 1,
         "showgrid": true,
         "title": {
          "text": ""
         },
         "type": "log"
        }
       }
      }
     },
     "metadata": {},
     "output_type": "display_data"
    },
    {
     "data": {
      "application/vnd.plotly.v1+json": {
       "config": {
        "plotlyServerURL": "https://plot.ly"
       },
       "data": [
        {
         "alignmentgroup": "True",
         "hovertemplate": "feature_pruning=none<br>domain=%{x}<br>n_colours=%{y}<extra></extra>",
         "legendgroup": "none",
         "marker": {
          "color": "#636efa",
          "pattern": {
           "shape": ""
          }
         },
         "name": "none",
         "offsetgroup": "none",
         "orientation": "v",
         "showlegend": true,
         "textposition": "auto",
         "type": "bar",
         "x": [
          "Blocksworld",
          "Childsnack",
          "Ferry",
          "Floortile",
          "Miconic",
          "Rovers",
          "Satellite",
          "Sokoban",
          "Spanner",
          "Transport"
         ],
         "xaxis": "x",
         "y": [
          22836,
          263,
          4398,
          19828,
          112,
          -1,
          -1,
          118,
          378,
          8936
         ],
         "yaxis": "y"
        },
        {
         "alignmentgroup": "True",
         "hovertemplate": "feature_pruning=collapse-all-x<br>domain=%{x}<br>n_colours=%{y}<extra></extra>",
         "legendgroup": "collapse-all-x",
         "marker": {
          "color": "#EF553B",
          "pattern": {
           "shape": ""
          }
         },
         "name": "collapse-all-x",
         "offsetgroup": "collapse-all-x",
         "orientation": "v",
         "showlegend": true,
         "textposition": "auto",
         "type": "bar",
         "x": [
          "Blocksworld",
          "Childsnack",
          "Ferry",
          "Floortile",
          "Miconic",
          "Rovers",
          "Satellite",
          "Sokoban",
          "Spanner",
          "Transport"
         ],
         "xaxis": "x",
         "y": [
          8870,
          95,
          1902,
          10716,
          20,
          15060,
          -1,
          27,
          159,
          5542
         ],
         "yaxis": "y"
        },
        {
         "alignmentgroup": "True",
         "hovertemplate": "feature_pruning=collapse-layer-x<br>domain=%{x}<br>n_colours=%{y}<extra></extra>",
         "legendgroup": "collapse-layer-x",
         "marker": {
          "color": "#00cc96",
          "pattern": {
           "shape": ""
          }
         },
         "name": "collapse-layer-x",
         "offsetgroup": "collapse-layer-x",
         "orientation": "v",
         "showlegend": true,
         "textposition": "auto",
         "type": "bar",
         "x": [
          "Blocksworld",
          "Childsnack",
          "Ferry",
          "Floortile",
          "Miconic",
          "Rovers",
          "Satellite",
          "Sokoban",
          "Spanner",
          "Transport"
         ],
         "xaxis": "x",
         "y": [
          41,
          24,
          79,
          428,
          14,
          363,
          292,
          15,
          21,
          78
         ],
         "yaxis": "y"
        },
        {
         "alignmentgroup": "True",
         "hovertemplate": "feature_pruning=collapse-layer-y<br>domain=%{x}<br>n_colours=%{y}<extra></extra>",
         "legendgroup": "collapse-layer-y",
         "marker": {
          "color": "#ab63fa",
          "pattern": {
           "shape": ""
          }
         },
         "name": "collapse-layer-y",
         "offsetgroup": "collapse-layer-y",
         "orientation": "v",
         "showlegend": true,
         "textposition": "auto",
         "type": "bar",
         "x": [
          "Blocksworld",
          "Childsnack",
          "Ferry",
          "Floortile",
          "Miconic",
          "Rovers",
          "Satellite",
          "Sokoban",
          "Spanner",
          "Transport"
         ],
         "xaxis": "x",
         "y": [
          41,
          23,
          79,
          428,
          14,
          363,
          292,
          15,
          20,
          78
         ],
         "yaxis": "y"
        },
        {
         "alignmentgroup": "True",
         "hovertemplate": "feature_pruning=collapse-layer-f<br>domain=%{x}<br>n_colours=%{y}<extra></extra>",
         "legendgroup": "collapse-layer-f",
         "marker": {
          "color": "#FFA15A",
          "pattern": {
           "shape": ""
          }
         },
         "name": "collapse-layer-f",
         "offsetgroup": "collapse-layer-f",
         "orientation": "v",
         "showlegend": true,
         "textposition": "auto",
         "type": "bar",
         "x": [
          "Blocksworld",
          "Childsnack",
          "Ferry",
          "Floortile",
          "Miconic",
          "Rovers",
          "Satellite",
          "Sokoban",
          "Spanner",
          "Transport"
         ],
         "xaxis": "x",
         "y": [
          1294,
          223,
          972,
          1288,
          99,
          1327,
          1690,
          114,
          286,
          1194
         ],
         "yaxis": "y"
        },
        {
         "alignmentgroup": "True",
         "hovertemplate": "feature_pruning=collapse-layer-yf<br>domain=%{x}<br>n_colours=%{y}<extra></extra>",
         "legendgroup": "collapse-layer-yf",
         "marker": {
          "color": "#19d3f3",
          "pattern": {
           "shape": ""
          }
         },
         "name": "collapse-layer-yf",
         "offsetgroup": "collapse-layer-yf",
         "orientation": "v",
         "showlegend": true,
         "textposition": "auto",
         "type": "bar",
         "x": [
          "Blocksworld",
          "Childsnack",
          "Ferry",
          "Floortile",
          "Miconic",
          "Rovers",
          "Satellite",
          "Sokoban",
          "Spanner",
          "Transport"
         ],
         "xaxis": "x",
         "y": [
          41,
          23,
          50,
          83,
          13,
          143,
          138,
          15,
          19,
          44
         ],
         "yaxis": "y"
        }
       ],
       "layout": {
        "barmode": "group",
        "height": 300,
        "legend": {
         "title": {
          "text": "feature_pruning"
         },
         "tracegroupgap": 0
        },
        "margin": {
         "t": 60
        },
        "paper_bgcolor": "white",
        "plot_bgcolor": "white",
        "template": {
         "data": {
          "bar": [
           {
            "error_x": {
             "color": "#2a3f5f"
            },
            "error_y": {
             "color": "#2a3f5f"
            },
            "marker": {
             "line": {
              "color": "#E5ECF6",
              "width": 0.5
             },
             "pattern": {
              "fillmode": "overlay",
              "size": 10,
              "solidity": 0.2
             }
            },
            "type": "bar"
           }
          ],
          "barpolar": [
           {
            "marker": {
             "line": {
              "color": "#E5ECF6",
              "width": 0.5
             },
             "pattern": {
              "fillmode": "overlay",
              "size": 10,
              "solidity": 0.2
             }
            },
            "type": "barpolar"
           }
          ],
          "carpet": [
           {
            "aaxis": {
             "endlinecolor": "#2a3f5f",
             "gridcolor": "white",
             "linecolor": "white",
             "minorgridcolor": "white",
             "startlinecolor": "#2a3f5f"
            },
            "baxis": {
             "endlinecolor": "#2a3f5f",
             "gridcolor": "white",
             "linecolor": "white",
             "minorgridcolor": "white",
             "startlinecolor": "#2a3f5f"
            },
            "type": "carpet"
           }
          ],
          "choropleth": [
           {
            "colorbar": {
             "outlinewidth": 0,
             "ticks": ""
            },
            "type": "choropleth"
           }
          ],
          "contour": [
           {
            "colorbar": {
             "outlinewidth": 0,
             "ticks": ""
            },
            "colorscale": [
             [
              0,
              "#0d0887"
             ],
             [
              0.1111111111111111,
              "#46039f"
             ],
             [
              0.2222222222222222,
              "#7201a8"
             ],
             [
              0.3333333333333333,
              "#9c179e"
             ],
             [
              0.4444444444444444,
              "#bd3786"
             ],
             [
              0.5555555555555556,
              "#d8576b"
             ],
             [
              0.6666666666666666,
              "#ed7953"
             ],
             [
              0.7777777777777778,
              "#fb9f3a"
             ],
             [
              0.8888888888888888,
              "#fdca26"
             ],
             [
              1,
              "#f0f921"
             ]
            ],
            "type": "contour"
           }
          ],
          "contourcarpet": [
           {
            "colorbar": {
             "outlinewidth": 0,
             "ticks": ""
            },
            "type": "contourcarpet"
           }
          ],
          "heatmap": [
           {
            "colorbar": {
             "outlinewidth": 0,
             "ticks": ""
            },
            "colorscale": [
             [
              0,
              "#0d0887"
             ],
             [
              0.1111111111111111,
              "#46039f"
             ],
             [
              0.2222222222222222,
              "#7201a8"
             ],
             [
              0.3333333333333333,
              "#9c179e"
             ],
             [
              0.4444444444444444,
              "#bd3786"
             ],
             [
              0.5555555555555556,
              "#d8576b"
             ],
             [
              0.6666666666666666,
              "#ed7953"
             ],
             [
              0.7777777777777778,
              "#fb9f3a"
             ],
             [
              0.8888888888888888,
              "#fdca26"
             ],
             [
              1,
              "#f0f921"
             ]
            ],
            "type": "heatmap"
           }
          ],
          "heatmapgl": [
           {
            "colorbar": {
             "outlinewidth": 0,
             "ticks": ""
            },
            "colorscale": [
             [
              0,
              "#0d0887"
             ],
             [
              0.1111111111111111,
              "#46039f"
             ],
             [
              0.2222222222222222,
              "#7201a8"
             ],
             [
              0.3333333333333333,
              "#9c179e"
             ],
             [
              0.4444444444444444,
              "#bd3786"
             ],
             [
              0.5555555555555556,
              "#d8576b"
             ],
             [
              0.6666666666666666,
              "#ed7953"
             ],
             [
              0.7777777777777778,
              "#fb9f3a"
             ],
             [
              0.8888888888888888,
              "#fdca26"
             ],
             [
              1,
              "#f0f921"
             ]
            ],
            "type": "heatmapgl"
           }
          ],
          "histogram": [
           {
            "marker": {
             "pattern": {
              "fillmode": "overlay",
              "size": 10,
              "solidity": 0.2
             }
            },
            "type": "histogram"
           }
          ],
          "histogram2d": [
           {
            "colorbar": {
             "outlinewidth": 0,
             "ticks": ""
            },
            "colorscale": [
             [
              0,
              "#0d0887"
             ],
             [
              0.1111111111111111,
              "#46039f"
             ],
             [
              0.2222222222222222,
              "#7201a8"
             ],
             [
              0.3333333333333333,
              "#9c179e"
             ],
             [
              0.4444444444444444,
              "#bd3786"
             ],
             [
              0.5555555555555556,
              "#d8576b"
             ],
             [
              0.6666666666666666,
              "#ed7953"
             ],
             [
              0.7777777777777778,
              "#fb9f3a"
             ],
             [
              0.8888888888888888,
              "#fdca26"
             ],
             [
              1,
              "#f0f921"
             ]
            ],
            "type": "histogram2d"
           }
          ],
          "histogram2dcontour": [
           {
            "colorbar": {
             "outlinewidth": 0,
             "ticks": ""
            },
            "colorscale": [
             [
              0,
              "#0d0887"
             ],
             [
              0.1111111111111111,
              "#46039f"
             ],
             [
              0.2222222222222222,
              "#7201a8"
             ],
             [
              0.3333333333333333,
              "#9c179e"
             ],
             [
              0.4444444444444444,
              "#bd3786"
             ],
             [
              0.5555555555555556,
              "#d8576b"
             ],
             [
              0.6666666666666666,
              "#ed7953"
             ],
             [
              0.7777777777777778,
              "#fb9f3a"
             ],
             [
              0.8888888888888888,
              "#fdca26"
             ],
             [
              1,
              "#f0f921"
             ]
            ],
            "type": "histogram2dcontour"
           }
          ],
          "mesh3d": [
           {
            "colorbar": {
             "outlinewidth": 0,
             "ticks": ""
            },
            "type": "mesh3d"
           }
          ],
          "parcoords": [
           {
            "line": {
             "colorbar": {
              "outlinewidth": 0,
              "ticks": ""
             }
            },
            "type": "parcoords"
           }
          ],
          "pie": [
           {
            "automargin": true,
            "type": "pie"
           }
          ],
          "scatter": [
           {
            "fillpattern": {
             "fillmode": "overlay",
             "size": 10,
             "solidity": 0.2
            },
            "type": "scatter"
           }
          ],
          "scatter3d": [
           {
            "line": {
             "colorbar": {
              "outlinewidth": 0,
              "ticks": ""
             }
            },
            "marker": {
             "colorbar": {
              "outlinewidth": 0,
              "ticks": ""
             }
            },
            "type": "scatter3d"
           }
          ],
          "scattercarpet": [
           {
            "marker": {
             "colorbar": {
              "outlinewidth": 0,
              "ticks": ""
             }
            },
            "type": "scattercarpet"
           }
          ],
          "scattergeo": [
           {
            "marker": {
             "colorbar": {
              "outlinewidth": 0,
              "ticks": ""
             }
            },
            "type": "scattergeo"
           }
          ],
          "scattergl": [
           {
            "marker": {
             "colorbar": {
              "outlinewidth": 0,
              "ticks": ""
             }
            },
            "type": "scattergl"
           }
          ],
          "scattermapbox": [
           {
            "marker": {
             "colorbar": {
              "outlinewidth": 0,
              "ticks": ""
             }
            },
            "type": "scattermapbox"
           }
          ],
          "scatterpolar": [
           {
            "marker": {
             "colorbar": {
              "outlinewidth": 0,
              "ticks": ""
             }
            },
            "type": "scatterpolar"
           }
          ],
          "scatterpolargl": [
           {
            "marker": {
             "colorbar": {
              "outlinewidth": 0,
              "ticks": ""
             }
            },
            "type": "scatterpolargl"
           }
          ],
          "scatterternary": [
           {
            "marker": {
             "colorbar": {
              "outlinewidth": 0,
              "ticks": ""
             }
            },
            "type": "scatterternary"
           }
          ],
          "surface": [
           {
            "colorbar": {
             "outlinewidth": 0,
             "ticks": ""
            },
            "colorscale": [
             [
              0,
              "#0d0887"
             ],
             [
              0.1111111111111111,
              "#46039f"
             ],
             [
              0.2222222222222222,
              "#7201a8"
             ],
             [
              0.3333333333333333,
              "#9c179e"
             ],
             [
              0.4444444444444444,
              "#bd3786"
             ],
             [
              0.5555555555555556,
              "#d8576b"
             ],
             [
              0.6666666666666666,
              "#ed7953"
             ],
             [
              0.7777777777777778,
              "#fb9f3a"
             ],
             [
              0.8888888888888888,
              "#fdca26"
             ],
             [
              1,
              "#f0f921"
             ]
            ],
            "type": "surface"
           }
          ],
          "table": [
           {
            "cells": {
             "fill": {
              "color": "#EBF0F8"
             },
             "line": {
              "color": "white"
             }
            },
            "header": {
             "fill": {
              "color": "#C8D4E3"
             },
             "line": {
              "color": "white"
             }
            },
            "type": "table"
           }
          ]
         },
         "layout": {
          "annotationdefaults": {
           "arrowcolor": "#2a3f5f",
           "arrowhead": 0,
           "arrowwidth": 1
          },
          "autotypenumbers": "strict",
          "coloraxis": {
           "colorbar": {
            "outlinewidth": 0,
            "ticks": ""
           }
          },
          "colorscale": {
           "diverging": [
            [
             0,
             "#8e0152"
            ],
            [
             0.1,
             "#c51b7d"
            ],
            [
             0.2,
             "#de77ae"
            ],
            [
             0.3,
             "#f1b6da"
            ],
            [
             0.4,
             "#fde0ef"
            ],
            [
             0.5,
             "#f7f7f7"
            ],
            [
             0.6,
             "#e6f5d0"
            ],
            [
             0.7,
             "#b8e186"
            ],
            [
             0.8,
             "#7fbc41"
            ],
            [
             0.9,
             "#4d9221"
            ],
            [
             1,
             "#276419"
            ]
           ],
           "sequential": [
            [
             0,
             "#0d0887"
            ],
            [
             0.1111111111111111,
             "#46039f"
            ],
            [
             0.2222222222222222,
             "#7201a8"
            ],
            [
             0.3333333333333333,
             "#9c179e"
            ],
            [
             0.4444444444444444,
             "#bd3786"
            ],
            [
             0.5555555555555556,
             "#d8576b"
            ],
            [
             0.6666666666666666,
             "#ed7953"
            ],
            [
             0.7777777777777778,
             "#fb9f3a"
            ],
            [
             0.8888888888888888,
             "#fdca26"
            ],
            [
             1,
             "#f0f921"
            ]
           ],
           "sequentialminus": [
            [
             0,
             "#0d0887"
            ],
            [
             0.1111111111111111,
             "#46039f"
            ],
            [
             0.2222222222222222,
             "#7201a8"
            ],
            [
             0.3333333333333333,
             "#9c179e"
            ],
            [
             0.4444444444444444,
             "#bd3786"
            ],
            [
             0.5555555555555556,
             "#d8576b"
            ],
            [
             0.6666666666666666,
             "#ed7953"
            ],
            [
             0.7777777777777778,
             "#fb9f3a"
            ],
            [
             0.8888888888888888,
             "#fdca26"
            ],
            [
             1,
             "#f0f921"
            ]
           ]
          },
          "colorway": [
           "#636efa",
           "#EF553B",
           "#00cc96",
           "#ab63fa",
           "#FFA15A",
           "#19d3f3",
           "#FF6692",
           "#B6E880",
           "#FF97FF",
           "#FECB52"
          ],
          "font": {
           "color": "#2a3f5f"
          },
          "geo": {
           "bgcolor": "white",
           "lakecolor": "white",
           "landcolor": "#E5ECF6",
           "showlakes": true,
           "showland": true,
           "subunitcolor": "white"
          },
          "hoverlabel": {
           "align": "left"
          },
          "hovermode": "closest",
          "mapbox": {
           "style": "light"
          },
          "paper_bgcolor": "white",
          "plot_bgcolor": "#E5ECF6",
          "polar": {
           "angularaxis": {
            "gridcolor": "white",
            "linecolor": "white",
            "ticks": ""
           },
           "bgcolor": "#E5ECF6",
           "radialaxis": {
            "gridcolor": "white",
            "linecolor": "white",
            "ticks": ""
           }
          },
          "scene": {
           "xaxis": {
            "backgroundcolor": "#E5ECF6",
            "gridcolor": "white",
            "gridwidth": 2,
            "linecolor": "white",
            "showbackground": true,
            "ticks": "",
            "zerolinecolor": "white"
           },
           "yaxis": {
            "backgroundcolor": "#E5ECF6",
            "gridcolor": "white",
            "gridwidth": 2,
            "linecolor": "white",
            "showbackground": true,
            "ticks": "",
            "zerolinecolor": "white"
           },
           "zaxis": {
            "backgroundcolor": "#E5ECF6",
            "gridcolor": "white",
            "gridwidth": 2,
            "linecolor": "white",
            "showbackground": true,
            "ticks": "",
            "zerolinecolor": "white"
           }
          },
          "shapedefaults": {
           "line": {
            "color": "#2a3f5f"
           }
          },
          "ternary": {
           "aaxis": {
            "gridcolor": "white",
            "linecolor": "white",
            "ticks": ""
           },
           "baxis": {
            "gridcolor": "white",
            "linecolor": "white",
            "ticks": ""
           },
           "bgcolor": "#E5ECF6",
           "caxis": {
            "gridcolor": "white",
            "linecolor": "white",
            "ticks": ""
           }
          },
          "title": {
           "x": 0.05
          },
          "xaxis": {
           "automargin": true,
           "gridcolor": "white",
           "linecolor": "white",
           "ticks": "",
           "title": {
            "standoff": 15
           },
           "zerolinecolor": "white",
           "zerolinewidth": 2
          },
          "yaxis": {
           "automargin": true,
           "gridcolor": "white",
           "linecolor": "white",
           "ticks": "",
           "title": {
            "standoff": 15
           },
           "zerolinecolor": "white",
           "zerolinewidth": 2
          }
         }
        },
        "width": 400,
        "xaxis": {
         "anchor": "y",
         "domain": [
          0,
          1
         ],
         "title": {
          "text": ""
         }
        },
        "yaxis": {
         "anchor": "x",
         "domain": [
          0,
          1
         ],
         "gridcolor": "lightgray",
         "gridwidth": 1,
         "showgrid": true,
         "title": {
          "text": ""
         },
         "type": "log"
        }
       }
      }
     },
     "metadata": {},
     "output_type": "display_data"
    },
    {
     "data": {
      "application/vnd.plotly.v1+json": {
       "config": {
        "plotlyServerURL": "https://plot.ly"
       },
       "data": [
        {
         "alignmentgroup": "True",
         "hovertemplate": "feature_pruning=none<br>domain=%{x}<br>n_colours=%{y}<extra></extra>",
         "legendgroup": "none",
         "marker": {
          "color": "#636efa",
          "pattern": {
           "shape": ""
          }
         },
         "name": "none",
         "offsetgroup": "none",
         "orientation": "v",
         "showlegend": true,
         "textposition": "auto",
         "type": "bar",
         "x": [
          "Blocksworld",
          "Childsnack",
          "Ferry",
          "Floortile",
          "Miconic",
          "Rovers",
          "Satellite",
          "Sokoban",
          "Spanner",
          "Transport"
         ],
         "xaxis": "x",
         "y": [
          22836,
          263,
          4398,
          19828,
          112,
          -1,
          -1,
          118,
          378,
          8936
         ],
         "yaxis": "y"
        },
        {
         "alignmentgroup": "True",
         "hovertemplate": "feature_pruning=collapse-all-x<br>domain=%{x}<br>n_colours=%{y}<extra></extra>",
         "legendgroup": "collapse-all-x",
         "marker": {
          "color": "#EF553B",
          "pattern": {
           "shape": ""
          }
         },
         "name": "collapse-all-x",
         "offsetgroup": "collapse-all-x",
         "orientation": "v",
         "showlegend": true,
         "textposition": "auto",
         "type": "bar",
         "x": [
          "Blocksworld",
          "Childsnack",
          "Ferry",
          "Floortile",
          "Miconic",
          "Rovers",
          "Satellite",
          "Sokoban",
          "Spanner",
          "Transport"
         ],
         "xaxis": "x",
         "y": [
          8870,
          95,
          1902,
          10716,
          20,
          15060,
          -1,
          27,
          159,
          5542
         ],
         "yaxis": "y"
        },
        {
         "alignmentgroup": "True",
         "hovertemplate": "feature_pruning=collapse-layer-x<br>domain=%{x}<br>n_colours=%{y}<extra></extra>",
         "legendgroup": "collapse-layer-x",
         "marker": {
          "color": "#00cc96",
          "pattern": {
           "shape": ""
          }
         },
         "name": "collapse-layer-x",
         "offsetgroup": "collapse-layer-x",
         "orientation": "v",
         "showlegend": true,
         "textposition": "auto",
         "type": "bar",
         "x": [
          "Blocksworld",
          "Childsnack",
          "Ferry",
          "Floortile",
          "Miconic",
          "Rovers",
          "Satellite",
          "Sokoban",
          "Spanner",
          "Transport"
         ],
         "xaxis": "x",
         "y": [
          41,
          24,
          79,
          428,
          14,
          363,
          292,
          15,
          21,
          78
         ],
         "yaxis": "y"
        },
        {
         "alignmentgroup": "True",
         "hovertemplate": "feature_pruning=collapse-layer-y<br>domain=%{x}<br>n_colours=%{y}<extra></extra>",
         "legendgroup": "collapse-layer-y",
         "marker": {
          "color": "#ab63fa",
          "pattern": {
           "shape": ""
          }
         },
         "name": "collapse-layer-y",
         "offsetgroup": "collapse-layer-y",
         "orientation": "v",
         "showlegend": true,
         "textposition": "auto",
         "type": "bar",
         "x": [
          "Blocksworld",
          "Childsnack",
          "Ferry",
          "Floortile",
          "Miconic",
          "Rovers",
          "Satellite",
          "Sokoban",
          "Spanner",
          "Transport"
         ],
         "xaxis": "x",
         "y": [
          41,
          23,
          79,
          428,
          14,
          363,
          292,
          15,
          20,
          78
         ],
         "yaxis": "y"
        },
        {
         "alignmentgroup": "True",
         "hovertemplate": "feature_pruning=collapse-layer-f<br>domain=%{x}<br>n_colours=%{y}<extra></extra>",
         "legendgroup": "collapse-layer-f",
         "marker": {
          "color": "#FFA15A",
          "pattern": {
           "shape": ""
          }
         },
         "name": "collapse-layer-f",
         "offsetgroup": "collapse-layer-f",
         "orientation": "v",
         "showlegend": true,
         "textposition": "auto",
         "type": "bar",
         "x": [
          "Blocksworld",
          "Childsnack",
          "Ferry",
          "Floortile",
          "Miconic",
          "Rovers",
          "Satellite",
          "Sokoban",
          "Spanner",
          "Transport"
         ],
         "xaxis": "x",
         "y": [
          1294,
          223,
          972,
          1288,
          99,
          1327,
          1690,
          114,
          286,
          1194
         ],
         "yaxis": "y"
        },
        {
         "alignmentgroup": "True",
         "hovertemplate": "feature_pruning=collapse-layer-yf<br>domain=%{x}<br>n_colours=%{y}<extra></extra>",
         "legendgroup": "collapse-layer-yf",
         "marker": {
          "color": "#19d3f3",
          "pattern": {
           "shape": ""
          }
         },
         "name": "collapse-layer-yf",
         "offsetgroup": "collapse-layer-yf",
         "orientation": "v",
         "showlegend": true,
         "textposition": "auto",
         "type": "bar",
         "x": [
          "Blocksworld",
          "Childsnack",
          "Ferry",
          "Floortile",
          "Miconic",
          "Rovers",
          "Satellite",
          "Sokoban",
          "Spanner",
          "Transport"
         ],
         "xaxis": "x",
         "y": [
          41,
          23,
          50,
          83,
          13,
          143,
          138,
          15,
          19,
          44
         ],
         "yaxis": "y"
        }
       ],
       "layout": {
        "barmode": "group",
        "font": {
         "size": 20
        },
        "height": 300,
        "legend": {
         "title": {
          "text": "feature_pruning"
         },
         "tracegroupgap": 0
        },
        "margin": {
         "b": 0,
         "l": 0,
         "pad": 0,
         "r": 0,
         "t": 0
        },
        "paper_bgcolor": "white",
        "plot_bgcolor": "white",
        "showlegend": false,
        "template": {
         "data": {
          "bar": [
           {
            "error_x": {
             "color": "#2a3f5f"
            },
            "error_y": {
             "color": "#2a3f5f"
            },
            "marker": {
             "line": {
              "color": "#E5ECF6",
              "width": 0.5
             },
             "pattern": {
              "fillmode": "overlay",
              "size": 10,
              "solidity": 0.2
             }
            },
            "type": "bar"
           }
          ],
          "barpolar": [
           {
            "marker": {
             "line": {
              "color": "#E5ECF6",
              "width": 0.5
             },
             "pattern": {
              "fillmode": "overlay",
              "size": 10,
              "solidity": 0.2
             }
            },
            "type": "barpolar"
           }
          ],
          "carpet": [
           {
            "aaxis": {
             "endlinecolor": "#2a3f5f",
             "gridcolor": "white",
             "linecolor": "white",
             "minorgridcolor": "white",
             "startlinecolor": "#2a3f5f"
            },
            "baxis": {
             "endlinecolor": "#2a3f5f",
             "gridcolor": "white",
             "linecolor": "white",
             "minorgridcolor": "white",
             "startlinecolor": "#2a3f5f"
            },
            "type": "carpet"
           }
          ],
          "choropleth": [
           {
            "colorbar": {
             "outlinewidth": 0,
             "ticks": ""
            },
            "type": "choropleth"
           }
          ],
          "contour": [
           {
            "colorbar": {
             "outlinewidth": 0,
             "ticks": ""
            },
            "colorscale": [
             [
              0,
              "#0d0887"
             ],
             [
              0.1111111111111111,
              "#46039f"
             ],
             [
              0.2222222222222222,
              "#7201a8"
             ],
             [
              0.3333333333333333,
              "#9c179e"
             ],
             [
              0.4444444444444444,
              "#bd3786"
             ],
             [
              0.5555555555555556,
              "#d8576b"
             ],
             [
              0.6666666666666666,
              "#ed7953"
             ],
             [
              0.7777777777777778,
              "#fb9f3a"
             ],
             [
              0.8888888888888888,
              "#fdca26"
             ],
             [
              1,
              "#f0f921"
             ]
            ],
            "type": "contour"
           }
          ],
          "contourcarpet": [
           {
            "colorbar": {
             "outlinewidth": 0,
             "ticks": ""
            },
            "type": "contourcarpet"
           }
          ],
          "heatmap": [
           {
            "colorbar": {
             "outlinewidth": 0,
             "ticks": ""
            },
            "colorscale": [
             [
              0,
              "#0d0887"
             ],
             [
              0.1111111111111111,
              "#46039f"
             ],
             [
              0.2222222222222222,
              "#7201a8"
             ],
             [
              0.3333333333333333,
              "#9c179e"
             ],
             [
              0.4444444444444444,
              "#bd3786"
             ],
             [
              0.5555555555555556,
              "#d8576b"
             ],
             [
              0.6666666666666666,
              "#ed7953"
             ],
             [
              0.7777777777777778,
              "#fb9f3a"
             ],
             [
              0.8888888888888888,
              "#fdca26"
             ],
             [
              1,
              "#f0f921"
             ]
            ],
            "type": "heatmap"
           }
          ],
          "heatmapgl": [
           {
            "colorbar": {
             "outlinewidth": 0,
             "ticks": ""
            },
            "colorscale": [
             [
              0,
              "#0d0887"
             ],
             [
              0.1111111111111111,
              "#46039f"
             ],
             [
              0.2222222222222222,
              "#7201a8"
             ],
             [
              0.3333333333333333,
              "#9c179e"
             ],
             [
              0.4444444444444444,
              "#bd3786"
             ],
             [
              0.5555555555555556,
              "#d8576b"
             ],
             [
              0.6666666666666666,
              "#ed7953"
             ],
             [
              0.7777777777777778,
              "#fb9f3a"
             ],
             [
              0.8888888888888888,
              "#fdca26"
             ],
             [
              1,
              "#f0f921"
             ]
            ],
            "type": "heatmapgl"
           }
          ],
          "histogram": [
           {
            "marker": {
             "pattern": {
              "fillmode": "overlay",
              "size": 10,
              "solidity": 0.2
             }
            },
            "type": "histogram"
           }
          ],
          "histogram2d": [
           {
            "colorbar": {
             "outlinewidth": 0,
             "ticks": ""
            },
            "colorscale": [
             [
              0,
              "#0d0887"
             ],
             [
              0.1111111111111111,
              "#46039f"
             ],
             [
              0.2222222222222222,
              "#7201a8"
             ],
             [
              0.3333333333333333,
              "#9c179e"
             ],
             [
              0.4444444444444444,
              "#bd3786"
             ],
             [
              0.5555555555555556,
              "#d8576b"
             ],
             [
              0.6666666666666666,
              "#ed7953"
             ],
             [
              0.7777777777777778,
              "#fb9f3a"
             ],
             [
              0.8888888888888888,
              "#fdca26"
             ],
             [
              1,
              "#f0f921"
             ]
            ],
            "type": "histogram2d"
           }
          ],
          "histogram2dcontour": [
           {
            "colorbar": {
             "outlinewidth": 0,
             "ticks": ""
            },
            "colorscale": [
             [
              0,
              "#0d0887"
             ],
             [
              0.1111111111111111,
              "#46039f"
             ],
             [
              0.2222222222222222,
              "#7201a8"
             ],
             [
              0.3333333333333333,
              "#9c179e"
             ],
             [
              0.4444444444444444,
              "#bd3786"
             ],
             [
              0.5555555555555556,
              "#d8576b"
             ],
             [
              0.6666666666666666,
              "#ed7953"
             ],
             [
              0.7777777777777778,
              "#fb9f3a"
             ],
             [
              0.8888888888888888,
              "#fdca26"
             ],
             [
              1,
              "#f0f921"
             ]
            ],
            "type": "histogram2dcontour"
           }
          ],
          "mesh3d": [
           {
            "colorbar": {
             "outlinewidth": 0,
             "ticks": ""
            },
            "type": "mesh3d"
           }
          ],
          "parcoords": [
           {
            "line": {
             "colorbar": {
              "outlinewidth": 0,
              "ticks": ""
             }
            },
            "type": "parcoords"
           }
          ],
          "pie": [
           {
            "automargin": true,
            "type": "pie"
           }
          ],
          "scatter": [
           {
            "fillpattern": {
             "fillmode": "overlay",
             "size": 10,
             "solidity": 0.2
            },
            "type": "scatter"
           }
          ],
          "scatter3d": [
           {
            "line": {
             "colorbar": {
              "outlinewidth": 0,
              "ticks": ""
             }
            },
            "marker": {
             "colorbar": {
              "outlinewidth": 0,
              "ticks": ""
             }
            },
            "type": "scatter3d"
           }
          ],
          "scattercarpet": [
           {
            "marker": {
             "colorbar": {
              "outlinewidth": 0,
              "ticks": ""
             }
            },
            "type": "scattercarpet"
           }
          ],
          "scattergeo": [
           {
            "marker": {
             "colorbar": {
              "outlinewidth": 0,
              "ticks": ""
             }
            },
            "type": "scattergeo"
           }
          ],
          "scattergl": [
           {
            "marker": {
             "colorbar": {
              "outlinewidth": 0,
              "ticks": ""
             }
            },
            "type": "scattergl"
           }
          ],
          "scattermapbox": [
           {
            "marker": {
             "colorbar": {
              "outlinewidth": 0,
              "ticks": ""
             }
            },
            "type": "scattermapbox"
           }
          ],
          "scatterpolar": [
           {
            "marker": {
             "colorbar": {
              "outlinewidth": 0,
              "ticks": ""
             }
            },
            "type": "scatterpolar"
           }
          ],
          "scatterpolargl": [
           {
            "marker": {
             "colorbar": {
              "outlinewidth": 0,
              "ticks": ""
             }
            },
            "type": "scatterpolargl"
           }
          ],
          "scatterternary": [
           {
            "marker": {
             "colorbar": {
              "outlinewidth": 0,
              "ticks": ""
             }
            },
            "type": "scatterternary"
           }
          ],
          "surface": [
           {
            "colorbar": {
             "outlinewidth": 0,
             "ticks": ""
            },
            "colorscale": [
             [
              0,
              "#0d0887"
             ],
             [
              0.1111111111111111,
              "#46039f"
             ],
             [
              0.2222222222222222,
              "#7201a8"
             ],
             [
              0.3333333333333333,
              "#9c179e"
             ],
             [
              0.4444444444444444,
              "#bd3786"
             ],
             [
              0.5555555555555556,
              "#d8576b"
             ],
             [
              0.6666666666666666,
              "#ed7953"
             ],
             [
              0.7777777777777778,
              "#fb9f3a"
             ],
             [
              0.8888888888888888,
              "#fdca26"
             ],
             [
              1,
              "#f0f921"
             ]
            ],
            "type": "surface"
           }
          ],
          "table": [
           {
            "cells": {
             "fill": {
              "color": "#EBF0F8"
             },
             "line": {
              "color": "white"
             }
            },
            "header": {
             "fill": {
              "color": "#C8D4E3"
             },
             "line": {
              "color": "white"
             }
            },
            "type": "table"
           }
          ]
         },
         "layout": {
          "annotationdefaults": {
           "arrowcolor": "#2a3f5f",
           "arrowhead": 0,
           "arrowwidth": 1
          },
          "autotypenumbers": "strict",
          "coloraxis": {
           "colorbar": {
            "outlinewidth": 0,
            "ticks": ""
           }
          },
          "colorscale": {
           "diverging": [
            [
             0,
             "#8e0152"
            ],
            [
             0.1,
             "#c51b7d"
            ],
            [
             0.2,
             "#de77ae"
            ],
            [
             0.3,
             "#f1b6da"
            ],
            [
             0.4,
             "#fde0ef"
            ],
            [
             0.5,
             "#f7f7f7"
            ],
            [
             0.6,
             "#e6f5d0"
            ],
            [
             0.7,
             "#b8e186"
            ],
            [
             0.8,
             "#7fbc41"
            ],
            [
             0.9,
             "#4d9221"
            ],
            [
             1,
             "#276419"
            ]
           ],
           "sequential": [
            [
             0,
             "#0d0887"
            ],
            [
             0.1111111111111111,
             "#46039f"
            ],
            [
             0.2222222222222222,
             "#7201a8"
            ],
            [
             0.3333333333333333,
             "#9c179e"
            ],
            [
             0.4444444444444444,
             "#bd3786"
            ],
            [
             0.5555555555555556,
             "#d8576b"
            ],
            [
             0.6666666666666666,
             "#ed7953"
            ],
            [
             0.7777777777777778,
             "#fb9f3a"
            ],
            [
             0.8888888888888888,
             "#fdca26"
            ],
            [
             1,
             "#f0f921"
            ]
           ],
           "sequentialminus": [
            [
             0,
             "#0d0887"
            ],
            [
             0.1111111111111111,
             "#46039f"
            ],
            [
             0.2222222222222222,
             "#7201a8"
            ],
            [
             0.3333333333333333,
             "#9c179e"
            ],
            [
             0.4444444444444444,
             "#bd3786"
            ],
            [
             0.5555555555555556,
             "#d8576b"
            ],
            [
             0.6666666666666666,
             "#ed7953"
            ],
            [
             0.7777777777777778,
             "#fb9f3a"
            ],
            [
             0.8888888888888888,
             "#fdca26"
            ],
            [
             1,
             "#f0f921"
            ]
           ]
          },
          "colorway": [
           "#636efa",
           "#EF553B",
           "#00cc96",
           "#ab63fa",
           "#FFA15A",
           "#19d3f3",
           "#FF6692",
           "#B6E880",
           "#FF97FF",
           "#FECB52"
          ],
          "font": {
           "color": "#2a3f5f"
          },
          "geo": {
           "bgcolor": "white",
           "lakecolor": "white",
           "landcolor": "#E5ECF6",
           "showlakes": true,
           "showland": true,
           "subunitcolor": "white"
          },
          "hoverlabel": {
           "align": "left"
          },
          "hovermode": "closest",
          "mapbox": {
           "style": "light"
          },
          "paper_bgcolor": "white",
          "plot_bgcolor": "#E5ECF6",
          "polar": {
           "angularaxis": {
            "gridcolor": "white",
            "linecolor": "white",
            "ticks": ""
           },
           "bgcolor": "#E5ECF6",
           "radialaxis": {
            "gridcolor": "white",
            "linecolor": "white",
            "ticks": ""
           }
          },
          "scene": {
           "xaxis": {
            "backgroundcolor": "#E5ECF6",
            "gridcolor": "white",
            "gridwidth": 2,
            "linecolor": "white",
            "showbackground": true,
            "ticks": "",
            "zerolinecolor": "white"
           },
           "yaxis": {
            "backgroundcolor": "#E5ECF6",
            "gridcolor": "white",
            "gridwidth": 2,
            "linecolor": "white",
            "showbackground": true,
            "ticks": "",
            "zerolinecolor": "white"
           },
           "zaxis": {
            "backgroundcolor": "#E5ECF6",
            "gridcolor": "white",
            "gridwidth": 2,
            "linecolor": "white",
            "showbackground": true,
            "ticks": "",
            "zerolinecolor": "white"
           }
          },
          "shapedefaults": {
           "line": {
            "color": "#2a3f5f"
           }
          },
          "ternary": {
           "aaxis": {
            "gridcolor": "white",
            "linecolor": "white",
            "ticks": ""
           },
           "baxis": {
            "gridcolor": "white",
            "linecolor": "white",
            "ticks": ""
           },
           "bgcolor": "#E5ECF6",
           "caxis": {
            "gridcolor": "white",
            "linecolor": "white",
            "ticks": ""
           }
          },
          "title": {
           "x": 0.05
          },
          "xaxis": {
           "automargin": true,
           "gridcolor": "white",
           "linecolor": "white",
           "ticks": "",
           "title": {
            "standoff": 15
           },
           "zerolinecolor": "white",
           "zerolinewidth": 2
          },
          "yaxis": {
           "automargin": true,
           "gridcolor": "white",
           "linecolor": "white",
           "ticks": "",
           "title": {
            "standoff": 15
           },
           "zerolinecolor": "white",
           "zerolinewidth": 2
          }
         }
        },
        "width": 400,
        "xaxis": {
         "anchor": "y",
         "domain": [
          0,
          1
         ],
         "ticktext": [
          "Bl",
          "Bl",
          "Bl",
          "Bl",
          "Bl",
          "Bl",
          "Ch",
          "Ch",
          "Ch",
          "Ch",
          "Ch",
          "Ch",
          "Fe",
          "Fe",
          "Fe",
          "Fe",
          "Fe",
          "Fe",
          "Fl",
          "Fl",
          "Fl",
          "Fl",
          "Fl",
          "Fl",
          "Mi",
          "Mi",
          "Mi",
          "Mi",
          "Mi",
          "Mi",
          "Ro",
          "Ro",
          "Ro",
          "Ro",
          "Ro",
          "Ro",
          "Sa",
          "Sa",
          "Sa",
          "Sa",
          "Sa",
          "Sa",
          "So",
          "So",
          "So",
          "So",
          "So",
          "So",
          "Sp",
          "Sp",
          "Sp",
          "Sp",
          "Sp",
          "Sp",
          "Tr",
          "Tr",
          "Tr",
          "Tr",
          "Tr",
          "Tr"
         ],
         "tickvals": [
          "Blocksworld",
          "Blocksworld",
          "Blocksworld",
          "Blocksworld",
          "Blocksworld",
          "Blocksworld",
          "Childsnack",
          "Childsnack",
          "Childsnack",
          "Childsnack",
          "Childsnack",
          "Childsnack",
          "Ferry",
          "Ferry",
          "Ferry",
          "Ferry",
          "Ferry",
          "Ferry",
          "Floortile",
          "Floortile",
          "Floortile",
          "Floortile",
          "Floortile",
          "Floortile",
          "Miconic",
          "Miconic",
          "Miconic",
          "Miconic",
          "Miconic",
          "Miconic",
          "Rovers",
          "Rovers",
          "Rovers",
          "Rovers",
          "Rovers",
          "Rovers",
          "Satellite",
          "Satellite",
          "Satellite",
          "Satellite",
          "Satellite",
          "Satellite",
          "Sokoban",
          "Sokoban",
          "Sokoban",
          "Sokoban",
          "Sokoban",
          "Sokoban",
          "Spanner",
          "Spanner",
          "Spanner",
          "Spanner",
          "Spanner",
          "Spanner",
          "Transport",
          "Transport",
          "Transport",
          "Transport",
          "Transport",
          "Transport"
         ],
         "title": {
          "text": ""
         }
        },
        "yaxis": {
         "anchor": "x",
         "domain": [
          0,
          1
         ],
         "gridcolor": "lightgray",
         "gridwidth": 1,
         "showgrid": true,
         "title": {
          "text": ""
         },
         "type": "log"
        }
       }
      }
     },
     "metadata": {},
     "output_type": "display_data"
    }
   ],
   "source": [
    "metric = \"n_colours\"\n",
    "for model in [\"svr\", \"rank-svm\"]:\n",
    "    df = get_df()\n",
    "    df = df[df.iterations == \"4\"]\n",
    "    df = df[df[\"optimiser\"] == model]\n",
    "    fig = px.bar(df, x=\"domain\", y=metric, color=\"feature_pruning\", barmode=\"group\", log_y=True)\n",
    "    # hide axis labels\n",
    "    fig.update_xaxes(title_text='')\n",
    "    fig.update_yaxes(title_text='')\n",
    "    # white background\n",
    "    fig.update_layout(paper_bgcolor='white', plot_bgcolor='white')\n",
    "    # horizontal background lines\n",
    "    fig.update_layout(yaxis=dict(showgrid=True, gridwidth=1, gridcolor='lightgray'))\n",
    "    # figure size\n",
    "    fig.update_layout(width=400, height=300)\n",
    "    fig.show()\n",
    "    # hide legend\n",
    "    fig.update_layout(showlegend=False)\n",
    "    # font size\n",
    "    fig.update_layout(font=dict(size=20))\n",
    "    # trim white space\n",
    "    # rename x label axis to only take first two characters of each domain\n",
    "    fig.update_xaxes(ticktext=[d[:2] for d in df.domain], tickvals=df.domain)\n",
    "    # trim white space\n",
    "    fig.update_layout(margin=dict(l=0, r=0, t=0, b=0, pad=0))\n",
    "    # to pdf and trim white space\n",
    "    fig.write_image(f\"{PAPER_PLOT_DIR}/_throwaway.pdf\")\n",
    "    fig.write_image(f\"{PAPER_PLOT_DIR}/{model}_{metric}.pdf\")\n",
    "    fig.show()"
   ]
  },
  {
   "cell_type": "code",
   "execution_count": 6,
   "metadata": {},
   "outputs": [
    {
     "name": "stdout",
     "output_type": "stream",
     "text": [
      "n_data\n"
     ]
    },
    {
     "data": {
      "text/html": [
       "<div>\n",
       "<style scoped>\n",
       "    .dataframe tbody tr th:only-of-type {\n",
       "        vertical-align: middle;\n",
       "    }\n",
       "\n",
       "    .dataframe tbody tr th {\n",
       "        vertical-align: top;\n",
       "    }\n",
       "\n",
       "    .dataframe thead th {\n",
       "        text-align: right;\n",
       "    }\n",
       "</style>\n",
       "<table border=\"1\" class=\"dataframe\">\n",
       "  <thead>\n",
       "    <tr style=\"text-align: right;\">\n",
       "      <th></th>\n",
       "      <th></th>\n",
       "      <th></th>\n",
       "      <th>domain</th>\n",
       "      <th>Blocksworld</th>\n",
       "      <th>Childsnack</th>\n",
       "      <th>Ferry</th>\n",
       "      <th>Floortile</th>\n",
       "      <th>Miconic</th>\n",
       "      <th>Rovers</th>\n",
       "      <th>Satellite</th>\n",
       "      <th>Sokoban</th>\n",
       "      <th>Spanner</th>\n",
       "      <th>Transport</th>\n",
       "    </tr>\n",
       "    <tr>\n",
       "      <th>optimiser</th>\n",
       "      <th>features</th>\n",
       "      <th>iterations</th>\n",
       "      <th>feature_pruning</th>\n",
       "      <th></th>\n",
       "      <th></th>\n",
       "      <th></th>\n",
       "      <th></th>\n",
       "      <th></th>\n",
       "      <th></th>\n",
       "      <th></th>\n",
       "      <th></th>\n",
       "      <th></th>\n",
       "      <th></th>\n",
       "    </tr>\n",
       "  </thead>\n",
       "  <tbody>\n",
       "    <tr>\n",
       "      <th rowspan=\"12\" valign=\"top\">rank-svm</th>\n",
       "      <th rowspan=\"12\" valign=\"top\">wl</th>\n",
       "      <th rowspan=\"6\" valign=\"top\">2</th>\n",
       "      <th>collapse-all-x</th>\n",
       "      <td>7547</td>\n",
       "      <td>4118</td>\n",
       "      <td>13259</td>\n",
       "      <td>27820</td>\n",
       "      <td>19199</td>\n",
       "      <td>21020</td>\n",
       "      <td>65277</td>\n",
       "      <td>4310</td>\n",
       "      <td>2499</td>\n",
       "      <td>14984</td>\n",
       "    </tr>\n",
       "    <tr>\n",
       "      <th>collapse-layer-f</th>\n",
       "      <td>7547</td>\n",
       "      <td>4118</td>\n",
       "      <td>13259</td>\n",
       "      <td>27607</td>\n",
       "      <td>19199</td>\n",
       "      <td>21020</td>\n",
       "      <td>65277</td>\n",
       "      <td>4310</td>\n",
       "      <td>2499</td>\n",
       "      <td>14984</td>\n",
       "    </tr>\n",
       "    <tr>\n",
       "      <th>collapse-layer-x</th>\n",
       "      <td>7524</td>\n",
       "      <td>4118</td>\n",
       "      <td>13259</td>\n",
       "      <td>27634</td>\n",
       "      <td>19199</td>\n",
       "      <td>21020</td>\n",
       "      <td>65277</td>\n",
       "      <td>4310</td>\n",
       "      <td>2499</td>\n",
       "      <td>14984</td>\n",
       "    </tr>\n",
       "    <tr>\n",
       "      <th>collapse-layer-y</th>\n",
       "      <td>7524</td>\n",
       "      <td>4118</td>\n",
       "      <td>13259</td>\n",
       "      <td>27634</td>\n",
       "      <td>19199</td>\n",
       "      <td>21020</td>\n",
       "      <td>65277</td>\n",
       "      <td>4310</td>\n",
       "      <td>2499</td>\n",
       "      <td>14984</td>\n",
       "    </tr>\n",
       "    <tr>\n",
       "      <th>collapse-layer-yf</th>\n",
       "      <td>7524</td>\n",
       "      <td>4118</td>\n",
       "      <td>13259</td>\n",
       "      <td>27427</td>\n",
       "      <td>19199</td>\n",
       "      <td>21020</td>\n",
       "      <td>65277</td>\n",
       "      <td>4310</td>\n",
       "      <td>2499</td>\n",
       "      <td>14984</td>\n",
       "    </tr>\n",
       "    <tr>\n",
       "      <th>none</th>\n",
       "      <td>7547</td>\n",
       "      <td>4118</td>\n",
       "      <td>13259</td>\n",
       "      <td>27820</td>\n",
       "      <td>19199</td>\n",
       "      <td>21020</td>\n",
       "      <td>65277</td>\n",
       "      <td>4310</td>\n",
       "      <td>2499</td>\n",
       "      <td>14984</td>\n",
       "    </tr>\n",
       "    <tr>\n",
       "      <th rowspan=\"6\" valign=\"top\">4</th>\n",
       "      <th>collapse-all-x</th>\n",
       "      <td>7547</td>\n",
       "      <td>4118</td>\n",
       "      <td>13259</td>\n",
       "      <td>27889</td>\n",
       "      <td>19199</td>\n",
       "      <td>21020</td>\n",
       "      <td>-1</td>\n",
       "      <td>4310</td>\n",
       "      <td>2499</td>\n",
       "      <td>14984</td>\n",
       "    </tr>\n",
       "    <tr>\n",
       "      <th>collapse-layer-f</th>\n",
       "      <td>7547</td>\n",
       "      <td>4118</td>\n",
       "      <td>13259</td>\n",
       "      <td>27676</td>\n",
       "      <td>19199</td>\n",
       "      <td>21020</td>\n",
       "      <td>65277</td>\n",
       "      <td>4310</td>\n",
       "      <td>2499</td>\n",
       "      <td>14984</td>\n",
       "    </tr>\n",
       "    <tr>\n",
       "      <th>collapse-layer-x</th>\n",
       "      <td>7524</td>\n",
       "      <td>4118</td>\n",
       "      <td>13259</td>\n",
       "      <td>27634</td>\n",
       "      <td>19199</td>\n",
       "      <td>21020</td>\n",
       "      <td>65277</td>\n",
       "      <td>4310</td>\n",
       "      <td>2499</td>\n",
       "      <td>14984</td>\n",
       "    </tr>\n",
       "    <tr>\n",
       "      <th>collapse-layer-y</th>\n",
       "      <td>7524</td>\n",
       "      <td>4118</td>\n",
       "      <td>13259</td>\n",
       "      <td>27634</td>\n",
       "      <td>19199</td>\n",
       "      <td>21020</td>\n",
       "      <td>65277</td>\n",
       "      <td>4310</td>\n",
       "      <td>2499</td>\n",
       "      <td>14984</td>\n",
       "    </tr>\n",
       "    <tr>\n",
       "      <th>collapse-layer-yf</th>\n",
       "      <td>7524</td>\n",
       "      <td>4118</td>\n",
       "      <td>13259</td>\n",
       "      <td>27427</td>\n",
       "      <td>19199</td>\n",
       "      <td>21020</td>\n",
       "      <td>65277</td>\n",
       "      <td>4310</td>\n",
       "      <td>2499</td>\n",
       "      <td>14984</td>\n",
       "    </tr>\n",
       "    <tr>\n",
       "      <th>none</th>\n",
       "      <td>7547</td>\n",
       "      <td>4118</td>\n",
       "      <td>13259</td>\n",
       "      <td>27889</td>\n",
       "      <td>19199</td>\n",
       "      <td>-1</td>\n",
       "      <td>-1</td>\n",
       "      <td>4310</td>\n",
       "      <td>2499</td>\n",
       "      <td>14984</td>\n",
       "    </tr>\n",
       "    <tr>\n",
       "      <th rowspan=\"12\" valign=\"top\">svr</th>\n",
       "      <th rowspan=\"12\" valign=\"top\">wl</th>\n",
       "      <th rowspan=\"6\" valign=\"top\">2</th>\n",
       "      <th>collapse-all-x</th>\n",
       "      <td>1247</td>\n",
       "      <td>240</td>\n",
       "      <td>1286</td>\n",
       "      <td>2111</td>\n",
       "      <td>1254</td>\n",
       "      <td>1420</td>\n",
       "      <td>1150</td>\n",
       "      <td>2085</td>\n",
       "      <td>820</td>\n",
       "      <td>724</td>\n",
       "    </tr>\n",
       "    <tr>\n",
       "      <th>collapse-layer-f</th>\n",
       "      <td>1247</td>\n",
       "      <td>240</td>\n",
       "      <td>1286</td>\n",
       "      <td>2082</td>\n",
       "      <td>1254</td>\n",
       "      <td>1420</td>\n",
       "      <td>1150</td>\n",
       "      <td>2085</td>\n",
       "      <td>820</td>\n",
       "      <td>724</td>\n",
       "    </tr>\n",
       "    <tr>\n",
       "      <th>collapse-layer-x</th>\n",
       "      <td>1242</td>\n",
       "      <td>240</td>\n",
       "      <td>1286</td>\n",
       "      <td>2023</td>\n",
       "      <td>1254</td>\n",
       "      <td>1420</td>\n",
       "      <td>1150</td>\n",
       "      <td>2085</td>\n",
       "      <td>765</td>\n",
       "      <td>718</td>\n",
       "    </tr>\n",
       "    <tr>\n",
       "      <th>collapse-layer-y</th>\n",
       "      <td>1242</td>\n",
       "      <td>240</td>\n",
       "      <td>1286</td>\n",
       "      <td>2023</td>\n",
       "      <td>1254</td>\n",
       "      <td>1420</td>\n",
       "      <td>1150</td>\n",
       "      <td>2085</td>\n",
       "      <td>765</td>\n",
       "      <td>718</td>\n",
       "    </tr>\n",
       "    <tr>\n",
       "      <th>collapse-layer-yf</th>\n",
       "      <td>1242</td>\n",
       "      <td>240</td>\n",
       "      <td>1286</td>\n",
       "      <td>1996</td>\n",
       "      <td>1254</td>\n",
       "      <td>1420</td>\n",
       "      <td>1150</td>\n",
       "      <td>2085</td>\n",
       "      <td>765</td>\n",
       "      <td>718</td>\n",
       "    </tr>\n",
       "    <tr>\n",
       "      <th>none</th>\n",
       "      <td>1247</td>\n",
       "      <td>240</td>\n",
       "      <td>1286</td>\n",
       "      <td>2111</td>\n",
       "      <td>1254</td>\n",
       "      <td>1420</td>\n",
       "      <td>1150</td>\n",
       "      <td>2085</td>\n",
       "      <td>820</td>\n",
       "      <td>724</td>\n",
       "    </tr>\n",
       "    <tr>\n",
       "      <th rowspan=\"6\" valign=\"top\">4</th>\n",
       "      <th>collapse-all-x</th>\n",
       "      <td>1247</td>\n",
       "      <td>240</td>\n",
       "      <td>1286</td>\n",
       "      <td>2159</td>\n",
       "      <td>1254</td>\n",
       "      <td>1420</td>\n",
       "      <td>1150</td>\n",
       "      <td>2085</td>\n",
       "      <td>820</td>\n",
       "      <td>724</td>\n",
       "    </tr>\n",
       "    <tr>\n",
       "      <th>collapse-layer-f</th>\n",
       "      <td>1247</td>\n",
       "      <td>240</td>\n",
       "      <td>1286</td>\n",
       "      <td>2129</td>\n",
       "      <td>1254</td>\n",
       "      <td>1420</td>\n",
       "      <td>1150</td>\n",
       "      <td>2085</td>\n",
       "      <td>820</td>\n",
       "      <td>724</td>\n",
       "    </tr>\n",
       "    <tr>\n",
       "      <th>collapse-layer-x</th>\n",
       "      <td>1242</td>\n",
       "      <td>240</td>\n",
       "      <td>1286</td>\n",
       "      <td>2023</td>\n",
       "      <td>1254</td>\n",
       "      <td>1420</td>\n",
       "      <td>1150</td>\n",
       "      <td>2085</td>\n",
       "      <td>765</td>\n",
       "      <td>718</td>\n",
       "    </tr>\n",
       "    <tr>\n",
       "      <th>collapse-layer-y</th>\n",
       "      <td>1242</td>\n",
       "      <td>240</td>\n",
       "      <td>1286</td>\n",
       "      <td>2023</td>\n",
       "      <td>1254</td>\n",
       "      <td>1420</td>\n",
       "      <td>1150</td>\n",
       "      <td>2085</td>\n",
       "      <td>765</td>\n",
       "      <td>718</td>\n",
       "    </tr>\n",
       "    <tr>\n",
       "      <th>collapse-layer-yf</th>\n",
       "      <td>1242</td>\n",
       "      <td>240</td>\n",
       "      <td>1286</td>\n",
       "      <td>1996</td>\n",
       "      <td>1254</td>\n",
       "      <td>1420</td>\n",
       "      <td>1150</td>\n",
       "      <td>2085</td>\n",
       "      <td>765</td>\n",
       "      <td>718</td>\n",
       "    </tr>\n",
       "    <tr>\n",
       "      <th>none</th>\n",
       "      <td>1247</td>\n",
       "      <td>240</td>\n",
       "      <td>1286</td>\n",
       "      <td>2159</td>\n",
       "      <td>1254</td>\n",
       "      <td>1420</td>\n",
       "      <td>1150</td>\n",
       "      <td>2085</td>\n",
       "      <td>820</td>\n",
       "      <td>724</td>\n",
       "    </tr>\n",
       "  </tbody>\n",
       "</table>\n",
       "</div>"
      ],
      "text/plain": [
       "domain                                           Blocksworld  Childsnack  \\\n",
       "optimiser features iterations feature_pruning                              \n",
       "rank-svm  wl       2          collapse-all-x            7547        4118   \n",
       "                              collapse-layer-f          7547        4118   \n",
       "                              collapse-layer-x          7524        4118   \n",
       "                              collapse-layer-y          7524        4118   \n",
       "                              collapse-layer-yf         7524        4118   \n",
       "                              none                      7547        4118   \n",
       "                   4          collapse-all-x            7547        4118   \n",
       "                              collapse-layer-f          7547        4118   \n",
       "                              collapse-layer-x          7524        4118   \n",
       "                              collapse-layer-y          7524        4118   \n",
       "                              collapse-layer-yf         7524        4118   \n",
       "                              none                      7547        4118   \n",
       "svr       wl       2          collapse-all-x            1247         240   \n",
       "                              collapse-layer-f          1247         240   \n",
       "                              collapse-layer-x          1242         240   \n",
       "                              collapse-layer-y          1242         240   \n",
       "                              collapse-layer-yf         1242         240   \n",
       "                              none                      1247         240   \n",
       "                   4          collapse-all-x            1247         240   \n",
       "                              collapse-layer-f          1247         240   \n",
       "                              collapse-layer-x          1242         240   \n",
       "                              collapse-layer-y          1242         240   \n",
       "                              collapse-layer-yf         1242         240   \n",
       "                              none                      1247         240   \n",
       "\n",
       "domain                                           Ferry  Floortile  Miconic  \\\n",
       "optimiser features iterations feature_pruning                                \n",
       "rank-svm  wl       2          collapse-all-x     13259      27820    19199   \n",
       "                              collapse-layer-f   13259      27607    19199   \n",
       "                              collapse-layer-x   13259      27634    19199   \n",
       "                              collapse-layer-y   13259      27634    19199   \n",
       "                              collapse-layer-yf  13259      27427    19199   \n",
       "                              none               13259      27820    19199   \n",
       "                   4          collapse-all-x     13259      27889    19199   \n",
       "                              collapse-layer-f   13259      27676    19199   \n",
       "                              collapse-layer-x   13259      27634    19199   \n",
       "                              collapse-layer-y   13259      27634    19199   \n",
       "                              collapse-layer-yf  13259      27427    19199   \n",
       "                              none               13259      27889    19199   \n",
       "svr       wl       2          collapse-all-x      1286       2111     1254   \n",
       "                              collapse-layer-f    1286       2082     1254   \n",
       "                              collapse-layer-x    1286       2023     1254   \n",
       "                              collapse-layer-y    1286       2023     1254   \n",
       "                              collapse-layer-yf   1286       1996     1254   \n",
       "                              none                1286       2111     1254   \n",
       "                   4          collapse-all-x      1286       2159     1254   \n",
       "                              collapse-layer-f    1286       2129     1254   \n",
       "                              collapse-layer-x    1286       2023     1254   \n",
       "                              collapse-layer-y    1286       2023     1254   \n",
       "                              collapse-layer-yf   1286       1996     1254   \n",
       "                              none                1286       2159     1254   \n",
       "\n",
       "domain                                           Rovers  Satellite  Sokoban  \\\n",
       "optimiser features iterations feature_pruning                                 \n",
       "rank-svm  wl       2          collapse-all-x      21020      65277     4310   \n",
       "                              collapse-layer-f    21020      65277     4310   \n",
       "                              collapse-layer-x    21020      65277     4310   \n",
       "                              collapse-layer-y    21020      65277     4310   \n",
       "                              collapse-layer-yf   21020      65277     4310   \n",
       "                              none                21020      65277     4310   \n",
       "                   4          collapse-all-x      21020         -1     4310   \n",
       "                              collapse-layer-f    21020      65277     4310   \n",
       "                              collapse-layer-x    21020      65277     4310   \n",
       "                              collapse-layer-y    21020      65277     4310   \n",
       "                              collapse-layer-yf   21020      65277     4310   \n",
       "                              none                   -1         -1     4310   \n",
       "svr       wl       2          collapse-all-x       1420       1150     2085   \n",
       "                              collapse-layer-f     1420       1150     2085   \n",
       "                              collapse-layer-x     1420       1150     2085   \n",
       "                              collapse-layer-y     1420       1150     2085   \n",
       "                              collapse-layer-yf    1420       1150     2085   \n",
       "                              none                 1420       1150     2085   \n",
       "                   4          collapse-all-x       1420       1150     2085   \n",
       "                              collapse-layer-f     1420       1150     2085   \n",
       "                              collapse-layer-x     1420       1150     2085   \n",
       "                              collapse-layer-y     1420       1150     2085   \n",
       "                              collapse-layer-yf    1420       1150     2085   \n",
       "                              none                 1420       1150     2085   \n",
       "\n",
       "domain                                           Spanner  Transport  \n",
       "optimiser features iterations feature_pruning                        \n",
       "rank-svm  wl       2          collapse-all-x        2499      14984  \n",
       "                              collapse-layer-f      2499      14984  \n",
       "                              collapse-layer-x      2499      14984  \n",
       "                              collapse-layer-y      2499      14984  \n",
       "                              collapse-layer-yf     2499      14984  \n",
       "                              none                  2499      14984  \n",
       "                   4          collapse-all-x        2499      14984  \n",
       "                              collapse-layer-f      2499      14984  \n",
       "                              collapse-layer-x      2499      14984  \n",
       "                              collapse-layer-y      2499      14984  \n",
       "                              collapse-layer-yf     2499      14984  \n",
       "                              none                  2499      14984  \n",
       "svr       wl       2          collapse-all-x         820        724  \n",
       "                              collapse-layer-f       820        724  \n",
       "                              collapse-layer-x       765        718  \n",
       "                              collapse-layer-y       765        718  \n",
       "                              collapse-layer-yf      765        718  \n",
       "                              none                   820        724  \n",
       "                   4          collapse-all-x         820        724  \n",
       "                              collapse-layer-f       820        724  \n",
       "                              collapse-layer-x       765        718  \n",
       "                              collapse-layer-y       765        718  \n",
       "                              collapse-layer-yf      765        718  \n",
       "                              none                   820        724  "
      ]
     },
     "metadata": {},
     "output_type": "display_data"
    },
    {
     "name": "stdout",
     "output_type": "stream",
     "text": [
      "n_colours\n"
     ]
    },
    {
     "data": {
      "text/html": [
       "<div>\n",
       "<style scoped>\n",
       "    .dataframe tbody tr th:only-of-type {\n",
       "        vertical-align: middle;\n",
       "    }\n",
       "\n",
       "    .dataframe tbody tr th {\n",
       "        vertical-align: top;\n",
       "    }\n",
       "\n",
       "    .dataframe thead th {\n",
       "        text-align: right;\n",
       "    }\n",
       "</style>\n",
       "<table border=\"1\" class=\"dataframe\">\n",
       "  <thead>\n",
       "    <tr style=\"text-align: right;\">\n",
       "      <th></th>\n",
       "      <th></th>\n",
       "      <th></th>\n",
       "      <th>domain</th>\n",
       "      <th>Blocksworld</th>\n",
       "      <th>Childsnack</th>\n",
       "      <th>Ferry</th>\n",
       "      <th>Floortile</th>\n",
       "      <th>Miconic</th>\n",
       "      <th>Rovers</th>\n",
       "      <th>Satellite</th>\n",
       "      <th>Sokoban</th>\n",
       "      <th>Spanner</th>\n",
       "      <th>Transport</th>\n",
       "    </tr>\n",
       "    <tr>\n",
       "      <th>optimiser</th>\n",
       "      <th>features</th>\n",
       "      <th>iterations</th>\n",
       "      <th>feature_pruning</th>\n",
       "      <th></th>\n",
       "      <th></th>\n",
       "      <th></th>\n",
       "      <th></th>\n",
       "      <th></th>\n",
       "      <th></th>\n",
       "      <th></th>\n",
       "      <th></th>\n",
       "      <th></th>\n",
       "      <th></th>\n",
       "    </tr>\n",
       "  </thead>\n",
       "  <tbody>\n",
       "    <tr>\n",
       "      <th rowspan=\"12\" valign=\"top\">rank-svm</th>\n",
       "      <th rowspan=\"12\" valign=\"top\">wl</th>\n",
       "      <th rowspan=\"6\" valign=\"top\">2</th>\n",
       "      <th>collapse-all-x</th>\n",
       "      <td>282</td>\n",
       "      <td>40</td>\n",
       "      <td>205</td>\n",
       "      <td>1875</td>\n",
       "      <td>20</td>\n",
       "      <td>4726</td>\n",
       "      <td>3610</td>\n",
       "      <td>15</td>\n",
       "      <td>54</td>\n",
       "      <td>362</td>\n",
       "    </tr>\n",
       "    <tr>\n",
       "      <th>collapse-layer-f</th>\n",
       "      <td>278</td>\n",
       "      <td>84</td>\n",
       "      <td>206</td>\n",
       "      <td>385</td>\n",
       "      <td>43</td>\n",
       "      <td>580</td>\n",
       "      <td>670</td>\n",
       "      <td>51</td>\n",
       "      <td>75</td>\n",
       "      <td>209</td>\n",
       "    </tr>\n",
       "    <tr>\n",
       "      <th>collapse-layer-x</th>\n",
       "      <td>41</td>\n",
       "      <td>24</td>\n",
       "      <td>79</td>\n",
       "      <td>428</td>\n",
       "      <td>14</td>\n",
       "      <td>363</td>\n",
       "      <td>292</td>\n",
       "      <td>15</td>\n",
       "      <td>21</td>\n",
       "      <td>78</td>\n",
       "    </tr>\n",
       "    <tr>\n",
       "      <th>collapse-layer-y</th>\n",
       "      <td>41</td>\n",
       "      <td>23</td>\n",
       "      <td>79</td>\n",
       "      <td>428</td>\n",
       "      <td>14</td>\n",
       "      <td>363</td>\n",
       "      <td>292</td>\n",
       "      <td>15</td>\n",
       "      <td>20</td>\n",
       "      <td>78</td>\n",
       "    </tr>\n",
       "    <tr>\n",
       "      <th>collapse-layer-yf</th>\n",
       "      <td>41</td>\n",
       "      <td>23</td>\n",
       "      <td>50</td>\n",
       "      <td>83</td>\n",
       "      <td>13</td>\n",
       "      <td>143</td>\n",
       "      <td>138</td>\n",
       "      <td>15</td>\n",
       "      <td>19</td>\n",
       "      <td>44</td>\n",
       "    </tr>\n",
       "    <tr>\n",
       "      <th>none</th>\n",
       "      <td>358</td>\n",
       "      <td>86</td>\n",
       "      <td>373</td>\n",
       "      <td>2647</td>\n",
       "      <td>47</td>\n",
       "      <td>6729</td>\n",
       "      <td>4265</td>\n",
       "      <td>51</td>\n",
       "      <td>86</td>\n",
       "      <td>465</td>\n",
       "    </tr>\n",
       "    <tr>\n",
       "      <th rowspan=\"6\" valign=\"top\">4</th>\n",
       "      <th>collapse-all-x</th>\n",
       "      <td>8870</td>\n",
       "      <td>95</td>\n",
       "      <td>1902</td>\n",
       "      <td>10716</td>\n",
       "      <td>20</td>\n",
       "      <td>15060</td>\n",
       "      <td>-1</td>\n",
       "      <td>27</td>\n",
       "      <td>159</td>\n",
       "      <td>5542</td>\n",
       "    </tr>\n",
       "    <tr>\n",
       "      <th>collapse-layer-f</th>\n",
       "      <td>1294</td>\n",
       "      <td>223</td>\n",
       "      <td>972</td>\n",
       "      <td>1288</td>\n",
       "      <td>99</td>\n",
       "      <td>1327</td>\n",
       "      <td>1690</td>\n",
       "      <td>114</td>\n",
       "      <td>286</td>\n",
       "      <td>1194</td>\n",
       "    </tr>\n",
       "    <tr>\n",
       "      <th>collapse-layer-x</th>\n",
       "      <td>41</td>\n",
       "      <td>24</td>\n",
       "      <td>79</td>\n",
       "      <td>428</td>\n",
       "      <td>14</td>\n",
       "      <td>363</td>\n",
       "      <td>292</td>\n",
       "      <td>15</td>\n",
       "      <td>21</td>\n",
       "      <td>78</td>\n",
       "    </tr>\n",
       "    <tr>\n",
       "      <th>collapse-layer-y</th>\n",
       "      <td>41</td>\n",
       "      <td>23</td>\n",
       "      <td>79</td>\n",
       "      <td>428</td>\n",
       "      <td>14</td>\n",
       "      <td>363</td>\n",
       "      <td>292</td>\n",
       "      <td>15</td>\n",
       "      <td>20</td>\n",
       "      <td>78</td>\n",
       "    </tr>\n",
       "    <tr>\n",
       "      <th>collapse-layer-yf</th>\n",
       "      <td>41</td>\n",
       "      <td>23</td>\n",
       "      <td>50</td>\n",
       "      <td>83</td>\n",
       "      <td>13</td>\n",
       "      <td>143</td>\n",
       "      <td>138</td>\n",
       "      <td>15</td>\n",
       "      <td>19</td>\n",
       "      <td>44</td>\n",
       "    </tr>\n",
       "    <tr>\n",
       "      <th>none</th>\n",
       "      <td>22836</td>\n",
       "      <td>263</td>\n",
       "      <td>4398</td>\n",
       "      <td>19828</td>\n",
       "      <td>112</td>\n",
       "      <td>-1</td>\n",
       "      <td>-1</td>\n",
       "      <td>118</td>\n",
       "      <td>378</td>\n",
       "      <td>8936</td>\n",
       "    </tr>\n",
       "    <tr>\n",
       "      <th rowspan=\"12\" valign=\"top\">svr</th>\n",
       "      <th rowspan=\"12\" valign=\"top\">wl</th>\n",
       "      <th rowspan=\"6\" valign=\"top\">2</th>\n",
       "      <th>collapse-all-x</th>\n",
       "      <td>272</td>\n",
       "      <td>40</td>\n",
       "      <td>188</td>\n",
       "      <td>897</td>\n",
       "      <td>20</td>\n",
       "      <td>1935</td>\n",
       "      <td>1565</td>\n",
       "      <td>15</td>\n",
       "      <td>52</td>\n",
       "      <td>239</td>\n",
       "    </tr>\n",
       "    <tr>\n",
       "      <th>collapse-layer-f</th>\n",
       "      <td>270</td>\n",
       "      <td>85</td>\n",
       "      <td>213</td>\n",
       "      <td>375</td>\n",
       "      <td>43</td>\n",
       "      <td>528</td>\n",
       "      <td>594</td>\n",
       "      <td>51</td>\n",
       "      <td>77</td>\n",
       "      <td>209</td>\n",
       "    </tr>\n",
       "    <tr>\n",
       "      <th>collapse-layer-x</th>\n",
       "      <td>41</td>\n",
       "      <td>24</td>\n",
       "      <td>73</td>\n",
       "      <td>258</td>\n",
       "      <td>14</td>\n",
       "      <td>279</td>\n",
       "      <td>213</td>\n",
       "      <td>15</td>\n",
       "      <td>21</td>\n",
       "      <td>60</td>\n",
       "    </tr>\n",
       "    <tr>\n",
       "      <th>collapse-layer-y</th>\n",
       "      <td>41</td>\n",
       "      <td>23</td>\n",
       "      <td>73</td>\n",
       "      <td>258</td>\n",
       "      <td>14</td>\n",
       "      <td>279</td>\n",
       "      <td>213</td>\n",
       "      <td>15</td>\n",
       "      <td>20</td>\n",
       "      <td>60</td>\n",
       "    </tr>\n",
       "    <tr>\n",
       "      <th>collapse-layer-yf</th>\n",
       "      <td>40</td>\n",
       "      <td>23</td>\n",
       "      <td>51</td>\n",
       "      <td>79</td>\n",
       "      <td>13</td>\n",
       "      <td>136</td>\n",
       "      <td>124</td>\n",
       "      <td>15</td>\n",
       "      <td>19</td>\n",
       "      <td>45</td>\n",
       "    </tr>\n",
       "    <tr>\n",
       "      <th>none</th>\n",
       "      <td>348</td>\n",
       "      <td>86</td>\n",
       "      <td>346</td>\n",
       "      <td>1318</td>\n",
       "      <td>47</td>\n",
       "      <td>3404</td>\n",
       "      <td>2231</td>\n",
       "      <td>51</td>\n",
       "      <td>85</td>\n",
       "      <td>331</td>\n",
       "    </tr>\n",
       "    <tr>\n",
       "      <th rowspan=\"6\" valign=\"top\">4</th>\n",
       "      <th>collapse-all-x</th>\n",
       "      <td>2685</td>\n",
       "      <td>85</td>\n",
       "      <td>1215</td>\n",
       "      <td>4385</td>\n",
       "      <td>20</td>\n",
       "      <td>3794</td>\n",
       "      <td>4339</td>\n",
       "      <td>22</td>\n",
       "      <td>144</td>\n",
       "      <td>1821</td>\n",
       "    </tr>\n",
       "    <tr>\n",
       "      <th>collapse-layer-f</th>\n",
       "      <td>1318</td>\n",
       "      <td>228</td>\n",
       "      <td>944</td>\n",
       "      <td>1365</td>\n",
       "      <td>99</td>\n",
       "      <td>1188</td>\n",
       "      <td>1513</td>\n",
       "      <td>114</td>\n",
       "      <td>303</td>\n",
       "      <td>1182</td>\n",
       "    </tr>\n",
       "    <tr>\n",
       "      <th>collapse-layer-x</th>\n",
       "      <td>41</td>\n",
       "      <td>24</td>\n",
       "      <td>73</td>\n",
       "      <td>258</td>\n",
       "      <td>14</td>\n",
       "      <td>279</td>\n",
       "      <td>213</td>\n",
       "      <td>15</td>\n",
       "      <td>21</td>\n",
       "      <td>60</td>\n",
       "    </tr>\n",
       "    <tr>\n",
       "      <th>collapse-layer-y</th>\n",
       "      <td>41</td>\n",
       "      <td>23</td>\n",
       "      <td>73</td>\n",
       "      <td>258</td>\n",
       "      <td>14</td>\n",
       "      <td>279</td>\n",
       "      <td>213</td>\n",
       "      <td>15</td>\n",
       "      <td>20</td>\n",
       "      <td>60</td>\n",
       "    </tr>\n",
       "    <tr>\n",
       "      <th>collapse-layer-yf</th>\n",
       "      <td>40</td>\n",
       "      <td>23</td>\n",
       "      <td>51</td>\n",
       "      <td>79</td>\n",
       "      <td>13</td>\n",
       "      <td>136</td>\n",
       "      <td>124</td>\n",
       "      <td>15</td>\n",
       "      <td>19</td>\n",
       "      <td>45</td>\n",
       "    </tr>\n",
       "    <tr>\n",
       "      <th>none</th>\n",
       "      <td>10445</td>\n",
       "      <td>255</td>\n",
       "      <td>3232</td>\n",
       "      <td>7620</td>\n",
       "      <td>112</td>\n",
       "      <td>23206</td>\n",
       "      <td>22159</td>\n",
       "      <td>114</td>\n",
       "      <td>354</td>\n",
       "      <td>3791</td>\n",
       "    </tr>\n",
       "  </tbody>\n",
       "</table>\n",
       "</div>"
      ],
      "text/plain": [
       "domain                                           Blocksworld  Childsnack  \\\n",
       "optimiser features iterations feature_pruning                              \n",
       "rank-svm  wl       2          collapse-all-x             282          40   \n",
       "                              collapse-layer-f           278          84   \n",
       "                              collapse-layer-x            41          24   \n",
       "                              collapse-layer-y            41          23   \n",
       "                              collapse-layer-yf           41          23   \n",
       "                              none                       358          86   \n",
       "                   4          collapse-all-x            8870          95   \n",
       "                              collapse-layer-f          1294         223   \n",
       "                              collapse-layer-x            41          24   \n",
       "                              collapse-layer-y            41          23   \n",
       "                              collapse-layer-yf           41          23   \n",
       "                              none                     22836         263   \n",
       "svr       wl       2          collapse-all-x             272          40   \n",
       "                              collapse-layer-f           270          85   \n",
       "                              collapse-layer-x            41          24   \n",
       "                              collapse-layer-y            41          23   \n",
       "                              collapse-layer-yf           40          23   \n",
       "                              none                       348          86   \n",
       "                   4          collapse-all-x            2685          85   \n",
       "                              collapse-layer-f          1318         228   \n",
       "                              collapse-layer-x            41          24   \n",
       "                              collapse-layer-y            41          23   \n",
       "                              collapse-layer-yf           40          23   \n",
       "                              none                     10445         255   \n",
       "\n",
       "domain                                           Ferry  Floortile  Miconic  \\\n",
       "optimiser features iterations feature_pruning                                \n",
       "rank-svm  wl       2          collapse-all-x       205       1875       20   \n",
       "                              collapse-layer-f     206        385       43   \n",
       "                              collapse-layer-x      79        428       14   \n",
       "                              collapse-layer-y      79        428       14   \n",
       "                              collapse-layer-yf     50         83       13   \n",
       "                              none                 373       2647       47   \n",
       "                   4          collapse-all-x      1902      10716       20   \n",
       "                              collapse-layer-f     972       1288       99   \n",
       "                              collapse-layer-x      79        428       14   \n",
       "                              collapse-layer-y      79        428       14   \n",
       "                              collapse-layer-yf     50         83       13   \n",
       "                              none                4398      19828      112   \n",
       "svr       wl       2          collapse-all-x       188        897       20   \n",
       "                              collapse-layer-f     213        375       43   \n",
       "                              collapse-layer-x      73        258       14   \n",
       "                              collapse-layer-y      73        258       14   \n",
       "                              collapse-layer-yf     51         79       13   \n",
       "                              none                 346       1318       47   \n",
       "                   4          collapse-all-x      1215       4385       20   \n",
       "                              collapse-layer-f     944       1365       99   \n",
       "                              collapse-layer-x      73        258       14   \n",
       "                              collapse-layer-y      73        258       14   \n",
       "                              collapse-layer-yf     51         79       13   \n",
       "                              none                3232       7620      112   \n",
       "\n",
       "domain                                           Rovers  Satellite  Sokoban  \\\n",
       "optimiser features iterations feature_pruning                                 \n",
       "rank-svm  wl       2          collapse-all-x       4726       3610       15   \n",
       "                              collapse-layer-f      580        670       51   \n",
       "                              collapse-layer-x      363        292       15   \n",
       "                              collapse-layer-y      363        292       15   \n",
       "                              collapse-layer-yf     143        138       15   \n",
       "                              none                 6729       4265       51   \n",
       "                   4          collapse-all-x      15060         -1       27   \n",
       "                              collapse-layer-f     1327       1690      114   \n",
       "                              collapse-layer-x      363        292       15   \n",
       "                              collapse-layer-y      363        292       15   \n",
       "                              collapse-layer-yf     143        138       15   \n",
       "                              none                   -1         -1      118   \n",
       "svr       wl       2          collapse-all-x       1935       1565       15   \n",
       "                              collapse-layer-f      528        594       51   \n",
       "                              collapse-layer-x      279        213       15   \n",
       "                              collapse-layer-y      279        213       15   \n",
       "                              collapse-layer-yf     136        124       15   \n",
       "                              none                 3404       2231       51   \n",
       "                   4          collapse-all-x       3794       4339       22   \n",
       "                              collapse-layer-f     1188       1513      114   \n",
       "                              collapse-layer-x      279        213       15   \n",
       "                              collapse-layer-y      279        213       15   \n",
       "                              collapse-layer-yf     136        124       15   \n",
       "                              none                23206      22159      114   \n",
       "\n",
       "domain                                           Spanner  Transport  \n",
       "optimiser features iterations feature_pruning                        \n",
       "rank-svm  wl       2          collapse-all-x          54        362  \n",
       "                              collapse-layer-f        75        209  \n",
       "                              collapse-layer-x        21         78  \n",
       "                              collapse-layer-y        20         78  \n",
       "                              collapse-layer-yf       19         44  \n",
       "                              none                    86        465  \n",
       "                   4          collapse-all-x         159       5542  \n",
       "                              collapse-layer-f       286       1194  \n",
       "                              collapse-layer-x        21         78  \n",
       "                              collapse-layer-y        20         78  \n",
       "                              collapse-layer-yf       19         44  \n",
       "                              none                   378       8936  \n",
       "svr       wl       2          collapse-all-x          52        239  \n",
       "                              collapse-layer-f        77        209  \n",
       "                              collapse-layer-x        21         60  \n",
       "                              collapse-layer-y        20         60  \n",
       "                              collapse-layer-yf       19         45  \n",
       "                              none                    85        331  \n",
       "                   4          collapse-all-x         144       1821  \n",
       "                              collapse-layer-f       303       1182  \n",
       "                              collapse-layer-x        21         60  \n",
       "                              collapse-layer-y        20         60  \n",
       "                              collapse-layer-yf       19         45  \n",
       "                              none                   354       3791  "
      ]
     },
     "metadata": {},
     "output_type": "display_data"
    },
    {
     "name": "stdout",
     "output_type": "stream",
     "text": [
      "mse_loss\n"
     ]
    },
    {
     "data": {
      "text/html": [
       "<div>\n",
       "<style scoped>\n",
       "    .dataframe tbody tr th:only-of-type {\n",
       "        vertical-align: middle;\n",
       "    }\n",
       "\n",
       "    .dataframe tbody tr th {\n",
       "        vertical-align: top;\n",
       "    }\n",
       "\n",
       "    .dataframe thead th {\n",
       "        text-align: right;\n",
       "    }\n",
       "</style>\n",
       "<table border=\"1\" class=\"dataframe\">\n",
       "  <thead>\n",
       "    <tr style=\"text-align: right;\">\n",
       "      <th></th>\n",
       "      <th></th>\n",
       "      <th></th>\n",
       "      <th>domain</th>\n",
       "      <th>Blocksworld</th>\n",
       "      <th>Childsnack</th>\n",
       "      <th>Ferry</th>\n",
       "      <th>Floortile</th>\n",
       "      <th>Miconic</th>\n",
       "      <th>Rovers</th>\n",
       "      <th>Satellite</th>\n",
       "      <th>Sokoban</th>\n",
       "      <th>Spanner</th>\n",
       "      <th>Transport</th>\n",
       "    </tr>\n",
       "    <tr>\n",
       "      <th>optimiser</th>\n",
       "      <th>features</th>\n",
       "      <th>iterations</th>\n",
       "      <th>feature_pruning</th>\n",
       "      <th></th>\n",
       "      <th></th>\n",
       "      <th></th>\n",
       "      <th></th>\n",
       "      <th></th>\n",
       "      <th></th>\n",
       "      <th></th>\n",
       "      <th></th>\n",
       "      <th></th>\n",
       "      <th></th>\n",
       "    </tr>\n",
       "  </thead>\n",
       "  <tbody>\n",
       "    <tr>\n",
       "      <th rowspan=\"12\" valign=\"top\">svr</th>\n",
       "      <th rowspan=\"12\" valign=\"top\">wl</th>\n",
       "      <th rowspan=\"6\" valign=\"top\">2</th>\n",
       "      <th>collapse-all-x</th>\n",
       "      <td>0.524774</td>\n",
       "      <td>0.691605</td>\n",
       "      <td>0.102024</td>\n",
       "      <td>0.992677</td>\n",
       "      <td>0.766491</td>\n",
       "      <td>0.424493</td>\n",
       "      <td>2.693512</td>\n",
       "      <td>69.921202</td>\n",
       "      <td>1.888661</td>\n",
       "      <td>0.704011</td>\n",
       "    </tr>\n",
       "    <tr>\n",
       "      <th>collapse-layer-f</th>\n",
       "      <td>0.585756</td>\n",
       "      <td>0.650693</td>\n",
       "      <td>0.149225</td>\n",
       "      <td>0.900810</td>\n",
       "      <td>0.802517</td>\n",
       "      <td>0.560123</td>\n",
       "      <td>2.030704</td>\n",
       "      <td>86.566183</td>\n",
       "      <td>1.720206</td>\n",
       "      <td>0.779468</td>\n",
       "    </tr>\n",
       "    <tr>\n",
       "      <th>collapse-layer-x</th>\n",
       "      <td>3.961967</td>\n",
       "      <td>0.749930</td>\n",
       "      <td>0.197522</td>\n",
       "      <td>0.775366</td>\n",
       "      <td>0.790884</td>\n",
       "      <td>0.995685</td>\n",
       "      <td>2.950527</td>\n",
       "      <td>69.921202</td>\n",
       "      <td>1.899760</td>\n",
       "      <td>2.051823</td>\n",
       "    </tr>\n",
       "    <tr>\n",
       "      <th>collapse-layer-y</th>\n",
       "      <td>3.961967</td>\n",
       "      <td>0.847257</td>\n",
       "      <td>0.197522</td>\n",
       "      <td>0.775366</td>\n",
       "      <td>0.790884</td>\n",
       "      <td>0.995685</td>\n",
       "      <td>2.950527</td>\n",
       "      <td>69.921202</td>\n",
       "      <td>1.998370</td>\n",
       "      <td>2.051823</td>\n",
       "    </tr>\n",
       "    <tr>\n",
       "      <th>collapse-layer-yf</th>\n",
       "      <td>3.956311</td>\n",
       "      <td>0.847257</td>\n",
       "      <td>0.240270</td>\n",
       "      <td>0.836619</td>\n",
       "      <td>0.770814</td>\n",
       "      <td>1.016461</td>\n",
       "      <td>3.067844</td>\n",
       "      <td>69.921202</td>\n",
       "      <td>2.041146</td>\n",
       "      <td>2.104051</td>\n",
       "    </tr>\n",
       "    <tr>\n",
       "      <th>none</th>\n",
       "      <td>0.500857</td>\n",
       "      <td>0.486102</td>\n",
       "      <td>0.081878</td>\n",
       "      <td>1.165632</td>\n",
       "      <td>0.760220</td>\n",
       "      <td>0.448051</td>\n",
       "      <td>2.623987</td>\n",
       "      <td>86.566183</td>\n",
       "      <td>1.782436</td>\n",
       "      <td>0.718594</td>\n",
       "    </tr>\n",
       "    <tr>\n",
       "      <th rowspan=\"6\" valign=\"top\">4</th>\n",
       "      <th>collapse-all-x</th>\n",
       "      <td>0.000484</td>\n",
       "      <td>0.743322</td>\n",
       "      <td>0.054556</td>\n",
       "      <td>0.648290</td>\n",
       "      <td>0.766491</td>\n",
       "      <td>0.199160</td>\n",
       "      <td>2.726684</td>\n",
       "      <td>54.591906</td>\n",
       "      <td>1.642346</td>\n",
       "      <td>0.085954</td>\n",
       "    </tr>\n",
       "    <tr>\n",
       "      <th>collapse-layer-f</th>\n",
       "      <td>0.194328</td>\n",
       "      <td>0.466169</td>\n",
       "      <td>0.075040</td>\n",
       "      <td>0.865106</td>\n",
       "      <td>0.756538</td>\n",
       "      <td>0.456068</td>\n",
       "      <td>2.075387</td>\n",
       "      <td>50.210058</td>\n",
       "      <td>1.670705</td>\n",
       "      <td>0.169124</td>\n",
       "    </tr>\n",
       "    <tr>\n",
       "      <th>collapse-layer-x</th>\n",
       "      <td>3.961967</td>\n",
       "      <td>0.749930</td>\n",
       "      <td>0.197522</td>\n",
       "      <td>0.775366</td>\n",
       "      <td>0.790884</td>\n",
       "      <td>0.995685</td>\n",
       "      <td>2.950527</td>\n",
       "      <td>69.921202</td>\n",
       "      <td>1.899760</td>\n",
       "      <td>2.051823</td>\n",
       "    </tr>\n",
       "    <tr>\n",
       "      <th>collapse-layer-y</th>\n",
       "      <td>3.961967</td>\n",
       "      <td>0.847257</td>\n",
       "      <td>0.197522</td>\n",
       "      <td>0.775366</td>\n",
       "      <td>0.790884</td>\n",
       "      <td>0.995685</td>\n",
       "      <td>2.950527</td>\n",
       "      <td>69.921202</td>\n",
       "      <td>1.998370</td>\n",
       "      <td>2.051823</td>\n",
       "    </tr>\n",
       "    <tr>\n",
       "      <th>collapse-layer-yf</th>\n",
       "      <td>3.956311</td>\n",
       "      <td>0.847257</td>\n",
       "      <td>0.240270</td>\n",
       "      <td>0.836619</td>\n",
       "      <td>0.770814</td>\n",
       "      <td>1.016461</td>\n",
       "      <td>3.067844</td>\n",
       "      <td>69.921202</td>\n",
       "      <td>2.041146</td>\n",
       "      <td>2.104051</td>\n",
       "    </tr>\n",
       "    <tr>\n",
       "      <th>none</th>\n",
       "      <td>0.004913</td>\n",
       "      <td>0.520843</td>\n",
       "      <td>0.046121</td>\n",
       "      <td>0.599032</td>\n",
       "      <td>0.765921</td>\n",
       "      <td>0.207600</td>\n",
       "      <td>2.684553</td>\n",
       "      <td>50.210058</td>\n",
       "      <td>1.634928</td>\n",
       "      <td>0.084015</td>\n",
       "    </tr>\n",
       "  </tbody>\n",
       "</table>\n",
       "</div>"
      ],
      "text/plain": [
       "domain                                           Blocksworld  Childsnack  \\\n",
       "optimiser features iterations feature_pruning                              \n",
       "svr       wl       2          collapse-all-x        0.524774    0.691605   \n",
       "                              collapse-layer-f      0.585756    0.650693   \n",
       "                              collapse-layer-x      3.961967    0.749930   \n",
       "                              collapse-layer-y      3.961967    0.847257   \n",
       "                              collapse-layer-yf     3.956311    0.847257   \n",
       "                              none                  0.500857    0.486102   \n",
       "                   4          collapse-all-x        0.000484    0.743322   \n",
       "                              collapse-layer-f      0.194328    0.466169   \n",
       "                              collapse-layer-x      3.961967    0.749930   \n",
       "                              collapse-layer-y      3.961967    0.847257   \n",
       "                              collapse-layer-yf     3.956311    0.847257   \n",
       "                              none                  0.004913    0.520843   \n",
       "\n",
       "domain                                              Ferry  Floortile  \\\n",
       "optimiser features iterations feature_pruning                          \n",
       "svr       wl       2          collapse-all-x     0.102024   0.992677   \n",
       "                              collapse-layer-f   0.149225   0.900810   \n",
       "                              collapse-layer-x   0.197522   0.775366   \n",
       "                              collapse-layer-y   0.197522   0.775366   \n",
       "                              collapse-layer-yf  0.240270   0.836619   \n",
       "                              none               0.081878   1.165632   \n",
       "                   4          collapse-all-x     0.054556   0.648290   \n",
       "                              collapse-layer-f   0.075040   0.865106   \n",
       "                              collapse-layer-x   0.197522   0.775366   \n",
       "                              collapse-layer-y   0.197522   0.775366   \n",
       "                              collapse-layer-yf  0.240270   0.836619   \n",
       "                              none               0.046121   0.599032   \n",
       "\n",
       "domain                                            Miconic    Rovers  \\\n",
       "optimiser features iterations feature_pruning                         \n",
       "svr       wl       2          collapse-all-x     0.766491  0.424493   \n",
       "                              collapse-layer-f   0.802517  0.560123   \n",
       "                              collapse-layer-x   0.790884  0.995685   \n",
       "                              collapse-layer-y   0.790884  0.995685   \n",
       "                              collapse-layer-yf  0.770814  1.016461   \n",
       "                              none               0.760220  0.448051   \n",
       "                   4          collapse-all-x     0.766491  0.199160   \n",
       "                              collapse-layer-f   0.756538  0.456068   \n",
       "                              collapse-layer-x   0.790884  0.995685   \n",
       "                              collapse-layer-y   0.790884  0.995685   \n",
       "                              collapse-layer-yf  0.770814  1.016461   \n",
       "                              none               0.765921  0.207600   \n",
       "\n",
       "domain                                           Satellite    Sokoban  \\\n",
       "optimiser features iterations feature_pruning                           \n",
       "svr       wl       2          collapse-all-x      2.693512  69.921202   \n",
       "                              collapse-layer-f    2.030704  86.566183   \n",
       "                              collapse-layer-x    2.950527  69.921202   \n",
       "                              collapse-layer-y    2.950527  69.921202   \n",
       "                              collapse-layer-yf   3.067844  69.921202   \n",
       "                              none                2.623987  86.566183   \n",
       "                   4          collapse-all-x      2.726684  54.591906   \n",
       "                              collapse-layer-f    2.075387  50.210058   \n",
       "                              collapse-layer-x    2.950527  69.921202   \n",
       "                              collapse-layer-y    2.950527  69.921202   \n",
       "                              collapse-layer-yf   3.067844  69.921202   \n",
       "                              none                2.684553  50.210058   \n",
       "\n",
       "domain                                            Spanner  Transport  \n",
       "optimiser features iterations feature_pruning                         \n",
       "svr       wl       2          collapse-all-x     1.888661   0.704011  \n",
       "                              collapse-layer-f   1.720206   0.779468  \n",
       "                              collapse-layer-x   1.899760   2.051823  \n",
       "                              collapse-layer-y   1.998370   2.051823  \n",
       "                              collapse-layer-yf  2.041146   2.104051  \n",
       "                              none               1.782436   0.718594  \n",
       "                   4          collapse-all-x     1.642346   0.085954  \n",
       "                              collapse-layer-f   1.670705   0.169124  \n",
       "                              collapse-layer-x   1.899760   2.051823  \n",
       "                              collapse-layer-y   1.998370   2.051823  \n",
       "                              collapse-layer-yf  2.041146   2.104051  \n",
       "                              none               1.634928   0.084015  "
      ]
     },
     "metadata": {},
     "output_type": "display_data"
    },
    {
     "name": "stdout",
     "output_type": "stream",
     "text": [
      "mean_accuracy\n"
     ]
    },
    {
     "data": {
      "text/html": [
       "<div>\n",
       "<style scoped>\n",
       "    .dataframe tbody tr th:only-of-type {\n",
       "        vertical-align: middle;\n",
       "    }\n",
       "\n",
       "    .dataframe tbody tr th {\n",
       "        vertical-align: top;\n",
       "    }\n",
       "\n",
       "    .dataframe thead th {\n",
       "        text-align: right;\n",
       "    }\n",
       "</style>\n",
       "<table border=\"1\" class=\"dataframe\">\n",
       "  <thead>\n",
       "    <tr style=\"text-align: right;\">\n",
       "      <th></th>\n",
       "      <th></th>\n",
       "      <th></th>\n",
       "      <th>domain</th>\n",
       "      <th>Blocksworld</th>\n",
       "      <th>Childsnack</th>\n",
       "      <th>Ferry</th>\n",
       "      <th>Floortile</th>\n",
       "      <th>Miconic</th>\n",
       "      <th>Rovers</th>\n",
       "      <th>Satellite</th>\n",
       "      <th>Sokoban</th>\n",
       "      <th>Spanner</th>\n",
       "      <th>Transport</th>\n",
       "    </tr>\n",
       "    <tr>\n",
       "      <th>optimiser</th>\n",
       "      <th>features</th>\n",
       "      <th>iterations</th>\n",
       "      <th>feature_pruning</th>\n",
       "      <th></th>\n",
       "      <th></th>\n",
       "      <th></th>\n",
       "      <th></th>\n",
       "      <th></th>\n",
       "      <th></th>\n",
       "      <th></th>\n",
       "      <th></th>\n",
       "      <th></th>\n",
       "      <th></th>\n",
       "    </tr>\n",
       "  </thead>\n",
       "  <tbody>\n",
       "    <tr>\n",
       "      <th rowspan=\"12\" valign=\"top\">rank-svm</th>\n",
       "      <th rowspan=\"12\" valign=\"top\">wl</th>\n",
       "      <th rowspan=\"6\" valign=\"top\">2</th>\n",
       "      <th>collapse-all-x</th>\n",
       "      <td>0.984870</td>\n",
       "      <td>0.790386</td>\n",
       "      <td>0.989798</td>\n",
       "      <td>0.777059</td>\n",
       "      <td>0.889933</td>\n",
       "      <td>0.969145</td>\n",
       "      <td>0.992549</td>\n",
       "      <td>0.539203</td>\n",
       "      <td>0.613286</td>\n",
       "      <td>0.966312</td>\n",
       "    </tr>\n",
       "    <tr>\n",
       "      <th>collapse-layer-f</th>\n",
       "      <td>0.985650</td>\n",
       "      <td>0.790792</td>\n",
       "      <td>0.989717</td>\n",
       "      <td>0.731422</td>\n",
       "      <td>0.890111</td>\n",
       "      <td>0.942115</td>\n",
       "      <td>0.988746</td>\n",
       "      <td>0.533943</td>\n",
       "      <td>0.608837</td>\n",
       "      <td>0.963300</td>\n",
       "    </tr>\n",
       "    <tr>\n",
       "      <th>collapse-layer-x</th>\n",
       "      <td>0.899860</td>\n",
       "      <td>0.788054</td>\n",
       "      <td>0.920330</td>\n",
       "      <td>0.741503</td>\n",
       "      <td>0.891046</td>\n",
       "      <td>0.935435</td>\n",
       "      <td>0.974187</td>\n",
       "      <td>0.542836</td>\n",
       "      <td>0.609727</td>\n",
       "      <td>0.922678</td>\n",
       "    </tr>\n",
       "    <tr>\n",
       "      <th>collapse-layer-y</th>\n",
       "      <td>0.899860</td>\n",
       "      <td>0.786736</td>\n",
       "      <td>0.920330</td>\n",
       "      <td>0.741503</td>\n",
       "      <td>0.891046</td>\n",
       "      <td>0.935435</td>\n",
       "      <td>0.974187</td>\n",
       "      <td>0.542710</td>\n",
       "      <td>0.608541</td>\n",
       "      <td>0.922678</td>\n",
       "    </tr>\n",
       "    <tr>\n",
       "      <th>collapse-layer-yf</th>\n",
       "      <td>0.899860</td>\n",
       "      <td>0.786736</td>\n",
       "      <td>0.920897</td>\n",
       "      <td>0.718922</td>\n",
       "      <td>0.890645</td>\n",
       "      <td>0.929264</td>\n",
       "      <td>0.972176</td>\n",
       "      <td>0.542710</td>\n",
       "      <td>0.610617</td>\n",
       "      <td>0.918266</td>\n",
       "    </tr>\n",
       "    <tr>\n",
       "      <th>none</th>\n",
       "      <td>0.985338</td>\n",
       "      <td>0.787750</td>\n",
       "      <td>0.990203</td>\n",
       "      <td>0.776173</td>\n",
       "      <td>0.889888</td>\n",
       "      <td>0.969808</td>\n",
       "      <td>0.992518</td>\n",
       "      <td>0.533943</td>\n",
       "      <td>0.609727</td>\n",
       "      <td>0.966382</td>\n",
       "    </tr>\n",
       "    <tr>\n",
       "      <th rowspan=\"6\" valign=\"top\">4</th>\n",
       "      <th>collapse-all-x</th>\n",
       "      <td>0.999532</td>\n",
       "      <td>0.791299</td>\n",
       "      <td>0.995709</td>\n",
       "      <td>0.818030</td>\n",
       "      <td>0.889933</td>\n",
       "      <td>0.975367</td>\n",
       "      <td>-1.000000</td>\n",
       "      <td>0.534444</td>\n",
       "      <td>0.615955</td>\n",
       "      <td>0.994327</td>\n",
       "    </tr>\n",
       "    <tr>\n",
       "      <th>collapse-layer-f</th>\n",
       "      <td>0.995321</td>\n",
       "      <td>0.788054</td>\n",
       "      <td>0.994251</td>\n",
       "      <td>0.745828</td>\n",
       "      <td>0.890111</td>\n",
       "      <td>0.945175</td>\n",
       "      <td>0.990554</td>\n",
       "      <td>0.539203</td>\n",
       "      <td>0.611803</td>\n",
       "      <td>0.989845</td>\n",
       "    </tr>\n",
       "    <tr>\n",
       "      <th>collapse-layer-x</th>\n",
       "      <td>0.899860</td>\n",
       "      <td>0.788054</td>\n",
       "      <td>0.920330</td>\n",
       "      <td>0.741503</td>\n",
       "      <td>0.891046</td>\n",
       "      <td>0.935435</td>\n",
       "      <td>0.974187</td>\n",
       "      <td>0.542836</td>\n",
       "      <td>0.609727</td>\n",
       "      <td>0.922678</td>\n",
       "    </tr>\n",
       "    <tr>\n",
       "      <th>collapse-layer-y</th>\n",
       "      <td>0.899860</td>\n",
       "      <td>0.786736</td>\n",
       "      <td>0.920330</td>\n",
       "      <td>0.741503</td>\n",
       "      <td>0.891046</td>\n",
       "      <td>0.935435</td>\n",
       "      <td>0.974187</td>\n",
       "      <td>0.542710</td>\n",
       "      <td>0.608541</td>\n",
       "      <td>0.922678</td>\n",
       "    </tr>\n",
       "    <tr>\n",
       "      <th>collapse-layer-yf</th>\n",
       "      <td>0.899860</td>\n",
       "      <td>0.786736</td>\n",
       "      <td>0.920897</td>\n",
       "      <td>0.718922</td>\n",
       "      <td>0.890645</td>\n",
       "      <td>0.929264</td>\n",
       "      <td>0.972176</td>\n",
       "      <td>0.542710</td>\n",
       "      <td>0.610617</td>\n",
       "      <td>0.918266</td>\n",
       "    </tr>\n",
       "    <tr>\n",
       "      <th>none</th>\n",
       "      <td>0.999376</td>\n",
       "      <td>0.788257</td>\n",
       "      <td>0.996357</td>\n",
       "      <td>0.821538</td>\n",
       "      <td>0.889888</td>\n",
       "      <td>-1.000000</td>\n",
       "      <td>-1.000000</td>\n",
       "      <td>0.538702</td>\n",
       "      <td>0.616251</td>\n",
       "      <td>0.994677</td>\n",
       "    </tr>\n",
       "  </tbody>\n",
       "</table>\n",
       "</div>"
      ],
      "text/plain": [
       "domain                                           Blocksworld  Childsnack  \\\n",
       "optimiser features iterations feature_pruning                              \n",
       "rank-svm  wl       2          collapse-all-x        0.984870    0.790386   \n",
       "                              collapse-layer-f      0.985650    0.790792   \n",
       "                              collapse-layer-x      0.899860    0.788054   \n",
       "                              collapse-layer-y      0.899860    0.786736   \n",
       "                              collapse-layer-yf     0.899860    0.786736   \n",
       "                              none                  0.985338    0.787750   \n",
       "                   4          collapse-all-x        0.999532    0.791299   \n",
       "                              collapse-layer-f      0.995321    0.788054   \n",
       "                              collapse-layer-x      0.899860    0.788054   \n",
       "                              collapse-layer-y      0.899860    0.786736   \n",
       "                              collapse-layer-yf     0.899860    0.786736   \n",
       "                              none                  0.999376    0.788257   \n",
       "\n",
       "domain                                              Ferry  Floortile  \\\n",
       "optimiser features iterations feature_pruning                          \n",
       "rank-svm  wl       2          collapse-all-x     0.989798   0.777059   \n",
       "                              collapse-layer-f   0.989717   0.731422   \n",
       "                              collapse-layer-x   0.920330   0.741503   \n",
       "                              collapse-layer-y   0.920330   0.741503   \n",
       "                              collapse-layer-yf  0.920897   0.718922   \n",
       "                              none               0.990203   0.776173   \n",
       "                   4          collapse-all-x     0.995709   0.818030   \n",
       "                              collapse-layer-f   0.994251   0.745828   \n",
       "                              collapse-layer-x   0.920330   0.741503   \n",
       "                              collapse-layer-y   0.920330   0.741503   \n",
       "                              collapse-layer-yf  0.920897   0.718922   \n",
       "                              none               0.996357   0.821538   \n",
       "\n",
       "domain                                            Miconic    Rovers  \\\n",
       "optimiser features iterations feature_pruning                         \n",
       "rank-svm  wl       2          collapse-all-x     0.889933  0.969145   \n",
       "                              collapse-layer-f   0.890111  0.942115   \n",
       "                              collapse-layer-x   0.891046  0.935435   \n",
       "                              collapse-layer-y   0.891046  0.935435   \n",
       "                              collapse-layer-yf  0.890645  0.929264   \n",
       "                              none               0.889888  0.969808   \n",
       "                   4          collapse-all-x     0.889933  0.975367   \n",
       "                              collapse-layer-f   0.890111  0.945175   \n",
       "                              collapse-layer-x   0.891046  0.935435   \n",
       "                              collapse-layer-y   0.891046  0.935435   \n",
       "                              collapse-layer-yf  0.890645  0.929264   \n",
       "                              none               0.889888 -1.000000   \n",
       "\n",
       "domain                                           Satellite   Sokoban  \\\n",
       "optimiser features iterations feature_pruning                          \n",
       "rank-svm  wl       2          collapse-all-x      0.992549  0.539203   \n",
       "                              collapse-layer-f    0.988746  0.533943   \n",
       "                              collapse-layer-x    0.974187  0.542836   \n",
       "                              collapse-layer-y    0.974187  0.542710   \n",
       "                              collapse-layer-yf   0.972176  0.542710   \n",
       "                              none                0.992518  0.533943   \n",
       "                   4          collapse-all-x     -1.000000  0.534444   \n",
       "                              collapse-layer-f    0.990554  0.539203   \n",
       "                              collapse-layer-x    0.974187  0.542836   \n",
       "                              collapse-layer-y    0.974187  0.542710   \n",
       "                              collapse-layer-yf   0.972176  0.542710   \n",
       "                              none               -1.000000  0.538702   \n",
       "\n",
       "domain                                            Spanner  Transport  \n",
       "optimiser features iterations feature_pruning                         \n",
       "rank-svm  wl       2          collapse-all-x     0.613286   0.966312  \n",
       "                              collapse-layer-f   0.608837   0.963300  \n",
       "                              collapse-layer-x   0.609727   0.922678  \n",
       "                              collapse-layer-y   0.608541   0.922678  \n",
       "                              collapse-layer-yf  0.610617   0.918266  \n",
       "                              none               0.609727   0.966382  \n",
       "                   4          collapse-all-x     0.615955   0.994327  \n",
       "                              collapse-layer-f   0.611803   0.989845  \n",
       "                              collapse-layer-x   0.609727   0.922678  \n",
       "                              collapse-layer-y   0.608541   0.922678  \n",
       "                              collapse-layer-yf  0.610617   0.918266  \n",
       "                              none               0.616251   0.994677  "
      ]
     },
     "metadata": {},
     "output_type": "display_data"
    }
   ],
   "source": [
    "for metric in [\n",
    "    \"n_data\",\n",
    "    \"n_colours\",\n",
    "    \"mse_loss\",\n",
    "    \"mean_accuracy\",\n",
    "    # \"f1_macro\",\n",
    "]:\n",
    "    print(metric)\n",
    "    df = get_df()\n",
    "    Models = {\"svr\"}\n",
    "    if metric in {\"n_colours\", \"n_data\"}:\n",
    "        Models.add(\"rank-svm\")\n",
    "    elif metric in {\"mean_accuracy\"}:\n",
    "        Models.add(\"rank-svm\")\n",
    "        Models.remove(\"svr\")\n",
    "    df = df[df[\"optimiser\"].isin(Models)]\n",
    "    # combine rows with same pruning, optimiser and iterations\n",
    "    df = df.groupby(COLUMNS + [\"domain\"]).max().reset_index()\n",
    "    df = df[COLUMNS + [\"domain\", metric]]\n",
    "    # pivot table\n",
    "    df = df.pivot_table(index=COLUMNS, values=metric, columns=\"domain\")\n",
    "    # make entries int2\n",
    "    if metric in {\"n_colours\", \"n_data\"}:\n",
    "        df = df.fillna(0)\n",
    "        df = df.astype(int)\n",
    "    # display(df)\n",
    "    # display df without hiding rows\n",
    "    with pd.option_context(\"display.max_rows\", None):\n",
    "        display(df)"
   ]
  },
  {
   "cell_type": "code",
   "execution_count": null,
   "metadata": {},
   "outputs": [],
   "source": []
  }
 ],
 "metadata": {
  "kernelspec": {
   "display_name": "visualisation",
   "language": "python",
   "name": "python3"
  },
  "language_info": {
   "codemirror_mode": {
    "name": "ipython",
    "version": 3
   },
   "file_extension": ".py",
   "mimetype": "text/x-python",
   "name": "python",
   "nbconvert_exporter": "python",
   "pygments_lexer": "ipython3",
   "version": "3.12.7"
  }
 },
 "nbformat": 4,
 "nbformat_minor": 2
}

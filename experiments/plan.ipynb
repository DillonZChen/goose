{
 "cells": [
  {
   "cell_type": "code",
   "execution_count": 1,
   "metadata": {},
   "outputs": [],
   "source": [
    "from data.helper import *"
   ]
  },
  {
   "cell_type": "code",
   "execution_count": 2,
   "metadata": {},
   "outputs": [
    {
     "name": "stderr",
     "output_type": "stream",
     "text": [
      "100%|██████████| 4800/4800 [00:00<00:00, 7543.77it/s]\n"
     ]
    },
    {
     "name": "stdout",
     "output_type": "stream",
     "text": [
      "Error parsing /home/dzc/code/work/goose/experiments/_log_plan/pfcalcul/spanner_wl_none_equivalent-weighted_rank-svm_plan_fd_2_0_09_0.log: 'NoneType' object has no attribute 'group'\n"
     ]
    }
   ],
   "source": [
    "DF = get_plan_df(\"pfcalcul\")"
   ]
  },
  {
   "cell_type": "code",
   "execution_count": 3,
   "metadata": {},
   "outputs": [
    {
     "name": "stdout",
     "output_type": "stream",
     "text": [
      "solved\n"
     ]
    },
    {
     "data": {
      "text/html": [
       "<div>\n",
       "<style scoped>\n",
       "    .dataframe tbody tr th:only-of-type {\n",
       "        vertical-align: middle;\n",
       "    }\n",
       "\n",
       "    .dataframe tbody tr th {\n",
       "        vertical-align: top;\n",
       "    }\n",
       "\n",
       "    .dataframe thead th {\n",
       "        text-align: right;\n",
       "    }\n",
       "</style>\n",
       "<table border=\"1\" class=\"dataframe\">\n",
       "  <thead>\n",
       "    <tr style=\"text-align: right;\">\n",
       "      <th></th>\n",
       "      <th></th>\n",
       "      <th></th>\n",
       "      <th></th>\n",
       "      <th>domain</th>\n",
       "      <th>total</th>\n",
       "    </tr>\n",
       "    <tr>\n",
       "      <th>facts</th>\n",
       "      <th>optimiser</th>\n",
       "      <th>features</th>\n",
       "      <th>iterations</th>\n",
       "      <th>feature_pruning</th>\n",
       "      <th></th>\n",
       "    </tr>\n",
       "  </thead>\n",
       "  <tbody>\n",
       "  </tbody>\n",
       "</table>\n",
       "</div>"
      ],
      "text/plain": [
       "Empty DataFrame\n",
       "Columns: [total]\n",
       "Index: []"
      ]
     },
     "metadata": {},
     "output_type": "display_data"
    }
   ],
   "source": [
    "COLUMNS = [\n",
    "    \"facts\",\n",
    "    \"optimiser\",\n",
    "    \"features\",\n",
    "    \"iterations\",\n",
    "    \"feature_pruning\",\n",
    "    # \"data_pruning\",\n",
    "]\n",
    "\n",
    "def get_df_copy():\n",
    "    df = DF.copy()\n",
    "    # df = df[df.optimiser == \"svr\"]\n",
    "    # df = df[df.iterations == \"4\"]\n",
    "    df = df[df.facts == \"fd\"]\n",
    "    df = df[df.features == \"wl\"]\n",
    "    df = df[df.data_pruning == \"none\"]\n",
    "    # df = df[df.feature_pruning == \"none\"]\n",
    "    return df\n",
    "\n",
    "for metric in [\n",
    "    # \"tried\",\n",
    "    \"solved\",\n",
    "]:\n",
    "    print(metric)\n",
    "    df = get_df_copy()\n",
    "    # combine rows with same pruning, optimiser and iterations, and sum the solved, with sum values made into int\n",
    "    df = df.groupby(COLUMNS + [\"domain\"]).sum().reset_index()\n",
    "    df = df[COLUMNS + [\"domain\", metric]]\n",
    "    # pivot table\n",
    "    df = df.pivot_table(index=COLUMNS, columns=\"domain\", values=metric)\n",
    "    # add a column that sums all integer entries per row\n",
    "    df[\"total\"] = df.sum(axis=1)\n",
    "    # make entries int\n",
    "    df = df.astype(int)\n",
    "    # df = df.fillna(0)\n",
    "    # replace 0 with NaN\n",
    "    df = df.replace(0, -1)\n",
    "    # display df without hiding rows\n",
    "    with pd.option_context(\"display.max_rows\", None):\n",
    "        display(df)"
   ]
  },
  {
   "cell_type": "code",
   "execution_count": 4,
   "metadata": {},
   "outputs": [],
   "source": [
    "for metric in [\"expanded\", \"runtime\", \"plan_length\"]:\n",
    "    htmls = \"\"\n",
    "    for domain in DOMAINS:\n",
    "        df = get_df_copy()\n",
    "        df = df[df.domain == domain]\n",
    "        # replace -1 values with Nan\n",
    "        df = df.replace(-1, np.nan)\n",
    "        # print(len(df))\n",
    "        df[\"config\"] = df[\"features\"] + \" - \" + df[\"iterations\"] + \" - \" + df[\"optimiser\"]\n",
    "        fig = px.line(\n",
    "            df,\n",
    "            x=\"problem\",\n",
    "            y=metric,\n",
    "            color=\"config\",\n",
    "            symbol=\"facts\",\n",
    "            line_dash=\"facts\",\n",
    "            title=f\"{domain} {metric}\",\n",
    "            width=800,\n",
    "            height=600,\n",
    "            log_y=True,\n",
    "            markers=True,\n",
    "        )\n",
    "        htmls += fig.to_html()\n",
    "    with open(f\"{PLOT_DIR}/{metric}.html\", \"w\") as f:\n",
    "        f.write(htmls)"
   ]
  },
  {
   "cell_type": "code",
   "execution_count": null,
   "metadata": {},
   "outputs": [],
   "source": []
  }
 ],
 "metadata": {
  "kernelspec": {
   "display_name": "visualisation",
   "language": "python",
   "name": "python3"
  },
  "language_info": {
   "codemirror_mode": {
    "name": "ipython",
    "version": 3
   },
   "file_extension": ".py",
   "mimetype": "text/x-python",
   "name": "python",
   "nbconvert_exporter": "python",
   "pygments_lexer": "ipython3",
   "version": "3.12.7"
  }
 },
 "nbformat": 4,
 "nbformat_minor": 2
}
